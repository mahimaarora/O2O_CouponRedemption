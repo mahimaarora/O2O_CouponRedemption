{
 "cells": [
  {
   "cell_type": "markdown",
   "metadata": {},
   "source": [
    "### Background\n",
    "As smart phone penetration reaches the hundreds of millions mark, O2O (Online to Offline) requires businesses to have a strong presence both offline and online. APPs with O2O capabilities accumulate daily consumer behaviour and location data that require big data and commercial operations management. The competition at hand focuses on coupon redemption rates. Sending coupons is a general O2O marketing tool used to activate existing customers and attract new ones. While customers are happy to receive coupons that they want, they are frustrated when receiving coupons that they do not need. For merchants, sending unwanted coupons may erode brand equity and hinder marketing expense forecasting. Targeted marketing is an important technology to increase the coupon redemption rate, providing relevant discounts to customers and effective marketing tools to businesses. The competition provides participants with abundant O2O data in this field and expects contestants to predict whether the customer will use the coupon within a specified time frame.\n",
    "### Data\n",
    "This competition provides real online and offline user consumption data from January 1, 2016 to June 15, 2016. The contestants are expected to predict the probability of customers redeeming a coupon within 15 days of receiving it.\n",
    "Note: To protect the privacy of users and merchants, data is desensitized and under biased sampling.\n",
    "### Evaluation\n",
    "The results are evaluated based on the average AUC value. That is, the AUC value is calculated for every coupon_id. The average of each AUC value is the evaluation score. More information on AUC value calculation method on wikipedia.\n"
   ]
  },
  {
   "cell_type": "code",
   "execution_count": 1,
   "metadata": {},
   "outputs": [],
   "source": [
    "import time\n",
    "now = time.time()"
   ]
  },
  {
   "cell_type": "code",
   "execution_count": 2,
   "metadata": {},
   "outputs": [],
   "source": [
    "%matplotlib inline\n",
    "import pandas as pd\n",
    "import numpy as np\n",
    "import matplotlib.pyplot as plt\n",
    "import seaborn as sns\n",
    "import math\n",
    "import re\n",
    "from datetime import datetime\n",
    "from ast import literal_eval\n",
    "\n",
    "import warnings\n",
    "warnings.filterwarnings(\"ignore\")"
   ]
  },
  {
   "cell_type": "markdown",
   "metadata": {},
   "source": [
    "### Online and Offline Training data"
   ]
  },
  {
   "cell_type": "code",
   "execution_count": 3,
   "metadata": {},
   "outputs": [],
   "source": [
    "df_on = pd.read_csv('DataSets/ccf_online_stage1_train.csv')\n",
    "df_off = pd.read_csv('DataSets/ccf_offline_stage1_train.csv')"
   ]
  },
  {
   "cell_type": "code",
   "execution_count": 4,
   "metadata": {},
   "outputs": [
    {
     "name": "stdout",
     "output_type": "stream",
     "text": [
      "Online Training Data Sample\n",
      "Shape:(11429826, 7)\n"
     ]
    },
    {
     "data": {
      "text/html": [
       "<div>\n",
       "<style scoped>\n",
       "    .dataframe tbody tr th:only-of-type {\n",
       "        vertical-align: middle;\n",
       "    }\n",
       "\n",
       "    .dataframe tbody tr th {\n",
       "        vertical-align: top;\n",
       "    }\n",
       "\n",
       "    .dataframe thead th {\n",
       "        text-align: right;\n",
       "    }\n",
       "</style>\n",
       "<table border=\"1\" class=\"dataframe\">\n",
       "  <thead>\n",
       "    <tr style=\"text-align: right;\">\n",
       "      <th></th>\n",
       "      <th>User_id</th>\n",
       "      <th>Merchant_id</th>\n",
       "      <th>Action</th>\n",
       "      <th>Coupon_id</th>\n",
       "      <th>Discount_rate</th>\n",
       "      <th>Date_received</th>\n",
       "      <th>Date</th>\n",
       "    </tr>\n",
       "  </thead>\n",
       "  <tbody>\n",
       "    <tr>\n",
       "      <td>0</td>\n",
       "      <td>13740231</td>\n",
       "      <td>18907</td>\n",
       "      <td>2</td>\n",
       "      <td>100017492</td>\n",
       "      <td>500:50</td>\n",
       "      <td>20160513.0</td>\n",
       "      <td>NaN</td>\n",
       "    </tr>\n",
       "    <tr>\n",
       "      <td>1</td>\n",
       "      <td>13740231</td>\n",
       "      <td>34805</td>\n",
       "      <td>1</td>\n",
       "      <td>NaN</td>\n",
       "      <td>NaN</td>\n",
       "      <td>NaN</td>\n",
       "      <td>20160321.0</td>\n",
       "    </tr>\n",
       "    <tr>\n",
       "      <td>2</td>\n",
       "      <td>14336199</td>\n",
       "      <td>18907</td>\n",
       "      <td>0</td>\n",
       "      <td>NaN</td>\n",
       "      <td>NaN</td>\n",
       "      <td>NaN</td>\n",
       "      <td>20160618.0</td>\n",
       "    </tr>\n",
       "    <tr>\n",
       "      <td>3</td>\n",
       "      <td>14336199</td>\n",
       "      <td>18907</td>\n",
       "      <td>0</td>\n",
       "      <td>NaN</td>\n",
       "      <td>NaN</td>\n",
       "      <td>NaN</td>\n",
       "      <td>20160618.0</td>\n",
       "    </tr>\n",
       "    <tr>\n",
       "      <td>4</td>\n",
       "      <td>14336199</td>\n",
       "      <td>18907</td>\n",
       "      <td>0</td>\n",
       "      <td>NaN</td>\n",
       "      <td>NaN</td>\n",
       "      <td>NaN</td>\n",
       "      <td>20160618.0</td>\n",
       "    </tr>\n",
       "  </tbody>\n",
       "</table>\n",
       "</div>"
      ],
      "text/plain": [
       "    User_id  Merchant_id  Action  Coupon_id Discount_rate  Date_received  \\\n",
       "0  13740231        18907       2  100017492        500:50     20160513.0   \n",
       "1  13740231        34805       1        NaN           NaN            NaN   \n",
       "2  14336199        18907       0        NaN           NaN            NaN   \n",
       "3  14336199        18907       0        NaN           NaN            NaN   \n",
       "4  14336199        18907       0        NaN           NaN            NaN   \n",
       "\n",
       "         Date  \n",
       "0         NaN  \n",
       "1  20160321.0  \n",
       "2  20160618.0  \n",
       "3  20160618.0  \n",
       "4  20160618.0  "
      ]
     },
     "execution_count": 4,
     "metadata": {},
     "output_type": "execute_result"
    }
   ],
   "source": [
    "print(\"Online Training Data Sample\\nShape:\"+str(df_on.shape))\n",
    "df_on.head()"
   ]
  },
  {
   "cell_type": "code",
   "execution_count": 5,
   "metadata": {},
   "outputs": [
    {
     "name": "stdout",
     "output_type": "stream",
     "text": [
      "Offline Training Data Sample\n",
      "Shape:(1754884, 7)\n"
     ]
    },
    {
     "data": {
      "text/html": [
       "<div>\n",
       "<style scoped>\n",
       "    .dataframe tbody tr th:only-of-type {\n",
       "        vertical-align: middle;\n",
       "    }\n",
       "\n",
       "    .dataframe tbody tr th {\n",
       "        vertical-align: top;\n",
       "    }\n",
       "\n",
       "    .dataframe thead th {\n",
       "        text-align: right;\n",
       "    }\n",
       "</style>\n",
       "<table border=\"1\" class=\"dataframe\">\n",
       "  <thead>\n",
       "    <tr style=\"text-align: right;\">\n",
       "      <th></th>\n",
       "      <th>User_id</th>\n",
       "      <th>Merchant_id</th>\n",
       "      <th>Coupon_id</th>\n",
       "      <th>Discount_rate</th>\n",
       "      <th>Distance</th>\n",
       "      <th>Date_received</th>\n",
       "      <th>Date</th>\n",
       "    </tr>\n",
       "  </thead>\n",
       "  <tbody>\n",
       "    <tr>\n",
       "      <td>0</td>\n",
       "      <td>1439408</td>\n",
       "      <td>2632</td>\n",
       "      <td>NaN</td>\n",
       "      <td>NaN</td>\n",
       "      <td>0.0</td>\n",
       "      <td>NaN</td>\n",
       "      <td>20160217.0</td>\n",
       "    </tr>\n",
       "    <tr>\n",
       "      <td>1</td>\n",
       "      <td>1439408</td>\n",
       "      <td>4663</td>\n",
       "      <td>11002.0</td>\n",
       "      <td>150:20</td>\n",
       "      <td>1.0</td>\n",
       "      <td>20160528.0</td>\n",
       "      <td>NaN</td>\n",
       "    </tr>\n",
       "    <tr>\n",
       "      <td>2</td>\n",
       "      <td>1439408</td>\n",
       "      <td>2632</td>\n",
       "      <td>8591.0</td>\n",
       "      <td>20:1</td>\n",
       "      <td>0.0</td>\n",
       "      <td>20160217.0</td>\n",
       "      <td>NaN</td>\n",
       "    </tr>\n",
       "    <tr>\n",
       "      <td>3</td>\n",
       "      <td>1439408</td>\n",
       "      <td>2632</td>\n",
       "      <td>1078.0</td>\n",
       "      <td>20:1</td>\n",
       "      <td>0.0</td>\n",
       "      <td>20160319.0</td>\n",
       "      <td>NaN</td>\n",
       "    </tr>\n",
       "    <tr>\n",
       "      <td>4</td>\n",
       "      <td>1439408</td>\n",
       "      <td>2632</td>\n",
       "      <td>8591.0</td>\n",
       "      <td>20:1</td>\n",
       "      <td>0.0</td>\n",
       "      <td>20160613.0</td>\n",
       "      <td>NaN</td>\n",
       "    </tr>\n",
       "  </tbody>\n",
       "</table>\n",
       "</div>"
      ],
      "text/plain": [
       "   User_id  Merchant_id  Coupon_id Discount_rate  Distance  Date_received  \\\n",
       "0  1439408         2632        NaN           NaN       0.0            NaN   \n",
       "1  1439408         4663    11002.0        150:20       1.0     20160528.0   \n",
       "2  1439408         2632     8591.0          20:1       0.0     20160217.0   \n",
       "3  1439408         2632     1078.0          20:1       0.0     20160319.0   \n",
       "4  1439408         2632     8591.0          20:1       0.0     20160613.0   \n",
       "\n",
       "         Date  \n",
       "0  20160217.0  \n",
       "1         NaN  \n",
       "2         NaN  \n",
       "3         NaN  \n",
       "4         NaN  "
      ]
     },
     "execution_count": 5,
     "metadata": {},
     "output_type": "execute_result"
    }
   ],
   "source": [
    "print(\"Offline Training Data Sample\\nShape:\"+str(df_off.shape))\n",
    "df_off.head()"
   ]
  },
  {
   "cell_type": "markdown",
   "metadata": {},
   "source": [
    "### Test Data (Offline)"
   ]
  },
  {
   "cell_type": "code",
   "execution_count": 6,
   "metadata": {},
   "outputs": [
    {
     "name": "stdout",
     "output_type": "stream",
     "text": [
      "Testing Data(Offline) Sample\n",
      "Shape:(113640, 6)\n"
     ]
    },
    {
     "data": {
      "text/html": [
       "<div>\n",
       "<style scoped>\n",
       "    .dataframe tbody tr th:only-of-type {\n",
       "        vertical-align: middle;\n",
       "    }\n",
       "\n",
       "    .dataframe tbody tr th {\n",
       "        vertical-align: top;\n",
       "    }\n",
       "\n",
       "    .dataframe thead th {\n",
       "        text-align: right;\n",
       "    }\n",
       "</style>\n",
       "<table border=\"1\" class=\"dataframe\">\n",
       "  <thead>\n",
       "    <tr style=\"text-align: right;\">\n",
       "      <th></th>\n",
       "      <th>User_id</th>\n",
       "      <th>Merchant_id</th>\n",
       "      <th>Coupon_id</th>\n",
       "      <th>Discount_rate</th>\n",
       "      <th>Distance</th>\n",
       "      <th>Date_received</th>\n",
       "    </tr>\n",
       "  </thead>\n",
       "  <tbody>\n",
       "    <tr>\n",
       "      <td>0</td>\n",
       "      <td>4129537</td>\n",
       "      <td>450</td>\n",
       "      <td>9983</td>\n",
       "      <td>30:5</td>\n",
       "      <td>1.0</td>\n",
       "      <td>20160712</td>\n",
       "    </tr>\n",
       "    <tr>\n",
       "      <td>1</td>\n",
       "      <td>6949378</td>\n",
       "      <td>1300</td>\n",
       "      <td>3429</td>\n",
       "      <td>30:5</td>\n",
       "      <td>NaN</td>\n",
       "      <td>20160706</td>\n",
       "    </tr>\n",
       "    <tr>\n",
       "      <td>2</td>\n",
       "      <td>2166529</td>\n",
       "      <td>7113</td>\n",
       "      <td>6928</td>\n",
       "      <td>200:20</td>\n",
       "      <td>5.0</td>\n",
       "      <td>20160727</td>\n",
       "    </tr>\n",
       "    <tr>\n",
       "      <td>3</td>\n",
       "      <td>2166529</td>\n",
       "      <td>7113</td>\n",
       "      <td>1808</td>\n",
       "      <td>100:10</td>\n",
       "      <td>5.0</td>\n",
       "      <td>20160727</td>\n",
       "    </tr>\n",
       "    <tr>\n",
       "      <td>4</td>\n",
       "      <td>6172162</td>\n",
       "      <td>7605</td>\n",
       "      <td>6500</td>\n",
       "      <td>30:1</td>\n",
       "      <td>2.0</td>\n",
       "      <td>20160708</td>\n",
       "    </tr>\n",
       "  </tbody>\n",
       "</table>\n",
       "</div>"
      ],
      "text/plain": [
       "   User_id  Merchant_id  Coupon_id Discount_rate  Distance  Date_received\n",
       "0  4129537          450       9983          30:5       1.0       20160712\n",
       "1  6949378         1300       3429          30:5       NaN       20160706\n",
       "2  2166529         7113       6928        200:20       5.0       20160727\n",
       "3  2166529         7113       1808        100:10       5.0       20160727\n",
       "4  6172162         7605       6500          30:1       2.0       20160708"
      ]
     },
     "execution_count": 6,
     "metadata": {},
     "output_type": "execute_result"
    }
   ],
   "source": [
    "df_test = pd.read_csv('DataSets/ccf_offline_stage1_test_revised.csv')\n",
    "print(\"Testing Data(Offline) Sample\\nShape:\"+str(df_test.shape))\n",
    "df_test.head()"
   ]
  },
  {
   "cell_type": "markdown",
   "metadata": {},
   "source": [
    "#### Converting Date to DateTime format"
   ]
  },
  {
   "cell_type": "code",
   "execution_count": 7,
   "metadata": {},
   "outputs": [],
   "source": [
    "#Online Training Data\n",
    "df_on['Date'] = pd.to_datetime(df_on[\"Date\"],format='%Y%m%d')\n",
    "df_on['Date_received'] = pd.to_datetime(df_on[\"Date_received\"],format='%Y%m%d')\n",
    "\n",
    "#Offline Training Data\n",
    "df_off['Date'] = pd.to_datetime(df_off[\"Date\"],format='%Y%m%d')\n",
    "df_off['Date_received'] = pd.to_datetime(df_off[\"Date_received\"],format='%Y%m%d')\n",
    "\n",
    "#Testing Data\n",
    "df_test['Date_received'] = pd.to_datetime(df_test[\"Date_received\"],format='%Y%m%d')"
   ]
  },
  {
   "cell_type": "markdown",
   "metadata": {},
   "source": [
    "### Removing Duplicates from Online and Offline Training Data"
   ]
  },
  {
   "cell_type": "code",
   "execution_count": 8,
   "metadata": {},
   "outputs": [
    {
     "name": "stdout",
     "output_type": "stream",
     "text": [
      "Online Training Data Shape:(5822543, 8)\n"
     ]
    }
   ],
   "source": [
    "#Removing duplicates and giving frequency counts(Count) to each row\n",
    "\n",
    "#Online\n",
    "x = 'g8h.|$hTdo+jC9^@'    \n",
    "df_on_unique = (df_on.fillna(x).groupby(['User_id', 'Merchant_id', 'Action', 'Coupon_id', 'Discount_rate',\n",
    "       'Date_received', 'Date']).size().reset_index()\n",
    "               .rename(columns={0 : 'Count'}).replace(x,np.NaN))\n",
    "df_on_unique[\"Date_received\"]=pd.to_datetime(df_on_unique[\"Date_received\"])\n",
    "df_on_unique[\"Date\"]=pd.to_datetime(df_on_unique[\"Date\"])\n",
    "\n",
    "print(\"Online Training Data Shape:\"+str(df_on_unique.shape))"
   ]
  },
  {
   "cell_type": "code",
   "execution_count": 9,
   "metadata": {},
   "outputs": [
    {
     "name": "stdout",
     "output_type": "stream",
     "text": [
      "Offline Training Data Shape:(1716991, 8)\n"
     ]
    }
   ],
   "source": [
    "#Offline\n",
    "x = 'g8h.|$hTdo+jC9^@'   #garbage value for nan values \n",
    "df_off_unique = (df_off.fillna(x).groupby(['User_id', 'Merchant_id', 'Coupon_id', 'Discount_rate', 'Distance',\n",
    "       'Date_received', 'Date']).size().reset_index()\n",
    "               .rename(columns={0 : 'Count'}).replace(x,np.NaN))\n",
    "df_off_unique[\"Date_received\"]=pd.to_datetime(df_off_unique[\"Date_received\"])\n",
    "df_off_unique[\"Date\"]=pd.to_datetime(df_off_unique[\"Date\"])\n",
    "\n",
    "print(\"Offline Training Data Shape:\"+str(df_off_unique.shape))"
   ]
  },
  {
   "cell_type": "markdown",
   "metadata": {},
   "source": [
    "## Joining Train and test Data"
   ]
  },
  {
   "cell_type": "code",
   "execution_count": 10,
   "metadata": {},
   "outputs": [],
   "source": [
    "df_data = df_off_unique.append(df_test, sort=False)"
   ]
  },
  {
   "cell_type": "markdown",
   "metadata": {},
   "source": [
    "#### Filling Nan for Distance (OFFLINE)"
   ]
  },
  {
   "cell_type": "code",
   "execution_count": 11,
   "metadata": {},
   "outputs": [],
   "source": [
    "df_data['Distance'].fillna(df_data['Distance'].mean(), inplace=True)\n",
    "df_data['Distance'] = df_data.Distance.astype(int)"
   ]
  },
  {
   "cell_type": "markdown",
   "metadata": {},
   "source": [
    "#### Adding Date Number"
   ]
  },
  {
   "cell_type": "code",
   "execution_count": 12,
   "metadata": {},
   "outputs": [
    {
     "data": {
      "text/html": [
       "<div>\n",
       "<style scoped>\n",
       "    .dataframe tbody tr th:only-of-type {\n",
       "        vertical-align: middle;\n",
       "    }\n",
       "\n",
       "    .dataframe tbody tr th {\n",
       "        vertical-align: top;\n",
       "    }\n",
       "\n",
       "    .dataframe thead th {\n",
       "        text-align: right;\n",
       "    }\n",
       "</style>\n",
       "<table border=\"1\" class=\"dataframe\">\n",
       "  <thead>\n",
       "    <tr style=\"text-align: right;\">\n",
       "      <th></th>\n",
       "      <th>User_id</th>\n",
       "      <th>Merchant_id</th>\n",
       "      <th>Coupon_id</th>\n",
       "      <th>Discount_rate</th>\n",
       "      <th>Distance</th>\n",
       "      <th>Date_received</th>\n",
       "      <th>Date</th>\n",
       "      <th>Count</th>\n",
       "      <th>DateTrack</th>\n",
       "      <th>DayNum</th>\n",
       "    </tr>\n",
       "  </thead>\n",
       "  <tbody>\n",
       "    <tr>\n",
       "      <td>0</td>\n",
       "      <td>4</td>\n",
       "      <td>1433</td>\n",
       "      <td>8735.0</td>\n",
       "      <td>30:5</td>\n",
       "      <td>10</td>\n",
       "      <td>2016-02-14</td>\n",
       "      <td>NaT</td>\n",
       "      <td>1.0</td>\n",
       "      <td>2016-02-14</td>\n",
       "      <td>45</td>\n",
       "    </tr>\n",
       "    <tr>\n",
       "      <td>1</td>\n",
       "      <td>4</td>\n",
       "      <td>1469</td>\n",
       "      <td>2902.0</td>\n",
       "      <td>0.95</td>\n",
       "      <td>10</td>\n",
       "      <td>2016-06-07</td>\n",
       "      <td>NaT</td>\n",
       "      <td>1.0</td>\n",
       "      <td>2016-06-07</td>\n",
       "      <td>159</td>\n",
       "    </tr>\n",
       "    <tr>\n",
       "      <td>2</td>\n",
       "      <td>35</td>\n",
       "      <td>3381</td>\n",
       "      <td>1807.0</td>\n",
       "      <td>300:30</td>\n",
       "      <td>0</td>\n",
       "      <td>2016-01-30</td>\n",
       "      <td>NaT</td>\n",
       "      <td>1.0</td>\n",
       "      <td>2016-01-30</td>\n",
       "      <td>30</td>\n",
       "    </tr>\n",
       "    <tr>\n",
       "      <td>3</td>\n",
       "      <td>35</td>\n",
       "      <td>3381</td>\n",
       "      <td>9776.0</td>\n",
       "      <td>10:5</td>\n",
       "      <td>0</td>\n",
       "      <td>2016-01-29</td>\n",
       "      <td>NaT</td>\n",
       "      <td>1.0</td>\n",
       "      <td>2016-01-29</td>\n",
       "      <td>29</td>\n",
       "    </tr>\n",
       "    <tr>\n",
       "      <td>4</td>\n",
       "      <td>35</td>\n",
       "      <td>3381</td>\n",
       "      <td>11951.0</td>\n",
       "      <td>200:20</td>\n",
       "      <td>0</td>\n",
       "      <td>2016-01-29</td>\n",
       "      <td>NaT</td>\n",
       "      <td>1.0</td>\n",
       "      <td>2016-01-29</td>\n",
       "      <td>29</td>\n",
       "    </tr>\n",
       "  </tbody>\n",
       "</table>\n",
       "</div>"
      ],
      "text/plain": [
       "   User_id  Merchant_id  Coupon_id Discount_rate  Distance Date_received Date  \\\n",
       "0        4         1433     8735.0          30:5        10    2016-02-14  NaT   \n",
       "1        4         1469     2902.0          0.95        10    2016-06-07  NaT   \n",
       "2       35         3381     1807.0        300:30         0    2016-01-30  NaT   \n",
       "3       35         3381     9776.0          10:5         0    2016-01-29  NaT   \n",
       "4       35         3381    11951.0        200:20         0    2016-01-29  NaT   \n",
       "\n",
       "   Count  DateTrack  DayNum  \n",
       "0    1.0 2016-02-14      45  \n",
       "1    1.0 2016-06-07     159  \n",
       "2    1.0 2016-01-30      30  \n",
       "3    1.0 2016-01-29      29  \n",
       "4    1.0 2016-01-29      29  "
      ]
     },
     "execution_count": 12,
     "metadata": {},
     "output_type": "execute_result"
    }
   ],
   "source": [
    "df_data['DateTrack'] = df_data['Date'].copy()\n",
    "df_data['DateTrack'].fillna(df_data['Date_received'],inplace=True)\n",
    "df_data['First_day'] = pd.to_datetime('20160101',format='%Y%m%d')\n",
    "df_data['DayNum'] = df_data['DateTrack'] - df_data['First_day'] \n",
    "df_data['DayNum'] = df_data['DayNum'].dt.days.astype('str')\n",
    "df_data['DayNum'] = pd.to_numeric(df_data['DayNum'],errors=\"coerce\") + 1\n",
    "df_data =df_data.drop('First_day',axis=1)\n",
    "df_data.head()"
   ]
  },
  {
   "cell_type": "markdown",
   "metadata": {},
   "source": [
    "#### Converting Discount Ratio to Rate"
   ]
  },
  {
   "cell_type": "code",
   "execution_count": 13,
   "metadata": {},
   "outputs": [],
   "source": [
    "#Funtion to convert discount ratio to discount rate\n",
    "def convert_discount(discount):\n",
    "    values = []\n",
    "    for i in discount:\n",
    "        if ':' in i:\n",
    "            i = i.split(':')\n",
    "            rate = round((int(i[0]) - int(i[1]))/int(i[0]),3)\n",
    "            values.append([int(i[0]),int(i[1]),rate])\n",
    "        elif '.' in i:\n",
    "            i = float(i)\n",
    "            x = 100*i\n",
    "            values.append([100,int(100-x),i])\n",
    "            \n",
    "    discounts = dict(zip(discount,values))      \n",
    "    return discounts"
   ]
  },
  {
   "cell_type": "code",
   "execution_count": 14,
   "metadata": {},
   "outputs": [
    {
     "data": {
      "text/html": [
       "<div>\n",
       "<style scoped>\n",
       "    .dataframe tbody tr th:only-of-type {\n",
       "        vertical-align: middle;\n",
       "    }\n",
       "\n",
       "    .dataframe tbody tr th {\n",
       "        vertical-align: top;\n",
       "    }\n",
       "\n",
       "    .dataframe thead th {\n",
       "        text-align: right;\n",
       "    }\n",
       "</style>\n",
       "<table border=\"1\" class=\"dataframe\">\n",
       "  <thead>\n",
       "    <tr style=\"text-align: right;\">\n",
       "      <th></th>\n",
       "      <th>User_id</th>\n",
       "      <th>Merchant_id</th>\n",
       "      <th>Coupon_id</th>\n",
       "      <th>Discount_rate</th>\n",
       "      <th>Distance</th>\n",
       "      <th>Date_received</th>\n",
       "      <th>Date</th>\n",
       "      <th>Count</th>\n",
       "      <th>DateTrack</th>\n",
       "      <th>DayNum</th>\n",
       "      <th>Discount</th>\n",
       "      <th>Original_price</th>\n",
       "      <th>Discounted_price</th>\n",
       "      <th>Rate</th>\n",
       "    </tr>\n",
       "  </thead>\n",
       "  <tbody>\n",
       "    <tr>\n",
       "      <td>0</td>\n",
       "      <td>4</td>\n",
       "      <td>1433</td>\n",
       "      <td>8735.0</td>\n",
       "      <td>[30, 5, 0.833]</td>\n",
       "      <td>10</td>\n",
       "      <td>2016-02-14</td>\n",
       "      <td>NaT</td>\n",
       "      <td>1.0</td>\n",
       "      <td>2016-02-14</td>\n",
       "      <td>45</td>\n",
       "      <td>30:5</td>\n",
       "      <td>30</td>\n",
       "      <td>5</td>\n",
       "      <td>0.833</td>\n",
       "    </tr>\n",
       "    <tr>\n",
       "      <td>1</td>\n",
       "      <td>4</td>\n",
       "      <td>1469</td>\n",
       "      <td>2902.0</td>\n",
       "      <td>[100, 5, 0.95]</td>\n",
       "      <td>10</td>\n",
       "      <td>2016-06-07</td>\n",
       "      <td>NaT</td>\n",
       "      <td>1.0</td>\n",
       "      <td>2016-06-07</td>\n",
       "      <td>159</td>\n",
       "      <td>0.95</td>\n",
       "      <td>100</td>\n",
       "      <td>5</td>\n",
       "      <td>0.950</td>\n",
       "    </tr>\n",
       "    <tr>\n",
       "      <td>2</td>\n",
       "      <td>35</td>\n",
       "      <td>3381</td>\n",
       "      <td>1807.0</td>\n",
       "      <td>[300, 30, 0.9]</td>\n",
       "      <td>0</td>\n",
       "      <td>2016-01-30</td>\n",
       "      <td>NaT</td>\n",
       "      <td>1.0</td>\n",
       "      <td>2016-01-30</td>\n",
       "      <td>30</td>\n",
       "      <td>300:30</td>\n",
       "      <td>300</td>\n",
       "      <td>30</td>\n",
       "      <td>0.900</td>\n",
       "    </tr>\n",
       "    <tr>\n",
       "      <td>3</td>\n",
       "      <td>35</td>\n",
       "      <td>3381</td>\n",
       "      <td>9776.0</td>\n",
       "      <td>[10, 5, 0.5]</td>\n",
       "      <td>0</td>\n",
       "      <td>2016-01-29</td>\n",
       "      <td>NaT</td>\n",
       "      <td>1.0</td>\n",
       "      <td>2016-01-29</td>\n",
       "      <td>29</td>\n",
       "      <td>10:5</td>\n",
       "      <td>10</td>\n",
       "      <td>5</td>\n",
       "      <td>0.500</td>\n",
       "    </tr>\n",
       "    <tr>\n",
       "      <td>4</td>\n",
       "      <td>35</td>\n",
       "      <td>3381</td>\n",
       "      <td>11951.0</td>\n",
       "      <td>[200, 20, 0.9]</td>\n",
       "      <td>0</td>\n",
       "      <td>2016-01-29</td>\n",
       "      <td>NaT</td>\n",
       "      <td>1.0</td>\n",
       "      <td>2016-01-29</td>\n",
       "      <td>29</td>\n",
       "      <td>200:20</td>\n",
       "      <td>200</td>\n",
       "      <td>20</td>\n",
       "      <td>0.900</td>\n",
       "    </tr>\n",
       "  </tbody>\n",
       "</table>\n",
       "</div>"
      ],
      "text/plain": [
       "   User_id  Merchant_id  Coupon_id   Discount_rate  Distance Date_received  \\\n",
       "0        4         1433     8735.0  [30, 5, 0.833]        10    2016-02-14   \n",
       "1        4         1469     2902.0  [100, 5, 0.95]        10    2016-06-07   \n",
       "2       35         3381     1807.0  [300, 30, 0.9]         0    2016-01-30   \n",
       "3       35         3381     9776.0    [10, 5, 0.5]         0    2016-01-29   \n",
       "4       35         3381    11951.0  [200, 20, 0.9]         0    2016-01-29   \n",
       "\n",
       "  Date  Count  DateTrack  DayNum Discount  Original_price  Discounted_price  \\\n",
       "0  NaT    1.0 2016-02-14      45     30:5              30                 5   \n",
       "1  NaT    1.0 2016-06-07     159     0.95             100                 5   \n",
       "2  NaT    1.0 2016-01-30      30   300:30             300                30   \n",
       "3  NaT    1.0 2016-01-29      29     10:5              10                 5   \n",
       "4  NaT    1.0 2016-01-29      29   200:20             200                20   \n",
       "\n",
       "    Rate  \n",
       "0  0.833  \n",
       "1  0.950  \n",
       "2  0.900  \n",
       "3  0.500  \n",
       "4  0.900  "
      ]
     },
     "execution_count": 14,
     "metadata": {},
     "output_type": "execute_result"
    }
   ],
   "source": [
    "#OFFLINE DATA\n",
    "df_data = df_data[(df_data['Coupon_id'].isna()==False)].copy()\n",
    "discounts_offline = list(df_data['Discount_rate'].unique())\n",
    "df_data.loc[:,('Discount')] = df_data.loc[:,('Discount_rate')] \n",
    "df_data['Discount_rate'] = df_data['Discount'].map(convert_discount(discounts_offline))\n",
    "df_data[['Original_price','Discounted_price','Rate']] = pd.DataFrame(df_data.Discount_rate.values.tolist(), index= df_data.index)\n",
    "df_data.head()"
   ]
  },
  {
   "cell_type": "markdown",
   "metadata": {},
   "source": [
    "# FEATURES\n",
    "#### User, Merchant, Coupon, Date Received, Rates"
   ]
  },
  {
   "cell_type": "code",
   "execution_count": 15,
   "metadata": {},
   "outputs": [
    {
     "data": {
      "text/html": [
       "<div>\n",
       "<style scoped>\n",
       "    .dataframe tbody tr th:only-of-type {\n",
       "        vertical-align: middle;\n",
       "    }\n",
       "\n",
       "    .dataframe tbody tr th {\n",
       "        vertical-align: top;\n",
       "    }\n",
       "\n",
       "    .dataframe thead th {\n",
       "        text-align: right;\n",
       "    }\n",
       "</style>\n",
       "<table border=\"1\" class=\"dataframe\">\n",
       "  <thead>\n",
       "    <tr style=\"text-align: right;\">\n",
       "      <th></th>\n",
       "      <th>User_id</th>\n",
       "      <th>Tag</th>\n",
       "      <th>User_Released</th>\n",
       "      <th>User_Redeemed</th>\n",
       "      <th>User_Ratio</th>\n",
       "      <th>User_Buys</th>\n",
       "      <th>Purchaser</th>\n",
       "      <th>UserMerchantCount</th>\n",
       "      <th>DayList</th>\n",
       "      <th>UserReleaseList</th>\n",
       "      <th>UserRedeemList</th>\n",
       "      <th>User_Redeemed_Buy</th>\n",
       "    </tr>\n",
       "  </thead>\n",
       "  <tbody>\n",
       "    <tr>\n",
       "      <td>0</td>\n",
       "      <td>4</td>\n",
       "      <td>0</td>\n",
       "      <td>3.0</td>\n",
       "      <td>0.0</td>\n",
       "      <td>0.0</td>\n",
       "      <td>1</td>\n",
       "      <td>0</td>\n",
       "      <td>4</td>\n",
       "      <td>[68]</td>\n",
       "      <td>[45, 91, 159]</td>\n",
       "      <td>[]</td>\n",
       "      <td>0.0</td>\n",
       "    </tr>\n",
       "    <tr>\n",
       "      <td>1</td>\n",
       "      <td>35</td>\n",
       "      <td>1</td>\n",
       "      <td>4.0</td>\n",
       "      <td>0.0</td>\n",
       "      <td>0.0</td>\n",
       "      <td>0</td>\n",
       "      <td>0</td>\n",
       "      <td>1</td>\n",
       "      <td>[]</td>\n",
       "      <td>[29, 29, 30, 30]</td>\n",
       "      <td>[]</td>\n",
       "      <td>0.0</td>\n",
       "    </tr>\n",
       "    <tr>\n",
       "      <td>2</td>\n",
       "      <td>36</td>\n",
       "      <td>0</td>\n",
       "      <td>2.0</td>\n",
       "      <td>0.0</td>\n",
       "      <td>0.0</td>\n",
       "      <td>1</td>\n",
       "      <td>0</td>\n",
       "      <td>3</td>\n",
       "      <td>[20]</td>\n",
       "      <td>[25, 25]</td>\n",
       "      <td>[]</td>\n",
       "      <td>0.0</td>\n",
       "    </tr>\n",
       "    <tr>\n",
       "      <td>3</td>\n",
       "      <td>64</td>\n",
       "      <td>0</td>\n",
       "      <td>1.0</td>\n",
       "      <td>0.0</td>\n",
       "      <td>0.0</td>\n",
       "      <td>3</td>\n",
       "      <td>0</td>\n",
       "      <td>3</td>\n",
       "      <td>[147, 158, 158]</td>\n",
       "      <td>[29]</td>\n",
       "      <td>[]</td>\n",
       "      <td>0.0</td>\n",
       "    </tr>\n",
       "    <tr>\n",
       "      <td>4</td>\n",
       "      <td>110</td>\n",
       "      <td>1</td>\n",
       "      <td>3.0</td>\n",
       "      <td>0.0</td>\n",
       "      <td>0.0</td>\n",
       "      <td>0</td>\n",
       "      <td>0</td>\n",
       "      <td>3</td>\n",
       "      <td>[]</td>\n",
       "      <td>[31, 31, 31]</td>\n",
       "      <td>[]</td>\n",
       "      <td>0.0</td>\n",
       "    </tr>\n",
       "  </tbody>\n",
       "</table>\n",
       "</div>"
      ],
      "text/plain": [
       "   User_id  Tag  User_Released  User_Redeemed  User_Ratio  User_Buys  \\\n",
       "0        4    0            3.0            0.0         0.0          1   \n",
       "1       35    1            4.0            0.0         0.0          0   \n",
       "2       36    0            2.0            0.0         0.0          1   \n",
       "3       64    0            1.0            0.0         0.0          3   \n",
       "4      110    1            3.0            0.0         0.0          0   \n",
       "\n",
       "   Purchaser  UserMerchantCount          DayList   UserReleaseList  \\\n",
       "0          0                  4             [68]     [45, 91, 159]   \n",
       "1          0                  1               []  [29, 29, 30, 30]   \n",
       "2          0                  3             [20]          [25, 25]   \n",
       "3          0                  3  [147, 158, 158]              [29]   \n",
       "4          0                  3               []      [31, 31, 31]   \n",
       "\n",
       "  UserRedeemList  User_Redeemed_Buy  \n",
       "0             []                0.0  \n",
       "1             []                0.0  \n",
       "2             []                0.0  \n",
       "3             []                0.0  \n",
       "4             []                0.0  "
      ]
     },
     "execution_count": 15,
     "metadata": {},
     "output_type": "execute_result"
    }
   ],
   "source": [
    "users_level = pd.read_csv('DataSets/DatasetsCreated/user_level.csv')\n",
    "users_level.head()"
   ]
  },
  {
   "cell_type": "code",
   "execution_count": 16,
   "metadata": {},
   "outputs": [
    {
     "data": {
      "text/html": [
       "<div>\n",
       "<style scoped>\n",
       "    .dataframe tbody tr th:only-of-type {\n",
       "        vertical-align: middle;\n",
       "    }\n",
       "\n",
       "    .dataframe tbody tr th {\n",
       "        vertical-align: top;\n",
       "    }\n",
       "\n",
       "    .dataframe thead th {\n",
       "        text-align: right;\n",
       "    }\n",
       "</style>\n",
       "<table border=\"1\" class=\"dataframe\">\n",
       "  <thead>\n",
       "    <tr style=\"text-align: right;\">\n",
       "      <th></th>\n",
       "      <th>Merchant_id</th>\n",
       "      <th>Merchant_Redeemed</th>\n",
       "      <th>Merchant_Ratio</th>\n",
       "      <th>Merchant_AvgDistance</th>\n",
       "      <th>Merchant_Popular</th>\n",
       "      <th>Merchant_AvgRate</th>\n",
       "      <th>AvgDailyUsers</th>\n",
       "      <th>MerchantBuyList</th>\n",
       "      <th>MerchantReleaseList</th>\n",
       "      <th>MerchantRedeemList</th>\n",
       "      <th>UniqueUsersCount</th>\n",
       "      <th>Merchant_Buys</th>\n",
       "      <th>Merchant_Redeemed_Buy</th>\n",
       "    </tr>\n",
       "  </thead>\n",
       "  <tbody>\n",
       "    <tr>\n",
       "      <td>0</td>\n",
       "      <td>1433</td>\n",
       "      <td>726.0</td>\n",
       "      <td>0.04</td>\n",
       "      <td>3.927992</td>\n",
       "      <td>1</td>\n",
       "      <td>0.810455</td>\n",
       "      <td>49.697802</td>\n",
       "      <td>[1, 2, 3, 4, 5, 6, 7, 8, 9, 10, 11, 12, 13, 14...</td>\n",
       "      <td>[2, 13, 19, 20, 24, 25, 26, 27, 28, 29, 30, 31...</td>\n",
       "      <td>[24, 25, 27, 29, 30, 31, 33, 34, 35, 36, 37, 3...</td>\n",
       "      <td>19340</td>\n",
       "      <td>9045</td>\n",
       "      <td>0.080265</td>\n",
       "    </tr>\n",
       "    <tr>\n",
       "      <td>1</td>\n",
       "      <td>1469</td>\n",
       "      <td>675.0</td>\n",
       "      <td>0.05</td>\n",
       "      <td>2.617818</td>\n",
       "      <td>1</td>\n",
       "      <td>0.707819</td>\n",
       "      <td>74.527473</td>\n",
       "      <td>[1, 2, 3, 4, 5, 6, 7, 8, 9, 10, 11, 12, 13, 14...</td>\n",
       "      <td>[4, 5, 7, 8, 9, 10, 11, 12, 13, 14, 15, 16, 17...</td>\n",
       "      <td>[9, 10, 14, 15, 20, 21, 30, 31, 61, 64, 65, 66...</td>\n",
       "      <td>13702</td>\n",
       "      <td>13576</td>\n",
       "      <td>0.049720</td>\n",
       "    </tr>\n",
       "    <tr>\n",
       "      <td>2</td>\n",
       "      <td>3381</td>\n",
       "      <td>2473.0</td>\n",
       "      <td>0.02</td>\n",
       "      <td>2.690394</td>\n",
       "      <td>1</td>\n",
       "      <td>0.866463</td>\n",
       "      <td>119.587912</td>\n",
       "      <td>[1, 2, 3, 4, 5, 6, 7, 8, 9, 10, 11, 12, 13, 14...</td>\n",
       "      <td>[17, 19, 23, 24, 25, 26, 27, 28, 29, 30, 31, 3...</td>\n",
       "      <td>[23, 24, 25, 26, 27, 28, 29, 30, 31, 32, 33, 3...</td>\n",
       "      <td>108018</td>\n",
       "      <td>21829</td>\n",
       "      <td>0.113290</td>\n",
       "    </tr>\n",
       "    <tr>\n",
       "      <td>3</td>\n",
       "      <td>1041</td>\n",
       "      <td>402.0</td>\n",
       "      <td>0.05</td>\n",
       "      <td>2.846591</td>\n",
       "      <td>1</td>\n",
       "      <td>0.831778</td>\n",
       "      <td>19.510989</td>\n",
       "      <td>[1, 2, 3, 4, 5, 6, 7, 8, 9, 10, 11, 12, 13, 14...</td>\n",
       "      <td>[6, 7, 8, 9, 10, 11, 12, 13, 14, 15, 16, 17, 1...</td>\n",
       "      <td>[7, 8, 9, 10, 11, 12, 13, 14, 15, 16, 17, 18, ...</td>\n",
       "      <td>7966</td>\n",
       "      <td>3553</td>\n",
       "      <td>0.113144</td>\n",
       "    </tr>\n",
       "    <tr>\n",
       "      <td>4</td>\n",
       "      <td>5717</td>\n",
       "      <td>293.0</td>\n",
       "      <td>0.02</td>\n",
       "      <td>2.255078</td>\n",
       "      <td>1</td>\n",
       "      <td>0.751612</td>\n",
       "      <td>21.571429</td>\n",
       "      <td>[1, 2, 3, 4, 5, 6, 7, 8, 9, 10, 11, 12, 13, 14...</td>\n",
       "      <td>[17, 19, 23, 24, 25, 26, 27, 28, 29, 30, 31, 3...</td>\n",
       "      <td>[24, 25, 26, 27, 28, 29, 30, 31, 32, 33, 34, 3...</td>\n",
       "      <td>12506</td>\n",
       "      <td>3927</td>\n",
       "      <td>0.074612</td>\n",
       "    </tr>\n",
       "  </tbody>\n",
       "</table>\n",
       "</div>"
      ],
      "text/plain": [
       "   Merchant_id  Merchant_Redeemed  Merchant_Ratio  Merchant_AvgDistance  \\\n",
       "0         1433              726.0            0.04              3.927992   \n",
       "1         1469              675.0            0.05              2.617818   \n",
       "2         3381             2473.0            0.02              2.690394   \n",
       "3         1041              402.0            0.05              2.846591   \n",
       "4         5717              293.0            0.02              2.255078   \n",
       "\n",
       "   Merchant_Popular  Merchant_AvgRate  AvgDailyUsers  \\\n",
       "0                 1          0.810455      49.697802   \n",
       "1                 1          0.707819      74.527473   \n",
       "2                 1          0.866463     119.587912   \n",
       "3                 1          0.831778      19.510989   \n",
       "4                 1          0.751612      21.571429   \n",
       "\n",
       "                                     MerchantBuyList  \\\n",
       "0  [1, 2, 3, 4, 5, 6, 7, 8, 9, 10, 11, 12, 13, 14...   \n",
       "1  [1, 2, 3, 4, 5, 6, 7, 8, 9, 10, 11, 12, 13, 14...   \n",
       "2  [1, 2, 3, 4, 5, 6, 7, 8, 9, 10, 11, 12, 13, 14...   \n",
       "3  [1, 2, 3, 4, 5, 6, 7, 8, 9, 10, 11, 12, 13, 14...   \n",
       "4  [1, 2, 3, 4, 5, 6, 7, 8, 9, 10, 11, 12, 13, 14...   \n",
       "\n",
       "                                 MerchantReleaseList  \\\n",
       "0  [2, 13, 19, 20, 24, 25, 26, 27, 28, 29, 30, 31...   \n",
       "1  [4, 5, 7, 8, 9, 10, 11, 12, 13, 14, 15, 16, 17...   \n",
       "2  [17, 19, 23, 24, 25, 26, 27, 28, 29, 30, 31, 3...   \n",
       "3  [6, 7, 8, 9, 10, 11, 12, 13, 14, 15, 16, 17, 1...   \n",
       "4  [17, 19, 23, 24, 25, 26, 27, 28, 29, 30, 31, 3...   \n",
       "\n",
       "                                  MerchantRedeemList  UniqueUsersCount  \\\n",
       "0  [24, 25, 27, 29, 30, 31, 33, 34, 35, 36, 37, 3...             19340   \n",
       "1  [9, 10, 14, 15, 20, 21, 30, 31, 61, 64, 65, 66...             13702   \n",
       "2  [23, 24, 25, 26, 27, 28, 29, 30, 31, 32, 33, 3...            108018   \n",
       "3  [7, 8, 9, 10, 11, 12, 13, 14, 15, 16, 17, 18, ...              7966   \n",
       "4  [24, 25, 26, 27, 28, 29, 30, 31, 32, 33, 34, 3...             12506   \n",
       "\n",
       "   Merchant_Buys  Merchant_Redeemed_Buy  \n",
       "0           9045               0.080265  \n",
       "1          13576               0.049720  \n",
       "2          21829               0.113290  \n",
       "3           3553               0.113144  \n",
       "4           3927               0.074612  "
      ]
     },
     "execution_count": 16,
     "metadata": {},
     "output_type": "execute_result"
    }
   ],
   "source": [
    "merchants_level = pd.read_csv('DataSets/DatasetsCreated/merchant_level.csv')\n",
    "merchants_level.head()"
   ]
  },
  {
   "cell_type": "code",
   "execution_count": 17,
   "metadata": {},
   "outputs": [
    {
     "data": {
      "text/html": [
       "<div>\n",
       "<style scoped>\n",
       "    .dataframe tbody tr th:only-of-type {\n",
       "        vertical-align: middle;\n",
       "    }\n",
       "\n",
       "    .dataframe tbody tr th {\n",
       "        vertical-align: top;\n",
       "    }\n",
       "\n",
       "    .dataframe thead th {\n",
       "        text-align: right;\n",
       "    }\n",
       "</style>\n",
       "<table border=\"1\" class=\"dataframe\">\n",
       "  <thead>\n",
       "    <tr style=\"text-align: right;\">\n",
       "      <th></th>\n",
       "      <th>Coupon_id</th>\n",
       "      <th>Coupon_Released</th>\n",
       "      <th>Coupon_Redeemed</th>\n",
       "      <th>Coupon_Ratio</th>\n",
       "      <th>Duration</th>\n",
       "      <th>CouponRedeemList</th>\n",
       "      <th>CouponReleaseList</th>\n",
       "      <th>FirstReleaseDate</th>\n",
       "    </tr>\n",
       "  </thead>\n",
       "  <tbody>\n",
       "    <tr>\n",
       "      <td>0</td>\n",
       "      <td>1</td>\n",
       "      <td>5</td>\n",
       "      <td>1</td>\n",
       "      <td>0.20</td>\n",
       "      <td>24</td>\n",
       "      <td>[154]</td>\n",
       "      <td>[134, 143, 151, 155, 158]</td>\n",
       "      <td>134</td>\n",
       "    </tr>\n",
       "    <tr>\n",
       "      <td>1</td>\n",
       "      <td>10</td>\n",
       "      <td>32</td>\n",
       "      <td>15</td>\n",
       "      <td>0.47</td>\n",
       "      <td>18</td>\n",
       "      <td>[136, 138, 139, 140, 141, 142, 143, 145, 146, ...</td>\n",
       "      <td>[134, 135, 136, 137, 138, 139, 140, 141, 142, ...</td>\n",
       "      <td>134</td>\n",
       "    </tr>\n",
       "    <tr>\n",
       "      <td>2</td>\n",
       "      <td>100</td>\n",
       "      <td>7</td>\n",
       "      <td>1</td>\n",
       "      <td>0.14</td>\n",
       "      <td>22</td>\n",
       "      <td>[142]</td>\n",
       "      <td>[135, 142, 143, 147, 148, 150, 164]</td>\n",
       "      <td>135</td>\n",
       "    </tr>\n",
       "    <tr>\n",
       "      <td>3</td>\n",
       "      <td>1000</td>\n",
       "      <td>38</td>\n",
       "      <td>4</td>\n",
       "      <td>0.11</td>\n",
       "      <td>29</td>\n",
       "      <td>[31, 32, 35, 37]</td>\n",
       "      <td>[17, 19, 28, 29, 32, 35, 46]</td>\n",
       "      <td>17</td>\n",
       "    </tr>\n",
       "    <tr>\n",
       "      <td>4</td>\n",
       "      <td>10000</td>\n",
       "      <td>17</td>\n",
       "      <td>11</td>\n",
       "      <td>0.65</td>\n",
       "      <td>47</td>\n",
       "      <td>[8, 12, 15, 16, 17, 25, 26, 27, 28, 31, 49]</td>\n",
       "      <td>[2, 5, 7, 8, 11, 12, 15, 16, 17, 21, 24, 25, 2...</td>\n",
       "      <td>2</td>\n",
       "    </tr>\n",
       "  </tbody>\n",
       "</table>\n",
       "</div>"
      ],
      "text/plain": [
       "   Coupon_id  Coupon_Released  Coupon_Redeemed  Coupon_Ratio  Duration  \\\n",
       "0          1                5                1          0.20        24   \n",
       "1         10               32               15          0.47        18   \n",
       "2        100                7                1          0.14        22   \n",
       "3       1000               38                4          0.11        29   \n",
       "4      10000               17               11          0.65        47   \n",
       "\n",
       "                                    CouponRedeemList  \\\n",
       "0                                              [154]   \n",
       "1  [136, 138, 139, 140, 141, 142, 143, 145, 146, ...   \n",
       "2                                              [142]   \n",
       "3                                   [31, 32, 35, 37]   \n",
       "4        [8, 12, 15, 16, 17, 25, 26, 27, 28, 31, 49]   \n",
       "\n",
       "                                   CouponReleaseList  FirstReleaseDate  \n",
       "0                          [134, 143, 151, 155, 158]               134  \n",
       "1  [134, 135, 136, 137, 138, 139, 140, 141, 142, ...               134  \n",
       "2                [135, 142, 143, 147, 148, 150, 164]               135  \n",
       "3                       [17, 19, 28, 29, 32, 35, 46]                17  \n",
       "4  [2, 5, 7, 8, 11, 12, 15, 16, 17, 21, 24, 25, 2...                 2  "
      ]
     },
     "execution_count": 17,
     "metadata": {},
     "output_type": "execute_result"
    }
   ],
   "source": [
    "coupons_level = pd.read_csv('DataSets/DatasetsCreated/coupon_level.csv')\n",
    "coupons_level.head()"
   ]
  },
  {
   "cell_type": "code",
   "execution_count": 18,
   "metadata": {},
   "outputs": [
    {
     "data": {
      "text/html": [
       "<div>\n",
       "<style scoped>\n",
       "    .dataframe tbody tr th:only-of-type {\n",
       "        vertical-align: middle;\n",
       "    }\n",
       "\n",
       "    .dataframe tbody tr th {\n",
       "        vertical-align: top;\n",
       "    }\n",
       "\n",
       "    .dataframe thead th {\n",
       "        text-align: right;\n",
       "    }\n",
       "</style>\n",
       "<table border=\"1\" class=\"dataframe\">\n",
       "  <thead>\n",
       "    <tr style=\"text-align: right;\">\n",
       "      <th></th>\n",
       "      <th>Rate</th>\n",
       "      <th>Rate_Releases</th>\n",
       "      <th>Rate_Redeemed</th>\n",
       "      <th>Rate_Ratio</th>\n",
       "    </tr>\n",
       "  </thead>\n",
       "  <tbody>\n",
       "    <tr>\n",
       "      <td>0</td>\n",
       "      <td>0.200</td>\n",
       "      <td>81</td>\n",
       "      <td>6</td>\n",
       "      <td>0.074074</td>\n",
       "    </tr>\n",
       "    <tr>\n",
       "      <td>1</td>\n",
       "      <td>0.333</td>\n",
       "      <td>45003</td>\n",
       "      <td>3920</td>\n",
       "      <td>0.087105</td>\n",
       "    </tr>\n",
       "    <tr>\n",
       "      <td>2</td>\n",
       "      <td>0.375</td>\n",
       "      <td>4</td>\n",
       "      <td>4</td>\n",
       "      <td>1.000000</td>\n",
       "    </tr>\n",
       "    <tr>\n",
       "      <td>3</td>\n",
       "      <td>0.400</td>\n",
       "      <td>11395</td>\n",
       "      <td>2529</td>\n",
       "      <td>0.221939</td>\n",
       "    </tr>\n",
       "    <tr>\n",
       "      <td>4</td>\n",
       "      <td>0.500</td>\n",
       "      <td>142664</td>\n",
       "      <td>18480</td>\n",
       "      <td>0.129535</td>\n",
       "    </tr>\n",
       "  </tbody>\n",
       "</table>\n",
       "</div>"
      ],
      "text/plain": [
       "    Rate  Rate_Releases  Rate_Redeemed  Rate_Ratio\n",
       "0  0.200             81              6    0.074074\n",
       "1  0.333          45003           3920    0.087105\n",
       "2  0.375              4              4    1.000000\n",
       "3  0.400          11395           2529    0.221939\n",
       "4  0.500         142664          18480    0.129535"
      ]
     },
     "execution_count": 18,
     "metadata": {},
     "output_type": "execute_result"
    }
   ],
   "source": [
    "rates_level = pd.read_csv('DataSets/DatasetsCreated/rate_level.csv')\n",
    "rates_level.head()"
   ]
  },
  {
   "cell_type": "code",
   "execution_count": 19,
   "metadata": {},
   "outputs": [
    {
     "data": {
      "text/html": [
       "<div>\n",
       "<style scoped>\n",
       "    .dataframe tbody tr th:only-of-type {\n",
       "        vertical-align: middle;\n",
       "    }\n",
       "\n",
       "    .dataframe tbody tr th {\n",
       "        vertical-align: top;\n",
       "    }\n",
       "\n",
       "    .dataframe thead th {\n",
       "        text-align: right;\n",
       "    }\n",
       "</style>\n",
       "<table border=\"1\" class=\"dataframe\">\n",
       "  <thead>\n",
       "    <tr style=\"text-align: right;\">\n",
       "      <th></th>\n",
       "      <th>Date_received</th>\n",
       "      <th>ReleasesCount</th>\n",
       "      <th>ImpDay</th>\n",
       "      <th>Weekend</th>\n",
       "      <th>DayOfWeek</th>\n",
       "      <th>UniqueReleasesCount</th>\n",
       "    </tr>\n",
       "  </thead>\n",
       "  <tbody>\n",
       "    <tr>\n",
       "      <td>0</td>\n",
       "      <td>2016-01-01</td>\n",
       "      <td>553</td>\n",
       "      <td>0</td>\n",
       "      <td>0</td>\n",
       "      <td>4</td>\n",
       "      <td>136</td>\n",
       "    </tr>\n",
       "    <tr>\n",
       "      <td>1</td>\n",
       "      <td>2016-01-02</td>\n",
       "      <td>541</td>\n",
       "      <td>0</td>\n",
       "      <td>1</td>\n",
       "      <td>5</td>\n",
       "      <td>120</td>\n",
       "    </tr>\n",
       "    <tr>\n",
       "      <td>2</td>\n",
       "      <td>2016-01-03</td>\n",
       "      <td>529</td>\n",
       "      <td>0</td>\n",
       "      <td>1</td>\n",
       "      <td>6</td>\n",
       "      <td>129</td>\n",
       "    </tr>\n",
       "    <tr>\n",
       "      <td>3</td>\n",
       "      <td>2016-01-04</td>\n",
       "      <td>574</td>\n",
       "      <td>0</td>\n",
       "      <td>0</td>\n",
       "      <td>0</td>\n",
       "      <td>130</td>\n",
       "    </tr>\n",
       "    <tr>\n",
       "      <td>4</td>\n",
       "      <td>2016-01-05</td>\n",
       "      <td>677</td>\n",
       "      <td>0</td>\n",
       "      <td>0</td>\n",
       "      <td>1</td>\n",
       "      <td>156</td>\n",
       "    </tr>\n",
       "  </tbody>\n",
       "</table>\n",
       "</div>"
      ],
      "text/plain": [
       "  Date_received  ReleasesCount  ImpDay  Weekend  DayOfWeek  \\\n",
       "0    2016-01-01            553       0        0          4   \n",
       "1    2016-01-02            541       0        1          5   \n",
       "2    2016-01-03            529       0        1          6   \n",
       "3    2016-01-04            574       0        0          0   \n",
       "4    2016-01-05            677       0        0          1   \n",
       "\n",
       "   UniqueReleasesCount  \n",
       "0                  136  \n",
       "1                  120  \n",
       "2                  129  \n",
       "3                  130  \n",
       "4                  156  "
      ]
     },
     "execution_count": 19,
     "metadata": {},
     "output_type": "execute_result"
    }
   ],
   "source": [
    "date_level = pd.read_csv('DataSets/DatasetsCreated/date_level.csv')\n",
    "date_level['Date_received'] =  date_level['Date_received'].astype('datetime64[ns]') \n",
    "date_level.head()"
   ]
  },
  {
   "cell_type": "markdown",
   "metadata": {},
   "source": [
    "## Lists to capture previous interactions"
   ]
  },
  {
   "cell_type": "markdown",
   "metadata": {},
   "source": [
    "### Merchant-User Buying List"
   ]
  },
  {
   "cell_type": "code",
   "execution_count": 20,
   "metadata": {},
   "outputs": [
    {
     "data": {
      "text/html": [
       "<div>\n",
       "<style scoped>\n",
       "    .dataframe tbody tr th:only-of-type {\n",
       "        vertical-align: middle;\n",
       "    }\n",
       "\n",
       "    .dataframe tbody tr th {\n",
       "        vertical-align: top;\n",
       "    }\n",
       "\n",
       "    .dataframe thead th {\n",
       "        text-align: right;\n",
       "    }\n",
       "</style>\n",
       "<table border=\"1\" class=\"dataframe\">\n",
       "  <thead>\n",
       "    <tr style=\"text-align: right;\">\n",
       "      <th></th>\n",
       "      <th>User_id</th>\n",
       "      <th>Merchant_id</th>\n",
       "      <th>Coupon_id</th>\n",
       "      <th>Discount_rate</th>\n",
       "      <th>Distance</th>\n",
       "      <th>Date_received</th>\n",
       "      <th>Date</th>\n",
       "      <th>Count</th>\n",
       "      <th>First_day</th>\n",
       "      <th>DayNum</th>\n",
       "    </tr>\n",
       "  </thead>\n",
       "  <tbody>\n",
       "    <tr>\n",
       "      <td>15</td>\n",
       "      <td>165</td>\n",
       "      <td>2934</td>\n",
       "      <td>NaN</td>\n",
       "      <td>NaN</td>\n",
       "      <td>0.0</td>\n",
       "      <td>NaT</td>\n",
       "      <td>2016-01-11</td>\n",
       "      <td>1</td>\n",
       "      <td>2016-01-01</td>\n",
       "      <td>11</td>\n",
       "    </tr>\n",
       "    <tr>\n",
       "      <td>16</td>\n",
       "      <td>165</td>\n",
       "      <td>2934</td>\n",
       "      <td>NaN</td>\n",
       "      <td>NaN</td>\n",
       "      <td>0.0</td>\n",
       "      <td>NaT</td>\n",
       "      <td>2016-01-25</td>\n",
       "      <td>1</td>\n",
       "      <td>2016-01-01</td>\n",
       "      <td>25</td>\n",
       "    </tr>\n",
       "    <tr>\n",
       "      <td>17</td>\n",
       "      <td>165</td>\n",
       "      <td>2934</td>\n",
       "      <td>NaN</td>\n",
       "      <td>NaN</td>\n",
       "      <td>0.0</td>\n",
       "      <td>NaT</td>\n",
       "      <td>2016-03-21</td>\n",
       "      <td>1</td>\n",
       "      <td>2016-01-01</td>\n",
       "      <td>81</td>\n",
       "    </tr>\n",
       "    <tr>\n",
       "      <td>18</td>\n",
       "      <td>165</td>\n",
       "      <td>2934</td>\n",
       "      <td>NaN</td>\n",
       "      <td>NaN</td>\n",
       "      <td>0.0</td>\n",
       "      <td>NaT</td>\n",
       "      <td>2016-03-28</td>\n",
       "      <td>1</td>\n",
       "      <td>2016-01-01</td>\n",
       "      <td>88</td>\n",
       "    </tr>\n",
       "    <tr>\n",
       "      <td>19</td>\n",
       "      <td>165</td>\n",
       "      <td>2934</td>\n",
       "      <td>NaN</td>\n",
       "      <td>NaN</td>\n",
       "      <td>0.0</td>\n",
       "      <td>NaT</td>\n",
       "      <td>2016-04-14</td>\n",
       "      <td>1</td>\n",
       "      <td>2016-01-01</td>\n",
       "      <td>105</td>\n",
       "    </tr>\n",
       "  </tbody>\n",
       "</table>\n",
       "</div>"
      ],
      "text/plain": [
       "    User_id  Merchant_id  Coupon_id Discount_rate  Distance Date_received  \\\n",
       "15      165         2934        NaN           NaN       0.0           NaT   \n",
       "16      165         2934        NaN           NaN       0.0           NaT   \n",
       "17      165         2934        NaN           NaN       0.0           NaT   \n",
       "18      165         2934        NaN           NaN       0.0           NaT   \n",
       "19      165         2934        NaN           NaN       0.0           NaT   \n",
       "\n",
       "         Date  Count  First_day  DayNum  \n",
       "15 2016-01-11      1 2016-01-01      11  \n",
       "16 2016-01-25      1 2016-01-01      25  \n",
       "17 2016-03-21      1 2016-01-01      81  \n",
       "18 2016-03-28      1 2016-01-01      88  \n",
       "19 2016-04-14      1 2016-01-01     105  "
      ]
     },
     "execution_count": 20,
     "metadata": {},
     "output_type": "execute_result"
    }
   ],
   "source": [
    "merchant_user_dates = df_off_unique[df_off_unique['Date'].isna()==False]\n",
    "merchant_user_dates['First_day'] = pd.to_datetime('20160101',format='%Y%m%d')\n",
    "merchant_user_dates['DayNum'] = merchant_user_dates['Date'] - merchant_user_dates['First_day'] \n",
    "merchant_user_dates['DayNum'] = merchant_user_dates['DayNum'].dt.days.astype('str')\n",
    "merchant_user_dates['DayNum'] = pd.to_numeric(merchant_user_dates['DayNum'],errors=\"coerce\") + 1\n",
    "merchant_user_dates.head()"
   ]
  },
  {
   "cell_type": "code",
   "execution_count": 21,
   "metadata": {},
   "outputs": [],
   "source": [
    "merchant_user_days = pd.DataFrame(merchant_user_dates.groupby(['User_id','Merchant_id'])['DayNum']\n",
    "                                  .apply(list).reset_index(name='Merchant_User_Visit'))\n"
   ]
  },
  {
   "cell_type": "code",
   "execution_count": 22,
   "metadata": {
    "scrolled": true
   },
   "outputs": [
    {
     "data": {
      "text/html": [
       "<div>\n",
       "<style scoped>\n",
       "    .dataframe tbody tr th:only-of-type {\n",
       "        vertical-align: middle;\n",
       "    }\n",
       "\n",
       "    .dataframe tbody tr th {\n",
       "        vertical-align: top;\n",
       "    }\n",
       "\n",
       "    .dataframe thead th {\n",
       "        text-align: right;\n",
       "    }\n",
       "</style>\n",
       "<table border=\"1\" class=\"dataframe\">\n",
       "  <thead>\n",
       "    <tr style=\"text-align: right;\">\n",
       "      <th></th>\n",
       "      <th>User_id</th>\n",
       "      <th>Merchant_id</th>\n",
       "      <th>Merchant_User_Visit</th>\n",
       "    </tr>\n",
       "  </thead>\n",
       "  <tbody>\n",
       "    <tr>\n",
       "      <td>0</td>\n",
       "      <td>165</td>\n",
       "      <td>2934</td>\n",
       "      <td>[11, 25, 81, 88, 105, 131, 154, 169]</td>\n",
       "    </tr>\n",
       "    <tr>\n",
       "      <td>1</td>\n",
       "      <td>165</td>\n",
       "      <td>4195</td>\n",
       "      <td>[97, 103, 111, 116, 139, 146]</td>\n",
       "    </tr>\n",
       "    <tr>\n",
       "      <td>2</td>\n",
       "      <td>184</td>\n",
       "      <td>3381</td>\n",
       "      <td>[59]</td>\n",
       "    </tr>\n",
       "    <tr>\n",
       "      <td>3</td>\n",
       "      <td>209</td>\n",
       "      <td>3267</td>\n",
       "      <td>[157]</td>\n",
       "    </tr>\n",
       "    <tr>\n",
       "      <td>4</td>\n",
       "      <td>215</td>\n",
       "      <td>129</td>\n",
       "      <td>[63]</td>\n",
       "    </tr>\n",
       "  </tbody>\n",
       "</table>\n",
       "</div>"
      ],
      "text/plain": [
       "   User_id  Merchant_id                   Merchant_User_Visit\n",
       "0      165         2934  [11, 25, 81, 88, 105, 131, 154, 169]\n",
       "1      165         4195         [97, 103, 111, 116, 139, 146]\n",
       "2      184         3381                                  [59]\n",
       "3      209         3267                                 [157]\n",
       "4      215          129                                  [63]"
      ]
     },
     "execution_count": 22,
     "metadata": {},
     "output_type": "execute_result"
    }
   ],
   "source": [
    "merchant_user_days['Merchant_User_Visit'] = merchant_user_days['Merchant_User_Visit'].apply(lambda x : sorted(set(x)))\n",
    "merchant_user_days.head()"
   ]
  },
  {
   "cell_type": "markdown",
   "metadata": {},
   "source": [
    "### Merchant User Releases List"
   ]
  },
  {
   "cell_type": "code",
   "execution_count": 23,
   "metadata": {},
   "outputs": [
    {
     "data": {
      "text/html": [
       "<div>\n",
       "<style scoped>\n",
       "    .dataframe tbody tr th:only-of-type {\n",
       "        vertical-align: middle;\n",
       "    }\n",
       "\n",
       "    .dataframe tbody tr th {\n",
       "        vertical-align: top;\n",
       "    }\n",
       "\n",
       "    .dataframe thead th {\n",
       "        text-align: right;\n",
       "    }\n",
       "</style>\n",
       "<table border=\"1\" class=\"dataframe\">\n",
       "  <thead>\n",
       "    <tr style=\"text-align: right;\">\n",
       "      <th></th>\n",
       "      <th>User_id</th>\n",
       "      <th>Merchant_id</th>\n",
       "      <th>Coupon_id</th>\n",
       "      <th>Discount_rate</th>\n",
       "      <th>Distance</th>\n",
       "      <th>Date_received</th>\n",
       "      <th>Date</th>\n",
       "      <th>Count</th>\n",
       "      <th>DateTrack</th>\n",
       "      <th>DayNum</th>\n",
       "      <th>Discount</th>\n",
       "      <th>Original_price</th>\n",
       "      <th>Discounted_price</th>\n",
       "      <th>Rate</th>\n",
       "      <th>First_day</th>\n",
       "    </tr>\n",
       "  </thead>\n",
       "  <tbody>\n",
       "    <tr>\n",
       "      <td>0</td>\n",
       "      <td>4</td>\n",
       "      <td>1433</td>\n",
       "      <td>8735.0</td>\n",
       "      <td>[30, 5, 0.833]</td>\n",
       "      <td>10</td>\n",
       "      <td>2016-02-14</td>\n",
       "      <td>NaT</td>\n",
       "      <td>1.0</td>\n",
       "      <td>2016-02-14</td>\n",
       "      <td>45</td>\n",
       "      <td>30:5</td>\n",
       "      <td>30</td>\n",
       "      <td>5</td>\n",
       "      <td>0.833</td>\n",
       "      <td>2016-01-01</td>\n",
       "    </tr>\n",
       "    <tr>\n",
       "      <td>1</td>\n",
       "      <td>4</td>\n",
       "      <td>1469</td>\n",
       "      <td>2902.0</td>\n",
       "      <td>[100, 5, 0.95]</td>\n",
       "      <td>10</td>\n",
       "      <td>2016-06-07</td>\n",
       "      <td>NaT</td>\n",
       "      <td>1.0</td>\n",
       "      <td>2016-06-07</td>\n",
       "      <td>159</td>\n",
       "      <td>0.95</td>\n",
       "      <td>100</td>\n",
       "      <td>5</td>\n",
       "      <td>0.950</td>\n",
       "      <td>2016-01-01</td>\n",
       "    </tr>\n",
       "    <tr>\n",
       "      <td>2</td>\n",
       "      <td>35</td>\n",
       "      <td>3381</td>\n",
       "      <td>1807.0</td>\n",
       "      <td>[300, 30, 0.9]</td>\n",
       "      <td>0</td>\n",
       "      <td>2016-01-30</td>\n",
       "      <td>NaT</td>\n",
       "      <td>1.0</td>\n",
       "      <td>2016-01-30</td>\n",
       "      <td>30</td>\n",
       "      <td>300:30</td>\n",
       "      <td>300</td>\n",
       "      <td>30</td>\n",
       "      <td>0.900</td>\n",
       "      <td>2016-01-01</td>\n",
       "    </tr>\n",
       "    <tr>\n",
       "      <td>3</td>\n",
       "      <td>35</td>\n",
       "      <td>3381</td>\n",
       "      <td>9776.0</td>\n",
       "      <td>[10, 5, 0.5]</td>\n",
       "      <td>0</td>\n",
       "      <td>2016-01-29</td>\n",
       "      <td>NaT</td>\n",
       "      <td>1.0</td>\n",
       "      <td>2016-01-29</td>\n",
       "      <td>29</td>\n",
       "      <td>10:5</td>\n",
       "      <td>10</td>\n",
       "      <td>5</td>\n",
       "      <td>0.500</td>\n",
       "      <td>2016-01-01</td>\n",
       "    </tr>\n",
       "    <tr>\n",
       "      <td>4</td>\n",
       "      <td>35</td>\n",
       "      <td>3381</td>\n",
       "      <td>11951.0</td>\n",
       "      <td>[200, 20, 0.9]</td>\n",
       "      <td>0</td>\n",
       "      <td>2016-01-29</td>\n",
       "      <td>NaT</td>\n",
       "      <td>1.0</td>\n",
       "      <td>2016-01-29</td>\n",
       "      <td>29</td>\n",
       "      <td>200:20</td>\n",
       "      <td>200</td>\n",
       "      <td>20</td>\n",
       "      <td>0.900</td>\n",
       "      <td>2016-01-01</td>\n",
       "    </tr>\n",
       "  </tbody>\n",
       "</table>\n",
       "</div>"
      ],
      "text/plain": [
       "   User_id  Merchant_id  Coupon_id   Discount_rate  Distance Date_received  \\\n",
       "0        4         1433     8735.0  [30, 5, 0.833]        10    2016-02-14   \n",
       "1        4         1469     2902.0  [100, 5, 0.95]        10    2016-06-07   \n",
       "2       35         3381     1807.0  [300, 30, 0.9]         0    2016-01-30   \n",
       "3       35         3381     9776.0    [10, 5, 0.5]         0    2016-01-29   \n",
       "4       35         3381    11951.0  [200, 20, 0.9]         0    2016-01-29   \n",
       "\n",
       "  Date  Count  DateTrack  DayNum Discount  Original_price  Discounted_price  \\\n",
       "0  NaT    1.0 2016-02-14      45     30:5              30                 5   \n",
       "1  NaT    1.0 2016-06-07     159     0.95             100                 5   \n",
       "2  NaT    1.0 2016-01-30      30   300:30             300                30   \n",
       "3  NaT    1.0 2016-01-29      29     10:5              10                 5   \n",
       "4  NaT    1.0 2016-01-29      29   200:20             200                20   \n",
       "\n",
       "    Rate  First_day  \n",
       "0  0.833 2016-01-01  \n",
       "1  0.950 2016-01-01  \n",
       "2  0.900 2016-01-01  \n",
       "3  0.500 2016-01-01  \n",
       "4  0.900 2016-01-01  "
      ]
     },
     "execution_count": 23,
     "metadata": {},
     "output_type": "execute_result"
    }
   ],
   "source": [
    "merchant_user_releases = df_data[df_data['Date_received'].isna()==False]\n",
    "merchant_user_releases['First_day'] = pd.to_datetime('20160101',format='%Y%m%d')\n",
    "merchant_user_releases['DayNum'] = merchant_user_releases['Date_received'] - merchant_user_releases['First_day'] \n",
    "merchant_user_releases['DayNum'] = merchant_user_releases['DayNum'].dt.days.astype('str')\n",
    "merchant_user_releases['DayNum'] = pd.to_numeric(merchant_user_releases['DayNum'],errors=\"coerce\") + 1\n",
    "merchant_user_releases.head()"
   ]
  },
  {
   "cell_type": "code",
   "execution_count": 24,
   "metadata": {},
   "outputs": [
    {
     "data": {
      "text/html": [
       "<div>\n",
       "<style scoped>\n",
       "    .dataframe tbody tr th:only-of-type {\n",
       "        vertical-align: middle;\n",
       "    }\n",
       "\n",
       "    .dataframe tbody tr th {\n",
       "        vertical-align: top;\n",
       "    }\n",
       "\n",
       "    .dataframe thead th {\n",
       "        text-align: right;\n",
       "    }\n",
       "</style>\n",
       "<table border=\"1\" class=\"dataframe\">\n",
       "  <thead>\n",
       "    <tr style=\"text-align: right;\">\n",
       "      <th></th>\n",
       "      <th>User_id</th>\n",
       "      <th>Merchant_id</th>\n",
       "      <th>MerchantUserReleaseList</th>\n",
       "    </tr>\n",
       "  </thead>\n",
       "  <tbody>\n",
       "    <tr>\n",
       "      <td>0</td>\n",
       "      <td>4</td>\n",
       "      <td>1433</td>\n",
       "      <td>[45]</td>\n",
       "    </tr>\n",
       "    <tr>\n",
       "      <td>1</td>\n",
       "      <td>4</td>\n",
       "      <td>1469</td>\n",
       "      <td>[159]</td>\n",
       "    </tr>\n",
       "    <tr>\n",
       "      <td>2</td>\n",
       "      <td>35</td>\n",
       "      <td>3381</td>\n",
       "      <td>[29, 29, 30, 30]</td>\n",
       "    </tr>\n",
       "    <tr>\n",
       "      <td>3</td>\n",
       "      <td>36</td>\n",
       "      <td>1041</td>\n",
       "      <td>[25]</td>\n",
       "    </tr>\n",
       "    <tr>\n",
       "      <td>4</td>\n",
       "      <td>36</td>\n",
       "      <td>5717</td>\n",
       "      <td>[25]</td>\n",
       "    </tr>\n",
       "  </tbody>\n",
       "</table>\n",
       "</div>"
      ],
      "text/plain": [
       "   User_id  Merchant_id MerchantUserReleaseList\n",
       "0        4         1433                    [45]\n",
       "1        4         1469                   [159]\n",
       "2       35         3381        [29, 29, 30, 30]\n",
       "3       36         1041                    [25]\n",
       "4       36         5717                    [25]"
      ]
     },
     "execution_count": 24,
     "metadata": {},
     "output_type": "execute_result"
    }
   ],
   "source": [
    "merchant_user_releases = pd.DataFrame(merchant_user_releases.groupby(['User_id','Merchant_id'])['DayNum']\n",
    "                                  .apply(list).reset_index(name='MerchantUserReleaseList'))\n",
    "merchant_user_releases['MerchantUserReleaseList'] = merchant_user_releases['MerchantUserReleaseList'].apply(lambda x : sorted(x))\n",
    "merchant_user_releases.head()"
   ]
  },
  {
   "cell_type": "markdown",
   "metadata": {},
   "source": [
    "### Merchant User Redeem List"
   ]
  },
  {
   "cell_type": "code",
   "execution_count": 25,
   "metadata": {},
   "outputs": [
    {
     "data": {
      "text/html": [
       "<div>\n",
       "<style scoped>\n",
       "    .dataframe tbody tr th:only-of-type {\n",
       "        vertical-align: middle;\n",
       "    }\n",
       "\n",
       "    .dataframe tbody tr th {\n",
       "        vertical-align: top;\n",
       "    }\n",
       "\n",
       "    .dataframe thead th {\n",
       "        text-align: right;\n",
       "    }\n",
       "</style>\n",
       "<table border=\"1\" class=\"dataframe\">\n",
       "  <thead>\n",
       "    <tr style=\"text-align: right;\">\n",
       "      <th></th>\n",
       "      <th>User_id</th>\n",
       "      <th>Merchant_id</th>\n",
       "      <th>Coupon_id</th>\n",
       "      <th>Discount_rate</th>\n",
       "      <th>Distance</th>\n",
       "      <th>Date_received</th>\n",
       "      <th>Date</th>\n",
       "      <th>Count</th>\n",
       "      <th>First_day</th>\n",
       "      <th>DayNum</th>\n",
       "    </tr>\n",
       "  </thead>\n",
       "  <tbody>\n",
       "    <tr>\n",
       "      <td>33</td>\n",
       "      <td>184</td>\n",
       "      <td>3381</td>\n",
       "      <td>9776.0</td>\n",
       "      <td>10:5</td>\n",
       "      <td>0.0</td>\n",
       "      <td>2016-01-29</td>\n",
       "      <td>2016-02-28</td>\n",
       "      <td>1</td>\n",
       "      <td>2016-01-01</td>\n",
       "      <td>59</td>\n",
       "    </tr>\n",
       "    <tr>\n",
       "      <td>76</td>\n",
       "      <td>417</td>\n",
       "      <td>775</td>\n",
       "      <td>5435.0</td>\n",
       "      <td>30:5</td>\n",
       "      <td>0.0</td>\n",
       "      <td>2016-03-29</td>\n",
       "      <td>2016-04-12</td>\n",
       "      <td>1</td>\n",
       "      <td>2016-01-01</td>\n",
       "      <td>103</td>\n",
       "    </tr>\n",
       "    <tr>\n",
       "      <td>150</td>\n",
       "      <td>687</td>\n",
       "      <td>6454</td>\n",
       "      <td>14031.0</td>\n",
       "      <td>100:10</td>\n",
       "      <td>NaN</td>\n",
       "      <td>2016-01-28</td>\n",
       "      <td>2016-01-30</td>\n",
       "      <td>1</td>\n",
       "      <td>2016-01-01</td>\n",
       "      <td>30</td>\n",
       "    </tr>\n",
       "    <tr>\n",
       "      <td>153</td>\n",
       "      <td>687</td>\n",
       "      <td>8594</td>\n",
       "      <td>9353.0</td>\n",
       "      <td>30:1</td>\n",
       "      <td>NaN</td>\n",
       "      <td>2016-03-28</td>\n",
       "      <td>2016-04-02</td>\n",
       "      <td>1</td>\n",
       "      <td>2016-01-01</td>\n",
       "      <td>93</td>\n",
       "    </tr>\n",
       "    <tr>\n",
       "      <td>158</td>\n",
       "      <td>696</td>\n",
       "      <td>4195</td>\n",
       "      <td>3726.0</td>\n",
       "      <td>0.9</td>\n",
       "      <td>0.0</td>\n",
       "      <td>2016-04-11</td>\n",
       "      <td>2016-04-13</td>\n",
       "      <td>1</td>\n",
       "      <td>2016-01-01</td>\n",
       "      <td>104</td>\n",
       "    </tr>\n",
       "  </tbody>\n",
       "</table>\n",
       "</div>"
      ],
      "text/plain": [
       "     User_id  Merchant_id  Coupon_id Discount_rate  Distance Date_received  \\\n",
       "33       184         3381     9776.0          10:5       0.0    2016-01-29   \n",
       "76       417          775     5435.0          30:5       0.0    2016-03-29   \n",
       "150      687         6454    14031.0        100:10       NaN    2016-01-28   \n",
       "153      687         8594     9353.0          30:1       NaN    2016-03-28   \n",
       "158      696         4195     3726.0           0.9       0.0    2016-04-11   \n",
       "\n",
       "          Date  Count  First_day  DayNum  \n",
       "33  2016-02-28      1 2016-01-01      59  \n",
       "76  2016-04-12      1 2016-01-01     103  \n",
       "150 2016-01-30      1 2016-01-01      30  \n",
       "153 2016-04-02      1 2016-01-01      93  \n",
       "158 2016-04-13      1 2016-01-01     104  "
      ]
     },
     "execution_count": 25,
     "metadata": {},
     "output_type": "execute_result"
    }
   ],
   "source": [
    "merchant_user_redeem = df_off_unique[(df_off_unique['Date_received'].isna()==False) \n",
    "                                     & (df_off_unique['Date'].isna()==False)]\n",
    "merchant_user_redeem['First_day'] = pd.to_datetime('20160101',format='%Y%m%d')\n",
    "merchant_user_redeem['DayNum'] = merchant_user_redeem['Date'] - merchant_user_redeem['First_day'] \n",
    "merchant_user_redeem['DayNum'] = merchant_user_redeem['DayNum'].dt.days.astype('str')\n",
    "merchant_user_redeem['DayNum'] = pd.to_numeric(merchant_user_redeem['DayNum'],errors=\"coerce\") + 1\n",
    "merchant_user_redeem.head()"
   ]
  },
  {
   "cell_type": "code",
   "execution_count": 26,
   "metadata": {},
   "outputs": [
    {
     "data": {
      "text/html": [
       "<div>\n",
       "<style scoped>\n",
       "    .dataframe tbody tr th:only-of-type {\n",
       "        vertical-align: middle;\n",
       "    }\n",
       "\n",
       "    .dataframe tbody tr th {\n",
       "        vertical-align: top;\n",
       "    }\n",
       "\n",
       "    .dataframe thead th {\n",
       "        text-align: right;\n",
       "    }\n",
       "</style>\n",
       "<table border=\"1\" class=\"dataframe\">\n",
       "  <thead>\n",
       "    <tr style=\"text-align: right;\">\n",
       "      <th></th>\n",
       "      <th>User_id</th>\n",
       "      <th>Merchant_id</th>\n",
       "      <th>MerchantUserRedeemList</th>\n",
       "    </tr>\n",
       "  </thead>\n",
       "  <tbody>\n",
       "    <tr>\n",
       "      <td>0</td>\n",
       "      <td>184</td>\n",
       "      <td>3381</td>\n",
       "      <td>[59]</td>\n",
       "    </tr>\n",
       "    <tr>\n",
       "      <td>1</td>\n",
       "      <td>417</td>\n",
       "      <td>775</td>\n",
       "      <td>[103]</td>\n",
       "    </tr>\n",
       "    <tr>\n",
       "      <td>2</td>\n",
       "      <td>687</td>\n",
       "      <td>6454</td>\n",
       "      <td>[30]</td>\n",
       "    </tr>\n",
       "    <tr>\n",
       "      <td>3</td>\n",
       "      <td>687</td>\n",
       "      <td>8594</td>\n",
       "      <td>[93]</td>\n",
       "    </tr>\n",
       "    <tr>\n",
       "      <td>4</td>\n",
       "      <td>696</td>\n",
       "      <td>4195</td>\n",
       "      <td>[104, 144, 145, 151]</td>\n",
       "    </tr>\n",
       "  </tbody>\n",
       "</table>\n",
       "</div>"
      ],
      "text/plain": [
       "   User_id  Merchant_id MerchantUserRedeemList\n",
       "0      184         3381                   [59]\n",
       "1      417          775                  [103]\n",
       "2      687         6454                   [30]\n",
       "3      687         8594                   [93]\n",
       "4      696         4195   [104, 144, 145, 151]"
      ]
     },
     "execution_count": 26,
     "metadata": {},
     "output_type": "execute_result"
    }
   ],
   "source": [
    "merchant_user_redeem = pd.DataFrame(merchant_user_redeem.groupby(['User_id','Merchant_id'])['DayNum']\n",
    "                                  .apply(list).reset_index(name='MerchantUserRedeemList'))\n",
    "merchant_user_redeem['MerchantUserRedeemList'] = merchant_user_redeem['MerchantUserRedeemList'].apply(lambda x : sorted(x))\n",
    "merchant_user_redeem.head()"
   ]
  },
  {
   "cell_type": "markdown",
   "metadata": {},
   "source": [
    "### User Coupon Release List"
   ]
  },
  {
   "cell_type": "code",
   "execution_count": 27,
   "metadata": {},
   "outputs": [
    {
     "data": {
      "text/html": [
       "<div>\n",
       "<style scoped>\n",
       "    .dataframe tbody tr th:only-of-type {\n",
       "        vertical-align: middle;\n",
       "    }\n",
       "\n",
       "    .dataframe tbody tr th {\n",
       "        vertical-align: top;\n",
       "    }\n",
       "\n",
       "    .dataframe thead th {\n",
       "        text-align: right;\n",
       "    }\n",
       "</style>\n",
       "<table border=\"1\" class=\"dataframe\">\n",
       "  <thead>\n",
       "    <tr style=\"text-align: right;\">\n",
       "      <th></th>\n",
       "      <th>User_id</th>\n",
       "      <th>Merchant_id</th>\n",
       "      <th>Coupon_id</th>\n",
       "      <th>Discount_rate</th>\n",
       "      <th>Distance</th>\n",
       "      <th>Date_received</th>\n",
       "      <th>Date</th>\n",
       "      <th>Count</th>\n",
       "      <th>DateTrack</th>\n",
       "      <th>DayNum</th>\n",
       "      <th>Discount</th>\n",
       "      <th>Original_price</th>\n",
       "      <th>Discounted_price</th>\n",
       "      <th>Rate</th>\n",
       "      <th>First_day</th>\n",
       "    </tr>\n",
       "  </thead>\n",
       "  <tbody>\n",
       "    <tr>\n",
       "      <td>0</td>\n",
       "      <td>4</td>\n",
       "      <td>1433</td>\n",
       "      <td>8735.0</td>\n",
       "      <td>[30, 5, 0.833]</td>\n",
       "      <td>10</td>\n",
       "      <td>2016-02-14</td>\n",
       "      <td>NaT</td>\n",
       "      <td>1.0</td>\n",
       "      <td>2016-02-14</td>\n",
       "      <td>45</td>\n",
       "      <td>30:5</td>\n",
       "      <td>30</td>\n",
       "      <td>5</td>\n",
       "      <td>0.833</td>\n",
       "      <td>2016-01-01</td>\n",
       "    </tr>\n",
       "    <tr>\n",
       "      <td>1</td>\n",
       "      <td>4</td>\n",
       "      <td>1469</td>\n",
       "      <td>2902.0</td>\n",
       "      <td>[100, 5, 0.95]</td>\n",
       "      <td>10</td>\n",
       "      <td>2016-06-07</td>\n",
       "      <td>NaT</td>\n",
       "      <td>1.0</td>\n",
       "      <td>2016-06-07</td>\n",
       "      <td>159</td>\n",
       "      <td>0.95</td>\n",
       "      <td>100</td>\n",
       "      <td>5</td>\n",
       "      <td>0.950</td>\n",
       "      <td>2016-01-01</td>\n",
       "    </tr>\n",
       "    <tr>\n",
       "      <td>2</td>\n",
       "      <td>35</td>\n",
       "      <td>3381</td>\n",
       "      <td>1807.0</td>\n",
       "      <td>[300, 30, 0.9]</td>\n",
       "      <td>0</td>\n",
       "      <td>2016-01-30</td>\n",
       "      <td>NaT</td>\n",
       "      <td>1.0</td>\n",
       "      <td>2016-01-30</td>\n",
       "      <td>30</td>\n",
       "      <td>300:30</td>\n",
       "      <td>300</td>\n",
       "      <td>30</td>\n",
       "      <td>0.900</td>\n",
       "      <td>2016-01-01</td>\n",
       "    </tr>\n",
       "    <tr>\n",
       "      <td>3</td>\n",
       "      <td>35</td>\n",
       "      <td>3381</td>\n",
       "      <td>9776.0</td>\n",
       "      <td>[10, 5, 0.5]</td>\n",
       "      <td>0</td>\n",
       "      <td>2016-01-29</td>\n",
       "      <td>NaT</td>\n",
       "      <td>1.0</td>\n",
       "      <td>2016-01-29</td>\n",
       "      <td>29</td>\n",
       "      <td>10:5</td>\n",
       "      <td>10</td>\n",
       "      <td>5</td>\n",
       "      <td>0.500</td>\n",
       "      <td>2016-01-01</td>\n",
       "    </tr>\n",
       "    <tr>\n",
       "      <td>4</td>\n",
       "      <td>35</td>\n",
       "      <td>3381</td>\n",
       "      <td>11951.0</td>\n",
       "      <td>[200, 20, 0.9]</td>\n",
       "      <td>0</td>\n",
       "      <td>2016-01-29</td>\n",
       "      <td>NaT</td>\n",
       "      <td>1.0</td>\n",
       "      <td>2016-01-29</td>\n",
       "      <td>29</td>\n",
       "      <td>200:20</td>\n",
       "      <td>200</td>\n",
       "      <td>20</td>\n",
       "      <td>0.900</td>\n",
       "      <td>2016-01-01</td>\n",
       "    </tr>\n",
       "  </tbody>\n",
       "</table>\n",
       "</div>"
      ],
      "text/plain": [
       "   User_id  Merchant_id  Coupon_id   Discount_rate  Distance Date_received  \\\n",
       "0        4         1433     8735.0  [30, 5, 0.833]        10    2016-02-14   \n",
       "1        4         1469     2902.0  [100, 5, 0.95]        10    2016-06-07   \n",
       "2       35         3381     1807.0  [300, 30, 0.9]         0    2016-01-30   \n",
       "3       35         3381     9776.0    [10, 5, 0.5]         0    2016-01-29   \n",
       "4       35         3381    11951.0  [200, 20, 0.9]         0    2016-01-29   \n",
       "\n",
       "  Date  Count  DateTrack  DayNum Discount  Original_price  Discounted_price  \\\n",
       "0  NaT    1.0 2016-02-14      45     30:5              30                 5   \n",
       "1  NaT    1.0 2016-06-07     159     0.95             100                 5   \n",
       "2  NaT    1.0 2016-01-30      30   300:30             300                30   \n",
       "3  NaT    1.0 2016-01-29      29     10:5              10                 5   \n",
       "4  NaT    1.0 2016-01-29      29   200:20             200                20   \n",
       "\n",
       "    Rate  First_day  \n",
       "0  0.833 2016-01-01  \n",
       "1  0.950 2016-01-01  \n",
       "2  0.900 2016-01-01  \n",
       "3  0.500 2016-01-01  \n",
       "4  0.900 2016-01-01  "
      ]
     },
     "execution_count": 27,
     "metadata": {},
     "output_type": "execute_result"
    }
   ],
   "source": [
    "coupon_user_dates = df_data.copy()\n",
    "coupon_user_dates['First_day'] = pd.to_datetime('20160101',format='%Y%m%d')\n",
    "coupon_user_dates['DayNum'] = coupon_user_dates['Date_received'] - coupon_user_dates['First_day'] \n",
    "coupon_user_dates['DayNum'] = coupon_user_dates['DayNum'].dt.days.astype('str')\n",
    "coupon_user_dates['DayNum'] = pd.to_numeric(coupon_user_dates['DayNum'],errors=\"coerce\") + 1\n",
    "coupon_user_dates.head()"
   ]
  },
  {
   "cell_type": "code",
   "execution_count": 28,
   "metadata": {},
   "outputs": [],
   "source": [
    "coupon_user_days = pd.DataFrame(coupon_user_dates.groupby(['User_id','Coupon_id'])['DayNum'].apply(list).reset_index(name='Coupon_User_Visit'))\n"
   ]
  },
  {
   "cell_type": "code",
   "execution_count": 29,
   "metadata": {},
   "outputs": [
    {
     "data": {
      "text/html": [
       "<div>\n",
       "<style scoped>\n",
       "    .dataframe tbody tr th:only-of-type {\n",
       "        vertical-align: middle;\n",
       "    }\n",
       "\n",
       "    .dataframe tbody tr th {\n",
       "        vertical-align: top;\n",
       "    }\n",
       "\n",
       "    .dataframe thead th {\n",
       "        text-align: right;\n",
       "    }\n",
       "</style>\n",
       "<table border=\"1\" class=\"dataframe\">\n",
       "  <thead>\n",
       "    <tr style=\"text-align: right;\">\n",
       "      <th></th>\n",
       "      <th>User_id</th>\n",
       "      <th>Coupon_id</th>\n",
       "      <th>Coupon_User_Visit</th>\n",
       "    </tr>\n",
       "  </thead>\n",
       "  <tbody>\n",
       "    <tr>\n",
       "      <td>0</td>\n",
       "      <td>4</td>\n",
       "      <td>2902.0</td>\n",
       "      <td>[159]</td>\n",
       "    </tr>\n",
       "    <tr>\n",
       "      <td>1</td>\n",
       "      <td>4</td>\n",
       "      <td>8735.0</td>\n",
       "      <td>[45]</td>\n",
       "    </tr>\n",
       "    <tr>\n",
       "      <td>2</td>\n",
       "      <td>35</td>\n",
       "      <td>1807.0</td>\n",
       "      <td>[30]</td>\n",
       "    </tr>\n",
       "    <tr>\n",
       "      <td>3</td>\n",
       "      <td>35</td>\n",
       "      <td>9776.0</td>\n",
       "      <td>[29]</td>\n",
       "    </tr>\n",
       "    <tr>\n",
       "      <td>4</td>\n",
       "      <td>35</td>\n",
       "      <td>11951.0</td>\n",
       "      <td>[29, 30]</td>\n",
       "    </tr>\n",
       "  </tbody>\n",
       "</table>\n",
       "</div>"
      ],
      "text/plain": [
       "   User_id  Coupon_id Coupon_User_Visit\n",
       "0        4     2902.0             [159]\n",
       "1        4     8735.0              [45]\n",
       "2       35     1807.0              [30]\n",
       "3       35     9776.0              [29]\n",
       "4       35    11951.0          [29, 30]"
      ]
     },
     "execution_count": 29,
     "metadata": {},
     "output_type": "execute_result"
    }
   ],
   "source": [
    "coupon_user_days['Coupon_User_Visit'] = coupon_user_days['Coupon_User_Visit'].apply(lambda x : sorted(set(x)))\n",
    "coupon_user_days.head()"
   ]
  },
  {
   "cell_type": "markdown",
   "metadata": {},
   "source": [
    "# Adding Features to DataSet"
   ]
  },
  {
   "cell_type": "code",
   "execution_count": 30,
   "metadata": {
    "scrolled": false
   },
   "outputs": [
    {
     "name": "stdout",
     "output_type": "stream",
     "text": [
      "1129029\n",
      "1129029\n",
      "1129029\n",
      "1129029\n",
      "1129029\n",
      "1129029\n",
      "1129029\n",
      "1129029\n"
     ]
    }
   ],
   "source": [
    "#Adding user level features \n",
    "data = df_data.merge(users_level,how='left',on='User_id')\n",
    "print(data.shape[0])\n",
    "\n",
    "#Adding merchant level features \n",
    "data = pd.merge(data, merchants_level, how='left', on='Merchant_id')\n",
    "print(data.shape[0])\n",
    "\n",
    "#Adding coupon level features \n",
    "data = pd.merge(data, coupons_level, how='left', on='Coupon_id')\n",
    "print(data.shape[0])\n",
    "\n",
    "#Adding date received level features \n",
    "data = pd.merge(data, date_level, how='left', on='Date_received')\n",
    "print(data.shape[0])\n",
    "\n",
    "# Adding merchant user buy list\n",
    "data = pd.merge(data,merchant_user_days,how='left', on=['User_id','Merchant_id'])\n",
    "print(data.shape[0])\n",
    "    \n",
    "# Adding coupon user release list\n",
    "data = pd.merge(data,coupon_user_days,how='left', on=['User_id','Coupon_id'])\n",
    "print(data.shape[0])\n",
    "\n",
    "    \n",
    "# Adding merchant user release list\n",
    "data = pd.merge(data,merchant_user_releases,how='left',  on=['User_id','Merchant_id'])\n",
    "print(data.shape[0])\n",
    "    \n",
    "# Adding merchant user redeem list\n",
    "data = pd.merge(data,merchant_user_redeem,how='left',  on=['User_id','Merchant_id'])\n",
    "print(data.shape[0])\n",
    "\n",
    "    \n",
    "for i in ['Coupon_User_Visit','Merchant_User_Visit','MerchantUserRedeemList','MerchantUserReleaseList']:\n",
    "    for row in data.loc[data[i].isnull(), i].index:\n",
    "        data.at[row, i] = []\n",
    "\n",
    "for i in ['UserReleaseList','UserRedeemList','DayList','MerchantReleaseList','MerchantRedeemList',\n",
    "          'MerchantBuyList','CouponReleaseList','CouponRedeemList']:\n",
    "    for row in data.loc[data[i].isnull(), i].index:\n",
    "        data.at[row, i] = '[]'\n",
    "\n"
   ]
  },
  {
   "cell_type": "code",
   "execution_count": 31,
   "metadata": {},
   "outputs": [],
   "source": [
    "# data.columns"
   ]
  },
  {
   "cell_type": "markdown",
   "metadata": {},
   "source": [
    "### Function to find the last visit or interaction"
   ]
  },
  {
   "cell_type": "code",
   "execution_count": 32,
   "metadata": {},
   "outputs": [],
   "source": [
    "def lastVisit(days, x, check):\n",
    "    if check:\n",
    "        days = literal_eval(days)\n",
    "    n = len(days)\n",
    "    if n==0:\n",
    "        return np.nan\n",
    "    x = int(x)\n",
    "    if x in days:\n",
    "        try:\n",
    "            i = days.index(x)\n",
    "            if i == 0:\n",
    "                return np.nan\n",
    "            return days[i]-days[i-1] \n",
    "        except IndexError:\n",
    "            return np.nan\n",
    "    if x > days[n-1]:\n",
    "        return x - days[n-1]\n",
    "    elif x < days[0]:\n",
    "        return np.nan\n",
    "    else:\n",
    "        for i in range(n):\n",
    "            if (days[i]>x) & (i>=1):\n",
    "                return x - days[i-1]\n",
    "    return np.nan"
   ]
  },
  {
   "cell_type": "markdown",
   "metadata": {},
   "source": [
    "### Function to calculate the total visits or interactions"
   ]
  },
  {
   "cell_type": "code",
   "execution_count": 33,
   "metadata": {},
   "outputs": [],
   "source": [
    "def lastCount(days, x, check):\n",
    "    if check:\n",
    "        days = literal_eval(days)\n",
    "    n = len(days)\n",
    "    if n==0:\n",
    "        return 0\n",
    "    x = int(x)\n",
    "    if x in days:\n",
    "        try:\n",
    "            i = days.index(x)\n",
    "            return i+1 \n",
    "        except IndexError:\n",
    "            return 0\n",
    "    if x > days[n-1]:\n",
    "        return n\n",
    "    elif x < days[0]:\n",
    "        return 0\n",
    "    else:\n",
    "        for d in range(n):\n",
    "            if (days[d]>x):\n",
    "                return d+1\n",
    "    return 0"
   ]
  },
  {
   "cell_type": "markdown",
   "metadata": {},
   "source": [
    "# Time Based Features"
   ]
  },
  {
   "cell_type": "markdown",
   "metadata": {},
   "source": [
    "## Time based user level features"
   ]
  },
  {
   "cell_type": "markdown",
   "metadata": {},
   "source": [
    "### User and Number of coupons given to the user"
   ]
  },
  {
   "cell_type": "code",
   "execution_count": 34,
   "metadata": {},
   "outputs": [],
   "source": [
    "data['UserReleasesTime'] = [lastCount(x,y, True) for (x,y) in \n",
    "                                   zip(data['UserReleaseList'],data['DayNum'])]"
   ]
  },
  {
   "cell_type": "markdown",
   "metadata": {},
   "source": [
    "### User and Number of coupons redeemed by the user"
   ]
  },
  {
   "cell_type": "code",
   "execution_count": 35,
   "metadata": {},
   "outputs": [],
   "source": [
    "data['UserRedeemTime'] = [lastCount(x,y, True) for (x,y) in \n",
    "                                   zip(data['UserRedeemList'],data['DayNum'])]"
   ]
  },
  {
   "cell_type": "markdown",
   "metadata": {},
   "source": [
    "### User and total purchases made by the user"
   ]
  },
  {
   "cell_type": "code",
   "execution_count": 36,
   "metadata": {},
   "outputs": [],
   "source": [
    "data['UserBuysTime'] = [lastCount(x,y, True) for (x,y) in \n",
    "                                   zip(data['DayList'],data['DayNum'])]"
   ]
  },
  {
   "cell_type": "markdown",
   "metadata": {},
   "source": [
    "### User Redeem/Buy ratio"
   ]
  },
  {
   "cell_type": "code",
   "execution_count": 37,
   "metadata": {},
   "outputs": [],
   "source": [
    "data['UserRedeemedBuyRatioTime'] = [x/y if y!=0 else 0 for x,y \n",
    "                                        in zip(data['UserRedeemTime'],data['UserBuysTime'])]"
   ]
  },
  {
   "cell_type": "markdown",
   "metadata": {},
   "source": [
    "### User Redeem/Buy ratio"
   ]
  },
  {
   "cell_type": "code",
   "execution_count": 38,
   "metadata": {},
   "outputs": [],
   "source": [
    "data['UserRatioTime'] = [x/y if y!=0 else 0 for x,y \n",
    "                                        in zip(data['UserRedeemTime'],data['UserReleasesTime'])]"
   ]
  },
  {
   "cell_type": "markdown",
   "metadata": {},
   "source": [
    "### User and its last visit"
   ]
  },
  {
   "cell_type": "code",
   "execution_count": 39,
   "metadata": {},
   "outputs": [],
   "source": [
    "data['LastUserVisit'] = [lastVisit(x,y, True) for (x,y) in zip(data['DayList'],data['DayNum'])]"
   ]
  },
  {
   "cell_type": "markdown",
   "metadata": {},
   "source": [
    "## Time based Merchant level features"
   ]
  },
  {
   "cell_type": "markdown",
   "metadata": {},
   "source": [
    "### Merchant and Number of coupons released by the merchant"
   ]
  },
  {
   "cell_type": "code",
   "execution_count": 40,
   "metadata": {},
   "outputs": [],
   "source": [
    "data['MerchantReleasesTime'] = [lastCount(x,y, True) for (x,y) in \n",
    "                                   zip(data['MerchantReleaseList'],data['DayNum'])]"
   ]
  },
  {
   "cell_type": "markdown",
   "metadata": {},
   "source": [
    "### Merchant and Number of coupons redeemed of that merchant"
   ]
  },
  {
   "cell_type": "code",
   "execution_count": 41,
   "metadata": {},
   "outputs": [],
   "source": [
    "data['MerchantRedeemTime'] = [lastCount(x,y, True) for (x,y) in \n",
    "                                   zip(data['MerchantRedeemList'],data['DayNum'])]"
   ]
  },
  {
   "cell_type": "markdown",
   "metadata": {},
   "source": [
    "### Merchant and Total purchases of that merchant"
   ]
  },
  {
   "cell_type": "code",
   "execution_count": 42,
   "metadata": {},
   "outputs": [],
   "source": [
    "data['MerchantBuysTime'] = [lastCount(x,y, True) for (x,y) in \n",
    "                                   zip(data['MerchantBuyList'],data['DayNum'])]"
   ]
  },
  {
   "cell_type": "markdown",
   "metadata": {},
   "source": [
    "### Merchant Redeem/Buy ratio"
   ]
  },
  {
   "cell_type": "code",
   "execution_count": 43,
   "metadata": {},
   "outputs": [],
   "source": [
    "data['MerchantRedeemedBuyRatioTime'] = [x/y if y!=0 else 0 for x,y \n",
    "                                        in zip(data['MerchantRedeemTime'],data['MerchantBuysTime'])]"
   ]
  },
  {
   "cell_type": "markdown",
   "metadata": {},
   "source": [
    "### Merchant Redeem/Release ratio"
   ]
  },
  {
   "cell_type": "code",
   "execution_count": 44,
   "metadata": {},
   "outputs": [],
   "source": [
    "data['MerchantRatioTime'] = [x/y if y!=0 else 0 for x,y \n",
    "                                        in zip(data['MerchantRedeemTime']\n",
    "                                               ,data['MerchantReleasesTime'])]"
   ]
  },
  {
   "cell_type": "markdown",
   "metadata": {},
   "source": [
    "### Merchant and its last visiting window"
   ]
  },
  {
   "cell_type": "code",
   "execution_count": 45,
   "metadata": {},
   "outputs": [],
   "source": [
    "data['LastMerchantVisit'] = [lastVisit(x,y, True) for (x,y) in \n",
    "                                      zip(data['MerchantBuyList'],data['DayNum'])]"
   ]
  },
  {
   "cell_type": "code",
   "execution_count": 46,
   "metadata": {},
   "outputs": [],
   "source": [
    "data['LastMerchantRedemption'] = [lastVisit(x,y, True) for (x,y) in \n",
    "                                           zip(data['MerchantRedeemList'],data['DayNum'])]"
   ]
  },
  {
   "cell_type": "markdown",
   "metadata": {},
   "source": [
    "### Merchant-User and its last buying window"
   ]
  },
  {
   "cell_type": "code",
   "execution_count": 47,
   "metadata": {},
   "outputs": [],
   "source": [
    "data['LastMerchantUserVisit'] = [lastVisit(x,y, False) for (x,y) in \n",
    "                                          zip(data['Merchant_User_Visit'],data['DayNum'])]"
   ]
  },
  {
   "cell_type": "markdown",
   "metadata": {},
   "source": [
    "## Time based Coupon level features"
   ]
  },
  {
   "cell_type": "markdown",
   "metadata": {},
   "source": [
    "### Number of coupons released"
   ]
  },
  {
   "cell_type": "code",
   "execution_count": 48,
   "metadata": {},
   "outputs": [],
   "source": [
    "data['CouponReleasesTime'] = [lastCount(x,y, True) for (x,y) in \n",
    "                                   zip(data['CouponReleaseList'],data['DayNum'])]"
   ]
  },
  {
   "cell_type": "markdown",
   "metadata": {},
   "source": [
    "### Number of coupons redeemed"
   ]
  },
  {
   "cell_type": "code",
   "execution_count": 49,
   "metadata": {},
   "outputs": [],
   "source": [
    "data['CouponRedeemTime'] = [lastCount(x,y, True) for (x,y) in \n",
    "                                   zip(data['CouponRedeemList'],data['DayNum'])]"
   ]
  },
  {
   "cell_type": "markdown",
   "metadata": {},
   "source": [
    "### Coupon Redeemed/Redeemed Ratio"
   ]
  },
  {
   "cell_type": "code",
   "execution_count": 50,
   "metadata": {},
   "outputs": [],
   "source": [
    "data['CouponRatioTime'] = [x/y if y!=0 else 0 for x,y \n",
    "                                        in zip(data['CouponRedeemTime']\n",
    "                                               ,data['CouponReleasesTime'])]"
   ]
  },
  {
   "cell_type": "markdown",
   "metadata": {},
   "source": [
    "### Coupon Duration Time"
   ]
  },
  {
   "cell_type": "code",
   "execution_count": 51,
   "metadata": {},
   "outputs": [],
   "source": [
    "data['CouponDurationTime'] = data['DayNum']-data['FirstReleaseDate']"
   ]
  },
  {
   "cell_type": "markdown",
   "metadata": {},
   "source": [
    "## Time based Merchant-User features"
   ]
  },
  {
   "cell_type": "markdown",
   "metadata": {},
   "source": [
    "### Number of coupons released"
   ]
  },
  {
   "cell_type": "code",
   "execution_count": 52,
   "metadata": {},
   "outputs": [],
   "source": [
    "data['MerchantUserReleasesTime'] = [lastCount(x,y, False) for (x,y) in \n",
    "                                   zip(data['MerchantUserReleaseList'],data['DayNum'])]"
   ]
  },
  {
   "cell_type": "markdown",
   "metadata": {},
   "source": [
    "### Number of coupons redeemed"
   ]
  },
  {
   "cell_type": "code",
   "execution_count": 53,
   "metadata": {},
   "outputs": [],
   "source": [
    "data['MerchantUserRedeemTime'] = [lastCount(x,y, False) for (x,y) in \n",
    "                                   zip(data['MerchantUserRedeemList'],data['DayNum'])]"
   ]
  },
  {
   "cell_type": "markdown",
   "metadata": {},
   "source": [
    "### Coupon Redeemed/Redeemed Ratio"
   ]
  },
  {
   "cell_type": "code",
   "execution_count": 54,
   "metadata": {},
   "outputs": [],
   "source": [
    "data['MerchantUserRatioTime'] = [x/y if y!=0 else 0 for x,y \n",
    "                                        in zip(data['MerchantUserRedeemTime']\n",
    "                                               ,data['MerchantUserReleasesTime'])]"
   ]
  },
  {
   "cell_type": "markdown",
   "metadata": {},
   "source": [
    "## Coupon-User and its last redeeming window"
   ]
  },
  {
   "cell_type": "code",
   "execution_count": 55,
   "metadata": {},
   "outputs": [],
   "source": [
    "data['LastCouponUserVisit']=[lastVisit(x,y, False) for (x,y) in \n",
    "                                          zip(data['Coupon_User_Visit'],data['DayNum'])]"
   ]
  },
  {
   "cell_type": "markdown",
   "metadata": {},
   "source": [
    "# Adding varaiables to track the first time users, merchants and coupons"
   ]
  },
  {
   "cell_type": "code",
   "execution_count": 56,
   "metadata": {},
   "outputs": [],
   "source": [
    "data['FirstTimeUser'] = [1 if x==x else 0 for x in data['LastUserVisit']]\n",
    "data['FirstTimeMerchant'] =[1 if x==x else 0 for x in data['LastMerchantVisit']]\n",
    "# data['FirstTimeCoupon'] = [1 if x==x else 0 for x in data['LastRedemption']]\n",
    "data['FirstTimeMerchantUser'] = [1 if x==x else 0 for x in data['LastMerchantUserVisit']]\n",
    "data['FirstTimeCouponUser'] =[1 if x==x else 0 for x in data['LastCouponUserVisit']]"
   ]
  },
  {
   "cell_type": "markdown",
   "metadata": {},
   "source": [
    "# Recency Variables"
   ]
  },
  {
   "cell_type": "markdown",
   "metadata": {},
   "source": [
    "## User Level Recency Variables"
   ]
  },
  {
   "cell_type": "markdown",
   "metadata": {},
   "source": [
    "### Recent Buys of User"
   ]
  },
  {
   "cell_type": "code",
   "execution_count": 57,
   "metadata": {},
   "outputs": [],
   "source": [
    "data['UserBuysRecent'] = [lastCount(x,y, True)-lastCount(x,y-15, True) if y>15 else 0 for (x,y) in \n",
    "                                   zip(data['DayList'],data['DayNum'])]"
   ]
  },
  {
   "cell_type": "markdown",
   "metadata": {},
   "source": [
    "### Recent Releases to User"
   ]
  },
  {
   "cell_type": "code",
   "execution_count": 58,
   "metadata": {},
   "outputs": [],
   "source": [
    "data['UserReleasesRecent'] = [lastCount(x,y, True)-lastCount(x,y-15, True) if y>15 else 0 for (x,y) in \n",
    "                                   zip(data['UserReleaseList'],data['DayNum'])]"
   ]
  },
  {
   "cell_type": "markdown",
   "metadata": {},
   "source": [
    "### Recent Redemption by User"
   ]
  },
  {
   "cell_type": "code",
   "execution_count": 59,
   "metadata": {},
   "outputs": [],
   "source": [
    "data['UserRedeemRecent'] = [lastCount(x,y, True)-lastCount(x,y-15, True) if y>15 else 0 for (x,y) in \n",
    "                                   zip(data['UserRedeemList'],data['DayNum'])]"
   ]
  },
  {
   "cell_type": "markdown",
   "metadata": {},
   "source": [
    "## Merchant Level Recency Variables"
   ]
  },
  {
   "cell_type": "markdown",
   "metadata": {},
   "source": [
    "### Recent Buys from Merchant"
   ]
  },
  {
   "cell_type": "code",
   "execution_count": 60,
   "metadata": {},
   "outputs": [],
   "source": [
    "data['MerchantBuysRecent'] = [lastCount(x,y, True)-lastCount(x,y-15, True) if y>15 else 0 for (x,y) in \n",
    "                                   zip(data['MerchantBuyList'],data['DayNum'])]"
   ]
  },
  {
   "cell_type": "markdown",
   "metadata": {},
   "source": [
    "### Recent Releases from Merchant"
   ]
  },
  {
   "cell_type": "code",
   "execution_count": 61,
   "metadata": {},
   "outputs": [],
   "source": [
    "data['MerchantReleasesRecent'] = [lastCount(x,y, True)-lastCount(x,y-15, True) if y>15 else 0 for (x,y) in \n",
    "                                   zip(data['MerchantReleaseList'],data['DayNum'])]"
   ]
  },
  {
   "cell_type": "markdown",
   "metadata": {},
   "source": [
    "### Recent Redemption from Merchant"
   ]
  },
  {
   "cell_type": "code",
   "execution_count": 62,
   "metadata": {},
   "outputs": [],
   "source": [
    "data['MerchantRedeemRecent'] = [lastCount(x,y, True)-lastCount(x,y-15, True) if y>15 else 0 for (x,y) in \n",
    "                                   zip(data['MerchantRedeemList'],data['DayNum'])]"
   ]
  },
  {
   "cell_type": "markdown",
   "metadata": {},
   "source": [
    "## Coupon Level Recency Variables"
   ]
  },
  {
   "cell_type": "markdown",
   "metadata": {},
   "source": [
    "### Recent Releases Coupon"
   ]
  },
  {
   "cell_type": "code",
   "execution_count": 63,
   "metadata": {},
   "outputs": [],
   "source": [
    "data['CouponReleasesRecent'] = [lastCount(x,y, True)-lastCount(x,y-15, True) if y>15 else 0 for (x,y) in \n",
    "                                   zip(data['CouponReleaseList'],data['DayNum'])]"
   ]
  },
  {
   "cell_type": "markdown",
   "metadata": {},
   "source": [
    "### Recent Redemption Coupon"
   ]
  },
  {
   "cell_type": "code",
   "execution_count": 64,
   "metadata": {},
   "outputs": [],
   "source": [
    "data['CouponRedeemRecent'] = [lastCount(x,y, True)-lastCount(x,y-15, True) if y>15 else 0 for (x,y) in \n",
    "                                   zip(data['CouponRedeemList'],data['DayNum'])]"
   ]
  },
  {
   "cell_type": "markdown",
   "metadata": {},
   "source": [
    "## Merchant User Level Recency Variables"
   ]
  },
  {
   "cell_type": "markdown",
   "metadata": {},
   "source": [
    "### Recent Merchant-User Releases"
   ]
  },
  {
   "cell_type": "code",
   "execution_count": 65,
   "metadata": {},
   "outputs": [],
   "source": [
    "data['MerchantUserReleasesRecent'] = [lastCount(x,y, False)-lastCount(x,y-15, False) if y>15 else 0 for (x,y) in \n",
    "                                   zip(data['MerchantUserReleaseList'],data['DayNum'])]"
   ]
  },
  {
   "cell_type": "markdown",
   "metadata": {},
   "source": [
    "### Recent Merchant-User Redeem"
   ]
  },
  {
   "cell_type": "code",
   "execution_count": 66,
   "metadata": {},
   "outputs": [],
   "source": [
    "data['MerchantUserRedeemRecent'] = [lastCount(x,y, False)-lastCount(x,y-15, False) if y>15 else 0 for (x,y) in \n",
    "                                   zip(data['MerchantUserRedeemList'],data['DayNum'])]"
   ]
  },
  {
   "cell_type": "markdown",
   "metadata": {},
   "source": [
    "## User-Merchant Relationship (New or Old)"
   ]
  },
  {
   "cell_type": "code",
   "execution_count": 67,
   "metadata": {},
   "outputs": [],
   "source": [
    "#New Merchant Old User\n",
    "data['NewMerchantOldUser'] = [1 if (x==1) & (y==0) else 0 for x,y in \n",
    "                         zip(data['FirstTimeMerchant'],data['FirstTimeUser'])]"
   ]
  },
  {
   "cell_type": "code",
   "execution_count": 68,
   "metadata": {},
   "outputs": [],
   "source": [
    "#Old Merchant New User\n",
    "data['OldMerchantNewUser'] = [1 if (x==0) & (y==1) else 0 for x,y in \n",
    "                         zip(data['FirstTimeMerchant'],data['FirstTimeUser'])]"
   ]
  },
  {
   "cell_type": "markdown",
   "metadata": {},
   "source": [
    "### Recent New Users added to merchants"
   ]
  },
  {
   "cell_type": "code",
   "execution_count": 69,
   "metadata": {},
   "outputs": [],
   "source": [
    "def recentNewMerchants(u_id, day):\n",
    "    recent = day-15\n",
    "    temp_data = data[(data['User_id']==u_id) & (data['DayNum']<day)]\n",
    "\n",
    "    new_merchants = temp_data[temp_data['DayNum']>recent]['FirstTimeMerchantUser'].sum()\n",
    "    overall_merchants = temp_data['Merchant_id'].nunique()\n",
    "\n",
    "    return [new_merchants, overall_merchants]"
   ]
  },
  {
   "cell_type": "code",
   "execution_count": 70,
   "metadata": {},
   "outputs": [],
   "source": [
    "# data['UsersRecentMerchants'] = [recentNewMerchants(x,y) for x, y in \n",
    "#                                         zip(data['User_id'], data['DayNum'])]\n"
   ]
  },
  {
   "cell_type": "code",
   "execution_count": 71,
   "metadata": {},
   "outputs": [],
   "source": [
    "# data[['UserNewMerchantsRecent','UserTotalMerchantsRecent']] = pd.DataFrame(data.UsersRecentMerchants.values.tolist(), index= data.index)\n",
    "# data.head()"
   ]
  },
  {
   "cell_type": "markdown",
   "metadata": {},
   "source": [
    "# Separating Train and Test Data"
   ]
  },
  {
   "cell_type": "code",
   "execution_count": 72,
   "metadata": {},
   "outputs": [],
   "source": [
    "train_dataset = data[data['DayNum']<=182] \n",
    "test_dataset  = data[data['DayNum']>182]"
   ]
  },
  {
   "cell_type": "markdown",
   "metadata": {},
   "source": [
    "## Adding Target Label"
   ]
  },
  {
   "cell_type": "code",
   "execution_count": 73,
   "metadata": {},
   "outputs": [
    {
     "data": {
      "text/plain": [
       "(1015389, 93)"
      ]
     },
     "execution_count": 73,
     "metadata": {},
     "output_type": "execute_result"
    }
   ],
   "source": [
    "train_dataset['Date'].fillna(pd.to_datetime('20161201',format='%Y%m%d'),inplace=True)\n",
    "train_dataset['RedemptionDuration'] = train_dataset['Date'] - train_dataset['Date_received']\n",
    "train_dataset['RedemptionDuration'] = train_dataset['RedemptionDuration'].dt.days.astype('str')\n",
    "train_dataset['RedemptionDuration'] = pd.to_numeric(train_dataset['RedemptionDuration'],errors=\"coerce\")\n",
    "train_dataset['Target'] = [1 if x<=15 else 0 for x in train_dataset['RedemptionDuration']]\n",
    "train_dataset.shape"
   ]
  },
  {
   "cell_type": "code",
   "execution_count": 74,
   "metadata": {},
   "outputs": [
    {
     "name": "stdout",
     "output_type": "stream",
     "text": [
      "Percentage of positive labels in training data: \n",
      "6.12%\n",
      "62153\n"
     ]
    }
   ],
   "source": [
    "print('Percentage of positive labels in training data: ')\n",
    "print(str(round((train_dataset[train_dataset['Target']==1].shape[0]/train_dataset.shape[0])* 100, 2))+\"%\")\n",
    "print(train_dataset[train_dataset['Target']==1].shape[0])"
   ]
  },
  {
   "cell_type": "code",
   "execution_count": 75,
   "metadata": {},
   "outputs": [],
   "source": [
    "test_dataset = test_dataset.drop('Date', axis=1)"
   ]
  },
  {
   "cell_type": "markdown",
   "metadata": {},
   "source": [
    "### Saving Train and test datasets"
   ]
  },
  {
   "cell_type": "code",
   "execution_count": 76,
   "metadata": {},
   "outputs": [],
   "source": [
    "train_dataset.to_csv('DataSets/DatasetsCreated/train_dataset.csv',index=False) "
   ]
  },
  {
   "cell_type": "code",
   "execution_count": 77,
   "metadata": {},
   "outputs": [],
   "source": [
    "test_dataset.to_csv('DataSets/DatasetsCreated/test_dataset.csv',index=False) "
   ]
  },
  {
   "cell_type": "code",
   "execution_count": null,
   "metadata": {},
   "outputs": [],
   "source": []
  }
 ],
 "metadata": {
  "kernelspec": {
   "display_name": "Python 3",
   "language": "python",
   "name": "python3"
  },
  "language_info": {
   "codemirror_mode": {
    "name": "ipython",
    "version": 3
   },
   "file_extension": ".py",
   "mimetype": "text/x-python",
   "name": "python",
   "nbconvert_exporter": "python",
   "pygments_lexer": "ipython3",
   "version": "3.7.4"
  }
 },
 "nbformat": 4,
 "nbformat_minor": 2
}
