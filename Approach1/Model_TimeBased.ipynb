{
 "cells": [
  {
   "cell_type": "code",
   "execution_count": 1,
   "metadata": {},
   "outputs": [],
   "source": [
    "import time\n",
    "now = time.time()"
   ]
  },
  {
   "cell_type": "code",
   "execution_count": 2,
   "metadata": {},
   "outputs": [],
   "source": [
    "%matplotlib inline\n",
    "import pandas as pd\n",
    "import numpy as np\n",
    "import matplotlib.pyplot as plt\n",
    "import seaborn as sns\n",
    "import warnings\n",
    "warnings.filterwarnings(\"ignore\")"
   ]
  },
  {
   "cell_type": "code",
   "execution_count": 3,
   "metadata": {},
   "outputs": [
    {
     "data": {
      "text/plain": [
       "(1015389, 85)"
      ]
     },
     "execution_count": 3,
     "metadata": {},
     "output_type": "execute_result"
    }
   ],
   "source": [
    "train_dataset = pd.read_csv('DataSets/DatasetsCreated/train_dataset.csv')\n",
    "train_dataset.shape"
   ]
  },
  {
   "cell_type": "code",
   "execution_count": 4,
   "metadata": {},
   "outputs": [
    {
     "data": {
      "text/plain": [
       "(113640, 81)"
      ]
     },
     "execution_count": 4,
     "metadata": {},
     "output_type": "execute_result"
    }
   ],
   "source": [
    "test_dataset = pd.read_csv('DataSets/DatasetsCreated/test_dataset.csv')\n",
    "test_dataset.shape"
   ]
  },
  {
   "cell_type": "code",
   "execution_count": 5,
   "metadata": {},
   "outputs": [
    {
     "data": {
      "text/html": [
       "<div>\n",
       "<style scoped>\n",
       "    .dataframe tbody tr th:only-of-type {\n",
       "        vertical-align: middle;\n",
       "    }\n",
       "\n",
       "    .dataframe tbody tr th {\n",
       "        vertical-align: top;\n",
       "    }\n",
       "\n",
       "    .dataframe thead th {\n",
       "        text-align: right;\n",
       "    }\n",
       "</style>\n",
       "<table border=\"1\" class=\"dataframe\">\n",
       "  <thead>\n",
       "    <tr style=\"text-align: right;\">\n",
       "      <th></th>\n",
       "      <th>User_id</th>\n",
       "      <th>Merchant_id</th>\n",
       "      <th>Coupon_id</th>\n",
       "      <th>Discount_rate</th>\n",
       "      <th>Distance</th>\n",
       "      <th>Date_received</th>\n",
       "      <th>Discount</th>\n",
       "      <th>Original_price</th>\n",
       "      <th>Discounted_price</th>\n",
       "      <th>Rate</th>\n",
       "      <th>...</th>\n",
       "      <th>CouponReleasesTime</th>\n",
       "      <th>CouponRedeemTime</th>\n",
       "      <th>CouponRatioTime</th>\n",
       "      <th>MerchantUserReleasesTime</th>\n",
       "      <th>MerchantUserRedeemTime</th>\n",
       "      <th>MerchantUserRatioTime</th>\n",
       "      <th>FirstTimeUser</th>\n",
       "      <th>FirstTimeMerchant</th>\n",
       "      <th>FirstTimeMerchantUser</th>\n",
       "      <th>FirstTimeCouponUser</th>\n",
       "    </tr>\n",
       "  </thead>\n",
       "  <tbody>\n",
       "    <tr>\n",
       "      <td>0</td>\n",
       "      <td>4129537</td>\n",
       "      <td>450</td>\n",
       "      <td>9983</td>\n",
       "      <td>[30, 5, 0.833]</td>\n",
       "      <td>1.0</td>\n",
       "      <td>2016-07-12</td>\n",
       "      <td>30:5</td>\n",
       "      <td>30</td>\n",
       "      <td>5</td>\n",
       "      <td>0.833</td>\n",
       "      <td>...</td>\n",
       "      <td>0</td>\n",
       "      <td>0</td>\n",
       "      <td>0.000000</td>\n",
       "      <td>1</td>\n",
       "      <td>0</td>\n",
       "      <td>0.0</td>\n",
       "      <td>0</td>\n",
       "      <td>1</td>\n",
       "      <td>0</td>\n",
       "      <td>0</td>\n",
       "    </tr>\n",
       "    <tr>\n",
       "      <td>1</td>\n",
       "      <td>6949378</td>\n",
       "      <td>1300</td>\n",
       "      <td>3429</td>\n",
       "      <td>[30, 5, 0.833]</td>\n",
       "      <td>NaN</td>\n",
       "      <td>2016-07-06</td>\n",
       "      <td>30:5</td>\n",
       "      <td>30</td>\n",
       "      <td>5</td>\n",
       "      <td>0.833</td>\n",
       "      <td>...</td>\n",
       "      <td>0</td>\n",
       "      <td>0</td>\n",
       "      <td>0.000000</td>\n",
       "      <td>0</td>\n",
       "      <td>0</td>\n",
       "      <td>0.0</td>\n",
       "      <td>1</td>\n",
       "      <td>1</td>\n",
       "      <td>0</td>\n",
       "      <td>0</td>\n",
       "    </tr>\n",
       "    <tr>\n",
       "      <td>2</td>\n",
       "      <td>2166529</td>\n",
       "      <td>7113</td>\n",
       "      <td>6928</td>\n",
       "      <td>[200, 20, 0.9]</td>\n",
       "      <td>5.0</td>\n",
       "      <td>2016-07-27</td>\n",
       "      <td>200:20</td>\n",
       "      <td>200</td>\n",
       "      <td>20</td>\n",
       "      <td>0.900</td>\n",
       "      <td>...</td>\n",
       "      <td>50</td>\n",
       "      <td>9</td>\n",
       "      <td>0.180000</td>\n",
       "      <td>0</td>\n",
       "      <td>0</td>\n",
       "      <td>0.0</td>\n",
       "      <td>1</td>\n",
       "      <td>1</td>\n",
       "      <td>0</td>\n",
       "      <td>0</td>\n",
       "    </tr>\n",
       "    <tr>\n",
       "      <td>3</td>\n",
       "      <td>2166529</td>\n",
       "      <td>7113</td>\n",
       "      <td>1808</td>\n",
       "      <td>[100, 10, 0.9]</td>\n",
       "      <td>5.0</td>\n",
       "      <td>2016-07-27</td>\n",
       "      <td>100:10</td>\n",
       "      <td>100</td>\n",
       "      <td>10</td>\n",
       "      <td>0.900</td>\n",
       "      <td>...</td>\n",
       "      <td>50</td>\n",
       "      <td>27</td>\n",
       "      <td>0.540000</td>\n",
       "      <td>0</td>\n",
       "      <td>0</td>\n",
       "      <td>0.0</td>\n",
       "      <td>1</td>\n",
       "      <td>1</td>\n",
       "      <td>0</td>\n",
       "      <td>0</td>\n",
       "    </tr>\n",
       "    <tr>\n",
       "      <td>4</td>\n",
       "      <td>6172162</td>\n",
       "      <td>7605</td>\n",
       "      <td>6500</td>\n",
       "      <td>[30, 1, 0.967]</td>\n",
       "      <td>2.0</td>\n",
       "      <td>2016-07-08</td>\n",
       "      <td>30:1</td>\n",
       "      <td>30</td>\n",
       "      <td>1</td>\n",
       "      <td>0.967</td>\n",
       "      <td>...</td>\n",
       "      <td>7</td>\n",
       "      <td>8</td>\n",
       "      <td>1.142857</td>\n",
       "      <td>0</td>\n",
       "      <td>0</td>\n",
       "      <td>0.0</td>\n",
       "      <td>1</td>\n",
       "      <td>1</td>\n",
       "      <td>0</td>\n",
       "      <td>0</td>\n",
       "    </tr>\n",
       "  </tbody>\n",
       "</table>\n",
       "<p>5 rows × 81 columns</p>\n",
       "</div>"
      ],
      "text/plain": [
       "   User_id  Merchant_id  Coupon_id   Discount_rate  Distance Date_received  \\\n",
       "0  4129537          450       9983  [30, 5, 0.833]       1.0    2016-07-12   \n",
       "1  6949378         1300       3429  [30, 5, 0.833]       NaN    2016-07-06   \n",
       "2  2166529         7113       6928  [200, 20, 0.9]       5.0    2016-07-27   \n",
       "3  2166529         7113       1808  [100, 10, 0.9]       5.0    2016-07-27   \n",
       "4  6172162         7605       6500  [30, 1, 0.967]       2.0    2016-07-08   \n",
       "\n",
       "  Discount  Original_price  Discounted_price   Rate  ...  CouponReleasesTime  \\\n",
       "0     30:5              30                 5  0.833  ...                   0   \n",
       "1     30:5              30                 5  0.833  ...                   0   \n",
       "2   200:20             200                20  0.900  ...                  50   \n",
       "3   100:10             100                10  0.900  ...                  50   \n",
       "4     30:1              30                 1  0.967  ...                   7   \n",
       "\n",
       "   CouponRedeemTime  CouponRatioTime  MerchantUserReleasesTime  \\\n",
       "0                 0         0.000000                         1   \n",
       "1                 0         0.000000                         0   \n",
       "2                 9         0.180000                         0   \n",
       "3                27         0.540000                         0   \n",
       "4                 8         1.142857                         0   \n",
       "\n",
       "   MerchantUserRedeemTime  MerchantUserRatioTime  FirstTimeUser  \\\n",
       "0                       0                    0.0              0   \n",
       "1                       0                    0.0              1   \n",
       "2                       0                    0.0              1   \n",
       "3                       0                    0.0              1   \n",
       "4                       0                    0.0              1   \n",
       "\n",
       "  FirstTimeMerchant FirstTimeMerchantUser FirstTimeCouponUser  \n",
       "0                 1                     0                   0  \n",
       "1                 1                     0                   0  \n",
       "2                 1                     0                   0  \n",
       "3                 1                     0                   0  \n",
       "4                 1                     0                   0  \n",
       "\n",
       "[5 rows x 81 columns]"
      ]
     },
     "execution_count": 5,
     "metadata": {},
     "output_type": "execute_result"
    }
   ],
   "source": [
    "test_dataset = test_dataset.replace([np.inf, -np.inf], 0)\n",
    "test_dataset.head()"
   ]
  },
  {
   "cell_type": "markdown",
   "metadata": {},
   "source": [
    "## Categorical Data"
   ]
  },
  {
   "cell_type": "code",
   "execution_count": 6,
   "metadata": {},
   "outputs": [],
   "source": [
    "# categorical_features = ['Tag', 'Purchaser', 'Merchant_Popular']\n",
    "# for feature in categorical_features:\n",
    "#     train_dataset[feature] = pd.Categorical(train_dataset[feature])\n",
    "\n",
    "# One Hot Encoding\n",
    "# train_dataset = pd.concat([train_dataset,pd.get_dummies(train_dataset['Tag'], prefix='Tag',prefix_sep='_', drop_first=True,dummy_na=False)],axis=1)\n",
    "# train_dataset = pd.concat([train_dataset,pd.get_dummies(train_dataset['DayOfWeek'], prefix='DayOfWeek',prefix_sep='_', drop_first=True,dummy_na=False)],axis=1)\n"
   ]
  },
  {
   "cell_type": "code",
   "execution_count": 7,
   "metadata": {},
   "outputs": [
    {
     "data": {
      "text/plain": [
       "Index(['User_id', 'Merchant_id', 'Coupon_id', 'Discount_rate', 'Distance',\n",
       "       'Date_received', 'Date', 'Count', 'Discount', 'Original_price',\n",
       "       'Discounted_price', 'Rate', 'Tag', 'User_Released', 'User_Redeemed',\n",
       "       'User_Ratio', 'User_Buys', 'Purchaser', 'UserMerchantCount', 'DayList',\n",
       "       'UserReleaseList', 'UserRedeemList', 'User_Redeemed_Buy',\n",
       "       'Merchant_Redeemed', 'Merchant_Ratio', 'Merchant_AvgDistance',\n",
       "       'Merchant_Popular', 'Merchant_AvgRate', 'AvgDailyUsers',\n",
       "       'MerchantBuyList', 'MerchantReleaseList', 'MerchantRedeemList',\n",
       "       'UniqueUsersCount', 'Merchant_Buys', 'Merchant_Redeemed_Buy',\n",
       "       'Coupon_Released', 'Coupon_Redeemed', 'Coupon_Ratio', 'Duration',\n",
       "       'CouponRedeemList', 'CouponReleaseList', 'ReleasesCount', 'ImpDay',\n",
       "       'Weekend', 'DayOfWeek', 'Visits', 'User_Merchant_Ratio',\n",
       "       'User_Coupon_Redeemed', 'User_Coupon_Ratio', 'Discounted_Redeemed',\n",
       "       'User_discount_Ratio', 'Merchant_User_Visit', 'Coupon_User_Visit',\n",
       "       'MerchantUserReleaseList', 'MerchantUserRedeemList', 'DateTrack',\n",
       "       'First_day', 'DayNum', 'LastUserVisit', 'LastMerchantVisit',\n",
       "       'LastMerchantRedemption', 'LastMerchantUserVisit',\n",
       "       'LastCouponUserVisit', 'UserReleasesTime', 'UserRedeemTime',\n",
       "       'UserBuysTime', 'UserRedeemedBuyRatioTime', 'UserRatioTime',\n",
       "       'MerchantReleasesTime', 'MerchantRedeemTime', 'MerchantBuysTime',\n",
       "       'MerchantRedeemedBuyRatioTime', 'MerchantRatioTime',\n",
       "       'CouponReleasesTime', 'CouponRedeemTime', 'CouponRatioTime',\n",
       "       'MerchantUserReleasesTime', 'MerchantUserRedeemTime',\n",
       "       'MerchantUserRatioTime', 'RedemptionDuration', 'Target',\n",
       "       'FirstTimeUser', 'FirstTimeMerchant', 'FirstTimeMerchantUser',\n",
       "       'FirstTimeCouponUser'],\n",
       "      dtype='object')"
      ]
     },
     "execution_count": 7,
     "metadata": {},
     "output_type": "execute_result"
    }
   ],
   "source": [
    "train_dataset.columns"
   ]
  },
  {
   "cell_type": "markdown",
   "metadata": {},
   "source": [
    "## Final Features"
   ]
  },
  {
   "cell_type": "code",
   "execution_count": 8,
   "metadata": {},
   "outputs": [
    {
     "name": "stdout",
     "output_type": "stream",
     "text": [
      "Features to be included:39\n",
      "['Visits', 'MerchantUserReleasesTime', 'Original_price', 'Rate', 'LastMerchantRedemption', 'Merchant_AvgRate', 'MerchantRedeemedBuyRatioTime', 'MerchantRatioTime', 'Tag', 'User_Merchant_Ratio', 'Duration', 'MerchantBuysTime', 'LastUserVisit', 'UserRedeemTime', 'FirstTimeUser', 'FirstTimeMerchantUser', 'UserRedeemedBuyRatioTime', 'LastMerchantUserVisit', 'CouponRatioTime', 'Discounted_price', 'MerchantRedeemTime', 'AvgDailyUsers', 'UniqueUsersCount', 'Merchant_AvgDistance', 'Distance', 'LastCouponUserVisit', 'CouponRedeemTime', 'LastMerchantVisit', 'MerchantUserRedeemTime', 'UserRatioTime', 'CouponReleasesTime', 'FirstTimeCouponUser', 'FirstTimeMerchant', 'UserBuysTime', 'UserMerchantCount', 'UserReleasesTime', 'ReleasesCount', 'MerchantUserRatioTime', 'MerchantReleasesTime']\n"
     ]
    }
   ],
   "source": [
    "remove_columns = ['User_id', 'Merchant_id', 'Coupon_id', 'Discount_rate','Discount','Date_received',\n",
    "                  'Date','Count','RedemptionDuration','DayList','DateTrack','DayNum','First_day',\n",
    "                  'MerchantBuyList', 'Merchant_User_Visit', 'MerchantRedeemList','MerchantReleaseList',\n",
    "                  'User_Coupon_Redeemed', 'User_Coupon_Ratio','User_discount_Ratio','Discounted_Redeemed',\n",
    "                  'Coupon_User_Visit','UserReleaseList','UserRedeemList','CouponRedeemList','CouponReleaseList',\n",
    "                 'MerchantUserReleaseList','MerchantUserRedeemList']\n",
    "#                   ,'User_Merchant_Ratio']\n",
    "unimportant_features = ['DayOfWeek','Weekend','ImpDay','Merchant_Popular','Purchaser']\n",
    "non_time_based = ['User_Redeemed_Buy','User_Buys','User_Redeemed','User_Released','User_Ratio',\n",
    "                 'Merchant_Ratio','Merchant_Redeemed','Merchant_Buys', 'Merchant_Redeemed_Buy',\n",
    "                 'Coupon_Redeemed','Coupon_Released','Coupon_Ratio']\n",
    "features = list(set(train_dataset.columns)-set(remove_columns)-set(['Target'])-set(unimportant_features)-set(non_time_based))\n",
    "print('Features to be included:'+str(len(features)))                  \n",
    "print(features)"
   ]
  },
  {
   "cell_type": "markdown",
   "metadata": {},
   "source": [
    "## Positive and Negative classes distribution"
   ]
  },
  {
   "cell_type": "code",
   "execution_count": 9,
   "metadata": {},
   "outputs": [
    {
     "name": "stdout",
     "output_type": "stream",
     "text": [
      "0    953236\n",
      "1     62153\n",
      "Name: Target, dtype: int64\n"
     ]
    },
    {
     "data": {
      "image/png": "[encoded data removed]",
      "text/plain": [
       "<Figure size 432x288 with 1 Axes>"
      ]
     },
     "metadata": {
      "needs_background": "light"
     },
     "output_type": "display_data"
    }
   ],
   "source": [
    "ax = sns.countplot(x='Target', data=train_dataset)\n",
    "print(train_dataset['Target'].value_counts())"
   ]
  },
  {
   "cell_type": "markdown",
   "metadata": {},
   "source": [
    "# Model"
   ]
  },
  {
   "cell_type": "code",
   "execution_count": 10,
   "metadata": {},
   "outputs": [],
   "source": [
    "from sklearn.ensemble import RandomForestClassifier\n",
    "from sklearn.metrics import roc_auc_score\n",
    "from sklearn.preprocessing import MinMaxScaler\n",
    "from sklearn.model_selection import train_test_split\n",
    "from sklearn.metrics import classification_report \n",
    "from sklearn.metrics import confusion_matrix\n",
    "from sklearn import metrics\n",
    "from xgboost import XGBClassifier\n",
    "from xgboost import plot_importance\n",
    "from matplotlib import pyplot\n",
    "from sklearn.model_selection import KFold\n",
    "import xgboost as xgb\n",
    "from sklearn.metrics import precision_score,recall_score\n",
    "from sklearn.model_selection import GridSearchCV\n",
    "# from imblearn.over_sampling import SMOTE"
   ]
  },
  {
   "cell_type": "code",
   "execution_count": 11,
   "metadata": {},
   "outputs": [],
   "source": [
    "def save_model(model):\n",
    "    #saving model\n",
    "    from sklearn.externals import joblib \n",
    "\n",
    "    # Save the model as a pickle in a file \n",
    "    joblib.dump(model, 'Model/xgboost.pkl') \n",
    "\n",
    "    # Load the model from the file \n",
    "    clf_saved= joblib.load('Model/xgboost.pkl')  \n"
   ]
  },
  {
   "cell_type": "code",
   "execution_count": 12,
   "metadata": {},
   "outputs": [],
   "source": [
    "y = list(train_dataset['Target'])\n",
    "X = train_dataset\n",
    "X_train, X_test, y_train, y_test = train_test_split(X, y, test_size=0.15, random_state=100)\n",
    "X_train, X_val, y_train, y_val= train_test_split(X_train, y_train, test_size=0.175)"
   ]
  },
  {
   "cell_type": "markdown",
   "metadata": {},
   "source": [
    "### XGBoost"
   ]
  },
  {
   "cell_type": "code",
   "execution_count": 13,
   "metadata": {},
   "outputs": [],
   "source": [
    "# params = {\n",
    "#         'min_child_weight': [5],                       #[1,2,3,4,5],\n",
    "#         'gamma': [1],                                  #[0,0.5, 1, 1.5, 2, 5],\n",
    "#         'subsample': [0.8],                              #[0.6, 0.8,1.0],\n",
    "#         'colsample_bytree': [0.8],                       #[0.6, 0.8,1.0],\n",
    "#         'max_depth': [5],                                #[3,4,5],\n",
    "#         'learning_rate': [0.1],                          #[0.01,0.05,0.1,0.5],\n",
    "#         'scale_pos_weight': [1],                         #[1],                 \n",
    "#         'alpha': [0.2]                                   #[0.1,0.2,0.3,0.4,0.5]\n",
    "#         }\n",
    "\n",
    "clf = XGBClassifier(\n",
    "     n_estimators=500,\n",
    "     objective= 'binary:logistic',\n",
    "     nthread=3,\n",
    "     scale_pos_weight=1,\n",
    "     seed=410,\n",
    "     alpha=0.2,\n",
    "     colsample_bytree=0.8,\n",
    "     gamma=1,\n",
    "     learning_rate=0.1,\n",
    "     max_depth=5,\n",
    "     min_child_weight=5,\n",
    "     subsample=0.8)\n"
   ]
  },
  {
   "cell_type": "markdown",
   "metadata": {},
   "source": [
    "## Method 1: Class Weight (Balancing)"
   ]
  },
  {
   "cell_type": "code",
   "execution_count": 14,
   "metadata": {},
   "outputs": [],
   "source": [
    "# weights = np.linspace(0.05, 0.95, 5)\n",
    "# gsc = GridSearchCV(\n",
    "#     estimator=clf,\n",
    "#     param_grid={\n",
    "#         'class_weight': [{0: x, 1: 1.0-x} for x in weights]\n",
    "#     },\n",
    "#     scoring='f1',\n",
    "#     cv=5\n",
    "# )\n",
    "# grid_result = gsc.fit(X_train[features][:1000], y_train[:1000])\n",
    "# print(\"Best parameters : %s\" % grid_result.best_params_)\n"
   ]
  },
  {
   "cell_type": "markdown",
   "metadata": {},
   "source": [
    "## Method 2: SMOTE "
   ]
  },
  {
   "cell_type": "code",
   "execution_count": 15,
   "metadata": {},
   "outputs": [],
   "source": [
    "# weights = np.linspace(0.005, 0.25, 5)\n",
    "\n",
    "# gsc = GridSearchCV(\n",
    "#     estimator=clf,\n",
    "#     param_grid={\n",
    "#         'smote__ratio': weights\n",
    "#     },\n",
    "#     scoring='f1',\n",
    "#     cv=3\n",
    "# )\n",
    "# grid_result = gsc.fit(X_train[features][:100000], y_train[:100000])\n",
    "\n",
    "# print(\"Best parameters : %s\" % grid_result.best_params_)"
   ]
  },
  {
   "cell_type": "code",
   "execution_count": null,
   "metadata": {},
   "outputs": [],
   "source": []
  },
  {
   "cell_type": "code",
   "execution_count": 16,
   "metadata": {},
   "outputs": [
    {
     "data": {
      "text/plain": [
       "array([0.05 , 0.275, 0.5  , 0.725, 0.95 ])"
      ]
     },
     "execution_count": 16,
     "metadata": {},
     "output_type": "execute_result"
    }
   ],
   "source": [
    "np.linspace(0.05, 0.95, 5)"
   ]
  },
  {
   "cell_type": "code",
   "execution_count": 17,
   "metadata": {},
   "outputs": [],
   "source": [
    "def train_model():\n",
    "\n",
    "    clf = XGBClassifier(\n",
    "     n_estimators=500,\n",
    "     objective= 'binary:logistic',\n",
    "     nthread=3,\n",
    "     scale_pos_weight=1,\n",
    "     seed=410,\n",
    "     alpha=0.2,\n",
    "     colsample_bytree=0.8,\n",
    "     gamma=1,\n",
    "     learning_rate=0.1,\n",
    "     max_depth=5,\n",
    "     min_child_weight=5,\n",
    "     subsample=0.8,\n",
    "    smote__ratio=0.005,\n",
    "    class_weight={0: 0.05, 1: 0.95})\n",
    "    \n",
    "    model = clf.fit(X_train[features], y_train)\n",
    "#     save_model(model)\n",
    "    \n",
    "    ax = plot_importance(model)\n",
    "    fig = ax.figure\n",
    "    fig.set_size_inches(15, 9)\n",
    "    plt.show()\n",
    "\n",
    "    return model\n"
   ]
  },
  {
   "cell_type": "code",
   "execution_count": 18,
   "metadata": {},
   "outputs": [
    {
     "data": {
      "image/png": "[encoded data removed]",
      "text/plain": [
       "<Figure size 1080x648 with 1 Axes>"
      ]
     },
     "metadata": {
      "needs_background": "light"
     },
     "output_type": "display_data"
    }
   ],
   "source": [
    "model = train_model()"
   ]
  },
  {
   "cell_type": "code",
   "execution_count": 19,
   "metadata": {},
   "outputs": [],
   "source": [
    "# feature_importances = pd.DataFrame(model.feature_importances_,index = features,columns=['importance']).sort_values('importance',ascending=True)\n",
    "# feature_importances.plot(kind='barh',figsize=(10,20))"
   ]
  },
  {
   "cell_type": "code",
   "execution_count": 20,
   "metadata": {},
   "outputs": [],
   "source": [
    "def evaluate_model(X_check, y_check):\n",
    "    \n",
    "    \n",
    "    predictions = (model.predict_proba(X_check[features])[:,1]).tolist()\n",
    "    predicted_values = (model.predict(X_check[features])).tolist()\n",
    "    dataset = X_check.copy()\n",
    "    dataset['Probability'] = [round(i, 6) for i in predictions]\n",
    "    output = dataset[['User_id','Merchant_id','Date_received','Probability']]\n",
    "    \n",
    "    \n",
    "\n",
    "    roc_score = round(roc_auc_score(y_check, predictions), 3)\n",
    "\n",
    "    print('ROC AUC Score of Probailities:  '+ str(roc_score))\n",
    "    print('ROC AUC Curve')\n",
    "    fpr, tpr, _ = metrics.roc_curve(y_check, predictions)\n",
    "    auc = metrics.roc_auc_score(y_check, predictions)\n",
    "    plt.plot(fpr,tpr,label=\"auc=\"+str(auc))\n",
    "    plt.legend(loc=4)\n",
    "    plt.show()\n",
    "    \n",
    "    predicted_values = [1 if x>0.5 else 0 for x in predictions]\n",
    "    print('______________________________________________________________________')\n",
    "    print('\\n The classification report for the model:')\n",
    "    print(classification_report(y_check, predicted_values) )\n",
    "    \n",
    "    results = confusion_matrix(y_check, predicted_values) \n",
    "    print('______________________________________________________________________')\n",
    "    print('\\n The confusion matrix for the model:')\n",
    "    print(results)\n",
    "    print('______________________________________________________________________')\n",
    "    \n",
    "#     threshold = np.arange(0,1,0.001)\n",
    "#     precision = np.zeros(len(threshold))\n",
    "#     recall = np.zeros(len(threshold))\n",
    "#     for i in range(len(threshold)):\n",
    "#         y1 = np.zeros(len(y_check),dtype=int)\n",
    "#         y1 = np.where(predictions<=threshold[i],0,1)\n",
    "#         precision[i] = precision_score(y_check,y1)\n",
    "#         recall[i] = recall_score(y_check,y1)\n",
    "\n",
    "#     plt.figure(figsize=(12,9))\n",
    "#     sns.set_style('whitegrid')\n",
    "#     sns.lineplot(x=threshold,y=precision)\n",
    "#     sns.lineplot(x=threshold,y=recall)\n",
    "#     plt.xlabel('Threshold')\n",
    "#     plt.title('Recall and Precision Values Vs Threshhold values')\n",
    "#     plt.show()\n",
    "    \n",
    "    return output, dataset\n",
    "    "
   ]
  },
  {
   "cell_type": "markdown",
   "metadata": {},
   "source": [
    "## Validation Data Scores"
   ]
  },
  {
   "cell_type": "code",
   "execution_count": 21,
   "metadata": {},
   "outputs": [
    {
     "name": "stdout",
     "output_type": "stream",
     "text": [
      "ROC AUC Score of Probailities:  0.995\n",
      "ROC AUC Curve\n"
     ]
    },
    {
     "data": {
      "image/png": "[encoded data removed]",
      "text/plain": [
       "<Figure size 432x288 with 1 Axes>"
      ]
     },
     "metadata": {
      "needs_background": "light"
     },
     "output_type": "display_data"
    },
    {
     "name": "stdout",
     "output_type": "stream",
     "text": [
      "______________________________________________________________________\n",
      "\n",
      " The classification report for the model:\n",
      "              precision    recall  f1-score   support\n",
      "\n",
      "           0       0.99      0.99      0.99    141842\n",
      "           1       0.81      0.85      0.83      9197\n",
      "\n",
      "    accuracy                           0.98    151039\n",
      "   macro avg       0.90      0.92      0.91    151039\n",
      "weighted avg       0.98      0.98      0.98    151039\n",
      "\n",
      "______________________________________________________________________\n",
      "\n",
      " The confusion matrix for the model:\n",
      "[[139985   1857]\n",
      " [  1356   7841]]\n",
      "______________________________________________________________________\n"
     ]
    },
    {
     "data": {
      "text/html": [
       "<div>\n",
       "<style scoped>\n",
       "    .dataframe tbody tr th:only-of-type {\n",
       "        vertical-align: middle;\n",
       "    }\n",
       "\n",
       "    .dataframe tbody tr th {\n",
       "        vertical-align: top;\n",
       "    }\n",
       "\n",
       "    .dataframe thead th {\n",
       "        text-align: right;\n",
       "    }\n",
       "</style>\n",
       "<table border=\"1\" class=\"dataframe\">\n",
       "  <thead>\n",
       "    <tr style=\"text-align: right;\">\n",
       "      <th></th>\n",
       "      <th>User_id</th>\n",
       "      <th>Merchant_id</th>\n",
       "      <th>Date_received</th>\n",
       "      <th>Probability</th>\n",
       "    </tr>\n",
       "  </thead>\n",
       "  <tbody>\n",
       "    <tr>\n",
       "      <td>690701</td>\n",
       "      <td>5014688</td>\n",
       "      <td>5516</td>\n",
       "      <td>2016-05-05</td>\n",
       "      <td>0.000009</td>\n",
       "    </tr>\n",
       "    <tr>\n",
       "      <td>432019</td>\n",
       "      <td>3138654</td>\n",
       "      <td>4663</td>\n",
       "      <td>2016-05-28</td>\n",
       "      <td>0.000003</td>\n",
       "    </tr>\n",
       "    <tr>\n",
       "      <td>899031</td>\n",
       "      <td>6518024</td>\n",
       "      <td>8678</td>\n",
       "      <td>2016-05-12</td>\n",
       "      <td>0.545213</td>\n",
       "    </tr>\n",
       "    <tr>\n",
       "      <td>543459</td>\n",
       "      <td>3953940</td>\n",
       "      <td>3621</td>\n",
       "      <td>2016-06-11</td>\n",
       "      <td>0.019224</td>\n",
       "    </tr>\n",
       "    <tr>\n",
       "      <td>543383</td>\n",
       "      <td>3953477</td>\n",
       "      <td>3381</td>\n",
       "      <td>2016-04-18</td>\n",
       "      <td>0.000002</td>\n",
       "    </tr>\n",
       "  </tbody>\n",
       "</table>\n",
       "</div>"
      ],
      "text/plain": [
       "        User_id  Merchant_id Date_received  Probability\n",
       "690701  5014688         5516    2016-05-05     0.000009\n",
       "432019  3138654         4663    2016-05-28     0.000003\n",
       "899031  6518024         8678    2016-05-12     0.545213\n",
       "543459  3953940         3621    2016-06-11     0.019224\n",
       "543383  3953477         3381    2016-04-18     0.000002"
      ]
     },
     "execution_count": 21,
     "metadata": {},
     "output_type": "execute_result"
    }
   ],
   "source": [
    "val_output, val_data = evaluate_model(X_val, y_val)\n",
    "val_output.head()"
   ]
  },
  {
   "cell_type": "markdown",
   "metadata": {},
   "source": [
    "### Analysing Validation Data results"
   ]
  },
  {
   "cell_type": "code",
   "execution_count": 22,
   "metadata": {},
   "outputs": [
    {
     "data": {
      "text/plain": [
       "(147826, 86)"
      ]
     },
     "execution_count": 22,
     "metadata": {},
     "output_type": "execute_result"
    }
   ],
   "source": [
    "correct = val_data[((val_data['Target']==0)&(val_data['Probability']<0.5)) |\n",
    "                   ((val_data['Target']==1)&(val_data['Probability']>=0.5))]\n",
    "correct.shape"
   ]
  },
  {
   "cell_type": "code",
   "execution_count": 23,
   "metadata": {},
   "outputs": [
    {
     "data": {
      "text/html": [
       "<div>\n",
       "<style scoped>\n",
       "    .dataframe tbody tr th:only-of-type {\n",
       "        vertical-align: middle;\n",
       "    }\n",
       "\n",
       "    .dataframe tbody tr th {\n",
       "        vertical-align: top;\n",
       "    }\n",
       "\n",
       "    .dataframe thead th {\n",
       "        text-align: right;\n",
       "    }\n",
       "</style>\n",
       "<table border=\"1\" class=\"dataframe\">\n",
       "  <thead>\n",
       "    <tr style=\"text-align: right;\">\n",
       "      <th></th>\n",
       "      <th>FirstTimeUser</th>\n",
       "      <th>FirstTimeMerchant</th>\n",
       "      <th>FirstTimeMerchantUser</th>\n",
       "      <th>FirstTimeCouponUser</th>\n",
       "    </tr>\n",
       "  </thead>\n",
       "  <tbody>\n",
       "    <tr>\n",
       "      <td>count</td>\n",
       "      <td>147826.000000</td>\n",
       "      <td>147826.000000</td>\n",
       "      <td>147826.000000</td>\n",
       "      <td>147826.000000</td>\n",
       "    </tr>\n",
       "    <tr>\n",
       "      <td>mean</td>\n",
       "      <td>0.448135</td>\n",
       "      <td>0.993601</td>\n",
       "      <td>0.162197</td>\n",
       "      <td>0.050458</td>\n",
       "    </tr>\n",
       "    <tr>\n",
       "      <td>std</td>\n",
       "      <td>0.497304</td>\n",
       "      <td>0.079740</td>\n",
       "      <td>0.368633</td>\n",
       "      <td>0.218889</td>\n",
       "    </tr>\n",
       "    <tr>\n",
       "      <td>min</td>\n",
       "      <td>0.000000</td>\n",
       "      <td>0.000000</td>\n",
       "      <td>0.000000</td>\n",
       "      <td>0.000000</td>\n",
       "    </tr>\n",
       "    <tr>\n",
       "      <td>25%</td>\n",
       "      <td>0.000000</td>\n",
       "      <td>1.000000</td>\n",
       "      <td>0.000000</td>\n",
       "      <td>0.000000</td>\n",
       "    </tr>\n",
       "    <tr>\n",
       "      <td>50%</td>\n",
       "      <td>0.000000</td>\n",
       "      <td>1.000000</td>\n",
       "      <td>0.000000</td>\n",
       "      <td>0.000000</td>\n",
       "    </tr>\n",
       "    <tr>\n",
       "      <td>75%</td>\n",
       "      <td>1.000000</td>\n",
       "      <td>1.000000</td>\n",
       "      <td>0.000000</td>\n",
       "      <td>0.000000</td>\n",
       "    </tr>\n",
       "    <tr>\n",
       "      <td>max</td>\n",
       "      <td>1.000000</td>\n",
       "      <td>1.000000</td>\n",
       "      <td>1.000000</td>\n",
       "      <td>1.000000</td>\n",
       "    </tr>\n",
       "  </tbody>\n",
       "</table>\n",
       "</div>"
      ],
      "text/plain": [
       "       FirstTimeUser  FirstTimeMerchant  FirstTimeMerchantUser  \\\n",
       "count  147826.000000      147826.000000          147826.000000   \n",
       "mean        0.448135           0.993601               0.162197   \n",
       "std         0.497304           0.079740               0.368633   \n",
       "min         0.000000           0.000000               0.000000   \n",
       "25%         0.000000           1.000000               0.000000   \n",
       "50%         0.000000           1.000000               0.000000   \n",
       "75%         1.000000           1.000000               0.000000   \n",
       "max         1.000000           1.000000               1.000000   \n",
       "\n",
       "       FirstTimeCouponUser  \n",
       "count        147826.000000  \n",
       "mean              0.050458  \n",
       "std               0.218889  \n",
       "min               0.000000  \n",
       "25%               0.000000  \n",
       "50%               0.000000  \n",
       "75%               0.000000  \n",
       "max               1.000000  "
      ]
     },
     "execution_count": 23,
     "metadata": {},
     "output_type": "execute_result"
    }
   ],
   "source": [
    "correct[['FirstTimeUser','FirstTimeMerchant', 'FirstTimeMerchantUser',\n",
    "       'FirstTimeCouponUser']].describe()"
   ]
  },
  {
   "cell_type": "code",
   "execution_count": 24,
   "metadata": {},
   "outputs": [
    {
     "data": {
      "text/plain": [
       "(3213, 86)"
      ]
     },
     "execution_count": 24,
     "metadata": {},
     "output_type": "execute_result"
    }
   ],
   "source": [
    "incorrect = val_data[((val_data['Target']==0)&(val_data['Probability']>=0.5)) |\n",
    "                   ((val_data['Target']==1)&(val_data['Probability']<0.5))]\n",
    "incorrect.shape"
   ]
  },
  {
   "cell_type": "code",
   "execution_count": 25,
   "metadata": {},
   "outputs": [
    {
     "data": {
      "text/html": [
       "<div>\n",
       "<style scoped>\n",
       "    .dataframe tbody tr th:only-of-type {\n",
       "        vertical-align: middle;\n",
       "    }\n",
       "\n",
       "    .dataframe tbody tr th {\n",
       "        vertical-align: top;\n",
       "    }\n",
       "\n",
       "    .dataframe thead th {\n",
       "        text-align: right;\n",
       "    }\n",
       "</style>\n",
       "<table border=\"1\" class=\"dataframe\">\n",
       "  <thead>\n",
       "    <tr style=\"text-align: right;\">\n",
       "      <th></th>\n",
       "      <th>FirstTimeUser</th>\n",
       "      <th>FirstTimeMerchant</th>\n",
       "      <th>FirstTimeMerchantUser</th>\n",
       "      <th>FirstTimeCouponUser</th>\n",
       "    </tr>\n",
       "  </thead>\n",
       "  <tbody>\n",
       "    <tr>\n",
       "      <td>count</td>\n",
       "      <td>3213.000000</td>\n",
       "      <td>3213.000000</td>\n",
       "      <td>3213.000000</td>\n",
       "      <td>3213.000000</td>\n",
       "    </tr>\n",
       "    <tr>\n",
       "      <td>mean</td>\n",
       "      <td>0.752568</td>\n",
       "      <td>0.989729</td>\n",
       "      <td>0.550265</td>\n",
       "      <td>0.252723</td>\n",
       "    </tr>\n",
       "    <tr>\n",
       "      <td>std</td>\n",
       "      <td>0.431587</td>\n",
       "      <td>0.100839</td>\n",
       "      <td>0.497544</td>\n",
       "      <td>0.434641</td>\n",
       "    </tr>\n",
       "    <tr>\n",
       "      <td>min</td>\n",
       "      <td>0.000000</td>\n",
       "      <td>0.000000</td>\n",
       "      <td>0.000000</td>\n",
       "      <td>0.000000</td>\n",
       "    </tr>\n",
       "    <tr>\n",
       "      <td>25%</td>\n",
       "      <td>1.000000</td>\n",
       "      <td>1.000000</td>\n",
       "      <td>0.000000</td>\n",
       "      <td>0.000000</td>\n",
       "    </tr>\n",
       "    <tr>\n",
       "      <td>50%</td>\n",
       "      <td>1.000000</td>\n",
       "      <td>1.000000</td>\n",
       "      <td>1.000000</td>\n",
       "      <td>0.000000</td>\n",
       "    </tr>\n",
       "    <tr>\n",
       "      <td>75%</td>\n",
       "      <td>1.000000</td>\n",
       "      <td>1.000000</td>\n",
       "      <td>1.000000</td>\n",
       "      <td>1.000000</td>\n",
       "    </tr>\n",
       "    <tr>\n",
       "      <td>max</td>\n",
       "      <td>1.000000</td>\n",
       "      <td>1.000000</td>\n",
       "      <td>1.000000</td>\n",
       "      <td>1.000000</td>\n",
       "    </tr>\n",
       "  </tbody>\n",
       "</table>\n",
       "</div>"
      ],
      "text/plain": [
       "       FirstTimeUser  FirstTimeMerchant  FirstTimeMerchantUser  \\\n",
       "count    3213.000000        3213.000000            3213.000000   \n",
       "mean        0.752568           0.989729               0.550265   \n",
       "std         0.431587           0.100839               0.497544   \n",
       "min         0.000000           0.000000               0.000000   \n",
       "25%         1.000000           1.000000               0.000000   \n",
       "50%         1.000000           1.000000               1.000000   \n",
       "75%         1.000000           1.000000               1.000000   \n",
       "max         1.000000           1.000000               1.000000   \n",
       "\n",
       "       FirstTimeCouponUser  \n",
       "count          3213.000000  \n",
       "mean              0.252723  \n",
       "std               0.434641  \n",
       "min               0.000000  \n",
       "25%               0.000000  \n",
       "50%               0.000000  \n",
       "75%               1.000000  \n",
       "max               1.000000  "
      ]
     },
     "execution_count": 25,
     "metadata": {},
     "output_type": "execute_result"
    }
   ],
   "source": [
    "incorrect[['FirstTimeUser','FirstTimeMerchant', 'FirstTimeMerchantUser',\n",
    "       'FirstTimeCouponUser']].describe()"
   ]
  },
  {
   "cell_type": "code",
   "execution_count": 26,
   "metadata": {},
   "outputs": [
    {
     "data": {
      "image/png": "[encoded data removed]",
      "text/plain": [
       "<Figure size 1440x504 with 2 Axes>"
      ]
     },
     "metadata": {
      "needs_background": "light"
     },
     "output_type": "display_data"
    }
   ],
   "source": [
    "#First time user \n",
    "fig,(ax1,ax2) = plt.subplots(nrows=1,ncols=2,figsize=(20,7))\n",
    "plt.subplot(121)\n",
    "ax1 = sns.countplot(correct['FirstTimeUser'])\n",
    "ax1.set_xticklabels(ax1.get_xticklabels(),rotation=90)\n",
    "total = len(correct['FirstTimeUser'])\n",
    "for p in ax1.patches:\n",
    "        ax1.annotate('{:.1f}%'.format(100 * p.get_height()/total), (p.get_x()+0.1, p.get_height()+50))\n",
    "\n",
    "plt.xlabel('First Time User')\n",
    "plt.ylabel('Count')\n",
    "plt.title('Correctly Classified: First Time User Plot')\n",
    "\n",
    "plt.subplot(122)\n",
    "\n",
    "ax2 = sns.countplot(incorrect['FirstTimeUser'])\n",
    "ax2.set_xticklabels(ax2.get_xticklabels(),rotation=90)\n",
    "total = len(incorrect['FirstTimeUser'])\n",
    "for p in ax2.patches:\n",
    "        ax2.annotate('{:.1f}%'.format(100 * p.get_height()/total), (p.get_x()+0.1, p.get_height()+50))\n",
    "        \n",
    "plt.xlabel('First Time User')\n",
    "plt.ylabel('Count')\n",
    "plt.title('Incorrectly Classified: First Time User Plot')\n",
    "\n",
    "plt.show()"
   ]
  },
  {
   "cell_type": "code",
   "execution_count": 27,
   "metadata": {},
   "outputs": [
    {
     "data": {
      "image/png": "[encoded data removed]",
      "text/plain": [
       "<Figure size 1440x504 with 2 Axes>"
      ]
     },
     "metadata": {
      "needs_background": "light"
     },
     "output_type": "display_data"
    }
   ],
   "source": [
    "#First time Merchant-User pair\n",
    "fig,(ax1,ax2) = plt.subplots(nrows=1,ncols=2,figsize=(20,7))\n",
    "plt.subplot(121)\n",
    "ax1 = sns.countplot(correct['FirstTimeMerchantUser'])\n",
    "ax1.set_xticklabels(ax1.get_xticklabels(),rotation=90)\n",
    "total = len(correct['FirstTimeMerchantUser'])\n",
    "for p in ax1.patches:\n",
    "        ax1.annotate('{:.1f}%'.format(100 * p.get_height()/total), (p.get_x()+0.1, p.get_height()+50))\n",
    "\n",
    "plt.xlabel('First Time Merchant-User pair')\n",
    "plt.ylabel('Count')\n",
    "plt.title('Correctly Classified: First Time Merchant-User pair Plot')\n",
    "\n",
    "plt.subplot(122)\n",
    "\n",
    "ax2 = sns.countplot(incorrect['FirstTimeMerchantUser'])\n",
    "ax2.set_xticklabels(ax2.get_xticklabels(),rotation=90)\n",
    "total = len(incorrect['FirstTimeMerchantUser'])\n",
    "for p in ax2.patches:\n",
    "        ax2.annotate('{:.1f}%'.format(100 * p.get_height()/total), (p.get_x()+0.1, p.get_height()+50))\n",
    "        \n",
    "plt.xlabel('First Time Merchant-User pair')\n",
    "plt.ylabel('Count')\n",
    "plt.title('Incorrectly Classified: First Time Merchant-User pair Plot')\n",
    "\n",
    "plt.show()"
   ]
  },
  {
   "cell_type": "code",
   "execution_count": 28,
   "metadata": {},
   "outputs": [
    {
     "data": {
      "image/png": "[encoded data removed]",
      "text/plain": [
       "<Figure size 1440x504 with 2 Axes>"
      ]
     },
     "metadata": {
      "needs_background": "light"
     },
     "output_type": "display_data"
    }
   ],
   "source": [
    "#Merchant-User ratio\n",
    "fig,(ax1,ax2) = plt.subplots(nrows=1,ncols=2,figsize=(20,7))\n",
    "plt.subplot(121)\n",
    "ax1 = sns.distplot(correct['User_Merchant_Ratio'],kde=False,bins=10)\n",
    "total = len(correct['User_Merchant_Ratio'])\n",
    "for p in ax1.patches:\n",
    "        ax1.annotate('{:.1f}%'.format(100 * p.get_height()/total), (p.get_x()+0.1, p.get_height()+50))\n",
    "\n",
    "plt.xlabel('Merchant-User ratio')\n",
    "plt.ylabel('Count')\n",
    "plt.title('Correctly Classified: FMerchant-User ratior Plot')\n",
    "\n",
    "plt.subplot(122)\n",
    "\n",
    "ax2 = sns.distplot(incorrect['User_Merchant_Ratio'],kde=False,bins=10)\n",
    "total = len(incorrect['User_Merchant_Ratio'])\n",
    "for p in ax2.patches:\n",
    "        ax2.annotate('{:.1f}%'.format(100 * p.get_height()/total), (p.get_x(), p.get_height()))\n",
    "        \n",
    "plt.xlabel('Merchant-User ratio')\n",
    "plt.ylabel('Count')\n",
    "plt.title('Incorrectly Classified: Merchant-User ratio Plot')\n",
    "\n",
    "plt.show()"
   ]
  },
  {
   "cell_type": "code",
   "execution_count": 29,
   "metadata": {},
   "outputs": [
    {
     "data": {
      "image/png": "[encoded data removed]",
      "text/plain": [
       "<Figure size 1440x504 with 2 Axes>"
      ]
     },
     "metadata": {
      "needs_background": "light"
     },
     "output_type": "display_data"
    }
   ],
   "source": [
    "#User Redeemed Buy ratio\n",
    "fig,(ax1,ax2) = plt.subplots(nrows=1,ncols=2,figsize=(20,7))\n",
    "plt.subplot(121)\n",
    "ax1 = sns.distplot(correct['User_Redeemed_Buy'],kde=False,bins=10)\n",
    "total = len(correct['User_Redeemed_Buy'])\n",
    "for p in ax1.patches:\n",
    "        ax1.annotate('{:.1f}%'.format(100 * p.get_height()/total), (p.get_x()+0.1, p.get_height()+50))\n",
    "\n",
    "plt.xlabel('User Redeemed Buy ratio')\n",
    "plt.ylabel('Count')\n",
    "plt.title('Correctly Classified: User Redeemed Buy ratio Plot')\n",
    "\n",
    "plt.subplot(122)\n",
    "\n",
    "ax2 = sns.distplot(incorrect['User_Redeemed_Buy'],kde=False,bins=10)\n",
    "total = len(incorrect['User_Redeemed_Buy'])\n",
    "for p in ax2.patches:\n",
    "        ax2.annotate('{:.1f}%'.format(100 * p.get_height()/total), (p.get_x(), p.get_height()))\n",
    "        \n",
    "plt.xlabel('User Redeemed Buy ratio')\n",
    "plt.ylabel('Count')\n",
    "plt.title('Incorrectly Classified: User Redeemed Buy ratio Plot')\n",
    "\n",
    "plt.show()"
   ]
  },
  {
   "cell_type": "code",
   "execution_count": 30,
   "metadata": {},
   "outputs": [
    {
     "data": {
      "image/png": "[encoded data removed]",
      "text/plain": [
       "<Figure size 1440x504 with 2 Axes>"
      ]
     },
     "metadata": {
      "needs_background": "light"
     },
     "output_type": "display_data"
    }
   ],
   "source": [
    "#User ratio\n",
    "fig,(ax1,ax2) = plt.subplots(nrows=1,ncols=2,figsize=(20,7))\n",
    "plt.subplot(121)\n",
    "ax1 = sns.distplot(correct['User_Ratio'],kde=False,bins=10)\n",
    "total = len(correct['User_Ratio'])\n",
    "for p in ax1.patches:\n",
    "        ax1.annotate('{:.1f}%'.format(100 * p.get_height()/total), (p.get_x()+0.1, p.get_height()+50))\n",
    "\n",
    "plt.xlabel('User ratio')\n",
    "plt.ylabel('Count')\n",
    "plt.title('Correctly Classified: User ratio Plot')\n",
    "\n",
    "plt.subplot(122)\n",
    "\n",
    "ax2 = sns.distplot(incorrect['User_Ratio'],kde=False,bins=10)\n",
    "total = len(incorrect['User_Ratio'])\n",
    "for p in ax2.patches:\n",
    "        ax2.annotate('{:.1f}%'.format(100 * p.get_height()/total), (p.get_x(), p.get_height()))\n",
    "        \n",
    "plt.xlabel('User ratio')\n",
    "plt.ylabel('Count')\n",
    "plt.title('Incorrectly Classified: User ratio Plot')\n",
    "\n",
    "plt.show()"
   ]
  },
  {
   "cell_type": "code",
   "execution_count": 31,
   "metadata": {},
   "outputs": [
    {
     "data": {
      "image/png": "[encoded data removed]",
      "text/plain": [
       "<Figure size 1440x504 with 2 Axes>"
      ]
     },
     "metadata": {
      "needs_background": "light"
     },
     "output_type": "display_data"
    }
   ],
   "source": [
    "#Coupon ratio\n",
    "fig,(ax1,ax2) = plt.subplots(nrows=1,ncols=2,figsize=(20,7))\n",
    "plt.subplot(121)\n",
    "ax1 = sns.distplot(correct['Coupon_Ratio'],kde=False,bins=10)\n",
    "total = len(correct['Coupon_Ratio'])\n",
    "for p in ax1.patches:\n",
    "        ax1.annotate('{:.1f}%'.format(100 * p.get_height()/total), (p.get_x()+0.1, p.get_height()+50))\n",
    "\n",
    "plt.xlabel('Coupon ratio')\n",
    "plt.ylabel('Count')\n",
    "plt.title('Correctly Classified: Coupon ratio Plot')\n",
    "\n",
    "plt.subplot(122)\n",
    "\n",
    "ax2 = sns.distplot(incorrect['Coupon_Ratio'],kde=False,bins=10)\n",
    "total = len(incorrect['Coupon_Ratio'])\n",
    "for p in ax2.patches:\n",
    "        ax2.annotate('{:.1f}%'.format(100 * p.get_height()/total), (p.get_x(), p.get_height()))\n",
    "        \n",
    "plt.xlabel('Coupon ratio')\n",
    "plt.ylabel('Count')\n",
    "plt.title('Incorrectly Classified: Coupon ratio Plot')\n",
    "\n",
    "plt.show()"
   ]
  },
  {
   "cell_type": "code",
   "execution_count": 32,
   "metadata": {},
   "outputs": [
    {
     "data": {
      "text/plain": [
       "0.9935182303908262"
      ]
     },
     "execution_count": 32,
     "metadata": {},
     "output_type": "execute_result"
    }
   ],
   "source": [
    "val_data['FirstTimeMerchant'].sum()/val_data.shape[0]"
   ]
  },
  {
   "cell_type": "code",
   "execution_count": 33,
   "metadata": {},
   "outputs": [
    {
     "data": {
      "text/plain": [
       "0.9938161630665686"
      ]
     },
     "execution_count": 33,
     "metadata": {},
     "output_type": "execute_result"
    }
   ],
   "source": [
    "train_dataset['FirstTimeMerchant'].sum()/train_dataset.shape[0]"
   ]
  },
  {
   "cell_type": "code",
   "execution_count": 34,
   "metadata": {},
   "outputs": [
    {
     "data": {
      "text/plain": [
       "1015389"
      ]
     },
     "execution_count": 34,
     "metadata": {},
     "output_type": "execute_result"
    }
   ],
   "source": [
    "train_dataset.shape[0]"
   ]
  },
  {
   "cell_type": "markdown",
   "metadata": {},
   "source": [
    "## Test Data Scores"
   ]
  },
  {
   "cell_type": "code",
   "execution_count": 35,
   "metadata": {},
   "outputs": [
    {
     "name": "stdout",
     "output_type": "stream",
     "text": [
      "ROC AUC Score of Probailities:  0.995\n",
      "ROC AUC Curve\n"
     ]
    },
    {
     "data": {
      "image/png": "[encoded data removed]",
      "text/plain": [
       "<Figure size 432x288 with 1 Axes>"
      ]
     },
     "metadata": {
      "needs_background": "light"
     },
     "output_type": "display_data"
    },
    {
     "name": "stdout",
     "output_type": "stream",
     "text": [
      "______________________________________________________________________\n",
      "\n",
      " The classification report for the model:\n",
      "              precision    recall  f1-score   support\n",
      "\n",
      "           0       0.99      0.99      0.99    142942\n",
      "           1       0.82      0.86      0.84      9367\n",
      "\n",
      "    accuracy                           0.98    152309\n",
      "   macro avg       0.91      0.93      0.92    152309\n",
      "weighted avg       0.98      0.98      0.98    152309\n",
      "\n",
      "______________________________________________________________________\n",
      "\n",
      " The confusion matrix for the model:\n",
      "[[141195   1747]\n",
      " [  1282   8085]]\n",
      "______________________________________________________________________\n"
     ]
    },
    {
     "data": {
      "text/html": [
       "<div>\n",
       "<style scoped>\n",
       "    .dataframe tbody tr th:only-of-type {\n",
       "        vertical-align: middle;\n",
       "    }\n",
       "\n",
       "    .dataframe tbody tr th {\n",
       "        vertical-align: top;\n",
       "    }\n",
       "\n",
       "    .dataframe thead th {\n",
       "        text-align: right;\n",
       "    }\n",
       "</style>\n",
       "<table border=\"1\" class=\"dataframe\">\n",
       "  <thead>\n",
       "    <tr style=\"text-align: right;\">\n",
       "      <th></th>\n",
       "      <th>User_id</th>\n",
       "      <th>Merchant_id</th>\n",
       "      <th>Date_received</th>\n",
       "      <th>Probability</th>\n",
       "    </tr>\n",
       "  </thead>\n",
       "  <tbody>\n",
       "    <tr>\n",
       "      <td>715091</td>\n",
       "      <td>5193451</td>\n",
       "      <td>7555</td>\n",
       "      <td>2016-04-16</td>\n",
       "      <td>0.000003</td>\n",
       "    </tr>\n",
       "    <tr>\n",
       "      <td>936313</td>\n",
       "      <td>6788567</td>\n",
       "      <td>3527</td>\n",
       "      <td>2016-03-22</td>\n",
       "      <td>0.000009</td>\n",
       "    </tr>\n",
       "    <tr>\n",
       "      <td>935861</td>\n",
       "      <td>6785479</td>\n",
       "      <td>450</td>\n",
       "      <td>2016-02-02</td>\n",
       "      <td>0.000002</td>\n",
       "    </tr>\n",
       "    <tr>\n",
       "      <td>73628</td>\n",
       "      <td>536792</td>\n",
       "      <td>1375</td>\n",
       "      <td>2016-05-13</td>\n",
       "      <td>0.000004</td>\n",
       "    </tr>\n",
       "    <tr>\n",
       "      <td>810548</td>\n",
       "      <td>5882244</td>\n",
       "      <td>4860</td>\n",
       "      <td>2016-02-07</td>\n",
       "      <td>0.000005</td>\n",
       "    </tr>\n",
       "  </tbody>\n",
       "</table>\n",
       "</div>"
      ],
      "text/plain": [
       "        User_id  Merchant_id Date_received  Probability\n",
       "715091  5193451         7555    2016-04-16     0.000003\n",
       "936313  6788567         3527    2016-03-22     0.000009\n",
       "935861  6785479          450    2016-02-02     0.000002\n",
       "73628    536792         1375    2016-05-13     0.000004\n",
       "810548  5882244         4860    2016-02-07     0.000005"
      ]
     },
     "execution_count": 35,
     "metadata": {},
     "output_type": "execute_result"
    }
   ],
   "source": [
    "test_output, test_data = evaluate_model(X_test, y_test)\n",
    "test_output.head()"
   ]
  },
  {
   "cell_type": "code",
   "execution_count": 36,
   "metadata": {},
   "outputs": [
    {
     "data": {
      "text/html": [
       "<div>\n",
       "<style scoped>\n",
       "    .dataframe tbody tr th:only-of-type {\n",
       "        vertical-align: middle;\n",
       "    }\n",
       "\n",
       "    .dataframe tbody tr th {\n",
       "        vertical-align: top;\n",
       "    }\n",
       "\n",
       "    .dataframe thead th {\n",
       "        text-align: right;\n",
       "    }\n",
       "</style>\n",
       "<table border=\"1\" class=\"dataframe\">\n",
       "  <thead>\n",
       "    <tr style=\"text-align: right;\">\n",
       "      <th></th>\n",
       "      <th>train-auc-mean</th>\n",
       "      <th>train-auc-std</th>\n",
       "      <th>test-auc-mean</th>\n",
       "      <th>test-auc-std</th>\n",
       "    </tr>\n",
       "  </thead>\n",
       "  <tbody>\n",
       "    <tr>\n",
       "      <td>0</td>\n",
       "      <td>0.993205</td>\n",
       "      <td>0.000028</td>\n",
       "      <td>0.993090</td>\n",
       "      <td>0.000348</td>\n",
       "    </tr>\n",
       "    <tr>\n",
       "      <td>1</td>\n",
       "      <td>0.992944</td>\n",
       "      <td>0.000774</td>\n",
       "      <td>0.992843</td>\n",
       "      <td>0.000725</td>\n",
       "    </tr>\n",
       "    <tr>\n",
       "      <td>2</td>\n",
       "      <td>0.993287</td>\n",
       "      <td>0.000260</td>\n",
       "      <td>0.993167</td>\n",
       "      <td>0.000438</td>\n",
       "    </tr>\n",
       "    <tr>\n",
       "      <td>3</td>\n",
       "      <td>0.993496</td>\n",
       "      <td>0.000127</td>\n",
       "      <td>0.993360</td>\n",
       "      <td>0.000310</td>\n",
       "    </tr>\n",
       "    <tr>\n",
       "      <td>4</td>\n",
       "      <td>0.993477</td>\n",
       "      <td>0.000268</td>\n",
       "      <td>0.993352</td>\n",
       "      <td>0.000477</td>\n",
       "    </tr>\n",
       "    <tr>\n",
       "      <td>5</td>\n",
       "      <td>0.993612</td>\n",
       "      <td>0.000098</td>\n",
       "      <td>0.993494</td>\n",
       "      <td>0.000323</td>\n",
       "    </tr>\n",
       "    <tr>\n",
       "      <td>6</td>\n",
       "      <td>0.993672</td>\n",
       "      <td>0.000083</td>\n",
       "      <td>0.993538</td>\n",
       "      <td>0.000251</td>\n",
       "    </tr>\n",
       "    <tr>\n",
       "      <td>7</td>\n",
       "      <td>0.993758</td>\n",
       "      <td>0.000049</td>\n",
       "      <td>0.993624</td>\n",
       "      <td>0.000225</td>\n",
       "    </tr>\n",
       "    <tr>\n",
       "      <td>8</td>\n",
       "      <td>0.993758</td>\n",
       "      <td>0.000126</td>\n",
       "      <td>0.993621</td>\n",
       "      <td>0.000194</td>\n",
       "    </tr>\n",
       "    <tr>\n",
       "      <td>9</td>\n",
       "      <td>0.993797</td>\n",
       "      <td>0.000138</td>\n",
       "      <td>0.993661</td>\n",
       "      <td>0.000149</td>\n",
       "    </tr>\n",
       "    <tr>\n",
       "      <td>10</td>\n",
       "      <td>0.993853</td>\n",
       "      <td>0.000109</td>\n",
       "      <td>0.993722</td>\n",
       "      <td>0.000152</td>\n",
       "    </tr>\n",
       "    <tr>\n",
       "      <td>11</td>\n",
       "      <td>0.993866</td>\n",
       "      <td>0.000147</td>\n",
       "      <td>0.993737</td>\n",
       "      <td>0.000147</td>\n",
       "    </tr>\n",
       "    <tr>\n",
       "      <td>12</td>\n",
       "      <td>0.993902</td>\n",
       "      <td>0.000105</td>\n",
       "      <td>0.993777</td>\n",
       "      <td>0.000164</td>\n",
       "    </tr>\n",
       "    <tr>\n",
       "      <td>13</td>\n",
       "      <td>0.993944</td>\n",
       "      <td>0.000091</td>\n",
       "      <td>0.993821</td>\n",
       "      <td>0.000166</td>\n",
       "    </tr>\n",
       "    <tr>\n",
       "      <td>14</td>\n",
       "      <td>0.993968</td>\n",
       "      <td>0.000099</td>\n",
       "      <td>0.993836</td>\n",
       "      <td>0.000162</td>\n",
       "    </tr>\n",
       "    <tr>\n",
       "      <td>15</td>\n",
       "      <td>0.994008</td>\n",
       "      <td>0.000076</td>\n",
       "      <td>0.993879</td>\n",
       "      <td>0.000170</td>\n",
       "    </tr>\n",
       "    <tr>\n",
       "      <td>16</td>\n",
       "      <td>0.994001</td>\n",
       "      <td>0.000095</td>\n",
       "      <td>0.993866</td>\n",
       "      <td>0.000171</td>\n",
       "    </tr>\n",
       "    <tr>\n",
       "      <td>17</td>\n",
       "      <td>0.994037</td>\n",
       "      <td>0.000086</td>\n",
       "      <td>0.993900</td>\n",
       "      <td>0.000171</td>\n",
       "    </tr>\n",
       "    <tr>\n",
       "      <td>18</td>\n",
       "      <td>0.994047</td>\n",
       "      <td>0.000100</td>\n",
       "      <td>0.993910</td>\n",
       "      <td>0.000160</td>\n",
       "    </tr>\n",
       "    <tr>\n",
       "      <td>19</td>\n",
       "      <td>0.994069</td>\n",
       "      <td>0.000084</td>\n",
       "      <td>0.993929</td>\n",
       "      <td>0.000173</td>\n",
       "    </tr>\n",
       "    <tr>\n",
       "      <td>20</td>\n",
       "      <td>0.994080</td>\n",
       "      <td>0.000099</td>\n",
       "      <td>0.993942</td>\n",
       "      <td>0.000168</td>\n",
       "    </tr>\n",
       "    <tr>\n",
       "      <td>21</td>\n",
       "      <td>0.994101</td>\n",
       "      <td>0.000087</td>\n",
       "      <td>0.993961</td>\n",
       "      <td>0.000173</td>\n",
       "    </tr>\n",
       "    <tr>\n",
       "      <td>22</td>\n",
       "      <td>0.994125</td>\n",
       "      <td>0.000077</td>\n",
       "      <td>0.993985</td>\n",
       "      <td>0.000179</td>\n",
       "    </tr>\n",
       "    <tr>\n",
       "      <td>23</td>\n",
       "      <td>0.994143</td>\n",
       "      <td>0.000068</td>\n",
       "      <td>0.994003</td>\n",
       "      <td>0.000179</td>\n",
       "    </tr>\n",
       "    <tr>\n",
       "      <td>24</td>\n",
       "      <td>0.994160</td>\n",
       "      <td>0.000068</td>\n",
       "      <td>0.994019</td>\n",
       "      <td>0.000179</td>\n",
       "    </tr>\n",
       "    <tr>\n",
       "      <td>25</td>\n",
       "      <td>0.994179</td>\n",
       "      <td>0.000064</td>\n",
       "      <td>0.994036</td>\n",
       "      <td>0.000183</td>\n",
       "    </tr>\n",
       "    <tr>\n",
       "      <td>26</td>\n",
       "      <td>0.994195</td>\n",
       "      <td>0.000060</td>\n",
       "      <td>0.994050</td>\n",
       "      <td>0.000186</td>\n",
       "    </tr>\n",
       "    <tr>\n",
       "      <td>27</td>\n",
       "      <td>0.994213</td>\n",
       "      <td>0.000061</td>\n",
       "      <td>0.994069</td>\n",
       "      <td>0.000186</td>\n",
       "    </tr>\n",
       "    <tr>\n",
       "      <td>28</td>\n",
       "      <td>0.994227</td>\n",
       "      <td>0.000059</td>\n",
       "      <td>0.994084</td>\n",
       "      <td>0.000185</td>\n",
       "    </tr>\n",
       "    <tr>\n",
       "      <td>29</td>\n",
       "      <td>0.994243</td>\n",
       "      <td>0.000051</td>\n",
       "      <td>0.994094</td>\n",
       "      <td>0.000192</td>\n",
       "    </tr>\n",
       "    <tr>\n",
       "      <td>30</td>\n",
       "      <td>0.994262</td>\n",
       "      <td>0.000053</td>\n",
       "      <td>0.994111</td>\n",
       "      <td>0.000190</td>\n",
       "    </tr>\n",
       "    <tr>\n",
       "      <td>31</td>\n",
       "      <td>0.994281</td>\n",
       "      <td>0.000052</td>\n",
       "      <td>0.994127</td>\n",
       "      <td>0.000185</td>\n",
       "    </tr>\n",
       "    <tr>\n",
       "      <td>32</td>\n",
       "      <td>0.994297</td>\n",
       "      <td>0.000051</td>\n",
       "      <td>0.994141</td>\n",
       "      <td>0.000187</td>\n",
       "    </tr>\n",
       "    <tr>\n",
       "      <td>33</td>\n",
       "      <td>0.994317</td>\n",
       "      <td>0.000051</td>\n",
       "      <td>0.994157</td>\n",
       "      <td>0.000183</td>\n",
       "    </tr>\n",
       "    <tr>\n",
       "      <td>34</td>\n",
       "      <td>0.994332</td>\n",
       "      <td>0.000052</td>\n",
       "      <td>0.994171</td>\n",
       "      <td>0.000183</td>\n",
       "    </tr>\n",
       "    <tr>\n",
       "      <td>35</td>\n",
       "      <td>0.994342</td>\n",
       "      <td>0.000052</td>\n",
       "      <td>0.994179</td>\n",
       "      <td>0.000186</td>\n",
       "    </tr>\n",
       "    <tr>\n",
       "      <td>36</td>\n",
       "      <td>0.994355</td>\n",
       "      <td>0.000053</td>\n",
       "      <td>0.994191</td>\n",
       "      <td>0.000186</td>\n",
       "    </tr>\n",
       "    <tr>\n",
       "      <td>37</td>\n",
       "      <td>0.994370</td>\n",
       "      <td>0.000054</td>\n",
       "      <td>0.994202</td>\n",
       "      <td>0.000189</td>\n",
       "    </tr>\n",
       "    <tr>\n",
       "      <td>38</td>\n",
       "      <td>0.994386</td>\n",
       "      <td>0.000055</td>\n",
       "      <td>0.994213</td>\n",
       "      <td>0.000189</td>\n",
       "    </tr>\n",
       "    <tr>\n",
       "      <td>39</td>\n",
       "      <td>0.994397</td>\n",
       "      <td>0.000055</td>\n",
       "      <td>0.994220</td>\n",
       "      <td>0.000189</td>\n",
       "    </tr>\n",
       "    <tr>\n",
       "      <td>40</td>\n",
       "      <td>0.994412</td>\n",
       "      <td>0.000054</td>\n",
       "      <td>0.994229</td>\n",
       "      <td>0.000191</td>\n",
       "    </tr>\n",
       "    <tr>\n",
       "      <td>41</td>\n",
       "      <td>0.994424</td>\n",
       "      <td>0.000057</td>\n",
       "      <td>0.994236</td>\n",
       "      <td>0.000192</td>\n",
       "    </tr>\n",
       "    <tr>\n",
       "      <td>42</td>\n",
       "      <td>0.994437</td>\n",
       "      <td>0.000054</td>\n",
       "      <td>0.994245</td>\n",
       "      <td>0.000194</td>\n",
       "    </tr>\n",
       "    <tr>\n",
       "      <td>43</td>\n",
       "      <td>0.994449</td>\n",
       "      <td>0.000053</td>\n",
       "      <td>0.994253</td>\n",
       "      <td>0.000200</td>\n",
       "    </tr>\n",
       "    <tr>\n",
       "      <td>44</td>\n",
       "      <td>0.994460</td>\n",
       "      <td>0.000049</td>\n",
       "      <td>0.994261</td>\n",
       "      <td>0.000202</td>\n",
       "    </tr>\n",
       "    <tr>\n",
       "      <td>45</td>\n",
       "      <td>0.994474</td>\n",
       "      <td>0.000048</td>\n",
       "      <td>0.994273</td>\n",
       "      <td>0.000202</td>\n",
       "    </tr>\n",
       "    <tr>\n",
       "      <td>46</td>\n",
       "      <td>0.994486</td>\n",
       "      <td>0.000047</td>\n",
       "      <td>0.994283</td>\n",
       "      <td>0.000204</td>\n",
       "    </tr>\n",
       "    <tr>\n",
       "      <td>47</td>\n",
       "      <td>0.994500</td>\n",
       "      <td>0.000047</td>\n",
       "      <td>0.994294</td>\n",
       "      <td>0.000204</td>\n",
       "    </tr>\n",
       "    <tr>\n",
       "      <td>48</td>\n",
       "      <td>0.994511</td>\n",
       "      <td>0.000045</td>\n",
       "      <td>0.994303</td>\n",
       "      <td>0.000205</td>\n",
       "    </tr>\n",
       "    <tr>\n",
       "      <td>49</td>\n",
       "      <td>0.994520</td>\n",
       "      <td>0.000046</td>\n",
       "      <td>0.994310</td>\n",
       "      <td>0.000205</td>\n",
       "    </tr>\n",
       "  </tbody>\n",
       "</table>\n",
       "</div>"
      ],
      "text/plain": [
       "    train-auc-mean  train-auc-std  test-auc-mean  test-auc-std\n",
       "0         0.993205       0.000028       0.993090      0.000348\n",
       "1         0.992944       0.000774       0.992843      0.000725\n",
       "2         0.993287       0.000260       0.993167      0.000438\n",
       "3         0.993496       0.000127       0.993360      0.000310\n",
       "4         0.993477       0.000268       0.993352      0.000477\n",
       "5         0.993612       0.000098       0.993494      0.000323\n",
       "6         0.993672       0.000083       0.993538      0.000251\n",
       "7         0.993758       0.000049       0.993624      0.000225\n",
       "8         0.993758       0.000126       0.993621      0.000194\n",
       "9         0.993797       0.000138       0.993661      0.000149\n",
       "10        0.993853       0.000109       0.993722      0.000152\n",
       "11        0.993866       0.000147       0.993737      0.000147\n",
       "12        0.993902       0.000105       0.993777      0.000164\n",
       "13        0.993944       0.000091       0.993821      0.000166\n",
       "14        0.993968       0.000099       0.993836      0.000162\n",
       "15        0.994008       0.000076       0.993879      0.000170\n",
       "16        0.994001       0.000095       0.993866      0.000171\n",
       "17        0.994037       0.000086       0.993900      0.000171\n",
       "18        0.994047       0.000100       0.993910      0.000160\n",
       "19        0.994069       0.000084       0.993929      0.000173\n",
       "20        0.994080       0.000099       0.993942      0.000168\n",
       "21        0.994101       0.000087       0.993961      0.000173\n",
       "22        0.994125       0.000077       0.993985      0.000179\n",
       "23        0.994143       0.000068       0.994003      0.000179\n",
       "24        0.994160       0.000068       0.994019      0.000179\n",
       "25        0.994179       0.000064       0.994036      0.000183\n",
       "26        0.994195       0.000060       0.994050      0.000186\n",
       "27        0.994213       0.000061       0.994069      0.000186\n",
       "28        0.994227       0.000059       0.994084      0.000185\n",
       "29        0.994243       0.000051       0.994094      0.000192\n",
       "30        0.994262       0.000053       0.994111      0.000190\n",
       "31        0.994281       0.000052       0.994127      0.000185\n",
       "32        0.994297       0.000051       0.994141      0.000187\n",
       "33        0.994317       0.000051       0.994157      0.000183\n",
       "34        0.994332       0.000052       0.994171      0.000183\n",
       "35        0.994342       0.000052       0.994179      0.000186\n",
       "36        0.994355       0.000053       0.994191      0.000186\n",
       "37        0.994370       0.000054       0.994202      0.000189\n",
       "38        0.994386       0.000055       0.994213      0.000189\n",
       "39        0.994397       0.000055       0.994220      0.000189\n",
       "40        0.994412       0.000054       0.994229      0.000191\n",
       "41        0.994424       0.000057       0.994236      0.000192\n",
       "42        0.994437       0.000054       0.994245      0.000194\n",
       "43        0.994449       0.000053       0.994253      0.000200\n",
       "44        0.994460       0.000049       0.994261      0.000202\n",
       "45        0.994474       0.000048       0.994273      0.000202\n",
       "46        0.994486       0.000047       0.994283      0.000204\n",
       "47        0.994500       0.000047       0.994294      0.000204\n",
       "48        0.994511       0.000045       0.994303      0.000205\n",
       "49        0.994520       0.000046       0.994310      0.000205"
      ]
     },
     "execution_count": 36,
     "metadata": {},
     "output_type": "execute_result"
    }
   ],
   "source": [
    "def training2(train_dataset):\n",
    "    y = y_train\n",
    "    X = X_train[features]\n",
    "    data_dmatrix = xgb.DMatrix(data=X, label=y)\n",
    "    params =  {'objective':'binary:logistic','colsample_bytree':0.8,'learning_rate':0.1,\n",
    "                'max_depth':5,'n_estimators':500,'scale_pos_weight':1,'colsample_bytree':0.8,\n",
    "               'min_child_weight':5,' subsample':0.8, 'alpha':0.2, 'gamma':1}\n",
    "    \n",
    "\n",
    "    cv_results = xgb.cv(dtrain=data_dmatrix, params=params, nfold=5,num_boost_round=50,\n",
    "                        early_stopping_rounds=10, as_pandas=True, seed=410,  metrics='auc') \n",
    "    return cv_results\n",
    "    \n",
    "training2(train_dataset)"
   ]
  },
  {
   "cell_type": "markdown",
   "metadata": {},
   "source": [
    "# Test Dataset and Submission File"
   ]
  },
  {
   "cell_type": "code",
   "execution_count": 37,
   "metadata": {},
   "outputs": [
    {
     "data": {
      "text/html": [
       "<div>\n",
       "<style scoped>\n",
       "    .dataframe tbody tr th:only-of-type {\n",
       "        vertical-align: middle;\n",
       "    }\n",
       "\n",
       "    .dataframe tbody tr th {\n",
       "        vertical-align: top;\n",
       "    }\n",
       "\n",
       "    .dataframe thead th {\n",
       "        text-align: right;\n",
       "    }\n",
       "</style>\n",
       "<table border=\"1\" class=\"dataframe\">\n",
       "  <thead>\n",
       "    <tr style=\"text-align: right;\">\n",
       "      <th></th>\n",
       "      <th>User_id</th>\n",
       "      <th>Merchant_id</th>\n",
       "      <th>Date_received</th>\n",
       "      <th>Probability</th>\n",
       "    </tr>\n",
       "  </thead>\n",
       "  <tbody>\n",
       "    <tr>\n",
       "      <td>11</td>\n",
       "      <td>6488578</td>\n",
       "      <td>760</td>\n",
       "      <td>2016-07-12</td>\n",
       "      <td>0.967563</td>\n",
       "    </tr>\n",
       "    <tr>\n",
       "      <td>37</td>\n",
       "      <td>2699011</td>\n",
       "      <td>760</td>\n",
       "      <td>2016-07-05</td>\n",
       "      <td>0.976721</td>\n",
       "    </tr>\n",
       "    <tr>\n",
       "      <td>73</td>\n",
       "      <td>2480389</td>\n",
       "      <td>3621</td>\n",
       "      <td>2016-07-03</td>\n",
       "      <td>0.989918</td>\n",
       "    </tr>\n",
       "    <tr>\n",
       "      <td>147</td>\n",
       "      <td>3536137</td>\n",
       "      <td>760</td>\n",
       "      <td>2016-07-28</td>\n",
       "      <td>0.976003</td>\n",
       "    </tr>\n",
       "    <tr>\n",
       "      <td>178</td>\n",
       "      <td>2773771</td>\n",
       "      <td>7422</td>\n",
       "      <td>2016-07-25</td>\n",
       "      <td>0.999189</td>\n",
       "    </tr>\n",
       "    <tr>\n",
       "      <td>...</td>\n",
       "      <td>...</td>\n",
       "      <td>...</td>\n",
       "      <td>...</td>\n",
       "      <td>...</td>\n",
       "    </tr>\n",
       "    <tr>\n",
       "      <td>113459</td>\n",
       "      <td>5028305</td>\n",
       "      <td>675</td>\n",
       "      <td>2016-07-22</td>\n",
       "      <td>0.849891</td>\n",
       "    </tr>\n",
       "    <tr>\n",
       "      <td>113498</td>\n",
       "      <td>5467613</td>\n",
       "      <td>2635</td>\n",
       "      <td>2016-07-01</td>\n",
       "      <td>0.782158</td>\n",
       "    </tr>\n",
       "    <tr>\n",
       "      <td>113522</td>\n",
       "      <td>7232993</td>\n",
       "      <td>760</td>\n",
       "      <td>2016-07-04</td>\n",
       "      <td>0.937963</td>\n",
       "    </tr>\n",
       "    <tr>\n",
       "      <td>113565</td>\n",
       "      <td>6978029</td>\n",
       "      <td>760</td>\n",
       "      <td>2016-07-11</td>\n",
       "      <td>0.960666</td>\n",
       "    </tr>\n",
       "    <tr>\n",
       "      <td>113621</td>\n",
       "      <td>5110265</td>\n",
       "      <td>450</td>\n",
       "      <td>2016-07-11</td>\n",
       "      <td>0.978675</td>\n",
       "    </tr>\n",
       "  </tbody>\n",
       "</table>\n",
       "<p>4015 rows × 4 columns</p>\n",
       "</div>"
      ],
      "text/plain": [
       "        User_id  Merchant_id Date_received  Probability\n",
       "11      6488578          760    2016-07-12     0.967563\n",
       "37      2699011          760    2016-07-05     0.976721\n",
       "73      2480389         3621    2016-07-03     0.989918\n",
       "147     3536137          760    2016-07-28     0.976003\n",
       "178     2773771         7422    2016-07-25     0.999189\n",
       "...         ...          ...           ...          ...\n",
       "113459  5028305          675    2016-07-22     0.849891\n",
       "113498  5467613         2635    2016-07-01     0.782158\n",
       "113522  7232993          760    2016-07-04     0.937963\n",
       "113565  6978029          760    2016-07-11     0.960666\n",
       "113621  5110265          450    2016-07-11     0.978675\n",
       "\n",
       "[4015 rows x 4 columns]"
      ]
     },
     "execution_count": 37,
     "metadata": {},
     "output_type": "execute_result"
    }
   ],
   "source": [
    "predictions = (model.predict_proba(test_dataset[features])[:,1]).tolist()\n",
    "predicted_values = (model.predict(test_dataset[features])).tolist()\n",
    "test = pd.merge(test_dataset[features], test_dataset[['User_id','Merchant_id','Date_received']]\n",
    "                , how='left',left_index=True,right_index=True)\n",
    "test['Probability'] = [round(i, 6) for i in predictions]\n",
    "output = test[['User_id','Merchant_id','Date_received','Probability']]\n",
    "\n",
    "output[output['Probability']>0.5]"
   ]
  },
  {
   "cell_type": "code",
   "execution_count": 38,
   "metadata": {},
   "outputs": [],
   "source": [
    "output.to_csv('OutputFile.csv',index=False) \n"
   ]
  },
  {
   "cell_type": "markdown",
   "metadata": {},
   "source": [
    "# Execution Time of this notebook"
   ]
  },
  {
   "cell_type": "code",
   "execution_count": 39,
   "metadata": {},
   "outputs": [
    {
     "name": "stdout",
     "output_type": "stream",
     "text": [
      "Time taken for the execution of this notebook: 8.99 mins\n"
     ]
    }
   ],
   "source": [
    "later = time.time()\n",
    "difference = later - now\n",
    "print('Time taken for the execution of this notebook: '+str(round(difference/60,2))+' mins')"
   ]
  },
  {
   "cell_type": "code",
   "execution_count": null,
   "metadata": {},
   "outputs": [],
   "source": []
  }
 ],
 "metadata": {
  "kernelspec": {
   "display_name": "Python 3",
   "language": "python",
   "name": "python3"
  },
  "language_info": {
   "codemirror_mode": {
    "name": "ipython",
    "version": 3
   },
   "file_extension": ".py",
   "mimetype": "text/x-python",
   "name": "python",
   "nbconvert_exporter": "python",
   "pygments_lexer": "ipython3",
   "version": "3.7.4"
  }
 },
 "nbformat": 4,
 "nbformat_minor": 2
}
