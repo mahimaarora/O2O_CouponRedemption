{
 "cells": [
  {
   "cell_type": "code",
   "execution_count": 1,
   "metadata": {},
   "outputs": [],
   "source": [
    "%matplotlib inline\n",
    "import pandas as pd\n",
    "import numpy as np\n",
    "import matplotlib.pyplot as plt\n",
    "import seaborn as sns\n",
    "import math\n",
    "import re\n",
    "from datetime import datetime\n",
    "import warnings\n",
    "warnings.filterwarnings(\"ignore\")"
   ]
  },
  {
   "cell_type": "markdown",
   "metadata": {},
   "source": [
    "### Online and Offline Training data"
   ]
  },
  {
   "cell_type": "code",
   "execution_count": 2,
   "metadata": {},
   "outputs": [],
   "source": [
    "df_on = pd.read_csv('DataSets/ccf_online_stage1_train.csv')\n",
    "df_off = pd.read_csv('DataSets/ccf_offline_stage1_train.csv')"
   ]
  },
  {
   "cell_type": "code",
   "execution_count": 3,
   "metadata": {},
   "outputs": [
    {
     "name": "stdout",
     "output_type": "stream",
     "text": [
      "Online Training Data Sample\n",
      "Shape:(11429826, 7)\n"
     ]
    },
    {
     "data": {
      "text/html": [
       "<div>\n",
       "<style scoped>\n",
       "    .dataframe tbody tr th:only-of-type {\n",
       "        vertical-align: middle;\n",
       "    }\n",
       "\n",
       "    .dataframe tbody tr th {\n",
       "        vertical-align: top;\n",
       "    }\n",
       "\n",
       "    .dataframe thead th {\n",
       "        text-align: right;\n",
       "    }\n",
       "</style>\n",
       "<table border=\"1\" class=\"dataframe\">\n",
       "  <thead>\n",
       "    <tr style=\"text-align: right;\">\n",
       "      <th></th>\n",
       "      <th>User_id</th>\n",
       "      <th>Merchant_id</th>\n",
       "      <th>Action</th>\n",
       "      <th>Coupon_id</th>\n",
       "      <th>Discount_rate</th>\n",
       "      <th>Date_received</th>\n",
       "      <th>Date</th>\n",
       "    </tr>\n",
       "  </thead>\n",
       "  <tbody>\n",
       "    <tr>\n",
       "      <td>0</td>\n",
       "      <td>13740231</td>\n",
       "      <td>18907</td>\n",
       "      <td>2</td>\n",
       "      <td>100017492</td>\n",
       "      <td>500:50</td>\n",
       "      <td>20160513.0</td>\n",
       "      <td>NaN</td>\n",
       "    </tr>\n",
       "    <tr>\n",
       "      <td>1</td>\n",
       "      <td>13740231</td>\n",
       "      <td>34805</td>\n",
       "      <td>1</td>\n",
       "      <td>NaN</td>\n",
       "      <td>NaN</td>\n",
       "      <td>NaN</td>\n",
       "      <td>20160321.0</td>\n",
       "    </tr>\n",
       "    <tr>\n",
       "      <td>2</td>\n",
       "      <td>14336199</td>\n",
       "      <td>18907</td>\n",
       "      <td>0</td>\n",
       "      <td>NaN</td>\n",
       "      <td>NaN</td>\n",
       "      <td>NaN</td>\n",
       "      <td>20160618.0</td>\n",
       "    </tr>\n",
       "    <tr>\n",
       "      <td>3</td>\n",
       "      <td>14336199</td>\n",
       "      <td>18907</td>\n",
       "      <td>0</td>\n",
       "      <td>NaN</td>\n",
       "      <td>NaN</td>\n",
       "      <td>NaN</td>\n",
       "      <td>20160618.0</td>\n",
       "    </tr>\n",
       "    <tr>\n",
       "      <td>4</td>\n",
       "      <td>14336199</td>\n",
       "      <td>18907</td>\n",
       "      <td>0</td>\n",
       "      <td>NaN</td>\n",
       "      <td>NaN</td>\n",
       "      <td>NaN</td>\n",
       "      <td>20160618.0</td>\n",
       "    </tr>\n",
       "  </tbody>\n",
       "</table>\n",
       "</div>"
      ],
      "text/plain": [
       "    User_id  Merchant_id  Action  Coupon_id Discount_rate  Date_received  \\\n",
       "0  13740231        18907       2  100017492        500:50     20160513.0   \n",
       "1  13740231        34805       1        NaN           NaN            NaN   \n",
       "2  14336199        18907       0        NaN           NaN            NaN   \n",
       "3  14336199        18907       0        NaN           NaN            NaN   \n",
       "4  14336199        18907       0        NaN           NaN            NaN   \n",
       "\n",
       "         Date  \n",
       "0         NaN  \n",
       "1  20160321.0  \n",
       "2  20160618.0  \n",
       "3  20160618.0  \n",
       "4  20160618.0  "
      ]
     },
     "execution_count": 3,
     "metadata": {},
     "output_type": "execute_result"
    }
   ],
   "source": [
    "print(\"Online Training Data Sample\\nShape:\"+str(df_on.shape))\n",
    "df_on.head()"
   ]
  },
  {
   "cell_type": "code",
   "execution_count": 4,
   "metadata": {},
   "outputs": [
    {
     "name": "stdout",
     "output_type": "stream",
     "text": [
      "Offline Training Data Sample\n",
      "Shape:(1754884, 7)\n"
     ]
    },
    {
     "data": {
      "text/html": [
       "<div>\n",
       "<style scoped>\n",
       "    .dataframe tbody tr th:only-of-type {\n",
       "        vertical-align: middle;\n",
       "    }\n",
       "\n",
       "    .dataframe tbody tr th {\n",
       "        vertical-align: top;\n",
       "    }\n",
       "\n",
       "    .dataframe thead th {\n",
       "        text-align: right;\n",
       "    }\n",
       "</style>\n",
       "<table border=\"1\" class=\"dataframe\">\n",
       "  <thead>\n",
       "    <tr style=\"text-align: right;\">\n",
       "      <th></th>\n",
       "      <th>User_id</th>\n",
       "      <th>Merchant_id</th>\n",
       "      <th>Coupon_id</th>\n",
       "      <th>Discount_rate</th>\n",
       "      <th>Distance</th>\n",
       "      <th>Date_received</th>\n",
       "      <th>Date</th>\n",
       "    </tr>\n",
       "  </thead>\n",
       "  <tbody>\n",
       "    <tr>\n",
       "      <td>0</td>\n",
       "      <td>1439408</td>\n",
       "      <td>2632</td>\n",
       "      <td>NaN</td>\n",
       "      <td>NaN</td>\n",
       "      <td>0.0</td>\n",
       "      <td>NaN</td>\n",
       "      <td>20160217.0</td>\n",
       "    </tr>\n",
       "    <tr>\n",
       "      <td>1</td>\n",
       "      <td>1439408</td>\n",
       "      <td>4663</td>\n",
       "      <td>11002.0</td>\n",
       "      <td>150:20</td>\n",
       "      <td>1.0</td>\n",
       "      <td>20160528.0</td>\n",
       "      <td>NaN</td>\n",
       "    </tr>\n",
       "    <tr>\n",
       "      <td>2</td>\n",
       "      <td>1439408</td>\n",
       "      <td>2632</td>\n",
       "      <td>8591.0</td>\n",
       "      <td>20:1</td>\n",
       "      <td>0.0</td>\n",
       "      <td>20160217.0</td>\n",
       "      <td>NaN</td>\n",
       "    </tr>\n",
       "    <tr>\n",
       "      <td>3</td>\n",
       "      <td>1439408</td>\n",
       "      <td>2632</td>\n",
       "      <td>1078.0</td>\n",
       "      <td>20:1</td>\n",
       "      <td>0.0</td>\n",
       "      <td>20160319.0</td>\n",
       "      <td>NaN</td>\n",
       "    </tr>\n",
       "    <tr>\n",
       "      <td>4</td>\n",
       "      <td>1439408</td>\n",
       "      <td>2632</td>\n",
       "      <td>8591.0</td>\n",
       "      <td>20:1</td>\n",
       "      <td>0.0</td>\n",
       "      <td>20160613.0</td>\n",
       "      <td>NaN</td>\n",
       "    </tr>\n",
       "  </tbody>\n",
       "</table>\n",
       "</div>"
      ],
      "text/plain": [
       "   User_id  Merchant_id  Coupon_id Discount_rate  Distance  Date_received  \\\n",
       "0  1439408         2632        NaN           NaN       0.0            NaN   \n",
       "1  1439408         4663    11002.0        150:20       1.0     20160528.0   \n",
       "2  1439408         2632     8591.0          20:1       0.0     20160217.0   \n",
       "3  1439408         2632     1078.0          20:1       0.0     20160319.0   \n",
       "4  1439408         2632     8591.0          20:1       0.0     20160613.0   \n",
       "\n",
       "         Date  \n",
       "0  20160217.0  \n",
       "1         NaN  \n",
       "2         NaN  \n",
       "3         NaN  \n",
       "4         NaN  "
      ]
     },
     "execution_count": 4,
     "metadata": {},
     "output_type": "execute_result"
    }
   ],
   "source": [
    "print(\"Offline Training Data Sample\\nShape:\"+str(df_off.shape))\n",
    "df_off.head()"
   ]
  },
  {
   "cell_type": "markdown",
   "metadata": {},
   "source": [
    "### TEST DATA (OFFLINE)"
   ]
  },
  {
   "cell_type": "code",
   "execution_count": 5,
   "metadata": {},
   "outputs": [
    {
     "name": "stdout",
     "output_type": "stream",
     "text": [
      "Testing Data(Offline) Sample\n",
      "Shape:(113640, 6)\n"
     ]
    },
    {
     "data": {
      "text/html": [
       "<div>\n",
       "<style scoped>\n",
       "    .dataframe tbody tr th:only-of-type {\n",
       "        vertical-align: middle;\n",
       "    }\n",
       "\n",
       "    .dataframe tbody tr th {\n",
       "        vertical-align: top;\n",
       "    }\n",
       "\n",
       "    .dataframe thead th {\n",
       "        text-align: right;\n",
       "    }\n",
       "</style>\n",
       "<table border=\"1\" class=\"dataframe\">\n",
       "  <thead>\n",
       "    <tr style=\"text-align: right;\">\n",
       "      <th></th>\n",
       "      <th>User_id</th>\n",
       "      <th>Merchant_id</th>\n",
       "      <th>Coupon_id</th>\n",
       "      <th>Discount_rate</th>\n",
       "      <th>Distance</th>\n",
       "      <th>Date_received</th>\n",
       "    </tr>\n",
       "  </thead>\n",
       "  <tbody>\n",
       "    <tr>\n",
       "      <td>0</td>\n",
       "      <td>4129537</td>\n",
       "      <td>450</td>\n",
       "      <td>9983</td>\n",
       "      <td>30:5</td>\n",
       "      <td>1.0</td>\n",
       "      <td>20160712</td>\n",
       "    </tr>\n",
       "    <tr>\n",
       "      <td>1</td>\n",
       "      <td>6949378</td>\n",
       "      <td>1300</td>\n",
       "      <td>3429</td>\n",
       "      <td>30:5</td>\n",
       "      <td>NaN</td>\n",
       "      <td>20160706</td>\n",
       "    </tr>\n",
       "    <tr>\n",
       "      <td>2</td>\n",
       "      <td>2166529</td>\n",
       "      <td>7113</td>\n",
       "      <td>6928</td>\n",
       "      <td>200:20</td>\n",
       "      <td>5.0</td>\n",
       "      <td>20160727</td>\n",
       "    </tr>\n",
       "    <tr>\n",
       "      <td>3</td>\n",
       "      <td>2166529</td>\n",
       "      <td>7113</td>\n",
       "      <td>1808</td>\n",
       "      <td>100:10</td>\n",
       "      <td>5.0</td>\n",
       "      <td>20160727</td>\n",
       "    </tr>\n",
       "    <tr>\n",
       "      <td>4</td>\n",
       "      <td>6172162</td>\n",
       "      <td>7605</td>\n",
       "      <td>6500</td>\n",
       "      <td>30:1</td>\n",
       "      <td>2.0</td>\n",
       "      <td>20160708</td>\n",
       "    </tr>\n",
       "  </tbody>\n",
       "</table>\n",
       "</div>"
      ],
      "text/plain": [
       "   User_id  Merchant_id  Coupon_id Discount_rate  Distance  Date_received\n",
       "0  4129537          450       9983          30:5       1.0       20160712\n",
       "1  6949378         1300       3429          30:5       NaN       20160706\n",
       "2  2166529         7113       6928        200:20       5.0       20160727\n",
       "3  2166529         7113       1808        100:10       5.0       20160727\n",
       "4  6172162         7605       6500          30:1       2.0       20160708"
      ]
     },
     "execution_count": 5,
     "metadata": {},
     "output_type": "execute_result"
    }
   ],
   "source": [
    "df_test = pd.read_csv('DataSets/ccf_offline_stage1_test_revised.csv')\n",
    "print(\"Testing Data(Offline) Sample\\nShape:\"+str(df_test.shape))\n",
    "df_test.head()"
   ]
  },
  {
   "cell_type": "markdown",
   "metadata": {},
   "source": [
    "#### Converting Date to DateTime format"
   ]
  },
  {
   "cell_type": "code",
   "execution_count": 6,
   "metadata": {},
   "outputs": [],
   "source": [
    "#Online Training Data\n",
    "df_on['Date'] = pd.to_datetime(df_on[\"Date\"],format='%Y%m%d')\n",
    "df_on['Date_received'] = pd.to_datetime(df_on[\"Date_received\"],format='%Y%m%d')\n",
    "\n",
    "#Offline Training Data\n",
    "df_off['Date'] = pd.to_datetime(df_off[\"Date\"],format='%Y%m%d')\n",
    "df_off['Date_received'] = pd.to_datetime(df_off[\"Date_received\"],format='%Y%m%d')"
   ]
  },
  {
   "cell_type": "markdown",
   "metadata": {},
   "source": [
    "### Removing Duplicates from Online and Offline Training Data"
   ]
  },
  {
   "cell_type": "code",
   "execution_count": 7,
   "metadata": {},
   "outputs": [
    {
     "name": "stdout",
     "output_type": "stream",
     "text": [
      "Online Training Data Shape:(5822543, 8)\n"
     ]
    }
   ],
   "source": [
    "#Removing duplicates and giving frequency counts(Count) to each row\n",
    "\n",
    "#Online\n",
    "x = 'g8h.|$hTdo+jC9^@'    \n",
    "df_on_unique = (df_on.fillna(x).groupby(['User_id', 'Merchant_id', 'Action', 'Coupon_id', 'Discount_rate',\n",
    "       'Date_received', 'Date']).size().reset_index()\n",
    "               .rename(columns={0 : 'Count'}).replace(x,np.NaN))\n",
    "df_on_unique[\"Date_received\"]=pd.to_datetime(df_on_unique[\"Date_received\"])\n",
    "df_on_unique[\"Date\"]=pd.to_datetime(df_on_unique[\"Date\"])\n",
    "\n",
    "print(\"Online Training Data Shape:\"+str(df_on_unique.shape))"
   ]
  },
  {
   "cell_type": "code",
   "execution_count": 8,
   "metadata": {},
   "outputs": [
    {
     "name": "stdout",
     "output_type": "stream",
     "text": [
      "Offline Training Data Shape:(1716991, 8)\n"
     ]
    }
   ],
   "source": [
    "#Offline\n",
    "x = 'g8h.|$hTdo+jC9^@'   #garbage value for nan values \n",
    "df_off_unique = (df_off.fillna(x).groupby(['User_id', 'Merchant_id', 'Coupon_id', 'Discount_rate', 'Distance',\n",
    "       'Date_received', 'Date']).size().reset_index()\n",
    "               .rename(columns={0 : 'Count'}).replace(x,np.NaN))\n",
    "df_off_unique[\"Date_received\"]=pd.to_datetime(df_off_unique[\"Date_received\"])\n",
    "df_off_unique[\"Date\"]=pd.to_datetime(df_off_unique[\"Date\"])\n",
    "\n",
    "print(\"Offline Training Data Shape:\"+str(df_off_unique.shape))"
   ]
  },
  {
   "cell_type": "markdown",
   "metadata": {},
   "source": [
    "#### Filling Nan for Distance (OFFLINE)"
   ]
  },
  {
   "cell_type": "code",
   "execution_count": 9,
   "metadata": {},
   "outputs": [],
   "source": [
    "df_off_unique['Distance'].fillna(df_off_unique['Distance'].mean(), inplace=True)\n",
    "df_off_unique['Distance'] = df_off_unique.Distance.astype(int)"
   ]
  },
  {
   "cell_type": "markdown",
   "metadata": {},
   "source": [
    "### Converting Discount Ratio to Rate"
   ]
  },
  {
   "cell_type": "code",
   "execution_count": 10,
   "metadata": {},
   "outputs": [],
   "source": [
    "#Funtion to convert discount ratio to discount rate\n",
    "def convert_discount(discount):\n",
    "    values = []\n",
    "    for i in discount:\n",
    "        if ':' in i:\n",
    "            i = i.split(':')\n",
    "            rate = round((int(i[0]) - int(i[1]))/int(i[0]),3)\n",
    "            values.append([int(i[0]),int(i[1]),rate])\n",
    "        elif '.' in i:\n",
    "            i = float(i)\n",
    "            x = 100*i\n",
    "            values.append([100,int(100-x),i])\n",
    "            \n",
    "    discounts = dict(zip(discount,values))      \n",
    "    return discounts\n",
    "    \n",
    "\n",
    "# convert_discount(list(df_of['Discount_rate']))"
   ]
  },
  {
   "cell_type": "code",
   "execution_count": 11,
   "metadata": {},
   "outputs": [
    {
     "data": {
      "text/html": [
       "<div>\n",
       "<style scoped>\n",
       "    .dataframe tbody tr th:only-of-type {\n",
       "        vertical-align: middle;\n",
       "    }\n",
       "\n",
       "    .dataframe tbody tr th {\n",
       "        vertical-align: top;\n",
       "    }\n",
       "\n",
       "    .dataframe thead th {\n",
       "        text-align: right;\n",
       "    }\n",
       "</style>\n",
       "<table border=\"1\" class=\"dataframe\">\n",
       "  <thead>\n",
       "    <tr style=\"text-align: right;\">\n",
       "      <th></th>\n",
       "      <th>User_id</th>\n",
       "      <th>Merchant_id</th>\n",
       "      <th>Action</th>\n",
       "      <th>Coupon_id</th>\n",
       "      <th>Discount_rate</th>\n",
       "      <th>Date_received</th>\n",
       "      <th>Date</th>\n",
       "      <th>Count</th>\n",
       "      <th>Discount</th>\n",
       "      <th>Original_price</th>\n",
       "      <th>Discounted_price</th>\n",
       "      <th>Rate</th>\n",
       "    </tr>\n",
       "  </thead>\n",
       "  <tbody>\n",
       "    <tr>\n",
       "      <td>0</td>\n",
       "      <td>4</td>\n",
       "      <td>25104</td>\n",
       "      <td>2</td>\n",
       "      <td>100145044</td>\n",
       "      <td>[100, 10, 0.9]</td>\n",
       "      <td>2016-03-31</td>\n",
       "      <td>NaT</td>\n",
       "      <td>1</td>\n",
       "      <td>100:10</td>\n",
       "      <td>100</td>\n",
       "      <td>10</td>\n",
       "      <td>0.900</td>\n",
       "    </tr>\n",
       "    <tr>\n",
       "      <td>14</td>\n",
       "      <td>209</td>\n",
       "      <td>27710</td>\n",
       "      <td>1</td>\n",
       "      <td>100081876</td>\n",
       "      <td>[150, 10, 0.933]</td>\n",
       "      <td>2016-05-14</td>\n",
       "      <td>2016-05-14</td>\n",
       "      <td>1</td>\n",
       "      <td>150:10</td>\n",
       "      <td>150</td>\n",
       "      <td>10</td>\n",
       "      <td>0.933</td>\n",
       "    </tr>\n",
       "    <tr>\n",
       "      <td>44</td>\n",
       "      <td>236</td>\n",
       "      <td>53305</td>\n",
       "      <td>2</td>\n",
       "      <td>100075632</td>\n",
       "      <td>[200, 10, 0.95]</td>\n",
       "      <td>2016-02-21</td>\n",
       "      <td>NaT</td>\n",
       "      <td>1</td>\n",
       "      <td>200:10</td>\n",
       "      <td>200</td>\n",
       "      <td>10</td>\n",
       "      <td>0.950</td>\n",
       "    </tr>\n",
       "    <tr>\n",
       "      <td>45</td>\n",
       "      <td>236</td>\n",
       "      <td>53305</td>\n",
       "      <td>2</td>\n",
       "      <td>100181719</td>\n",
       "      <td>[50, 1, 0.98]</td>\n",
       "      <td>2016-02-21</td>\n",
       "      <td>NaT</td>\n",
       "      <td>1</td>\n",
       "      <td>50:1</td>\n",
       "      <td>50</td>\n",
       "      <td>1</td>\n",
       "      <td>0.980</td>\n",
       "    </tr>\n",
       "    <tr>\n",
       "      <td>46</td>\n",
       "      <td>236</td>\n",
       "      <td>53305</td>\n",
       "      <td>2</td>\n",
       "      <td>100214552</td>\n",
       "      <td>[150, 5, 0.967]</td>\n",
       "      <td>2016-02-21</td>\n",
       "      <td>NaT</td>\n",
       "      <td>1</td>\n",
       "      <td>150:5</td>\n",
       "      <td>150</td>\n",
       "      <td>5</td>\n",
       "      <td>0.967</td>\n",
       "    </tr>\n",
       "  </tbody>\n",
       "</table>\n",
       "</div>"
      ],
      "text/plain": [
       "    User_id  Merchant_id  Action  Coupon_id     Discount_rate Date_received  \\\n",
       "0         4        25104       2  100145044    [100, 10, 0.9]    2016-03-31   \n",
       "14      209        27710       1  100081876  [150, 10, 0.933]    2016-05-14   \n",
       "44      236        53305       2  100075632   [200, 10, 0.95]    2016-02-21   \n",
       "45      236        53305       2  100181719     [50, 1, 0.98]    2016-02-21   \n",
       "46      236        53305       2  100214552   [150, 5, 0.967]    2016-02-21   \n",
       "\n",
       "         Date  Count Discount  Original_price  Discounted_price   Rate  \n",
       "0         NaT      1   100:10             100                10  0.900  \n",
       "14 2016-05-14      1   150:10             150                10  0.933  \n",
       "44        NaT      1   200:10             200                10  0.950  \n",
       "45        NaT      1     50:1              50                 1  0.980  \n",
       "46        NaT      1    150:5             150                 5  0.967  "
      ]
     },
     "execution_count": 11,
     "metadata": {},
     "output_type": "execute_result"
    }
   ],
   "source": [
    "#ONLINE DATA\n",
    "df_on_coupon = df_on_unique[(df_on_unique['Coupon_id'].isna()==False) & (df_on_unique['Coupon_id']!='fixed')]\n",
    "discounts_online = list(df_on_coupon['Discount_rate'].unique())\n",
    "df_on_coupon.loc[:,('Discount')] = df_on_coupon.loc[:,('Discount_rate')] \n",
    "df_on_coupon.loc[:,('Discount_rate')] = df_on_coupon.loc[:,('Discount')].map(convert_discount(discounts_online))\n",
    "df_on_coupon[['Original_price','Discounted_price','Rate']] = pd.DataFrame(df_on_coupon.Discount_rate.values.tolist(), index= df_on_coupon.index)\n",
    "df_on_coupon.head()"
   ]
  },
  {
   "cell_type": "code",
   "execution_count": 12,
   "metadata": {},
   "outputs": [
    {
     "data": {
      "text/html": [
       "<div>\n",
       "<style scoped>\n",
       "    .dataframe tbody tr th:only-of-type {\n",
       "        vertical-align: middle;\n",
       "    }\n",
       "\n",
       "    .dataframe tbody tr th {\n",
       "        vertical-align: top;\n",
       "    }\n",
       "\n",
       "    .dataframe thead th {\n",
       "        text-align: right;\n",
       "    }\n",
       "</style>\n",
       "<table border=\"1\" class=\"dataframe\">\n",
       "  <thead>\n",
       "    <tr style=\"text-align: right;\">\n",
       "      <th></th>\n",
       "      <th>User_id</th>\n",
       "      <th>Merchant_id</th>\n",
       "      <th>Coupon_id</th>\n",
       "      <th>Discount_rate</th>\n",
       "      <th>Distance</th>\n",
       "      <th>Date_received</th>\n",
       "      <th>Date</th>\n",
       "      <th>Count</th>\n",
       "      <th>Discount</th>\n",
       "      <th>Original_price</th>\n",
       "      <th>Discounted_price</th>\n",
       "      <th>Rate</th>\n",
       "    </tr>\n",
       "  </thead>\n",
       "  <tbody>\n",
       "    <tr>\n",
       "      <td>0</td>\n",
       "      <td>4</td>\n",
       "      <td>1433</td>\n",
       "      <td>8735.0</td>\n",
       "      <td>[30, 5, 0.833]</td>\n",
       "      <td>10</td>\n",
       "      <td>2016-02-14</td>\n",
       "      <td>NaT</td>\n",
       "      <td>1</td>\n",
       "      <td>30:5</td>\n",
       "      <td>30</td>\n",
       "      <td>5</td>\n",
       "      <td>0.833</td>\n",
       "    </tr>\n",
       "    <tr>\n",
       "      <td>1</td>\n",
       "      <td>4</td>\n",
       "      <td>1469</td>\n",
       "      <td>2902.0</td>\n",
       "      <td>[100, 5, 0.95]</td>\n",
       "      <td>10</td>\n",
       "      <td>2016-06-07</td>\n",
       "      <td>NaT</td>\n",
       "      <td>1</td>\n",
       "      <td>0.95</td>\n",
       "      <td>100</td>\n",
       "      <td>5</td>\n",
       "      <td>0.950</td>\n",
       "    </tr>\n",
       "    <tr>\n",
       "      <td>2</td>\n",
       "      <td>35</td>\n",
       "      <td>3381</td>\n",
       "      <td>1807.0</td>\n",
       "      <td>[300, 30, 0.9]</td>\n",
       "      <td>0</td>\n",
       "      <td>2016-01-30</td>\n",
       "      <td>NaT</td>\n",
       "      <td>1</td>\n",
       "      <td>300:30</td>\n",
       "      <td>300</td>\n",
       "      <td>30</td>\n",
       "      <td>0.900</td>\n",
       "    </tr>\n",
       "    <tr>\n",
       "      <td>3</td>\n",
       "      <td>35</td>\n",
       "      <td>3381</td>\n",
       "      <td>9776.0</td>\n",
       "      <td>[10, 5, 0.5]</td>\n",
       "      <td>0</td>\n",
       "      <td>2016-01-29</td>\n",
       "      <td>NaT</td>\n",
       "      <td>1</td>\n",
       "      <td>10:5</td>\n",
       "      <td>10</td>\n",
       "      <td>5</td>\n",
       "      <td>0.500</td>\n",
       "    </tr>\n",
       "    <tr>\n",
       "      <td>4</td>\n",
       "      <td>35</td>\n",
       "      <td>3381</td>\n",
       "      <td>11951.0</td>\n",
       "      <td>[200, 20, 0.9]</td>\n",
       "      <td>0</td>\n",
       "      <td>2016-01-29</td>\n",
       "      <td>NaT</td>\n",
       "      <td>1</td>\n",
       "      <td>200:20</td>\n",
       "      <td>200</td>\n",
       "      <td>20</td>\n",
       "      <td>0.900</td>\n",
       "    </tr>\n",
       "  </tbody>\n",
       "</table>\n",
       "</div>"
      ],
      "text/plain": [
       "   User_id  Merchant_id  Coupon_id   Discount_rate  Distance Date_received  \\\n",
       "0        4         1433     8735.0  [30, 5, 0.833]        10    2016-02-14   \n",
       "1        4         1469     2902.0  [100, 5, 0.95]        10    2016-06-07   \n",
       "2       35         3381     1807.0  [300, 30, 0.9]         0    2016-01-30   \n",
       "3       35         3381     9776.0    [10, 5, 0.5]         0    2016-01-29   \n",
       "4       35         3381    11951.0  [200, 20, 0.9]         0    2016-01-29   \n",
       "\n",
       "  Date  Count Discount  Original_price  Discounted_price   Rate  \n",
       "0  NaT      1     30:5              30                 5  0.833  \n",
       "1  NaT      1     0.95             100                 5  0.950  \n",
       "2  NaT      1   300:30             300                30  0.900  \n",
       "3  NaT      1     10:5              10                 5  0.500  \n",
       "4  NaT      1   200:20             200                20  0.900  "
      ]
     },
     "execution_count": 12,
     "metadata": {},
     "output_type": "execute_result"
    }
   ],
   "source": [
    "#OFFLINE DATA\n",
    "df_off_coupon = df_off_unique[(df_off_unique['Coupon_id'].isna()==False)].copy()\n",
    "discounts_offline = list(df_off_coupon['Discount_rate'].unique())\n",
    "df_off_coupon.loc[:,('Discount')] = df_off_coupon.loc[:,('Discount_rate')] \n",
    "df_off_coupon['Discount_rate'] = df_off_coupon['Discount'].map(convert_discount(discounts_offline))\n",
    "df_off_coupon[['Original_price','Discounted_price','Rate']] = pd.DataFrame(df_off_coupon.Discount_rate.values.tolist(), index= df_off_coupon.index)\n",
    "df_off_coupon.head()"
   ]
  },
  {
   "cell_type": "markdown",
   "metadata": {},
   "source": [
    "## Merchant Anlaysis"
   ]
  },
  {
   "cell_type": "markdown",
   "metadata": {},
   "source": [
    "### Merchant Distribution for Online, Offline and Test Datasets"
   ]
  },
  {
   "cell_type": "code",
   "execution_count": 13,
   "metadata": {},
   "outputs": [
    {
     "data": {
      "text/plain": [
       "(8415, 7999, 1559)"
      ]
     },
     "execution_count": 13,
     "metadata": {},
     "output_type": "execute_result"
    }
   ],
   "source": [
    "merchant_off = set(df_off['Merchant_id'].unique())\n",
    "merchant_on = set(df_on['Merchant_id'].unique())\n",
    "merchant_test = set(df_test['Merchant_id'].unique())\n",
    "len(merchant_off),len(merchant_on),len(merchant_test)"
   ]
  },
  {
   "cell_type": "code",
   "execution_count": 14,
   "metadata": {},
   "outputs": [
    {
     "data": {
      "text/plain": [
       "(0, 0, 1558)"
      ]
     },
     "execution_count": 14,
     "metadata": {},
     "output_type": "execute_result"
    }
   ],
   "source": [
    "merchant_on_off = merchant_on.intersection(merchant_off)\n",
    "merchant_on_test = merchant_on.intersection(merchant_test)\n",
    "merchant_test_off = merchant_test.intersection(merchant_off)\n",
    "len(merchant_on_off), len(merchant_on_test), len(merchant_test_off)"
   ]
  },
  {
   "cell_type": "code",
   "execution_count": 15,
   "metadata": {},
   "outputs": [
    {
     "data": {
      "text/plain": [
       "(6857, 1)"
      ]
     },
     "execution_count": 15,
     "metadata": {},
     "output_type": "execute_result"
    }
   ],
   "source": [
    "merchant_only_off = merchant_off - merchant_test\n",
    "merchant_only_test = merchant_test - merchant_off\n",
    "len(merchant_only_off),len(merchant_only_test)"
   ]
  },
  {
   "cell_type": "markdown",
   "metadata": {},
   "source": [
    "<img src =\"imgs/MerchantDistribution.png\" width=\"60%\">"
   ]
  },
  {
   "cell_type": "markdown",
   "metadata": {},
   "source": [
    " ### Merchant Redemption Score "
   ]
  },
  {
   "cell_type": "code",
   "execution_count": 16,
   "metadata": {},
   "outputs": [
    {
     "data": {
      "text/html": [
       "<div>\n",
       "<style scoped>\n",
       "    .dataframe tbody tr th:only-of-type {\n",
       "        vertical-align: middle;\n",
       "    }\n",
       "\n",
       "    .dataframe tbody tr th {\n",
       "        vertical-align: top;\n",
       "    }\n",
       "\n",
       "    .dataframe thead th {\n",
       "        text-align: right;\n",
       "    }\n",
       "</style>\n",
       "<table border=\"1\" class=\"dataframe\">\n",
       "  <thead>\n",
       "    <tr style=\"text-align: right;\">\n",
       "      <th></th>\n",
       "      <th>Merchant_id</th>\n",
       "      <th>Merchant_Released</th>\n",
       "      <th>Merchant_Redeemed</th>\n",
       "      <th>Merchant_Ratio</th>\n",
       "    </tr>\n",
       "  </thead>\n",
       "  <tbody>\n",
       "    <tr>\n",
       "      <td>0</td>\n",
       "      <td>2</td>\n",
       "      <td>7</td>\n",
       "      <td>0</td>\n",
       "      <td>0.00</td>\n",
       "    </tr>\n",
       "    <tr>\n",
       "      <td>1</td>\n",
       "      <td>3</td>\n",
       "      <td>10</td>\n",
       "      <td>1</td>\n",
       "      <td>0.10</td>\n",
       "    </tr>\n",
       "    <tr>\n",
       "      <td>2</td>\n",
       "      <td>4</td>\n",
       "      <td>7</td>\n",
       "      <td>5</td>\n",
       "      <td>0.71</td>\n",
       "    </tr>\n",
       "    <tr>\n",
       "      <td>3</td>\n",
       "      <td>5</td>\n",
       "      <td>28</td>\n",
       "      <td>3</td>\n",
       "      <td>0.11</td>\n",
       "    </tr>\n",
       "    <tr>\n",
       "      <td>4</td>\n",
       "      <td>8</td>\n",
       "      <td>2</td>\n",
       "      <td>0</td>\n",
       "      <td>0.00</td>\n",
       "    </tr>\n",
       "  </tbody>\n",
       "</table>\n",
       "</div>"
      ],
      "text/plain": [
       "   Merchant_id  Merchant_Released  Merchant_Redeemed  Merchant_Ratio\n",
       "0            2                  7                  0            0.00\n",
       "1            3                 10                  1            0.10\n",
       "2            4                  7                  5            0.71\n",
       "3            5                 28                  3            0.11\n",
       "4            8                  2                  0            0.00"
      ]
     },
     "execution_count": 16,
     "metadata": {},
     "output_type": "execute_result"
    }
   ],
   "source": [
    "#Merchants in offline Dataset\n",
    "merchant_redemption_offline = pd.DataFrame(df_off_coupon.groupby(['Merchant_id'])['Coupon_id','Date']\n",
    "                                           .count()).reset_index()\n",
    "merchant_redemption_offline.columns = ['Merchant_id','Merchant_Released', 'Merchant_Redeemed']\n",
    "merchant_redemption_offline['Merchant_Ratio'] = round(merchant_redemption_offline['Merchant_Redeemed']\n",
    "                                                      /merchant_redemption_offline['Merchant_Released'],2)\n",
    "merchant_redemption_offline.head(5)"
   ]
  },
  {
   "cell_type": "code",
   "execution_count": 17,
   "metadata": {},
   "outputs": [
    {
     "data": {
      "image/png": "[encoded data removed]",
      "text/plain": [
       "<Figure size 576x360 with 1 Axes>"
      ]
     },
     "metadata": {
      "needs_background": "light"
     },
     "output_type": "display_data"
    }
   ],
   "source": [
    "plt.figure(figsize=(8,5))\n",
    "sns.distplot(merchant_redemption_offline['Merchant_Ratio'],kde=False,bins=26)\n",
    "plt.xlabel('Merchant Redemption Ratio')\n",
    "plt.ylabel('Count of Merchants')\n",
    "plt.title('Merchants Redemption Score Distribution (OFFLINE)')\n",
    "plt.show()"
   ]
  },
  {
   "cell_type": "code",
   "execution_count": 18,
   "metadata": {},
   "outputs": [
    {
     "data": {
      "text/html": [
       "<div>\n",
       "<style scoped>\n",
       "    .dataframe tbody tr th:only-of-type {\n",
       "        vertical-align: middle;\n",
       "    }\n",
       "\n",
       "    .dataframe tbody tr th {\n",
       "        vertical-align: top;\n",
       "    }\n",
       "\n",
       "    .dataframe thead th {\n",
       "        text-align: right;\n",
       "    }\n",
       "</style>\n",
       "<table border=\"1\" class=\"dataframe\">\n",
       "  <thead>\n",
       "    <tr style=\"text-align: right;\">\n",
       "      <th></th>\n",
       "      <th>Merchant_Released</th>\n",
       "      <th>Merchant_Redeemed</th>\n",
       "      <th>Merchant_Ratio</th>\n",
       "    </tr>\n",
       "    <tr>\n",
       "      <th>Merchant_id</th>\n",
       "      <th></th>\n",
       "      <th></th>\n",
       "      <th></th>\n",
       "    </tr>\n",
       "  </thead>\n",
       "  <tbody>\n",
       "    <tr>\n",
       "      <td>22712</td>\n",
       "      <td>208</td>\n",
       "      <td>28</td>\n",
       "      <td>0.13</td>\n",
       "    </tr>\n",
       "    <tr>\n",
       "      <td>59302</td>\n",
       "      <td>8</td>\n",
       "      <td>2</td>\n",
       "      <td>0.25</td>\n",
       "    </tr>\n",
       "    <tr>\n",
       "      <td>34911</td>\n",
       "      <td>68</td>\n",
       "      <td>2</td>\n",
       "      <td>0.03</td>\n",
       "    </tr>\n",
       "    <tr>\n",
       "      <td>47612</td>\n",
       "      <td>187</td>\n",
       "      <td>25</td>\n",
       "      <td>0.13</td>\n",
       "    </tr>\n",
       "    <tr>\n",
       "      <td>24309</td>\n",
       "      <td>270</td>\n",
       "      <td>13</td>\n",
       "      <td>0.05</td>\n",
       "    </tr>\n",
       "  </tbody>\n",
       "</table>\n",
       "</div>"
      ],
      "text/plain": [
       "             Merchant_Released  Merchant_Redeemed  Merchant_Ratio\n",
       "Merchant_id                                                      \n",
       "22712                      208                 28            0.13\n",
       "59302                        8                  2            0.25\n",
       "34911                       68                  2            0.03\n",
       "47612                      187                 25            0.13\n",
       "24309                      270                 13            0.05"
      ]
     },
     "execution_count": 18,
     "metadata": {},
     "output_type": "execute_result"
    }
   ],
   "source": [
    "#Merchants in online Dataset\n",
    "merchant_redemption_online = df_on_coupon.groupby(['Merchant_id'])['Coupon_id','Date'].count()\n",
    "merchant_redemption_online.columns = ['Merchant_Released', 'Merchant_Redeemed']\n",
    "merchant_redemption_online['Merchant_Ratio'] = round(merchant_redemption_online['Merchant_Redeemed']\n",
    "                                                     /merchant_redemption_online['Merchant_Released'],2)\n",
    "merchant_redemption_online.sample(5)"
   ]
  },
  {
   "cell_type": "code",
   "execution_count": 19,
   "metadata": {},
   "outputs": [
    {
     "data": {
      "image/png": "[encoded data removed]",
      "text/plain": [
       "<Figure size 576x360 with 1 Axes>"
      ]
     },
     "metadata": {
      "needs_background": "light"
     },
     "output_type": "display_data"
    }
   ],
   "source": [
    "plt.figure(figsize=(8,5))\n",
    "sns.distplot(merchant_redemption_online['Merchant_Ratio'],kde=False,bins=26)\n",
    "plt.xlabel('Merchant Redemption Ratio')\n",
    "plt.ylabel('Count of Merchants')\n",
    "plt.title('Merchants Redemption Score Distribution (ONLINE)')\n",
    "\n",
    "plt.show()"
   ]
  },
  {
   "cell_type": "markdown",
   "metadata": {},
   "source": [
    "### Merchant and Average Distance of its customers (OFFLINE)"
   ]
  },
  {
   "cell_type": "code",
   "execution_count": 20,
   "metadata": {},
   "outputs": [
    {
     "data": {
      "text/html": [
       "<div>\n",
       "<style scoped>\n",
       "    .dataframe tbody tr th:only-of-type {\n",
       "        vertical-align: middle;\n",
       "    }\n",
       "\n",
       "    .dataframe tbody tr th {\n",
       "        vertical-align: top;\n",
       "    }\n",
       "\n",
       "    .dataframe thead th {\n",
       "        text-align: right;\n",
       "    }\n",
       "</style>\n",
       "<table border=\"1\" class=\"dataframe\">\n",
       "  <thead>\n",
       "    <tr style=\"text-align: right;\">\n",
       "      <th></th>\n",
       "      <th>Merchant_id</th>\n",
       "      <th>Merchant_AvgDistance</th>\n",
       "      <th>Count</th>\n",
       "    </tr>\n",
       "  </thead>\n",
       "  <tbody>\n",
       "    <tr>\n",
       "      <td>0</td>\n",
       "      <td>1</td>\n",
       "      <td>0.000000</td>\n",
       "      <td>14</td>\n",
       "    </tr>\n",
       "    <tr>\n",
       "      <td>1</td>\n",
       "      <td>2</td>\n",
       "      <td>6.181818</td>\n",
       "      <td>11</td>\n",
       "    </tr>\n",
       "    <tr>\n",
       "      <td>2</td>\n",
       "      <td>3</td>\n",
       "      <td>5.000000</td>\n",
       "      <td>18</td>\n",
       "    </tr>\n",
       "    <tr>\n",
       "      <td>3</td>\n",
       "      <td>4</td>\n",
       "      <td>0.050000</td>\n",
       "      <td>40</td>\n",
       "    </tr>\n",
       "    <tr>\n",
       "      <td>4</td>\n",
       "      <td>5</td>\n",
       "      <td>1.531646</td>\n",
       "      <td>79</td>\n",
       "    </tr>\n",
       "  </tbody>\n",
       "</table>\n",
       "</div>"
      ],
      "text/plain": [
       "   Merchant_id  Merchant_AvgDistance  Count\n",
       "0            1              0.000000     14\n",
       "1            2              6.181818     11\n",
       "2            3              5.000000     18\n",
       "3            4              0.050000     40\n",
       "4            5              1.531646     79"
      ]
     },
     "execution_count": 20,
     "metadata": {},
     "output_type": "execute_result"
    }
   ],
   "source": [
    "merchant_distance = pd.DataFrame(df_off_unique.groupby(['Merchant_id'])['Distance']\n",
    "                                 .agg(['mean','count'])).reset_index()\n",
    "merchant_distance.columns = ['Merchant_id','Merchant_AvgDistance','Count']\n",
    "merchant_distance.head()"
   ]
  },
  {
   "cell_type": "code",
   "execution_count": 21,
   "metadata": {},
   "outputs": [
    {
     "data": {
      "text/plain": [
       "count      8415.000000\n",
       "mean        204.039335\n",
       "std        2402.292293\n",
       "min           1.000000\n",
       "25%           8.000000\n",
       "50%          19.000000\n",
       "75%          50.000000\n",
       "max      140811.000000\n",
       "Name: Count, dtype: float64"
      ]
     },
     "execution_count": 21,
     "metadata": {},
     "output_type": "execute_result"
    }
   ],
   "source": [
    "merchant_distance['Count'].describe()"
   ]
  },
  {
   "cell_type": "code",
   "execution_count": 22,
   "metadata": {
    "scrolled": true
   },
   "outputs": [
    {
     "data": {
      "image/png": "[encoded data removed]",
      "text/plain": [
       "<Figure size 576x360 with 1 Axes>"
      ]
     },
     "metadata": {
      "needs_background": "light"
     },
     "output_type": "display_data"
    }
   ],
   "source": [
    "plt.figure(figsize=(8,5))\n",
    "ax = sns.distplot(merchant_distance['Merchant_AvgDistance'],kde=False,bins=26)\n",
    "plt.xlabel('AvgDistance of Users')\n",
    "plt.ylabel('Count of Merchants')\n",
    "plt.title('Distribution of Average Distance of customers (OFFLINE)')\n",
    "for p in ax.patches:\n",
    "    ax.annotate('{:.0f}'.format(p.get_height()), (p.get_x()+0.1, p.get_height()+50))\n",
    "plt.show()"
   ]
  },
  {
   "cell_type": "markdown",
   "metadata": {},
   "source": [
    "### Merchant and its Popularity  (OFFLINE)\n",
    "(based on number of visits of its customers)<br>\n",
    "If visits > 40:\n",
    "    then Merchant is Popular"
   ]
  },
  {
   "cell_type": "code",
   "execution_count": 23,
   "metadata": {},
   "outputs": [
    {
     "data": {
      "text/html": [
       "<div>\n",
       "<style scoped>\n",
       "    .dataframe tbody tr th:only-of-type {\n",
       "        vertical-align: middle;\n",
       "    }\n",
       "\n",
       "    .dataframe tbody tr th {\n",
       "        vertical-align: top;\n",
       "    }\n",
       "\n",
       "    .dataframe thead th {\n",
       "        text-align: right;\n",
       "    }\n",
       "</style>\n",
       "<table border=\"1\" class=\"dataframe\">\n",
       "  <thead>\n",
       "    <tr style=\"text-align: right;\">\n",
       "      <th></th>\n",
       "      <th>Merchant_id</th>\n",
       "      <th>Merchant_Visits</th>\n",
       "    </tr>\n",
       "  </thead>\n",
       "  <tbody>\n",
       "    <tr>\n",
       "      <td>0</td>\n",
       "      <td>1</td>\n",
       "      <td>14</td>\n",
       "    </tr>\n",
       "    <tr>\n",
       "      <td>1</td>\n",
       "      <td>2</td>\n",
       "      <td>4</td>\n",
       "    </tr>\n",
       "    <tr>\n",
       "      <td>2</td>\n",
       "      <td>3</td>\n",
       "      <td>9</td>\n",
       "    </tr>\n",
       "    <tr>\n",
       "      <td>3</td>\n",
       "      <td>4</td>\n",
       "      <td>38</td>\n",
       "    </tr>\n",
       "    <tr>\n",
       "      <td>4</td>\n",
       "      <td>5</td>\n",
       "      <td>54</td>\n",
       "    </tr>\n",
       "  </tbody>\n",
       "</table>\n",
       "</div>"
      ],
      "text/plain": [
       "   Merchant_id  Merchant_Visits\n",
       "0            1               14\n",
       "1            2                4\n",
       "2            3                9\n",
       "3            4               38\n",
       "4            5               54"
      ]
     },
     "execution_count": 23,
     "metadata": {},
     "output_type": "execute_result"
    }
   ],
   "source": [
    "df_off_purchase = df_off_unique[df_off_unique['Date'].isna()==False]\n",
    "merchant_visits_off = pd.DataFrame(df_off_purchase.groupby(['Merchant_id','User_id','Date'])['Distance']\n",
    "                                   .count()).reset_index()\n",
    "\n",
    "merchant_visits_offline = pd.DataFrame(df_off_unique.groupby(['Merchant_id'])['Date'].count()).reset_index()\n",
    "\n",
    "merchant_visits_offline = merchant_visits_offline.rename(columns={\"Date\": \"Merchant_Visits\"})\n",
    "merchant_visits_offline.head()"
   ]
  },
  {
   "cell_type": "code",
   "execution_count": 24,
   "metadata": {},
   "outputs": [
    {
     "data": {
      "text/plain": [
       "count     8415.000000\n",
       "mean        92.057754\n",
       "std        827.884372\n",
       "min          0.000000\n",
       "25%          6.000000\n",
       "50%         14.000000\n",
       "75%         37.000000\n",
       "max      35885.000000\n",
       "Name: Merchant_Visits, dtype: float64"
      ]
     },
     "execution_count": 24,
     "metadata": {},
     "output_type": "execute_result"
    }
   ],
   "source": [
    "merchant_visits_offline['Merchant_Visits'].describe()"
   ]
  },
  {
   "cell_type": "code",
   "execution_count": 25,
   "metadata": {},
   "outputs": [
    {
     "data": {
      "text/html": [
       "<div>\n",
       "<style scoped>\n",
       "    .dataframe tbody tr th:only-of-type {\n",
       "        vertical-align: middle;\n",
       "    }\n",
       "\n",
       "    .dataframe tbody tr th {\n",
       "        vertical-align: top;\n",
       "    }\n",
       "\n",
       "    .dataframe thead th {\n",
       "        text-align: right;\n",
       "    }\n",
       "</style>\n",
       "<table border=\"1\" class=\"dataframe\">\n",
       "  <thead>\n",
       "    <tr style=\"text-align: right;\">\n",
       "      <th></th>\n",
       "      <th>Merchant_id</th>\n",
       "      <th>Merchant_Visits</th>\n",
       "      <th>Merchant_Popular</th>\n",
       "    </tr>\n",
       "  </thead>\n",
       "  <tbody>\n",
       "    <tr>\n",
       "      <td>3286</td>\n",
       "      <td>3444</td>\n",
       "      <td>17</td>\n",
       "      <td>0</td>\n",
       "    </tr>\n",
       "    <tr>\n",
       "      <td>1634</td>\n",
       "      <td>1714</td>\n",
       "      <td>21</td>\n",
       "      <td>0</td>\n",
       "    </tr>\n",
       "    <tr>\n",
       "      <td>2924</td>\n",
       "      <td>3061</td>\n",
       "      <td>3</td>\n",
       "      <td>0</td>\n",
       "    </tr>\n",
       "    <tr>\n",
       "      <td>689</td>\n",
       "      <td>731</td>\n",
       "      <td>23</td>\n",
       "      <td>0</td>\n",
       "    </tr>\n",
       "    <tr>\n",
       "      <td>3539</td>\n",
       "      <td>3713</td>\n",
       "      <td>10</td>\n",
       "      <td>0</td>\n",
       "    </tr>\n",
       "  </tbody>\n",
       "</table>\n",
       "</div>"
      ],
      "text/plain": [
       "      Merchant_id  Merchant_Visits  Merchant_Popular\n",
       "3286         3444               17                 0\n",
       "1634         1714               21                 0\n",
       "2924         3061                3                 0\n",
       "689           731               23                 0\n",
       "3539         3713               10                 0"
      ]
     },
     "execution_count": 25,
     "metadata": {},
     "output_type": "execute_result"
    }
   ],
   "source": [
    "merchant_visits_offline['Merchant_Popular'] = [1 if x>40 else 0 \n",
    "                                               for x in merchant_visits_offline['Merchant_Visits']]\n",
    "merchant_visits_offline.sample(5)"
   ]
  },
  {
   "cell_type": "markdown",
   "metadata": {},
   "source": [
    "### Merchants and its Active duration"
   ]
  },
  {
   "cell_type": "code",
   "execution_count": 26,
   "metadata": {},
   "outputs": [
    {
     "data": {
      "text/html": [
       "<div>\n",
       "<style scoped>\n",
       "    .dataframe tbody tr th:only-of-type {\n",
       "        vertical-align: middle;\n",
       "    }\n",
       "\n",
       "    .dataframe tbody tr th {\n",
       "        vertical-align: top;\n",
       "    }\n",
       "\n",
       "    .dataframe thead th {\n",
       "        text-align: right;\n",
       "    }\n",
       "</style>\n",
       "<table border=\"1\" class=\"dataframe\">\n",
       "  <thead>\n",
       "    <tr style=\"text-align: right;\">\n",
       "      <th></th>\n",
       "      <th>User_id</th>\n",
       "      <th>Merchant_id</th>\n",
       "      <th>Coupon_id</th>\n",
       "      <th>Discount_rate</th>\n",
       "      <th>Distance</th>\n",
       "      <th>Date_received</th>\n",
       "      <th>Date</th>\n",
       "      <th>Count</th>\n",
       "      <th>DateTrack</th>\n",
       "    </tr>\n",
       "  </thead>\n",
       "  <tbody>\n",
       "    <tr>\n",
       "      <td>0</td>\n",
       "      <td>4</td>\n",
       "      <td>1433</td>\n",
       "      <td>8735.0</td>\n",
       "      <td>30:5</td>\n",
       "      <td>10</td>\n",
       "      <td>2016-02-14</td>\n",
       "      <td>NaT</td>\n",
       "      <td>1</td>\n",
       "      <td>2016-02-14</td>\n",
       "    </tr>\n",
       "    <tr>\n",
       "      <td>1</td>\n",
       "      <td>4</td>\n",
       "      <td>1469</td>\n",
       "      <td>2902.0</td>\n",
       "      <td>0.95</td>\n",
       "      <td>10</td>\n",
       "      <td>2016-06-07</td>\n",
       "      <td>NaT</td>\n",
       "      <td>1</td>\n",
       "      <td>2016-06-07</td>\n",
       "    </tr>\n",
       "    <tr>\n",
       "      <td>2</td>\n",
       "      <td>35</td>\n",
       "      <td>3381</td>\n",
       "      <td>1807.0</td>\n",
       "      <td>300:30</td>\n",
       "      <td>0</td>\n",
       "      <td>2016-01-30</td>\n",
       "      <td>NaT</td>\n",
       "      <td>1</td>\n",
       "      <td>2016-01-30</td>\n",
       "    </tr>\n",
       "    <tr>\n",
       "      <td>3</td>\n",
       "      <td>35</td>\n",
       "      <td>3381</td>\n",
       "      <td>9776.0</td>\n",
       "      <td>10:5</td>\n",
       "      <td>0</td>\n",
       "      <td>2016-01-29</td>\n",
       "      <td>NaT</td>\n",
       "      <td>1</td>\n",
       "      <td>2016-01-29</td>\n",
       "    </tr>\n",
       "    <tr>\n",
       "      <td>4</td>\n",
       "      <td>35</td>\n",
       "      <td>3381</td>\n",
       "      <td>11951.0</td>\n",
       "      <td>200:20</td>\n",
       "      <td>0</td>\n",
       "      <td>2016-01-29</td>\n",
       "      <td>NaT</td>\n",
       "      <td>1</td>\n",
       "      <td>2016-01-29</td>\n",
       "    </tr>\n",
       "  </tbody>\n",
       "</table>\n",
       "</div>"
      ],
      "text/plain": [
       "   User_id  Merchant_id  Coupon_id Discount_rate  Distance Date_received Date  \\\n",
       "0        4         1433     8735.0          30:5        10    2016-02-14  NaT   \n",
       "1        4         1469     2902.0          0.95        10    2016-06-07  NaT   \n",
       "2       35         3381     1807.0        300:30         0    2016-01-30  NaT   \n",
       "3       35         3381     9776.0          10:5         0    2016-01-29  NaT   \n",
       "4       35         3381    11951.0        200:20         0    2016-01-29  NaT   \n",
       "\n",
       "   Count  DateTrack  \n",
       "0      1 2016-02-14  \n",
       "1      1 2016-06-07  \n",
       "2      1 2016-01-30  \n",
       "3      1 2016-01-29  \n",
       "4      1 2016-01-29  "
      ]
     },
     "execution_count": 26,
     "metadata": {},
     "output_type": "execute_result"
    }
   ],
   "source": [
    "merchant_duration = df_off_unique.copy()\n",
    "merchant_duration['DateTrack'] = merchant_duration['Date']\n",
    "merchant_duration.DateTrack.fillna(merchant_duration.Date_received, inplace=True)\n",
    "merchant_duration.head()"
   ]
  },
  {
   "cell_type": "code",
   "execution_count": 27,
   "metadata": {},
   "outputs": [
    {
     "data": {
      "text/html": [
       "<div>\n",
       "<style scoped>\n",
       "    .dataframe tbody tr th:only-of-type {\n",
       "        vertical-align: middle;\n",
       "    }\n",
       "\n",
       "    .dataframe tbody tr th {\n",
       "        vertical-align: top;\n",
       "    }\n",
       "\n",
       "    .dataframe thead th {\n",
       "        text-align: right;\n",
       "    }\n",
       "</style>\n",
       "<table border=\"1\" class=\"dataframe\">\n",
       "  <thead>\n",
       "    <tr style=\"text-align: right;\">\n",
       "      <th></th>\n",
       "      <th>Merchant_id</th>\n",
       "      <th>StartDate</th>\n",
       "      <th>EndDate</th>\n",
       "      <th>MerchantDuration</th>\n",
       "    </tr>\n",
       "  </thead>\n",
       "  <tbody>\n",
       "    <tr>\n",
       "      <td>0</td>\n",
       "      <td>1</td>\n",
       "      <td>2016-01-15</td>\n",
       "      <td>2016-06-21</td>\n",
       "      <td>158 days</td>\n",
       "    </tr>\n",
       "    <tr>\n",
       "      <td>1</td>\n",
       "      <td>2</td>\n",
       "      <td>2016-05-15</td>\n",
       "      <td>2016-06-17</td>\n",
       "      <td>33 days</td>\n",
       "    </tr>\n",
       "    <tr>\n",
       "      <td>2</td>\n",
       "      <td>3</td>\n",
       "      <td>2016-04-24</td>\n",
       "      <td>2016-06-28</td>\n",
       "      <td>65 days</td>\n",
       "    </tr>\n",
       "    <tr>\n",
       "      <td>3</td>\n",
       "      <td>4</td>\n",
       "      <td>2016-02-18</td>\n",
       "      <td>2016-06-28</td>\n",
       "      <td>131 days</td>\n",
       "    </tr>\n",
       "    <tr>\n",
       "      <td>4</td>\n",
       "      <td>5</td>\n",
       "      <td>2016-01-01</td>\n",
       "      <td>2016-06-29</td>\n",
       "      <td>180 days</td>\n",
       "    </tr>\n",
       "  </tbody>\n",
       "</table>\n",
       "</div>"
      ],
      "text/plain": [
       "   Merchant_id  StartDate    EndDate MerchantDuration\n",
       "0            1 2016-01-15 2016-06-21         158 days\n",
       "1            2 2016-05-15 2016-06-17          33 days\n",
       "2            3 2016-04-24 2016-06-28          65 days\n",
       "3            4 2016-02-18 2016-06-28         131 days\n",
       "4            5 2016-01-01 2016-06-29         180 days"
      ]
     },
     "execution_count": 27,
     "metadata": {},
     "output_type": "execute_result"
    }
   ],
   "source": [
    "merchant_duration_days = pd.DataFrame( merchant_duration.groupby(['Merchant_id'])['DateTrack']\n",
    "                                     .agg(['min','max'])).reset_index()\n",
    "merchant_duration_days.columns = ['Merchant_id','StartDate', 'EndDate']\n",
    "merchant_duration_days['MerchantDuration'] = merchant_duration_days['EndDate']-merchant_duration_days['StartDate']\n",
    "merchant_duration_days.head()"
   ]
  },
  {
   "cell_type": "code",
   "execution_count": 28,
   "metadata": {},
   "outputs": [
    {
     "data": {
      "text/html": [
       "<div>\n",
       "<style scoped>\n",
       "    .dataframe tbody tr th:only-of-type {\n",
       "        vertical-align: middle;\n",
       "    }\n",
       "\n",
       "    .dataframe tbody tr th {\n",
       "        vertical-align: top;\n",
       "    }\n",
       "\n",
       "    .dataframe thead th {\n",
       "        text-align: right;\n",
       "    }\n",
       "</style>\n",
       "<table border=\"1\" class=\"dataframe\">\n",
       "  <thead>\n",
       "    <tr style=\"text-align: right;\">\n",
       "      <th></th>\n",
       "      <th>Merchant_id</th>\n",
       "      <th>StartDate</th>\n",
       "      <th>EndDate</th>\n",
       "      <th>MerchantDuration</th>\n",
       "    </tr>\n",
       "  </thead>\n",
       "  <tbody>\n",
       "    <tr>\n",
       "      <td>0</td>\n",
       "      <td>1</td>\n",
       "      <td>2016-01-15</td>\n",
       "      <td>2016-06-21</td>\n",
       "      <td>158</td>\n",
       "    </tr>\n",
       "    <tr>\n",
       "      <td>1</td>\n",
       "      <td>2</td>\n",
       "      <td>2016-05-15</td>\n",
       "      <td>2016-06-17</td>\n",
       "      <td>33</td>\n",
       "    </tr>\n",
       "    <tr>\n",
       "      <td>2</td>\n",
       "      <td>3</td>\n",
       "      <td>2016-04-24</td>\n",
       "      <td>2016-06-28</td>\n",
       "      <td>65</td>\n",
       "    </tr>\n",
       "    <tr>\n",
       "      <td>3</td>\n",
       "      <td>4</td>\n",
       "      <td>2016-02-18</td>\n",
       "      <td>2016-06-28</td>\n",
       "      <td>131</td>\n",
       "    </tr>\n",
       "    <tr>\n",
       "      <td>4</td>\n",
       "      <td>5</td>\n",
       "      <td>2016-01-01</td>\n",
       "      <td>2016-06-29</td>\n",
       "      <td>180</td>\n",
       "    </tr>\n",
       "  </tbody>\n",
       "</table>\n",
       "</div>"
      ],
      "text/plain": [
       "   Merchant_id  StartDate    EndDate  MerchantDuration\n",
       "0            1 2016-01-15 2016-06-21               158\n",
       "1            2 2016-05-15 2016-06-17                33\n",
       "2            3 2016-04-24 2016-06-28                65\n",
       "3            4 2016-02-18 2016-06-28               131\n",
       "4            5 2016-01-01 2016-06-29               180"
      ]
     },
     "execution_count": 28,
     "metadata": {},
     "output_type": "execute_result"
    }
   ],
   "source": [
    "merchant_duration_days['MerchantDuration'] = merchant_duration_days['MerchantDuration'].dt.days.astype('str')\n",
    "merchant_duration_days['MerchantDuration'] = pd.to_numeric(merchant_duration_days['MerchantDuration'],errors=\"coerce\")\n",
    "merchant_duration_days.head()"
   ]
  },
  {
   "cell_type": "code",
   "execution_count": 29,
   "metadata": {},
   "outputs": [
    {
     "data": {
      "image/png": "[encoded data removed]",
      "text/plain": [
       "<Figure size 576x360 with 1 Axes>"
      ]
     },
     "metadata": {
      "needs_background": "light"
     },
     "output_type": "display_data"
    }
   ],
   "source": [
    "plt.figure(figsize=(8,5))\n",
    "ax = sns.distplot(merchant_duration_days['MerchantDuration'],kde=False,bins=26)\n",
    "plt.xlabel('Active Duration of Merchants(days)')\n",
    "plt.ylabel('Count of Merchants')\n",
    "plt.title('Merchant and their Duration time(days)')\n",
    "for p in ax.patches:\n",
    "    ax.annotate('{:.0f}'.format(p.get_height()), (p.get_x()+0.1, p.get_height()+50))"
   ]
  },
  {
   "cell_type": "markdown",
   "metadata": {},
   "source": [
    "### Avg discount each merchant offers"
   ]
  },
  {
   "cell_type": "code",
   "execution_count": 30,
   "metadata": {},
   "outputs": [
    {
     "data": {
      "text/html": [
       "<div>\n",
       "<style scoped>\n",
       "    .dataframe tbody tr th:only-of-type {\n",
       "        vertical-align: middle;\n",
       "    }\n",
       "\n",
       "    .dataframe tbody tr th {\n",
       "        vertical-align: top;\n",
       "    }\n",
       "\n",
       "    .dataframe thead th {\n",
       "        text-align: right;\n",
       "    }\n",
       "</style>\n",
       "<table border=\"1\" class=\"dataframe\">\n",
       "  <thead>\n",
       "    <tr style=\"text-align: right;\">\n",
       "      <th></th>\n",
       "      <th>Merchant_id</th>\n",
       "      <th>Merchant_AvgRate</th>\n",
       "    </tr>\n",
       "  </thead>\n",
       "  <tbody>\n",
       "    <tr>\n",
       "      <td>0</td>\n",
       "      <td>2</td>\n",
       "      <td>0.800</td>\n",
       "    </tr>\n",
       "    <tr>\n",
       "      <td>1</td>\n",
       "      <td>3</td>\n",
       "      <td>0.667</td>\n",
       "    </tr>\n",
       "    <tr>\n",
       "      <td>2</td>\n",
       "      <td>4</td>\n",
       "      <td>0.833</td>\n",
       "    </tr>\n",
       "    <tr>\n",
       "      <td>3</td>\n",
       "      <td>5</td>\n",
       "      <td>0.750</td>\n",
       "    </tr>\n",
       "    <tr>\n",
       "      <td>4</td>\n",
       "      <td>8</td>\n",
       "      <td>0.500</td>\n",
       "    </tr>\n",
       "  </tbody>\n",
       "</table>\n",
       "</div>"
      ],
      "text/plain": [
       "   Merchant_id  Merchant_AvgRate\n",
       "0            2             0.800\n",
       "1            3             0.667\n",
       "2            4             0.833\n",
       "3            5             0.750\n",
       "4            8             0.500"
      ]
     },
     "execution_count": 30,
     "metadata": {},
     "output_type": "execute_result"
    }
   ],
   "source": [
    "#avg discounts each merchant offers\n",
    "merchant_discounts_avg = pd.DataFrame(df_off_coupon.groupby(['Merchant_id'])['Rate'].mean())\n",
    "merchant_discounts_avg.columns = ['Merchant_AvgRate']\n",
    "merchant_discounts_avg = merchant_discounts_avg.reset_index()\n",
    "merchant_discounts_avg.head()"
   ]
  },
  {
   "cell_type": "code",
   "execution_count": 31,
   "metadata": {},
   "outputs": [
    {
     "data": {
      "text/plain": [
       "Text(0.5, 1.0, 'Merchant and Average Discount it offers')"
      ]
     },
     "execution_count": 31,
     "metadata": {},
     "output_type": "execute_result"
    },
    {
     "data": {
      "image/png": "[encoded data removed]",
      "text/plain": [
       "<Figure size 576x360 with 1 Axes>"
      ]
     },
     "metadata": {
      "needs_background": "light"
     },
     "output_type": "display_data"
    }
   ],
   "source": [
    "plt.figure(figsize=(8,5))\n",
    "sns.distplot(merchant_discounts_avg['Merchant_AvgRate'],kde=False,bins=20)\n",
    "plt.xlabel('Mean Discount Rate')\n",
    "plt.ylabel('Count of Merchants')\n",
    "plt.title('Merchant and Average Discount it offers')"
   ]
  },
  {
   "cell_type": "markdown",
   "metadata": {},
   "source": [
    "### Number of different coupons released by different merchants"
   ]
  },
  {
   "cell_type": "code",
   "execution_count": 32,
   "metadata": {},
   "outputs": [
    {
     "data": {
      "text/plain": [
       "array([ 1,  2,  4,  5,  3,  6, 12, 22, 11,  8, 19,  9,  7, 39, 10, 14, 25,\n",
       "       13, 21, 15])"
      ]
     },
     "execution_count": 32,
     "metadata": {},
     "output_type": "execute_result"
    }
   ],
   "source": [
    "different_coupons = pd.DataFrame(df_off_coupon.groupby(['Merchant_id'])['Coupon_id'].nunique()).reset_index()\n",
    "different_coupons.columns = ['Merchant_id','Different_Coupons']\n",
    "different_coupons['Different_Coupons'].unique()"
   ]
  },
  {
   "cell_type": "code",
   "execution_count": 33,
   "metadata": {},
   "outputs": [
    {
     "data": {
      "image/png": "[encoded data removed]",
      "text/plain": [
       "<Figure size 648x504 with 1 Axes>"
      ]
     },
     "metadata": {
      "needs_background": "light"
     },
     "output_type": "display_data"
    }
   ],
   "source": [
    "plt.figure(figsize=(9,7))\n",
    "ax = sns.countplot(different_coupons['Different_Coupons'])\n",
    "ax.set_xticklabels(ax.get_xticklabels(),rotation=90)\n",
    "for p in ax.patches:\n",
    "        ax.annotate('{:.0f}'.format(p.get_height()), (p.get_x()+0.1, p.get_height()+50))\n",
    "plt.xlabel('Number of different coupons released by Merchants')\n",
    "plt.ylabel('Count of Merchants')\n",
    "plt.title('Number of different coupons released by merchants')\n",
    "plt.show()"
   ]
  },
  {
   "cell_type": "markdown",
   "metadata": {},
   "source": [
    "## Merchant and its last visiting window"
   ]
  },
  {
   "cell_type": "code",
   "execution_count": 34,
   "metadata": {},
   "outputs": [
    {
     "data": {
      "text/html": [
       "<div>\n",
       "<style scoped>\n",
       "    .dataframe tbody tr th:only-of-type {\n",
       "        vertical-align: middle;\n",
       "    }\n",
       "\n",
       "    .dataframe tbody tr th {\n",
       "        vertical-align: top;\n",
       "    }\n",
       "\n",
       "    .dataframe thead th {\n",
       "        text-align: right;\n",
       "    }\n",
       "</style>\n",
       "<table border=\"1\" class=\"dataframe\">\n",
       "  <thead>\n",
       "    <tr style=\"text-align: right;\">\n",
       "      <th></th>\n",
       "      <th>User_id</th>\n",
       "      <th>Merchant_id</th>\n",
       "      <th>Coupon_id</th>\n",
       "      <th>Discount_rate</th>\n",
       "      <th>Distance</th>\n",
       "      <th>Date_received</th>\n",
       "      <th>Date</th>\n",
       "      <th>Count</th>\n",
       "      <th>First_day</th>\n",
       "      <th>DayNum</th>\n",
       "    </tr>\n",
       "  </thead>\n",
       "  <tbody>\n",
       "    <tr>\n",
       "      <td>15</td>\n",
       "      <td>165</td>\n",
       "      <td>2934</td>\n",
       "      <td>NaN</td>\n",
       "      <td>NaN</td>\n",
       "      <td>0</td>\n",
       "      <td>NaT</td>\n",
       "      <td>2016-01-11</td>\n",
       "      <td>1</td>\n",
       "      <td>2016-01-01</td>\n",
       "      <td>11</td>\n",
       "    </tr>\n",
       "    <tr>\n",
       "      <td>16</td>\n",
       "      <td>165</td>\n",
       "      <td>2934</td>\n",
       "      <td>NaN</td>\n",
       "      <td>NaN</td>\n",
       "      <td>0</td>\n",
       "      <td>NaT</td>\n",
       "      <td>2016-01-25</td>\n",
       "      <td>1</td>\n",
       "      <td>2016-01-01</td>\n",
       "      <td>25</td>\n",
       "    </tr>\n",
       "    <tr>\n",
       "      <td>17</td>\n",
       "      <td>165</td>\n",
       "      <td>2934</td>\n",
       "      <td>NaN</td>\n",
       "      <td>NaN</td>\n",
       "      <td>0</td>\n",
       "      <td>NaT</td>\n",
       "      <td>2016-03-21</td>\n",
       "      <td>1</td>\n",
       "      <td>2016-01-01</td>\n",
       "      <td>81</td>\n",
       "    </tr>\n",
       "    <tr>\n",
       "      <td>18</td>\n",
       "      <td>165</td>\n",
       "      <td>2934</td>\n",
       "      <td>NaN</td>\n",
       "      <td>NaN</td>\n",
       "      <td>0</td>\n",
       "      <td>NaT</td>\n",
       "      <td>2016-03-28</td>\n",
       "      <td>1</td>\n",
       "      <td>2016-01-01</td>\n",
       "      <td>88</td>\n",
       "    </tr>\n",
       "    <tr>\n",
       "      <td>19</td>\n",
       "      <td>165</td>\n",
       "      <td>2934</td>\n",
       "      <td>NaN</td>\n",
       "      <td>NaN</td>\n",
       "      <td>0</td>\n",
       "      <td>NaT</td>\n",
       "      <td>2016-04-14</td>\n",
       "      <td>1</td>\n",
       "      <td>2016-01-01</td>\n",
       "      <td>105</td>\n",
       "    </tr>\n",
       "  </tbody>\n",
       "</table>\n",
       "</div>"
      ],
      "text/plain": [
       "    User_id  Merchant_id  Coupon_id Discount_rate  Distance Date_received  \\\n",
       "15      165         2934        NaN           NaN         0           NaT   \n",
       "16      165         2934        NaN           NaN         0           NaT   \n",
       "17      165         2934        NaN           NaN         0           NaT   \n",
       "18      165         2934        NaN           NaN         0           NaT   \n",
       "19      165         2934        NaN           NaN         0           NaT   \n",
       "\n",
       "         Date  Count  First_day  DayNum  \n",
       "15 2016-01-11      1 2016-01-01      11  \n",
       "16 2016-01-25      1 2016-01-01      25  \n",
       "17 2016-03-21      1 2016-01-01      81  \n",
       "18 2016-03-28      1 2016-01-01      88  \n",
       "19 2016-04-14      1 2016-01-01     105  "
      ]
     },
     "execution_count": 34,
     "metadata": {},
     "output_type": "execute_result"
    }
   ],
   "source": [
    "merchant_days = df_off_unique[df_off_unique['Date'].isna()==False]\n",
    "merchant_days['First_day'] = pd.to_datetime('20160101',format='%Y%m%d')\n",
    "merchant_days['DayNum'] = merchant_days['Date'] - merchant_days['First_day'] \n",
    "merchant_days['DayNum'] = merchant_days['DayNum'].dt.days.astype('str')\n",
    "merchant_days['DayNum'] = pd.to_numeric(merchant_days['DayNum'],errors=\"coerce\") + 1\n",
    "merchant_days.head()"
   ]
  },
  {
   "cell_type": "code",
   "execution_count": 35,
   "metadata": {},
   "outputs": [],
   "source": [
    "merchant_days = pd.DataFrame(merchant_days.groupby(['Merchant_id'])['DayNum']\n",
    "                             .apply(list).reset_index(name='VisitList'))"
   ]
  },
  {
   "cell_type": "code",
   "execution_count": 36,
   "metadata": {},
   "outputs": [
    {
     "data": {
      "text/html": [
       "<div>\n",
       "<style scoped>\n",
       "    .dataframe tbody tr th:only-of-type {\n",
       "        vertical-align: middle;\n",
       "    }\n",
       "\n",
       "    .dataframe tbody tr th {\n",
       "        vertical-align: top;\n",
       "    }\n",
       "\n",
       "    .dataframe thead th {\n",
       "        text-align: right;\n",
       "    }\n",
       "</style>\n",
       "<table border=\"1\" class=\"dataframe\">\n",
       "  <thead>\n",
       "    <tr style=\"text-align: right;\">\n",
       "      <th></th>\n",
       "      <th>Merchant_id</th>\n",
       "      <th>VisitList</th>\n",
       "    </tr>\n",
       "  </thead>\n",
       "  <tbody>\n",
       "    <tr>\n",
       "      <td>0</td>\n",
       "      <td>1</td>\n",
       "      <td>[15, 58, 61, 136, 140, 143, 144, 146, 150, 152...</td>\n",
       "    </tr>\n",
       "    <tr>\n",
       "      <td>1</td>\n",
       "      <td>2</td>\n",
       "      <td>[142, 153, 163, 169]</td>\n",
       "    </tr>\n",
       "    <tr>\n",
       "      <td>2</td>\n",
       "      <td>3</td>\n",
       "      <td>[115, 118, 120, 123, 126, 127, 132, 180]</td>\n",
       "    </tr>\n",
       "    <tr>\n",
       "      <td>3</td>\n",
       "      <td>4</td>\n",
       "      <td>[49, 50, 57, 59, 60, 61, 63, 64, 71, 91, 95, 1...</td>\n",
       "    </tr>\n",
       "    <tr>\n",
       "      <td>4</td>\n",
       "      <td>5</td>\n",
       "      <td>[1, 4, 6, 8, 10, 14, 24, 28, 30, 67, 71, 75, 8...</td>\n",
       "    </tr>\n",
       "    <tr>\n",
       "      <td>...</td>\n",
       "      <td>...</td>\n",
       "      <td>...</td>\n",
       "    </tr>\n",
       "    <tr>\n",
       "      <td>8316</td>\n",
       "      <td>8852</td>\n",
       "      <td>[131, 134, 137, 140, 142, 145, 146, 152, 155, ...</td>\n",
       "    </tr>\n",
       "    <tr>\n",
       "      <td>8317</td>\n",
       "      <td>8853</td>\n",
       "      <td>[91, 94, 96, 98, 102, 105, 113, 117, 120, 121,...</td>\n",
       "    </tr>\n",
       "    <tr>\n",
       "      <td>8318</td>\n",
       "      <td>8854</td>\n",
       "      <td>[126, 137, 141, 146, 151, 153, 160, 166, 167, ...</td>\n",
       "    </tr>\n",
       "    <tr>\n",
       "      <td>8319</td>\n",
       "      <td>8855</td>\n",
       "      <td>[74, 76, 77, 83, 84, 85, 89, 96, 105, 116, 120...</td>\n",
       "    </tr>\n",
       "    <tr>\n",
       "      <td>8320</td>\n",
       "      <td>8856</td>\n",
       "      <td>[2, 4, 6, 7, 19, 60, 74, 75, 76, 79, 81, 82, 8...</td>\n",
       "    </tr>\n",
       "  </tbody>\n",
       "</table>\n",
       "<p>8321 rows × 2 columns</p>\n",
       "</div>"
      ],
      "text/plain": [
       "      Merchant_id                                          VisitList\n",
       "0               1  [15, 58, 61, 136, 140, 143, 144, 146, 150, 152...\n",
       "1               2                               [142, 153, 163, 169]\n",
       "2               3           [115, 118, 120, 123, 126, 127, 132, 180]\n",
       "3               4  [49, 50, 57, 59, 60, 61, 63, 64, 71, 91, 95, 1...\n",
       "4               5  [1, 4, 6, 8, 10, 14, 24, 28, 30, 67, 71, 75, 8...\n",
       "...           ...                                                ...\n",
       "8316         8852  [131, 134, 137, 140, 142, 145, 146, 152, 155, ...\n",
       "8317         8853  [91, 94, 96, 98, 102, 105, 113, 117, 120, 121,...\n",
       "8318         8854  [126, 137, 141, 146, 151, 153, 160, 166, 167, ...\n",
       "8319         8855  [74, 76, 77, 83, 84, 85, 89, 96, 105, 116, 120...\n",
       "8320         8856  [2, 4, 6, 7, 19, 60, 74, 75, 76, 79, 81, 82, 8...\n",
       "\n",
       "[8321 rows x 2 columns]"
      ]
     },
     "execution_count": 36,
     "metadata": {},
     "output_type": "execute_result"
    }
   ],
   "source": [
    "merchant_days['VisitList'] = merchant_days['VisitList'].apply(lambda x : sorted(set(x)))\n",
    "merchant_days"
   ]
  },
  {
   "cell_type": "markdown",
   "metadata": {},
   "source": [
    "## Merchant and its last Redemption window"
   ]
  },
  {
   "cell_type": "code",
   "execution_count": 37,
   "metadata": {},
   "outputs": [
    {
     "data": {
      "text/html": [
       "<div>\n",
       "<style scoped>\n",
       "    .dataframe tbody tr th:only-of-type {\n",
       "        vertical-align: middle;\n",
       "    }\n",
       "\n",
       "    .dataframe tbody tr th {\n",
       "        vertical-align: top;\n",
       "    }\n",
       "\n",
       "    .dataframe thead th {\n",
       "        text-align: right;\n",
       "    }\n",
       "</style>\n",
       "<table border=\"1\" class=\"dataframe\">\n",
       "  <thead>\n",
       "    <tr style=\"text-align: right;\">\n",
       "      <th></th>\n",
       "      <th>User_id</th>\n",
       "      <th>Merchant_id</th>\n",
       "      <th>Coupon_id</th>\n",
       "      <th>Discount_rate</th>\n",
       "      <th>Distance</th>\n",
       "      <th>Date_received</th>\n",
       "      <th>Date</th>\n",
       "      <th>Count</th>\n",
       "      <th>Discount</th>\n",
       "      <th>Original_price</th>\n",
       "      <th>Discounted_price</th>\n",
       "      <th>Rate</th>\n",
       "      <th>First_day</th>\n",
       "      <th>DayNum</th>\n",
       "    </tr>\n",
       "  </thead>\n",
       "  <tbody>\n",
       "    <tr>\n",
       "      <td>33</td>\n",
       "      <td>184</td>\n",
       "      <td>3381</td>\n",
       "      <td>9776.0</td>\n",
       "      <td>[10, 5, 0.5]</td>\n",
       "      <td>0</td>\n",
       "      <td>2016-01-29</td>\n",
       "      <td>2016-02-28</td>\n",
       "      <td>1</td>\n",
       "      <td>10:5</td>\n",
       "      <td>10</td>\n",
       "      <td>5</td>\n",
       "      <td>0.500</td>\n",
       "      <td>2016-01-01</td>\n",
       "      <td>59</td>\n",
       "    </tr>\n",
       "    <tr>\n",
       "      <td>76</td>\n",
       "      <td>417</td>\n",
       "      <td>775</td>\n",
       "      <td>5435.0</td>\n",
       "      <td>[30, 5, 0.833]</td>\n",
       "      <td>0</td>\n",
       "      <td>2016-03-29</td>\n",
       "      <td>2016-04-12</td>\n",
       "      <td>1</td>\n",
       "      <td>30:5</td>\n",
       "      <td>30</td>\n",
       "      <td>5</td>\n",
       "      <td>0.833</td>\n",
       "      <td>2016-01-01</td>\n",
       "      <td>103</td>\n",
       "    </tr>\n",
       "    <tr>\n",
       "      <td>150</td>\n",
       "      <td>687</td>\n",
       "      <td>6454</td>\n",
       "      <td>14031.0</td>\n",
       "      <td>[100, 10, 0.9]</td>\n",
       "      <td>2</td>\n",
       "      <td>2016-01-28</td>\n",
       "      <td>2016-01-30</td>\n",
       "      <td>1</td>\n",
       "      <td>100:10</td>\n",
       "      <td>100</td>\n",
       "      <td>10</td>\n",
       "      <td>0.900</td>\n",
       "      <td>2016-01-01</td>\n",
       "      <td>30</td>\n",
       "    </tr>\n",
       "    <tr>\n",
       "      <td>153</td>\n",
       "      <td>687</td>\n",
       "      <td>8594</td>\n",
       "      <td>9353.0</td>\n",
       "      <td>[30, 1, 0.967]</td>\n",
       "      <td>2</td>\n",
       "      <td>2016-03-28</td>\n",
       "      <td>2016-04-02</td>\n",
       "      <td>1</td>\n",
       "      <td>30:1</td>\n",
       "      <td>30</td>\n",
       "      <td>1</td>\n",
       "      <td>0.967</td>\n",
       "      <td>2016-01-01</td>\n",
       "      <td>93</td>\n",
       "    </tr>\n",
       "    <tr>\n",
       "      <td>158</td>\n",
       "      <td>696</td>\n",
       "      <td>4195</td>\n",
       "      <td>3726.0</td>\n",
       "      <td>[100, 10, 0.9]</td>\n",
       "      <td>0</td>\n",
       "      <td>2016-04-11</td>\n",
       "      <td>2016-04-13</td>\n",
       "      <td>1</td>\n",
       "      <td>0.9</td>\n",
       "      <td>100</td>\n",
       "      <td>10</td>\n",
       "      <td>0.900</td>\n",
       "      <td>2016-01-01</td>\n",
       "      <td>104</td>\n",
       "    </tr>\n",
       "  </tbody>\n",
       "</table>\n",
       "</div>"
      ],
      "text/plain": [
       "     User_id  Merchant_id  Coupon_id   Discount_rate  Distance Date_received  \\\n",
       "33       184         3381     9776.0    [10, 5, 0.5]         0    2016-01-29   \n",
       "76       417          775     5435.0  [30, 5, 0.833]         0    2016-03-29   \n",
       "150      687         6454    14031.0  [100, 10, 0.9]         2    2016-01-28   \n",
       "153      687         8594     9353.0  [30, 1, 0.967]         2    2016-03-28   \n",
       "158      696         4195     3726.0  [100, 10, 0.9]         0    2016-04-11   \n",
       "\n",
       "          Date  Count Discount  Original_price  Discounted_price   Rate  \\\n",
       "33  2016-02-28      1     10:5              10                 5  0.500   \n",
       "76  2016-04-12      1     30:5              30                 5  0.833   \n",
       "150 2016-01-30      1   100:10             100                10  0.900   \n",
       "153 2016-04-02      1     30:1              30                 1  0.967   \n",
       "158 2016-04-13      1      0.9             100                10  0.900   \n",
       "\n",
       "     First_day  DayNum  \n",
       "33  2016-01-01      59  \n",
       "76  2016-01-01     103  \n",
       "150 2016-01-01      30  \n",
       "153 2016-01-01      93  \n",
       "158 2016-01-01     104  "
      ]
     },
     "execution_count": 37,
     "metadata": {},
     "output_type": "execute_result"
    }
   ],
   "source": [
    "merchant_red_days = df_off_coupon[df_off_coupon['Date'].isna()==False]\n",
    "merchant_red_days['First_day'] = pd.to_datetime('20160101',format='%Y%m%d')\n",
    "merchant_red_days['DayNum'] = merchant_red_days['Date'] - merchant_red_days['First_day'] \n",
    "merchant_red_days['DayNum'] = merchant_red_days['DayNum'].dt.days.astype('str')\n",
    "merchant_red_days['DayNum'] = pd.to_numeric(merchant_red_days['DayNum'],errors=\"coerce\") + 1\n",
    "merchant_red_days.head()"
   ]
  },
  {
   "cell_type": "code",
   "execution_count": 38,
   "metadata": {},
   "outputs": [],
   "source": [
    "merchant_red_days = pd.DataFrame(merchant_red_days.groupby(['Merchant_id'])['DayNum'].apply(list).reset_index(name='MerchantRedemptionList'))"
   ]
  },
  {
   "cell_type": "code",
   "execution_count": 39,
   "metadata": {},
   "outputs": [
    {
     "data": {
      "text/html": [
       "<div>\n",
       "<style scoped>\n",
       "    .dataframe tbody tr th:only-of-type {\n",
       "        vertical-align: middle;\n",
       "    }\n",
       "\n",
       "    .dataframe tbody tr th {\n",
       "        vertical-align: top;\n",
       "    }\n",
       "\n",
       "    .dataframe thead th {\n",
       "        text-align: right;\n",
       "    }\n",
       "</style>\n",
       "<table border=\"1\" class=\"dataframe\">\n",
       "  <thead>\n",
       "    <tr style=\"text-align: right;\">\n",
       "      <th></th>\n",
       "      <th>Merchant_id</th>\n",
       "      <th>MerchantRedemptionList</th>\n",
       "    </tr>\n",
       "  </thead>\n",
       "  <tbody>\n",
       "    <tr>\n",
       "      <td>0</td>\n",
       "      <td>3</td>\n",
       "      <td>[180]</td>\n",
       "    </tr>\n",
       "    <tr>\n",
       "      <td>1</td>\n",
       "      <td>4</td>\n",
       "      <td>[158, 160, 163, 166, 168]</td>\n",
       "    </tr>\n",
       "    <tr>\n",
       "      <td>2</td>\n",
       "      <td>5</td>\n",
       "      <td>[148, 153]</td>\n",
       "    </tr>\n",
       "    <tr>\n",
       "      <td>3</td>\n",
       "      <td>13</td>\n",
       "      <td>[24]</td>\n",
       "    </tr>\n",
       "    <tr>\n",
       "      <td>4</td>\n",
       "      <td>14</td>\n",
       "      <td>[21]</td>\n",
       "    </tr>\n",
       "    <tr>\n",
       "      <td>...</td>\n",
       "      <td>...</td>\n",
       "      <td>...</td>\n",
       "    </tr>\n",
       "    <tr>\n",
       "      <td>4071</td>\n",
       "      <td>8844</td>\n",
       "      <td>[99, 123, 127, 130, 143, 147, 149, 156, 162, 167]</td>\n",
       "    </tr>\n",
       "    <tr>\n",
       "      <td>4072</td>\n",
       "      <td>8849</td>\n",
       "      <td>[160]</td>\n",
       "    </tr>\n",
       "    <tr>\n",
       "      <td>4073</td>\n",
       "      <td>8850</td>\n",
       "      <td>[110, 141, 172]</td>\n",
       "    </tr>\n",
       "    <tr>\n",
       "      <td>4074</td>\n",
       "      <td>8852</td>\n",
       "      <td>[146]</td>\n",
       "    </tr>\n",
       "    <tr>\n",
       "      <td>4075</td>\n",
       "      <td>8856</td>\n",
       "      <td>[166, 171]</td>\n",
       "    </tr>\n",
       "  </tbody>\n",
       "</table>\n",
       "<p>4076 rows × 2 columns</p>\n",
       "</div>"
      ],
      "text/plain": [
       "      Merchant_id                             MerchantRedemptionList\n",
       "0               3                                              [180]\n",
       "1               4                          [158, 160, 163, 166, 168]\n",
       "2               5                                         [148, 153]\n",
       "3              13                                               [24]\n",
       "4              14                                               [21]\n",
       "...           ...                                                ...\n",
       "4071         8844  [99, 123, 127, 130, 143, 147, 149, 156, 162, 167]\n",
       "4072         8849                                              [160]\n",
       "4073         8850                                    [110, 141, 172]\n",
       "4074         8852                                              [146]\n",
       "4075         8856                                         [166, 171]\n",
       "\n",
       "[4076 rows x 2 columns]"
      ]
     },
     "execution_count": 39,
     "metadata": {},
     "output_type": "execute_result"
    }
   ],
   "source": [
    "merchant_red_days['MerchantRedemptionList'] = merchant_red_days['MerchantRedemptionList'].apply(lambda x : sorted(set(x)))\n",
    "merchant_red_days"
   ]
  },
  {
   "cell_type": "markdown",
   "metadata": {},
   "source": [
    "## Merchant and Average Daily New Users"
   ]
  },
  {
   "cell_type": "code",
   "execution_count": 40,
   "metadata": {},
   "outputs": [
    {
     "data": {
      "text/html": [
       "<div>\n",
       "<style scoped>\n",
       "    .dataframe tbody tr th:only-of-type {\n",
       "        vertical-align: middle;\n",
       "    }\n",
       "\n",
       "    .dataframe tbody tr th {\n",
       "        vertical-align: top;\n",
       "    }\n",
       "\n",
       "    .dataframe thead th {\n",
       "        text-align: right;\n",
       "    }\n",
       "</style>\n",
       "<table border=\"1\" class=\"dataframe\">\n",
       "  <thead>\n",
       "    <tr style=\"text-align: right;\">\n",
       "      <th></th>\n",
       "      <th>Merchant_id</th>\n",
       "      <th>AvgDailyUsers</th>\n",
       "    </tr>\n",
       "  </thead>\n",
       "  <tbody>\n",
       "    <tr>\n",
       "      <td>0</td>\n",
       "      <td>1</td>\n",
       "      <td>1.076923</td>\n",
       "    </tr>\n",
       "    <tr>\n",
       "      <td>1</td>\n",
       "      <td>2</td>\n",
       "      <td>1.000000</td>\n",
       "    </tr>\n",
       "    <tr>\n",
       "      <td>2</td>\n",
       "      <td>3</td>\n",
       "      <td>1.125000</td>\n",
       "    </tr>\n",
       "    <tr>\n",
       "      <td>3</td>\n",
       "      <td>4</td>\n",
       "      <td>1.000000</td>\n",
       "    </tr>\n",
       "    <tr>\n",
       "      <td>4</td>\n",
       "      <td>5</td>\n",
       "      <td>1.227273</td>\n",
       "    </tr>\n",
       "  </tbody>\n",
       "</table>\n",
       "</div>"
      ],
      "text/plain": [
       "   Merchant_id  AvgDailyUsers\n",
       "0            1       1.076923\n",
       "1            2       1.000000\n",
       "2            3       1.125000\n",
       "3            4       1.000000\n",
       "4            5       1.227273"
      ]
     },
     "execution_count": 40,
     "metadata": {},
     "output_type": "execute_result"
    }
   ],
   "source": [
    "merchant_dailyusers = pd.DataFrame(merchant_duration.groupby(['Merchant_id', 'Date'])['User_id'].nunique().reset_index(name='DailyUsers'))\n",
    "merchant_avg_daily_users = pd.DataFrame(merchant_dailyusers.groupby(['Merchant_id'])['DailyUsers'].mean().reset_index(name='AvgDailyUsers'))\n",
    "merchant_avg_daily_users.head()"
   ]
  },
  {
   "cell_type": "markdown",
   "metadata": {},
   "source": [
    "## Merchant and count of unique users "
   ]
  },
  {
   "cell_type": "code",
   "execution_count": 41,
   "metadata": {},
   "outputs": [],
   "source": [
    "merchant_unique_users = pd.DataFrame(df_off_unique.groupby(['Merchant_id'])['User_id']\n",
    "                                     .nunique().reset_index(name='UniqueUsersCount'))"
   ]
  },
  {
   "cell_type": "markdown",
   "metadata": {},
   "source": [
    "## Merchant and number of buys"
   ]
  },
  {
   "cell_type": "code",
   "execution_count": 43,
   "metadata": {},
   "outputs": [
    {
     "data": {
      "text/html": [
       "<div>\n",
       "<style scoped>\n",
       "    .dataframe tbody tr th:only-of-type {\n",
       "        vertical-align: middle;\n",
       "    }\n",
       "\n",
       "    .dataframe tbody tr th {\n",
       "        vertical-align: top;\n",
       "    }\n",
       "\n",
       "    .dataframe thead th {\n",
       "        text-align: right;\n",
       "    }\n",
       "</style>\n",
       "<table border=\"1\" class=\"dataframe\">\n",
       "  <thead>\n",
       "    <tr style=\"text-align: right;\">\n",
       "      <th></th>\n",
       "      <th>Merchant_id</th>\n",
       "      <th>Merchant_Buys</th>\n",
       "    </tr>\n",
       "  </thead>\n",
       "  <tbody>\n",
       "    <tr>\n",
       "      <td>0</td>\n",
       "      <td>1</td>\n",
       "      <td>14</td>\n",
       "    </tr>\n",
       "    <tr>\n",
       "      <td>1</td>\n",
       "      <td>2</td>\n",
       "      <td>4</td>\n",
       "    </tr>\n",
       "    <tr>\n",
       "      <td>2</td>\n",
       "      <td>3</td>\n",
       "      <td>9</td>\n",
       "    </tr>\n",
       "    <tr>\n",
       "      <td>3</td>\n",
       "      <td>4</td>\n",
       "      <td>38</td>\n",
       "    </tr>\n",
       "    <tr>\n",
       "      <td>4</td>\n",
       "      <td>5</td>\n",
       "      <td>54</td>\n",
       "    </tr>\n",
       "    <tr>\n",
       "      <td>...</td>\n",
       "      <td>...</td>\n",
       "      <td>...</td>\n",
       "    </tr>\n",
       "    <tr>\n",
       "      <td>8410</td>\n",
       "      <td>8852</td>\n",
       "      <td>14</td>\n",
       "    </tr>\n",
       "    <tr>\n",
       "      <td>8411</td>\n",
       "      <td>8853</td>\n",
       "      <td>40</td>\n",
       "    </tr>\n",
       "    <tr>\n",
       "      <td>8412</td>\n",
       "      <td>8854</td>\n",
       "      <td>12</td>\n",
       "    </tr>\n",
       "    <tr>\n",
       "      <td>8413</td>\n",
       "      <td>8855</td>\n",
       "      <td>14</td>\n",
       "    </tr>\n",
       "    <tr>\n",
       "      <td>8414</td>\n",
       "      <td>8856</td>\n",
       "      <td>214</td>\n",
       "    </tr>\n",
       "  </tbody>\n",
       "</table>\n",
       "<p>8415 rows × 2 columns</p>\n",
       "</div>"
      ],
      "text/plain": [
       "      Merchant_id  Merchant_Buys\n",
       "0               1             14\n",
       "1               2              4\n",
       "2               3              9\n",
       "3               4             38\n",
       "4               5             54\n",
       "...           ...            ...\n",
       "8410         8852             14\n",
       "8411         8853             40\n",
       "8412         8854             12\n",
       "8413         8855             14\n",
       "8414         8856            214\n",
       "\n",
       "[8415 rows x 2 columns]"
      ]
     },
     "execution_count": 43,
     "metadata": {},
     "output_type": "execute_result"
    }
   ],
   "source": [
    "merchant_buys = pd.DataFrame(df_off_unique.groupby(['Merchant_id'])['Date']\n",
    "                             .count().reset_index(name='Merchant_Buys'))\n",
    "merchant_buys"
   ]
  },
  {
   "cell_type": "code",
   "execution_count": null,
   "metadata": {},
   "outputs": [],
   "source": []
  },
  {
   "cell_type": "markdown",
   "metadata": {},
   "source": [
    "## Merchant Level Features"
   ]
  },
  {
   "cell_type": "code",
   "execution_count": 53,
   "metadata": {},
   "outputs": [
    {
     "data": {
      "text/plain": [
       "(8415, 1)"
      ]
     },
     "execution_count": 53,
     "metadata": {},
     "output_type": "execute_result"
    }
   ],
   "source": [
    "merchants_level_data = pd.DataFrame(df_off_unique['Merchant_id'].unique()).reset_index(drop=True)\n",
    "merchants_level_data.columns = ['Merchant_id']\n",
    "merchants_level_data.shape"
   ]
  },
  {
   "cell_type": "code",
   "execution_count": 54,
   "metadata": {},
   "outputs": [],
   "source": [
    "#Adding Number of coupons redeemed and its redemption score for each merchant\n",
    "merchants_level_data = pd.merge(merchants_level_data, merchant_redemption_offline['Merchant_Redeemed'], how='left', left_on='Merchant_id', right_on=merchant_redemption_offline['Merchant_id'])\n",
    "merchants_level_data = pd.merge(merchants_level_data, merchant_redemption_offline['Merchant_Ratio'], how='left', left_on='Merchant_id', right_on=merchant_redemption_offline['Merchant_id'])\n",
    "\n",
    "#Adding merchants and average distance of its users\n",
    "merchants_level_data = pd.merge(merchants_level_data, merchant_distance['Merchant_AvgDistance'], how='left', left_on='Merchant_id', right_on=merchant_distance['Merchant_id'])\n",
    "\n",
    "#Merchant is Popular(Visits>40) or Not Popular\n",
    "merchants_level_data = pd.merge(merchants_level_data, merchant_visits_offline['Merchant_Popular'], how='left', left_on='Merchant_id', right_on=merchant_visits_offline['Merchant_id'])\n",
    "\n",
    "#Adding merchants and average discount it offers\n",
    "merchants_level_data = pd.merge(merchants_level_data, merchant_discounts_avg['Merchant_AvgRate'], how='left', left_on='Merchant_id', right_on=merchant_discounts_avg['Merchant_id'])\n",
    "\n",
    "#Adding merchants and its duration\n",
    "# merchants_level_data = pd.merge(merchants_level_data, merchant_duration_days['MerchantDuration'], how='left', left_on='Merchant_id', right_on=merchant_duration_days['Merchant_id'])\n",
    "\n",
    "#Daily new users (average) for a merchant\n",
    "merchants_level_data = pd.merge(merchants_level_data, merchant_avg_daily_users, how='left', on='Merchant_id')\n",
    "\n",
    "#Last Visiting window for the merchant\n",
    "merchants_level_data = pd.merge(merchants_level_data,merchant_days,how='left',on='Merchant_id')\n",
    "for row in merchants_level_data.loc[merchants_level_data.VisitList.isnull(), 'VisitList'].index:\n",
    "    merchants_level_data.at[row, 'VisitList'] = []\n",
    "    \n",
    "# Merchant and count of unique users\n",
    "merchants_level_data = pd.merge(merchants_level_data, merchant_unique_users, how='left', on='Merchant_id')\n",
    "    \n",
    "# Merchant and count of unique users\n",
    "merchants_level_data = pd.merge(merchants_level_data, merchant_buys, how='left', on='Merchant_id')\n",
    "\n",
    "#Last Redemption window for the merchant\n",
    "merchants_level_data = pd.merge(merchants_level_data,merchant_red_days,how='left',on='Merchant_id')\n",
    "for row in merchants_level_data.loc[merchants_level_data.MerchantRedemptionList.isnull(), 'MerchantRedemptionList'].index:\n",
    "    merchants_level_data.at[row, 'MerchantRedemptionList'] = []\n"
   ]
  },
  {
   "cell_type": "code",
   "execution_count": 55,
   "metadata": {},
   "outputs": [],
   "source": [
    "merchants_level_data.fillna(0, inplace=True)"
   ]
  },
  {
   "cell_type": "code",
   "execution_count": 56,
   "metadata": {},
   "outputs": [
    {
     "data": {
      "text/plain": [
       "(8415, 11)"
      ]
     },
     "execution_count": 56,
     "metadata": {},
     "output_type": "execute_result"
    }
   ],
   "source": [
    "merchants_level_data.shape"
   ]
  },
  {
   "cell_type": "code",
   "execution_count": 57,
   "metadata": {},
   "outputs": [],
   "source": [
    "merchants_level_data['Merchant_Redeemed_Buy'] = [x/y if y!=0 else 0 for x,y in \n",
    "                                        zip(merchants_level_data['Merchant_Redeemed'],\n",
    "                                            merchants_level_data['Merchant_Buys'])]"
   ]
  },
  {
   "cell_type": "code",
   "execution_count": 58,
   "metadata": {},
   "outputs": [
    {
     "data": {
      "text/html": [
       "<div>\n",
       "<style scoped>\n",
       "    .dataframe tbody tr th:only-of-type {\n",
       "        vertical-align: middle;\n",
       "    }\n",
       "\n",
       "    .dataframe tbody tr th {\n",
       "        vertical-align: top;\n",
       "    }\n",
       "\n",
       "    .dataframe thead th {\n",
       "        text-align: right;\n",
       "    }\n",
       "</style>\n",
       "<table border=\"1\" class=\"dataframe\">\n",
       "  <thead>\n",
       "    <tr style=\"text-align: right;\">\n",
       "      <th></th>\n",
       "      <th>Merchant_id</th>\n",
       "      <th>Merchant_Redeemed</th>\n",
       "      <th>Merchant_Ratio</th>\n",
       "      <th>Merchant_AvgDistance</th>\n",
       "      <th>Merchant_Popular</th>\n",
       "      <th>Merchant_AvgRate</th>\n",
       "      <th>AvgDailyUsers</th>\n",
       "      <th>VisitList</th>\n",
       "      <th>UniqueUsersCount</th>\n",
       "      <th>Merchant_Buys</th>\n",
       "      <th>MerchantRedemptionList</th>\n",
       "      <th>Merchant_Redeemed_Buy</th>\n",
       "    </tr>\n",
       "  </thead>\n",
       "  <tbody>\n",
       "    <tr>\n",
       "      <td>0</td>\n",
       "      <td>1433</td>\n",
       "      <td>726.0</td>\n",
       "      <td>0.04</td>\n",
       "      <td>3.927992</td>\n",
       "      <td>1</td>\n",
       "      <td>0.810455</td>\n",
       "      <td>49.697802</td>\n",
       "      <td>[1, 2, 3, 4, 5, 6, 7, 8, 9, 10, 11, 12, 13, 14...</td>\n",
       "      <td>19340</td>\n",
       "      <td>9045</td>\n",
       "      <td>[24, 25, 27, 29, 30, 31, 33, 34, 35, 36, 37, 3...</td>\n",
       "      <td>0.080265</td>\n",
       "    </tr>\n",
       "    <tr>\n",
       "      <td>1</td>\n",
       "      <td>1469</td>\n",
       "      <td>675.0</td>\n",
       "      <td>0.05</td>\n",
       "      <td>2.617818</td>\n",
       "      <td>1</td>\n",
       "      <td>0.707819</td>\n",
       "      <td>74.527473</td>\n",
       "      <td>[1, 2, 3, 4, 5, 6, 7, 8, 9, 10, 11, 12, 13, 14...</td>\n",
       "      <td>13702</td>\n",
       "      <td>13576</td>\n",
       "      <td>[9, 10, 14, 15, 20, 21, 30, 31, 61, 64, 65, 66...</td>\n",
       "      <td>0.049720</td>\n",
       "    </tr>\n",
       "    <tr>\n",
       "      <td>2</td>\n",
       "      <td>3381</td>\n",
       "      <td>2473.0</td>\n",
       "      <td>0.02</td>\n",
       "      <td>2.690394</td>\n",
       "      <td>1</td>\n",
       "      <td>0.866463</td>\n",
       "      <td>119.587912</td>\n",
       "      <td>[1, 2, 3, 4, 5, 6, 7, 8, 9, 10, 11, 12, 13, 14...</td>\n",
       "      <td>108018</td>\n",
       "      <td>21829</td>\n",
       "      <td>[23, 24, 25, 26, 27, 28, 29, 30, 31, 32, 33, 3...</td>\n",
       "      <td>0.113290</td>\n",
       "    </tr>\n",
       "    <tr>\n",
       "      <td>3</td>\n",
       "      <td>1041</td>\n",
       "      <td>402.0</td>\n",
       "      <td>0.05</td>\n",
       "      <td>2.846591</td>\n",
       "      <td>1</td>\n",
       "      <td>0.831778</td>\n",
       "      <td>19.510989</td>\n",
       "      <td>[1, 2, 3, 4, 5, 6, 7, 8, 9, 10, 11, 12, 13, 14...</td>\n",
       "      <td>7966</td>\n",
       "      <td>3553</td>\n",
       "      <td>[7, 8, 9, 10, 11, 12, 13, 14, 15, 16, 17, 18, ...</td>\n",
       "      <td>0.113144</td>\n",
       "    </tr>\n",
       "    <tr>\n",
       "      <td>4</td>\n",
       "      <td>5717</td>\n",
       "      <td>293.0</td>\n",
       "      <td>0.02</td>\n",
       "      <td>2.255078</td>\n",
       "      <td>1</td>\n",
       "      <td>0.751612</td>\n",
       "      <td>21.571429</td>\n",
       "      <td>[1, 2, 3, 4, 5, 6, 7, 8, 9, 10, 11, 12, 13, 14...</td>\n",
       "      <td>12506</td>\n",
       "      <td>3927</td>\n",
       "      <td>[24, 25, 26, 27, 28, 29, 30, 31, 32, 33, 34, 3...</td>\n",
       "      <td>0.074612</td>\n",
       "    </tr>\n",
       "  </tbody>\n",
       "</table>\n",
       "</div>"
      ],
      "text/plain": [
       "   Merchant_id  Merchant_Redeemed  Merchant_Ratio  Merchant_AvgDistance  \\\n",
       "0         1433              726.0            0.04              3.927992   \n",
       "1         1469              675.0            0.05              2.617818   \n",
       "2         3381             2473.0            0.02              2.690394   \n",
       "3         1041              402.0            0.05              2.846591   \n",
       "4         5717              293.0            0.02              2.255078   \n",
       "\n",
       "   Merchant_Popular  Merchant_AvgRate  AvgDailyUsers  \\\n",
       "0                 1          0.810455      49.697802   \n",
       "1                 1          0.707819      74.527473   \n",
       "2                 1          0.866463     119.587912   \n",
       "3                 1          0.831778      19.510989   \n",
       "4                 1          0.751612      21.571429   \n",
       "\n",
       "                                           VisitList  UniqueUsersCount  \\\n",
       "0  [1, 2, 3, 4, 5, 6, 7, 8, 9, 10, 11, 12, 13, 14...             19340   \n",
       "1  [1, 2, 3, 4, 5, 6, 7, 8, 9, 10, 11, 12, 13, 14...             13702   \n",
       "2  [1, 2, 3, 4, 5, 6, 7, 8, 9, 10, 11, 12, 13, 14...            108018   \n",
       "3  [1, 2, 3, 4, 5, 6, 7, 8, 9, 10, 11, 12, 13, 14...              7966   \n",
       "4  [1, 2, 3, 4, 5, 6, 7, 8, 9, 10, 11, 12, 13, 14...             12506   \n",
       "\n",
       "   Merchant_Buys                             MerchantRedemptionList  \\\n",
       "0           9045  [24, 25, 27, 29, 30, 31, 33, 34, 35, 36, 37, 3...   \n",
       "1          13576  [9, 10, 14, 15, 20, 21, 30, 31, 61, 64, 65, 66...   \n",
       "2          21829  [23, 24, 25, 26, 27, 28, 29, 30, 31, 32, 33, 3...   \n",
       "3           3553  [7, 8, 9, 10, 11, 12, 13, 14, 15, 16, 17, 18, ...   \n",
       "4           3927  [24, 25, 26, 27, 28, 29, 30, 31, 32, 33, 34, 3...   \n",
       "\n",
       "   Merchant_Redeemed_Buy  \n",
       "0               0.080265  \n",
       "1               0.049720  \n",
       "2               0.113290  \n",
       "3               0.113144  \n",
       "4               0.074612  "
      ]
     },
     "execution_count": 58,
     "metadata": {},
     "output_type": "execute_result"
    }
   ],
   "source": [
    "merchants_level_data.head()"
   ]
  },
  {
   "cell_type": "code",
   "execution_count": null,
   "metadata": {},
   "outputs": [],
   "source": []
  },
  {
   "cell_type": "code",
   "execution_count": 59,
   "metadata": {},
   "outputs": [],
   "source": [
    "merchants_level_data.to_csv('DataSets/DatasetsCreated/merchant_level.csv',index=False)"
   ]
  },
  {
   "cell_type": "code",
   "execution_count": null,
   "metadata": {},
   "outputs": [],
   "source": []
  }
 ],
 "metadata": {
  "kernelspec": {
   "display_name": "Python 3",
   "language": "python",
   "name": "python3"
  },
  "language_info": {
   "codemirror_mode": {
    "name": "ipython",
    "version": 3
   },
   "file_extension": ".py",
   "mimetype": "text/x-python",
   "name": "python",
   "nbconvert_exporter": "python",
   "pygments_lexer": "ipython3",
   "version": "3.7.4"
  }
 },
 "nbformat": 4,
 "nbformat_minor": 2
}
