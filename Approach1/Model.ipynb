{
 "cells": [
  {
   "cell_type": "code",
   "execution_count": 1,
   "metadata": {},
   "outputs": [],
   "source": [
    "import time\n",
    "now = time.time()"
   ]
  },
  {
   "cell_type": "code",
   "execution_count": 2,
   "metadata": {},
   "outputs": [],
   "source": [
    "%matplotlib inline\n",
    "import pandas as pd\n",
    "import numpy as np\n",
    "import matplotlib.pyplot as plt\n",
    "import seaborn as sns\n",
    "import warnings\n",
    "warnings.filterwarnings(\"ignore\")"
   ]
  },
  {
   "cell_type": "code",
   "execution_count": 3,
   "metadata": {},
   "outputs": [
    {
     "data": {
      "text/plain": [
       "(1015389, 58)"
      ]
     },
     "execution_count": 3,
     "metadata": {},
     "output_type": "execute_result"
    }
   ],
   "source": [
    "train_dataset = pd.read_csv('DataSets/DatasetsCreated/train_dataset.csv')\n",
    "train_dataset.shape"
   ]
  },
  {
   "cell_type": "code",
   "execution_count": 4,
   "metadata": {},
   "outputs": [
    {
     "data": {
      "text/plain": [
       "(113640, 54)"
      ]
     },
     "execution_count": 4,
     "metadata": {},
     "output_type": "execute_result"
    }
   ],
   "source": [
    "test_dataset = pd.read_csv('DataSets/DatasetsCreated/test_dataset.csv')\n",
    "test_dataset.shape"
   ]
  },
  {
   "cell_type": "markdown",
   "metadata": {},
   "source": [
    "## Categorical Data"
   ]
  },
  {
   "cell_type": "code",
   "execution_count": 5,
   "metadata": {},
   "outputs": [],
   "source": [
    "# categorical_features = ['Tag', 'Purchaser', 'Merchant_Popular']\n",
    "# for feature in categorical_features:\n",
    "#     train_dataset[feature] = pd.Categorical(train_dataset[feature])\n",
    "\n",
    "# One Hot Encoding\n",
    "# train_dataset = pd.concat([train_dataset,pd.get_dummies(train_dataset['Tag'], prefix='Tag',prefix_sep='_', drop_first=True,dummy_na=False)],axis=1)\n",
    "# train_dataset = pd.concat([train_dataset,pd.get_dummies(train_dataset['DayOfWeek'], prefix='DayOfWeek',prefix_sep='_', drop_first=True,dummy_na=False)],axis=1)\n"
   ]
  },
  {
   "cell_type": "code",
   "execution_count": 6,
   "metadata": {},
   "outputs": [
    {
     "data": {
      "text/plain": [
       "Index(['User_id', 'Merchant_id', 'Coupon_id', 'Discount_rate', 'Distance',\n",
       "       'Date_received', 'Date', 'Count', 'Discount', 'Original_price',\n",
       "       'Discounted_price', 'Rate', 'Tag', 'User_Released', 'User_Redeemed',\n",
       "       'User_Ratio', 'User_Buys', 'Purchaser', 'UserMerchantCount', 'DayList',\n",
       "       'User_Redeemed_Buy', 'Merchant_Redeemed', 'Merchant_Ratio',\n",
       "       'Merchant_AvgDistance', 'Merchant_Popular', 'Merchant_AvgRate',\n",
       "       'AvgDailyUsers', 'VisitList', 'UniqueUsersCount', 'Merchant_Buys',\n",
       "       'MerchantRedemptionList', 'Merchant_Redeemed_Buy', 'Coupon_Released',\n",
       "       'Coupon_Redeemed', 'Coupon_Ratio', 'Duration', 'RedemptionList',\n",
       "       'ReleasesCount', 'ImpDay', 'Weekend', 'DayOfWeek', 'Visits',\n",
       "       'User_Merchant_Ratio', 'User_Coupon_Redeemed', 'User_Coupon_Ratio',\n",
       "       'Discounted_Redeemed', 'User_discount_Ratio', 'Merchant_User_Visit',\n",
       "       'DateTrack', 'First_day', 'DayNum', 'LastUserVisit', 'LastRedemption',\n",
       "       'LastMerchantVisit', 'LastMerchantRedemption', 'LastMerchantUserVisit',\n",
       "       'RedemptionDuration', 'Target'],\n",
       "      dtype='object')"
      ]
     },
     "execution_count": 6,
     "metadata": {},
     "output_type": "execute_result"
    }
   ],
   "source": [
    "train_dataset.columns"
   ]
  },
  {
   "cell_type": "markdown",
   "metadata": {},
   "source": [
    "## Final Features"
   ]
  },
  {
   "cell_type": "code",
   "execution_count": 7,
   "metadata": {},
   "outputs": [
    {
     "name": "stdout",
     "output_type": "stream",
     "text": [
      "Features to be included:31\n",
      "['UserMerchantCount', 'Merchant_Redeemed_Buy', 'LastUserVisit', 'LastMerchantVisit', 'Merchant_Buys', 'ReleasesCount', 'User_Released', 'LastMerchantUserVisit', 'Visits', 'Distance', 'User_Buys', 'Discounted_price', 'Tag', 'User_Redeemed', 'LastMerchantRedemption', 'AvgDailyUsers', 'UniqueUsersCount', 'Original_price', 'Merchant_AvgRate', 'Coupon_Redeemed', 'Merchant_AvgDistance', 'LastRedemption', 'Merchant_Redeemed', 'Duration', 'Rate', 'Merchant_Ratio', 'User_Merchant_Ratio', 'User_Redeemed_Buy', 'Coupon_Ratio', 'Coupon_Released', 'User_Ratio']\n"
     ]
    }
   ],
   "source": [
    "remove_columns = ['User_id', 'Merchant_id', 'Coupon_id', 'Discount_rate','Discount','Date_received',\n",
    "                  'Date','Count','RedemptionDuration','DayList','DateTrack','DayNum','First_day',\n",
    "                  'RedemptionList','VisitList', 'Merchant_User_Visit', 'MerchantRedemptionList',\n",
    "                  'User_Coupon_Redeemed', 'User_Coupon_Ratio','User_discount_Ratio','Discounted_Redeemed']\n",
    "unimportant_features = ['DayOfWeek','Weekend','ImpDay','Merchant_Popular','Purchaser']\n",
    "features = list(set(train_dataset.columns)-set(remove_columns)-set(['Target'])-set(unimportant_features))\n",
    "print('Features to be included:'+str(len(features)))                  \n",
    "print(features)"
   ]
  },
  {
   "cell_type": "markdown",
   "metadata": {},
   "source": [
    "# Model"
   ]
  },
  {
   "cell_type": "code",
   "execution_count": 8,
   "metadata": {},
   "outputs": [],
   "source": [
    "from sklearn.ensemble import RandomForestClassifier\n",
    "from sklearn.metrics import roc_auc_score\n",
    "from sklearn.preprocessing import MinMaxScaler\n",
    "from sklearn.model_selection import train_test_split\n",
    "from sklearn.metrics import classification_report \n",
    "from sklearn.metrics import confusion_matrix\n",
    "from sklearn import metrics\n",
    "from xgboost import XGBClassifier\n",
    "from xgboost import plot_importance\n",
    "from matplotlib import pyplot\n",
    "from sklearn.model_selection import KFold\n",
    "import xgboost as xgb\n",
    "from sklearn.metrics import precision_score,recall_score\n"
   ]
  },
  {
   "cell_type": "code",
   "execution_count": 9,
   "metadata": {},
   "outputs": [],
   "source": [
    "def save_model(model):\n",
    "    #saving model\n",
    "    from sklearn.externals import joblib \n",
    "\n",
    "    # Save the model as a pickle in a file \n",
    "    joblib.dump(model, 'Model/xgboost.pkl') \n",
    "\n",
    "    # Load the model from the file \n",
    "    clf_saved= joblib.load('Model/xgboost.pkl')  \n"
   ]
  },
  {
   "cell_type": "code",
   "execution_count": 10,
   "metadata": {},
   "outputs": [],
   "source": [
    "y = list(train_dataset['Target'])\n",
    "X = train_dataset[features]\n",
    "X_train, X_test, y_train, y_test = train_test_split(X, y, test_size=0.15, random_state=100)\n",
    "X_train, X_val, y_train, y_val = train_test_split(X_train, y_train, test_size=0.15, random_state=100)"
   ]
  },
  {
   "cell_type": "markdown",
   "metadata": {},
   "source": [
    "### XGBoost"
   ]
  },
  {
   "cell_type": "code",
   "execution_count": 11,
   "metadata": {},
   "outputs": [
    {
     "data": {
      "text/plain": [
       "{'alpha': 0.2,\n",
       " 'colsample_bytree': 0.8,\n",
       " 'gamma': 0.5,\n",
       " 'learning_rate': 0.1,\n",
       " 'max_depth': 5,\n",
       " 'min_child_weight': 2,\n",
       " 'scale_pos_weight': 1,\n",
       " 'subsample': 0.8}"
      ]
     },
     "execution_count": 11,
     "metadata": {},
     "output_type": "execute_result"
    }
   ],
   "source": [
    "from sklearn.model_selection import GridSearchCV\n",
    "from sklearn.feature_selection import RFECV\n",
    "params = {\n",
    "        'min_child_weight': [1,2,3,4,5],\n",
    "        'gamma': [0,0.5, 1, 1.5, 2, 5],\n",
    "        'subsample': [0.6, 0.8,1.0],\n",
    "        'colsample_bytree': [0.6, 0.8,1.0],\n",
    "        'max_depth': [3,4,5],\n",
    "        'learning_rate': [0.01,0.05,0.1,0.5],\n",
    "        'scale_pos_weight':[1],                 \n",
    "        'alpha': [0.1,0.2,0.3,0.4,0.5]\n",
    "        }\n",
    "clf = XGBClassifier(n_estimators=500, objective='binary:logistic',\n",
    "                    silent=True, nthread=1)\n",
    "grid_search = GridSearchCV(estimator = clf,\n",
    "                           param_grid = params,\n",
    "                           scoring = 'roc_auc',\n",
    "#                            cv = 10,\n",
    "                           n_jobs = -1)\n",
    "grid_search = grid_search.fit(X_train, y_train)\n",
    "grid_search.best_params_"
   ]
  },
  {
   "cell_type": "code",
   "execution_count": 12,
   "metadata": {},
   "outputs": [],
   "source": [
    "def train_model():\n",
    "\n",
    "    clf = XGBClassifier(\n",
    "     learning_rate =0.1,\n",
    "     n_estimators=500,\n",
    "     max_depth=5,\n",
    "     min_child_weight=2,\n",
    "     gamma=0.5,\n",
    "     subsample=0.8,\n",
    "     colsample_bytree=0.8,\n",
    "     objective= 'binary:logistic',\n",
    "     nthread=3,\n",
    "     scale_pos_weight=1,\n",
    "     seed=410,\n",
    "     alpha=0.2)\n",
    "    \n",
    "    model = clf.fit(X_train, y_train)\n",
    "    save_model(model)\n",
    "    \n",
    "    ax = plot_importance(model)\n",
    "    fig = ax.figure\n",
    "    fig.set_size_inches(15, 9)\n",
    "    plt.show()\n",
    "\n",
    "    return model\n"
   ]
  },
  {
   "cell_type": "code",
   "execution_count": 13,
   "metadata": {},
   "outputs": [
    {
     "name": "stderr",
     "output_type": "stream",
     "text": [
      "/Users/mahimaarora/opt/anaconda3/lib/python3.7/site-packages/sklearn/externals/joblib/__init__.py:15: DeprecationWarning: sklearn.externals.joblib is deprecated in 0.21 and will be removed in 0.23. Please import this functionality directly from joblib, which can be installed with: pip install joblib. If this warning is raised when loading pickled models, you may need to re-serialize those models with scikit-learn 0.21+.\n",
      "  warnings.warn(msg, category=DeprecationWarning)\n"
     ]
    },
    {
     "data": {
      "image/png": "[encoded data removed]",
      "text/plain": [
       "<Figure size 1080x648 with 1 Axes>"
      ]
     },
     "metadata": {
      "needs_background": "light"
     },
     "output_type": "display_data"
    }
   ],
   "source": [
    "model = train_model()"
   ]
  },
  {
   "cell_type": "code",
   "execution_count": 14,
   "metadata": {},
   "outputs": [],
   "source": [
    "# feature_importances = pd.DataFrame(model.feature_importances_,index = features,columns=['importance']).sort_values('importance',ascending=True)\n",
    "# feature_importances.plot(kind='barh',figsize=(10,20))"
   ]
  },
  {
   "cell_type": "code",
   "execution_count": 15,
   "metadata": {},
   "outputs": [],
   "source": [
    "def evaluate_model(X_check, y_check):\n",
    "    \n",
    "    \n",
    "    predictions = (model.predict_proba(X_check)[:,1]).tolist()\n",
    "    predicted_values = (model.predict(X_check)).tolist()\n",
    "    test_dataset = pd.merge(X_check, train_dataset[['User_id','Merchant_id','Date_received']], how='left',left_index=True,right_index=True)\n",
    "    output = test_dataset[['User_id','Merchant_id','Date_received']]\n",
    "    output['Probabilities'] = predictions\n",
    "    \n",
    "\n",
    "    roc_score = round(roc_auc_score(y_check, predictions), 3)\n",
    "\n",
    "    print('ROC AUC Score of Probailities:  '+ str(roc_score))\n",
    "    print('ROC AUC Curve')\n",
    "    fpr, tpr, _ = metrics.roc_curve(y_check, predictions)\n",
    "    auc = metrics.roc_auc_score(y_check, predictions)\n",
    "    plt.plot(fpr,tpr,label=\"auc=\"+str(auc))\n",
    "    plt.legend(loc=4)\n",
    "    plt.show()\n",
    "    \n",
    "    predicted_values = [1 if x>0.5 else 0 for x in predictions]\n",
    "    print('______________________________________________________________________')\n",
    "    print('\\n The classification report for the model:')\n",
    "    print(classification_report(y_check, predicted_values) )\n",
    "    \n",
    "    results = confusion_matrix(y_check, predicted_values) \n",
    "    print('______________________________________________________________________')\n",
    "    print('\\n The confusion matrix for the model:')\n",
    "    print(results)\n",
    "    print('______________________________________________________________________')\n",
    "    \n",
    "#     threshold = np.arange(0,1,0.001)\n",
    "#     precision = np.zeros(len(threshold))\n",
    "#     recall = np.zeros(len(threshold))\n",
    "#     for i in range(len(threshold)):\n",
    "#         y1 = np.zeros(len(y_check),dtype=int)\n",
    "#         y1 = np.where(predictions<=threshold[i],0,1)\n",
    "#         precision[i] = precision_score(y_check,y1)\n",
    "#         recall[i] = recall_score(y_check,y1)\n",
    "\n",
    "#     plt.figure(figsize=(12,9))\n",
    "#     sns.set_style('whitegrid')\n",
    "#     sns.lineplot(x=threshold,y=precision)\n",
    "#     sns.lineplot(x=threshold,y=recall)\n",
    "#     plt.xlabel('Threshold')\n",
    "#     plt.title('Recall and Precision Values Vs Threshhold values')\n",
    "#     plt.show()\n",
    "    \n",
    "    return output\n",
    "    "
   ]
  },
  {
   "cell_type": "markdown",
   "metadata": {},
   "source": [
    "## Test Data Scores"
   ]
  },
  {
   "cell_type": "code",
   "execution_count": 16,
   "metadata": {},
   "outputs": [
    {
     "name": "stdout",
     "output_type": "stream",
     "text": [
      "ROC AUC Score of Probailities:  0.992\n",
      "ROC AUC Curve\n"
     ]
    },
    {
     "data": {
      "image/png": "[encoded data removed]",
      "text/plain": [
       "<Figure size 432x288 with 1 Axes>"
      ]
     },
     "metadata": {
      "needs_background": "light"
     },
     "output_type": "display_data"
    },
    {
     "name": "stdout",
     "output_type": "stream",
     "text": [
      "______________________________________________________________________\n",
      "\n",
      " The classification report for the model:\n",
      "              precision    recall  f1-score   support\n",
      "\n",
      "           0       0.98      0.99      0.99    142942\n",
      "           1       0.80      0.77      0.78      9367\n",
      "\n",
      "    accuracy                           0.97    152309\n",
      "   macro avg       0.89      0.88      0.88    152309\n",
      "weighted avg       0.97      0.97      0.97    152309\n",
      "\n",
      "______________________________________________________________________\n",
      "\n",
      " The confusion matrix for the model:\n",
      "[[141100   1842]\n",
      " [  2151   7216]]\n",
      "______________________________________________________________________\n"
     ]
    },
    {
     "data": {
      "text/html": [
       "<div>\n",
       "<style scoped>\n",
       "    .dataframe tbody tr th:only-of-type {\n",
       "        vertical-align: middle;\n",
       "    }\n",
       "\n",
       "    .dataframe tbody tr th {\n",
       "        vertical-align: top;\n",
       "    }\n",
       "\n",
       "    .dataframe thead th {\n",
       "        text-align: right;\n",
       "    }\n",
       "</style>\n",
       "<table border=\"1\" class=\"dataframe\">\n",
       "  <thead>\n",
       "    <tr style=\"text-align: right;\">\n",
       "      <th></th>\n",
       "      <th>User_id</th>\n",
       "      <th>Merchant_id</th>\n",
       "      <th>Date_received</th>\n",
       "      <th>Probabilities</th>\n",
       "    </tr>\n",
       "  </thead>\n",
       "  <tbody>\n",
       "    <tr>\n",
       "      <td>715091</td>\n",
       "      <td>5193451</td>\n",
       "      <td>7555</td>\n",
       "      <td>2016-04-16</td>\n",
       "      <td>6.239552e-07</td>\n",
       "    </tr>\n",
       "    <tr>\n",
       "      <td>936313</td>\n",
       "      <td>6788567</td>\n",
       "      <td>3527</td>\n",
       "      <td>2016-03-22</td>\n",
       "      <td>2.262212e-04</td>\n",
       "    </tr>\n",
       "    <tr>\n",
       "      <td>935861</td>\n",
       "      <td>6785479</td>\n",
       "      <td>450</td>\n",
       "      <td>2016-02-02</td>\n",
       "      <td>3.650616e-07</td>\n",
       "    </tr>\n",
       "    <tr>\n",
       "      <td>73628</td>\n",
       "      <td>536792</td>\n",
       "      <td>1375</td>\n",
       "      <td>2016-05-13</td>\n",
       "      <td>8.609647e-06</td>\n",
       "    </tr>\n",
       "    <tr>\n",
       "      <td>810548</td>\n",
       "      <td>5882244</td>\n",
       "      <td>4860</td>\n",
       "      <td>2016-02-07</td>\n",
       "      <td>8.289255e-07</td>\n",
       "    </tr>\n",
       "  </tbody>\n",
       "</table>\n",
       "</div>"
      ],
      "text/plain": [
       "        User_id  Merchant_id Date_received  Probabilities\n",
       "715091  5193451         7555    2016-04-16   6.239552e-07\n",
       "936313  6788567         3527    2016-03-22   2.262212e-04\n",
       "935861  6785479          450    2016-02-02   3.650616e-07\n",
       "73628    536792         1375    2016-05-13   8.609647e-06\n",
       "810548  5882244         4860    2016-02-07   8.289255e-07"
      ]
     },
     "execution_count": 16,
     "metadata": {},
     "output_type": "execute_result"
    }
   ],
   "source": [
    "test_output = evaluate_model(X_test, y_test)\n",
    "test_output.head()"
   ]
  },
  {
   "cell_type": "markdown",
   "metadata": {},
   "source": [
    "## Validation Data Scores"
   ]
  },
  {
   "cell_type": "code",
   "execution_count": 17,
   "metadata": {},
   "outputs": [
    {
     "name": "stdout",
     "output_type": "stream",
     "text": [
      "ROC AUC Score of Probailities:  0.992\n",
      "ROC AUC Curve\n"
     ]
    },
    {
     "data": {
      "image/png": "[encoded data removed]",
      "text/plain": [
       "<Figure size 432x288 with 1 Axes>"
      ]
     },
     "metadata": {
      "needs_background": "light"
     },
     "output_type": "display_data"
    },
    {
     "name": "stdout",
     "output_type": "stream",
     "text": [
      "______________________________________________________________________\n",
      "\n",
      " The classification report for the model:\n",
      "              precision    recall  f1-score   support\n",
      "\n",
      "           0       0.99      0.99      0.99    121682\n",
      "           1       0.79      0.77      0.78      7780\n",
      "\n",
      "    accuracy                           0.97    129462\n",
      "   macro avg       0.89      0.88      0.88    129462\n",
      "weighted avg       0.97      0.97      0.97    129462\n",
      "\n",
      "______________________________________________________________________\n",
      "\n",
      " The confusion matrix for the model:\n",
      "[[120048   1634]\n",
      " [  1778   6002]]\n",
      "______________________________________________________________________\n"
     ]
    },
    {
     "data": {
      "text/html": [
       "<div>\n",
       "<style scoped>\n",
       "    .dataframe tbody tr th:only-of-type {\n",
       "        vertical-align: middle;\n",
       "    }\n",
       "\n",
       "    .dataframe tbody tr th {\n",
       "        vertical-align: top;\n",
       "    }\n",
       "\n",
       "    .dataframe thead th {\n",
       "        text-align: right;\n",
       "    }\n",
       "</style>\n",
       "<table border=\"1\" class=\"dataframe\">\n",
       "  <thead>\n",
       "    <tr style=\"text-align: right;\">\n",
       "      <th></th>\n",
       "      <th>User_id</th>\n",
       "      <th>Merchant_id</th>\n",
       "      <th>Date_received</th>\n",
       "      <th>Probabilities</th>\n",
       "    </tr>\n",
       "  </thead>\n",
       "  <tbody>\n",
       "    <tr>\n",
       "      <td>373670</td>\n",
       "      <td>2719236</td>\n",
       "      <td>2709</td>\n",
       "      <td>2016-05-18</td>\n",
       "      <td>7.033343e-07</td>\n",
       "    </tr>\n",
       "    <tr>\n",
       "      <td>80538</td>\n",
       "      <td>585881</td>\n",
       "      <td>2709</td>\n",
       "      <td>2016-02-02</td>\n",
       "      <td>4.832094e-07</td>\n",
       "    </tr>\n",
       "    <tr>\n",
       "      <td>418232</td>\n",
       "      <td>3041043</td>\n",
       "      <td>1433</td>\n",
       "      <td>2016-02-11</td>\n",
       "      <td>6.339661e-07</td>\n",
       "    </tr>\n",
       "    <tr>\n",
       "      <td>683806</td>\n",
       "      <td>4965863</td>\n",
       "      <td>8580</td>\n",
       "      <td>2016-03-30</td>\n",
       "      <td>1.806066e-06</td>\n",
       "    </tr>\n",
       "    <tr>\n",
       "      <td>466008</td>\n",
       "      <td>3386708</td>\n",
       "      <td>3381</td>\n",
       "      <td>2016-01-23</td>\n",
       "      <td>1.986209e-07</td>\n",
       "    </tr>\n",
       "  </tbody>\n",
       "</table>\n",
       "</div>"
      ],
      "text/plain": [
       "        User_id  Merchant_id Date_received  Probabilities\n",
       "373670  2719236         2709    2016-05-18   7.033343e-07\n",
       "80538    585881         2709    2016-02-02   4.832094e-07\n",
       "418232  3041043         1433    2016-02-11   6.339661e-07\n",
       "683806  4965863         8580    2016-03-30   1.806066e-06\n",
       "466008  3386708         3381    2016-01-23   1.986209e-07"
      ]
     },
     "execution_count": 17,
     "metadata": {},
     "output_type": "execute_result"
    }
   ],
   "source": [
    "val_output = evaluate_model(X_val, y_val)\n",
    "val_output.head()"
   ]
  },
  {
   "cell_type": "code",
   "execution_count": 18,
   "metadata": {},
   "outputs": [],
   "source": [
    "# def training2(train_dataset):\n",
    "#     y = list(train_dataset['Target'])\n",
    "#     X = train_dataset[features]\n",
    "#     data_dmatrix = xgb.DMatrix(data=X, label=y)\n",
    "#     params =  {'objective':'binary:logistic','colsample_bytree':0.8,'learning_rate':0.1,\n",
    "#                 'max_depth':5}\n",
    "#     cv_results = xgb.cv(dtrain=data_dmatrix, params=params, nfold=5,num_boost_round=50,\n",
    "#                         early_stopping_rounds=10, as_pandas=True, seed=0,  metrics='auc') \n",
    "#     return cv_results\n",
    "    \n",
    "# training2(train_dataset)"
   ]
  },
  {
   "cell_type": "markdown",
   "metadata": {},
   "source": [
    "# Test Dataset and Submission File"
   ]
  },
  {
   "cell_type": "code",
   "execution_count": 19,
   "metadata": {},
   "outputs": [
    {
     "data": {
      "text/html": [
       "<div>\n",
       "<style scoped>\n",
       "    .dataframe tbody tr th:only-of-type {\n",
       "        vertical-align: middle;\n",
       "    }\n",
       "\n",
       "    .dataframe tbody tr th {\n",
       "        vertical-align: top;\n",
       "    }\n",
       "\n",
       "    .dataframe thead th {\n",
       "        text-align: right;\n",
       "    }\n",
       "</style>\n",
       "<table border=\"1\" class=\"dataframe\">\n",
       "  <thead>\n",
       "    <tr style=\"text-align: right;\">\n",
       "      <th></th>\n",
       "      <th>User_id</th>\n",
       "      <th>Merchant_id</th>\n",
       "      <th>Date_received</th>\n",
       "      <th>Probability</th>\n",
       "    </tr>\n",
       "  </thead>\n",
       "  <tbody>\n",
       "    <tr>\n",
       "      <td>20</td>\n",
       "      <td>7333378</td>\n",
       "      <td>6901</td>\n",
       "      <td>2016-07-27</td>\n",
       "      <td>0.997005</td>\n",
       "    </tr>\n",
       "    <tr>\n",
       "      <td>42</td>\n",
       "      <td>5427718</td>\n",
       "      <td>5084</td>\n",
       "      <td>2016-07-04</td>\n",
       "      <td>0.506556</td>\n",
       "    </tr>\n",
       "    <tr>\n",
       "      <td>178</td>\n",
       "      <td>2773771</td>\n",
       "      <td>7422</td>\n",
       "      <td>2016-07-25</td>\n",
       "      <td>0.709332</td>\n",
       "    </tr>\n",
       "    <tr>\n",
       "      <td>244</td>\n",
       "      <td>3937039</td>\n",
       "      <td>281</td>\n",
       "      <td>2016-07-10</td>\n",
       "      <td>0.513999</td>\n",
       "    </tr>\n",
       "    <tr>\n",
       "      <td>363</td>\n",
       "      <td>2762005</td>\n",
       "      <td>2206</td>\n",
       "      <td>2016-07-26</td>\n",
       "      <td>0.999455</td>\n",
       "    </tr>\n",
       "    <tr>\n",
       "      <td>...</td>\n",
       "      <td>...</td>\n",
       "      <td>...</td>\n",
       "      <td>...</td>\n",
       "      <td>...</td>\n",
       "    </tr>\n",
       "    <tr>\n",
       "      <td>113422</td>\n",
       "      <td>4532681</td>\n",
       "      <td>1469</td>\n",
       "      <td>2016-07-15</td>\n",
       "      <td>0.998688</td>\n",
       "    </tr>\n",
       "    <tr>\n",
       "      <td>113452</td>\n",
       "      <td>4459985</td>\n",
       "      <td>2436</td>\n",
       "      <td>2016-07-26</td>\n",
       "      <td>0.628508</td>\n",
       "    </tr>\n",
       "    <tr>\n",
       "      <td>113480</td>\n",
       "      <td>4593113</td>\n",
       "      <td>760</td>\n",
       "      <td>2016-07-13</td>\n",
       "      <td>0.978697</td>\n",
       "    </tr>\n",
       "    <tr>\n",
       "      <td>113498</td>\n",
       "      <td>5467613</td>\n",
       "      <td>2635</td>\n",
       "      <td>2016-07-01</td>\n",
       "      <td>0.797436</td>\n",
       "    </tr>\n",
       "    <tr>\n",
       "      <td>113604</td>\n",
       "      <td>4478453</td>\n",
       "      <td>8131</td>\n",
       "      <td>2016-07-30</td>\n",
       "      <td>0.995694</td>\n",
       "    </tr>\n",
       "  </tbody>\n",
       "</table>\n",
       "<p>3296 rows × 4 columns</p>\n",
       "</div>"
      ],
      "text/plain": [
       "        User_id  Merchant_id Date_received  Probability\n",
       "20      7333378         6901    2016-07-27     0.997005\n",
       "42      5427718         5084    2016-07-04     0.506556\n",
       "178     2773771         7422    2016-07-25     0.709332\n",
       "244     3937039          281    2016-07-10     0.513999\n",
       "363     2762005         2206    2016-07-26     0.999455\n",
       "...         ...          ...           ...          ...\n",
       "113422  4532681         1469    2016-07-15     0.998688\n",
       "113452  4459985         2436    2016-07-26     0.628508\n",
       "113480  4593113          760    2016-07-13     0.978697\n",
       "113498  5467613         2635    2016-07-01     0.797436\n",
       "113604  4478453         8131    2016-07-30     0.995694\n",
       "\n",
       "[3296 rows x 4 columns]"
      ]
     },
     "execution_count": 19,
     "metadata": {},
     "output_type": "execute_result"
    }
   ],
   "source": [
    "predictions = (model.predict_proba(test_dataset[features])[:,1]).tolist()\n",
    "predicted_values = (model.predict(test_dataset[features])).tolist()\n",
    "test = pd.merge(test_dataset[features], test_dataset[['User_id','Merchant_id','Date_received']]\n",
    "                , how='left',left_index=True,right_index=True)\n",
    "output = test[['User_id','Merchant_id','Date_received']]\n",
    "output['Probability'] = [round(i, 6) for i in predictions]\n",
    "output[output['Probability']>0.5]"
   ]
  },
  {
   "cell_type": "code",
   "execution_count": 20,
   "metadata": {},
   "outputs": [],
   "source": [
    "output.to_csv('OutputFile.csv',index=False) "
   ]
  },
  {
   "cell_type": "markdown",
   "metadata": {},
   "source": [
    "# Execution Time of this notebook"
   ]
  },
  {
   "cell_type": "code",
   "execution_count": 21,
   "metadata": {},
   "outputs": [
    {
     "name": "stdout",
     "output_type": "stream",
     "text": [
      "Time taken for the execution of this notebook: 35.2 mins\n"
     ]
    }
   ],
   "source": [
    "later = time.time()\n",
    "difference = later - now\n",
    "print('Time taken for the execution of this notebook: '+str(round(difference/60,2))+' mins')"
   ]
  },
  {
   "cell_type": "code",
   "execution_count": null,
   "metadata": {},
   "outputs": [],
   "source": []
  },
  {
   "cell_type": "code",
   "execution_count": null,
   "metadata": {},
   "outputs": [],
   "source": []
  }
 ],
 "metadata": {
  "kernelspec": {
   "display_name": "Python 3",
   "language": "python",
   "name": "python3"
  },
  "language_info": {
   "codemirror_mode": {
    "name": "ipython",
    "version": 3
   },
   "file_extension": ".py",
   "mimetype": "text/x-python",
   "name": "python",
   "nbconvert_exporter": "python",
   "pygments_lexer": "ipython3",
   "version": "3.7.4"
  }
 },
 "nbformat": 4,
 "nbformat_minor": 2
}
