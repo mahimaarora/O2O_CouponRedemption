{
 "cells": [
  {
   "cell_type": "code",
   "execution_count": 1,
   "metadata": {},
   "outputs": [],
   "source": [
    "import time\n",
    "now = time.time()"
   ]
  },
  {
   "cell_type": "code",
   "execution_count": 2,
   "metadata": {},
   "outputs": [],
   "source": [
    "%matplotlib inline\n",
    "import pandas as pd\n",
    "import numpy as np\n",
    "import matplotlib.pyplot as plt\n",
    "import seaborn as sns\n",
    "import warnings\n",
    "warnings.filterwarnings(\"ignore\")"
   ]
  },
  {
   "cell_type": "code",
   "execution_count": 3,
   "metadata": {},
   "outputs": [
    {
     "data": {
      "text/plain": [
       "(1015389, 85)"
      ]
     },
     "execution_count": 3,
     "metadata": {},
     "output_type": "execute_result"
    }
   ],
   "source": [
    "train_dataset = pd.read_csv('DataSets/DatasetsCreated/train_dataset.csv')\n",
    "train_dataset.shape"
   ]
  },
  {
   "cell_type": "code",
   "execution_count": 4,
   "metadata": {},
   "outputs": [
    {
     "data": {
      "text/plain": [
       "(113640, 81)"
      ]
     },
     "execution_count": 4,
     "metadata": {},
     "output_type": "execute_result"
    }
   ],
   "source": [
    "test_dataset = pd.read_csv('DataSets/DatasetsCreated/test_dataset.csv')\n",
    "test_dataset.shape"
   ]
  },
  {
   "cell_type": "code",
   "execution_count": 5,
   "metadata": {},
   "outputs": [
    {
     "data": {
      "text/html": [
       "<div>\n",
       "<style scoped>\n",
       "    .dataframe tbody tr th:only-of-type {\n",
       "        vertical-align: middle;\n",
       "    }\n",
       "\n",
       "    .dataframe tbody tr th {\n",
       "        vertical-align: top;\n",
       "    }\n",
       "\n",
       "    .dataframe thead th {\n",
       "        text-align: right;\n",
       "    }\n",
       "</style>\n",
       "<table border=\"1\" class=\"dataframe\">\n",
       "  <thead>\n",
       "    <tr style=\"text-align: right;\">\n",
       "      <th></th>\n",
       "      <th>User_id</th>\n",
       "      <th>Merchant_id</th>\n",
       "      <th>Coupon_id</th>\n",
       "      <th>Discount_rate</th>\n",
       "      <th>Distance</th>\n",
       "      <th>Date_received</th>\n",
       "      <th>Discount</th>\n",
       "      <th>Original_price</th>\n",
       "      <th>Discounted_price</th>\n",
       "      <th>Rate</th>\n",
       "      <th>...</th>\n",
       "      <th>CouponReleasesTime</th>\n",
       "      <th>CouponRedeemTime</th>\n",
       "      <th>CouponRatioTime</th>\n",
       "      <th>MerchantUserReleasesTime</th>\n",
       "      <th>MerchantUserRedeemTime</th>\n",
       "      <th>MerchantUserRatioTime</th>\n",
       "      <th>FirstTimeUser</th>\n",
       "      <th>FirstTimeMerchant</th>\n",
       "      <th>FirstTimeMerchantUser</th>\n",
       "      <th>FirstTimeCouponUser</th>\n",
       "    </tr>\n",
       "  </thead>\n",
       "  <tbody>\n",
       "    <tr>\n",
       "      <td>0</td>\n",
       "      <td>4129537</td>\n",
       "      <td>450</td>\n",
       "      <td>9983</td>\n",
       "      <td>[30, 5, 0.833]</td>\n",
       "      <td>1.0</td>\n",
       "      <td>2016-07-12</td>\n",
       "      <td>30:5</td>\n",
       "      <td>30</td>\n",
       "      <td>5</td>\n",
       "      <td>0.833</td>\n",
       "      <td>...</td>\n",
       "      <td>0</td>\n",
       "      <td>0</td>\n",
       "      <td>0.000000</td>\n",
       "      <td>1</td>\n",
       "      <td>0</td>\n",
       "      <td>0.0</td>\n",
       "      <td>0</td>\n",
       "      <td>1</td>\n",
       "      <td>0</td>\n",
       "      <td>0</td>\n",
       "    </tr>\n",
       "    <tr>\n",
       "      <td>1</td>\n",
       "      <td>6949378</td>\n",
       "      <td>1300</td>\n",
       "      <td>3429</td>\n",
       "      <td>[30, 5, 0.833]</td>\n",
       "      <td>NaN</td>\n",
       "      <td>2016-07-06</td>\n",
       "      <td>30:5</td>\n",
       "      <td>30</td>\n",
       "      <td>5</td>\n",
       "      <td>0.833</td>\n",
       "      <td>...</td>\n",
       "      <td>0</td>\n",
       "      <td>0</td>\n",
       "      <td>0.000000</td>\n",
       "      <td>0</td>\n",
       "      <td>0</td>\n",
       "      <td>0.0</td>\n",
       "      <td>1</td>\n",
       "      <td>1</td>\n",
       "      <td>0</td>\n",
       "      <td>0</td>\n",
       "    </tr>\n",
       "    <tr>\n",
       "      <td>2</td>\n",
       "      <td>2166529</td>\n",
       "      <td>7113</td>\n",
       "      <td>6928</td>\n",
       "      <td>[200, 20, 0.9]</td>\n",
       "      <td>5.0</td>\n",
       "      <td>2016-07-27</td>\n",
       "      <td>200:20</td>\n",
       "      <td>200</td>\n",
       "      <td>20</td>\n",
       "      <td>0.900</td>\n",
       "      <td>...</td>\n",
       "      <td>50</td>\n",
       "      <td>9</td>\n",
       "      <td>0.180000</td>\n",
       "      <td>0</td>\n",
       "      <td>0</td>\n",
       "      <td>0.0</td>\n",
       "      <td>1</td>\n",
       "      <td>1</td>\n",
       "      <td>0</td>\n",
       "      <td>0</td>\n",
       "    </tr>\n",
       "    <tr>\n",
       "      <td>3</td>\n",
       "      <td>2166529</td>\n",
       "      <td>7113</td>\n",
       "      <td>1808</td>\n",
       "      <td>[100, 10, 0.9]</td>\n",
       "      <td>5.0</td>\n",
       "      <td>2016-07-27</td>\n",
       "      <td>100:10</td>\n",
       "      <td>100</td>\n",
       "      <td>10</td>\n",
       "      <td>0.900</td>\n",
       "      <td>...</td>\n",
       "      <td>50</td>\n",
       "      <td>27</td>\n",
       "      <td>0.540000</td>\n",
       "      <td>0</td>\n",
       "      <td>0</td>\n",
       "      <td>0.0</td>\n",
       "      <td>1</td>\n",
       "      <td>1</td>\n",
       "      <td>0</td>\n",
       "      <td>0</td>\n",
       "    </tr>\n",
       "    <tr>\n",
       "      <td>4</td>\n",
       "      <td>6172162</td>\n",
       "      <td>7605</td>\n",
       "      <td>6500</td>\n",
       "      <td>[30, 1, 0.967]</td>\n",
       "      <td>2.0</td>\n",
       "      <td>2016-07-08</td>\n",
       "      <td>30:1</td>\n",
       "      <td>30</td>\n",
       "      <td>1</td>\n",
       "      <td>0.967</td>\n",
       "      <td>...</td>\n",
       "      <td>7</td>\n",
       "      <td>8</td>\n",
       "      <td>1.142857</td>\n",
       "      <td>0</td>\n",
       "      <td>0</td>\n",
       "      <td>0.0</td>\n",
       "      <td>1</td>\n",
       "      <td>1</td>\n",
       "      <td>0</td>\n",
       "      <td>0</td>\n",
       "    </tr>\n",
       "  </tbody>\n",
       "</table>\n",
       "<p>5 rows × 81 columns</p>\n",
       "</div>"
      ],
      "text/plain": [
       "   User_id  Merchant_id  Coupon_id   Discount_rate  Distance Date_received  \\\n",
       "0  4129537          450       9983  [30, 5, 0.833]       1.0    2016-07-12   \n",
       "1  6949378         1300       3429  [30, 5, 0.833]       NaN    2016-07-06   \n",
       "2  2166529         7113       6928  [200, 20, 0.9]       5.0    2016-07-27   \n",
       "3  2166529         7113       1808  [100, 10, 0.9]       5.0    2016-07-27   \n",
       "4  6172162         7605       6500  [30, 1, 0.967]       2.0    2016-07-08   \n",
       "\n",
       "  Discount  Original_price  Discounted_price   Rate  ...  CouponReleasesTime  \\\n",
       "0     30:5              30                 5  0.833  ...                   0   \n",
       "1     30:5              30                 5  0.833  ...                   0   \n",
       "2   200:20             200                20  0.900  ...                  50   \n",
       "3   100:10             100                10  0.900  ...                  50   \n",
       "4     30:1              30                 1  0.967  ...                   7   \n",
       "\n",
       "   CouponRedeemTime  CouponRatioTime  MerchantUserReleasesTime  \\\n",
       "0                 0         0.000000                         1   \n",
       "1                 0         0.000000                         0   \n",
       "2                 9         0.180000                         0   \n",
       "3                27         0.540000                         0   \n",
       "4                 8         1.142857                         0   \n",
       "\n",
       "   MerchantUserRedeemTime  MerchantUserRatioTime  FirstTimeUser  \\\n",
       "0                       0                    0.0              0   \n",
       "1                       0                    0.0              1   \n",
       "2                       0                    0.0              1   \n",
       "3                       0                    0.0              1   \n",
       "4                       0                    0.0              1   \n",
       "\n",
       "  FirstTimeMerchant FirstTimeMerchantUser FirstTimeCouponUser  \n",
       "0                 1                     0                   0  \n",
       "1                 1                     0                   0  \n",
       "2                 1                     0                   0  \n",
       "3                 1                     0                   0  \n",
       "4                 1                     0                   0  \n",
       "\n",
       "[5 rows x 81 columns]"
      ]
     },
     "execution_count": 5,
     "metadata": {},
     "output_type": "execute_result"
    }
   ],
   "source": [
    "test_dataset = test_dataset.replace([np.inf, -np.inf], 0)\n",
    "test_dataset.head()"
   ]
  },
  {
   "cell_type": "code",
   "execution_count": 6,
   "metadata": {},
   "outputs": [
    {
     "data": {
      "text/plain": [
       "numpy.int64"
      ]
     },
     "execution_count": 6,
     "metadata": {},
     "output_type": "execute_result"
    }
   ],
   "source": [
    "type(test_dataset['Original_price'][1])"
   ]
  },
  {
   "cell_type": "markdown",
   "metadata": {},
   "source": [
    "## Categorical Data"
   ]
  },
  {
   "cell_type": "code",
   "execution_count": 7,
   "metadata": {},
   "outputs": [],
   "source": [
    "# categorical_features = ['Tag', 'Purchaser', 'Merchant_Popular']\n",
    "# for feature in categorical_features:\n",
    "#     train_dataset[feature] = pd.Categorical(train_dataset[feature])\n",
    "\n",
    "# One Hot Encoding\n",
    "# train_dataset = pd.concat([train_dataset,pd.get_dummies(train_dataset['Tag'], prefix='Tag',prefix_sep='_', drop_first=True,dummy_na=False)],axis=1)\n",
    "# train_dataset = pd.concat([train_dataset,pd.get_dummies(train_dataset['DayOfWeek'], prefix='DayOfWeek',prefix_sep='_', drop_first=True,dummy_na=False)],axis=1)\n"
   ]
  },
  {
   "cell_type": "code",
   "execution_count": 8,
   "metadata": {},
   "outputs": [
    {
     "data": {
      "text/plain": [
       "Index(['User_id', 'Merchant_id', 'Coupon_id', 'Discount_rate', 'Distance',\n",
       "       'Date_received', 'Date', 'Count', 'Discount', 'Original_price',\n",
       "       'Discounted_price', 'Rate', 'Tag', 'User_Released', 'User_Redeemed',\n",
       "       'User_Ratio', 'User_Buys', 'Purchaser', 'UserMerchantCount', 'DayList',\n",
       "       'UserReleaseList', 'UserRedeemList', 'User_Redeemed_Buy',\n",
       "       'Merchant_Redeemed', 'Merchant_Ratio', 'Merchant_AvgDistance',\n",
       "       'Merchant_Popular', 'Merchant_AvgRate', 'AvgDailyUsers',\n",
       "       'MerchantBuyList', 'MerchantReleaseList', 'MerchantRedeemList',\n",
       "       'UniqueUsersCount', 'Merchant_Buys', 'Merchant_Redeemed_Buy',\n",
       "       'Coupon_Released', 'Coupon_Redeemed', 'Coupon_Ratio', 'Duration',\n",
       "       'CouponRedeemList', 'CouponReleaseList', 'ReleasesCount', 'ImpDay',\n",
       "       'Weekend', 'DayOfWeek', 'Visits', 'User_Merchant_Ratio',\n",
       "       'User_Coupon_Redeemed', 'User_Coupon_Ratio', 'Discounted_Redeemed',\n",
       "       'User_discount_Ratio', 'Merchant_User_Visit', 'Coupon_User_Visit',\n",
       "       'MerchantUserReleaseList', 'MerchantUserRedeemList', 'DateTrack',\n",
       "       'First_day', 'DayNum', 'LastUserVisit', 'LastMerchantVisit',\n",
       "       'LastMerchantRedemption', 'LastMerchantUserVisit',\n",
       "       'LastCouponUserVisit', 'UserReleasesTime', 'UserRedeemTime',\n",
       "       'UserBuysTime', 'UserRedeemedBuyRatioTime', 'UserRatioTime',\n",
       "       'MerchantReleasesTime', 'MerchantRedeemTime', 'MerchantBuysTime',\n",
       "       'MerchantRedeemedBuyRatioTime', 'MerchantRatioTime',\n",
       "       'CouponReleasesTime', 'CouponRedeemTime', 'CouponRatioTime',\n",
       "       'MerchantUserReleasesTime', 'MerchantUserRedeemTime',\n",
       "       'MerchantUserRatioTime', 'RedemptionDuration', 'Target',\n",
       "       'FirstTimeUser', 'FirstTimeMerchant', 'FirstTimeMerchantUser',\n",
       "       'FirstTimeCouponUser'],\n",
       "      dtype='object')"
      ]
     },
     "execution_count": 8,
     "metadata": {},
     "output_type": "execute_result"
    }
   ],
   "source": [
    "train_dataset.columns"
   ]
  },
  {
   "cell_type": "markdown",
   "metadata": {},
   "source": [
    "## Final Features"
   ]
  },
  {
   "cell_type": "code",
   "execution_count": 9,
   "metadata": {},
   "outputs": [
    {
     "name": "stdout",
     "output_type": "stream",
     "text": [
      "Features to be included:51\n",
      "['Distance', 'Tag', 'Merchant_AvgRate', 'UserRedeemTime', 'Discounted_price', 'CouponRatioTime', 'Visits', 'FirstTimeCouponUser', 'MerchantRedeemedBuyRatioTime', 'User_Redeemed', 'Merchant_Ratio', 'UserMerchantCount', 'AvgDailyUsers', 'FirstTimeUser', 'Coupon_Released', 'CouponReleasesTime', 'UserReleasesTime', 'Rate', 'CouponRedeemTime', 'User_Ratio', 'Duration', 'Merchant_Redeemed', 'Merchant_AvgDistance', 'UserBuysTime', 'User_Buys', 'MerchantRedeemTime', 'MerchantUserRatioTime', 'FirstTimeMerchantUser', 'LastCouponUserVisit', 'User_Redeemed_Buy', 'Coupon_Ratio', 'Merchant_Buys', 'LastMerchantUserVisit', 'MerchantRatioTime', 'ReleasesCount', 'FirstTimeMerchant', 'LastMerchantVisit', 'UserRedeemedBuyRatioTime', 'User_Released', 'MerchantUserRedeemTime', 'UniqueUsersCount', 'MerchantUserReleasesTime', 'LastMerchantRedemption', 'UserRatioTime', 'Merchant_Redeemed_Buy', 'Coupon_Redeemed', 'LastUserVisit', 'Original_price', 'User_Merchant_Ratio', 'MerchantBuysTime', 'MerchantReleasesTime']\n"
     ]
    }
   ],
   "source": [
    "remove_columns = ['User_id', 'Merchant_id', 'Coupon_id', 'Discount_rate','Discount','Date_received',\n",
    "                  'Date','Count','RedemptionDuration','DayList','DateTrack','DayNum','First_day',\n",
    "                  'MerchantBuyList','MerchantReleaseList', 'Merchant_User_Visit', 'MerchantRedeemList',\n",
    "                  'User_Coupon_Redeemed', 'User_Coupon_Ratio','User_discount_Ratio','Discounted_Redeemed',\n",
    "                  'Coupon_User_Visit','UserReleaseList','UserRedeemList','CouponRedeemList','CouponReleaseList',\n",
    "                 'MerchantUserReleaseList','MerchantUserRedeemList']\n",
    "#                   ,'User_Merchant_Ratio']\n",
    "unimportant_features = ['DayOfWeek','Weekend','ImpDay','Merchant_Popular','Purchaser']\n",
    "time_based = ['UserBuysTime','UserRedeemTime','UserReleasesTime','LastMerchantRedemption',\n",
    "             'LastMerchantUserVisit','LastCouponUserVisit','LastRedemption','LastMerchantVisit','LastUserVisit'\n",
    "             'UserRedeemedBuyRatioTime','UserRatioTime','MerchantRedeemTime','MerchanReleasesTime',\n",
    "             'MerchantBuysTime','MerchantRatioTime','MerchantRedeemedBuyRatioTime',\n",
    "              'CouponRedeemTime','CouponReleaseTime','CouponRatioTime','MerchantUserReleaseTime',\n",
    "             'MerchantUserRedeemTime','MerchantUserRatioTime']\n",
    "features = list(set(train_dataset.columns)-set(remove_columns)-set(['Target'])-set(unimportant_features))\n",
    "print('Features to be included:'+str(len(features)))                  \n",
    "print(features)"
   ]
  },
  {
   "cell_type": "markdown",
   "metadata": {},
   "source": [
    "## Positive and Negative classes distribution"
   ]
  },
  {
   "cell_type": "code",
   "execution_count": 10,
   "metadata": {},
   "outputs": [
    {
     "name": "stdout",
     "output_type": "stream",
     "text": [
      "0    953236\n",
      "1     62153\n",
      "Name: Target, dtype: int64\n"
     ]
    },
    {
     "data": {
      "image/png": "[encoded data removed]",
      "text/plain": [
       "<Figure size 432x288 with 1 Axes>"
      ]
     },
     "metadata": {
      "needs_background": "light"
     },
     "output_type": "display_data"
    }
   ],
   "source": [
    "ax = sns.countplot(x='Target', data=train_dataset)\n",
    "print(train_dataset['Target'].value_counts())"
   ]
  },
  {
   "cell_type": "markdown",
   "metadata": {},
   "source": [
    "# Model"
   ]
  },
  {
   "cell_type": "code",
   "execution_count": 11,
   "metadata": {},
   "outputs": [],
   "source": [
    "from sklearn.ensemble import RandomForestClassifier\n",
    "from sklearn.metrics import roc_auc_score\n",
    "from sklearn.preprocessing import MinMaxScaler\n",
    "from sklearn.model_selection import train_test_split\n",
    "from sklearn.metrics import classification_report \n",
    "from sklearn.metrics import confusion_matrix\n",
    "from sklearn import metrics\n",
    "from xgboost import XGBClassifier\n",
    "from xgboost import plot_importance\n",
    "from matplotlib import pyplot\n",
    "from sklearn.model_selection import KFold\n",
    "import xgboost as xgb\n",
    "from sklearn.metrics import precision_score,recall_score\n",
    "from sklearn.model_selection import GridSearchCV\n",
    "# from imblearn.over_sampling import SMOTE"
   ]
  },
  {
   "cell_type": "code",
   "execution_count": 12,
   "metadata": {},
   "outputs": [],
   "source": [
    "def save_model(model):\n",
    "    #saving model\n",
    "    from sklearn.externals import joblib \n",
    "\n",
    "    # Save the model as a pickle in a file \n",
    "    joblib.dump(model, 'Model/xgboost.pkl') \n",
    "\n",
    "    # Load the model from the file \n",
    "    clf_saved= joblib.load('Model/xgboost.pkl')  \n"
   ]
  },
  {
   "cell_type": "code",
   "execution_count": 13,
   "metadata": {},
   "outputs": [],
   "source": [
    "y = list(train_dataset['Target'])\n",
    "X = train_dataset\n",
    "X_train, X_test, y_train, y_test = train_test_split(X, y, test_size=0.15, random_state=100)\n",
    "X_train, X_val, y_train, y_val= train_test_split(X_train, y_train, test_size=0.175)"
   ]
  },
  {
   "cell_type": "markdown",
   "metadata": {},
   "source": [
    "### XGBoost"
   ]
  },
  {
   "cell_type": "code",
   "execution_count": 14,
   "metadata": {},
   "outputs": [],
   "source": [
    "# params = {\n",
    "#         'min_child_weight': [5],                       #[1,2,3,4,5],\n",
    "#         'gamma': [1],                                  #[0,0.5, 1, 1.5, 2, 5],\n",
    "#         'subsample': [0.8],                              #[0.6, 0.8,1.0],\n",
    "#         'colsample_bytree': [0.8],                       #[0.6, 0.8,1.0],\n",
    "#         'max_depth': [5],                                #[3,4,5],\n",
    "#         'learning_rate': [0.1],                          #[0.01,0.05,0.1,0.5],\n",
    "#         'scale_pos_weight': [1],                         #[1],                 \n",
    "#         'alpha': [0.2]                                   #[0.1,0.2,0.3,0.4,0.5]\n",
    "#         }\n",
    "\n",
    "clf = XGBClassifier(\n",
    "     n_estimators=500,\n",
    "     objective= 'binary:logistic',\n",
    "     nthread=3,\n",
    "     scale_pos_weight=1,\n",
    "     seed=410,\n",
    "     alpha=0.2,\n",
    "     colsample_bytree=0.8,\n",
    "     gamma=1,\n",
    "     learning_rate=0.1,\n",
    "     max_depth=5,\n",
    "     min_child_weight=5,\n",
    "     subsample=0.8)\n"
   ]
  },
  {
   "cell_type": "markdown",
   "metadata": {},
   "source": [
    "## Method 1: Class Weight (Balancing)"
   ]
  },
  {
   "cell_type": "code",
   "execution_count": 15,
   "metadata": {},
   "outputs": [],
   "source": [
    "# weights = np.linspace(0.05, 0.95, 5)\n",
    "# gsc = GridSearchCV(\n",
    "#     estimator=clf,\n",
    "#     param_grid={\n",
    "#         'class_weight': [{0: x, 1: 1.0-x} for x in weights]\n",
    "#     },\n",
    "#     scoring='f1',\n",
    "#     cv=5\n",
    "# )\n",
    "# grid_result = gsc.fit(X_train[features][:1000], y_train[:1000])\n",
    "# print(\"Best parameters : %s\" % grid_result.best_params_)\n"
   ]
  },
  {
   "cell_type": "markdown",
   "metadata": {},
   "source": [
    "## Method 2: SMOTE "
   ]
  },
  {
   "cell_type": "code",
   "execution_count": 16,
   "metadata": {},
   "outputs": [],
   "source": [
    "# weights = np.linspace(0.005, 0.25, 5)\n",
    "\n",
    "# gsc = GridSearchCV(\n",
    "#     estimator=clf,\n",
    "#     param_grid={\n",
    "#         'smote__ratio': weights\n",
    "#     },\n",
    "#     scoring='f1',\n",
    "#     cv=3\n",
    "# )\n",
    "# grid_result = gsc.fit(X_train[features][:100000], y_train[:100000])\n",
    "\n",
    "# print(\"Best parameters : %s\" % grid_result.best_params_)"
   ]
  },
  {
   "cell_type": "code",
   "execution_count": 17,
   "metadata": {},
   "outputs": [],
   "source": [
    "def train_model():\n",
    "\n",
    "    clf = XGBClassifier(\n",
    "     n_estimators=500,\n",
    "     objective= 'binary:logistic',\n",
    "     nthread=3,\n",
    "     scale_pos_weight=1,\n",
    "     seed=410,\n",
    "     alpha=0.2,\n",
    "     colsample_bytree=0.8,\n",
    "     gamma=1,\n",
    "     learning_rate=0.1,\n",
    "     max_depth=5,\n",
    "     min_child_weight=5,\n",
    "     subsample=0.8,\n",
    "    smote__ratio=0.005,\n",
    "    class_weight={0: 0.05, 1: 0.95})\n",
    "    \n",
    "    model = clf.fit(X_train[features], y_train)\n",
    "#     save_model(model)\n",
    "    \n",
    "    ax = plot_importance(model)\n",
    "    fig = ax.figure\n",
    "    fig.set_size_inches(15, 9)\n",
    "    plt.show()\n",
    "\n",
    "    return model\n"
   ]
  },
  {
   "cell_type": "code",
   "execution_count": 18,
   "metadata": {},
   "outputs": [
    {
     "data": {
      "image/png": "[encoded data removed]",
      "text/plain": [
       "<Figure size 1080x648 with 1 Axes>"
      ]
     },
     "metadata": {
      "needs_background": "light"
     },
     "output_type": "display_data"
    }
   ],
   "source": [
    "model = train_model()"
   ]
  },
  {
   "cell_type": "code",
   "execution_count": 19,
   "metadata": {},
   "outputs": [],
   "source": [
    "# feature_importances = pd.DataFrame(model.feature_importances_,index = features,columns=['importance']).sort_values('importance',ascending=True)\n",
    "# feature_importances.plot(kind='barh',figsize=(10,20))"
   ]
  },
  {
   "cell_type": "code",
   "execution_count": 20,
   "metadata": {},
   "outputs": [],
   "source": [
    "def evaluate_model(X_check, y_check):\n",
    "    \n",
    "    \n",
    "    predictions = (model.predict_proba(X_check[features])[:,1]).tolist()\n",
    "    predicted_values = (model.predict(X_check[features])).tolist()\n",
    "    dataset = X_check.copy()\n",
    "    dataset['Probability'] = [round(i, 6) for i in predictions]\n",
    "    output = dataset[['User_id','Merchant_id','Date_received','Probability']]\n",
    "    \n",
    "    \n",
    "\n",
    "    roc_score = round(roc_auc_score(y_check, predictions), 3)\n",
    "\n",
    "    print('ROC AUC Score of Probailities:  '+ str(roc_score))\n",
    "    print('ROC AUC Curve')\n",
    "    fpr, tpr, _ = metrics.roc_curve(y_check, predictions)\n",
    "    auc = metrics.roc_auc_score(y_check, predictions)\n",
    "    plt.plot(fpr,tpr,label=\"auc=\"+str(auc))\n",
    "    plt.legend(loc=4)\n",
    "    plt.show()\n",
    "    \n",
    "    predicted_values = [1 if x>0.5 else 0 for x in predictions]\n",
    "    print('______________________________________________________________________')\n",
    "    print('\\n The classification report for the model:')\n",
    "    print(classification_report(y_check, predicted_values) )\n",
    "    \n",
    "    results = confusion_matrix(y_check, predicted_values) \n",
    "    print('______________________________________________________________________')\n",
    "    print('\\n The confusion matrix for the model:')\n",
    "    print(results)\n",
    "    print('______________________________________________________________________')\n",
    "    \n",
    "#     threshold = np.arange(0,1,0.001)\n",
    "#     precision = np.zeros(len(threshold))\n",
    "#     recall = np.zeros(len(threshold))\n",
    "#     for i in range(len(threshold)):\n",
    "#         y1 = np.zeros(len(y_check),dtype=int)\n",
    "#         y1 = np.where(predictions<=threshold[i],0,1)\n",
    "#         precision[i] = precision_score(y_check,y1)\n",
    "#         recall[i] = recall_score(y_check,y1)\n",
    "\n",
    "#     plt.figure(figsize=(12,9))\n",
    "#     sns.set_style('whitegrid')\n",
    "#     sns.lineplot(x=threshold,y=precision)\n",
    "#     sns.lineplot(x=threshold,y=recall)\n",
    "#     plt.xlabel('Threshold')\n",
    "#     plt.title('Recall and Precision Values Vs Threshhold values')\n",
    "#     plt.show()\n",
    "    \n",
    "    return output, dataset\n",
    "    "
   ]
  },
  {
   "cell_type": "markdown",
   "metadata": {},
   "source": [
    "## Validation Data Scores"
   ]
  },
  {
   "cell_type": "code",
   "execution_count": 21,
   "metadata": {},
   "outputs": [
    {
     "name": "stdout",
     "output_type": "stream",
     "text": [
      "ROC AUC Score of Probailities:  0.995\n",
      "ROC AUC Curve\n"
     ]
    },
    {
     "data": {
      "image/png": "[encoded data removed]",
      "text/plain": [
       "<Figure size 432x288 with 1 Axes>"
      ]
     },
     "metadata": {
      "needs_background": "light"
     },
     "output_type": "display_data"
    },
    {
     "name": "stdout",
     "output_type": "stream",
     "text": [
      "______________________________________________________________________\n",
      "\n",
      " The classification report for the model:\n",
      "              precision    recall  f1-score   support\n",
      "\n",
      "           0       0.99      0.99      0.99    141782\n",
      "           1       0.82      0.87      0.84      9257\n",
      "\n",
      "    accuracy                           0.98    151039\n",
      "   macro avg       0.91      0.93      0.92    151039\n",
      "weighted avg       0.98      0.98      0.98    151039\n",
      "\n",
      "______________________________________________________________________\n",
      "\n",
      " The confusion matrix for the model:\n",
      "[[139997   1785]\n",
      " [  1199   8058]]\n",
      "______________________________________________________________________\n"
     ]
    },
    {
     "data": {
      "text/html": [
       "<div>\n",
       "<style scoped>\n",
       "    .dataframe tbody tr th:only-of-type {\n",
       "        vertical-align: middle;\n",
       "    }\n",
       "\n",
       "    .dataframe tbody tr th {\n",
       "        vertical-align: top;\n",
       "    }\n",
       "\n",
       "    .dataframe thead th {\n",
       "        text-align: right;\n",
       "    }\n",
       "</style>\n",
       "<table border=\"1\" class=\"dataframe\">\n",
       "  <thead>\n",
       "    <tr style=\"text-align: right;\">\n",
       "      <th></th>\n",
       "      <th>User_id</th>\n",
       "      <th>Merchant_id</th>\n",
       "      <th>Date_received</th>\n",
       "      <th>Probability</th>\n",
       "    </tr>\n",
       "  </thead>\n",
       "  <tbody>\n",
       "    <tr>\n",
       "      <td>895604</td>\n",
       "      <td>6494150</td>\n",
       "      <td>8188</td>\n",
       "      <td>2016-03-07</td>\n",
       "      <td>0.000005</td>\n",
       "    </tr>\n",
       "    <tr>\n",
       "      <td>703564</td>\n",
       "      <td>5109336</td>\n",
       "      <td>450</td>\n",
       "      <td>2016-02-04</td>\n",
       "      <td>0.000002</td>\n",
       "    </tr>\n",
       "    <tr>\n",
       "      <td>370081</td>\n",
       "      <td>2693644</td>\n",
       "      <td>4660</td>\n",
       "      <td>2016-01-26</td>\n",
       "      <td>0.000002</td>\n",
       "    </tr>\n",
       "    <tr>\n",
       "      <td>800919</td>\n",
       "      <td>5811878</td>\n",
       "      <td>3381</td>\n",
       "      <td>2016-01-28</td>\n",
       "      <td>0.000002</td>\n",
       "    </tr>\n",
       "    <tr>\n",
       "      <td>457023</td>\n",
       "      <td>3320855</td>\n",
       "      <td>7422</td>\n",
       "      <td>2016-04-05</td>\n",
       "      <td>0.000001</td>\n",
       "    </tr>\n",
       "  </tbody>\n",
       "</table>\n",
       "</div>"
      ],
      "text/plain": [
       "        User_id  Merchant_id Date_received  Probability\n",
       "895604  6494150         8188    2016-03-07     0.000005\n",
       "703564  5109336          450    2016-02-04     0.000002\n",
       "370081  2693644         4660    2016-01-26     0.000002\n",
       "800919  5811878         3381    2016-01-28     0.000002\n",
       "457023  3320855         7422    2016-04-05     0.000001"
      ]
     },
     "execution_count": 21,
     "metadata": {},
     "output_type": "execute_result"
    }
   ],
   "source": [
    "val_output, val_data = evaluate_model(X_val, y_val)\n",
    "val_output.head()"
   ]
  },
  {
   "cell_type": "markdown",
   "metadata": {},
   "source": [
    "### Analysing Validation Data results"
   ]
  },
  {
   "cell_type": "code",
   "execution_count": 22,
   "metadata": {},
   "outputs": [
    {
     "data": {
      "text/plain": [
       "(148055, 86)"
      ]
     },
     "execution_count": 22,
     "metadata": {},
     "output_type": "execute_result"
    }
   ],
   "source": [
    "correct = val_data[((val_data['Target']==0)&(val_data['Probability']<0.5)) |\n",
    "                   ((val_data['Target']==1)&(val_data['Probability']>=0.5))]\n",
    "correct.shape"
   ]
  },
  {
   "cell_type": "code",
   "execution_count": 23,
   "metadata": {},
   "outputs": [
    {
     "data": {
      "text/html": [
       "<div>\n",
       "<style scoped>\n",
       "    .dataframe tbody tr th:only-of-type {\n",
       "        vertical-align: middle;\n",
       "    }\n",
       "\n",
       "    .dataframe tbody tr th {\n",
       "        vertical-align: top;\n",
       "    }\n",
       "\n",
       "    .dataframe thead th {\n",
       "        text-align: right;\n",
       "    }\n",
       "</style>\n",
       "<table border=\"1\" class=\"dataframe\">\n",
       "  <thead>\n",
       "    <tr style=\"text-align: right;\">\n",
       "      <th></th>\n",
       "      <th>FirstTimeUser</th>\n",
       "      <th>FirstTimeMerchant</th>\n",
       "      <th>FirstTimeMerchantUser</th>\n",
       "      <th>FirstTimeCouponUser</th>\n",
       "    </tr>\n",
       "  </thead>\n",
       "  <tbody>\n",
       "    <tr>\n",
       "      <td>count</td>\n",
       "      <td>148055.000000</td>\n",
       "      <td>148055.000000</td>\n",
       "      <td>148055.000000</td>\n",
       "      <td>148055.000000</td>\n",
       "    </tr>\n",
       "    <tr>\n",
       "      <td>mean</td>\n",
       "      <td>0.449846</td>\n",
       "      <td>0.993894</td>\n",
       "      <td>0.162852</td>\n",
       "      <td>0.050191</td>\n",
       "    </tr>\n",
       "    <tr>\n",
       "      <td>std</td>\n",
       "      <td>0.497480</td>\n",
       "      <td>0.077901</td>\n",
       "      <td>0.369232</td>\n",
       "      <td>0.218339</td>\n",
       "    </tr>\n",
       "    <tr>\n",
       "      <td>min</td>\n",
       "      <td>0.000000</td>\n",
       "      <td>0.000000</td>\n",
       "      <td>0.000000</td>\n",
       "      <td>0.000000</td>\n",
       "    </tr>\n",
       "    <tr>\n",
       "      <td>25%</td>\n",
       "      <td>0.000000</td>\n",
       "      <td>1.000000</td>\n",
       "      <td>0.000000</td>\n",
       "      <td>0.000000</td>\n",
       "    </tr>\n",
       "    <tr>\n",
       "      <td>50%</td>\n",
       "      <td>0.000000</td>\n",
       "      <td>1.000000</td>\n",
       "      <td>0.000000</td>\n",
       "      <td>0.000000</td>\n",
       "    </tr>\n",
       "    <tr>\n",
       "      <td>75%</td>\n",
       "      <td>1.000000</td>\n",
       "      <td>1.000000</td>\n",
       "      <td>0.000000</td>\n",
       "      <td>0.000000</td>\n",
       "    </tr>\n",
       "    <tr>\n",
       "      <td>max</td>\n",
       "      <td>1.000000</td>\n",
       "      <td>1.000000</td>\n",
       "      <td>1.000000</td>\n",
       "      <td>1.000000</td>\n",
       "    </tr>\n",
       "  </tbody>\n",
       "</table>\n",
       "</div>"
      ],
      "text/plain": [
       "       FirstTimeUser  FirstTimeMerchant  FirstTimeMerchantUser  \\\n",
       "count  148055.000000      148055.000000          148055.000000   \n",
       "mean        0.449846           0.993894               0.162852   \n",
       "std         0.497480           0.077901               0.369232   \n",
       "min         0.000000           0.000000               0.000000   \n",
       "25%         0.000000           1.000000               0.000000   \n",
       "50%         0.000000           1.000000               0.000000   \n",
       "75%         1.000000           1.000000               0.000000   \n",
       "max         1.000000           1.000000               1.000000   \n",
       "\n",
       "       FirstTimeCouponUser  \n",
       "count        148055.000000  \n",
       "mean              0.050191  \n",
       "std               0.218339  \n",
       "min               0.000000  \n",
       "25%               0.000000  \n",
       "50%               0.000000  \n",
       "75%               0.000000  \n",
       "max               1.000000  "
      ]
     },
     "execution_count": 23,
     "metadata": {},
     "output_type": "execute_result"
    }
   ],
   "source": [
    "correct[['FirstTimeUser','FirstTimeMerchant', 'FirstTimeMerchantUser',\n",
    "       'FirstTimeCouponUser']].describe()"
   ]
  },
  {
   "cell_type": "code",
   "execution_count": 24,
   "metadata": {},
   "outputs": [
    {
     "data": {
      "text/plain": [
       "(2984, 86)"
      ]
     },
     "execution_count": 24,
     "metadata": {},
     "output_type": "execute_result"
    }
   ],
   "source": [
    "incorrect = val_data[((val_data['Target']==0)&(val_data['Probability']>=0.5)) |\n",
    "                   ((val_data['Target']==1)&(val_data['Probability']<0.5))]\n",
    "incorrect.shape"
   ]
  },
  {
   "cell_type": "code",
   "execution_count": 25,
   "metadata": {},
   "outputs": [
    {
     "data": {
      "text/html": [
       "<div>\n",
       "<style scoped>\n",
       "    .dataframe tbody tr th:only-of-type {\n",
       "        vertical-align: middle;\n",
       "    }\n",
       "\n",
       "    .dataframe tbody tr th {\n",
       "        vertical-align: top;\n",
       "    }\n",
       "\n",
       "    .dataframe thead th {\n",
       "        text-align: right;\n",
       "    }\n",
       "</style>\n",
       "<table border=\"1\" class=\"dataframe\">\n",
       "  <thead>\n",
       "    <tr style=\"text-align: right;\">\n",
       "      <th></th>\n",
       "      <th>FirstTimeUser</th>\n",
       "      <th>FirstTimeMerchant</th>\n",
       "      <th>FirstTimeMerchantUser</th>\n",
       "      <th>FirstTimeCouponUser</th>\n",
       "    </tr>\n",
       "  </thead>\n",
       "  <tbody>\n",
       "    <tr>\n",
       "      <td>count</td>\n",
       "      <td>2984.000000</td>\n",
       "      <td>2984.000000</td>\n",
       "      <td>2984.000000</td>\n",
       "      <td>2984.000000</td>\n",
       "    </tr>\n",
       "    <tr>\n",
       "      <td>mean</td>\n",
       "      <td>0.730228</td>\n",
       "      <td>0.993298</td>\n",
       "      <td>0.547587</td>\n",
       "      <td>0.255027</td>\n",
       "    </tr>\n",
       "    <tr>\n",
       "      <td>std</td>\n",
       "      <td>0.443916</td>\n",
       "      <td>0.081607</td>\n",
       "      <td>0.497814</td>\n",
       "      <td>0.435949</td>\n",
       "    </tr>\n",
       "    <tr>\n",
       "      <td>min</td>\n",
       "      <td>0.000000</td>\n",
       "      <td>0.000000</td>\n",
       "      <td>0.000000</td>\n",
       "      <td>0.000000</td>\n",
       "    </tr>\n",
       "    <tr>\n",
       "      <td>25%</td>\n",
       "      <td>0.000000</td>\n",
       "      <td>1.000000</td>\n",
       "      <td>0.000000</td>\n",
       "      <td>0.000000</td>\n",
       "    </tr>\n",
       "    <tr>\n",
       "      <td>50%</td>\n",
       "      <td>1.000000</td>\n",
       "      <td>1.000000</td>\n",
       "      <td>1.000000</td>\n",
       "      <td>0.000000</td>\n",
       "    </tr>\n",
       "    <tr>\n",
       "      <td>75%</td>\n",
       "      <td>1.000000</td>\n",
       "      <td>1.000000</td>\n",
       "      <td>1.000000</td>\n",
       "      <td>1.000000</td>\n",
       "    </tr>\n",
       "    <tr>\n",
       "      <td>max</td>\n",
       "      <td>1.000000</td>\n",
       "      <td>1.000000</td>\n",
       "      <td>1.000000</td>\n",
       "      <td>1.000000</td>\n",
       "    </tr>\n",
       "  </tbody>\n",
       "</table>\n",
       "</div>"
      ],
      "text/plain": [
       "       FirstTimeUser  FirstTimeMerchant  FirstTimeMerchantUser  \\\n",
       "count    2984.000000        2984.000000            2984.000000   \n",
       "mean        0.730228           0.993298               0.547587   \n",
       "std         0.443916           0.081607               0.497814   \n",
       "min         0.000000           0.000000               0.000000   \n",
       "25%         0.000000           1.000000               0.000000   \n",
       "50%         1.000000           1.000000               1.000000   \n",
       "75%         1.000000           1.000000               1.000000   \n",
       "max         1.000000           1.000000               1.000000   \n",
       "\n",
       "       FirstTimeCouponUser  \n",
       "count          2984.000000  \n",
       "mean              0.255027  \n",
       "std               0.435949  \n",
       "min               0.000000  \n",
       "25%               0.000000  \n",
       "50%               0.000000  \n",
       "75%               1.000000  \n",
       "max               1.000000  "
      ]
     },
     "execution_count": 25,
     "metadata": {},
     "output_type": "execute_result"
    }
   ],
   "source": [
    "incorrect[['FirstTimeUser','FirstTimeMerchant', 'FirstTimeMerchantUser',\n",
    "       'FirstTimeCouponUser']].describe()"
   ]
  },
  {
   "cell_type": "code",
   "execution_count": 26,
   "metadata": {},
   "outputs": [
    {
     "data": {
      "text/plain": [
       "<matplotlib.axes._subplots.AxesSubplot at 0x1a296df050>"
      ]
     },
     "execution_count": 26,
     "metadata": {},
     "output_type": "execute_result"
    },
    {
     "data": {
      "image/png": "[encoded data removed]",
      "text/plain": [
       "<Figure size 432x288 with 1 Axes>"
      ]
     },
     "metadata": {
      "needs_background": "light"
     },
     "output_type": "display_data"
    }
   ],
   "source": [
    "firsttimeuser_1 = val_data[val_data['FirstTimeUser']==1]\n",
    "firsttimeuser_1['Predicted_values']=[1 if x>=0.5 else 0 for x in firsttimeuser_1['Probability']]\n",
    "firsttimeuser_1['Classification'] = [1 if x==y else 0 for x,y in \n",
    "                                     zip(firsttimeuser_1['Predicted_values'],firsttimeuser_1['Target'])]\n",
    "sns.countplot(firsttimeuser_1['Classification'])"
   ]
  },
  {
   "cell_type": "code",
   "execution_count": 27,
   "metadata": {},
   "outputs": [
    {
     "data": {
      "text/plain": [
       "<matplotlib.axes._subplots.AxesSubplot at 0x1a24d54c50>"
      ]
     },
     "execution_count": 27,
     "metadata": {},
     "output_type": "execute_result"
    },
    {
     "data": {
      "image/png": "[encoded data removed]",
      "text/plain": [
       "<Figure size 432x288 with 1 Axes>"
      ]
     },
     "metadata": {
      "needs_background": "light"
     },
     "output_type": "display_data"
    }
   ],
   "source": [
    "firsttimeuser_0 = val_data[val_data['FirstTimeUser']==0]\n",
    "firsttimeuser_0['Predicted_values']=[1 if x>=0.5 else 0 for x in firsttimeuser_0['Probability']]\n",
    "firsttimeuser_0['Classification'] = [1 if x==y else 0 for x,y in \n",
    "                                     zip(firsttimeuser_0['Predicted_values'],firsttimeuser_0['Target'])]\n",
    "sns.countplot(firsttimeuser_0['Classification'])"
   ]
  },
  {
   "cell_type": "code",
   "execution_count": 28,
   "metadata": {},
   "outputs": [
    {
     "data": {
      "image/png": "[encoded data removed]",
      "text/plain": [
       "<Figure size 1440x504 with 2 Axes>"
      ]
     },
     "metadata": {
      "needs_background": "light"
     },
     "output_type": "display_data"
    }
   ],
   "source": [
    "#First time user \n",
    "fig,(ax1,ax2) = plt.subplots(nrows=1,ncols=2,figsize=(20,7))\n",
    "plt.subplot(121)\n",
    "ax1 = sns.countplot(correct['FirstTimeUser'])\n",
    "ax1.set_xticklabels(ax1.get_xticklabels(),rotation=90)\n",
    "total = len(correct['FirstTimeUser'])\n",
    "for p in ax1.patches:\n",
    "        ax1.annotate('{:.1f}%'.format(100 * p.get_height()/total), (p.get_x()+0.1, p.get_height()+50))\n",
    "\n",
    "plt.xlabel('First Time User')\n",
    "plt.ylabel('Count')\n",
    "plt.title('Correctly Classified: First Time User Plot')\n",
    "\n",
    "plt.subplot(122)\n",
    "\n",
    "ax2 = sns.countplot(incorrect['FirstTimeUser'])\n",
    "ax2.set_xticklabels(ax2.get_xticklabels(),rotation=90)\n",
    "total = len(incorrect['FirstTimeUser'])\n",
    "for p in ax2.patches:\n",
    "        ax2.annotate('{:.1f}%'.format(100 * p.get_height()/total), (p.get_x()+0.1, p.get_height()+50))\n",
    "        \n",
    "plt.xlabel('First Time User')\n",
    "plt.ylabel('Count')\n",
    "plt.title('Incorrectly Classified: First Time User Plot')\n",
    "\n",
    "plt.show()"
   ]
  },
  {
   "cell_type": "code",
   "execution_count": 29,
   "metadata": {},
   "outputs": [
    {
     "data": {
      "text/plain": [
       "<matplotlib.axes._subplots.AxesSubplot at 0x1a2a6fcf10>"
      ]
     },
     "execution_count": 29,
     "metadata": {},
     "output_type": "execute_result"
    },
    {
     "data": {
      "image/png": "[encoded data removed]",
      "text/plain": [
       "<Figure size 432x288 with 1 Axes>"
      ]
     },
     "metadata": {
      "needs_background": "light"
     },
     "output_type": "display_data"
    }
   ],
   "source": [
    "firsttimemerchantuser_1 = val_data[val_data['FirstTimeMerchantUser']==1]\n",
    "firsttimemerchantuser_1['Predicted_values']=[1 if x>=0.5 else 0 for x in firsttimemerchantuser_1['Probability']]\n",
    "firsttimemerchantuser_1['Classification'] = [1 if x==y else 0 for x,y in \n",
    "                                     zip(firsttimemerchantuser_1['Predicted_values'],firsttimemerchantuser_1['Target'])]\n",
    "sns.countplot(firsttimemerchantuser_1['Classification'])"
   ]
  },
  {
   "cell_type": "code",
   "execution_count": 30,
   "metadata": {},
   "outputs": [
    {
     "data": {
      "text/plain": [
       "<matplotlib.axes._subplots.AxesSubplot at 0x1a23db1fd0>"
      ]
     },
     "execution_count": 30,
     "metadata": {},
     "output_type": "execute_result"
    },
    {
     "data": {
      "image/png": "[encoded data removed]",
      "text/plain": [
       "<Figure size 432x288 with 1 Axes>"
      ]
     },
     "metadata": {
      "needs_background": "light"
     },
     "output_type": "display_data"
    }
   ],
   "source": [
    "firsttimemerchantuser_0 = val_data[val_data['FirstTimeMerchantUser']==0]\n",
    "firsttimemerchantuser_0['Predicted_values']=[1 if x>=0.5 else 0 for x in firsttimemerchantuser_0['Probability']]\n",
    "firsttimemerchantuser_0['Classification'] = [1 if x==y else 0 for x,y in \n",
    "                                     zip(firsttimemerchantuser_0['Predicted_values'],firsttimemerchantuser_0['Target'])]\n",
    "sns.countplot(firsttimemerchantuser_0['Classification'])"
   ]
  },
  {
   "cell_type": "code",
   "execution_count": 31,
   "metadata": {},
   "outputs": [
    {
     "data": {
      "image/png": "[encoded data removed]",
      "text/plain": [
       "<Figure size 1440x504 with 2 Axes>"
      ]
     },
     "metadata": {
      "needs_background": "light"
     },
     "output_type": "display_data"
    }
   ],
   "source": [
    "#First time Merchant-User pair\n",
    "fig,(ax1,ax2) = plt.subplots(nrows=1,ncols=2,figsize=(20,7))\n",
    "plt.subplot(121)\n",
    "ax1 = sns.countplot(correct['FirstTimeMerchantUser'])\n",
    "ax1.set_xticklabels(ax1.get_xticklabels(),rotation=90)\n",
    "total = len(correct['FirstTimeMerchantUser'])\n",
    "for p in ax1.patches:\n",
    "        ax1.annotate('{:.1f}%'.format(100 * p.get_height()/total), (p.get_x()+0.1, p.get_height()+50))\n",
    "\n",
    "plt.xlabel('First Time Merchant-User pair')\n",
    "plt.ylabel('Count')\n",
    "plt.title('Correctly Classified: First Time Merchant-User pair Plot')\n",
    "\n",
    "plt.subplot(122)\n",
    "\n",
    "ax2 = sns.countplot(incorrect['FirstTimeMerchantUser'])\n",
    "ax2.set_xticklabels(ax2.get_xticklabels(),rotation=90)\n",
    "total = len(incorrect['FirstTimeMerchantUser'])\n",
    "for p in ax2.patches:\n",
    "        ax2.annotate('{:.1f}%'.format(100 * p.get_height()/total), (p.get_x()+0.1, p.get_height()+50))\n",
    "        \n",
    "plt.xlabel('First Time Merchant-User pair')\n",
    "plt.ylabel('Count')\n",
    "plt.title('Incorrectly Classified: First Time Merchant-User pair Plot')\n",
    "\n",
    "plt.show()"
   ]
  },
  {
   "cell_type": "code",
   "execution_count": 32,
   "metadata": {},
   "outputs": [
    {
     "data": {
      "image/png": "[encoded data removed]",
      "text/plain": [
       "<Figure size 1440x504 with 2 Axes>"
      ]
     },
     "metadata": {
      "needs_background": "light"
     },
     "output_type": "display_data"
    }
   ],
   "source": [
    "#Merchant-User ratio\n",
    "fig,(ax1,ax2) = plt.subplots(nrows=1,ncols=2,figsize=(20,7))\n",
    "plt.subplot(121)\n",
    "ax1 = sns.distplot(correct['User_Merchant_Ratio'],kde=False,bins=10)\n",
    "total = len(correct['User_Merchant_Ratio'])\n",
    "for p in ax1.patches:\n",
    "        ax1.annotate('{:.1f}%'.format(100 * p.get_height()/total), (p.get_x()+0.1, p.get_height()+50))\n",
    "\n",
    "plt.xlabel('Merchant-User ratio')\n",
    "plt.ylabel('Count')\n",
    "plt.title('Correctly Classified: FMerchant-User ratior Plot')\n",
    "\n",
    "plt.subplot(122)\n",
    "\n",
    "ax2 = sns.distplot(incorrect['User_Merchant_Ratio'],kde=False,bins=10)\n",
    "total = len(incorrect['User_Merchant_Ratio'])\n",
    "for p in ax2.patches:\n",
    "        ax2.annotate('{:.1f}%'.format(100 * p.get_height()/total), (p.get_x(), p.get_height()))\n",
    "        \n",
    "plt.xlabel('Merchant-User ratio')\n",
    "plt.ylabel('Count')\n",
    "plt.title('Incorrectly Classified: Merchant-User ratio Plot')\n",
    "\n",
    "plt.show()"
   ]
  },
  {
   "cell_type": "code",
   "execution_count": 33,
   "metadata": {},
   "outputs": [
    {
     "data": {
      "image/png": "[encoded data removed]",
      "text/plain": [
       "<Figure size 1440x504 with 2 Axes>"
      ]
     },
     "metadata": {
      "needs_background": "light"
     },
     "output_type": "display_data"
    }
   ],
   "source": [
    "#User Redeemed Buy ratio\n",
    "fig,(ax1,ax2) = plt.subplots(nrows=1,ncols=2,figsize=(20,7))\n",
    "plt.subplot(121)\n",
    "ax1 = sns.distplot(correct['User_Redeemed_Buy'],kde=False,bins=10)\n",
    "total = len(correct['User_Redeemed_Buy'])\n",
    "for p in ax1.patches:\n",
    "        ax1.annotate('{:.1f}%'.format(100 * p.get_height()/total), (p.get_x()+0.1, p.get_height()+50))\n",
    "\n",
    "plt.xlabel('User Redeemed Buy ratio')\n",
    "plt.ylabel('Count')\n",
    "plt.title('Correctly Classified: User Redeemed Buy ratio Plot')\n",
    "\n",
    "plt.subplot(122)\n",
    "\n",
    "ax2 = sns.distplot(incorrect['User_Redeemed_Buy'],kde=False,bins=10)\n",
    "total = len(incorrect['User_Redeemed_Buy'])\n",
    "for p in ax2.patches:\n",
    "        ax2.annotate('{:.1f}%'.format(100 * p.get_height()/total), (p.get_x(), p.get_height()))\n",
    "        \n",
    "plt.xlabel('User Redeemed Buy ratio')\n",
    "plt.ylabel('Count')\n",
    "plt.title('Incorrectly Classified: User Redeemed Buy ratio Plot')\n",
    "\n",
    "plt.show()"
   ]
  },
  {
   "cell_type": "code",
   "execution_count": 34,
   "metadata": {},
   "outputs": [
    {
     "data": {
      "image/png": "[encoded data removed]",
      "text/plain": [
       "<Figure size 1440x504 with 2 Axes>"
      ]
     },
     "metadata": {
      "needs_background": "light"
     },
     "output_type": "display_data"
    }
   ],
   "source": [
    "#User ratio\n",
    "fig,(ax1,ax2) = plt.subplots(nrows=1,ncols=2,figsize=(20,7))\n",
    "plt.subplot(121)\n",
    "ax1 = sns.distplot(correct['User_Ratio'],kde=False,bins=10)\n",
    "total = len(correct['User_Ratio'])\n",
    "for p in ax1.patches:\n",
    "        ax1.annotate('{:.1f}%'.format(100 * p.get_height()/total), (p.get_x()+0.1, p.get_height()+50))\n",
    "\n",
    "plt.xlabel('User ratio')\n",
    "plt.ylabel('Count')\n",
    "plt.title('Correctly Classified: User ratio Plot')\n",
    "\n",
    "plt.subplot(122)\n",
    "\n",
    "ax2 = sns.distplot(incorrect['User_Ratio'],kde=False,bins=10)\n",
    "total = len(incorrect['User_Ratio'])\n",
    "for p in ax2.patches:\n",
    "        ax2.annotate('{:.1f}%'.format(100 * p.get_height()/total), (p.get_x(), p.get_height()))\n",
    "        \n",
    "plt.xlabel('User ratio')\n",
    "plt.ylabel('Count')\n",
    "plt.title('Incorrectly Classified: User ratio Plot')\n",
    "\n",
    "plt.show()"
   ]
  },
  {
   "cell_type": "code",
   "execution_count": 35,
   "metadata": {},
   "outputs": [
    {
     "data": {
      "image/png": "[encoded data removed]",
      "text/plain": [
       "<Figure size 1440x504 with 2 Axes>"
      ]
     },
     "metadata": {
      "needs_background": "light"
     },
     "output_type": "display_data"
    }
   ],
   "source": [
    "#Coupon ratio\n",
    "fig,(ax1,ax2) = plt.subplots(nrows=1,ncols=2,figsize=(20,7))\n",
    "plt.subplot(121)\n",
    "ax1 = sns.distplot(correct['Coupon_Ratio'],kde=False,bins=10)\n",
    "total = len(correct['Coupon_Ratio'])\n",
    "for p in ax1.patches:\n",
    "        ax1.annotate('{:.1f}%'.format(100 * p.get_height()/total), (p.get_x()+0.1, p.get_height()+50))\n",
    "\n",
    "plt.xlabel('Coupon ratio')\n",
    "plt.ylabel('Count')\n",
    "plt.title('Correctly Classified: Coupon ratio Plot')\n",
    "\n",
    "plt.subplot(122)\n",
    "\n",
    "ax2 = sns.distplot(incorrect['Coupon_Ratio'],kde=False,bins=10)\n",
    "total = len(incorrect['Coupon_Ratio'])\n",
    "for p in ax2.patches:\n",
    "        ax2.annotate('{:.1f}%'.format(100 * p.get_height()/total), (p.get_x(), p.get_height()))\n",
    "        \n",
    "plt.xlabel('Coupon ratio')\n",
    "plt.ylabel('Count')\n",
    "plt.title('Incorrectly Classified: Coupon ratio Plot')\n",
    "\n",
    "plt.show()"
   ]
  },
  {
   "cell_type": "markdown",
   "metadata": {},
   "source": [
    "## Test Data Scores"
   ]
  },
  {
   "cell_type": "code",
   "execution_count": 36,
   "metadata": {},
   "outputs": [
    {
     "name": "stdout",
     "output_type": "stream",
     "text": [
      "ROC AUC Score of Probailities:  0.996\n",
      "ROC AUC Curve\n"
     ]
    },
    {
     "data": {
      "image/png": "[encoded data removed]",
      "text/plain": [
       "<Figure size 432x288 with 1 Axes>"
      ]
     },
     "metadata": {
      "needs_background": "light"
     },
     "output_type": "display_data"
    },
    {
     "name": "stdout",
     "output_type": "stream",
     "text": [
      "______________________________________________________________________\n",
      "\n",
      " The classification report for the model:\n",
      "              precision    recall  f1-score   support\n",
      "\n",
      "           0       0.99      0.99      0.99    142942\n",
      "           1       0.83      0.87      0.85      9367\n",
      "\n",
      "    accuracy                           0.98    152309\n",
      "   macro avg       0.91      0.93      0.92    152309\n",
      "weighted avg       0.98      0.98      0.98    152309\n",
      "\n",
      "______________________________________________________________________\n",
      "\n",
      " The confusion matrix for the model:\n",
      "[[141264   1678]\n",
      " [  1234   8133]]\n",
      "______________________________________________________________________\n"
     ]
    },
    {
     "data": {
      "text/html": [
       "<div>\n",
       "<style scoped>\n",
       "    .dataframe tbody tr th:only-of-type {\n",
       "        vertical-align: middle;\n",
       "    }\n",
       "\n",
       "    .dataframe tbody tr th {\n",
       "        vertical-align: top;\n",
       "    }\n",
       "\n",
       "    .dataframe thead th {\n",
       "        text-align: right;\n",
       "    }\n",
       "</style>\n",
       "<table border=\"1\" class=\"dataframe\">\n",
       "  <thead>\n",
       "    <tr style=\"text-align: right;\">\n",
       "      <th></th>\n",
       "      <th>User_id</th>\n",
       "      <th>Merchant_id</th>\n",
       "      <th>Date_received</th>\n",
       "      <th>Probability</th>\n",
       "    </tr>\n",
       "  </thead>\n",
       "  <tbody>\n",
       "    <tr>\n",
       "      <td>715091</td>\n",
       "      <td>5193451</td>\n",
       "      <td>7555</td>\n",
       "      <td>2016-04-16</td>\n",
       "      <td>0.000002</td>\n",
       "    </tr>\n",
       "    <tr>\n",
       "      <td>936313</td>\n",
       "      <td>6788567</td>\n",
       "      <td>3527</td>\n",
       "      <td>2016-03-22</td>\n",
       "      <td>0.000003</td>\n",
       "    </tr>\n",
       "    <tr>\n",
       "      <td>935861</td>\n",
       "      <td>6785479</td>\n",
       "      <td>450</td>\n",
       "      <td>2016-02-02</td>\n",
       "      <td>0.000002</td>\n",
       "    </tr>\n",
       "    <tr>\n",
       "      <td>73628</td>\n",
       "      <td>536792</td>\n",
       "      <td>1375</td>\n",
       "      <td>2016-05-13</td>\n",
       "      <td>0.000002</td>\n",
       "    </tr>\n",
       "    <tr>\n",
       "      <td>810548</td>\n",
       "      <td>5882244</td>\n",
       "      <td>4860</td>\n",
       "      <td>2016-02-07</td>\n",
       "      <td>0.000002</td>\n",
       "    </tr>\n",
       "  </tbody>\n",
       "</table>\n",
       "</div>"
      ],
      "text/plain": [
       "        User_id  Merchant_id Date_received  Probability\n",
       "715091  5193451         7555    2016-04-16     0.000002\n",
       "936313  6788567         3527    2016-03-22     0.000003\n",
       "935861  6785479          450    2016-02-02     0.000002\n",
       "73628    536792         1375    2016-05-13     0.000002\n",
       "810548  5882244         4860    2016-02-07     0.000002"
      ]
     },
     "execution_count": 36,
     "metadata": {},
     "output_type": "execute_result"
    }
   ],
   "source": [
    "test_output, test_data = evaluate_model(X_test, y_test)\n",
    "test_output.head()"
   ]
  },
  {
   "cell_type": "code",
   "execution_count": 45,
   "metadata": {},
   "outputs": [
    {
     "data": {
      "text/html": [
       "<div>\n",
       "<style scoped>\n",
       "    .dataframe tbody tr th:only-of-type {\n",
       "        vertical-align: middle;\n",
       "    }\n",
       "\n",
       "    .dataframe tbody tr th {\n",
       "        vertical-align: top;\n",
       "    }\n",
       "\n",
       "    .dataframe thead th {\n",
       "        text-align: right;\n",
       "    }\n",
       "</style>\n",
       "<table border=\"1\" class=\"dataframe\">\n",
       "  <thead>\n",
       "    <tr style=\"text-align: right;\">\n",
       "      <th></th>\n",
       "      <th>train-auc-mean</th>\n",
       "      <th>train-auc-std</th>\n",
       "      <th>test-auc-mean</th>\n",
       "      <th>test-auc-std</th>\n",
       "    </tr>\n",
       "  </thead>\n",
       "  <tbody>\n",
       "    <tr>\n",
       "      <td>0</td>\n",
       "      <td>0.978774</td>\n",
       "      <td>0.000159</td>\n",
       "      <td>0.978501</td>\n",
       "      <td>0.000371</td>\n",
       "    </tr>\n",
       "    <tr>\n",
       "      <td>1</td>\n",
       "      <td>0.991780</td>\n",
       "      <td>0.000104</td>\n",
       "      <td>0.991603</td>\n",
       "      <td>0.000266</td>\n",
       "    </tr>\n",
       "    <tr>\n",
       "      <td>2</td>\n",
       "      <td>0.992683</td>\n",
       "      <td>0.000832</td>\n",
       "      <td>0.992521</td>\n",
       "      <td>0.000757</td>\n",
       "    </tr>\n",
       "    <tr>\n",
       "      <td>3</td>\n",
       "      <td>0.993258</td>\n",
       "      <td>0.000332</td>\n",
       "      <td>0.993130</td>\n",
       "      <td>0.000298</td>\n",
       "    </tr>\n",
       "    <tr>\n",
       "      <td>4</td>\n",
       "      <td>0.993543</td>\n",
       "      <td>0.000163</td>\n",
       "      <td>0.993427</td>\n",
       "      <td>0.000196</td>\n",
       "    </tr>\n",
       "    <tr>\n",
       "      <td>5</td>\n",
       "      <td>0.993627</td>\n",
       "      <td>0.000106</td>\n",
       "      <td>0.993521</td>\n",
       "      <td>0.000265</td>\n",
       "    </tr>\n",
       "    <tr>\n",
       "      <td>6</td>\n",
       "      <td>0.993743</td>\n",
       "      <td>0.000058</td>\n",
       "      <td>0.993628</td>\n",
       "      <td>0.000229</td>\n",
       "    </tr>\n",
       "    <tr>\n",
       "      <td>7</td>\n",
       "      <td>0.993734</td>\n",
       "      <td>0.000085</td>\n",
       "      <td>0.993616</td>\n",
       "      <td>0.000276</td>\n",
       "    </tr>\n",
       "    <tr>\n",
       "      <td>8</td>\n",
       "      <td>0.993790</td>\n",
       "      <td>0.000093</td>\n",
       "      <td>0.993671</td>\n",
       "      <td>0.000262</td>\n",
       "    </tr>\n",
       "    <tr>\n",
       "      <td>9</td>\n",
       "      <td>0.993812</td>\n",
       "      <td>0.000072</td>\n",
       "      <td>0.993691</td>\n",
       "      <td>0.000215</td>\n",
       "    </tr>\n",
       "    <tr>\n",
       "      <td>10</td>\n",
       "      <td>0.993884</td>\n",
       "      <td>0.000043</td>\n",
       "      <td>0.993755</td>\n",
       "      <td>0.000192</td>\n",
       "    </tr>\n",
       "    <tr>\n",
       "      <td>11</td>\n",
       "      <td>0.993919</td>\n",
       "      <td>0.000069</td>\n",
       "      <td>0.993789</td>\n",
       "      <td>0.000158</td>\n",
       "    </tr>\n",
       "    <tr>\n",
       "      <td>12</td>\n",
       "      <td>0.993975</td>\n",
       "      <td>0.000047</td>\n",
       "      <td>0.993845</td>\n",
       "      <td>0.000167</td>\n",
       "    </tr>\n",
       "    <tr>\n",
       "      <td>13</td>\n",
       "      <td>0.994005</td>\n",
       "      <td>0.000024</td>\n",
       "      <td>0.993869</td>\n",
       "      <td>0.000170</td>\n",
       "    </tr>\n",
       "    <tr>\n",
       "      <td>14</td>\n",
       "      <td>0.994012</td>\n",
       "      <td>0.000024</td>\n",
       "      <td>0.993876</td>\n",
       "      <td>0.000188</td>\n",
       "    </tr>\n",
       "    <tr>\n",
       "      <td>15</td>\n",
       "      <td>0.994016</td>\n",
       "      <td>0.000042</td>\n",
       "      <td>0.993872</td>\n",
       "      <td>0.000208</td>\n",
       "    </tr>\n",
       "    <tr>\n",
       "      <td>16</td>\n",
       "      <td>0.994067</td>\n",
       "      <td>0.000020</td>\n",
       "      <td>0.993927</td>\n",
       "      <td>0.000188</td>\n",
       "    </tr>\n",
       "    <tr>\n",
       "      <td>17</td>\n",
       "      <td>0.994095</td>\n",
       "      <td>0.000036</td>\n",
       "      <td>0.993953</td>\n",
       "      <td>0.000176</td>\n",
       "    </tr>\n",
       "    <tr>\n",
       "      <td>18</td>\n",
       "      <td>0.994128</td>\n",
       "      <td>0.000030</td>\n",
       "      <td>0.993986</td>\n",
       "      <td>0.000172</td>\n",
       "    </tr>\n",
       "    <tr>\n",
       "      <td>19</td>\n",
       "      <td>0.994152</td>\n",
       "      <td>0.000049</td>\n",
       "      <td>0.994008</td>\n",
       "      <td>0.000172</td>\n",
       "    </tr>\n",
       "    <tr>\n",
       "      <td>20</td>\n",
       "      <td>0.994169</td>\n",
       "      <td>0.000063</td>\n",
       "      <td>0.994017</td>\n",
       "      <td>0.000182</td>\n",
       "    </tr>\n",
       "    <tr>\n",
       "      <td>21</td>\n",
       "      <td>0.994203</td>\n",
       "      <td>0.000047</td>\n",
       "      <td>0.994054</td>\n",
       "      <td>0.000176</td>\n",
       "    </tr>\n",
       "    <tr>\n",
       "      <td>22</td>\n",
       "      <td>0.994231</td>\n",
       "      <td>0.000038</td>\n",
       "      <td>0.994082</td>\n",
       "      <td>0.000171</td>\n",
       "    </tr>\n",
       "    <tr>\n",
       "      <td>23</td>\n",
       "      <td>0.994255</td>\n",
       "      <td>0.000031</td>\n",
       "      <td>0.994105</td>\n",
       "      <td>0.000168</td>\n",
       "    </tr>\n",
       "    <tr>\n",
       "      <td>24</td>\n",
       "      <td>0.994275</td>\n",
       "      <td>0.000027</td>\n",
       "      <td>0.994122</td>\n",
       "      <td>0.000166</td>\n",
       "    </tr>\n",
       "    <tr>\n",
       "      <td>25</td>\n",
       "      <td>0.994300</td>\n",
       "      <td>0.000020</td>\n",
       "      <td>0.994148</td>\n",
       "      <td>0.000163</td>\n",
       "    </tr>\n",
       "    <tr>\n",
       "      <td>26</td>\n",
       "      <td>0.994312</td>\n",
       "      <td>0.000023</td>\n",
       "      <td>0.994156</td>\n",
       "      <td>0.000164</td>\n",
       "    </tr>\n",
       "    <tr>\n",
       "      <td>27</td>\n",
       "      <td>0.994328</td>\n",
       "      <td>0.000023</td>\n",
       "      <td>0.994172</td>\n",
       "      <td>0.000160</td>\n",
       "    </tr>\n",
       "    <tr>\n",
       "      <td>28</td>\n",
       "      <td>0.994350</td>\n",
       "      <td>0.000020</td>\n",
       "      <td>0.994195</td>\n",
       "      <td>0.000156</td>\n",
       "    </tr>\n",
       "    <tr>\n",
       "      <td>29</td>\n",
       "      <td>0.994373</td>\n",
       "      <td>0.000020</td>\n",
       "      <td>0.994218</td>\n",
       "      <td>0.000156</td>\n",
       "    </tr>\n",
       "    <tr>\n",
       "      <td>30</td>\n",
       "      <td>0.994389</td>\n",
       "      <td>0.000017</td>\n",
       "      <td>0.994236</td>\n",
       "      <td>0.000159</td>\n",
       "    </tr>\n",
       "    <tr>\n",
       "      <td>31</td>\n",
       "      <td>0.994409</td>\n",
       "      <td>0.000019</td>\n",
       "      <td>0.994253</td>\n",
       "      <td>0.000160</td>\n",
       "    </tr>\n",
       "    <tr>\n",
       "      <td>32</td>\n",
       "      <td>0.994423</td>\n",
       "      <td>0.000021</td>\n",
       "      <td>0.994263</td>\n",
       "      <td>0.000159</td>\n",
       "    </tr>\n",
       "    <tr>\n",
       "      <td>33</td>\n",
       "      <td>0.994432</td>\n",
       "      <td>0.000018</td>\n",
       "      <td>0.994269</td>\n",
       "      <td>0.000163</td>\n",
       "    </tr>\n",
       "    <tr>\n",
       "      <td>34</td>\n",
       "      <td>0.994450</td>\n",
       "      <td>0.000020</td>\n",
       "      <td>0.994286</td>\n",
       "      <td>0.000162</td>\n",
       "    </tr>\n",
       "    <tr>\n",
       "      <td>35</td>\n",
       "      <td>0.994472</td>\n",
       "      <td>0.000017</td>\n",
       "      <td>0.994307</td>\n",
       "      <td>0.000163</td>\n",
       "    </tr>\n",
       "    <tr>\n",
       "      <td>36</td>\n",
       "      <td>0.994490</td>\n",
       "      <td>0.000016</td>\n",
       "      <td>0.994323</td>\n",
       "      <td>0.000164</td>\n",
       "    </tr>\n",
       "    <tr>\n",
       "      <td>37</td>\n",
       "      <td>0.994511</td>\n",
       "      <td>0.000020</td>\n",
       "      <td>0.994343</td>\n",
       "      <td>0.000157</td>\n",
       "    </tr>\n",
       "    <tr>\n",
       "      <td>38</td>\n",
       "      <td>0.994531</td>\n",
       "      <td>0.000018</td>\n",
       "      <td>0.994360</td>\n",
       "      <td>0.000158</td>\n",
       "    </tr>\n",
       "    <tr>\n",
       "      <td>39</td>\n",
       "      <td>0.994546</td>\n",
       "      <td>0.000015</td>\n",
       "      <td>0.994373</td>\n",
       "      <td>0.000156</td>\n",
       "    </tr>\n",
       "    <tr>\n",
       "      <td>40</td>\n",
       "      <td>0.994560</td>\n",
       "      <td>0.000018</td>\n",
       "      <td>0.994384</td>\n",
       "      <td>0.000154</td>\n",
       "    </tr>\n",
       "    <tr>\n",
       "      <td>41</td>\n",
       "      <td>0.994580</td>\n",
       "      <td>0.000019</td>\n",
       "      <td>0.994402</td>\n",
       "      <td>0.000152</td>\n",
       "    </tr>\n",
       "    <tr>\n",
       "      <td>42</td>\n",
       "      <td>0.994594</td>\n",
       "      <td>0.000017</td>\n",
       "      <td>0.994413</td>\n",
       "      <td>0.000155</td>\n",
       "    </tr>\n",
       "    <tr>\n",
       "      <td>43</td>\n",
       "      <td>0.994611</td>\n",
       "      <td>0.000017</td>\n",
       "      <td>0.994426</td>\n",
       "      <td>0.000154</td>\n",
       "    </tr>\n",
       "    <tr>\n",
       "      <td>44</td>\n",
       "      <td>0.994626</td>\n",
       "      <td>0.000014</td>\n",
       "      <td>0.994438</td>\n",
       "      <td>0.000155</td>\n",
       "    </tr>\n",
       "    <tr>\n",
       "      <td>45</td>\n",
       "      <td>0.994641</td>\n",
       "      <td>0.000013</td>\n",
       "      <td>0.994451</td>\n",
       "      <td>0.000153</td>\n",
       "    </tr>\n",
       "    <tr>\n",
       "      <td>46</td>\n",
       "      <td>0.994653</td>\n",
       "      <td>0.000014</td>\n",
       "      <td>0.994459</td>\n",
       "      <td>0.000153</td>\n",
       "    </tr>\n",
       "    <tr>\n",
       "      <td>47</td>\n",
       "      <td>0.994669</td>\n",
       "      <td>0.000016</td>\n",
       "      <td>0.994472</td>\n",
       "      <td>0.000150</td>\n",
       "    </tr>\n",
       "    <tr>\n",
       "      <td>48</td>\n",
       "      <td>0.994683</td>\n",
       "      <td>0.000016</td>\n",
       "      <td>0.994484</td>\n",
       "      <td>0.000149</td>\n",
       "    </tr>\n",
       "    <tr>\n",
       "      <td>49</td>\n",
       "      <td>0.994695</td>\n",
       "      <td>0.000018</td>\n",
       "      <td>0.994491</td>\n",
       "      <td>0.000148</td>\n",
       "    </tr>\n",
       "  </tbody>\n",
       "</table>\n",
       "</div>"
      ],
      "text/plain": [
       "    train-auc-mean  train-auc-std  test-auc-mean  test-auc-std\n",
       "0         0.978774       0.000159       0.978501      0.000371\n",
       "1         0.991780       0.000104       0.991603      0.000266\n",
       "2         0.992683       0.000832       0.992521      0.000757\n",
       "3         0.993258       0.000332       0.993130      0.000298\n",
       "4         0.993543       0.000163       0.993427      0.000196\n",
       "5         0.993627       0.000106       0.993521      0.000265\n",
       "6         0.993743       0.000058       0.993628      0.000229\n",
       "7         0.993734       0.000085       0.993616      0.000276\n",
       "8         0.993790       0.000093       0.993671      0.000262\n",
       "9         0.993812       0.000072       0.993691      0.000215\n",
       "10        0.993884       0.000043       0.993755      0.000192\n",
       "11        0.993919       0.000069       0.993789      0.000158\n",
       "12        0.993975       0.000047       0.993845      0.000167\n",
       "13        0.994005       0.000024       0.993869      0.000170\n",
       "14        0.994012       0.000024       0.993876      0.000188\n",
       "15        0.994016       0.000042       0.993872      0.000208\n",
       "16        0.994067       0.000020       0.993927      0.000188\n",
       "17        0.994095       0.000036       0.993953      0.000176\n",
       "18        0.994128       0.000030       0.993986      0.000172\n",
       "19        0.994152       0.000049       0.994008      0.000172\n",
       "20        0.994169       0.000063       0.994017      0.000182\n",
       "21        0.994203       0.000047       0.994054      0.000176\n",
       "22        0.994231       0.000038       0.994082      0.000171\n",
       "23        0.994255       0.000031       0.994105      0.000168\n",
       "24        0.994275       0.000027       0.994122      0.000166\n",
       "25        0.994300       0.000020       0.994148      0.000163\n",
       "26        0.994312       0.000023       0.994156      0.000164\n",
       "27        0.994328       0.000023       0.994172      0.000160\n",
       "28        0.994350       0.000020       0.994195      0.000156\n",
       "29        0.994373       0.000020       0.994218      0.000156\n",
       "30        0.994389       0.000017       0.994236      0.000159\n",
       "31        0.994409       0.000019       0.994253      0.000160\n",
       "32        0.994423       0.000021       0.994263      0.000159\n",
       "33        0.994432       0.000018       0.994269      0.000163\n",
       "34        0.994450       0.000020       0.994286      0.000162\n",
       "35        0.994472       0.000017       0.994307      0.000163\n",
       "36        0.994490       0.000016       0.994323      0.000164\n",
       "37        0.994511       0.000020       0.994343      0.000157\n",
       "38        0.994531       0.000018       0.994360      0.000158\n",
       "39        0.994546       0.000015       0.994373      0.000156\n",
       "40        0.994560       0.000018       0.994384      0.000154\n",
       "41        0.994580       0.000019       0.994402      0.000152\n",
       "42        0.994594       0.000017       0.994413      0.000155\n",
       "43        0.994611       0.000017       0.994426      0.000154\n",
       "44        0.994626       0.000014       0.994438      0.000155\n",
       "45        0.994641       0.000013       0.994451      0.000153\n",
       "46        0.994653       0.000014       0.994459      0.000153\n",
       "47        0.994669       0.000016       0.994472      0.000150\n",
       "48        0.994683       0.000016       0.994484      0.000149\n",
       "49        0.994695       0.000018       0.994491      0.000148"
      ]
     },
     "execution_count": 45,
     "metadata": {},
     "output_type": "execute_result"
    }
   ],
   "source": [
    "def training2(train_dataset):\n",
    "    y = y_train\n",
    "    X = X_train[features]\n",
    "    data_dmatrix = xgb.DMatrix(data=X, label=y)\n",
    "    params =  {'objective':'binary:logistic','colsample_bytree':0.8,'learning_rate':0.1,\n",
    "                'max_depth':5,'n_estimators':500,'scale_pos_weight':1,'colsample_bytree':0.8,\n",
    "               'min_child_weight':5,' subsample':0.8, 'alpha':0.2, 'gamma':1}\n",
    "    \n",
    "\n",
    "    cv_results = xgb.cv(dtrain=data_dmatrix, params=params, nfold=5,num_boost_round=50,\n",
    "                        early_stopping_rounds=10, as_pandas=True, seed=410,  metrics='auc') \n",
    "    return cv_results\n",
    "    \n",
    "training2(train_dataset)"
   ]
  },
  {
   "cell_type": "markdown",
   "metadata": {},
   "source": [
    "# Test Dataset and Submission File"
   ]
  },
  {
   "cell_type": "code",
   "execution_count": 46,
   "metadata": {},
   "outputs": [
    {
     "data": {
      "text/html": [
       "<div>\n",
       "<style scoped>\n",
       "    .dataframe tbody tr th:only-of-type {\n",
       "        vertical-align: middle;\n",
       "    }\n",
       "\n",
       "    .dataframe tbody tr th {\n",
       "        vertical-align: top;\n",
       "    }\n",
       "\n",
       "    .dataframe thead th {\n",
       "        text-align: right;\n",
       "    }\n",
       "</style>\n",
       "<table border=\"1\" class=\"dataframe\">\n",
       "  <thead>\n",
       "    <tr style=\"text-align: right;\">\n",
       "      <th></th>\n",
       "      <th>User_id</th>\n",
       "      <th>Merchant_id</th>\n",
       "      <th>Date_received</th>\n",
       "      <th>Probability</th>\n",
       "    </tr>\n",
       "  </thead>\n",
       "  <tbody>\n",
       "    <tr>\n",
       "      <td>0</td>\n",
       "      <td>4129537</td>\n",
       "      <td>450</td>\n",
       "      <td>2016-07-12</td>\n",
       "      <td>0.000002</td>\n",
       "    </tr>\n",
       "    <tr>\n",
       "      <td>1</td>\n",
       "      <td>6949378</td>\n",
       "      <td>1300</td>\n",
       "      <td>2016-07-06</td>\n",
       "      <td>0.000025</td>\n",
       "    </tr>\n",
       "    <tr>\n",
       "      <td>2</td>\n",
       "      <td>2166529</td>\n",
       "      <td>7113</td>\n",
       "      <td>2016-07-27</td>\n",
       "      <td>0.000002</td>\n",
       "    </tr>\n",
       "    <tr>\n",
       "      <td>3</td>\n",
       "      <td>2166529</td>\n",
       "      <td>7113</td>\n",
       "      <td>2016-07-27</td>\n",
       "      <td>0.000001</td>\n",
       "    </tr>\n",
       "    <tr>\n",
       "      <td>4</td>\n",
       "      <td>6172162</td>\n",
       "      <td>7605</td>\n",
       "      <td>2016-07-08</td>\n",
       "      <td>0.000009</td>\n",
       "    </tr>\n",
       "    <tr>\n",
       "      <td>...</td>\n",
       "      <td>...</td>\n",
       "      <td>...</td>\n",
       "      <td>...</td>\n",
       "      <td>...</td>\n",
       "    </tr>\n",
       "    <tr>\n",
       "      <td>113635</td>\n",
       "      <td>5828093</td>\n",
       "      <td>5717</td>\n",
       "      <td>2016-07-16</td>\n",
       "      <td>0.000005</td>\n",
       "    </tr>\n",
       "    <tr>\n",
       "      <td>113636</td>\n",
       "      <td>6626813</td>\n",
       "      <td>1699</td>\n",
       "      <td>2016-07-07</td>\n",
       "      <td>0.000012</td>\n",
       "    </tr>\n",
       "    <tr>\n",
       "      <td>113637</td>\n",
       "      <td>6626813</td>\n",
       "      <td>7321</td>\n",
       "      <td>2016-07-12</td>\n",
       "      <td>0.000015</td>\n",
       "    </tr>\n",
       "    <tr>\n",
       "      <td>113638</td>\n",
       "      <td>4547069</td>\n",
       "      <td>760</td>\n",
       "      <td>2016-07-17</td>\n",
       "      <td>0.000012</td>\n",
       "    </tr>\n",
       "    <tr>\n",
       "      <td>113639</td>\n",
       "      <td>6675965</td>\n",
       "      <td>7487</td>\n",
       "      <td>2016-07-28</td>\n",
       "      <td>0.000003</td>\n",
       "    </tr>\n",
       "  </tbody>\n",
       "</table>\n",
       "<p>113640 rows × 4 columns</p>\n",
       "</div>"
      ],
      "text/plain": [
       "        User_id  Merchant_id Date_received  Probability\n",
       "0       4129537          450    2016-07-12     0.000002\n",
       "1       6949378         1300    2016-07-06     0.000025\n",
       "2       2166529         7113    2016-07-27     0.000002\n",
       "3       2166529         7113    2016-07-27     0.000001\n",
       "4       6172162         7605    2016-07-08     0.000009\n",
       "...         ...          ...           ...          ...\n",
       "113635  5828093         5717    2016-07-16     0.000005\n",
       "113636  6626813         1699    2016-07-07     0.000012\n",
       "113637  6626813         7321    2016-07-12     0.000015\n",
       "113638  4547069          760    2016-07-17     0.000012\n",
       "113639  6675965         7487    2016-07-28     0.000003\n",
       "\n",
       "[113640 rows x 4 columns]"
      ]
     },
     "execution_count": 46,
     "metadata": {},
     "output_type": "execute_result"
    }
   ],
   "source": [
    "predictions = (model.predict_proba(test_dataset[features])[:,1]).tolist()\n",
    "predicted_values = (model.predict(test_dataset[features])).tolist()\n",
    "test = pd.merge(test_dataset[features], test_dataset[['User_id','Merchant_id','Date_received']]\n",
    "                , how='left',left_index=True,right_index=True)\n",
    "test['Probability'] = [round(i, 6) for i in predictions]\n",
    "output = test[['User_id','Merchant_id','Date_received','Probability']]\n",
    "\n",
    "output"
   ]
  },
  {
   "cell_type": "code",
   "execution_count": 39,
   "metadata": {},
   "outputs": [],
   "source": [
    "output.to_csv('OutputFile.csv',index=False) \n"
   ]
  },
  {
   "cell_type": "markdown",
   "metadata": {},
   "source": [
    "# Execution Time of this notebook"
   ]
  },
  {
   "cell_type": "code",
   "execution_count": 40,
   "metadata": {},
   "outputs": [
    {
     "name": "stdout",
     "output_type": "stream",
     "text": [
      "Time taken for the execution of this notebook: 8.33 mins\n"
     ]
    }
   ],
   "source": [
    "later = time.time()\n",
    "difference = later - now\n",
    "print('Time taken for the execution of this notebook: '+str(round(difference/60,2))+' mins')"
   ]
  },
  {
   "cell_type": "code",
   "execution_count": null,
   "metadata": {},
   "outputs": [],
   "source": []
  },
  {
   "cell_type": "code",
   "execution_count": null,
   "metadata": {},
   "outputs": [],
   "source": []
  }
 ],
 "metadata": {
  "kernelspec": {
   "display_name": "Python 3",
   "language": "python",
   "name": "python3"
  },
  "language_info": {
   "codemirror_mode": {
    "name": "ipython",
    "version": 3
   },
   "file_extension": ".py",
   "mimetype": "text/x-python",
   "name": "python",
   "nbconvert_exporter": "python",
   "pygments_lexer": "ipython3",
   "version": "3.7.4"
  }
 },
 "nbformat": 4,
 "nbformat_minor": 2
}
