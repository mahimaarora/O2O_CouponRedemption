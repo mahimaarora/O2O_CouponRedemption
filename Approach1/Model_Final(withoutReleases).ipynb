{
 "cells": [
  {
   "cell_type": "code",
   "execution_count": 1,
   "metadata": {},
   "outputs": [],
   "source": [
    "import time\n",
    "now = time.time()"
   ]
  },
  {
   "cell_type": "code",
   "execution_count": 2,
   "metadata": {},
   "outputs": [],
   "source": [
    "%matplotlib inline\n",
    "import pandas as pd\n",
    "import numpy as np\n",
    "import matplotlib.pyplot as plt\n",
    "import seaborn as sns\n",
    "import warnings\n",
    "warnings.filterwarnings(\"ignore\")"
   ]
  },
  {
   "cell_type": "code",
   "execution_count": 3,
   "metadata": {},
   "outputs": [
    {
     "data": {
      "text/plain": [
       "(1015389, 93)"
      ]
     },
     "execution_count": 3,
     "metadata": {},
     "output_type": "execute_result"
    }
   ],
   "source": [
    "train_dataset = pd.read_csv('DataSets/DatasetsCreated/train_dataset.csv')\n",
    "train_dataset.shape"
   ]
  },
  {
   "cell_type": "code",
   "execution_count": 4,
   "metadata": {},
   "outputs": [
    {
     "data": {
      "text/plain": [
       "(113640, 90)"
      ]
     },
     "execution_count": 4,
     "metadata": {},
     "output_type": "execute_result"
    }
   ],
   "source": [
    "test_dataset = pd.read_csv('DataSets/DatasetsCreated/test_dataset.csv')\n",
    "test_dataset.shape"
   ]
  },
  {
   "cell_type": "code",
   "execution_count": 5,
   "metadata": {},
   "outputs": [
    {
     "data": {
      "text/html": [
       "<div>\n",
       "<style scoped>\n",
       "    .dataframe tbody tr th:only-of-type {\n",
       "        vertical-align: middle;\n",
       "    }\n",
       "\n",
       "    .dataframe tbody tr th {\n",
       "        vertical-align: top;\n",
       "    }\n",
       "\n",
       "    .dataframe thead th {\n",
       "        text-align: right;\n",
       "    }\n",
       "</style>\n",
       "<table border=\"1\" class=\"dataframe\">\n",
       "  <thead>\n",
       "    <tr style=\"text-align: right;\">\n",
       "      <th></th>\n",
       "      <th>User_id</th>\n",
       "      <th>Merchant_id</th>\n",
       "      <th>Coupon_id</th>\n",
       "      <th>Discount_rate</th>\n",
       "      <th>Distance</th>\n",
       "      <th>Date_received</th>\n",
       "      <th>Count</th>\n",
       "      <th>DateTrack</th>\n",
       "      <th>DayNum</th>\n",
       "      <th>Discount</th>\n",
       "      <th>...</th>\n",
       "      <th>UserRedeemRecent</th>\n",
       "      <th>MerchantBuysRecent</th>\n",
       "      <th>MerchantReleasesRecent</th>\n",
       "      <th>MerchantRedeemRecent</th>\n",
       "      <th>CouponReleasesRecent</th>\n",
       "      <th>CouponRedeemRecent</th>\n",
       "      <th>MerchantUserReleasesRecent</th>\n",
       "      <th>MerchantUserRedeemRecent</th>\n",
       "      <th>NewMerchantOldUser</th>\n",
       "      <th>OldMerchantNewUser</th>\n",
       "    </tr>\n",
       "  </thead>\n",
       "  <tbody>\n",
       "    <tr>\n",
       "      <td>0</td>\n",
       "      <td>4129537</td>\n",
       "      <td>450</td>\n",
       "      <td>9983.0</td>\n",
       "      <td>[30, 5, 0.833]</td>\n",
       "      <td>1</td>\n",
       "      <td>2016-07-12</td>\n",
       "      <td>NaN</td>\n",
       "      <td>2016-07-12</td>\n",
       "      <td>194</td>\n",
       "      <td>30:5</td>\n",
       "      <td>...</td>\n",
       "      <td>0</td>\n",
       "      <td>3</td>\n",
       "      <td>0</td>\n",
       "      <td>3</td>\n",
       "      <td>0</td>\n",
       "      <td>0</td>\n",
       "      <td>0</td>\n",
       "      <td>0</td>\n",
       "      <td>1</td>\n",
       "      <td>0</td>\n",
       "    </tr>\n",
       "    <tr>\n",
       "      <td>1</td>\n",
       "      <td>6949378</td>\n",
       "      <td>1300</td>\n",
       "      <td>3429.0</td>\n",
       "      <td>[30, 5, 0.833]</td>\n",
       "      <td>2</td>\n",
       "      <td>2016-07-06</td>\n",
       "      <td>NaN</td>\n",
       "      <td>2016-07-06</td>\n",
       "      <td>188</td>\n",
       "      <td>30:5</td>\n",
       "      <td>...</td>\n",
       "      <td>0</td>\n",
       "      <td>6</td>\n",
       "      <td>0</td>\n",
       "      <td>0</td>\n",
       "      <td>0</td>\n",
       "      <td>0</td>\n",
       "      <td>1</td>\n",
       "      <td>0</td>\n",
       "      <td>0</td>\n",
       "      <td>0</td>\n",
       "    </tr>\n",
       "    <tr>\n",
       "      <td>2</td>\n",
       "      <td>2166529</td>\n",
       "      <td>7113</td>\n",
       "      <td>6928.0</td>\n",
       "      <td>[200, 20, 0.9]</td>\n",
       "      <td>5</td>\n",
       "      <td>2016-07-27</td>\n",
       "      <td>NaN</td>\n",
       "      <td>2016-07-27</td>\n",
       "      <td>209</td>\n",
       "      <td>200:20</td>\n",
       "      <td>...</td>\n",
       "      <td>0</td>\n",
       "      <td>0</td>\n",
       "      <td>0</td>\n",
       "      <td>0</td>\n",
       "      <td>0</td>\n",
       "      <td>0</td>\n",
       "      <td>1</td>\n",
       "      <td>0</td>\n",
       "      <td>0</td>\n",
       "      <td>0</td>\n",
       "    </tr>\n",
       "    <tr>\n",
       "      <td>3</td>\n",
       "      <td>2166529</td>\n",
       "      <td>7113</td>\n",
       "      <td>1808.0</td>\n",
       "      <td>[100, 10, 0.9]</td>\n",
       "      <td>5</td>\n",
       "      <td>2016-07-27</td>\n",
       "      <td>NaN</td>\n",
       "      <td>2016-07-27</td>\n",
       "      <td>209</td>\n",
       "      <td>100:10</td>\n",
       "      <td>...</td>\n",
       "      <td>0</td>\n",
       "      <td>0</td>\n",
       "      <td>0</td>\n",
       "      <td>0</td>\n",
       "      <td>0</td>\n",
       "      <td>0</td>\n",
       "      <td>1</td>\n",
       "      <td>0</td>\n",
       "      <td>0</td>\n",
       "      <td>0</td>\n",
       "    </tr>\n",
       "    <tr>\n",
       "      <td>4</td>\n",
       "      <td>6172162</td>\n",
       "      <td>7605</td>\n",
       "      <td>6500.0</td>\n",
       "      <td>[30, 1, 0.967]</td>\n",
       "      <td>2</td>\n",
       "      <td>2016-07-08</td>\n",
       "      <td>NaN</td>\n",
       "      <td>2016-07-08</td>\n",
       "      <td>190</td>\n",
       "      <td>30:1</td>\n",
       "      <td>...</td>\n",
       "      <td>0</td>\n",
       "      <td>7</td>\n",
       "      <td>0</td>\n",
       "      <td>2</td>\n",
       "      <td>0</td>\n",
       "      <td>1</td>\n",
       "      <td>1</td>\n",
       "      <td>0</td>\n",
       "      <td>0</td>\n",
       "      <td>0</td>\n",
       "    </tr>\n",
       "  </tbody>\n",
       "</table>\n",
       "<p>5 rows × 90 columns</p>\n",
       "</div>"
      ],
      "text/plain": [
       "   User_id  Merchant_id  Coupon_id   Discount_rate  Distance Date_received  \\\n",
       "0  4129537          450     9983.0  [30, 5, 0.833]         1    2016-07-12   \n",
       "1  6949378         1300     3429.0  [30, 5, 0.833]         2    2016-07-06   \n",
       "2  2166529         7113     6928.0  [200, 20, 0.9]         5    2016-07-27   \n",
       "3  2166529         7113     1808.0  [100, 10, 0.9]         5    2016-07-27   \n",
       "4  6172162         7605     6500.0  [30, 1, 0.967]         2    2016-07-08   \n",
       "\n",
       "   Count   DateTrack  DayNum Discount  ...  UserRedeemRecent  \\\n",
       "0    NaN  2016-07-12     194     30:5  ...                 0   \n",
       "1    NaN  2016-07-06     188     30:5  ...                 0   \n",
       "2    NaN  2016-07-27     209   200:20  ...                 0   \n",
       "3    NaN  2016-07-27     209   100:10  ...                 0   \n",
       "4    NaN  2016-07-08     190     30:1  ...                 0   \n",
       "\n",
       "   MerchantBuysRecent  MerchantReleasesRecent  MerchantRedeemRecent  \\\n",
       "0                   3                       0                     3   \n",
       "1                   6                       0                     0   \n",
       "2                   0                       0                     0   \n",
       "3                   0                       0                     0   \n",
       "4                   7                       0                     2   \n",
       "\n",
       "   CouponReleasesRecent  CouponRedeemRecent  MerchantUserReleasesRecent  \\\n",
       "0                     0                   0                           0   \n",
       "1                     0                   0                           1   \n",
       "2                     0                   0                           1   \n",
       "3                     0                   0                           1   \n",
       "4                     0                   1                           1   \n",
       "\n",
       "   MerchantUserRedeemRecent  NewMerchantOldUser  OldMerchantNewUser  \n",
       "0                         0                   1                   0  \n",
       "1                         0                   0                   0  \n",
       "2                         0                   0                   0  \n",
       "3                         0                   0                   0  \n",
       "4                         0                   0                   0  \n",
       "\n",
       "[5 rows x 90 columns]"
      ]
     },
     "execution_count": 5,
     "metadata": {},
     "output_type": "execute_result"
    }
   ],
   "source": [
    "test_dataset = test_dataset.replace([np.inf, -np.inf], 0)\n",
    "test_dataset.head()"
   ]
  },
  {
   "cell_type": "markdown",
   "metadata": {},
   "source": [
    "## Categorical Data"
   ]
  },
  {
   "cell_type": "code",
   "execution_count": 6,
   "metadata": {},
   "outputs": [],
   "source": [
    "# categorical_features = ['Tag', 'Purchaser', 'Merchant_Popular']\n",
    "# for feature in categorical_features:\n",
    "#     train_dataset[feature] = pd.Categorical(train_dataset[feature])\n",
    "\n",
    "# One Hot Encoding\n",
    "# train_dataset = pd.concat([train_dataset,pd.get_dummies(train_dataset['Tag'], prefix='Tag',prefix_sep='_', drop_first=True,dummy_na=False)],axis=1)\n",
    "# train_dataset = pd.concat([train_dataset,pd.get_dummies(train_dataset['DayOfWeek'], prefix='DayOfWeek',prefix_sep='_', drop_first=True,dummy_na=False)],axis=1)\n"
   ]
  },
  {
   "cell_type": "code",
   "execution_count": 7,
   "metadata": {},
   "outputs": [
    {
     "data": {
      "text/plain": [
       "Index(['User_id', 'Merchant_id', 'Coupon_id', 'Discount_rate', 'Distance',\n",
       "       'Date_received', 'Date', 'Count', 'DateTrack', 'DayNum', 'Discount',\n",
       "       'Original_price', 'Discounted_price', 'Rate', 'Tag', 'User_Released',\n",
       "       'User_Redeemed', 'User_Ratio', 'User_Buys', 'Purchaser',\n",
       "       'UserMerchantCount', 'DayList', 'UserReleaseList', 'UserRedeemList',\n",
       "       'User_Redeemed_Buy', 'Merchant_Redeemed', 'Merchant_Ratio',\n",
       "       'Merchant_AvgDistance', 'Merchant_Popular', 'Merchant_AvgRate',\n",
       "       'AvgDailyUsers', 'MerchantBuyList', 'MerchantReleaseList',\n",
       "       'MerchantRedeemList', 'UniqueUsersCount', 'Merchant_Buys',\n",
       "       'Merchant_Redeemed_Buy', 'Coupon_Released', 'Coupon_Redeemed',\n",
       "       'Coupon_Ratio', 'Duration', 'CouponRedeemList', 'CouponReleaseList',\n",
       "       'FirstReleaseDate', 'ReleasesCount', 'ImpDay', 'Weekend', 'DayOfWeek',\n",
       "       'UniqueReleasesCount', 'Merchant_User_Visit', 'Coupon_User_Visit',\n",
       "       'MerchantUserReleaseList', 'MerchantUserRedeemList', 'UserReleasesTime',\n",
       "       'UserRedeemTime', 'UserBuysTime', 'UserRedeemedBuyRatioTime',\n",
       "       'UserRatioTime', 'LastUserVisit', 'MerchantReleasesTime',\n",
       "       'MerchantRedeemTime', 'MerchantBuysTime',\n",
       "       'MerchantRedeemedBuyRatioTime', 'MerchantRatioTime',\n",
       "       'LastMerchantVisit', 'LastMerchantRedemption', 'LastMerchantUserVisit',\n",
       "       'CouponReleasesTime', 'CouponRedeemTime', 'CouponRatioTime',\n",
       "       'CouponDurationTime', 'MerchantUserReleasesTime',\n",
       "       'MerchantUserRedeemTime', 'MerchantUserRatioTime',\n",
       "       'LastCouponUserVisit', 'FirstTimeUser', 'FirstTimeMerchant',\n",
       "       'FirstTimeMerchantUser', 'FirstTimeCouponUser', 'UserBuysRecent',\n",
       "       'UserReleasesRecent', 'UserRedeemRecent', 'MerchantBuysRecent',\n",
       "       'MerchantReleasesRecent', 'MerchantRedeemRecent',\n",
       "       'CouponReleasesRecent', 'CouponRedeemRecent',\n",
       "       'MerchantUserReleasesRecent', 'MerchantUserRedeemRecent',\n",
       "       'NewMerchantOldUser', 'OldMerchantNewUser', 'RedemptionDuration',\n",
       "       'Target'],\n",
       "      dtype='object')"
      ]
     },
     "execution_count": 7,
     "metadata": {},
     "output_type": "execute_result"
    }
   ],
   "source": [
    "train_dataset.columns[:100]"
   ]
  },
  {
   "cell_type": "markdown",
   "metadata": {},
   "source": [
    "## Final Features"
   ]
  },
  {
   "cell_type": "code",
   "execution_count": 8,
   "metadata": {},
   "outputs": [
    {
     "name": "stdout",
     "output_type": "stream",
     "text": [
      "Features to be included:45\n",
      "['MerchantUserRatioTime', 'UserReleasesTime', 'MerchantUserRedeemTime', 'MerchantBuysTime', 'NewMerchantOldUser', 'MerchantRedeemTime', 'CouponRedeemTime', 'UserRatioTime', 'MerchantUserReleasesRecent', 'UserBuysRecent', 'FirstTimeMerchantUser', 'UserReleasesRecent', 'UserRedeemRecent', 'Discounted_price', 'Original_price', 'MerchantRatioTime', 'CouponRatioTime', 'OldMerchantNewUser', 'CouponReleasesRecent', 'Tag', 'LastCouponUserVisit', 'UserRedeemTime', 'UserRedeemedBuyRatioTime', 'LastMerchantRedemption', 'FirstTimeCouponUser', 'MerchantUserRedeemRecent', 'CouponRedeemRecent', 'MerchantReleasesTime', 'Distance', 'CouponDurationTime', 'CouponReleasesTime', 'Weekend', 'UserMerchantCount', 'UserBuysTime', 'MerchantRedeemRecent', 'MerchantRedeemedBuyRatioTime', 'Rate', 'LastMerchantUserVisit', 'MerchantUserReleasesTime', 'LastMerchantVisit', 'FirstTimeUser', 'MerchantBuysRecent', 'LastUserVisit', 'FirstTimeMerchant', 'MerchantReleasesRecent']\n"
     ]
    }
   ],
   "source": [
    "remove_columns = ['User_id', 'Merchant_id', 'Coupon_id', 'Discount_rate','Discount','Date_received',\n",
    "                  'Date','Count','RedemptionDuration','DayList','DateTrack','DayNum','First_day',\n",
    "                  'MerchantBuyList', 'Merchant_User_Visit', 'MerchantRedeemList','MerchantReleaseList',\n",
    "                  'User_Coupon_Redeemed', 'User_Coupon_Ratio','User_discount_Ratio','Discounted_Redeemed',\n",
    "                  'Coupon_User_Visit','UserReleaseList','UserRedeemList','CouponRedeemList','CouponReleaseList',\n",
    "                 'MerchantUserReleaseList','MerchantUserRedeemList','FirstReleaseDate','UsersRecentMerchants',\n",
    "                  'User_Merchant_Ratio', 'Visits', 'Duration', 'Merchant_AvgRate','Merchant_AvgDistance'\n",
    "                 ,'UniqueUsersCount','AvgDailyUsers','UniqueReleasesCount','ReleasesCount']\n",
    "unimportant_features = ['DayOfWeek','ImpDay','Merchant_Popular','Purchaser']\n",
    "non_time_based = ['User_Redeemed_Buy','User_Buys','User_Redeemed','User_Released','User_Ratio',\n",
    "                 'Merchant_Ratio','Merchant_Redeemed','Merchant_Buys', 'Merchant_Redeemed_Buy',\n",
    "                 'Coupon_Redeemed','Coupon_Released','Coupon_Ratio']\n",
    "features = list(set(train_dataset.columns)-set(remove_columns)-set(['Target'])-set(unimportant_features)-set(non_time_based))\n",
    "print('Features to be included:'+str(len(features)))                  \n",
    "print(features)"
   ]
  },
  {
   "cell_type": "markdown",
   "metadata": {},
   "source": [
    "## Positive and Negative classes distribution"
   ]
  },
  {
   "cell_type": "code",
   "execution_count": 9,
   "metadata": {},
   "outputs": [
    {
     "name": "stdout",
     "output_type": "stream",
     "text": [
      "0    953236\n",
      "1     62153\n",
      "Name: Target, dtype: int64\n"
     ]
    },
    {
     "data": {
      "image/png": "[encoded data removed]",
      "text/plain": [
       "<Figure size 432x288 with 1 Axes>"
      ]
     },
     "metadata": {
      "needs_background": "light"
     },
     "output_type": "display_data"
    }
   ],
   "source": [
    "ax = sns.countplot(x='Target', data=train_dataset)\n",
    "print(train_dataset['Target'].value_counts())"
   ]
  },
  {
   "cell_type": "markdown",
   "metadata": {},
   "source": [
    "# Model"
   ]
  },
  {
   "cell_type": "code",
   "execution_count": 10,
   "metadata": {},
   "outputs": [],
   "source": [
    "from sklearn.ensemble import RandomForestClassifier\n",
    "from sklearn.metrics import roc_auc_score\n",
    "from sklearn.preprocessing import MinMaxScaler\n",
    "from sklearn.model_selection import train_test_split\n",
    "from sklearn.metrics import classification_report \n",
    "from sklearn.metrics import confusion_matrix\n",
    "from sklearn import metrics\n",
    "from xgboost import XGBClassifier\n",
    "from xgboost import plot_importance\n",
    "from matplotlib import pyplot\n",
    "from sklearn.model_selection import KFold\n",
    "import xgboost as xgb\n",
    "from sklearn.metrics import precision_score,recall_score\n",
    "from sklearn.model_selection import GridSearchCV\n",
    "# from imblearn.over_sampling import SMOTE"
   ]
  },
  {
   "cell_type": "code",
   "execution_count": 11,
   "metadata": {},
   "outputs": [],
   "source": [
    "def save_model(model):\n",
    "    #saving model\n",
    "    from sklearn.externals import joblib \n",
    "\n",
    "    # Save the model as a pickle in a file \n",
    "    joblib.dump(model, 'Model/xgboost.pkl') \n",
    "\n",
    "    # Load the model from the file \n",
    "    clf_saved= joblib.load('Model/xgboost.pkl')  \n"
   ]
  },
  {
   "cell_type": "code",
   "execution_count": 12,
   "metadata": {},
   "outputs": [],
   "source": [
    "# y = list(train_dataset['Target'])\n",
    "# X = train_dataset\n",
    "# X_train, X_test, y_train, y_test = train_test_split(X, y, test_size=0.15, random_state=100)\n",
    "# X_train, X_val, y_train, y_val= train_test_split(X_train, y_train, test_size=0.175)"
   ]
  },
  {
   "cell_type": "code",
   "execution_count": 13,
   "metadata": {},
   "outputs": [],
   "source": [
    "X_train = train_dataset[train_dataset['DayNum']<=120]\n",
    "y_train = X_train['Target']\n",
    "\n",
    "X_val = train_dataset[(train_dataset['DayNum']>120)&(train_dataset['DayNum']<=150)]\n",
    "y_val = X_val['Target']\n",
    "\n",
    "X_test = train_dataset[train_dataset['DayNum']>150]\n",
    "y_test = X_test['Target']"
   ]
  },
  {
   "cell_type": "markdown",
   "metadata": {},
   "source": [
    "### XGBoost"
   ]
  },
  {
   "cell_type": "code",
   "execution_count": 14,
   "metadata": {},
   "outputs": [],
   "source": [
    "def train_model():\n",
    "\n",
    "    clf = XGBClassifier(\n",
    "     n_estimators=500,\n",
    "     objective= 'binary:logistic',\n",
    "     nthread=3,\n",
    "     scale_pos_weight=1,\n",
    "     seed=410,\n",
    "     alpha=0.2,\n",
    "     colsample_bytree=0.8,\n",
    "     gamma=1,\n",
    "     learning_rate=0.1,\n",
    "     max_depth=5,\n",
    "     min_child_weight=5,\n",
    "     subsample=0.8,\n",
    "    smote__ratio=0.005,\n",
    "    class_weight={0: 0.05, 1: 0.95})\n",
    "    \n",
    "    model = clf.fit(X_train[features], y_train)\n",
    "#     save_model(model)\n",
    "    \n",
    "    ax = plot_importance(model)\n",
    "    fig = ax.figure\n",
    "    fig.set_size_inches(15, 9)\n",
    "    plt.show()\n",
    "\n",
    "    return model\n"
   ]
  },
  {
   "cell_type": "code",
   "execution_count": 15,
   "metadata": {},
   "outputs": [
    {
     "data": {
      "image/png": "[encoded data removed]",
      "text/plain": [
       "<Figure size 1080x648 with 1 Axes>"
      ]
     },
     "metadata": {
      "needs_background": "light"
     },
     "output_type": "display_data"
    }
   ],
   "source": [
    "model = train_model()"
   ]
  },
  {
   "cell_type": "code",
   "execution_count": 16,
   "metadata": {},
   "outputs": [],
   "source": [
    "# feature_importances = pd.DataFrame(model.feature_importances_,index = features,columns=['importance']).sort_values('importance',ascending=True)\n",
    "# feature_importances.plot(kind='barh',figsize=(10,20))"
   ]
  },
  {
   "cell_type": "code",
   "execution_count": 17,
   "metadata": {},
   "outputs": [],
   "source": [
    "def evaluate_model(X_check, y_check):\n",
    "    \n",
    "    \n",
    "    predictions = (model.predict_proba(X_check[features])[:,1]).tolist()\n",
    "    predicted_values = (model.predict(X_check[features])).tolist()\n",
    "    dataset = X_check.copy()\n",
    "    dataset['Probability'] = [round(i, 6) for i in predictions]\n",
    "    output = dataset[['User_id','Merchant_id','Date_received','Probability']]\n",
    "    \n",
    "    \n",
    "\n",
    "    roc_score = round(roc_auc_score(y_check, predictions), 3)\n",
    "\n",
    "    print('ROC AUC Score of Probailities:  '+ str(roc_score))\n",
    "    print('ROC AUC Curve')\n",
    "    fpr, tpr, _ = metrics.roc_curve(y_check, predictions)\n",
    "    auc = metrics.roc_auc_score(y_check, predictions)\n",
    "    plt.plot(fpr,tpr,label=\"auc=\"+str(auc))\n",
    "    plt.legend(loc=4)\n",
    "    plt.show()\n",
    "    \n",
    "    \n",
    "    predicted_values = [1 if x>0.5 else 0 for x in predictions]\n",
    "    #print('AUC score of Predicted Values')\n",
    "    #print(round(roc_auc_score(y_check, predicted_values), 3))\n",
    "    print('______________________________________________________________________')\n",
    "    print('\\n The classification report for the model:')\n",
    "    print(classification_report(y_check, predicted_values) )\n",
    "    \n",
    "    results = confusion_matrix(y_check, predicted_values) \n",
    "    print('______________________________________________________________________')\n",
    "    print('\\n The confusion matrix for the model:')\n",
    "    print(results)\n",
    "    print('______________________________________________________________________')\n",
    "    \n",
    "#     threshold = np.arange(0,1,0.001)\n",
    "#     precision = np.zeros(len(threshold))\n",
    "#     recall = np.zeros(len(threshold))\n",
    "#     for i in range(len(threshold)):\n",
    "#         y1 = np.zeros(len(y_check),dtype=int)\n",
    "#         y1 = np.where(predictions<=threshold[i],0,1)\n",
    "#         precision[i] = precision_score(y_check,y1)\n",
    "#         recall[i] = recall_score(y_check,y1)\n",
    "\n",
    "#     plt.figure(figsize=(12,9))\n",
    "#     sns.set_style('whitegrid')\n",
    "#     sns.lineplot(x=threshold,y=precision)\n",
    "#     sns.lineplot(x=threshold,y=recall)\n",
    "#     plt.xlabel('Threshold')\n",
    "#     plt.title('Recall and Precision Values Vs Threshhold values')\n",
    "#     plt.show()\n",
    "    \n",
    "    return output, dataset\n",
    "    "
   ]
  },
  {
   "cell_type": "markdown",
   "metadata": {},
   "source": [
    "## Validation Data Scores"
   ]
  },
  {
   "cell_type": "code",
   "execution_count": 18,
   "metadata": {},
   "outputs": [
    {
     "name": "stdout",
     "output_type": "stream",
     "text": [
      "ROC AUC Score of Probailities:  0.994\n",
      "ROC AUC Curve\n"
     ]
    },
    {
     "data": {
      "image/png": "[encoded data removed]",
      "text/plain": [
       "<Figure size 432x288 with 1 Axes>"
      ]
     },
     "metadata": {
      "needs_background": "light"
     },
     "output_type": "display_data"
    },
    {
     "name": "stdout",
     "output_type": "stream",
     "text": [
      "______________________________________________________________________\n",
      "\n",
      " The classification report for the model:\n",
      "              precision    recall  f1-score   support\n",
      "\n",
      "           0       1.00      0.98      0.99    184858\n",
      "           1       0.80      0.95      0.87     17191\n",
      "\n",
      "    accuracy                           0.98    202049\n",
      "   macro avg       0.90      0.96      0.93    202049\n",
      "weighted avg       0.98      0.98      0.98    202049\n",
      "\n",
      "______________________________________________________________________\n",
      "\n",
      " The confusion matrix for the model:\n",
      "[[180829   4029]\n",
      " [   884  16307]]\n",
      "______________________________________________________________________\n"
     ]
    },
    {
     "data": {
      "text/html": [
       "<div>\n",
       "<style scoped>\n",
       "    .dataframe tbody tr th:only-of-type {\n",
       "        vertical-align: middle;\n",
       "    }\n",
       "\n",
       "    .dataframe tbody tr th {\n",
       "        vertical-align: top;\n",
       "    }\n",
       "\n",
       "    .dataframe thead th {\n",
       "        text-align: right;\n",
       "    }\n",
       "</style>\n",
       "<table border=\"1\" class=\"dataframe\">\n",
       "  <thead>\n",
       "    <tr style=\"text-align: right;\">\n",
       "      <th></th>\n",
       "      <th>User_id</th>\n",
       "      <th>Merchant_id</th>\n",
       "      <th>Date_received</th>\n",
       "      <th>Probability</th>\n",
       "    </tr>\n",
       "  </thead>\n",
       "  <tbody>\n",
       "    <tr>\n",
       "      <td>16</td>\n",
       "      <td>165</td>\n",
       "      <td>4195</td>\n",
       "      <td>2016-05-25</td>\n",
       "      <td>0.000001</td>\n",
       "    </tr>\n",
       "    <tr>\n",
       "      <td>17</td>\n",
       "      <td>166</td>\n",
       "      <td>484</td>\n",
       "      <td>2016-05-25</td>\n",
       "      <td>0.000001</td>\n",
       "    </tr>\n",
       "    <tr>\n",
       "      <td>21</td>\n",
       "      <td>215</td>\n",
       "      <td>129</td>\n",
       "      <td>2016-05-24</td>\n",
       "      <td>0.000002</td>\n",
       "    </tr>\n",
       "    <tr>\n",
       "      <td>25</td>\n",
       "      <td>236</td>\n",
       "      <td>4663</td>\n",
       "      <td>2016-05-28</td>\n",
       "      <td>0.000000</td>\n",
       "    </tr>\n",
       "    <tr>\n",
       "      <td>31</td>\n",
       "      <td>285</td>\n",
       "      <td>450</td>\n",
       "      <td>2016-05-01</td>\n",
       "      <td>0.000000</td>\n",
       "    </tr>\n",
       "  </tbody>\n",
       "</table>\n",
       "</div>"
      ],
      "text/plain": [
       "    User_id  Merchant_id Date_received  Probability\n",
       "16      165         4195    2016-05-25     0.000001\n",
       "17      166          484    2016-05-25     0.000001\n",
       "21      215          129    2016-05-24     0.000002\n",
       "25      236         4663    2016-05-28     0.000000\n",
       "31      285          450    2016-05-01     0.000000"
      ]
     },
     "execution_count": 18,
     "metadata": {},
     "output_type": "execute_result"
    }
   ],
   "source": [
    "val_output, val_data = evaluate_model(X_val, y_val)\n",
    "val_output.head()"
   ]
  },
  {
   "cell_type": "markdown",
   "metadata": {},
   "source": [
    "## Test Data Scores"
   ]
  },
  {
   "cell_type": "code",
   "execution_count": 19,
   "metadata": {},
   "outputs": [
    {
     "name": "stdout",
     "output_type": "stream",
     "text": [
      "ROC AUC Score of Probailities:  0.995\n",
      "ROC AUC Curve\n"
     ]
    },
    {
     "data": {
      "image/png": "[encoded data removed]",
      "text/plain": [
       "<Figure size 432x288 with 1 Axes>"
      ]
     },
     "metadata": {
      "needs_background": "light"
     },
     "output_type": "display_data"
    },
    {
     "name": "stdout",
     "output_type": "stream",
     "text": [
      "______________________________________________________________________\n",
      "\n",
      " The classification report for the model:\n",
      "              precision    recall  f1-score   support\n",
      "\n",
      "           0       0.99      0.98      0.99     97492\n",
      "           1       0.86      0.94      0.90     12444\n",
      "\n",
      "    accuracy                           0.98    109936\n",
      "   macro avg       0.93      0.96      0.94    109936\n",
      "weighted avg       0.98      0.98      0.98    109936\n",
      "\n",
      "______________________________________________________________________\n",
      "\n",
      " The confusion matrix for the model:\n",
      "[[95574  1918]\n",
      " [  720 11724]]\n",
      "______________________________________________________________________\n"
     ]
    },
    {
     "data": {
      "text/html": [
       "<div>\n",
       "<style scoped>\n",
       "    .dataframe tbody tr th:only-of-type {\n",
       "        vertical-align: middle;\n",
       "    }\n",
       "\n",
       "    .dataframe tbody tr th {\n",
       "        vertical-align: top;\n",
       "    }\n",
       "\n",
       "    .dataframe thead th {\n",
       "        text-align: right;\n",
       "    }\n",
       "</style>\n",
       "<table border=\"1\" class=\"dataframe\">\n",
       "  <thead>\n",
       "    <tr style=\"text-align: right;\">\n",
       "      <th></th>\n",
       "      <th>User_id</th>\n",
       "      <th>Merchant_id</th>\n",
       "      <th>Date_received</th>\n",
       "      <th>Probability</th>\n",
       "    </tr>\n",
       "  </thead>\n",
       "  <tbody>\n",
       "    <tr>\n",
       "      <td>1</td>\n",
       "      <td>4</td>\n",
       "      <td>1469</td>\n",
       "      <td>2016-06-07</td>\n",
       "      <td>0.000001</td>\n",
       "    </tr>\n",
       "    <tr>\n",
       "      <td>27</td>\n",
       "      <td>238</td>\n",
       "      <td>760</td>\n",
       "      <td>2016-06-08</td>\n",
       "      <td>0.000001</td>\n",
       "    </tr>\n",
       "    <tr>\n",
       "      <td>29</td>\n",
       "      <td>239</td>\n",
       "      <td>3465</td>\n",
       "      <td>2016-06-14</td>\n",
       "      <td>0.000000</td>\n",
       "    </tr>\n",
       "    <tr>\n",
       "      <td>30</td>\n",
       "      <td>239</td>\n",
       "      <td>3465</td>\n",
       "      <td>2016-06-14</td>\n",
       "      <td>0.000002</td>\n",
       "    </tr>\n",
       "    <tr>\n",
       "      <td>42</td>\n",
       "      <td>353</td>\n",
       "      <td>3621</td>\n",
       "      <td>2016-06-10</td>\n",
       "      <td>0.000003</td>\n",
       "    </tr>\n",
       "  </tbody>\n",
       "</table>\n",
       "</div>"
      ],
      "text/plain": [
       "    User_id  Merchant_id Date_received  Probability\n",
       "1         4         1469    2016-06-07     0.000001\n",
       "27      238          760    2016-06-08     0.000001\n",
       "29      239         3465    2016-06-14     0.000000\n",
       "30      239         3465    2016-06-14     0.000002\n",
       "42      353         3621    2016-06-10     0.000003"
      ]
     },
     "execution_count": 19,
     "metadata": {},
     "output_type": "execute_result"
    }
   ],
   "source": [
    "test_output, test_data = evaluate_model(X_test, y_test)\n",
    "test_output.head()"
   ]
  },
  {
   "cell_type": "markdown",
   "metadata": {},
   "source": [
    "# Test Dataset and Submission File"
   ]
  },
  {
   "cell_type": "code",
   "execution_count": 20,
   "metadata": {},
   "outputs": [
    {
     "data": {
      "text/html": [
       "<div>\n",
       "<style scoped>\n",
       "    .dataframe tbody tr th:only-of-type {\n",
       "        vertical-align: middle;\n",
       "    }\n",
       "\n",
       "    .dataframe tbody tr th {\n",
       "        vertical-align: top;\n",
       "    }\n",
       "\n",
       "    .dataframe thead th {\n",
       "        text-align: right;\n",
       "    }\n",
       "</style>\n",
       "<table border=\"1\" class=\"dataframe\">\n",
       "  <thead>\n",
       "    <tr style=\"text-align: right;\">\n",
       "      <th></th>\n",
       "      <th>User_id</th>\n",
       "      <th>Merchant_id</th>\n",
       "      <th>Date_received</th>\n",
       "      <th>Probability</th>\n",
       "    </tr>\n",
       "  </thead>\n",
       "  <tbody>\n",
       "    <tr>\n",
       "      <td>512</td>\n",
       "      <td>6879802</td>\n",
       "      <td>7221</td>\n",
       "      <td>2016-07-07</td>\n",
       "      <td>0.973707</td>\n",
       "    </tr>\n",
       "    <tr>\n",
       "      <td>685</td>\n",
       "      <td>2855209</td>\n",
       "      <td>3251</td>\n",
       "      <td>2016-07-17</td>\n",
       "      <td>0.550224</td>\n",
       "    </tr>\n",
       "    <tr>\n",
       "      <td>754</td>\n",
       "      <td>2970925</td>\n",
       "      <td>7422</td>\n",
       "      <td>2016-07-14</td>\n",
       "      <td>0.685525</td>\n",
       "    </tr>\n",
       "    <tr>\n",
       "      <td>2211</td>\n",
       "      <td>3087229</td>\n",
       "      <td>6189</td>\n",
       "      <td>2016-07-23</td>\n",
       "      <td>0.970605</td>\n",
       "    </tr>\n",
       "    <tr>\n",
       "      <td>2212</td>\n",
       "      <td>3087229</td>\n",
       "      <td>6189</td>\n",
       "      <td>2016-07-15</td>\n",
       "      <td>0.882326</td>\n",
       "    </tr>\n",
       "    <tr>\n",
       "      <td>...</td>\n",
       "      <td>...</td>\n",
       "      <td>...</td>\n",
       "      <td>...</td>\n",
       "      <td>...</td>\n",
       "    </tr>\n",
       "    <tr>\n",
       "      <td>111810</td>\n",
       "      <td>6977597</td>\n",
       "      <td>5010</td>\n",
       "      <td>2016-07-08</td>\n",
       "      <td>0.756210</td>\n",
       "    </tr>\n",
       "    <tr>\n",
       "      <td>111818</td>\n",
       "      <td>6977597</td>\n",
       "      <td>5010</td>\n",
       "      <td>2016-07-21</td>\n",
       "      <td>0.823705</td>\n",
       "    </tr>\n",
       "    <tr>\n",
       "      <td>111822</td>\n",
       "      <td>6977597</td>\n",
       "      <td>5010</td>\n",
       "      <td>2016-07-27</td>\n",
       "      <td>0.567600</td>\n",
       "    </tr>\n",
       "    <tr>\n",
       "      <td>112876</td>\n",
       "      <td>7309637</td>\n",
       "      <td>7354</td>\n",
       "      <td>2016-07-18</td>\n",
       "      <td>0.548168</td>\n",
       "    </tr>\n",
       "    <tr>\n",
       "      <td>112915</td>\n",
       "      <td>6179153</td>\n",
       "      <td>3770</td>\n",
       "      <td>2016-07-19</td>\n",
       "      <td>0.591865</td>\n",
       "    </tr>\n",
       "  </tbody>\n",
       "</table>\n",
       "<p>801 rows × 4 columns</p>\n",
       "</div>"
      ],
      "text/plain": [
       "        User_id  Merchant_id Date_received  Probability\n",
       "512     6879802         7221    2016-07-07     0.973707\n",
       "685     2855209         3251    2016-07-17     0.550224\n",
       "754     2970925         7422    2016-07-14     0.685525\n",
       "2211    3087229         6189    2016-07-23     0.970605\n",
       "2212    3087229         6189    2016-07-15     0.882326\n",
       "...         ...          ...           ...          ...\n",
       "111810  6977597         5010    2016-07-08     0.756210\n",
       "111818  6977597         5010    2016-07-21     0.823705\n",
       "111822  6977597         5010    2016-07-27     0.567600\n",
       "112876  7309637         7354    2016-07-18     0.548168\n",
       "112915  6179153         3770    2016-07-19     0.591865\n",
       "\n",
       "[801 rows x 4 columns]"
      ]
     },
     "execution_count": 20,
     "metadata": {},
     "output_type": "execute_result"
    }
   ],
   "source": [
    "predictions = (model.predict_proba(test_dataset[features])[:,1]).tolist()\n",
    "predicted_values = (model.predict(test_dataset[features])).tolist()\n",
    "test = pd.merge(test_dataset[features], test_dataset[['User_id','Merchant_id','Date_received']]\n",
    "                , how='left',left_index=True,right_index=True)\n",
    "test['Probability'] = [round(i, 6) for i in predictions]\n",
    "output = test[['User_id','Merchant_id','Date_received','Probability']]\n",
    "\n",
    "output[output['Probability']>0.5]"
   ]
  },
  {
   "cell_type": "code",
   "execution_count": 21,
   "metadata": {},
   "outputs": [],
   "source": [
    "output.to_csv('OutputFile.csv',index=False) \n"
   ]
  },
  {
   "cell_type": "markdown",
   "metadata": {},
   "source": [
    "# Execution Time of this notebook"
   ]
  },
  {
   "cell_type": "code",
   "execution_count": 22,
   "metadata": {},
   "outputs": [
    {
     "name": "stdout",
     "output_type": "stream",
     "text": [
      "Time taken for the execution of this notebook: 10.95 mins\n"
     ]
    }
   ],
   "source": [
    "later = time.time()\n",
    "difference = later - now\n",
    "print('Time taken for the execution of this notebook: '+str(round(difference/60,2))+' mins')"
   ]
  },
  {
   "cell_type": "code",
   "execution_count": null,
   "metadata": {},
   "outputs": [],
   "source": []
  },
  {
   "cell_type": "code",
   "execution_count": null,
   "metadata": {},
   "outputs": [],
   "source": []
  },
  {
   "cell_type": "code",
   "execution_count": null,
   "metadata": {},
   "outputs": [],
   "source": []
  }
 ],
 "metadata": {
  "kernelspec": {
   "display_name": "Python 3",
   "language": "python",
   "name": "python3"
  },
  "language_info": {
   "codemirror_mode": {
    "name": "ipython",
    "version": 3
   },
   "file_extension": ".py",
   "mimetype": "text/x-python",
   "name": "python",
   "nbconvert_exporter": "python",
   "pygments_lexer": "ipython3",
   "version": "3.7.4"
  }
 },
 "nbformat": 4,
 "nbformat_minor": 2
}
