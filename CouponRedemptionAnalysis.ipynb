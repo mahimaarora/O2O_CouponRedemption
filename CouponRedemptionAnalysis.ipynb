{
 "cells": [
  {
   "cell_type": "markdown",
   "metadata": {},
   "source": [
    "#### Background\n",
    "As smart phone penetration reaches the hundreds of millions mark, O2O (Online to Offline) requires businesses to have a strong presence both offline and online. APPs with O2O capabilities accumulate daily consumer behaviour and location data that require big data and commercial operations management. The competition at hand focuses on coupon redemption rates. Sending coupons is a general O2O marketing tool used to activate existing customers and attract new ones. While customers are happy to receive coupons that they want, they are frustrated when receiving coupons that they do not need. For merchants, sending unwanted coupons may erode brand equity and hinder marketing expense forecasting. Targeted marketing is an important technology to increase the coupon redemption rate, providing relevant discounts to customers and effective marketing tools to businesses. The competition provides participants with abundant O2O data in this field and expects contestants to predict whether the customer will use the coupon within a specified time frame.\n",
    "### Data\n",
    "This competition provides real online and offline user consumption data from January 1, 2016 to June 30, 2016. The contestants are expected to predict the probability of customers redeeming a coupon within 15 days of receiving it.\n",
    "Note: To protect the privacy of users and merchants, data is desensitized and under biased sampling.\n",
    "### Evaluation\n",
    "The results are evaluated based on the average AUC value. That is, the AUC value is calculated for every coupon_id. The average of each AUC value is the evaluation score. More information on AUC value calculation method on wikipedia.\n"
   ]
  },
  {
   "cell_type": "markdown",
   "metadata": {},
   "source": [
    "### Test Data"
   ]
  },
  {
   "cell_type": "code",
   "execution_count": 3,
   "metadata": {},
   "outputs": [],
   "source": [
    "%matplotlib inline\n",
    "import pandas as pd\n",
    "import numpy as np\n",
    "import matplotlib.pyplot as plt\n",
    "import seaborn as sns"
   ]
  },
  {
   "cell_type": "code",
   "execution_count": 6,
   "metadata": {},
   "outputs": [
    {
     "name": "stdout",
     "output_type": "stream",
     "text": [
      "(113640, 6)\n"
     ]
    },
    {
     "data": {
      "text/html": [
       "<div>\n",
       "<style scoped>\n",
       "    .dataframe tbody tr th:only-of-type {\n",
       "        vertical-align: middle;\n",
       "    }\n",
       "\n",
       "    .dataframe tbody tr th {\n",
       "        vertical-align: top;\n",
       "    }\n",
       "\n",
       "    .dataframe thead th {\n",
       "        text-align: right;\n",
       "    }\n",
       "</style>\n",
       "<table border=\"1\" class=\"dataframe\">\n",
       "  <thead>\n",
       "    <tr style=\"text-align: right;\">\n",
       "      <th></th>\n",
       "      <th>User_id</th>\n",
       "      <th>Merchant_id</th>\n",
       "      <th>Coupon_id</th>\n",
       "      <th>Discount_rate</th>\n",
       "      <th>Distance</th>\n",
       "      <th>Date_received</th>\n",
       "    </tr>\n",
       "  </thead>\n",
       "  <tbody>\n",
       "    <tr>\n",
       "      <td>0</td>\n",
       "      <td>4129537</td>\n",
       "      <td>450</td>\n",
       "      <td>9983</td>\n",
       "      <td>30:5</td>\n",
       "      <td>1.0</td>\n",
       "      <td>20160712</td>\n",
       "    </tr>\n",
       "    <tr>\n",
       "      <td>1</td>\n",
       "      <td>6949378</td>\n",
       "      <td>1300</td>\n",
       "      <td>3429</td>\n",
       "      <td>30:5</td>\n",
       "      <td>NaN</td>\n",
       "      <td>20160706</td>\n",
       "    </tr>\n",
       "    <tr>\n",
       "      <td>2</td>\n",
       "      <td>2166529</td>\n",
       "      <td>7113</td>\n",
       "      <td>6928</td>\n",
       "      <td>200:20</td>\n",
       "      <td>5.0</td>\n",
       "      <td>20160727</td>\n",
       "    </tr>\n",
       "    <tr>\n",
       "      <td>3</td>\n",
       "      <td>2166529</td>\n",
       "      <td>7113</td>\n",
       "      <td>1808</td>\n",
       "      <td>100:10</td>\n",
       "      <td>5.0</td>\n",
       "      <td>20160727</td>\n",
       "    </tr>\n",
       "    <tr>\n",
       "      <td>4</td>\n",
       "      <td>6172162</td>\n",
       "      <td>7605</td>\n",
       "      <td>6500</td>\n",
       "      <td>30:1</td>\n",
       "      <td>2.0</td>\n",
       "      <td>20160708</td>\n",
       "    </tr>\n",
       "  </tbody>\n",
       "</table>\n",
       "</div>"
      ],
      "text/plain": [
       "   User_id  Merchant_id  Coupon_id Discount_rate  Distance  Date_received\n",
       "0  4129537          450       9983          30:5       1.0       20160712\n",
       "1  6949378         1300       3429          30:5       NaN       20160706\n",
       "2  2166529         7113       6928        200:20       5.0       20160727\n",
       "3  2166529         7113       1808        100:10       5.0       20160727\n",
       "4  6172162         7605       6500          30:1       2.0       20160708"
      ]
     },
     "execution_count": 6,
     "metadata": {},
     "output_type": "execute_result"
    }
   ],
   "source": [
    "df_test=  pd.read_csv('ccf_offline_stage1_test_revised.csv')\n",
    "print(df_test.shape)\n",
    "df_test.head()"
   ]
  },
  {
   "cell_type": "code",
   "execution_count": 7,
   "metadata": {},
   "outputs": [
    {
     "data": {
      "text/plain": [
       "User_id              0\n",
       "Merchant_id          0\n",
       "Coupon_id            0\n",
       "Discount_rate        0\n",
       "Distance         12064\n",
       "Date_received        0\n",
       "dtype: int64"
      ]
     },
     "execution_count": 7,
     "metadata": {},
     "output_type": "execute_result"
    }
   ],
   "source": [
    "df_test.isna().sum()"
   ]
  },
  {
   "cell_type": "code",
   "execution_count": 8,
   "metadata": {},
   "outputs": [
    {
     "data": {
      "text/plain": [
       "array([ 9983,  3429,  6928, ...,  7590, 13602,   613])"
      ]
     },
     "execution_count": 8,
     "metadata": {},
     "output_type": "execute_result"
    }
   ],
   "source": [
    "#List of coupon ids in test data\n",
    "coupon_ids_test = df_test[(df_test[\"Coupon_id\"].isna()==False)]\n",
    "coupons_test = np.array(coupon_ids_test[\"Coupon_id\"].astype(int))\n",
    "coupons_test"
   ]
  },
  {
   "cell_type": "markdown",
   "metadata": {},
   "source": [
    "### Training Offline Data"
   ]
  },
  {
   "cell_type": "code",
   "execution_count": 10,
   "metadata": {},
   "outputs": [
    {
     "name": "stdout",
     "output_type": "stream",
     "text": [
      "(1754884, 7)\n"
     ]
    },
    {
     "data": {
      "text/html": [
       "<div>\n",
       "<style scoped>\n",
       "    .dataframe tbody tr th:only-of-type {\n",
       "        vertical-align: middle;\n",
       "    }\n",
       "\n",
       "    .dataframe tbody tr th {\n",
       "        vertical-align: top;\n",
       "    }\n",
       "\n",
       "    .dataframe thead th {\n",
       "        text-align: right;\n",
       "    }\n",
       "</style>\n",
       "<table border=\"1\" class=\"dataframe\">\n",
       "  <thead>\n",
       "    <tr style=\"text-align: right;\">\n",
       "      <th></th>\n",
       "      <th>User_id</th>\n",
       "      <th>Merchant_id</th>\n",
       "      <th>Coupon_id</th>\n",
       "      <th>Discount_rate</th>\n",
       "      <th>Distance</th>\n",
       "      <th>Date_received</th>\n",
       "      <th>Date</th>\n",
       "    </tr>\n",
       "  </thead>\n",
       "  <tbody>\n",
       "    <tr>\n",
       "      <td>0</td>\n",
       "      <td>1439408</td>\n",
       "      <td>2632</td>\n",
       "      <td>NaN</td>\n",
       "      <td>NaN</td>\n",
       "      <td>0.0</td>\n",
       "      <td>NaN</td>\n",
       "      <td>20160217.0</td>\n",
       "    </tr>\n",
       "    <tr>\n",
       "      <td>1</td>\n",
       "      <td>1439408</td>\n",
       "      <td>4663</td>\n",
       "      <td>11002.0</td>\n",
       "      <td>150:20</td>\n",
       "      <td>1.0</td>\n",
       "      <td>20160528.0</td>\n",
       "      <td>NaN</td>\n",
       "    </tr>\n",
       "    <tr>\n",
       "      <td>2</td>\n",
       "      <td>1439408</td>\n",
       "      <td>2632</td>\n",
       "      <td>8591.0</td>\n",
       "      <td>20:1</td>\n",
       "      <td>0.0</td>\n",
       "      <td>20160217.0</td>\n",
       "      <td>NaN</td>\n",
       "    </tr>\n",
       "    <tr>\n",
       "      <td>3</td>\n",
       "      <td>1439408</td>\n",
       "      <td>2632</td>\n",
       "      <td>1078.0</td>\n",
       "      <td>20:1</td>\n",
       "      <td>0.0</td>\n",
       "      <td>20160319.0</td>\n",
       "      <td>NaN</td>\n",
       "    </tr>\n",
       "    <tr>\n",
       "      <td>4</td>\n",
       "      <td>1439408</td>\n",
       "      <td>2632</td>\n",
       "      <td>8591.0</td>\n",
       "      <td>20:1</td>\n",
       "      <td>0.0</td>\n",
       "      <td>20160613.0</td>\n",
       "      <td>NaN</td>\n",
       "    </tr>\n",
       "  </tbody>\n",
       "</table>\n",
       "</div>"
      ],
      "text/plain": [
       "   User_id  Merchant_id  Coupon_id Discount_rate  Distance  Date_received  \\\n",
       "0  1439408         2632        NaN           NaN       0.0            NaN   \n",
       "1  1439408         4663    11002.0        150:20       1.0     20160528.0   \n",
       "2  1439408         2632     8591.0          20:1       0.0     20160217.0   \n",
       "3  1439408         2632     1078.0          20:1       0.0     20160319.0   \n",
       "4  1439408         2632     8591.0          20:1       0.0     20160613.0   \n",
       "\n",
       "         Date  \n",
       "0  20160217.0  \n",
       "1         NaN  \n",
       "2         NaN  \n",
       "3         NaN  \n",
       "4         NaN  "
      ]
     },
     "execution_count": 10,
     "metadata": {},
     "output_type": "execute_result"
    }
   ],
   "source": [
    "df_of = pd.read_csv('ccf_offline_stage1_train.csv')\n",
    "print(df_of.shape)\n",
    "df_of.head()"
   ]
  },
  {
   "cell_type": "code",
   "execution_count": 11,
   "metadata": {},
   "outputs": [
    {
     "data": {
      "text/plain": [
       "User_id               0\n",
       "Merchant_id           0\n",
       "Coupon_id        701602\n",
       "Discount_rate    701602\n",
       "Distance         106003\n",
       "Date_received    701602\n",
       "Date             977900\n",
       "dtype: int64"
      ]
     },
     "execution_count": 11,
     "metadata": {},
     "output_type": "execute_result"
    }
   ],
   "source": [
    "df_of.isna().sum()"
   ]
  },
  {
   "cell_type": "code",
   "execution_count": 12,
   "metadata": {},
   "outputs": [
    {
     "data": {
      "text/plain": [
       "5054119    264\n",
       "2751537    155\n",
       "2949273    137\n",
       "6655171    136\n",
       "4840568    134\n",
       "Name: User_id, dtype: int64"
      ]
     },
     "execution_count": 12,
     "metadata": {},
     "output_type": "execute_result"
    }
   ],
   "source": [
    "#User_ids and its frequency\n",
    "df_of['User_id'].value_counts().head()"
   ]
  },
  {
   "cell_type": "code",
   "execution_count": 13,
   "metadata": {},
   "outputs": [
    {
     "data": {
      "text/plain": [
       "count    1.053282e+06\n",
       "mean     6.815398e+03\n",
       "std      4.174276e+03\n",
       "min      1.000000e+00\n",
       "25%      2.840000e+03\n",
       "50%      7.430000e+03\n",
       "75%      1.032300e+04\n",
       "max      1.404500e+04\n",
       "Name: Coupon_id, dtype: float64"
      ]
     },
     "execution_count": 13,
     "metadata": {},
     "output_type": "execute_result"
    }
   ],
   "source": [
    "#Coupon ids for offline data\n",
    "df_of.Coupon_id.describe()"
   ]
  },
  {
   "cell_type": "code",
   "execution_count": 14,
   "metadata": {},
   "outputs": [
    {
     "data": {
      "text/plain": [
       "9738"
      ]
     },
     "execution_count": 14,
     "metadata": {},
     "output_type": "execute_result"
    }
   ],
   "source": [
    "#number of unique coupon ids for offline training data\n",
    "df_of.Coupon_id.nunique()"
   ]
  },
  {
   "cell_type": "code",
   "execution_count": 15,
   "metadata": {},
   "outputs": [
    {
     "data": {
      "text/plain": [
       "1"
      ]
     },
     "execution_count": 15,
     "metadata": {},
     "output_type": "execute_result"
    }
   ],
   "source": [
    "#list of coupon ids for offline training data\n",
    "coupon_ids_of = df_of[(df_of[\"Coupon_id\"].isna()==False)]\n",
    "coupons_of = coupon_ids_of[\"Coupon_id\"].astype(int).unique()\n",
    "min(coupons_of)"
   ]
  },
  {
   "cell_type": "code",
   "execution_count": 11,
   "metadata": {},
   "outputs": [
    {
     "data": {
      "text/plain": [
       "1118"
      ]
     },
     "execution_count": 11,
     "metadata": {},
     "output_type": "execute_result"
    }
   ],
   "source": [
    "#number of unique coupons for test and offline training data\n",
    "len(set(coupons_of).intersection(set(coupons_test)))"
   ]
  },
  {
   "cell_type": "code",
   "execution_count": 17,
   "metadata": {},
   "outputs": [
    {
     "data": {
      "text/plain": [
       "Index(['User_id', 'Merchant_id', 'Coupon_id', 'Discount_rate', 'Distance',\n",
       "       'Date_received', 'Date'],\n",
       "      dtype='object')"
      ]
     },
     "execution_count": 17,
     "metadata": {},
     "output_type": "execute_result"
    }
   ],
   "source": [
    "df_of.columns"
   ]
  },
  {
   "cell_type": "code",
   "execution_count": 19,
   "metadata": {},
   "outputs": [
    {
     "data": {
      "text/html": [
       "<div>\n",
       "<style scoped>\n",
       "    .dataframe tbody tr th:only-of-type {\n",
       "        vertical-align: middle;\n",
       "    }\n",
       "\n",
       "    .dataframe tbody tr th {\n",
       "        vertical-align: top;\n",
       "    }\n",
       "\n",
       "    .dataframe thead th {\n",
       "        text-align: right;\n",
       "    }\n",
       "</style>\n",
       "<table border=\"1\" class=\"dataframe\">\n",
       "  <thead>\n",
       "    <tr style=\"text-align: right;\">\n",
       "      <th></th>\n",
       "      <th>User_id</th>\n",
       "      <th>Merchant_id</th>\n",
       "      <th>Coupon_id</th>\n",
       "      <th>Discount_rate</th>\n",
       "      <th>Distance</th>\n",
       "      <th>Date_received</th>\n",
       "      <th>Date</th>\n",
       "      <th>Count</th>\n",
       "    </tr>\n",
       "  </thead>\n",
       "  <tbody>\n",
       "    <tr>\n",
       "      <td>0</td>\n",
       "      <td>4</td>\n",
       "      <td>1433</td>\n",
       "      <td>8735.0</td>\n",
       "      <td>30:5</td>\n",
       "      <td>10.0</td>\n",
       "      <td>20160214.0</td>\n",
       "      <td>NaN</td>\n",
       "      <td>1</td>\n",
       "    </tr>\n",
       "    <tr>\n",
       "      <td>1</td>\n",
       "      <td>4</td>\n",
       "      <td>1469</td>\n",
       "      <td>2902.0</td>\n",
       "      <td>0.95</td>\n",
       "      <td>10.0</td>\n",
       "      <td>20160607.0</td>\n",
       "      <td>NaN</td>\n",
       "      <td>1</td>\n",
       "    </tr>\n",
       "    <tr>\n",
       "      <td>2</td>\n",
       "      <td>35</td>\n",
       "      <td>3381</td>\n",
       "      <td>1807.0</td>\n",
       "      <td>300:30</td>\n",
       "      <td>0.0</td>\n",
       "      <td>20160130.0</td>\n",
       "      <td>NaN</td>\n",
       "      <td>1</td>\n",
       "    </tr>\n",
       "    <tr>\n",
       "      <td>3</td>\n",
       "      <td>35</td>\n",
       "      <td>3381</td>\n",
       "      <td>9776.0</td>\n",
       "      <td>10:5</td>\n",
       "      <td>0.0</td>\n",
       "      <td>20160129.0</td>\n",
       "      <td>NaN</td>\n",
       "      <td>1</td>\n",
       "    </tr>\n",
       "    <tr>\n",
       "      <td>4</td>\n",
       "      <td>35</td>\n",
       "      <td>3381</td>\n",
       "      <td>11951.0</td>\n",
       "      <td>200:20</td>\n",
       "      <td>0.0</td>\n",
       "      <td>20160129.0</td>\n",
       "      <td>NaN</td>\n",
       "      <td>1</td>\n",
       "    </tr>\n",
       "  </tbody>\n",
       "</table>\n",
       "</div>"
      ],
      "text/plain": [
       "   User_id  Merchant_id  Coupon_id Discount_rate  Distance  Date_received  \\\n",
       "0        4         1433     8735.0          30:5      10.0     20160214.0   \n",
       "1        4         1469     2902.0          0.95      10.0     20160607.0   \n",
       "2       35         3381     1807.0        300:30       0.0     20160130.0   \n",
       "3       35         3381     9776.0          10:5       0.0     20160129.0   \n",
       "4       35         3381    11951.0        200:20       0.0     20160129.0   \n",
       "\n",
       "   Date  Count  \n",
       "0   NaN      1  \n",
       "1   NaN      1  \n",
       "2   NaN      1  \n",
       "3   NaN      1  \n",
       "4   NaN      1  "
      ]
     },
     "execution_count": 19,
     "metadata": {},
     "output_type": "execute_result"
    }
   ],
   "source": [
    "#Removing duplicates and giving frequency counts to each row\n",
    "x = 'g8h.|$hTdo+jC9^@'   #garbage value for nan values \n",
    "df_of_unique = (df_of.fillna(x).groupby(['User_id', 'Merchant_id', 'Coupon_id', 'Discount_rate', 'Distance',\n",
    "       'Date_received', 'Date']).size().reset_index()\n",
    "               .rename(columns={0 : 'Count'}).replace(x,np.NaN))\n",
    "df_of_unique.head()"
   ]
  },
  {
   "cell_type": "code",
   "execution_count": 20,
   "metadata": {
    "scrolled": false
   },
   "outputs": [
    {
     "data": {
      "text/html": [
       "<div>\n",
       "<style scoped>\n",
       "    .dataframe tbody tr th:only-of-type {\n",
       "        vertical-align: middle;\n",
       "    }\n",
       "\n",
       "    .dataframe tbody tr th {\n",
       "        vertical-align: top;\n",
       "    }\n",
       "\n",
       "    .dataframe thead th {\n",
       "        text-align: right;\n",
       "    }\n",
       "</style>\n",
       "<table border=\"1\" class=\"dataframe\">\n",
       "  <thead>\n",
       "    <tr style=\"text-align: right;\">\n",
       "      <th></th>\n",
       "      <th>User_id</th>\n",
       "      <th>Merchant_id</th>\n",
       "      <th>Coupon_id</th>\n",
       "      <th>Discount_rate</th>\n",
       "      <th>Distance</th>\n",
       "      <th>Date_received</th>\n",
       "      <th>Date</th>\n",
       "      <th>Count</th>\n",
       "    </tr>\n",
       "  </thead>\n",
       "  <tbody>\n",
       "    <tr>\n",
       "      <td>0</td>\n",
       "      <td>4</td>\n",
       "      <td>1433</td>\n",
       "      <td>8735.0</td>\n",
       "      <td>30:5</td>\n",
       "      <td>10.0</td>\n",
       "      <td>2016-02-14</td>\n",
       "      <td>NaT</td>\n",
       "      <td>1</td>\n",
       "    </tr>\n",
       "    <tr>\n",
       "      <td>1</td>\n",
       "      <td>4</td>\n",
       "      <td>1469</td>\n",
       "      <td>2902.0</td>\n",
       "      <td>0.95</td>\n",
       "      <td>10.0</td>\n",
       "      <td>2016-06-07</td>\n",
       "      <td>NaT</td>\n",
       "      <td>1</td>\n",
       "    </tr>\n",
       "    <tr>\n",
       "      <td>2</td>\n",
       "      <td>35</td>\n",
       "      <td>3381</td>\n",
       "      <td>1807.0</td>\n",
       "      <td>300:30</td>\n",
       "      <td>0.0</td>\n",
       "      <td>2016-01-30</td>\n",
       "      <td>NaT</td>\n",
       "      <td>1</td>\n",
       "    </tr>\n",
       "    <tr>\n",
       "      <td>3</td>\n",
       "      <td>35</td>\n",
       "      <td>3381</td>\n",
       "      <td>9776.0</td>\n",
       "      <td>10:5</td>\n",
       "      <td>0.0</td>\n",
       "      <td>2016-01-29</td>\n",
       "      <td>NaT</td>\n",
       "      <td>1</td>\n",
       "    </tr>\n",
       "    <tr>\n",
       "      <td>4</td>\n",
       "      <td>35</td>\n",
       "      <td>3381</td>\n",
       "      <td>11951.0</td>\n",
       "      <td>200:20</td>\n",
       "      <td>0.0</td>\n",
       "      <td>2016-01-29</td>\n",
       "      <td>NaT</td>\n",
       "      <td>1</td>\n",
       "    </tr>\n",
       "  </tbody>\n",
       "</table>\n",
       "</div>"
      ],
      "text/plain": [
       "   User_id  Merchant_id  Coupon_id Discount_rate  Distance Date_received Date  \\\n",
       "0        4         1433     8735.0          30:5      10.0    2016-02-14  NaT   \n",
       "1        4         1469     2902.0          0.95      10.0    2016-06-07  NaT   \n",
       "2       35         3381     1807.0        300:30       0.0    2016-01-30  NaT   \n",
       "3       35         3381     9776.0          10:5       0.0    2016-01-29  NaT   \n",
       "4       35         3381    11951.0        200:20       0.0    2016-01-29  NaT   \n",
       "\n",
       "   Count  \n",
       "0      1  \n",
       "1      1  \n",
       "2      1  \n",
       "3      1  \n",
       "4      1  "
      ]
     },
     "execution_count": 20,
     "metadata": {},
     "output_type": "execute_result"
    }
   ],
   "source": [
    "#Changing Date and Date Received to DateTime format\n",
    "df_of_unique['Date'] = pd.to_datetime(df_of_unique[\"Date\"],format='%Y%m%d')\n",
    "df_of_unique['Date_received'] = pd.to_datetime(df_of_unique[\"Date_received\"],format='%Y%m%d')\n",
    "df_of_unique.head()"
   ]
  },
  {
   "cell_type": "code",
   "execution_count": 16,
   "metadata": {},
   "outputs": [
    {
     "data": {
      "text/html": [
       "<div>\n",
       "<style scoped>\n",
       "    .dataframe tbody tr th:only-of-type {\n",
       "        vertical-align: middle;\n",
       "    }\n",
       "\n",
       "    .dataframe tbody tr th {\n",
       "        vertical-align: top;\n",
       "    }\n",
       "\n",
       "    .dataframe thead th {\n",
       "        text-align: right;\n",
       "    }\n",
       "</style>\n",
       "<table border=\"1\" class=\"dataframe\">\n",
       "  <thead>\n",
       "    <tr style=\"text-align: right;\">\n",
       "      <th></th>\n",
       "      <th>User_id</th>\n",
       "      <th>Merchant_id</th>\n",
       "      <th>Coupon_id</th>\n",
       "      <th>Discount_rate</th>\n",
       "      <th>Distance</th>\n",
       "      <th>Date_received</th>\n",
       "      <th>Date</th>\n",
       "    </tr>\n",
       "  </thead>\n",
       "  <tbody>\n",
       "    <tr>\n",
       "      <td>13</td>\n",
       "      <td>2747744</td>\n",
       "      <td>6901</td>\n",
       "      <td>1097.0</td>\n",
       "      <td>50:10</td>\n",
       "      <td>NaN</td>\n",
       "      <td>20160606.0</td>\n",
       "      <td>NaN</td>\n",
       "    </tr>\n",
       "    <tr>\n",
       "      <td>17</td>\n",
       "      <td>73611</td>\n",
       "      <td>2099</td>\n",
       "      <td>12034.0</td>\n",
       "      <td>100:10</td>\n",
       "      <td>NaN</td>\n",
       "      <td>20160207.0</td>\n",
       "      <td>NaN</td>\n",
       "    </tr>\n",
       "    <tr>\n",
       "      <td>24</td>\n",
       "      <td>343660</td>\n",
       "      <td>4663</td>\n",
       "      <td>11002.0</td>\n",
       "      <td>150:20</td>\n",
       "      <td>NaN</td>\n",
       "      <td>20160528.0</td>\n",
       "      <td>NaN</td>\n",
       "    </tr>\n",
       "    <tr>\n",
       "      <td>52</td>\n",
       "      <td>106443</td>\n",
       "      <td>450</td>\n",
       "      <td>3732.0</td>\n",
       "      <td>30:5</td>\n",
       "      <td>NaN</td>\n",
       "      <td>20160429.0</td>\n",
       "      <td>NaN</td>\n",
       "    </tr>\n",
       "    <tr>\n",
       "      <td>58</td>\n",
       "      <td>2621792</td>\n",
       "      <td>4433</td>\n",
       "      <td>190.0</td>\n",
       "      <td>200:20</td>\n",
       "      <td>NaN</td>\n",
       "      <td>20160131.0</td>\n",
       "      <td>NaN</td>\n",
       "    </tr>\n",
       "    <tr>\n",
       "      <td>...</td>\n",
       "      <td>...</td>\n",
       "      <td>...</td>\n",
       "      <td>...</td>\n",
       "      <td>...</td>\n",
       "      <td>...</td>\n",
       "      <td>...</td>\n",
       "      <td>...</td>\n",
       "    </tr>\n",
       "    <tr>\n",
       "      <td>1754771</td>\n",
       "      <td>2346848</td>\n",
       "      <td>7555</td>\n",
       "      <td>17.0</td>\n",
       "      <td>30:5</td>\n",
       "      <td>NaN</td>\n",
       "      <td>20160204.0</td>\n",
       "      <td>NaN</td>\n",
       "    </tr>\n",
       "    <tr>\n",
       "      <td>1754772</td>\n",
       "      <td>2346848</td>\n",
       "      <td>6284</td>\n",
       "      <td>7379.0</td>\n",
       "      <td>50:10</td>\n",
       "      <td>NaN</td>\n",
       "      <td>20160204.0</td>\n",
       "      <td>NaN</td>\n",
       "    </tr>\n",
       "    <tr>\n",
       "      <td>1754844</td>\n",
       "      <td>457900</td>\n",
       "      <td>7907</td>\n",
       "      <td>13118.0</td>\n",
       "      <td>150:30</td>\n",
       "      <td>NaN</td>\n",
       "      <td>20160418.0</td>\n",
       "      <td>NaN</td>\n",
       "    </tr>\n",
       "    <tr>\n",
       "      <td>1754848</td>\n",
       "      <td>4056416</td>\n",
       "      <td>7177</td>\n",
       "      <td>3469.0</td>\n",
       "      <td>20:1</td>\n",
       "      <td>NaN</td>\n",
       "      <td>20160514.0</td>\n",
       "      <td>NaN</td>\n",
       "    </tr>\n",
       "    <tr>\n",
       "      <td>1754849</td>\n",
       "      <td>4056416</td>\n",
       "      <td>2420</td>\n",
       "      <td>10883.0</td>\n",
       "      <td>100:30</td>\n",
       "      <td>NaN</td>\n",
       "      <td>20160613.0</td>\n",
       "      <td>NaN</td>\n",
       "    </tr>\n",
       "  </tbody>\n",
       "</table>\n",
       "<p>97786 rows × 7 columns</p>\n",
       "</div>"
      ],
      "text/plain": [
       "         User_id  Merchant_id  Coupon_id Discount_rate  Distance  \\\n",
       "13       2747744         6901     1097.0         50:10       NaN   \n",
       "17         73611         2099    12034.0        100:10       NaN   \n",
       "24        343660         4663    11002.0        150:20       NaN   \n",
       "52        106443          450     3732.0          30:5       NaN   \n",
       "58       2621792         4433      190.0        200:20       NaN   \n",
       "...          ...          ...        ...           ...       ...   \n",
       "1754771  2346848         7555       17.0          30:5       NaN   \n",
       "1754772  2346848         6284     7379.0         50:10       NaN   \n",
       "1754844   457900         7907    13118.0        150:30       NaN   \n",
       "1754848  4056416         7177     3469.0          20:1       NaN   \n",
       "1754849  4056416         2420    10883.0        100:30       NaN   \n",
       "\n",
       "         Date_received  Date  \n",
       "13          20160606.0   NaN  \n",
       "17          20160207.0   NaN  \n",
       "24          20160528.0   NaN  \n",
       "52          20160429.0   NaN  \n",
       "58          20160131.0   NaN  \n",
       "...                ...   ...  \n",
       "1754771     20160204.0   NaN  \n",
       "1754772     20160204.0   NaN  \n",
       "1754844     20160418.0   NaN  \n",
       "1754848     20160514.0   NaN  \n",
       "1754849     20160613.0   NaN  \n",
       "\n",
       "[97786 rows x 7 columns]"
      ]
     },
     "execution_count": 16,
     "metadata": {},
     "output_type": "execute_result"
    }
   ],
   "source": [
    "# where distance and date of purchase not given\n",
    "df_of[(df_of['Distance'].isna()) & (df_of['Date'].isna())]"
   ]
  },
  {
   "cell_type": "markdown",
   "metadata": {},
   "source": [
    "When distance and date of purchase are not given, it can be the case where coupons are given through some other medium(online)"
   ]
  },
  {
   "cell_type": "markdown",
   "metadata": {},
   "source": [
    "### Training Online Data"
   ]
  },
  {
   "cell_type": "code",
   "execution_count": 22,
   "metadata": {},
   "outputs": [
    {
     "name": "stdout",
     "output_type": "stream",
     "text": [
      "(11429826, 7)\n"
     ]
    },
    {
     "data": {
      "text/html": [
       "<div>\n",
       "<style scoped>\n",
       "    .dataframe tbody tr th:only-of-type {\n",
       "        vertical-align: middle;\n",
       "    }\n",
       "\n",
       "    .dataframe tbody tr th {\n",
       "        vertical-align: top;\n",
       "    }\n",
       "\n",
       "    .dataframe thead th {\n",
       "        text-align: right;\n",
       "    }\n",
       "</style>\n",
       "<table border=\"1\" class=\"dataframe\">\n",
       "  <thead>\n",
       "    <tr style=\"text-align: right;\">\n",
       "      <th></th>\n",
       "      <th>User_id</th>\n",
       "      <th>Merchant_id</th>\n",
       "      <th>Action</th>\n",
       "      <th>Coupon_id</th>\n",
       "      <th>Discount_rate</th>\n",
       "      <th>Date_received</th>\n",
       "      <th>Date</th>\n",
       "    </tr>\n",
       "  </thead>\n",
       "  <tbody>\n",
       "    <tr>\n",
       "      <td>0</td>\n",
       "      <td>13740231</td>\n",
       "      <td>18907</td>\n",
       "      <td>2</td>\n",
       "      <td>100017492</td>\n",
       "      <td>500:50</td>\n",
       "      <td>20160513.0</td>\n",
       "      <td>NaN</td>\n",
       "    </tr>\n",
       "    <tr>\n",
       "      <td>1</td>\n",
       "      <td>13740231</td>\n",
       "      <td>34805</td>\n",
       "      <td>1</td>\n",
       "      <td>NaN</td>\n",
       "      <td>NaN</td>\n",
       "      <td>NaN</td>\n",
       "      <td>20160321.0</td>\n",
       "    </tr>\n",
       "    <tr>\n",
       "      <td>2</td>\n",
       "      <td>14336199</td>\n",
       "      <td>18907</td>\n",
       "      <td>0</td>\n",
       "      <td>NaN</td>\n",
       "      <td>NaN</td>\n",
       "      <td>NaN</td>\n",
       "      <td>20160618.0</td>\n",
       "    </tr>\n",
       "    <tr>\n",
       "      <td>3</td>\n",
       "      <td>14336199</td>\n",
       "      <td>18907</td>\n",
       "      <td>0</td>\n",
       "      <td>NaN</td>\n",
       "      <td>NaN</td>\n",
       "      <td>NaN</td>\n",
       "      <td>20160618.0</td>\n",
       "    </tr>\n",
       "    <tr>\n",
       "      <td>4</td>\n",
       "      <td>14336199</td>\n",
       "      <td>18907</td>\n",
       "      <td>0</td>\n",
       "      <td>NaN</td>\n",
       "      <td>NaN</td>\n",
       "      <td>NaN</td>\n",
       "      <td>20160618.0</td>\n",
       "    </tr>\n",
       "  </tbody>\n",
       "</table>\n",
       "</div>"
      ],
      "text/plain": [
       "    User_id  Merchant_id  Action  Coupon_id Discount_rate  Date_received  \\\n",
       "0  13740231        18907       2  100017492        500:50     20160513.0   \n",
       "1  13740231        34805       1        NaN           NaN            NaN   \n",
       "2  14336199        18907       0        NaN           NaN            NaN   \n",
       "3  14336199        18907       0        NaN           NaN            NaN   \n",
       "4  14336199        18907       0        NaN           NaN            NaN   \n",
       "\n",
       "         Date  \n",
       "0         NaN  \n",
       "1  20160321.0  \n",
       "2  20160618.0  \n",
       "3  20160618.0  \n",
       "4  20160618.0  "
      ]
     },
     "execution_count": 22,
     "metadata": {},
     "output_type": "execute_result"
    }
   ],
   "source": [
    "df_on = pd.read_csv('ccf_online_stage1_train.csv')\n",
    "print(df_on.shape)\n",
    "df_on_total = df_on.shape[0]\n",
    "df_on.head()"
   ]
  },
  {
   "cell_type": "code",
   "execution_count": 23,
   "metadata": {},
   "outputs": [
    {
     "data": {
      "text/plain": [
       "User_id                 0\n",
       "Merchant_id             0\n",
       "Action                  0\n",
       "Coupon_id        10557469\n",
       "Discount_rate    10557469\n",
       "Date_received    10557469\n",
       "Date               655898\n",
       "dtype: int64"
      ]
     },
     "execution_count": 23,
     "metadata": {},
     "output_type": "execute_result"
    }
   ],
   "source": [
    "df_on.isna().sum()"
   ]
  },
  {
   "cell_type": "code",
   "execution_count": 24,
   "metadata": {},
   "outputs": [
    {
     "data": {
      "text/plain": [
       "0"
      ]
     },
     "execution_count": 24,
     "metadata": {},
     "output_type": "execute_result"
    }
   ],
   "source": [
    "#List of coupon ids for online training data\n",
    "coupon_ids_on = df_on[(df_on[\"Coupon_id\"].isna()==False) & (df_on[\"Coupon_id\"]!='fixed')]\n",
    "coupons_on = coupon_ids_on[\"Coupon_id\"].astype(int).unique()\n",
    "#number of common coupon ids for test and training online data\n",
    "len(set(coupons_on).intersection(set(coupons_test)))"
   ]
  },
  {
   "cell_type": "code",
   "execution_count": 19,
   "metadata": {},
   "outputs": [
    {
     "data": {
      "text/plain": [
       "(0, 7)"
      ]
     },
     "execution_count": 19,
     "metadata": {},
     "output_type": "execute_result"
    }
   ],
   "source": [
    "#Date==Null and Coupon_id==Null: no such cases\n",
    "df_on[(df_on[\"Date\"].isna()) & (df_on[\"Coupon_id\"].isna())].shape"
   ]
  },
  {
   "cell_type": "code",
   "execution_count": 27,
   "metadata": {},
   "outputs": [
    {
     "data": {
      "text/plain": [
       "True"
      ]
     },
     "execution_count": 27,
     "metadata": {},
     "output_type": "execute_result"
    }
   ],
   "source": [
    "#Date==Null and Coupon_id!=Null: Coupon not redeemed(5.73%) and customer only 'gets Coupon'\n",
    "#All values for action is 2\n",
    "df_not_redeemed = df_on[(df_on[\"Date\"].isna()) & (df_on[\"Coupon_id\"].isna()==False)]\n",
    "df_not_redeemed.shape[0] == df_not_redeemed[df_not_redeemed['Action']==2].shape[0]"
   ]
  },
  {
   "cell_type": "code",
   "execution_count": 28,
   "metadata": {},
   "outputs": [
    {
     "data": {
      "text/plain": [
       "count    655898.0\n",
       "mean          2.0\n",
       "std           0.0\n",
       "min           2.0\n",
       "25%           2.0\n",
       "50%           2.0\n",
       "75%           2.0\n",
       "max           2.0\n",
       "Name: Action, dtype: float64"
      ]
     },
     "execution_count": 28,
     "metadata": {},
     "output_type": "execute_result"
    }
   ],
   "source": [
    "df_not_redeemed[\"Action\"].describe()"
   ]
  },
  {
   "cell_type": "code",
   "execution_count": 29,
   "metadata": {},
   "outputs": [
    {
     "data": {
      "text/plain": [
       "(10557469, 7)"
      ]
     },
     "execution_count": 29,
     "metadata": {},
     "output_type": "execute_result"
    }
   ],
   "source": [
    "#Date!=Null and Coupon_id==Null: No coupon(92.36%) and the customer only 'clicks' and 'buys'\n",
    "df_no_coupon = df_on[(df_on[\"Date\"].isna()==False) & (df_on[\"Coupon_id\"].isna())]\n",
    "df_no_coupon.shape"
   ]
  },
  {
   "cell_type": "code",
   "execution_count": 30,
   "metadata": {},
   "outputs": [
    {
     "data": {
      "text/plain": [
       "array([1, 0])"
      ]
     },
     "execution_count": 30,
     "metadata": {},
     "output_type": "execute_result"
    }
   ],
   "source": [
    "df_no_coupon[\"Action\"].unique()"
   ]
  },
  {
   "cell_type": "code",
   "execution_count": 31,
   "metadata": {},
   "outputs": [
    {
     "data": {
      "text/plain": [
       "(9401780, 7)"
      ]
     },
     "execution_count": 31,
     "metadata": {},
     "output_type": "execute_result"
    }
   ],
   "source": [
    "#82.23% times customer only clicks\n",
    "df_no_coupon[df_no_coupon[\"Action\"]==0].shape"
   ]
  },
  {
   "cell_type": "code",
   "execution_count": 32,
   "metadata": {},
   "outputs": [
    {
     "data": {
      "text/plain": [
       "(9401780, 7)"
      ]
     },
     "execution_count": 32,
     "metadata": {},
     "output_type": "execute_result"
    }
   ],
   "source": [
    "#10.11% times customer buys with no coupon\n",
    "df_no_coupon[df_no_coupon[\"Action\"]==0].shape"
   ]
  },
  {
   "cell_type": "code",
   "execution_count": 33,
   "metadata": {},
   "outputs": [
    {
     "data": {
      "text/plain": [
       "(216459, 7)"
      ]
     },
     "execution_count": 33,
     "metadata": {},
     "output_type": "execute_result"
    }
   ],
   "source": [
    "#coupon redeemed 1.89% times ('buys') (Date!=Null and Coupon_id!=Null)\n",
    "df_redeemed = df_on[(df_on[\"Date\"].isna()==False) & (df_on[\"Coupon_id\"].isna()==False)]\n",
    "df_redeemed.shape"
   ]
  },
  {
   "cell_type": "code",
   "execution_count": 34,
   "metadata": {},
   "outputs": [
    {
     "data": {
      "text/plain": [
       "array([1])"
      ]
     },
     "execution_count": 34,
     "metadata": {},
     "output_type": "execute_result"
    }
   ],
   "source": [
    "df_redeemed[\"Action\"].unique()"
   ]
  },
  {
   "cell_type": "code",
   "execution_count": 36,
   "metadata": {},
   "outputs": [
    {
     "data": {
      "text/plain": [
       "User_id          762858\n",
       "Merchant_id        7999\n",
       "Action                3\n",
       "Coupon_id         27747\n",
       "Discount_rate        64\n",
       "Date_received       167\n",
       "Date                182\n",
       "dtype: int64"
      ]
     },
     "execution_count": 36,
     "metadata": {},
     "output_type": "execute_result"
    }
   ],
   "source": [
    "#number of unique values for each column\n",
    "df_on.nunique(axis = 0) "
   ]
  },
  {
   "cell_type": "code",
   "execution_count": 37,
   "metadata": {},
   "outputs": [
    {
     "data": {
      "text/html": [
       "<div>\n",
       "<style scoped>\n",
       "    .dataframe tbody tr th:only-of-type {\n",
       "        vertical-align: middle;\n",
       "    }\n",
       "\n",
       "    .dataframe tbody tr th {\n",
       "        vertical-align: top;\n",
       "    }\n",
       "\n",
       "    .dataframe thead th {\n",
       "        text-align: right;\n",
       "    }\n",
       "</style>\n",
       "<table border=\"1\" class=\"dataframe\">\n",
       "  <thead>\n",
       "    <tr style=\"text-align: right;\">\n",
       "      <th></th>\n",
       "      <th>User_id</th>\n",
       "      <th>Merchant_id</th>\n",
       "      <th>Action</th>\n",
       "      <th>Coupon_id</th>\n",
       "      <th>Discount_rate</th>\n",
       "      <th>Date_received</th>\n",
       "      <th>Date</th>\n",
       "    </tr>\n",
       "  </thead>\n",
       "  <tbody>\n",
       "    <tr>\n",
       "      <td>0</td>\n",
       "      <td>13740231</td>\n",
       "      <td>18907</td>\n",
       "      <td>2</td>\n",
       "      <td>100017492</td>\n",
       "      <td>500:50</td>\n",
       "      <td>20160513.0</td>\n",
       "      <td>NaN</td>\n",
       "    </tr>\n",
       "    <tr>\n",
       "      <td>1</td>\n",
       "      <td>13740231</td>\n",
       "      <td>34805</td>\n",
       "      <td>1</td>\n",
       "      <td>NaN</td>\n",
       "      <td>NaN</td>\n",
       "      <td>NaN</td>\n",
       "      <td>20160321.0</td>\n",
       "    </tr>\n",
       "    <tr>\n",
       "      <td>2</td>\n",
       "      <td>14336199</td>\n",
       "      <td>18907</td>\n",
       "      <td>0</td>\n",
       "      <td>NaN</td>\n",
       "      <td>NaN</td>\n",
       "      <td>NaN</td>\n",
       "      <td>20160618.0</td>\n",
       "    </tr>\n",
       "    <tr>\n",
       "      <td>3</td>\n",
       "      <td>14336199</td>\n",
       "      <td>18907</td>\n",
       "      <td>0</td>\n",
       "      <td>NaN</td>\n",
       "      <td>NaN</td>\n",
       "      <td>NaN</td>\n",
       "      <td>20160618.0</td>\n",
       "    </tr>\n",
       "    <tr>\n",
       "      <td>4</td>\n",
       "      <td>14336199</td>\n",
       "      <td>18907</td>\n",
       "      <td>0</td>\n",
       "      <td>NaN</td>\n",
       "      <td>NaN</td>\n",
       "      <td>NaN</td>\n",
       "      <td>20160618.0</td>\n",
       "    </tr>\n",
       "    <tr>\n",
       "      <td>...</td>\n",
       "      <td>...</td>\n",
       "      <td>...</td>\n",
       "      <td>...</td>\n",
       "      <td>...</td>\n",
       "      <td>...</td>\n",
       "      <td>...</td>\n",
       "      <td>...</td>\n",
       "    </tr>\n",
       "    <tr>\n",
       "      <td>11429821</td>\n",
       "      <td>13087731</td>\n",
       "      <td>27715</td>\n",
       "      <td>0</td>\n",
       "      <td>NaN</td>\n",
       "      <td>NaN</td>\n",
       "      <td>NaN</td>\n",
       "      <td>20160629.0</td>\n",
       "    </tr>\n",
       "    <tr>\n",
       "      <td>11429822</td>\n",
       "      <td>13087731</td>\n",
       "      <td>52005</td>\n",
       "      <td>0</td>\n",
       "      <td>NaN</td>\n",
       "      <td>NaN</td>\n",
       "      <td>NaN</td>\n",
       "      <td>20160324.0</td>\n",
       "    </tr>\n",
       "    <tr>\n",
       "      <td>11429823</td>\n",
       "      <td>13087731</td>\n",
       "      <td>45611</td>\n",
       "      <td>0</td>\n",
       "      <td>NaN</td>\n",
       "      <td>NaN</td>\n",
       "      <td>NaN</td>\n",
       "      <td>20160422.0</td>\n",
       "    </tr>\n",
       "    <tr>\n",
       "      <td>11429824</td>\n",
       "      <td>13683699</td>\n",
       "      <td>18009</td>\n",
       "      <td>1</td>\n",
       "      <td>NaN</td>\n",
       "      <td>NaN</td>\n",
       "      <td>NaN</td>\n",
       "      <td>20160323.0</td>\n",
       "    </tr>\n",
       "    <tr>\n",
       "      <td>11429825</td>\n",
       "      <td>13683699</td>\n",
       "      <td>18009</td>\n",
       "      <td>1</td>\n",
       "      <td>NaN</td>\n",
       "      <td>NaN</td>\n",
       "      <td>NaN</td>\n",
       "      <td>20160628.0</td>\n",
       "    </tr>\n",
       "  </tbody>\n",
       "</table>\n",
       "<p>7555490 rows × 7 columns</p>\n",
       "</div>"
      ],
      "text/plain": [
       "           User_id  Merchant_id  Action  Coupon_id Discount_rate  \\\n",
       "0         13740231        18907       2  100017492        500:50   \n",
       "1         13740231        34805       1        NaN           NaN   \n",
       "2         14336199        18907       0        NaN           NaN   \n",
       "3         14336199        18907       0        NaN           NaN   \n",
       "4         14336199        18907       0        NaN           NaN   \n",
       "...            ...          ...     ...        ...           ...   \n",
       "11429821  13087731        27715       0        NaN           NaN   \n",
       "11429822  13087731        52005       0        NaN           NaN   \n",
       "11429823  13087731        45611       0        NaN           NaN   \n",
       "11429824  13683699        18009       1        NaN           NaN   \n",
       "11429825  13683699        18009       1        NaN           NaN   \n",
       "\n",
       "          Date_received        Date  \n",
       "0            20160513.0         NaN  \n",
       "1                   NaN  20160321.0  \n",
       "2                   NaN  20160618.0  \n",
       "3                   NaN  20160618.0  \n",
       "4                   NaN  20160618.0  \n",
       "...                 ...         ...  \n",
       "11429821            NaN  20160629.0  \n",
       "11429822            NaN  20160324.0  \n",
       "11429823            NaN  20160422.0  \n",
       "11429824            NaN  20160323.0  \n",
       "11429825            NaN  20160628.0  \n",
       "\n",
       "[7555490 rows x 7 columns]"
      ]
     },
     "execution_count": 37,
     "metadata": {},
     "output_type": "execute_result"
    }
   ],
   "source": [
    "df_on.groupby(['User_id','Merchant_id']).head()"
   ]
  },
  {
   "cell_type": "code",
   "execution_count": 38,
   "metadata": {},
   "outputs": [
    {
     "data": {
      "text/plain": [
       "((131546, 7), (131546, 7))"
      ]
     },
     "execution_count": 38,
     "metadata": {},
     "output_type": "execute_result"
    }
   ],
   "source": [
    "#When coupon==fixed, coupon redeemed the same day\n",
    "df_fix = df_on[df_on[\"Coupon_id\"]==\"fixed\"]\n",
    "df_fix.shape, df_fix[df_fix[\"Date_received\"]==df_fix[\"Date\"]].shape"
   ]
  },
  {
   "cell_type": "code",
   "execution_count": 39,
   "metadata": {},
   "outputs": [],
   "source": [
    "df_on.index.name=\"Index\""
   ]
  },
  {
   "cell_type": "code",
   "execution_count": 40,
   "metadata": {},
   "outputs": [],
   "source": [
    "# df_on[(df_on[\"User_id\"]==14336199)]"
   ]
  },
  {
   "cell_type": "code",
   "execution_count": 41,
   "metadata": {},
   "outputs": [],
   "source": [
    "# df_on[(df_on[\"User_id\"]==10998966) & (df_on[\"Merchant_id\"]==14305)]"
   ]
  },
  {
   "cell_type": "code",
   "execution_count": 42,
   "metadata": {},
   "outputs": [
    {
     "data": {
      "text/plain": [
       "Index(['User_id', 'Merchant_id', 'Action', 'Coupon_id', 'Discount_rate',\n",
       "       'Date_received', 'Date'],\n",
       "      dtype='object')"
      ]
     },
     "execution_count": 42,
     "metadata": {},
     "output_type": "execute_result"
    }
   ],
   "source": [
    "df_on.columns"
   ]
  },
  {
   "cell_type": "code",
   "execution_count": 43,
   "metadata": {},
   "outputs": [
    {
     "data": {
      "text/plain": [
       "(5822543, 7)"
      ]
     },
     "execution_count": 43,
     "metadata": {},
     "output_type": "execute_result"
    }
   ],
   "source": [
    "df_on.drop_duplicates().shape"
   ]
  },
  {
   "cell_type": "code",
   "execution_count": 45,
   "metadata": {},
   "outputs": [
    {
     "data": {
      "text/plain": [
       "(5822543, 8)"
      ]
     },
     "execution_count": 45,
     "metadata": {},
     "output_type": "execute_result"
    }
   ],
   "source": [
    "#Removing duplicates and giving frequency counts(Count) to each row\n",
    "x = 'g8h.|$hTdo+jC9^@'    \n",
    "df_on_unique = (df_on.fillna(x).groupby(['User_id', 'Merchant_id', 'Action', 'Coupon_id', 'Discount_rate',\n",
    "       'Date_received', 'Date']).size().reset_index()\n",
    "               .rename(columns={0 : 'Count'}).replace(x,np.NaN))\n",
    "df_on_unique.shape"
   ]
  },
  {
   "cell_type": "code",
   "execution_count": 46,
   "metadata": {},
   "outputs": [
    {
     "data": {
      "text/plain": [
       "count    5.822543e+06\n",
       "mean     1.963030e+00\n",
       "std      3.430659e+00\n",
       "min      1.000000e+00\n",
       "25%      1.000000e+00\n",
       "50%      1.000000e+00\n",
       "75%      2.000000e+00\n",
       "max      6.300000e+02\n",
       "Name: Count, dtype: float64"
      ]
     },
     "execution_count": 46,
     "metadata": {},
     "output_type": "execute_result"
    }
   ],
   "source": [
    "df_on_unique.Count.describe()"
   ]
  },
  {
   "cell_type": "code",
   "execution_count": 38,
   "metadata": {},
   "outputs": [
    {
     "data": {
      "text/plain": [
       "[630, 504, 444, 432, 378, 367, 336, 336, 333, 322]"
      ]
     },
     "execution_count": 38,
     "metadata": {},
     "output_type": "execute_result"
    }
   ],
   "source": [
    "#Repetition of records\n",
    "arr = list(df_on_unique[\"Count\"])\n",
    "arr.sort(reverse=True)\n",
    "arr[:10]"
   ]
  },
  {
   "cell_type": "code",
   "execution_count": 47,
   "metadata": {},
   "outputs": [
    {
     "data": {
      "text/plain": [
       "User_id          762858\n",
       "Merchant_id        7999\n",
       "Action                3\n",
       "Coupon_id         27747\n",
       "Discount_rate        64\n",
       "Date_received       167\n",
       "Date                182\n",
       "Count               233\n",
       "dtype: int64"
      ]
     },
     "execution_count": 47,
     "metadata": {},
     "output_type": "execute_result"
    }
   ],
   "source": [
    "#number of unique values for each column\n",
    "df_on_unique.nunique()"
   ]
  },
  {
   "cell_type": "code",
   "execution_count": 41,
   "metadata": {},
   "outputs": [],
   "source": [
    "# df_on_unique[df_on_unique[\"User_id\"]==10998966]"
   ]
  },
  {
   "cell_type": "code",
   "execution_count": 51,
   "metadata": {},
   "outputs": [
    {
     "data": {
      "text/html": [
       "<div>\n",
       "<style scoped>\n",
       "    .dataframe tbody tr th:only-of-type {\n",
       "        vertical-align: middle;\n",
       "    }\n",
       "\n",
       "    .dataframe tbody tr th {\n",
       "        vertical-align: top;\n",
       "    }\n",
       "\n",
       "    .dataframe thead th {\n",
       "        text-align: right;\n",
       "    }\n",
       "</style>\n",
       "<table border=\"1\" class=\"dataframe\">\n",
       "  <thead>\n",
       "    <tr style=\"text-align: right;\">\n",
       "      <th></th>\n",
       "      <th>User_id</th>\n",
       "      <th>Merchant_id</th>\n",
       "      <th>Action</th>\n",
       "      <th>Coupon_id</th>\n",
       "      <th>Discount_rate</th>\n",
       "      <th>Date_received</th>\n",
       "      <th>Date</th>\n",
       "      <th>Count</th>\n",
       "      <th>Action_0</th>\n",
       "      <th>Action_1</th>\n",
       "      <th>Action_2</th>\n",
       "    </tr>\n",
       "  </thead>\n",
       "  <tbody>\n",
       "    <tr>\n",
       "      <td>0</td>\n",
       "      <td>4</td>\n",
       "      <td>25104</td>\n",
       "      <td>2</td>\n",
       "      <td>100145044</td>\n",
       "      <td>100:10</td>\n",
       "      <td>20160331.0</td>\n",
       "      <td>NaN</td>\n",
       "      <td>1</td>\n",
       "      <td>0</td>\n",
       "      <td>0</td>\n",
       "      <td>1</td>\n",
       "    </tr>\n",
       "    <tr>\n",
       "      <td>1</td>\n",
       "      <td>4</td>\n",
       "      <td>45612</td>\n",
       "      <td>1</td>\n",
       "      <td>NaN</td>\n",
       "      <td>NaN</td>\n",
       "      <td>NaN</td>\n",
       "      <td>20160308.0</td>\n",
       "      <td>1</td>\n",
       "      <td>0</td>\n",
       "      <td>1</td>\n",
       "      <td>0</td>\n",
       "    </tr>\n",
       "    <tr>\n",
       "      <td>2</td>\n",
       "      <td>36</td>\n",
       "      <td>46701</td>\n",
       "      <td>0</td>\n",
       "      <td>NaN</td>\n",
       "      <td>NaN</td>\n",
       "      <td>NaN</td>\n",
       "      <td>20160120.0</td>\n",
       "      <td>1</td>\n",
       "      <td>1</td>\n",
       "      <td>0</td>\n",
       "      <td>0</td>\n",
       "    </tr>\n",
       "    <tr>\n",
       "      <td>3</td>\n",
       "      <td>64</td>\n",
       "      <td>11200</td>\n",
       "      <td>0</td>\n",
       "      <td>NaN</td>\n",
       "      <td>NaN</td>\n",
       "      <td>NaN</td>\n",
       "      <td>20160526.0</td>\n",
       "      <td>1</td>\n",
       "      <td>1</td>\n",
       "      <td>0</td>\n",
       "      <td>0</td>\n",
       "    </tr>\n",
       "    <tr>\n",
       "      <td>4</td>\n",
       "      <td>64</td>\n",
       "      <td>29214</td>\n",
       "      <td>0</td>\n",
       "      <td>NaN</td>\n",
       "      <td>NaN</td>\n",
       "      <td>NaN</td>\n",
       "      <td>20160606.0</td>\n",
       "      <td>1</td>\n",
       "      <td>1</td>\n",
       "      <td>0</td>\n",
       "      <td>0</td>\n",
       "    </tr>\n",
       "  </tbody>\n",
       "</table>\n",
       "</div>"
      ],
      "text/plain": [
       "   User_id  Merchant_id  Action  Coupon_id Discount_rate  Date_received  \\\n",
       "0        4        25104       2  100145044        100:10     20160331.0   \n",
       "1        4        45612       1        NaN           NaN            NaN   \n",
       "2       36        46701       0        NaN           NaN            NaN   \n",
       "3       64        11200       0        NaN           NaN            NaN   \n",
       "4       64        29214       0        NaN           NaN            NaN   \n",
       "\n",
       "         Date  Count  Action_0  Action_1  Action_2  \n",
       "0         NaN      1         0         0         1  \n",
       "1  20160308.0      1         0         1         0  \n",
       "2  20160120.0      1         1         0         0  \n",
       "3  20160526.0      1         1         0         0  \n",
       "4  20160606.0      1         1         0         0  "
      ]
     },
     "execution_count": 51,
     "metadata": {},
     "output_type": "execute_result"
    }
   ],
   "source": [
    "df_online_actions= pd.concat([df_on_unique,pd.get_dummies(df_on_unique['Action'], prefix='Action',dummy_na=False)],axis=1)\n",
    "\n",
    "#Getting action values based on the count value \n",
    "df_online_actions['Action_0'] = df_online_actions['Action_0'] * df_online_actions['Count']\n",
    "df_online_actions['Action_1'] = df_online_actions['Action_1'] * df_online_actions['Count']\n",
    "df_online_actions['Action_2'] = df_online_actions['Action_2'] * df_online_actions['Count']\n",
    "# df_online_actions[df_online_actions['User_id']==10998966]\n",
    "df_online_actions.head()\n"
   ]
  },
  {
   "cell_type": "markdown",
   "metadata": {},
   "source": [
    "#### Finding buy:click ratio for each user"
   ]
  },
  {
   "cell_type": "code",
   "execution_count": 46,
   "metadata": {},
   "outputs": [],
   "source": [
    "\n",
    "# df_online_actions = df_online_actions.groupby('User_id')['Action_1','Action_0'].sum()\n",
    "# df_online_actions['buy_clicks'] = df_online_actions['Action_1']/df_online_actions['Action_0']\n",
    "# df_online_actions  = df_online_actions.replace([np.inf, -np.inf], -1)\n",
    "# df_online_actions[\"buy_clicks\"].value_counts()"
   ]
  },
  {
   "cell_type": "code",
   "execution_count": 47,
   "metadata": {},
   "outputs": [],
   "source": [
    "# df_online_actions_ = pd.DataFrame(df_online_actions).reset_index()"
   ]
  },
  {
   "cell_type": "code",
   "execution_count": 52,
   "metadata": {},
   "outputs": [],
   "source": [
    "#Converting Date and Date_received to DateTime Format\n",
    "df_on_unique['Date'] = pd.to_datetime(df_on_unique[\"Date\"],format='%Y%m%d')\n",
    "df_on_unique['Date_received'] = pd.to_datetime(df_on_unique[\"Date_received\"],format='%Y%m%d')"
   ]
  },
  {
   "cell_type": "code",
   "execution_count": 53,
   "metadata": {},
   "outputs": [
    {
     "data": {
      "text/html": [
       "<div>\n",
       "<style scoped>\n",
       "    .dataframe tbody tr th:only-of-type {\n",
       "        vertical-align: middle;\n",
       "    }\n",
       "\n",
       "    .dataframe tbody tr th {\n",
       "        vertical-align: top;\n",
       "    }\n",
       "\n",
       "    .dataframe thead th {\n",
       "        text-align: right;\n",
       "    }\n",
       "</style>\n",
       "<table border=\"1\" class=\"dataframe\">\n",
       "  <thead>\n",
       "    <tr style=\"text-align: right;\">\n",
       "      <th></th>\n",
       "      <th>User_id</th>\n",
       "      <th>Merchant_id</th>\n",
       "      <th>Action</th>\n",
       "      <th>Coupon_id</th>\n",
       "      <th>Discount_rate</th>\n",
       "      <th>Date_received</th>\n",
       "      <th>Date</th>\n",
       "      <th>Count</th>\n",
       "    </tr>\n",
       "  </thead>\n",
       "  <tbody>\n",
       "    <tr>\n",
       "      <td>0</td>\n",
       "      <td>4</td>\n",
       "      <td>25104</td>\n",
       "      <td>2</td>\n",
       "      <td>100145044</td>\n",
       "      <td>100:10</td>\n",
       "      <td>2016-03-31</td>\n",
       "      <td>NaT</td>\n",
       "      <td>1</td>\n",
       "    </tr>\n",
       "    <tr>\n",
       "      <td>1</td>\n",
       "      <td>4</td>\n",
       "      <td>45612</td>\n",
       "      <td>1</td>\n",
       "      <td>NaN</td>\n",
       "      <td>NaN</td>\n",
       "      <td>NaT</td>\n",
       "      <td>2016-03-08</td>\n",
       "      <td>1</td>\n",
       "    </tr>\n",
       "    <tr>\n",
       "      <td>2</td>\n",
       "      <td>36</td>\n",
       "      <td>46701</td>\n",
       "      <td>0</td>\n",
       "      <td>NaN</td>\n",
       "      <td>NaN</td>\n",
       "      <td>NaT</td>\n",
       "      <td>2016-01-20</td>\n",
       "      <td>1</td>\n",
       "    </tr>\n",
       "    <tr>\n",
       "      <td>3</td>\n",
       "      <td>64</td>\n",
       "      <td>11200</td>\n",
       "      <td>0</td>\n",
       "      <td>NaN</td>\n",
       "      <td>NaN</td>\n",
       "      <td>NaT</td>\n",
       "      <td>2016-05-26</td>\n",
       "      <td>1</td>\n",
       "    </tr>\n",
       "    <tr>\n",
       "      <td>4</td>\n",
       "      <td>64</td>\n",
       "      <td>29214</td>\n",
       "      <td>0</td>\n",
       "      <td>NaN</td>\n",
       "      <td>NaN</td>\n",
       "      <td>NaT</td>\n",
       "      <td>2016-06-06</td>\n",
       "      <td>1</td>\n",
       "    </tr>\n",
       "  </tbody>\n",
       "</table>\n",
       "</div>"
      ],
      "text/plain": [
       "   User_id  Merchant_id  Action  Coupon_id Discount_rate Date_received  \\\n",
       "0        4        25104       2  100145044        100:10    2016-03-31   \n",
       "1        4        45612       1        NaN           NaN           NaT   \n",
       "2       36        46701       0        NaN           NaN           NaT   \n",
       "3       64        11200       0        NaN           NaN           NaT   \n",
       "4       64        29214       0        NaN           NaN           NaT   \n",
       "\n",
       "        Date  Count  \n",
       "0        NaT      1  \n",
       "1 2016-03-08      1  \n",
       "2 2016-01-20      1  \n",
       "3 2016-05-26      1  \n",
       "4 2016-06-06      1  "
      ]
     },
     "execution_count": 53,
     "metadata": {},
     "output_type": "execute_result"
    }
   ],
   "source": [
    "df_on_unique.head()"
   ]
  },
  {
   "cell_type": "markdown",
   "metadata": {},
   "source": [
    "### Users involved in both online and offline transactions"
   ]
  },
  {
   "cell_type": "code",
   "execution_count": 55,
   "metadata": {},
   "outputs": [],
   "source": [
    "on_off = df_on_unique.append(df_of_unique, sort=False)"
   ]
  },
  {
   "cell_type": "code",
   "execution_count": 56,
   "metadata": {},
   "outputs": [
    {
     "data": {
      "text/html": [
       "<div>\n",
       "<style scoped>\n",
       "    .dataframe tbody tr th:only-of-type {\n",
       "        vertical-align: middle;\n",
       "    }\n",
       "\n",
       "    .dataframe tbody tr th {\n",
       "        vertical-align: top;\n",
       "    }\n",
       "\n",
       "    .dataframe thead th {\n",
       "        text-align: right;\n",
       "    }\n",
       "</style>\n",
       "<table border=\"1\" class=\"dataframe\">\n",
       "  <thead>\n",
       "    <tr style=\"text-align: right;\">\n",
       "      <th></th>\n",
       "      <th>User_id</th>\n",
       "      <th>Merchant_id</th>\n",
       "      <th>Action</th>\n",
       "      <th>Coupon_id</th>\n",
       "      <th>Discount_rate</th>\n",
       "      <th>Date_received</th>\n",
       "      <th>Date</th>\n",
       "      <th>Count</th>\n",
       "      <th>Distance</th>\n",
       "    </tr>\n",
       "  </thead>\n",
       "  <tbody>\n",
       "    <tr>\n",
       "      <td>0</td>\n",
       "      <td>4</td>\n",
       "      <td>25104</td>\n",
       "      <td>2.0</td>\n",
       "      <td>100145044</td>\n",
       "      <td>100:10</td>\n",
       "      <td>2016-03-31</td>\n",
       "      <td>NaT</td>\n",
       "      <td>1</td>\n",
       "      <td>NaN</td>\n",
       "    </tr>\n",
       "    <tr>\n",
       "      <td>1</td>\n",
       "      <td>4</td>\n",
       "      <td>45612</td>\n",
       "      <td>1.0</td>\n",
       "      <td>NaN</td>\n",
       "      <td>NaN</td>\n",
       "      <td>NaT</td>\n",
       "      <td>2016-03-08</td>\n",
       "      <td>1</td>\n",
       "      <td>NaN</td>\n",
       "    </tr>\n",
       "    <tr>\n",
       "      <td>2</td>\n",
       "      <td>36</td>\n",
       "      <td>46701</td>\n",
       "      <td>0.0</td>\n",
       "      <td>NaN</td>\n",
       "      <td>NaN</td>\n",
       "      <td>NaT</td>\n",
       "      <td>2016-01-20</td>\n",
       "      <td>1</td>\n",
       "      <td>NaN</td>\n",
       "    </tr>\n",
       "    <tr>\n",
       "      <td>3</td>\n",
       "      <td>64</td>\n",
       "      <td>11200</td>\n",
       "      <td>0.0</td>\n",
       "      <td>NaN</td>\n",
       "      <td>NaN</td>\n",
       "      <td>NaT</td>\n",
       "      <td>2016-05-26</td>\n",
       "      <td>1</td>\n",
       "      <td>NaN</td>\n",
       "    </tr>\n",
       "    <tr>\n",
       "      <td>4</td>\n",
       "      <td>64</td>\n",
       "      <td>29214</td>\n",
       "      <td>0.0</td>\n",
       "      <td>NaN</td>\n",
       "      <td>NaN</td>\n",
       "      <td>NaT</td>\n",
       "      <td>2016-06-06</td>\n",
       "      <td>1</td>\n",
       "      <td>NaN</td>\n",
       "    </tr>\n",
       "  </tbody>\n",
       "</table>\n",
       "</div>"
      ],
      "text/plain": [
       "   User_id  Merchant_id  Action  Coupon_id Discount_rate Date_received  \\\n",
       "0        4        25104     2.0  100145044        100:10    2016-03-31   \n",
       "1        4        45612     1.0        NaN           NaN           NaT   \n",
       "2       36        46701     0.0        NaN           NaN           NaT   \n",
       "3       64        11200     0.0        NaN           NaN           NaT   \n",
       "4       64        29214     0.0        NaN           NaN           NaT   \n",
       "\n",
       "        Date  Count  Distance  \n",
       "0        NaT      1       NaN  \n",
       "1 2016-03-08      1       NaN  \n",
       "2 2016-01-20      1       NaN  \n",
       "3 2016-05-26      1       NaN  \n",
       "4 2016-06-06      1       NaN  "
      ]
     },
     "execution_count": 56,
     "metadata": {},
     "output_type": "execute_result"
    }
   ],
   "source": [
    "on_off.head()"
   ]
  },
  {
   "cell_type": "code",
   "execution_count": 62,
   "metadata": {},
   "outputs": [
    {
     "data": {
      "text/plain": [
       "(762858, 267448)"
      ]
     },
     "execution_count": 62,
     "metadata": {},
     "output_type": "execute_result"
    }
   ],
   "source": [
    "users_on = set(df_on[\"User_id\"].unique())           #number of users in online data\n",
    "users_of = set(df_of[\"User_id\"].unique())           #number of users in offline data\n",
    "users_test = set(df_test[\"User_id\"].unique())       #number of users in test data\n",
    "users_on_off = set(users_of.intersection(users_on)) #number of users having both online and offline presence\n",
    "len(users_on), len(users_on_of)"
   ]
  },
  {
   "cell_type": "code",
   "execution_count": 63,
   "metadata": {},
   "outputs": [
    {
     "data": {
      "text/plain": [
       "(43155, 76307)"
      ]
     },
     "execution_count": 63,
     "metadata": {},
     "output_type": "execute_result"
    }
   ],
   "source": [
    "#number of common users in (test and online data) and (test and offline data) \n",
    "len(users_test.intersection(users_on)), len(users_test.intersection(users_of))"
   ]
  },
  {
   "cell_type": "code",
   "execution_count": 64,
   "metadata": {},
   "outputs": [
    {
     "data": {
      "text/plain": [
       "(495410, 271990)"
      ]
     },
     "execution_count": 64,
     "metadata": {},
     "output_type": "execute_result"
    }
   ],
   "source": [
    "#number of users using only online and only offline services\n",
    "len(users_on - users_on_off), len(users_of - users_on_off)"
   ]
  },
  {
   "cell_type": "code",
   "execution_count": 65,
   "metadata": {},
   "outputs": [],
   "source": [
    "merch_on = set(df_on[\"Merchant_id\"].unique())        #number of Merchant in online data\n",
    "merch_of = set(df_of[\"Merchant_id\"].unique())        #number of Merchants in offline data\n",
    "merch_test = set(df_test[\"Merchant_id\"].unique())    #number of Merchants in test data"
   ]
  },
  {
   "cell_type": "code",
   "execution_count": 66,
   "metadata": {},
   "outputs": [
    {
     "data": {
      "text/plain": [
       "(0, 1558)"
      ]
     },
     "execution_count": 66,
     "metadata": {},
     "output_type": "execute_result"
    }
   ],
   "source": [
    "#number of common merchants in (test and online data) and (test and offline data) \n",
    "len(merch_test.intersection(merch_on)), len(merch_test.intersection(merch_of))"
   ]
  },
  {
   "cell_type": "code",
   "execution_count": 69,
   "metadata": {},
   "outputs": [
    {
     "data": {
      "text/plain": [
       "(2168771, 9)"
      ]
     },
     "execution_count": 69,
     "metadata": {},
     "output_type": "execute_result"
    }
   ],
   "source": [
    "#dataset of users having both online and offline presence\n",
    "on_off = on_off[on_off['User_id'].isin(list(users_on_off))]\n",
    "on_off.shape"
   ]
  },
  {
   "cell_type": "code",
   "execution_count": 70,
   "metadata": {},
   "outputs": [
    {
     "data": {
      "text/html": [
       "<div>\n",
       "<style scoped>\n",
       "    .dataframe tbody tr th:only-of-type {\n",
       "        vertical-align: middle;\n",
       "    }\n",
       "\n",
       "    .dataframe tbody tr th {\n",
       "        vertical-align: top;\n",
       "    }\n",
       "\n",
       "    .dataframe thead th {\n",
       "        text-align: right;\n",
       "    }\n",
       "</style>\n",
       "<table border=\"1\" class=\"dataframe\">\n",
       "  <thead>\n",
       "    <tr style=\"text-align: right;\">\n",
       "      <th></th>\n",
       "      <th>User_id</th>\n",
       "      <th>Merchant_id</th>\n",
       "      <th>Action</th>\n",
       "      <th>Coupon_id</th>\n",
       "      <th>Discount_rate</th>\n",
       "      <th>Date_received</th>\n",
       "      <th>Date</th>\n",
       "      <th>Count</th>\n",
       "      <th>Distance</th>\n",
       "    </tr>\n",
       "  </thead>\n",
       "  <tbody>\n",
       "    <tr>\n",
       "      <td>2</td>\n",
       "      <td>36</td>\n",
       "      <td>46701</td>\n",
       "      <td>0.0</td>\n",
       "      <td>NaN</td>\n",
       "      <td>NaN</td>\n",
       "      <td>NaT</td>\n",
       "      <td>2016-01-20</td>\n",
       "      <td>1</td>\n",
       "      <td>NaN</td>\n",
       "    </tr>\n",
       "    <tr>\n",
       "      <td>6</td>\n",
       "      <td>36</td>\n",
       "      <td>1041</td>\n",
       "      <td>NaN</td>\n",
       "      <td>13490</td>\n",
       "      <td>30:5</td>\n",
       "      <td>2016-01-25</td>\n",
       "      <td>NaT</td>\n",
       "      <td>1</td>\n",
       "      <td>4.0</td>\n",
       "    </tr>\n",
       "    <tr>\n",
       "      <td>7</td>\n",
       "      <td>36</td>\n",
       "      <td>5717</td>\n",
       "      <td>NaN</td>\n",
       "      <td>12349</td>\n",
       "      <td>20:5</td>\n",
       "      <td>2016-01-25</td>\n",
       "      <td>NaT</td>\n",
       "      <td>1</td>\n",
       "      <td>8.0</td>\n",
       "    </tr>\n",
       "  </tbody>\n",
       "</table>\n",
       "</div>"
      ],
      "text/plain": [
       "   User_id  Merchant_id  Action Coupon_id Discount_rate Date_received  \\\n",
       "2       36        46701     0.0       NaN           NaN           NaT   \n",
       "6       36         1041     NaN     13490          30:5    2016-01-25   \n",
       "7       36         5717     NaN     12349          20:5    2016-01-25   \n",
       "\n",
       "        Date  Count  Distance  \n",
       "2 2016-01-20      1       NaN  \n",
       "6        NaT      1       4.0  \n",
       "7        NaT      1       8.0  "
      ]
     },
     "execution_count": 70,
     "metadata": {},
     "output_type": "execute_result"
    }
   ],
   "source": [
    "on_off[on_off[\"User_id\"]==36]"
   ]
  },
  {
   "cell_type": "code",
   "execution_count": 71,
   "metadata": {},
   "outputs": [],
   "source": [
    "on_off = on_off.sort_values(by=['User_id'])"
   ]
  },
  {
   "cell_type": "code",
   "execution_count": 72,
   "metadata": {},
   "outputs": [
    {
     "data": {
      "text/html": [
       "<div>\n",
       "<style scoped>\n",
       "    .dataframe tbody tr th:only-of-type {\n",
       "        vertical-align: middle;\n",
       "    }\n",
       "\n",
       "    .dataframe tbody tr th {\n",
       "        vertical-align: top;\n",
       "    }\n",
       "\n",
       "    .dataframe thead th {\n",
       "        text-align: right;\n",
       "    }\n",
       "</style>\n",
       "<table border=\"1\" class=\"dataframe\">\n",
       "  <thead>\n",
       "    <tr style=\"text-align: right;\">\n",
       "      <th></th>\n",
       "      <th>User_id</th>\n",
       "      <th>Merchant_id</th>\n",
       "      <th>Action</th>\n",
       "      <th>Coupon_id</th>\n",
       "      <th>Discount_rate</th>\n",
       "      <th>Date_received</th>\n",
       "      <th>Date</th>\n",
       "      <th>Count</th>\n",
       "      <th>Distance</th>\n",
       "    </tr>\n",
       "  </thead>\n",
       "  <tbody>\n",
       "    <tr>\n",
       "      <td>0</td>\n",
       "      <td>4</td>\n",
       "      <td>25104</td>\n",
       "      <td>2.0</td>\n",
       "      <td>100145044</td>\n",
       "      <td>100:10</td>\n",
       "      <td>2016-03-31</td>\n",
       "      <td>NaT</td>\n",
       "      <td>1</td>\n",
       "      <td>NaN</td>\n",
       "    </tr>\n",
       "    <tr>\n",
       "      <td>1</td>\n",
       "      <td>4</td>\n",
       "      <td>1469</td>\n",
       "      <td>NaN</td>\n",
       "      <td>2902</td>\n",
       "      <td>0.95</td>\n",
       "      <td>2016-06-07</td>\n",
       "      <td>NaT</td>\n",
       "      <td>1</td>\n",
       "      <td>10.0</td>\n",
       "    </tr>\n",
       "    <tr>\n",
       "      <td>2</td>\n",
       "      <td>4</td>\n",
       "      <td>1433</td>\n",
       "      <td>NaN</td>\n",
       "      <td>8735</td>\n",
       "      <td>30:5</td>\n",
       "      <td>2016-02-14</td>\n",
       "      <td>NaT</td>\n",
       "      <td>1</td>\n",
       "      <td>10.0</td>\n",
       "    </tr>\n",
       "    <tr>\n",
       "      <td>3</td>\n",
       "      <td>4</td>\n",
       "      <td>45612</td>\n",
       "      <td>1.0</td>\n",
       "      <td>NaN</td>\n",
       "      <td>NaN</td>\n",
       "      <td>NaT</td>\n",
       "      <td>2016-03-08</td>\n",
       "      <td>1</td>\n",
       "      <td>NaN</td>\n",
       "    </tr>\n",
       "    <tr>\n",
       "      <td>4</td>\n",
       "      <td>36</td>\n",
       "      <td>5717</td>\n",
       "      <td>NaN</td>\n",
       "      <td>12349</td>\n",
       "      <td>20:5</td>\n",
       "      <td>2016-01-25</td>\n",
       "      <td>NaT</td>\n",
       "      <td>1</td>\n",
       "      <td>8.0</td>\n",
       "    </tr>\n",
       "  </tbody>\n",
       "</table>\n",
       "</div>"
      ],
      "text/plain": [
       "   User_id  Merchant_id  Action  Coupon_id Discount_rate Date_received  \\\n",
       "0        4        25104     2.0  100145044        100:10    2016-03-31   \n",
       "1        4         1469     NaN       2902          0.95    2016-06-07   \n",
       "2        4         1433     NaN       8735          30:5    2016-02-14   \n",
       "3        4        45612     1.0        NaN           NaN           NaT   \n",
       "4       36         5717     NaN      12349          20:5    2016-01-25   \n",
       "\n",
       "        Date  Count  Distance  \n",
       "0        NaT      1       NaN  \n",
       "1        NaT      1      10.0  \n",
       "2        NaT      1      10.0  \n",
       "3 2016-03-08      1       NaN  \n",
       "4        NaT      1       8.0  "
      ]
     },
     "execution_count": 72,
     "metadata": {},
     "output_type": "execute_result"
    }
   ],
   "source": [
    "on_off.reset_index(drop=True, inplace=True)\n",
    "on_off.head()"
   ]
  },
  {
   "cell_type": "code",
   "execution_count": 73,
   "metadata": {},
   "outputs": [
    {
     "data": {
      "text/html": [
       "<div>\n",
       "<style scoped>\n",
       "    .dataframe tbody tr th:only-of-type {\n",
       "        vertical-align: middle;\n",
       "    }\n",
       "\n",
       "    .dataframe tbody tr th {\n",
       "        vertical-align: top;\n",
       "    }\n",
       "\n",
       "    .dataframe thead th {\n",
       "        text-align: right;\n",
       "    }\n",
       "</style>\n",
       "<table border=\"1\" class=\"dataframe\">\n",
       "  <thead>\n",
       "    <tr style=\"text-align: right;\">\n",
       "      <th></th>\n",
       "      <th>User_id</th>\n",
       "      <th>Merchant_id</th>\n",
       "      <th>Action</th>\n",
       "      <th>Coupon_id</th>\n",
       "      <th>Discount_rate</th>\n",
       "      <th>Date_received</th>\n",
       "      <th>Date</th>\n",
       "      <th>Count</th>\n",
       "      <th>Distance</th>\n",
       "    </tr>\n",
       "  </thead>\n",
       "  <tbody>\n",
       "    <tr>\n",
       "      <td>5</td>\n",
       "      <td>36</td>\n",
       "      <td>46701</td>\n",
       "      <td>0.0</td>\n",
       "      <td>NaN</td>\n",
       "      <td>NaN</td>\n",
       "      <td>NaT</td>\n",
       "      <td>2016-01-20</td>\n",
       "      <td>1</td>\n",
       "      <td>NaN</td>\n",
       "    </tr>\n",
       "    <tr>\n",
       "      <td>7</td>\n",
       "      <td>64</td>\n",
       "      <td>11200</td>\n",
       "      <td>0.0</td>\n",
       "      <td>NaN</td>\n",
       "      <td>NaN</td>\n",
       "      <td>NaT</td>\n",
       "      <td>2016-05-26</td>\n",
       "      <td>1</td>\n",
       "      <td>NaN</td>\n",
       "    </tr>\n",
       "    <tr>\n",
       "      <td>10</td>\n",
       "      <td>64</td>\n",
       "      <td>29214</td>\n",
       "      <td>0.0</td>\n",
       "      <td>NaN</td>\n",
       "      <td>NaN</td>\n",
       "      <td>NaT</td>\n",
       "      <td>2016-06-06</td>\n",
       "      <td>1</td>\n",
       "      <td>NaN</td>\n",
       "    </tr>\n",
       "    <tr>\n",
       "      <td>12</td>\n",
       "      <td>144</td>\n",
       "      <td>33502</td>\n",
       "      <td>0.0</td>\n",
       "      <td>NaN</td>\n",
       "      <td>NaN</td>\n",
       "      <td>NaT</td>\n",
       "      <td>2016-02-14</td>\n",
       "      <td>1</td>\n",
       "      <td>NaN</td>\n",
       "    </tr>\n",
       "    <tr>\n",
       "      <td>32</td>\n",
       "      <td>173</td>\n",
       "      <td>14414</td>\n",
       "      <td>0.0</td>\n",
       "      <td>NaN</td>\n",
       "      <td>NaN</td>\n",
       "      <td>NaT</td>\n",
       "      <td>2016-01-17</td>\n",
       "      <td>1</td>\n",
       "      <td>NaN</td>\n",
       "    </tr>\n",
       "    <tr>\n",
       "      <td>...</td>\n",
       "      <td>...</td>\n",
       "      <td>...</td>\n",
       "      <td>...</td>\n",
       "      <td>...</td>\n",
       "      <td>...</td>\n",
       "      <td>...</td>\n",
       "      <td>...</td>\n",
       "      <td>...</td>\n",
       "      <td>...</td>\n",
       "    </tr>\n",
       "    <tr>\n",
       "      <td>2168737</td>\n",
       "      <td>7360928</td>\n",
       "      <td>27712</td>\n",
       "      <td>0.0</td>\n",
       "      <td>NaN</td>\n",
       "      <td>NaN</td>\n",
       "      <td>NaT</td>\n",
       "      <td>2016-03-21</td>\n",
       "      <td>1</td>\n",
       "      <td>NaN</td>\n",
       "    </tr>\n",
       "    <tr>\n",
       "      <td>2168738</td>\n",
       "      <td>7360928</td>\n",
       "      <td>13104</td>\n",
       "      <td>0.0</td>\n",
       "      <td>NaN</td>\n",
       "      <td>NaN</td>\n",
       "      <td>NaT</td>\n",
       "      <td>2016-05-20</td>\n",
       "      <td>1</td>\n",
       "      <td>NaN</td>\n",
       "    </tr>\n",
       "    <tr>\n",
       "      <td>2168742</td>\n",
       "      <td>7360928</td>\n",
       "      <td>44706</td>\n",
       "      <td>0.0</td>\n",
       "      <td>NaN</td>\n",
       "      <td>NaN</td>\n",
       "      <td>NaT</td>\n",
       "      <td>2016-03-14</td>\n",
       "      <td>2</td>\n",
       "      <td>NaN</td>\n",
       "    </tr>\n",
       "    <tr>\n",
       "      <td>2168753</td>\n",
       "      <td>7360961</td>\n",
       "      <td>25104</td>\n",
       "      <td>0.0</td>\n",
       "      <td>NaN</td>\n",
       "      <td>NaN</td>\n",
       "      <td>NaT</td>\n",
       "      <td>2016-05-19</td>\n",
       "      <td>1</td>\n",
       "      <td>NaN</td>\n",
       "    </tr>\n",
       "    <tr>\n",
       "      <td>2168755</td>\n",
       "      <td>7360961</td>\n",
       "      <td>35107</td>\n",
       "      <td>0.0</td>\n",
       "      <td>NaN</td>\n",
       "      <td>NaN</td>\n",
       "      <td>NaT</td>\n",
       "      <td>2016-05-30</td>\n",
       "      <td>3</td>\n",
       "      <td>NaN</td>\n",
       "    </tr>\n",
       "  </tbody>\n",
       "</table>\n",
       "<p>754960 rows × 9 columns</p>\n",
       "</div>"
      ],
      "text/plain": [
       "         User_id  Merchant_id  Action Coupon_id Discount_rate Date_received  \\\n",
       "5             36        46701     0.0       NaN           NaN           NaT   \n",
       "7             64        11200     0.0       NaN           NaN           NaT   \n",
       "10            64        29214     0.0       NaN           NaN           NaT   \n",
       "12           144        33502     0.0       NaN           NaN           NaT   \n",
       "32           173        14414     0.0       NaN           NaN           NaT   \n",
       "...          ...          ...     ...       ...           ...           ...   \n",
       "2168737  7360928        27712     0.0       NaN           NaN           NaT   \n",
       "2168738  7360928        13104     0.0       NaN           NaN           NaT   \n",
       "2168742  7360928        44706     0.0       NaN           NaN           NaT   \n",
       "2168753  7360961        25104     0.0       NaN           NaN           NaT   \n",
       "2168755  7360961        35107     0.0       NaN           NaN           NaT   \n",
       "\n",
       "              Date  Count  Distance  \n",
       "5       2016-01-20      1       NaN  \n",
       "7       2016-05-26      1       NaN  \n",
       "10      2016-06-06      1       NaN  \n",
       "12      2016-02-14      1       NaN  \n",
       "32      2016-01-17      1       NaN  \n",
       "...            ...    ...       ...  \n",
       "2168737 2016-03-21      1       NaN  \n",
       "2168738 2016-05-20      1       NaN  \n",
       "2168742 2016-03-14      2       NaN  \n",
       "2168753 2016-05-19      1       NaN  \n",
       "2168755 2016-05-30      3       NaN  \n",
       "\n",
       "[754960 rows x 9 columns]"
      ]
     },
     "execution_count": 73,
     "metadata": {},
     "output_type": "execute_result"
    }
   ],
   "source": [
    "# Clicks data of common user\n",
    "on_off[(on_off[\"Action\"]==0) & (on_off[\"Date\"].isna()==False) & (on_off[\"Coupon_id\"].isna()) ]"
   ]
  },
  {
   "cell_type": "markdown",
   "metadata": {},
   "source": [
    "#### Number of coupon redemptions vs Date Plot (For Common users)"
   ]
  },
  {
   "cell_type": "code",
   "execution_count": 77,
   "metadata": {},
   "outputs": [],
   "source": [
    "date_redeemed = on_off[(on_off[\"Date\"].isna()==False) & (on_off[\"Coupon_id\"].isna()==False)].Date"
   ]
  },
  {
   "cell_type": "code",
   "execution_count": 78,
   "metadata": {
    "scrolled": true
   },
   "outputs": [
    {
     "data": {
      "image/png": "[encoded data removed]",
      "text/plain": [
       "<Figure size 2520x1440 with 1 Axes>"
      ]
     },
     "metadata": {
      "needs_background": "light"
     },
     "output_type": "display_data"
    }
   ],
   "source": [
    "plt.figure(figsize=(35,20))\n",
    "ax = sns.countplot(date_redeemed)\n",
    "ax.set_xticklabels(ax.get_xticklabels(),rotation=90)\n",
    "plt.show()"
   ]
  },
  {
   "cell_type": "markdown",
   "metadata": {},
   "source": [
    "### Only Offline Users"
   ]
  },
  {
   "cell_type": "code",
   "execution_count": 79,
   "metadata": {},
   "outputs": [
    {
     "data": {
      "text/html": [
       "<div>\n",
       "<style scoped>\n",
       "    .dataframe tbody tr th:only-of-type {\n",
       "        vertical-align: middle;\n",
       "    }\n",
       "\n",
       "    .dataframe tbody tr th {\n",
       "        vertical-align: top;\n",
       "    }\n",
       "\n",
       "    .dataframe thead th {\n",
       "        text-align: right;\n",
       "    }\n",
       "</style>\n",
       "<table border=\"1\" class=\"dataframe\">\n",
       "  <thead>\n",
       "    <tr style=\"text-align: right;\">\n",
       "      <th></th>\n",
       "      <th>User_id</th>\n",
       "      <th>Merchant_id</th>\n",
       "      <th>Coupon_id</th>\n",
       "      <th>Discount_rate</th>\n",
       "      <th>Distance</th>\n",
       "      <th>Date_received</th>\n",
       "      <th>Date</th>\n",
       "      <th>Count</th>\n",
       "    </tr>\n",
       "  </thead>\n",
       "  <tbody>\n",
       "    <tr>\n",
       "      <td>2</td>\n",
       "      <td>35</td>\n",
       "      <td>3381</td>\n",
       "      <td>1807.0</td>\n",
       "      <td>300:30</td>\n",
       "      <td>0.0</td>\n",
       "      <td>2016-01-30</td>\n",
       "      <td>NaT</td>\n",
       "      <td>1</td>\n",
       "    </tr>\n",
       "    <tr>\n",
       "      <td>3</td>\n",
       "      <td>35</td>\n",
       "      <td>3381</td>\n",
       "      <td>9776.0</td>\n",
       "      <td>10:5</td>\n",
       "      <td>0.0</td>\n",
       "      <td>2016-01-29</td>\n",
       "      <td>NaT</td>\n",
       "      <td>1</td>\n",
       "    </tr>\n",
       "    <tr>\n",
       "      <td>4</td>\n",
       "      <td>35</td>\n",
       "      <td>3381</td>\n",
       "      <td>11951.0</td>\n",
       "      <td>200:20</td>\n",
       "      <td>0.0</td>\n",
       "      <td>2016-01-29</td>\n",
       "      <td>NaT</td>\n",
       "      <td>1</td>\n",
       "    </tr>\n",
       "    <tr>\n",
       "      <td>5</td>\n",
       "      <td>35</td>\n",
       "      <td>3381</td>\n",
       "      <td>11951.0</td>\n",
       "      <td>200:20</td>\n",
       "      <td>0.0</td>\n",
       "      <td>2016-01-30</td>\n",
       "      <td>NaT</td>\n",
       "      <td>1</td>\n",
       "    </tr>\n",
       "    <tr>\n",
       "      <td>9</td>\n",
       "      <td>110</td>\n",
       "      <td>4433</td>\n",
       "      <td>190.0</td>\n",
       "      <td>200:20</td>\n",
       "      <td>NaN</td>\n",
       "      <td>2016-01-31</td>\n",
       "      <td>NaT</td>\n",
       "      <td>1</td>\n",
       "    </tr>\n",
       "  </tbody>\n",
       "</table>\n",
       "</div>"
      ],
      "text/plain": [
       "   User_id  Merchant_id  Coupon_id Discount_rate  Distance Date_received Date  \\\n",
       "2       35         3381     1807.0        300:30       0.0    2016-01-30  NaT   \n",
       "3       35         3381     9776.0          10:5       0.0    2016-01-29  NaT   \n",
       "4       35         3381    11951.0        200:20       0.0    2016-01-29  NaT   \n",
       "5       35         3381    11951.0        200:20       0.0    2016-01-30  NaT   \n",
       "9      110         4433      190.0        200:20       NaN    2016-01-31  NaT   \n",
       "\n",
       "   Count  \n",
       "2      1  \n",
       "3      1  \n",
       "4      1  \n",
       "5      1  \n",
       "9      1  "
      ]
     },
     "execution_count": 79,
     "metadata": {},
     "output_type": "execute_result"
    }
   ],
   "source": [
    "#users having only online presence\n",
    "df_offline = df_of_unique[df_of_unique['User_id'].isin(list(users_of - users_on_off))]\n",
    "df_offline.head()"
   ]
  },
  {
   "cell_type": "markdown",
   "metadata": {},
   "source": [
    "#### Numbear of coupon redemptions vs Date Plot (For only online users)"
   ]
  },
  {
   "cell_type": "code",
   "execution_count": 81,
   "metadata": {},
   "outputs": [],
   "source": [
    "date_off_redeemed = df_offline[(df_offline[\"Date\"].isna()==False) & (df_offline[\"Coupon_id\"].isna()==False)]"
   ]
  },
  {
   "cell_type": "code",
   "execution_count": 82,
   "metadata": {},
   "outputs": [
    {
     "data": {
      "image/png": "[encoded data removed]",
      "text/plain": [
       "<Figure size 2520x1440 with 1 Axes>"
      ]
     },
     "metadata": {
      "needs_background": "light"
     },
     "output_type": "display_data"
    }
   ],
   "source": [
    "plt.figure(figsize=(35,20))\n",
    "ax = sns.countplot(date_off_redeemed[\"Date\"])\n",
    "ax.set_xticklabels(ax.get_xticklabels(),rotation=90)\n",
    "plt.show()"
   ]
  },
  {
   "cell_type": "code",
   "execution_count": 83,
   "metadata": {},
   "outputs": [
    {
     "data": {
      "text/plain": [
       "array([ 1,  2,  3,  4,  5,  6,  7, 12])"
      ]
     },
     "execution_count": 83,
     "metadata": {},
     "output_type": "execute_result"
    }
   ],
   "source": [
    "#As online data has no clicks, so max repetition(exact same) of records is 12\n",
    "np.sort(df_offline[\"Count\"].unique())"
   ]
  },
  {
   "cell_type": "code",
   "execution_count": 88,
   "metadata": {},
   "outputs": [
    {
     "data": {
      "text/plain": [
       "User_id\n",
       "35         4\n",
       "110        3\n",
       "147        1\n",
       "166        1\n",
       "228        1\n",
       "          ..\n",
       "7360825    2\n",
       "7360845    3\n",
       "7360952    1\n",
       "7360966    1\n",
       "7361024    1\n",
       "Name: Count, Length: 271990, dtype: int64"
      ]
     },
     "execution_count": 88,
     "metadata": {},
     "output_type": "execute_result"
    }
   ],
   "source": [
    "#Number of visits of each user\n",
    "activity_offline = df_offline.groupby(\"User_id\")[\"Count\"].sum()\n",
    "activity_offline"
   ]
  },
  {
   "cell_type": "code",
   "execution_count": 89,
   "metadata": {},
   "outputs": [
    {
     "data": {
      "text/plain": [
       "count    271990.000000\n",
       "mean          3.058050\n",
       "std           4.645573\n",
       "min           1.000000\n",
       "25%           1.000000\n",
       "50%           2.000000\n",
       "75%           3.000000\n",
       "max         137.000000\n",
       "Name: ActivityCount, dtype: float64"
      ]
     },
     "execution_count": 89,
     "metadata": {},
     "output_type": "execute_result"
    }
   ],
   "source": [
    "df_activity_offline = pd.DataFrame(activity_offline).reset_index()\n",
    "df_activity_offline.columns = ['User_id', 'ActivityCount']\n",
    "df_activity_offline[\"ActivityCount\"].describe()"
   ]
  },
  {
   "cell_type": "markdown",
   "metadata": {},
   "source": [
    "### Only Online Users\n"
   ]
  },
  {
   "cell_type": "code",
   "execution_count": 86,
   "metadata": {},
   "outputs": [],
   "source": [
    "df_online = df_on_unique[df_on_unique['User_id'].isin(list(users_on - users_on_off))]\n",
    "date_redeemed_on = df_online[(df_online[\"Date\"].isna()==False) & (df_online[\"Coupon_id\"].isna()==False)]"
   ]
  },
  {
   "cell_type": "markdown",
   "metadata": {},
   "source": [
    "#### Numbear of coupon redemptions vs Date Plot (For only offline users)"
   ]
  },
  {
   "cell_type": "code",
   "execution_count": 87,
   "metadata": {},
   "outputs": [
    {
     "data": {
      "image/png": "[encoded data removed]",
      "text/plain": [
       "<Figure size 2520x1440 with 1 Axes>"
      ]
     },
     "metadata": {
      "needs_background": "light"
     },
     "output_type": "display_data"
    }
   ],
   "source": [
    "plt.figure(figsize=(35,20))\n",
    "ax = sns.countplot(date_redeemed_on[\"Date\"])\n",
    "ax.set_xticklabels(ax.get_xticklabels(),rotation=90)\n",
    "plt.show()"
   ]
  },
  {
   "cell_type": "code",
   "execution_count": 79,
   "metadata": {},
   "outputs": [
    {
     "data": {
      "text/plain": [
       "4557134"
      ]
     },
     "execution_count": 79,
     "metadata": {},
     "output_type": "execute_result"
    }
   ],
   "source": [
    "df_online_total = df_online.shape[0]\n",
    "df_online_total"
   ]
  },
  {
   "cell_type": "code",
   "execution_count": 91,
   "metadata": {},
   "outputs": [
    {
     "data": {
      "text/plain": [
       "User_id\n",
       "388           3\n",
       "584           2\n",
       "1147          2\n",
       "1603          1\n",
       "2723         34\n",
       "           ... \n",
       "15499965    134\n",
       "15499966     13\n",
       "15499998      3\n",
       "15499999    109\n",
       "15500000      1\n",
       "Name: Count, Length: 495410, dtype: int64"
      ]
     },
     "execution_count": 91,
     "metadata": {},
     "output_type": "execute_result"
    }
   ],
   "source": [
    "#Number of visits of each user\n",
    "activity_online = df_online.groupby(\"User_id\")[\"Count\"].sum()\n",
    "activity_online\n",
    "#df_activity_online = df_online.groupby(\"User_id\")[\"Count\"].sum()"
   ]
  },
  {
   "cell_type": "code",
   "execution_count": 93,
   "metadata": {},
   "outputs": [
    {
     "data": {
      "text/plain": [
       "count    495410.000000\n",
       "mean         18.372225\n",
       "std          39.382876\n",
       "min           1.000000\n",
       "25%           4.000000\n",
       "50%           9.000000\n",
       "75%          20.000000\n",
       "max        5786.000000\n",
       "Name: ActivityCount, dtype: float64"
      ]
     },
     "execution_count": 93,
     "metadata": {},
     "output_type": "execute_result"
    }
   ],
   "source": [
    "df_activity_online = pd.DataFrame(activity_online).reset_index()\n",
    "df_activity_online.columns = ['User_id', 'ActivityCount']\n",
    "df_activity_online.ActivityCount.describe()"
   ]
  },
  {
   "cell_type": "code",
   "execution_count": 82,
   "metadata": {},
   "outputs": [
    {
     "data": {
      "text/html": [
       "<div>\n",
       "<style scoped>\n",
       "    .dataframe tbody tr th:only-of-type {\n",
       "        vertical-align: middle;\n",
       "    }\n",
       "\n",
       "    .dataframe tbody tr th {\n",
       "        vertical-align: top;\n",
       "    }\n",
       "\n",
       "    .dataframe thead th {\n",
       "        text-align: right;\n",
       "    }\n",
       "</style>\n",
       "<table border=\"1\" class=\"dataframe\">\n",
       "  <thead>\n",
       "    <tr style=\"text-align: right;\">\n",
       "      <th></th>\n",
       "      <th>User_id</th>\n",
       "      <th>ActivityCount</th>\n",
       "    </tr>\n",
       "  </thead>\n",
       "  <tbody>\n",
       "    <tr>\n",
       "      <td>368241</td>\n",
       "      <td>14015266</td>\n",
       "      <td>5786</td>\n",
       "    </tr>\n",
       "  </tbody>\n",
       "</table>\n",
       "</div>"
      ],
      "text/plain": [
       "         User_id  ActivityCount\n",
       "368241  14015266           5786"
      ]
     },
     "execution_count": 82,
     "metadata": {},
     "output_type": "execute_result"
    }
   ],
   "source": [
    "df_activity_online[df_activity_online[\"ActivityCount\"]==5786] "
   ]
  },
  {
   "cell_type": "code",
   "execution_count": 94,
   "metadata": {},
   "outputs": [
    {
     "data": {
      "text/html": [
       "<div>\n",
       "<style scoped>\n",
       "    .dataframe tbody tr th:only-of-type {\n",
       "        vertical-align: middle;\n",
       "    }\n",
       "\n",
       "    .dataframe tbody tr th {\n",
       "        vertical-align: top;\n",
       "    }\n",
       "\n",
       "    .dataframe thead th {\n",
       "        text-align: right;\n",
       "    }\n",
       "</style>\n",
       "<table border=\"1\" class=\"dataframe\">\n",
       "  <thead>\n",
       "    <tr style=\"text-align: right;\">\n",
       "      <th></th>\n",
       "      <th>User_id</th>\n",
       "      <th>Merchant_id</th>\n",
       "      <th>Action</th>\n",
       "      <th>Coupon_id</th>\n",
       "      <th>Discount_rate</th>\n",
       "      <th>Date_received</th>\n",
       "      <th>Date</th>\n",
       "      <th>Count</th>\n",
       "    </tr>\n",
       "  </thead>\n",
       "  <tbody>\n",
       "    <tr>\n",
       "      <td>4618693</td>\n",
       "      <td>14015266</td>\n",
       "      <td>10001</td>\n",
       "      <td>0</td>\n",
       "      <td>NaN</td>\n",
       "      <td>NaN</td>\n",
       "      <td>NaT</td>\n",
       "      <td>2016-01-15</td>\n",
       "      <td>1</td>\n",
       "    </tr>\n",
       "    <tr>\n",
       "      <td>4618694</td>\n",
       "      <td>14015266</td>\n",
       "      <td>10001</td>\n",
       "      <td>0</td>\n",
       "      <td>NaN</td>\n",
       "      <td>NaN</td>\n",
       "      <td>NaT</td>\n",
       "      <td>2016-01-16</td>\n",
       "      <td>1</td>\n",
       "    </tr>\n",
       "    <tr>\n",
       "      <td>4618695</td>\n",
       "      <td>14015266</td>\n",
       "      <td>10001</td>\n",
       "      <td>0</td>\n",
       "      <td>NaN</td>\n",
       "      <td>NaN</td>\n",
       "      <td>NaT</td>\n",
       "      <td>2016-01-18</td>\n",
       "      <td>1</td>\n",
       "    </tr>\n",
       "    <tr>\n",
       "      <td>4618696</td>\n",
       "      <td>14015266</td>\n",
       "      <td>10001</td>\n",
       "      <td>0</td>\n",
       "      <td>NaN</td>\n",
       "      <td>NaN</td>\n",
       "      <td>NaT</td>\n",
       "      <td>2016-02-18</td>\n",
       "      <td>3</td>\n",
       "    </tr>\n",
       "    <tr>\n",
       "      <td>4618697</td>\n",
       "      <td>14015266</td>\n",
       "      <td>10001</td>\n",
       "      <td>0</td>\n",
       "      <td>NaN</td>\n",
       "      <td>NaN</td>\n",
       "      <td>NaT</td>\n",
       "      <td>2016-02-19</td>\n",
       "      <td>3</td>\n",
       "    </tr>\n",
       "    <tr>\n",
       "      <td>4618698</td>\n",
       "      <td>14015266</td>\n",
       "      <td>10001</td>\n",
       "      <td>0</td>\n",
       "      <td>NaN</td>\n",
       "      <td>NaN</td>\n",
       "      <td>NaT</td>\n",
       "      <td>2016-02-29</td>\n",
       "      <td>1</td>\n",
       "    </tr>\n",
       "    <tr>\n",
       "      <td>4618699</td>\n",
       "      <td>14015266</td>\n",
       "      <td>10001</td>\n",
       "      <td>0</td>\n",
       "      <td>NaN</td>\n",
       "      <td>NaN</td>\n",
       "      <td>NaT</td>\n",
       "      <td>2016-03-17</td>\n",
       "      <td>3</td>\n",
       "    </tr>\n",
       "    <tr>\n",
       "      <td>4618700</td>\n",
       "      <td>14015266</td>\n",
       "      <td>10001</td>\n",
       "      <td>0</td>\n",
       "      <td>NaN</td>\n",
       "      <td>NaN</td>\n",
       "      <td>NaT</td>\n",
       "      <td>2016-03-18</td>\n",
       "      <td>1</td>\n",
       "    </tr>\n",
       "    <tr>\n",
       "      <td>4618701</td>\n",
       "      <td>14015266</td>\n",
       "      <td>10001</td>\n",
       "      <td>0</td>\n",
       "      <td>NaN</td>\n",
       "      <td>NaN</td>\n",
       "      <td>NaT</td>\n",
       "      <td>2016-04-01</td>\n",
       "      <td>1</td>\n",
       "    </tr>\n",
       "    <tr>\n",
       "      <td>4618702</td>\n",
       "      <td>14015266</td>\n",
       "      <td>10001</td>\n",
       "      <td>0</td>\n",
       "      <td>NaN</td>\n",
       "      <td>NaN</td>\n",
       "      <td>NaT</td>\n",
       "      <td>2016-04-20</td>\n",
       "      <td>1</td>\n",
       "    </tr>\n",
       "    <tr>\n",
       "      <td>4618703</td>\n",
       "      <td>14015266</td>\n",
       "      <td>10001</td>\n",
       "      <td>0</td>\n",
       "      <td>NaN</td>\n",
       "      <td>NaN</td>\n",
       "      <td>NaT</td>\n",
       "      <td>2016-04-21</td>\n",
       "      <td>1</td>\n",
       "    </tr>\n",
       "    <tr>\n",
       "      <td>4618704</td>\n",
       "      <td>14015266</td>\n",
       "      <td>10001</td>\n",
       "      <td>0</td>\n",
       "      <td>NaN</td>\n",
       "      <td>NaN</td>\n",
       "      <td>NaT</td>\n",
       "      <td>2016-06-23</td>\n",
       "      <td>6</td>\n",
       "    </tr>\n",
       "    <tr>\n",
       "      <td>4618705</td>\n",
       "      <td>14015266</td>\n",
       "      <td>10102</td>\n",
       "      <td>0</td>\n",
       "      <td>NaN</td>\n",
       "      <td>NaN</td>\n",
       "      <td>NaT</td>\n",
       "      <td>2016-06-23</td>\n",
       "      <td>1</td>\n",
       "    </tr>\n",
       "    <tr>\n",
       "      <td>4618706</td>\n",
       "      <td>14015266</td>\n",
       "      <td>10111</td>\n",
       "      <td>0</td>\n",
       "      <td>NaN</td>\n",
       "      <td>NaN</td>\n",
       "      <td>NaT</td>\n",
       "      <td>2016-03-15</td>\n",
       "      <td>3</td>\n",
       "    </tr>\n",
       "    <tr>\n",
       "      <td>4618707</td>\n",
       "      <td>14015266</td>\n",
       "      <td>10111</td>\n",
       "      <td>0</td>\n",
       "      <td>NaN</td>\n",
       "      <td>NaN</td>\n",
       "      <td>NaT</td>\n",
       "      <td>2016-03-17</td>\n",
       "      <td>1</td>\n",
       "    </tr>\n",
       "    <tr>\n",
       "      <td>4618708</td>\n",
       "      <td>14015266</td>\n",
       "      <td>10401</td>\n",
       "      <td>0</td>\n",
       "      <td>NaN</td>\n",
       "      <td>NaN</td>\n",
       "      <td>NaT</td>\n",
       "      <td>2016-02-25</td>\n",
       "      <td>1</td>\n",
       "    </tr>\n",
       "    <tr>\n",
       "      <td>4618709</td>\n",
       "      <td>14015266</td>\n",
       "      <td>10401</td>\n",
       "      <td>0</td>\n",
       "      <td>NaN</td>\n",
       "      <td>NaN</td>\n",
       "      <td>NaT</td>\n",
       "      <td>2016-02-26</td>\n",
       "      <td>1</td>\n",
       "    </tr>\n",
       "    <tr>\n",
       "      <td>4618710</td>\n",
       "      <td>14015266</td>\n",
       "      <td>10401</td>\n",
       "      <td>0</td>\n",
       "      <td>NaN</td>\n",
       "      <td>NaN</td>\n",
       "      <td>NaT</td>\n",
       "      <td>2016-02-29</td>\n",
       "      <td>2</td>\n",
       "    </tr>\n",
       "    <tr>\n",
       "      <td>4618711</td>\n",
       "      <td>14015266</td>\n",
       "      <td>10401</td>\n",
       "      <td>0</td>\n",
       "      <td>NaN</td>\n",
       "      <td>NaN</td>\n",
       "      <td>NaT</td>\n",
       "      <td>2016-03-24</td>\n",
       "      <td>2</td>\n",
       "    </tr>\n",
       "    <tr>\n",
       "      <td>4618712</td>\n",
       "      <td>14015266</td>\n",
       "      <td>10401</td>\n",
       "      <td>0</td>\n",
       "      <td>NaN</td>\n",
       "      <td>NaN</td>\n",
       "      <td>NaT</td>\n",
       "      <td>2016-06-13</td>\n",
       "      <td>1</td>\n",
       "    </tr>\n",
       "    <tr>\n",
       "      <td>4618713</td>\n",
       "      <td>14015266</td>\n",
       "      <td>10414</td>\n",
       "      <td>0</td>\n",
       "      <td>NaN</td>\n",
       "      <td>NaN</td>\n",
       "      <td>NaT</td>\n",
       "      <td>2016-05-18</td>\n",
       "      <td>1</td>\n",
       "    </tr>\n",
       "    <tr>\n",
       "      <td>4618714</td>\n",
       "      <td>14015266</td>\n",
       "      <td>10504</td>\n",
       "      <td>0</td>\n",
       "      <td>NaN</td>\n",
       "      <td>NaN</td>\n",
       "      <td>NaT</td>\n",
       "      <td>2016-01-08</td>\n",
       "      <td>1</td>\n",
       "    </tr>\n",
       "    <tr>\n",
       "      <td>4618715</td>\n",
       "      <td>14015266</td>\n",
       "      <td>10505</td>\n",
       "      <td>0</td>\n",
       "      <td>NaN</td>\n",
       "      <td>NaN</td>\n",
       "      <td>NaT</td>\n",
       "      <td>2016-02-24</td>\n",
       "      <td>1</td>\n",
       "    </tr>\n",
       "    <tr>\n",
       "      <td>4618716</td>\n",
       "      <td>14015266</td>\n",
       "      <td>10508</td>\n",
       "      <td>0</td>\n",
       "      <td>NaN</td>\n",
       "      <td>NaN</td>\n",
       "      <td>NaT</td>\n",
       "      <td>2016-06-14</td>\n",
       "      <td>2</td>\n",
       "    </tr>\n",
       "    <tr>\n",
       "      <td>4618717</td>\n",
       "      <td>14015266</td>\n",
       "      <td>10508</td>\n",
       "      <td>0</td>\n",
       "      <td>NaN</td>\n",
       "      <td>NaN</td>\n",
       "      <td>NaT</td>\n",
       "      <td>2016-06-27</td>\n",
       "      <td>1</td>\n",
       "    </tr>\n",
       "    <tr>\n",
       "      <td>4618718</td>\n",
       "      <td>14015266</td>\n",
       "      <td>10515</td>\n",
       "      <td>0</td>\n",
       "      <td>NaN</td>\n",
       "      <td>NaN</td>\n",
       "      <td>NaT</td>\n",
       "      <td>2016-01-20</td>\n",
       "      <td>1</td>\n",
       "    </tr>\n",
       "    <tr>\n",
       "      <td>4618719</td>\n",
       "      <td>14015266</td>\n",
       "      <td>10515</td>\n",
       "      <td>0</td>\n",
       "      <td>NaN</td>\n",
       "      <td>NaN</td>\n",
       "      <td>NaT</td>\n",
       "      <td>2016-02-22</td>\n",
       "      <td>1</td>\n",
       "    </tr>\n",
       "    <tr>\n",
       "      <td>4618720</td>\n",
       "      <td>14015266</td>\n",
       "      <td>10515</td>\n",
       "      <td>0</td>\n",
       "      <td>NaN</td>\n",
       "      <td>NaN</td>\n",
       "      <td>NaT</td>\n",
       "      <td>2016-03-29</td>\n",
       "      <td>1</td>\n",
       "    </tr>\n",
       "    <tr>\n",
       "      <td>4618721</td>\n",
       "      <td>14015266</td>\n",
       "      <td>10704</td>\n",
       "      <td>0</td>\n",
       "      <td>NaN</td>\n",
       "      <td>NaN</td>\n",
       "      <td>NaT</td>\n",
       "      <td>2016-03-01</td>\n",
       "      <td>1</td>\n",
       "    </tr>\n",
       "    <tr>\n",
       "      <td>4618722</td>\n",
       "      <td>14015266</td>\n",
       "      <td>10704</td>\n",
       "      <td>0</td>\n",
       "      <td>NaN</td>\n",
       "      <td>NaN</td>\n",
       "      <td>NaT</td>\n",
       "      <td>2016-03-24</td>\n",
       "      <td>8</td>\n",
       "    </tr>\n",
       "    <tr>\n",
       "      <td>4618723</td>\n",
       "      <td>14015266</td>\n",
       "      <td>10711</td>\n",
       "      <td>0</td>\n",
       "      <td>NaN</td>\n",
       "      <td>NaN</td>\n",
       "      <td>NaT</td>\n",
       "      <td>2016-05-12</td>\n",
       "      <td>1</td>\n",
       "    </tr>\n",
       "    <tr>\n",
       "      <td>4618724</td>\n",
       "      <td>14015266</td>\n",
       "      <td>10903</td>\n",
       "      <td>0</td>\n",
       "      <td>NaN</td>\n",
       "      <td>NaN</td>\n",
       "      <td>NaT</td>\n",
       "      <td>2016-06-15</td>\n",
       "      <td>1</td>\n",
       "    </tr>\n",
       "    <tr>\n",
       "      <td>4618725</td>\n",
       "      <td>14015266</td>\n",
       "      <td>11103</td>\n",
       "      <td>0</td>\n",
       "      <td>NaN</td>\n",
       "      <td>NaN</td>\n",
       "      <td>NaT</td>\n",
       "      <td>2016-01-27</td>\n",
       "      <td>1</td>\n",
       "    </tr>\n",
       "    <tr>\n",
       "      <td>4618726</td>\n",
       "      <td>14015266</td>\n",
       "      <td>11103</td>\n",
       "      <td>0</td>\n",
       "      <td>NaN</td>\n",
       "      <td>NaN</td>\n",
       "      <td>NaT</td>\n",
       "      <td>2016-02-16</td>\n",
       "      <td>4</td>\n",
       "    </tr>\n",
       "    <tr>\n",
       "      <td>4618727</td>\n",
       "      <td>14015266</td>\n",
       "      <td>11103</td>\n",
       "      <td>0</td>\n",
       "      <td>NaN</td>\n",
       "      <td>NaN</td>\n",
       "      <td>NaT</td>\n",
       "      <td>2016-03-25</td>\n",
       "      <td>2</td>\n",
       "    </tr>\n",
       "    <tr>\n",
       "      <td>4618728</td>\n",
       "      <td>14015266</td>\n",
       "      <td>11103</td>\n",
       "      <td>0</td>\n",
       "      <td>NaN</td>\n",
       "      <td>NaN</td>\n",
       "      <td>NaT</td>\n",
       "      <td>2016-04-28</td>\n",
       "      <td>4</td>\n",
       "    </tr>\n",
       "    <tr>\n",
       "      <td>4618729</td>\n",
       "      <td>14015266</td>\n",
       "      <td>11103</td>\n",
       "      <td>0</td>\n",
       "      <td>NaN</td>\n",
       "      <td>NaN</td>\n",
       "      <td>NaT</td>\n",
       "      <td>2016-05-12</td>\n",
       "      <td>1</td>\n",
       "    </tr>\n",
       "    <tr>\n",
       "      <td>4618730</td>\n",
       "      <td>14015266</td>\n",
       "      <td>11103</td>\n",
       "      <td>0</td>\n",
       "      <td>NaN</td>\n",
       "      <td>NaN</td>\n",
       "      <td>NaT</td>\n",
       "      <td>2016-05-20</td>\n",
       "      <td>1</td>\n",
       "    </tr>\n",
       "    <tr>\n",
       "      <td>4618731</td>\n",
       "      <td>14015266</td>\n",
       "      <td>11105</td>\n",
       "      <td>0</td>\n",
       "      <td>NaN</td>\n",
       "      <td>NaN</td>\n",
       "      <td>NaT</td>\n",
       "      <td>2016-06-23</td>\n",
       "      <td>2</td>\n",
       "    </tr>\n",
       "    <tr>\n",
       "      <td>4618732</td>\n",
       "      <td>14015266</td>\n",
       "      <td>11105</td>\n",
       "      <td>0</td>\n",
       "      <td>NaN</td>\n",
       "      <td>NaN</td>\n",
       "      <td>NaT</td>\n",
       "      <td>2016-06-24</td>\n",
       "      <td>4</td>\n",
       "    </tr>\n",
       "    <tr>\n",
       "      <td>4618733</td>\n",
       "      <td>14015266</td>\n",
       "      <td>11507</td>\n",
       "      <td>0</td>\n",
       "      <td>NaN</td>\n",
       "      <td>NaN</td>\n",
       "      <td>NaT</td>\n",
       "      <td>2016-01-13</td>\n",
       "      <td>1</td>\n",
       "    </tr>\n",
       "    <tr>\n",
       "      <td>4618734</td>\n",
       "      <td>14015266</td>\n",
       "      <td>11507</td>\n",
       "      <td>0</td>\n",
       "      <td>NaN</td>\n",
       "      <td>NaN</td>\n",
       "      <td>NaT</td>\n",
       "      <td>2016-01-15</td>\n",
       "      <td>1</td>\n",
       "    </tr>\n",
       "    <tr>\n",
       "      <td>4618735</td>\n",
       "      <td>14015266</td>\n",
       "      <td>11712</td>\n",
       "      <td>0</td>\n",
       "      <td>NaN</td>\n",
       "      <td>NaN</td>\n",
       "      <td>NaT</td>\n",
       "      <td>2016-02-22</td>\n",
       "      <td>1</td>\n",
       "    </tr>\n",
       "    <tr>\n",
       "      <td>4618736</td>\n",
       "      <td>14015266</td>\n",
       "      <td>11712</td>\n",
       "      <td>0</td>\n",
       "      <td>NaN</td>\n",
       "      <td>NaN</td>\n",
       "      <td>NaT</td>\n",
       "      <td>2016-06-14</td>\n",
       "      <td>1</td>\n",
       "    </tr>\n",
       "    <tr>\n",
       "      <td>4618737</td>\n",
       "      <td>14015266</td>\n",
       "      <td>11713</td>\n",
       "      <td>0</td>\n",
       "      <td>NaN</td>\n",
       "      <td>NaN</td>\n",
       "      <td>NaT</td>\n",
       "      <td>2016-03-23</td>\n",
       "      <td>1</td>\n",
       "    </tr>\n",
       "    <tr>\n",
       "      <td>4618738</td>\n",
       "      <td>14015266</td>\n",
       "      <td>12010</td>\n",
       "      <td>0</td>\n",
       "      <td>NaN</td>\n",
       "      <td>NaN</td>\n",
       "      <td>NaT</td>\n",
       "      <td>2016-01-13</td>\n",
       "      <td>1</td>\n",
       "    </tr>\n",
       "    <tr>\n",
       "      <td>4618739</td>\n",
       "      <td>14015266</td>\n",
       "      <td>12010</td>\n",
       "      <td>0</td>\n",
       "      <td>NaN</td>\n",
       "      <td>NaN</td>\n",
       "      <td>NaT</td>\n",
       "      <td>2016-02-02</td>\n",
       "      <td>2</td>\n",
       "    </tr>\n",
       "    <tr>\n",
       "      <td>4618740</td>\n",
       "      <td>14015266</td>\n",
       "      <td>12010</td>\n",
       "      <td>0</td>\n",
       "      <td>NaN</td>\n",
       "      <td>NaN</td>\n",
       "      <td>NaT</td>\n",
       "      <td>2016-02-03</td>\n",
       "      <td>1</td>\n",
       "    </tr>\n",
       "    <tr>\n",
       "      <td>4618741</td>\n",
       "      <td>14015266</td>\n",
       "      <td>12010</td>\n",
       "      <td>0</td>\n",
       "      <td>NaN</td>\n",
       "      <td>NaN</td>\n",
       "      <td>NaT</td>\n",
       "      <td>2016-03-24</td>\n",
       "      <td>1</td>\n",
       "    </tr>\n",
       "    <tr>\n",
       "      <td>4618742</td>\n",
       "      <td>14015266</td>\n",
       "      <td>12010</td>\n",
       "      <td>0</td>\n",
       "      <td>NaN</td>\n",
       "      <td>NaN</td>\n",
       "      <td>NaT</td>\n",
       "      <td>2016-04-21</td>\n",
       "      <td>3</td>\n",
       "    </tr>\n",
       "  </tbody>\n",
       "</table>\n",
       "</div>"
      ],
      "text/plain": [
       "          User_id  Merchant_id  Action Coupon_id Discount_rate Date_received  \\\n",
       "4618693  14015266        10001       0       NaN           NaN           NaT   \n",
       "4618694  14015266        10001       0       NaN           NaN           NaT   \n",
       "4618695  14015266        10001       0       NaN           NaN           NaT   \n",
       "4618696  14015266        10001       0       NaN           NaN           NaT   \n",
       "4618697  14015266        10001       0       NaN           NaN           NaT   \n",
       "4618698  14015266        10001       0       NaN           NaN           NaT   \n",
       "4618699  14015266        10001       0       NaN           NaN           NaT   \n",
       "4618700  14015266        10001       0       NaN           NaN           NaT   \n",
       "4618701  14015266        10001       0       NaN           NaN           NaT   \n",
       "4618702  14015266        10001       0       NaN           NaN           NaT   \n",
       "4618703  14015266        10001       0       NaN           NaN           NaT   \n",
       "4618704  14015266        10001       0       NaN           NaN           NaT   \n",
       "4618705  14015266        10102       0       NaN           NaN           NaT   \n",
       "4618706  14015266        10111       0       NaN           NaN           NaT   \n",
       "4618707  14015266        10111       0       NaN           NaN           NaT   \n",
       "4618708  14015266        10401       0       NaN           NaN           NaT   \n",
       "4618709  14015266        10401       0       NaN           NaN           NaT   \n",
       "4618710  14015266        10401       0       NaN           NaN           NaT   \n",
       "4618711  14015266        10401       0       NaN           NaN           NaT   \n",
       "4618712  14015266        10401       0       NaN           NaN           NaT   \n",
       "4618713  14015266        10414       0       NaN           NaN           NaT   \n",
       "4618714  14015266        10504       0       NaN           NaN           NaT   \n",
       "4618715  14015266        10505       0       NaN           NaN           NaT   \n",
       "4618716  14015266        10508       0       NaN           NaN           NaT   \n",
       "4618717  14015266        10508       0       NaN           NaN           NaT   \n",
       "4618718  14015266        10515       0       NaN           NaN           NaT   \n",
       "4618719  14015266        10515       0       NaN           NaN           NaT   \n",
       "4618720  14015266        10515       0       NaN           NaN           NaT   \n",
       "4618721  14015266        10704       0       NaN           NaN           NaT   \n",
       "4618722  14015266        10704       0       NaN           NaN           NaT   \n",
       "4618723  14015266        10711       0       NaN           NaN           NaT   \n",
       "4618724  14015266        10903       0       NaN           NaN           NaT   \n",
       "4618725  14015266        11103       0       NaN           NaN           NaT   \n",
       "4618726  14015266        11103       0       NaN           NaN           NaT   \n",
       "4618727  14015266        11103       0       NaN           NaN           NaT   \n",
       "4618728  14015266        11103       0       NaN           NaN           NaT   \n",
       "4618729  14015266        11103       0       NaN           NaN           NaT   \n",
       "4618730  14015266        11103       0       NaN           NaN           NaT   \n",
       "4618731  14015266        11105       0       NaN           NaN           NaT   \n",
       "4618732  14015266        11105       0       NaN           NaN           NaT   \n",
       "4618733  14015266        11507       0       NaN           NaN           NaT   \n",
       "4618734  14015266        11507       0       NaN           NaN           NaT   \n",
       "4618735  14015266        11712       0       NaN           NaN           NaT   \n",
       "4618736  14015266        11712       0       NaN           NaN           NaT   \n",
       "4618737  14015266        11713       0       NaN           NaN           NaT   \n",
       "4618738  14015266        12010       0       NaN           NaN           NaT   \n",
       "4618739  14015266        12010       0       NaN           NaN           NaT   \n",
       "4618740  14015266        12010       0       NaN           NaN           NaT   \n",
       "4618741  14015266        12010       0       NaN           NaN           NaT   \n",
       "4618742  14015266        12010       0       NaN           NaN           NaT   \n",
       "\n",
       "              Date  Count  \n",
       "4618693 2016-01-15      1  \n",
       "4618694 2016-01-16      1  \n",
       "4618695 2016-01-18      1  \n",
       "4618696 2016-02-18      3  \n",
       "4618697 2016-02-19      3  \n",
       "4618698 2016-02-29      1  \n",
       "4618699 2016-03-17      3  \n",
       "4618700 2016-03-18      1  \n",
       "4618701 2016-04-01      1  \n",
       "4618702 2016-04-20      1  \n",
       "4618703 2016-04-21      1  \n",
       "4618704 2016-06-23      6  \n",
       "4618705 2016-06-23      1  \n",
       "4618706 2016-03-15      3  \n",
       "4618707 2016-03-17      1  \n",
       "4618708 2016-02-25      1  \n",
       "4618709 2016-02-26      1  \n",
       "4618710 2016-02-29      2  \n",
       "4618711 2016-03-24      2  \n",
       "4618712 2016-06-13      1  \n",
       "4618713 2016-05-18      1  \n",
       "4618714 2016-01-08      1  \n",
       "4618715 2016-02-24      1  \n",
       "4618716 2016-06-14      2  \n",
       "4618717 2016-06-27      1  \n",
       "4618718 2016-01-20      1  \n",
       "4618719 2016-02-22      1  \n",
       "4618720 2016-03-29      1  \n",
       "4618721 2016-03-01      1  \n",
       "4618722 2016-03-24      8  \n",
       "4618723 2016-05-12      1  \n",
       "4618724 2016-06-15      1  \n",
       "4618725 2016-01-27      1  \n",
       "4618726 2016-02-16      4  \n",
       "4618727 2016-03-25      2  \n",
       "4618728 2016-04-28      4  \n",
       "4618729 2016-05-12      1  \n",
       "4618730 2016-05-20      1  \n",
       "4618731 2016-06-23      2  \n",
       "4618732 2016-06-24      4  \n",
       "4618733 2016-01-13      1  \n",
       "4618734 2016-01-15      1  \n",
       "4618735 2016-02-22      1  \n",
       "4618736 2016-06-14      1  \n",
       "4618737 2016-03-23      1  \n",
       "4618738 2016-01-13      1  \n",
       "4618739 2016-02-02      2  \n",
       "4618740 2016-02-03      1  \n",
       "4618741 2016-03-24      1  \n",
       "4618742 2016-04-21      3  "
      ]
     },
     "execution_count": 94,
     "metadata": {},
     "output_type": "execute_result"
    }
   ],
   "source": [
    "df_online[(df_online[\"User_id\"]==14015266)].head(50)"
   ]
  },
  {
   "cell_type": "markdown",
   "metadata": {},
   "source": [
    "#### Maximum data for online are of clicks,  but for offline each entry represents a single visit of the user"
   ]
  },
  {
   "cell_type": "markdown",
   "metadata": {},
   "source": [
    "## Analysis"
   ]
  },
  {
   "cell_type": "markdown",
   "metadata": {},
   "source": [
    "#### User and User's merchant preference"
   ]
  },
  {
   "cell_type": "code",
   "execution_count": 96,
   "metadata": {},
   "outputs": [
    {
     "data": {
      "text/plain": [
       "(921146,)"
      ]
     },
     "execution_count": 96,
     "metadata": {},
     "output_type": "execute_result"
    }
   ],
   "source": [
    "#User and user's merchant preference\n",
    "freq_visits = pd.DataFrame(df_of_unique.groupby(['User_id','Merchant_id']).size()).reset_index()\n",
    "freq_visits.columns = ['User_id','Merchant_id','Visits']\n",
    "freq_visits['Visits'].shape"
   ]
  },
  {
   "cell_type": "markdown",
   "metadata": {},
   "source": [
    "### Plot for frequency of user-merchant visits"
   ]
  },
  {
   "cell_type": "code",
   "execution_count": 97,
   "metadata": {},
   "outputs": [
    {
     "data": {
      "image/png": "[encoded data removed]",
      "text/plain": [
       "<Figure size 1440x1080 with 1 Axes>"
      ]
     },
     "metadata": {
      "needs_background": "light"
     },
     "output_type": "display_data"
    }
   ],
   "source": [
    "plt.figure(figsize=(20,15))\n",
    "ax = sns.countplot(freq_visits['Visits'])\n",
    "ax.set_xticklabels(ax.get_xticklabels(),rotation=90)\n",
    "i = 4\n",
    "for p in ax.patches:\n",
    "        ax.annotate('{:.0f}'.format(p.get_height()), (p.get_x()+0.1, p.get_height()+50))\n",
    "        i-=1\n",
    "        if i <0:\n",
    "            break\n",
    "plt.show()"
   ]
  },
  {
   "cell_type": "markdown",
   "metadata": {},
   "source": [
    "For offline:<br>\n",
    "Around 69% of times the frequency of user-merchant pair is 1.<br>\n",
    "For online:<br>\n",
    "Around 79.4% of times the frequency of user-merchant pair is 1.<br>\n",
    "So,in online as well as in offline, users don't prefer any certain set of merchants."
   ]
  },
  {
   "cell_type": "markdown",
   "metadata": {},
   "source": [
    "#### For any user-merchant pair, the distance should remain constant"
   ]
  },
  {
   "cell_type": "code",
   "execution_count": 98,
   "metadata": {},
   "outputs": [],
   "source": [
    "user_merchant_distance = pd.DataFrame(df_of.groupby(['User_id','Merchant_id'])['Distance'].nunique()).reset_index()"
   ]
  },
  {
   "cell_type": "code",
   "execution_count": 99,
   "metadata": {
    "scrolled": true
   },
   "outputs": [
    {
     "data": {
      "text/plain": [
       "array([1, 0])"
      ]
     },
     "execution_count": 99,
     "metadata": {},
     "output_type": "execute_result"
    }
   ],
   "source": [
    "user_merchant_distance['Distance'].unique()"
   ]
  },
  {
   "cell_type": "markdown",
   "metadata": {},
   "source": [
    "Unique distance values for a user-merchant pair are 0 (for nan distance value) and 1.<br>\n",
    "This shows for any user-merchant pair, the distance value remains constant."
   ]
  },
  {
   "cell_type": "markdown",
   "metadata": {},
   "source": [
    "#### Discount Rate should be constant for a particular coupon ids"
   ]
  },
  {
   "cell_type": "code",
   "execution_count": 100,
   "metadata": {},
   "outputs": [],
   "source": [
    "# df_on.groupby(['Coupon_id'])['Discount_rate'].nunique().unique()"
   ]
  },
  {
   "cell_type": "code",
   "execution_count": 101,
   "metadata": {},
   "outputs": [
    {
     "data": {
      "text/plain": [
       "array([1])"
      ]
     },
     "execution_count": 101,
     "metadata": {},
     "output_type": "execute_result"
    }
   ],
   "source": [
    "df_of.groupby(['Coupon_id'])['Discount_rate'].nunique().unique()"
   ]
  },
  {
   "cell_type": "markdown",
   "metadata": {},
   "source": [
    "For online and offline:<br>\n",
    "For any coupon id, its discount remains constant.\n"
   ]
  },
  {
   "cell_type": "markdown",
   "metadata": {},
   "source": [
    "#### Non Purchasers do not get enough coupons. (online)"
   ]
  },
  {
   "cell_type": "code",
   "execution_count": 104,
   "metadata": {},
   "outputs": [
    {
     "data": {
      "text/html": [
       "<div>\n",
       "<style scoped>\n",
       "    .dataframe tbody tr th:only-of-type {\n",
       "        vertical-align: middle;\n",
       "    }\n",
       "\n",
       "    .dataframe tbody tr th {\n",
       "        vertical-align: top;\n",
       "    }\n",
       "\n",
       "    .dataframe thead th {\n",
       "        text-align: right;\n",
       "    }\n",
       "</style>\n",
       "<table border=\"1\" class=\"dataframe\">\n",
       "  <thead>\n",
       "    <tr style=\"text-align: right;\">\n",
       "      <th></th>\n",
       "      <th>Action_0</th>\n",
       "      <th>Action_1</th>\n",
       "      <th>Action_2</th>\n",
       "    </tr>\n",
       "    <tr>\n",
       "      <th>User_id</th>\n",
       "      <th></th>\n",
       "      <th></th>\n",
       "      <th></th>\n",
       "    </tr>\n",
       "  </thead>\n",
       "  <tbody>\n",
       "    <tr>\n",
       "      <td>4</td>\n",
       "      <td>0</td>\n",
       "      <td>1</td>\n",
       "      <td>1</td>\n",
       "    </tr>\n",
       "    <tr>\n",
       "      <td>36</td>\n",
       "      <td>1</td>\n",
       "      <td>0</td>\n",
       "      <td>0</td>\n",
       "    </tr>\n",
       "    <tr>\n",
       "      <td>64</td>\n",
       "      <td>2</td>\n",
       "      <td>1</td>\n",
       "      <td>0</td>\n",
       "    </tr>\n",
       "    <tr>\n",
       "      <td>144</td>\n",
       "      <td>1</td>\n",
       "      <td>0</td>\n",
       "      <td>0</td>\n",
       "    </tr>\n",
       "    <tr>\n",
       "      <td>165</td>\n",
       "      <td>0</td>\n",
       "      <td>1</td>\n",
       "      <td>0</td>\n",
       "    </tr>\n",
       "  </tbody>\n",
       "</table>\n",
       "</div>"
      ],
      "text/plain": [
       "         Action_0  Action_1  Action_2\n",
       "User_id                              \n",
       "4               0         1         1\n",
       "36              1         0         0\n",
       "64              2         1         0\n",
       "144             1         0         0\n",
       "165             0         1         0"
      ]
     },
     "execution_count": 104,
     "metadata": {},
     "output_type": "execute_result"
    }
   ],
   "source": [
    "user_action = df_online_actions.groupby(['User_id'])['Action_0','Action_1','Action_2'].sum()\n",
    "user_action.head()"
   ]
  },
  {
   "cell_type": "code",
   "execution_count": 105,
   "metadata": {},
   "outputs": [
    {
     "data": {
      "text/html": [
       "<div>\n",
       "<style scoped>\n",
       "    .dataframe tbody tr th:only-of-type {\n",
       "        vertical-align: middle;\n",
       "    }\n",
       "\n",
       "    .dataframe tbody tr th {\n",
       "        vertical-align: top;\n",
       "    }\n",
       "\n",
       "    .dataframe thead th {\n",
       "        text-align: right;\n",
       "    }\n",
       "</style>\n",
       "<table border=\"1\" class=\"dataframe\">\n",
       "  <thead>\n",
       "    <tr style=\"text-align: right;\">\n",
       "      <th></th>\n",
       "      <th>Action_0</th>\n",
       "      <th>Action_1</th>\n",
       "      <th>Action_2</th>\n",
       "    </tr>\n",
       "    <tr>\n",
       "      <th>User_id</th>\n",
       "      <th></th>\n",
       "      <th></th>\n",
       "      <th></th>\n",
       "    </tr>\n",
       "  </thead>\n",
       "  <tbody>\n",
       "    <tr>\n",
       "      <td>4</td>\n",
       "      <td>0</td>\n",
       "      <td>1</td>\n",
       "      <td>1</td>\n",
       "    </tr>\n",
       "    <tr>\n",
       "      <td>64</td>\n",
       "      <td>2</td>\n",
       "      <td>1</td>\n",
       "      <td>0</td>\n",
       "    </tr>\n",
       "    <tr>\n",
       "      <td>165</td>\n",
       "      <td>0</td>\n",
       "      <td>1</td>\n",
       "      <td>0</td>\n",
       "    </tr>\n",
       "    <tr>\n",
       "      <td>184</td>\n",
       "      <td>0</td>\n",
       "      <td>2</td>\n",
       "      <td>0</td>\n",
       "    </tr>\n",
       "    <tr>\n",
       "      <td>209</td>\n",
       "      <td>1</td>\n",
       "      <td>4</td>\n",
       "      <td>0</td>\n",
       "    </tr>\n",
       "  </tbody>\n",
       "</table>\n",
       "</div>"
      ],
      "text/plain": [
       "         Action_0  Action_1  Action_2\n",
       "User_id                              \n",
       "4               0         1         1\n",
       "64              2         1         0\n",
       "165             0         1         0\n",
       "184             0         2         0\n",
       "209             1         4         0"
      ]
     },
     "execution_count": 105,
     "metadata": {},
     "output_type": "execute_result"
    }
   ],
   "source": [
    "purchaser = user_action[user_action['Action_1']!=0]         #users with atleast 1 buy\n",
    "non_purchaser = user_action[user_action['Action_1']==0]     #users with only click entries\n",
    "purchaser.head()"
   ]
  },
  {
   "cell_type": "markdown",
   "metadata": {},
   "source": [
    "Total online users: 762,858 <br>\n",
    "Purchaser(have atleast 1 buy action) : 54%<br>\n",
    "Non Purchaser(no buy action) : 46%<br>\n",
    "Coupon Distribtion:<br>\n",
    "Total coupons distributed 655898 <br>\n",
    "73% of the coupons distributed goes to purchasers and 27% goes to non purchasers"
   ]
  },
  {
   "cell_type": "markdown",
   "metadata": {},
   "source": [
    "#### A user should redeem a coupon to the nearest store"
   ]
  },
  {
   "cell_type": "code",
   "execution_count": 107,
   "metadata": {},
   "outputs": [
    {
     "data": {
      "text/plain": [
       "6865"
      ]
     },
     "execution_count": 107,
     "metadata": {},
     "output_type": "execute_result"
    }
   ],
   "source": [
    "offline_redeemed = df_of_unique[(df_of_unique['Date'].isna()==False) & (df_of_unique['Coupon_id'].isna()==False)]\n",
    "len(offline_redeemed['Coupon_id'].unique())"
   ]
  },
  {
   "cell_type": "markdown",
   "metadata": {},
   "source": [
    "### CountPlot for distance attribute (when coupon was redeemed)"
   ]
  },
  {
   "cell_type": "code",
   "execution_count": 108,
   "metadata": {},
   "outputs": [
    {
     "data": {
      "image/png": "[encoded data removed]",
      "text/plain": [
       "<Figure size 648x504 with 1 Axes>"
      ]
     },
     "metadata": {
      "needs_background": "light"
     },
     "output_type": "display_data"
    }
   ],
   "source": [
    "plt.figure(figsize=(9,7))\n",
    "ax = sns.countplot(offline_redeemed['Distance'])\n",
    "ax.set_xticklabels(ax.get_xticklabels(),rotation=90)\n",
    "for p in ax.patches:\n",
    "        ax.annotate('{:.0f}'.format(p.get_height()), (p.get_x()+0.1, p.get_height()+50))\n",
    "plt.show()"
   ]
  },
  {
   "cell_type": "markdown",
   "metadata": {},
   "source": [
    "When a coupon is redeemed offline, 61% of the times it is redeemed at a store which is at 0 (less than 500m) distance"
   ]
  },
  {
   "cell_type": "code",
   "execution_count": 109,
   "metadata": {},
   "outputs": [
    {
     "data": {
      "text/plain": [
       "(8066, 8)"
      ]
     },
     "execution_count": 109,
     "metadata": {},
     "output_type": "execute_result"
    }
   ],
   "source": [
    "offline_redeemed[offline_redeemed['Distance'].isna()].shape"
   ]
  },
  {
   "cell_type": "markdown",
   "metadata": {},
   "source": [
    "#### Discount and Redemption"
   ]
  },
  {
   "cell_type": "code",
   "execution_count": 110,
   "metadata": {},
   "outputs": [],
   "source": [
    "#Funtion to convert discount ratio to discount rate\n",
    "def convert_discount(discount):\n",
    "    values = []\n",
    "    for i in discount:\n",
    "        if ':' in i:\n",
    "            i = i.split(':')\n",
    "            rate = round((int(i[0]) - int(i[1]))/int(i[0]),2)\n",
    "            values.append([int(i[0]),int(i[1]),rate])\n",
    "        elif '.' in i:\n",
    "            i = float(i)\n",
    "            x = 100*i\n",
    "            values.append([100,int(100-x),i])\n",
    "            \n",
    "    discounts = dict(zip(discount,values))      \n",
    "    return discounts\n",
    "    \n",
    "\n",
    "# convert_discount(list(df_of['Discount_rate']))"
   ]
  },
  {
   "cell_type": "markdown",
   "metadata": {},
   "source": [
    "For Offline:"
   ]
  },
  {
   "cell_type": "code",
   "execution_count": 112,
   "metadata": {},
   "outputs": [
    {
     "data": {
      "text/plain": [
       "46"
      ]
     },
     "execution_count": 112,
     "metadata": {},
     "output_type": "execute_result"
    }
   ],
   "source": [
    "#number of unique discounts offered to offline users\n",
    "len(df_of['Discount_rate'].unique())"
   ]
  },
  {
   "cell_type": "markdown",
   "metadata": {},
   "source": [
    "### CountPlot for discount ratios (offline)"
   ]
  },
  {
   "cell_type": "code",
   "execution_count": 97,
   "metadata": {},
   "outputs": [
    {
     "data": {
      "image/png": "[encoded data removed]",
      "text/plain": [
       "<Figure size 1440x864 with 1 Axes>"
      ]
     },
     "metadata": {
      "needs_background": "light"
     },
     "output_type": "display_data"
    }
   ],
   "source": [
    "plt.figure(figsize=(20,12))\n",
    "ax = sns.countplot(offline_redeemed['Discount_rate'])\n",
    "ax.set_xticklabels(ax.get_xticklabels(),rotation=90)\n",
    "for p in ax.patches:\n",
    "        ax.annotate('{:.0f}'.format(p.get_height()), (p.get_x()+0.1, p.get_height()+50))\n",
    "plt.show()"
   ]
  },
  {
   "cell_type": "code",
   "execution_count": 113,
   "metadata": {},
   "outputs": [],
   "source": [
    "#For offline: count of coupons released for each discount rate\n",
    "discount = df_of['Discount_rate'].value_counts()\n",
    "of_discount = pd.DataFrame(discount).reset_index()\n",
    "of_discount.columns = ['Discount_rate','Total_coupons']\n"
   ]
  },
  {
   "cell_type": "code",
   "execution_count": 114,
   "metadata": {},
   "outputs": [
    {
     "data": {
      "text/html": [
       "<div>\n",
       "<style scoped>\n",
       "    .dataframe tbody tr th:only-of-type {\n",
       "        vertical-align: middle;\n",
       "    }\n",
       "\n",
       "    .dataframe tbody tr th {\n",
       "        vertical-align: top;\n",
       "    }\n",
       "\n",
       "    .dataframe thead th {\n",
       "        text-align: right;\n",
       "    }\n",
       "</style>\n",
       "<table border=\"1\" class=\"dataframe\">\n",
       "  <thead>\n",
       "    <tr style=\"text-align: right;\">\n",
       "      <th></th>\n",
       "      <th>Discount_rate</th>\n",
       "      <th>Coupons_Redeemed</th>\n",
       "    </tr>\n",
       "  </thead>\n",
       "  <tbody>\n",
       "    <tr>\n",
       "      <td>0</td>\n",
       "      <td>30:5</td>\n",
       "      <td>22693</td>\n",
       "    </tr>\n",
       "    <tr>\n",
       "      <td>1</td>\n",
       "      <td>20:5</td>\n",
       "      <td>11512</td>\n",
       "    </tr>\n",
       "    <tr>\n",
       "      <td>2</td>\n",
       "      <td>20:1</td>\n",
       "      <td>8241</td>\n",
       "    </tr>\n",
       "    <tr>\n",
       "      <td>3</td>\n",
       "      <td>100:10</td>\n",
       "      <td>5359</td>\n",
       "    </tr>\n",
       "    <tr>\n",
       "      <td>4</td>\n",
       "      <td>10:1</td>\n",
       "      <td>4004</td>\n",
       "    </tr>\n",
       "  </tbody>\n",
       "</table>\n",
       "</div>"
      ],
      "text/plain": [
       "  Discount_rate  Coupons_Redeemed\n",
       "0          30:5             22693\n",
       "1          20:5             11512\n",
       "2          20:1              8241\n",
       "3        100:10              5359\n",
       "4          10:1              4004"
      ]
     },
     "execution_count": 114,
     "metadata": {},
     "output_type": "execute_result"
    }
   ],
   "source": [
    "#For offline: count of coupons redeemed for each discount rate\n",
    "discount_red = offline_redeemed['Discount_rate'].value_counts()\n",
    "of_discount_redeemed = pd.DataFrame(discount_red).reset_index()\n",
    "of_discount_redeemed.columns = ['Discount_rate','Coupons_Redeemed']\n",
    "of_discount_redeemed.head()"
   ]
  },
  {
   "cell_type": "code",
   "execution_count": 115,
   "metadata": {},
   "outputs": [
    {
     "data": {
      "text/html": [
       "<div>\n",
       "<style scoped>\n",
       "    .dataframe tbody tr th:only-of-type {\n",
       "        vertical-align: middle;\n",
       "    }\n",
       "\n",
       "    .dataframe tbody tr th {\n",
       "        vertical-align: top;\n",
       "    }\n",
       "\n",
       "    .dataframe thead th {\n",
       "        text-align: right;\n",
       "    }\n",
       "</style>\n",
       "<table border=\"1\" class=\"dataframe\">\n",
       "  <thead>\n",
       "    <tr style=\"text-align: right;\">\n",
       "      <th></th>\n",
       "      <th>Discount_rate</th>\n",
       "      <th>Total_coupons</th>\n",
       "      <th>Coupons_Redeemed</th>\n",
       "      <th>Ratio</th>\n",
       "      <th>Discount</th>\n",
       "    </tr>\n",
       "  </thead>\n",
       "  <tbody>\n",
       "    <tr>\n",
       "      <td>0</td>\n",
       "      <td>30:5</td>\n",
       "      <td>270712</td>\n",
       "      <td>22693</td>\n",
       "      <td>0.083827</td>\n",
       "      <td>30:5</td>\n",
       "    </tr>\n",
       "    <tr>\n",
       "      <td>1</td>\n",
       "      <td>100:10</td>\n",
       "      <td>182554</td>\n",
       "      <td>5359</td>\n",
       "      <td>0.029356</td>\n",
       "      <td>100:10</td>\n",
       "    </tr>\n",
       "    <tr>\n",
       "      <td>2</td>\n",
       "      <td>200:20</td>\n",
       "      <td>111046</td>\n",
       "      <td>1691</td>\n",
       "      <td>0.015228</td>\n",
       "      <td>200:20</td>\n",
       "    </tr>\n",
       "    <tr>\n",
       "      <td>3</td>\n",
       "      <td>20:5</td>\n",
       "      <td>91013</td>\n",
       "      <td>11512</td>\n",
       "      <td>0.126487</td>\n",
       "      <td>20:5</td>\n",
       "    </tr>\n",
       "    <tr>\n",
       "      <td>4</td>\n",
       "      <td>20:1</td>\n",
       "      <td>51705</td>\n",
       "      <td>8241</td>\n",
       "      <td>0.159385</td>\n",
       "      <td>20:1</td>\n",
       "    </tr>\n",
       "  </tbody>\n",
       "</table>\n",
       "</div>"
      ],
      "text/plain": [
       "  Discount_rate  Total_coupons  Coupons_Redeemed     Ratio Discount\n",
       "0          30:5         270712             22693  0.083827     30:5\n",
       "1        100:10         182554              5359  0.029356   100:10\n",
       "2        200:20         111046              1691  0.015228   200:20\n",
       "3          20:5          91013             11512  0.126487     20:5\n",
       "4          20:1          51705              8241  0.159385     20:1"
      ]
     },
     "execution_count": 115,
     "metadata": {},
     "output_type": "execute_result"
    }
   ],
   "source": [
    "#Ratio = Coupons Redeemed/Coupons Released\n",
    "df_discount_of = of_discount.merge(of_discount_redeemed)\n",
    "df_discount_of['Ratio'] = df_discount_of['Coupons_Redeemed']/df_discount_of['Total_coupons']\n",
    "df_discount_of['Discount'] = df_discount_of['Discount_rate']\n",
    "df_discount_of.head()"
   ]
  },
  {
   "cell_type": "markdown",
   "metadata": {},
   "source": [
    "Converting offline discount ratios to discount rates along with original price and discounted price"
   ]
  },
  {
   "cell_type": "code",
   "execution_count": 116,
   "metadata": {},
   "outputs": [],
   "source": [
    "df_discount_of['Discount_rate'] = df_discount_of['Discount_rate'].map(convert_discount(list(of_discount_redeemed['Discount_rate'])))"
   ]
  },
  {
   "cell_type": "code",
   "execution_count": 117,
   "metadata": {},
   "outputs": [
    {
     "data": {
      "text/html": [
       "<div>\n",
       "<style scoped>\n",
       "    .dataframe tbody tr th:only-of-type {\n",
       "        vertical-align: middle;\n",
       "    }\n",
       "\n",
       "    .dataframe tbody tr th {\n",
       "        vertical-align: top;\n",
       "    }\n",
       "\n",
       "    .dataframe thead th {\n",
       "        text-align: right;\n",
       "    }\n",
       "</style>\n",
       "<table border=\"1\" class=\"dataframe\">\n",
       "  <thead>\n",
       "    <tr style=\"text-align: right;\">\n",
       "      <th></th>\n",
       "      <th>Discount_rate</th>\n",
       "      <th>Total_coupons</th>\n",
       "      <th>Coupons_Redeemed</th>\n",
       "      <th>Ratio</th>\n",
       "      <th>Discount</th>\n",
       "      <th>Original_price</th>\n",
       "      <th>Discounted_price</th>\n",
       "      <th>Rate</th>\n",
       "    </tr>\n",
       "  </thead>\n",
       "  <tbody>\n",
       "    <tr>\n",
       "      <td>0</td>\n",
       "      <td>[30, 5, 0.83]</td>\n",
       "      <td>270712</td>\n",
       "      <td>22693</td>\n",
       "      <td>0.083827</td>\n",
       "      <td>30:5</td>\n",
       "      <td>30</td>\n",
       "      <td>5</td>\n",
       "      <td>0.83</td>\n",
       "    </tr>\n",
       "    <tr>\n",
       "      <td>1</td>\n",
       "      <td>[100, 10, 0.9]</td>\n",
       "      <td>182554</td>\n",
       "      <td>5359</td>\n",
       "      <td>0.029356</td>\n",
       "      <td>100:10</td>\n",
       "      <td>100</td>\n",
       "      <td>10</td>\n",
       "      <td>0.90</td>\n",
       "    </tr>\n",
       "    <tr>\n",
       "      <td>2</td>\n",
       "      <td>[200, 20, 0.9]</td>\n",
       "      <td>111046</td>\n",
       "      <td>1691</td>\n",
       "      <td>0.015228</td>\n",
       "      <td>200:20</td>\n",
       "      <td>200</td>\n",
       "      <td>20</td>\n",
       "      <td>0.90</td>\n",
       "    </tr>\n",
       "    <tr>\n",
       "      <td>3</td>\n",
       "      <td>[20, 5, 0.75]</td>\n",
       "      <td>91013</td>\n",
       "      <td>11512</td>\n",
       "      <td>0.126487</td>\n",
       "      <td>20:5</td>\n",
       "      <td>20</td>\n",
       "      <td>5</td>\n",
       "      <td>0.75</td>\n",
       "    </tr>\n",
       "    <tr>\n",
       "      <td>4</td>\n",
       "      <td>[20, 1, 0.95]</td>\n",
       "      <td>51705</td>\n",
       "      <td>8241</td>\n",
       "      <td>0.159385</td>\n",
       "      <td>20:1</td>\n",
       "      <td>20</td>\n",
       "      <td>1</td>\n",
       "      <td>0.95</td>\n",
       "    </tr>\n",
       "  </tbody>\n",
       "</table>\n",
       "</div>"
      ],
      "text/plain": [
       "    Discount_rate  Total_coupons  Coupons_Redeemed     Ratio Discount  \\\n",
       "0   [30, 5, 0.83]         270712             22693  0.083827     30:5   \n",
       "1  [100, 10, 0.9]         182554              5359  0.029356   100:10   \n",
       "2  [200, 20, 0.9]         111046              1691  0.015228   200:20   \n",
       "3   [20, 5, 0.75]          91013             11512  0.126487     20:5   \n",
       "4   [20, 1, 0.95]          51705              8241  0.159385     20:1   \n",
       "\n",
       "   Original_price  Discounted_price  Rate  \n",
       "0              30                 5  0.83  \n",
       "1             100                10  0.90  \n",
       "2             200                20  0.90  \n",
       "3              20                 5  0.75  \n",
       "4              20                 1  0.95  "
      ]
     },
     "execution_count": 117,
     "metadata": {},
     "output_type": "execute_result"
    }
   ],
   "source": [
    "df_discount_of[['Original_price','Discounted_price','Rate']] = pd.DataFrame(df_discount_of.Discount_rate.values.tolist(), index= df_discount_of.index)\n",
    "df_discount_of.head()\n"
   ]
  },
  {
   "cell_type": "markdown",
   "metadata": {},
   "source": [
    "For Online:<br>\n",
    "60% fixed discounts"
   ]
  },
  {
   "cell_type": "code",
   "execution_count": 119,
   "metadata": {},
   "outputs": [
    {
     "data": {
      "text/html": [
       "<div>\n",
       "<style scoped>\n",
       "    .dataframe tbody tr th:only-of-type {\n",
       "        vertical-align: middle;\n",
       "    }\n",
       "\n",
       "    .dataframe tbody tr th {\n",
       "        vertical-align: top;\n",
       "    }\n",
       "\n",
       "    .dataframe thead th {\n",
       "        text-align: right;\n",
       "    }\n",
       "</style>\n",
       "<table border=\"1\" class=\"dataframe\">\n",
       "  <thead>\n",
       "    <tr style=\"text-align: right;\">\n",
       "      <th></th>\n",
       "      <th>User_id</th>\n",
       "      <th>Merchant_id</th>\n",
       "      <th>Action</th>\n",
       "      <th>Coupon_id</th>\n",
       "      <th>Discount_rate</th>\n",
       "      <th>Date_received</th>\n",
       "      <th>Date</th>\n",
       "      <th>Count</th>\n",
       "    </tr>\n",
       "  </thead>\n",
       "  <tbody>\n",
       "    <tr>\n",
       "      <td>14</td>\n",
       "      <td>209</td>\n",
       "      <td>27710</td>\n",
       "      <td>1</td>\n",
       "      <td>100081876</td>\n",
       "      <td>150:10</td>\n",
       "      <td>2016-05-14</td>\n",
       "      <td>2016-05-14</td>\n",
       "      <td>1</td>\n",
       "    </tr>\n",
       "    <tr>\n",
       "      <td>61</td>\n",
       "      <td>387</td>\n",
       "      <td>14305</td>\n",
       "      <td>1</td>\n",
       "      <td>100032161</td>\n",
       "      <td>10:5</td>\n",
       "      <td>2016-05-16</td>\n",
       "      <td>2016-05-20</td>\n",
       "      <td>1</td>\n",
       "    </tr>\n",
       "    <tr>\n",
       "      <td>116</td>\n",
       "      <td>696</td>\n",
       "      <td>26705</td>\n",
       "      <td>1</td>\n",
       "      <td>100128459</td>\n",
       "      <td>30:20</td>\n",
       "      <td>2016-02-13</td>\n",
       "      <td>2016-02-13</td>\n",
       "      <td>1</td>\n",
       "    </tr>\n",
       "    <tr>\n",
       "      <td>196</td>\n",
       "      <td>944</td>\n",
       "      <td>47311</td>\n",
       "      <td>1</td>\n",
       "      <td>100225309</td>\n",
       "      <td>100:5</td>\n",
       "      <td>2016-05-26</td>\n",
       "      <td>2016-05-26</td>\n",
       "      <td>1</td>\n",
       "    </tr>\n",
       "    <tr>\n",
       "      <td>218</td>\n",
       "      <td>1202</td>\n",
       "      <td>18907</td>\n",
       "      <td>1</td>\n",
       "      <td>100102905</td>\n",
       "      <td>300:30</td>\n",
       "      <td>2016-02-25</td>\n",
       "      <td>2016-02-25</td>\n",
       "      <td>1</td>\n",
       "    </tr>\n",
       "  </tbody>\n",
       "</table>\n",
       "</div>"
      ],
      "text/plain": [
       "     User_id  Merchant_id  Action  Coupon_id Discount_rate Date_received  \\\n",
       "14       209        27710       1  100081876        150:10    2016-05-14   \n",
       "61       387        14305       1  100032161          10:5    2016-05-16   \n",
       "116      696        26705       1  100128459         30:20    2016-02-13   \n",
       "196      944        47311       1  100225309         100:5    2016-05-26   \n",
       "218     1202        18907       1  100102905        300:30    2016-02-25   \n",
       "\n",
       "          Date  Count  \n",
       "14  2016-05-14      1  \n",
       "61  2016-05-20      1  \n",
       "116 2016-02-13      1  \n",
       "196 2016-05-26      1  \n",
       "218 2016-02-25      1  "
      ]
     },
     "execution_count": 119,
     "metadata": {},
     "output_type": "execute_result"
    }
   ],
   "source": [
    "online_redeemed = df_on_unique[(df_on_unique['Date'].isna()==False) & (df_on_unique['Coupon_id'].isna()==False)  & (df_on_unique['Coupon_id']!='fixed')]\n",
    "online_redeemed.head()"
   ]
  },
  {
   "cell_type": "markdown",
   "metadata": {},
   "source": [
    "### CountPlot for discount ratios (online)"
   ]
  },
  {
   "cell_type": "code",
   "execution_count": 120,
   "metadata": {},
   "outputs": [
    {
     "data": {
      "image/png": "[encoded data removed]",
      "text/plain": [
       "<Figure size 1440x864 with 1 Axes>"
      ]
     },
     "metadata": {
      "needs_background": "light"
     },
     "output_type": "display_data"
    }
   ],
   "source": [
    "plt.figure(figsize=(20,12))\n",
    "ax = sns.countplot(online_redeemed['Discount_rate'])\n",
    "ax.set_xticklabels(ax.get_xticklabels(),rotation=90)\n",
    "for p in ax.patches:\n",
    "        ax.annotate('{:.0f}'.format(p.get_height()), (p.get_x()+0.1, p.get_height()+50))\n",
    "plt.show()"
   ]
  },
  {
   "cell_type": "code",
   "execution_count": 121,
   "metadata": {},
   "outputs": [
    {
     "data": {
      "text/plain": [
       "str"
      ]
     },
     "execution_count": 121,
     "metadata": {},
     "output_type": "execute_result"
    }
   ],
   "source": [
    "type(df_on['Discount_rate'][0])"
   ]
  },
  {
   "cell_type": "markdown",
   "metadata": {},
   "source": [
    "### Redemption Score of Merchants"
   ]
  },
  {
   "cell_type": "code",
   "execution_count": 123,
   "metadata": {},
   "outputs": [
    {
     "data": {
      "text/html": [
       "<div>\n",
       "<style scoped>\n",
       "    .dataframe tbody tr th:only-of-type {\n",
       "        vertical-align: middle;\n",
       "    }\n",
       "\n",
       "    .dataframe tbody tr th {\n",
       "        vertical-align: top;\n",
       "    }\n",
       "\n",
       "    .dataframe thead th {\n",
       "        text-align: right;\n",
       "    }\n",
       "</style>\n",
       "<table border=\"1\" class=\"dataframe\">\n",
       "  <thead>\n",
       "    <tr style=\"text-align: right;\">\n",
       "      <th></th>\n",
       "      <th>Total_coupons</th>\n",
       "      <th>NumberRedeemed</th>\n",
       "      <th>Redemption_ratio</th>\n",
       "    </tr>\n",
       "    <tr>\n",
       "      <th>Merchant_id</th>\n",
       "      <th></th>\n",
       "      <th></th>\n",
       "      <th></th>\n",
       "    </tr>\n",
       "  </thead>\n",
       "  <tbody>\n",
       "    <tr>\n",
       "      <td>2</td>\n",
       "      <td>7</td>\n",
       "      <td>0</td>\n",
       "      <td>0.000000</td>\n",
       "    </tr>\n",
       "    <tr>\n",
       "      <td>3</td>\n",
       "      <td>10</td>\n",
       "      <td>1</td>\n",
       "      <td>0.100000</td>\n",
       "    </tr>\n",
       "    <tr>\n",
       "      <td>4</td>\n",
       "      <td>7</td>\n",
       "      <td>5</td>\n",
       "      <td>0.714286</td>\n",
       "    </tr>\n",
       "    <tr>\n",
       "      <td>5</td>\n",
       "      <td>28</td>\n",
       "      <td>3</td>\n",
       "      <td>0.107143</td>\n",
       "    </tr>\n",
       "    <tr>\n",
       "      <td>8</td>\n",
       "      <td>2</td>\n",
       "      <td>0</td>\n",
       "      <td>0.000000</td>\n",
       "    </tr>\n",
       "  </tbody>\n",
       "</table>\n",
       "</div>"
      ],
      "text/plain": [
       "             Total_coupons  NumberRedeemed  Redemption_ratio\n",
       "Merchant_id                                                 \n",
       "2                        7               0          0.000000\n",
       "3                       10               1          0.100000\n",
       "4                        7               5          0.714286\n",
       "5                       28               3          0.107143\n",
       "8                        2               0          0.000000"
      ]
     },
     "execution_count": 123,
     "metadata": {},
     "output_type": "execute_result"
    }
   ],
   "source": [
    "#For each merchant(offline): number of coupons they release and number of those coupons redeemd\n",
    "merch_coupons_offline = df_of_unique[(df_of_unique['Coupon_id'].isna()==False)].groupby(['Merchant_id'])['Coupon_id','Date'].count()\n",
    "merch_coupons_offline['Redemption_ratio'] = merch_coupons_offline['Date']/merch_coupons_offline['Coupon_id']\n",
    "merch_coupons_offline.columns = ['Total_coupons','NumberRedeemed','Redemption_ratio']\n",
    "merch_coupons_offline.head()"
   ]
  },
  {
   "cell_type": "markdown",
   "metadata": {},
   "source": [
    "#### Filling Nan for Distance"
   ]
  },
  {
   "cell_type": "code",
   "execution_count": 111,
   "metadata": {},
   "outputs": [],
   "source": [
    "df_of_unique['Distance'].fillna(df_of_unique['Distance'].mean(), inplace=True)\n",
    "df_of_unique['Distance'] = df_of_unique.Distance.astype(int)"
   ]
  },
  {
   "cell_type": "code",
   "execution_count": 112,
   "metadata": {},
   "outputs": [
    {
     "data": {
      "text/html": [
       "<div>\n",
       "<style scoped>\n",
       "    .dataframe tbody tr th:only-of-type {\n",
       "        vertical-align: middle;\n",
       "    }\n",
       "\n",
       "    .dataframe tbody tr th {\n",
       "        vertical-align: top;\n",
       "    }\n",
       "\n",
       "    .dataframe thead th {\n",
       "        text-align: right;\n",
       "    }\n",
       "</style>\n",
       "<table border=\"1\" class=\"dataframe\">\n",
       "  <thead>\n",
       "    <tr style=\"text-align: right;\">\n",
       "      <th></th>\n",
       "      <th>User_id</th>\n",
       "      <th>Merchant_id</th>\n",
       "      <th>Coupon_id</th>\n",
       "      <th>Discount_rate</th>\n",
       "      <th>Distance</th>\n",
       "      <th>Date_received</th>\n",
       "      <th>Date</th>\n",
       "      <th>Count</th>\n",
       "    </tr>\n",
       "  </thead>\n",
       "  <tbody>\n",
       "    <tr>\n",
       "      <td>1716986</td>\n",
       "      <td>7360967</td>\n",
       "      <td>3103</td>\n",
       "      <td>NaN</td>\n",
       "      <td>NaN</td>\n",
       "      <td>2</td>\n",
       "      <td>NaT</td>\n",
       "      <td>2016-01-20</td>\n",
       "      <td>1</td>\n",
       "    </tr>\n",
       "    <tr>\n",
       "      <td>1716987</td>\n",
       "      <td>7360967</td>\n",
       "      <td>6485</td>\n",
       "      <td>10323.0</td>\n",
       "      <td>20:5</td>\n",
       "      <td>1</td>\n",
       "      <td>2016-03-22</td>\n",
       "      <td>NaT</td>\n",
       "      <td>2</td>\n",
       "    </tr>\n",
       "    <tr>\n",
       "      <td>1716988</td>\n",
       "      <td>7361024</td>\n",
       "      <td>1433</td>\n",
       "      <td>8735.0</td>\n",
       "      <td>30:5</td>\n",
       "      <td>10</td>\n",
       "      <td>2016-02-11</td>\n",
       "      <td>NaT</td>\n",
       "      <td>1</td>\n",
       "    </tr>\n",
       "    <tr>\n",
       "      <td>1716989</td>\n",
       "      <td>7361032</td>\n",
       "      <td>2146</td>\n",
       "      <td>11173.0</td>\n",
       "      <td>100:10</td>\n",
       "      <td>2</td>\n",
       "      <td>2016-01-29</td>\n",
       "      <td>NaT</td>\n",
       "      <td>1</td>\n",
       "    </tr>\n",
       "    <tr>\n",
       "      <td>1716990</td>\n",
       "      <td>7361032</td>\n",
       "      <td>7019</td>\n",
       "      <td>3887.0</td>\n",
       "      <td>100:10</td>\n",
       "      <td>8</td>\n",
       "      <td>2016-01-29</td>\n",
       "      <td>NaT</td>\n",
       "      <td>1</td>\n",
       "    </tr>\n",
       "  </tbody>\n",
       "</table>\n",
       "</div>"
      ],
      "text/plain": [
       "         User_id  Merchant_id  Coupon_id Discount_rate  Distance  \\\n",
       "1716986  7360967         3103        NaN           NaN         2   \n",
       "1716987  7360967         6485    10323.0          20:5         1   \n",
       "1716988  7361024         1433     8735.0          30:5        10   \n",
       "1716989  7361032         2146    11173.0        100:10         2   \n",
       "1716990  7361032         7019     3887.0        100:10         8   \n",
       "\n",
       "        Date_received       Date  Count  \n",
       "1716986           NaT 2016-01-20      1  \n",
       "1716987    2016-03-22        NaT      2  \n",
       "1716988    2016-02-11        NaT      1  \n",
       "1716989    2016-01-29        NaT      1  \n",
       "1716990    2016-01-29        NaT      1  "
      ]
     },
     "execution_count": 112,
     "metadata": {},
     "output_type": "execute_result"
    }
   ],
   "source": [
    "df_of_unique.tail(5)"
   ]
  },
  {
   "cell_type": "code",
   "execution_count": 113,
   "metadata": {},
   "outputs": [],
   "source": [
    "offline_redeemed = df_of_unique[(df_of_unique['Date'].isna()==False) & (df_of_unique['Coupon_id'].isna()==False)]"
   ]
  },
  {
   "cell_type": "markdown",
   "metadata": {},
   "source": [
    "#### CountPlot for distance attribute (when coupon was redeemed)"
   ]
  },
  {
   "cell_type": "code",
   "execution_count": 124,
   "metadata": {},
   "outputs": [
    {
     "data": {
      "image/png": "[encoded data removed]",
      "text/plain": [
       "<Figure size 648x504 with 1 Axes>"
      ]
     },
     "metadata": {
      "needs_background": "light"
     },
     "output_type": "display_data"
    }
   ],
   "source": [
    "plt.figure(figsize=(9,7))\n",
    "ax = sns.countplot(offline_redeemed['Distance'])\n",
    "ax.set_xticklabels(ax.get_xticklabels(),rotation=90)\n",
    "for p in ax.patches:\n",
    "        ax.annotate('{:.0f}'.format(p.get_height()), (p.get_x()+0.1, p.get_height()+50))\n",
    "plt.show()"
   ]
  },
  {
   "cell_type": "markdown",
   "metadata": {},
   "source": [
    "### Merchant and Average Distance of its customers"
   ]
  },
  {
   "cell_type": "code",
   "execution_count": 129,
   "metadata": {},
   "outputs": [
    {
     "data": {
      "text/html": [
       "<div>\n",
       "<style scoped>\n",
       "    .dataframe tbody tr th:only-of-type {\n",
       "        vertical-align: middle;\n",
       "    }\n",
       "\n",
       "    .dataframe tbody tr th {\n",
       "        vertical-align: top;\n",
       "    }\n",
       "\n",
       "    .dataframe thead th {\n",
       "        text-align: right;\n",
       "    }\n",
       "</style>\n",
       "<table border=\"1\" class=\"dataframe\">\n",
       "  <thead>\n",
       "    <tr style=\"text-align: right;\">\n",
       "      <th></th>\n",
       "      <th>mean</th>\n",
       "      <th>count</th>\n",
       "    </tr>\n",
       "    <tr>\n",
       "      <th>Merchant_id</th>\n",
       "      <th></th>\n",
       "      <th></th>\n",
       "    </tr>\n",
       "  </thead>\n",
       "  <tbody>\n",
       "    <tr>\n",
       "      <td>1</td>\n",
       "      <td>0.000000</td>\n",
       "      <td>14</td>\n",
       "    </tr>\n",
       "    <tr>\n",
       "      <td>2</td>\n",
       "      <td>6.181818</td>\n",
       "      <td>11</td>\n",
       "    </tr>\n",
       "    <tr>\n",
       "      <td>3</td>\n",
       "      <td>5.375000</td>\n",
       "      <td>16</td>\n",
       "    </tr>\n",
       "    <tr>\n",
       "      <td>4</td>\n",
       "      <td>0.000000</td>\n",
       "      <td>39</td>\n",
       "    </tr>\n",
       "    <tr>\n",
       "      <td>5</td>\n",
       "      <td>1.493151</td>\n",
       "      <td>73</td>\n",
       "    </tr>\n",
       "    <tr>\n",
       "      <td>6</td>\n",
       "      <td>0.114754</td>\n",
       "      <td>61</td>\n",
       "    </tr>\n",
       "    <tr>\n",
       "      <td>7</td>\n",
       "      <td>5.666667</td>\n",
       "      <td>3</td>\n",
       "    </tr>\n",
       "  </tbody>\n",
       "</table>\n",
       "</div>"
      ],
      "text/plain": [
       "                 mean  count\n",
       "Merchant_id                 \n",
       "1            0.000000     14\n",
       "2            6.181818     11\n",
       "3            5.375000     16\n",
       "4            0.000000     39\n",
       "5            1.493151     73\n",
       "6            0.114754     61\n",
       "7            5.666667      3"
      ]
     },
     "execution_count": 129,
     "metadata": {},
     "output_type": "execute_result"
    }
   ],
   "source": [
    "merch_dist = df_of_unique.groupby(['Merchant_id'])['Distance'].agg(['mean','count'])\n",
    "merch_dist.head(7)"
   ]
  },
  {
   "cell_type": "code",
   "execution_count": 130,
   "metadata": {},
   "outputs": [
    {
     "data": {
      "text/plain": [
       "count    8218.000000\n",
       "mean        2.295972\n",
       "std         2.203699\n",
       "min         0.000000\n",
       "25%         0.532270\n",
       "50%         1.725000\n",
       "75%         3.497549\n",
       "max        10.000000\n",
       "Name: mean, dtype: float64"
      ]
     },
     "execution_count": 130,
     "metadata": {},
     "output_type": "execute_result"
    }
   ],
   "source": [
    "merch_dist['mean'].describe()"
   ]
  },
  {
   "cell_type": "markdown",
   "metadata": {},
   "source": [
    "### Merchant and Discounts"
   ]
  },
  {
   "cell_type": "code",
   "execution_count": 131,
   "metadata": {},
   "outputs": [
    {
     "name": "stderr",
     "output_type": "stream",
     "text": [
      "/Users/mahimaarora/opt/anaconda3/lib/python3.7/site-packages/ipykernel_launcher.py:3: SettingWithCopyWarning: \n",
      "A value is trying to be set on a copy of a slice from a DataFrame.\n",
      "Try using .loc[row_indexer,col_indexer] = value instead\n",
      "\n",
      "See the caveats in the documentation: http://pandas.pydata.org/pandas-docs/stable/user_guide/indexing.html#returning-a-view-versus-a-copy\n",
      "  This is separate from the ipykernel package so we can avoid doing imports until\n"
     ]
    },
    {
     "data": {
      "text/html": [
       "<div>\n",
       "<style scoped>\n",
       "    .dataframe tbody tr th:only-of-type {\n",
       "        vertical-align: middle;\n",
       "    }\n",
       "\n",
       "    .dataframe tbody tr th {\n",
       "        vertical-align: top;\n",
       "    }\n",
       "\n",
       "    .dataframe thead th {\n",
       "        text-align: right;\n",
       "    }\n",
       "</style>\n",
       "<table border=\"1\" class=\"dataframe\">\n",
       "  <thead>\n",
       "    <tr style=\"text-align: right;\">\n",
       "      <th></th>\n",
       "      <th>User_id</th>\n",
       "      <th>Merchant_id</th>\n",
       "      <th>Coupon_id</th>\n",
       "      <th>Discount_rate</th>\n",
       "      <th>Distance</th>\n",
       "      <th>Date_received</th>\n",
       "      <th>Date</th>\n",
       "      <th>Count</th>\n",
       "      <th>Ratio_list</th>\n",
       "    </tr>\n",
       "  </thead>\n",
       "  <tbody>\n",
       "    <tr>\n",
       "      <td>0</td>\n",
       "      <td>4</td>\n",
       "      <td>1433</td>\n",
       "      <td>8735.0</td>\n",
       "      <td>30:5</td>\n",
       "      <td>10.0</td>\n",
       "      <td>2016-02-14</td>\n",
       "      <td>NaT</td>\n",
       "      <td>1</td>\n",
       "      <td>30:5</td>\n",
       "    </tr>\n",
       "    <tr>\n",
       "      <td>1</td>\n",
       "      <td>4</td>\n",
       "      <td>1469</td>\n",
       "      <td>2902.0</td>\n",
       "      <td>0.95</td>\n",
       "      <td>10.0</td>\n",
       "      <td>2016-06-07</td>\n",
       "      <td>NaT</td>\n",
       "      <td>1</td>\n",
       "      <td>0.95</td>\n",
       "    </tr>\n",
       "    <tr>\n",
       "      <td>2</td>\n",
       "      <td>35</td>\n",
       "      <td>3381</td>\n",
       "      <td>1807.0</td>\n",
       "      <td>300:30</td>\n",
       "      <td>0.0</td>\n",
       "      <td>2016-01-30</td>\n",
       "      <td>NaT</td>\n",
       "      <td>1</td>\n",
       "      <td>300:30</td>\n",
       "    </tr>\n",
       "    <tr>\n",
       "      <td>3</td>\n",
       "      <td>35</td>\n",
       "      <td>3381</td>\n",
       "      <td>9776.0</td>\n",
       "      <td>10:5</td>\n",
       "      <td>0.0</td>\n",
       "      <td>2016-01-29</td>\n",
       "      <td>NaT</td>\n",
       "      <td>1</td>\n",
       "      <td>10:5</td>\n",
       "    </tr>\n",
       "    <tr>\n",
       "      <td>4</td>\n",
       "      <td>35</td>\n",
       "      <td>3381</td>\n",
       "      <td>11951.0</td>\n",
       "      <td>200:20</td>\n",
       "      <td>0.0</td>\n",
       "      <td>2016-01-29</td>\n",
       "      <td>NaT</td>\n",
       "      <td>1</td>\n",
       "      <td>200:20</td>\n",
       "    </tr>\n",
       "    <tr>\n",
       "      <td>...</td>\n",
       "      <td>...</td>\n",
       "      <td>...</td>\n",
       "      <td>...</td>\n",
       "      <td>...</td>\n",
       "      <td>...</td>\n",
       "      <td>...</td>\n",
       "      <td>...</td>\n",
       "      <td>...</td>\n",
       "      <td>...</td>\n",
       "    </tr>\n",
       "    <tr>\n",
       "      <td>1716984</td>\n",
       "      <td>7360967</td>\n",
       "      <td>3103</td>\n",
       "      <td>2375.0</td>\n",
       "      <td>30:1</td>\n",
       "      <td>2.0</td>\n",
       "      <td>2016-01-20</td>\n",
       "      <td>NaT</td>\n",
       "      <td>1</td>\n",
       "      <td>30:1</td>\n",
       "    </tr>\n",
       "    <tr>\n",
       "      <td>1716987</td>\n",
       "      <td>7360967</td>\n",
       "      <td>6485</td>\n",
       "      <td>10323.0</td>\n",
       "      <td>20:5</td>\n",
       "      <td>1.0</td>\n",
       "      <td>2016-03-22</td>\n",
       "      <td>NaT</td>\n",
       "      <td>2</td>\n",
       "      <td>20:5</td>\n",
       "    </tr>\n",
       "    <tr>\n",
       "      <td>1716988</td>\n",
       "      <td>7361024</td>\n",
       "      <td>1433</td>\n",
       "      <td>8735.0</td>\n",
       "      <td>30:5</td>\n",
       "      <td>10.0</td>\n",
       "      <td>2016-02-11</td>\n",
       "      <td>NaT</td>\n",
       "      <td>1</td>\n",
       "      <td>30:5</td>\n",
       "    </tr>\n",
       "    <tr>\n",
       "      <td>1716989</td>\n",
       "      <td>7361032</td>\n",
       "      <td>2146</td>\n",
       "      <td>11173.0</td>\n",
       "      <td>100:10</td>\n",
       "      <td>2.0</td>\n",
       "      <td>2016-01-29</td>\n",
       "      <td>NaT</td>\n",
       "      <td>1</td>\n",
       "      <td>100:10</td>\n",
       "    </tr>\n",
       "    <tr>\n",
       "      <td>1716990</td>\n",
       "      <td>7361032</td>\n",
       "      <td>7019</td>\n",
       "      <td>3887.0</td>\n",
       "      <td>100:10</td>\n",
       "      <td>8.0</td>\n",
       "      <td>2016-01-29</td>\n",
       "      <td>NaT</td>\n",
       "      <td>1</td>\n",
       "      <td>100:10</td>\n",
       "    </tr>\n",
       "  </tbody>\n",
       "</table>\n",
       "<p>1015389 rows × 9 columns</p>\n",
       "</div>"
      ],
      "text/plain": [
       "         User_id  Merchant_id  Coupon_id Discount_rate  Distance  \\\n",
       "0              4         1433     8735.0          30:5      10.0   \n",
       "1              4         1469     2902.0          0.95      10.0   \n",
       "2             35         3381     1807.0        300:30       0.0   \n",
       "3             35         3381     9776.0          10:5       0.0   \n",
       "4             35         3381    11951.0        200:20       0.0   \n",
       "...          ...          ...        ...           ...       ...   \n",
       "1716984  7360967         3103     2375.0          30:1       2.0   \n",
       "1716987  7360967         6485    10323.0          20:5       1.0   \n",
       "1716988  7361024         1433     8735.0          30:5      10.0   \n",
       "1716989  7361032         2146    11173.0        100:10       2.0   \n",
       "1716990  7361032         7019     3887.0        100:10       8.0   \n",
       "\n",
       "        Date_received Date  Count Ratio_list  \n",
       "0          2016-02-14  NaT      1       30:5  \n",
       "1          2016-06-07  NaT      1       0.95  \n",
       "2          2016-01-30  NaT      1     300:30  \n",
       "3          2016-01-29  NaT      1       10:5  \n",
       "4          2016-01-29  NaT      1     200:20  \n",
       "...               ...  ...    ...        ...  \n",
       "1716984    2016-01-20  NaT      1       30:1  \n",
       "1716987    2016-03-22  NaT      2       20:5  \n",
       "1716988    2016-02-11  NaT      1       30:5  \n",
       "1716989    2016-01-29  NaT      1     100:10  \n",
       "1716990    2016-01-29  NaT      1     100:10  \n",
       "\n",
       "[1015389 rows x 9 columns]"
      ]
     },
     "execution_count": 131,
     "metadata": {},
     "output_type": "execute_result"
    }
   ],
   "source": [
    "#converting discount ratios to rates for merchant analysis\n",
    "merch_discount = df_of_unique[df_of_unique['Coupon_id'].isna()==False]\n",
    "merch_discount['Ratio_list'] = merch_discount['Discount_rate']\n",
    "rates = list(merch_discount['Discount_rate'].unique())\n",
    "merch_discount"
   ]
  },
  {
   "cell_type": "code",
   "execution_count": 132,
   "metadata": {},
   "outputs": [
    {
     "name": "stderr",
     "output_type": "stream",
     "text": [
      "/Users/mahimaarora/opt/anaconda3/lib/python3.7/site-packages/ipykernel_launcher.py:1: SettingWithCopyWarning: \n",
      "A value is trying to be set on a copy of a slice from a DataFrame.\n",
      "Try using .loc[row_indexer,col_indexer] = value instead\n",
      "\n",
      "See the caveats in the documentation: http://pandas.pydata.org/pandas-docs/stable/user_guide/indexing.html#returning-a-view-versus-a-copy\n",
      "  \"\"\"Entry point for launching an IPython kernel.\n"
     ]
    },
    {
     "data": {
      "text/html": [
       "<div>\n",
       "<style scoped>\n",
       "    .dataframe tbody tr th:only-of-type {\n",
       "        vertical-align: middle;\n",
       "    }\n",
       "\n",
       "    .dataframe tbody tr th {\n",
       "        vertical-align: top;\n",
       "    }\n",
       "\n",
       "    .dataframe thead th {\n",
       "        text-align: right;\n",
       "    }\n",
       "</style>\n",
       "<table border=\"1\" class=\"dataframe\">\n",
       "  <thead>\n",
       "    <tr style=\"text-align: right;\">\n",
       "      <th></th>\n",
       "      <th>User_id</th>\n",
       "      <th>Merchant_id</th>\n",
       "      <th>Coupon_id</th>\n",
       "      <th>Discount_rate</th>\n",
       "      <th>Distance</th>\n",
       "      <th>Date_received</th>\n",
       "      <th>Date</th>\n",
       "      <th>Count</th>\n",
       "      <th>Ratio_list</th>\n",
       "    </tr>\n",
       "  </thead>\n",
       "  <tbody>\n",
       "    <tr>\n",
       "      <td>0</td>\n",
       "      <td>4</td>\n",
       "      <td>1433</td>\n",
       "      <td>8735.0</td>\n",
       "      <td>30:5</td>\n",
       "      <td>10.0</td>\n",
       "      <td>2016-02-14</td>\n",
       "      <td>NaT</td>\n",
       "      <td>1</td>\n",
       "      <td>[30, 5, 0.83]</td>\n",
       "    </tr>\n",
       "    <tr>\n",
       "      <td>1</td>\n",
       "      <td>4</td>\n",
       "      <td>1469</td>\n",
       "      <td>2902.0</td>\n",
       "      <td>0.95</td>\n",
       "      <td>10.0</td>\n",
       "      <td>2016-06-07</td>\n",
       "      <td>NaT</td>\n",
       "      <td>1</td>\n",
       "      <td>[100, 5, 0.95]</td>\n",
       "    </tr>\n",
       "    <tr>\n",
       "      <td>2</td>\n",
       "      <td>35</td>\n",
       "      <td>3381</td>\n",
       "      <td>1807.0</td>\n",
       "      <td>300:30</td>\n",
       "      <td>0.0</td>\n",
       "      <td>2016-01-30</td>\n",
       "      <td>NaT</td>\n",
       "      <td>1</td>\n",
       "      <td>[300, 30, 0.9]</td>\n",
       "    </tr>\n",
       "    <tr>\n",
       "      <td>3</td>\n",
       "      <td>35</td>\n",
       "      <td>3381</td>\n",
       "      <td>9776.0</td>\n",
       "      <td>10:5</td>\n",
       "      <td>0.0</td>\n",
       "      <td>2016-01-29</td>\n",
       "      <td>NaT</td>\n",
       "      <td>1</td>\n",
       "      <td>[10, 5, 0.5]</td>\n",
       "    </tr>\n",
       "    <tr>\n",
       "      <td>4</td>\n",
       "      <td>35</td>\n",
       "      <td>3381</td>\n",
       "      <td>11951.0</td>\n",
       "      <td>200:20</td>\n",
       "      <td>0.0</td>\n",
       "      <td>2016-01-29</td>\n",
       "      <td>NaT</td>\n",
       "      <td>1</td>\n",
       "      <td>[200, 20, 0.9]</td>\n",
       "    </tr>\n",
       "    <tr>\n",
       "      <td>...</td>\n",
       "      <td>...</td>\n",
       "      <td>...</td>\n",
       "      <td>...</td>\n",
       "      <td>...</td>\n",
       "      <td>...</td>\n",
       "      <td>...</td>\n",
       "      <td>...</td>\n",
       "      <td>...</td>\n",
       "      <td>...</td>\n",
       "    </tr>\n",
       "    <tr>\n",
       "      <td>1716984</td>\n",
       "      <td>7360967</td>\n",
       "      <td>3103</td>\n",
       "      <td>2375.0</td>\n",
       "      <td>30:1</td>\n",
       "      <td>2.0</td>\n",
       "      <td>2016-01-20</td>\n",
       "      <td>NaT</td>\n",
       "      <td>1</td>\n",
       "      <td>[30, 1, 0.97]</td>\n",
       "    </tr>\n",
       "    <tr>\n",
       "      <td>1716987</td>\n",
       "      <td>7360967</td>\n",
       "      <td>6485</td>\n",
       "      <td>10323.0</td>\n",
       "      <td>20:5</td>\n",
       "      <td>1.0</td>\n",
       "      <td>2016-03-22</td>\n",
       "      <td>NaT</td>\n",
       "      <td>2</td>\n",
       "      <td>[20, 5, 0.75]</td>\n",
       "    </tr>\n",
       "    <tr>\n",
       "      <td>1716988</td>\n",
       "      <td>7361024</td>\n",
       "      <td>1433</td>\n",
       "      <td>8735.0</td>\n",
       "      <td>30:5</td>\n",
       "      <td>10.0</td>\n",
       "      <td>2016-02-11</td>\n",
       "      <td>NaT</td>\n",
       "      <td>1</td>\n",
       "      <td>[30, 5, 0.83]</td>\n",
       "    </tr>\n",
       "    <tr>\n",
       "      <td>1716989</td>\n",
       "      <td>7361032</td>\n",
       "      <td>2146</td>\n",
       "      <td>11173.0</td>\n",
       "      <td>100:10</td>\n",
       "      <td>2.0</td>\n",
       "      <td>2016-01-29</td>\n",
       "      <td>NaT</td>\n",
       "      <td>1</td>\n",
       "      <td>[100, 10, 0.9]</td>\n",
       "    </tr>\n",
       "    <tr>\n",
       "      <td>1716990</td>\n",
       "      <td>7361032</td>\n",
       "      <td>7019</td>\n",
       "      <td>3887.0</td>\n",
       "      <td>100:10</td>\n",
       "      <td>8.0</td>\n",
       "      <td>2016-01-29</td>\n",
       "      <td>NaT</td>\n",
       "      <td>1</td>\n",
       "      <td>[100, 10, 0.9]</td>\n",
       "    </tr>\n",
       "  </tbody>\n",
       "</table>\n",
       "<p>1015389 rows × 9 columns</p>\n",
       "</div>"
      ],
      "text/plain": [
       "         User_id  Merchant_id  Coupon_id Discount_rate  Distance  \\\n",
       "0              4         1433     8735.0          30:5      10.0   \n",
       "1              4         1469     2902.0          0.95      10.0   \n",
       "2             35         3381     1807.0        300:30       0.0   \n",
       "3             35         3381     9776.0          10:5       0.0   \n",
       "4             35         3381    11951.0        200:20       0.0   \n",
       "...          ...          ...        ...           ...       ...   \n",
       "1716984  7360967         3103     2375.0          30:1       2.0   \n",
       "1716987  7360967         6485    10323.0          20:5       1.0   \n",
       "1716988  7361024         1433     8735.0          30:5      10.0   \n",
       "1716989  7361032         2146    11173.0        100:10       2.0   \n",
       "1716990  7361032         7019     3887.0        100:10       8.0   \n",
       "\n",
       "        Date_received Date  Count      Ratio_list  \n",
       "0          2016-02-14  NaT      1   [30, 5, 0.83]  \n",
       "1          2016-06-07  NaT      1  [100, 5, 0.95]  \n",
       "2          2016-01-30  NaT      1  [300, 30, 0.9]  \n",
       "3          2016-01-29  NaT      1    [10, 5, 0.5]  \n",
       "4          2016-01-29  NaT      1  [200, 20, 0.9]  \n",
       "...               ...  ...    ...             ...  \n",
       "1716984    2016-01-20  NaT      1   [30, 1, 0.97]  \n",
       "1716987    2016-03-22  NaT      2   [20, 5, 0.75]  \n",
       "1716988    2016-02-11  NaT      1   [30, 5, 0.83]  \n",
       "1716989    2016-01-29  NaT      1  [100, 10, 0.9]  \n",
       "1716990    2016-01-29  NaT      1  [100, 10, 0.9]  \n",
       "\n",
       "[1015389 rows x 9 columns]"
      ]
     },
     "execution_count": 132,
     "metadata": {},
     "output_type": "execute_result"
    }
   ],
   "source": [
    "merch_discount['Ratio_list'] = merch_discount['Ratio_list'].map(convert_discount(rates))\n",
    "merch_discount"
   ]
  },
  {
   "cell_type": "code",
   "execution_count": 133,
   "metadata": {},
   "outputs": [
    {
     "name": "stderr",
     "output_type": "stream",
     "text": [
      "/Users/mahimaarora/opt/anaconda3/lib/python3.7/site-packages/pandas/core/frame.py:3494: SettingWithCopyWarning: \n",
      "A value is trying to be set on a copy of a slice from a DataFrame.\n",
      "Try using .loc[row_indexer,col_indexer] = value instead\n",
      "\n",
      "See the caveats in the documentation: http://pandas.pydata.org/pandas-docs/stable/user_guide/indexing.html#returning-a-view-versus-a-copy\n",
      "  self[k1] = value[k2]\n"
     ]
    },
    {
     "data": {
      "text/html": [
       "<div>\n",
       "<style scoped>\n",
       "    .dataframe tbody tr th:only-of-type {\n",
       "        vertical-align: middle;\n",
       "    }\n",
       "\n",
       "    .dataframe tbody tr th {\n",
       "        vertical-align: top;\n",
       "    }\n",
       "\n",
       "    .dataframe thead th {\n",
       "        text-align: right;\n",
       "    }\n",
       "</style>\n",
       "<table border=\"1\" class=\"dataframe\">\n",
       "  <thead>\n",
       "    <tr style=\"text-align: right;\">\n",
       "      <th></th>\n",
       "      <th>User_id</th>\n",
       "      <th>Merchant_id</th>\n",
       "      <th>Coupon_id</th>\n",
       "      <th>Discount_rate</th>\n",
       "      <th>Distance</th>\n",
       "      <th>Date_received</th>\n",
       "      <th>Date</th>\n",
       "      <th>Count</th>\n",
       "      <th>Ratio_list</th>\n",
       "      <th>Original_price</th>\n",
       "      <th>Discounted_price</th>\n",
       "      <th>Rate</th>\n",
       "    </tr>\n",
       "  </thead>\n",
       "  <tbody>\n",
       "    <tr>\n",
       "      <td>0</td>\n",
       "      <td>4</td>\n",
       "      <td>1433</td>\n",
       "      <td>8735.0</td>\n",
       "      <td>30:5</td>\n",
       "      <td>10.0</td>\n",
       "      <td>2016-02-14</td>\n",
       "      <td>NaT</td>\n",
       "      <td>1</td>\n",
       "      <td>[30, 5, 0.83]</td>\n",
       "      <td>30</td>\n",
       "      <td>5</td>\n",
       "      <td>0.83</td>\n",
       "    </tr>\n",
       "    <tr>\n",
       "      <td>1</td>\n",
       "      <td>4</td>\n",
       "      <td>1469</td>\n",
       "      <td>2902.0</td>\n",
       "      <td>0.95</td>\n",
       "      <td>10.0</td>\n",
       "      <td>2016-06-07</td>\n",
       "      <td>NaT</td>\n",
       "      <td>1</td>\n",
       "      <td>[100, 5, 0.95]</td>\n",
       "      <td>100</td>\n",
       "      <td>5</td>\n",
       "      <td>0.95</td>\n",
       "    </tr>\n",
       "    <tr>\n",
       "      <td>2</td>\n",
       "      <td>35</td>\n",
       "      <td>3381</td>\n",
       "      <td>1807.0</td>\n",
       "      <td>300:30</td>\n",
       "      <td>0.0</td>\n",
       "      <td>2016-01-30</td>\n",
       "      <td>NaT</td>\n",
       "      <td>1</td>\n",
       "      <td>[300, 30, 0.9]</td>\n",
       "      <td>300</td>\n",
       "      <td>30</td>\n",
       "      <td>0.90</td>\n",
       "    </tr>\n",
       "    <tr>\n",
       "      <td>3</td>\n",
       "      <td>35</td>\n",
       "      <td>3381</td>\n",
       "      <td>9776.0</td>\n",
       "      <td>10:5</td>\n",
       "      <td>0.0</td>\n",
       "      <td>2016-01-29</td>\n",
       "      <td>NaT</td>\n",
       "      <td>1</td>\n",
       "      <td>[10, 5, 0.5]</td>\n",
       "      <td>10</td>\n",
       "      <td>5</td>\n",
       "      <td>0.50</td>\n",
       "    </tr>\n",
       "    <tr>\n",
       "      <td>4</td>\n",
       "      <td>35</td>\n",
       "      <td>3381</td>\n",
       "      <td>11951.0</td>\n",
       "      <td>200:20</td>\n",
       "      <td>0.0</td>\n",
       "      <td>2016-01-29</td>\n",
       "      <td>NaT</td>\n",
       "      <td>1</td>\n",
       "      <td>[200, 20, 0.9]</td>\n",
       "      <td>200</td>\n",
       "      <td>20</td>\n",
       "      <td>0.90</td>\n",
       "    </tr>\n",
       "    <tr>\n",
       "      <td>...</td>\n",
       "      <td>...</td>\n",
       "      <td>...</td>\n",
       "      <td>...</td>\n",
       "      <td>...</td>\n",
       "      <td>...</td>\n",
       "      <td>...</td>\n",
       "      <td>...</td>\n",
       "      <td>...</td>\n",
       "      <td>...</td>\n",
       "      <td>...</td>\n",
       "      <td>...</td>\n",
       "      <td>...</td>\n",
       "    </tr>\n",
       "    <tr>\n",
       "      <td>1716984</td>\n",
       "      <td>7360967</td>\n",
       "      <td>3103</td>\n",
       "      <td>2375.0</td>\n",
       "      <td>30:1</td>\n",
       "      <td>2.0</td>\n",
       "      <td>2016-01-20</td>\n",
       "      <td>NaT</td>\n",
       "      <td>1</td>\n",
       "      <td>[30, 1, 0.97]</td>\n",
       "      <td>30</td>\n",
       "      <td>1</td>\n",
       "      <td>0.97</td>\n",
       "    </tr>\n",
       "    <tr>\n",
       "      <td>1716987</td>\n",
       "      <td>7360967</td>\n",
       "      <td>6485</td>\n",
       "      <td>10323.0</td>\n",
       "      <td>20:5</td>\n",
       "      <td>1.0</td>\n",
       "      <td>2016-03-22</td>\n",
       "      <td>NaT</td>\n",
       "      <td>2</td>\n",
       "      <td>[20, 5, 0.75]</td>\n",
       "      <td>20</td>\n",
       "      <td>5</td>\n",
       "      <td>0.75</td>\n",
       "    </tr>\n",
       "    <tr>\n",
       "      <td>1716988</td>\n",
       "      <td>7361024</td>\n",
       "      <td>1433</td>\n",
       "      <td>8735.0</td>\n",
       "      <td>30:5</td>\n",
       "      <td>10.0</td>\n",
       "      <td>2016-02-11</td>\n",
       "      <td>NaT</td>\n",
       "      <td>1</td>\n",
       "      <td>[30, 5, 0.83]</td>\n",
       "      <td>30</td>\n",
       "      <td>5</td>\n",
       "      <td>0.83</td>\n",
       "    </tr>\n",
       "    <tr>\n",
       "      <td>1716989</td>\n",
       "      <td>7361032</td>\n",
       "      <td>2146</td>\n",
       "      <td>11173.0</td>\n",
       "      <td>100:10</td>\n",
       "      <td>2.0</td>\n",
       "      <td>2016-01-29</td>\n",
       "      <td>NaT</td>\n",
       "      <td>1</td>\n",
       "      <td>[100, 10, 0.9]</td>\n",
       "      <td>100</td>\n",
       "      <td>10</td>\n",
       "      <td>0.90</td>\n",
       "    </tr>\n",
       "    <tr>\n",
       "      <td>1716990</td>\n",
       "      <td>7361032</td>\n",
       "      <td>7019</td>\n",
       "      <td>3887.0</td>\n",
       "      <td>100:10</td>\n",
       "      <td>8.0</td>\n",
       "      <td>2016-01-29</td>\n",
       "      <td>NaT</td>\n",
       "      <td>1</td>\n",
       "      <td>[100, 10, 0.9]</td>\n",
       "      <td>100</td>\n",
       "      <td>10</td>\n",
       "      <td>0.90</td>\n",
       "    </tr>\n",
       "  </tbody>\n",
       "</table>\n",
       "<p>1015389 rows × 12 columns</p>\n",
       "</div>"
      ],
      "text/plain": [
       "         User_id  Merchant_id  Coupon_id Discount_rate  Distance  \\\n",
       "0              4         1433     8735.0          30:5      10.0   \n",
       "1              4         1469     2902.0          0.95      10.0   \n",
       "2             35         3381     1807.0        300:30       0.0   \n",
       "3             35         3381     9776.0          10:5       0.0   \n",
       "4             35         3381    11951.0        200:20       0.0   \n",
       "...          ...          ...        ...           ...       ...   \n",
       "1716984  7360967         3103     2375.0          30:1       2.0   \n",
       "1716987  7360967         6485    10323.0          20:5       1.0   \n",
       "1716988  7361024         1433     8735.0          30:5      10.0   \n",
       "1716989  7361032         2146    11173.0        100:10       2.0   \n",
       "1716990  7361032         7019     3887.0        100:10       8.0   \n",
       "\n",
       "        Date_received Date  Count      Ratio_list  Original_price  \\\n",
       "0          2016-02-14  NaT      1   [30, 5, 0.83]              30   \n",
       "1          2016-06-07  NaT      1  [100, 5, 0.95]             100   \n",
       "2          2016-01-30  NaT      1  [300, 30, 0.9]             300   \n",
       "3          2016-01-29  NaT      1    [10, 5, 0.5]              10   \n",
       "4          2016-01-29  NaT      1  [200, 20, 0.9]             200   \n",
       "...               ...  ...    ...             ...             ...   \n",
       "1716984    2016-01-20  NaT      1   [30, 1, 0.97]              30   \n",
       "1716987    2016-03-22  NaT      2   [20, 5, 0.75]              20   \n",
       "1716988    2016-02-11  NaT      1   [30, 5, 0.83]              30   \n",
       "1716989    2016-01-29  NaT      1  [100, 10, 0.9]             100   \n",
       "1716990    2016-01-29  NaT      1  [100, 10, 0.9]             100   \n",
       "\n",
       "         Discounted_price  Rate  \n",
       "0                       5  0.83  \n",
       "1                       5  0.95  \n",
       "2                      30  0.90  \n",
       "3                       5  0.50  \n",
       "4                      20  0.90  \n",
       "...                   ...   ...  \n",
       "1716984                 1  0.97  \n",
       "1716987                 5  0.75  \n",
       "1716988                 5  0.83  \n",
       "1716989                10  0.90  \n",
       "1716990                10  0.90  \n",
       "\n",
       "[1015389 rows x 12 columns]"
      ]
     },
     "execution_count": 133,
     "metadata": {},
     "output_type": "execute_result"
    }
   ],
   "source": [
    "merch_discount[['Original_price','Discounted_price','Rate']] = pd.DataFrame(merch_discount.Ratio_list.values.tolist(), index= merch_discount.index)\n",
    "merch_discount"
   ]
  },
  {
   "cell_type": "code",
   "execution_count": 119,
   "metadata": {},
   "outputs": [
    {
     "data": {
      "text/html": [
       "<div>\n",
       "<style scoped>\n",
       "    .dataframe tbody tr th:only-of-type {\n",
       "        vertical-align: middle;\n",
       "    }\n",
       "\n",
       "    .dataframe tbody tr th {\n",
       "        vertical-align: top;\n",
       "    }\n",
       "\n",
       "    .dataframe thead th {\n",
       "        text-align: right;\n",
       "    }\n",
       "</style>\n",
       "<table border=\"1\" class=\"dataframe\">\n",
       "  <thead>\n",
       "    <tr style=\"text-align: right;\">\n",
       "      <th></th>\n",
       "      <th>User_id</th>\n",
       "      <th>Merchant_id</th>\n",
       "      <th>Coupon_id</th>\n",
       "      <th>Discount_rate</th>\n",
       "      <th>Distance</th>\n",
       "      <th>Date_received</th>\n",
       "      <th>Date</th>\n",
       "      <th>Count</th>\n",
       "      <th>Ratio_list</th>\n",
       "      <th>Original_price</th>\n",
       "      <th>Discounted_price</th>\n",
       "      <th>Rate</th>\n",
       "    </tr>\n",
       "  </thead>\n",
       "  <tbody>\n",
       "    <tr>\n",
       "      <td>1542839</td>\n",
       "      <td>6621282</td>\n",
       "      <td>2</td>\n",
       "      <td>7354.0</td>\n",
       "      <td>100:20</td>\n",
       "      <td>2</td>\n",
       "      <td>2016-05-17</td>\n",
       "      <td>NaT</td>\n",
       "      <td>1</td>\n",
       "      <td>[100, 20, 0.8]</td>\n",
       "      <td>100</td>\n",
       "      <td>20</td>\n",
       "      <td>0.80</td>\n",
       "    </tr>\n",
       "    <tr>\n",
       "      <td>385637</td>\n",
       "      <td>1657650</td>\n",
       "      <td>2</td>\n",
       "      <td>7354.0</td>\n",
       "      <td>100:20</td>\n",
       "      <td>10</td>\n",
       "      <td>2016-05-18</td>\n",
       "      <td>NaT</td>\n",
       "      <td>1</td>\n",
       "      <td>[100, 20, 0.8]</td>\n",
       "      <td>100</td>\n",
       "      <td>20</td>\n",
       "      <td>0.80</td>\n",
       "    </tr>\n",
       "    <tr>\n",
       "      <td>251273</td>\n",
       "      <td>1091900</td>\n",
       "      <td>2</td>\n",
       "      <td>7354.0</td>\n",
       "      <td>100:20</td>\n",
       "      <td>10</td>\n",
       "      <td>2016-05-19</td>\n",
       "      <td>NaT</td>\n",
       "      <td>1</td>\n",
       "      <td>[100, 20, 0.8]</td>\n",
       "      <td>100</td>\n",
       "      <td>20</td>\n",
       "      <td>0.80</td>\n",
       "    </tr>\n",
       "    <tr>\n",
       "      <td>492408</td>\n",
       "      <td>2121631</td>\n",
       "      <td>2</td>\n",
       "      <td>7354.0</td>\n",
       "      <td>100:20</td>\n",
       "      <td>10</td>\n",
       "      <td>2016-05-20</td>\n",
       "      <td>NaT</td>\n",
       "      <td>1</td>\n",
       "      <td>[100, 20, 0.8]</td>\n",
       "      <td>100</td>\n",
       "      <td>20</td>\n",
       "      <td>0.80</td>\n",
       "    </tr>\n",
       "    <tr>\n",
       "      <td>880686</td>\n",
       "      <td>3789187</td>\n",
       "      <td>2</td>\n",
       "      <td>7354.0</td>\n",
       "      <td>100:20</td>\n",
       "      <td>10</td>\n",
       "      <td>2016-05-16</td>\n",
       "      <td>NaT</td>\n",
       "      <td>1</td>\n",
       "      <td>[100, 20, 0.8]</td>\n",
       "      <td>100</td>\n",
       "      <td>20</td>\n",
       "      <td>0.80</td>\n",
       "    </tr>\n",
       "    <tr>\n",
       "      <td>...</td>\n",
       "      <td>...</td>\n",
       "      <td>...</td>\n",
       "      <td>...</td>\n",
       "      <td>...</td>\n",
       "      <td>...</td>\n",
       "      <td>...</td>\n",
       "      <td>...</td>\n",
       "      <td>...</td>\n",
       "      <td>...</td>\n",
       "      <td>...</td>\n",
       "      <td>...</td>\n",
       "      <td>...</td>\n",
       "    </tr>\n",
       "    <tr>\n",
       "      <td>57220</td>\n",
       "      <td>250422</td>\n",
       "      <td>8856</td>\n",
       "      <td>83.0</td>\n",
       "      <td>10:1</td>\n",
       "      <td>0</td>\n",
       "      <td>2016-06-06</td>\n",
       "      <td>NaT</td>\n",
       "      <td>1</td>\n",
       "      <td>[10, 1, 0.9]</td>\n",
       "      <td>10</td>\n",
       "      <td>1</td>\n",
       "      <td>0.90</td>\n",
       "    </tr>\n",
       "    <tr>\n",
       "      <td>1716923</td>\n",
       "      <td>7360651</td>\n",
       "      <td>8856</td>\n",
       "      <td>83.0</td>\n",
       "      <td>10:1</td>\n",
       "      <td>0</td>\n",
       "      <td>2016-06-06</td>\n",
       "      <td>NaT</td>\n",
       "      <td>1</td>\n",
       "      <td>[10, 1, 0.9]</td>\n",
       "      <td>10</td>\n",
       "      <td>1</td>\n",
       "      <td>0.90</td>\n",
       "    </tr>\n",
       "    <tr>\n",
       "      <td>1675872</td>\n",
       "      <td>7186324</td>\n",
       "      <td>8856</td>\n",
       "      <td>5495.0</td>\n",
       "      <td>20:1</td>\n",
       "      <td>1</td>\n",
       "      <td>2016-06-14</td>\n",
       "      <td>NaT</td>\n",
       "      <td>1</td>\n",
       "      <td>[20, 1, 0.95]</td>\n",
       "      <td>20</td>\n",
       "      <td>1</td>\n",
       "      <td>0.95</td>\n",
       "    </tr>\n",
       "    <tr>\n",
       "      <td>234176</td>\n",
       "      <td>1016869</td>\n",
       "      <td>8856</td>\n",
       "      <td>5495.0</td>\n",
       "      <td>20:1</td>\n",
       "      <td>0</td>\n",
       "      <td>2016-06-15</td>\n",
       "      <td>NaT</td>\n",
       "      <td>1</td>\n",
       "      <td>[20, 1, 0.95]</td>\n",
       "      <td>20</td>\n",
       "      <td>1</td>\n",
       "      <td>0.95</td>\n",
       "    </tr>\n",
       "    <tr>\n",
       "      <td>144501</td>\n",
       "      <td>627464</td>\n",
       "      <td>8856</td>\n",
       "      <td>83.0</td>\n",
       "      <td>10:1</td>\n",
       "      <td>0</td>\n",
       "      <td>2016-06-06</td>\n",
       "      <td>NaT</td>\n",
       "      <td>1</td>\n",
       "      <td>[10, 1, 0.9]</td>\n",
       "      <td>10</td>\n",
       "      <td>1</td>\n",
       "      <td>0.90</td>\n",
       "    </tr>\n",
       "  </tbody>\n",
       "</table>\n",
       "<p>1015389 rows × 12 columns</p>\n",
       "</div>"
      ],
      "text/plain": [
       "         User_id  Merchant_id  Coupon_id Discount_rate  Distance  \\\n",
       "1542839  6621282            2     7354.0        100:20         2   \n",
       "385637   1657650            2     7354.0        100:20        10   \n",
       "251273   1091900            2     7354.0        100:20        10   \n",
       "492408   2121631            2     7354.0        100:20        10   \n",
       "880686   3789187            2     7354.0        100:20        10   \n",
       "...          ...          ...        ...           ...       ...   \n",
       "57220     250422         8856       83.0          10:1         0   \n",
       "1716923  7360651         8856       83.0          10:1         0   \n",
       "1675872  7186324         8856     5495.0          20:1         1   \n",
       "234176   1016869         8856     5495.0          20:1         0   \n",
       "144501    627464         8856       83.0          10:1         0   \n",
       "\n",
       "        Date_received Date  Count      Ratio_list  Original_price  \\\n",
       "1542839    2016-05-17  NaT      1  [100, 20, 0.8]             100   \n",
       "385637     2016-05-18  NaT      1  [100, 20, 0.8]             100   \n",
       "251273     2016-05-19  NaT      1  [100, 20, 0.8]             100   \n",
       "492408     2016-05-20  NaT      1  [100, 20, 0.8]             100   \n",
       "880686     2016-05-16  NaT      1  [100, 20, 0.8]             100   \n",
       "...               ...  ...    ...             ...             ...   \n",
       "57220      2016-06-06  NaT      1    [10, 1, 0.9]              10   \n",
       "1716923    2016-06-06  NaT      1    [10, 1, 0.9]              10   \n",
       "1675872    2016-06-14  NaT      1   [20, 1, 0.95]              20   \n",
       "234176     2016-06-15  NaT      1   [20, 1, 0.95]              20   \n",
       "144501     2016-06-06  NaT      1    [10, 1, 0.9]              10   \n",
       "\n",
       "         Discounted_price  Rate  \n",
       "1542839                20  0.80  \n",
       "385637                 20  0.80  \n",
       "251273                 20  0.80  \n",
       "492408                 20  0.80  \n",
       "880686                 20  0.80  \n",
       "...                   ...   ...  \n",
       "57220                   1  0.90  \n",
       "1716923                 1  0.90  \n",
       "1675872                 1  0.95  \n",
       "234176                  1  0.95  \n",
       "144501                  1  0.90  \n",
       "\n",
       "[1015389 rows x 12 columns]"
      ]
     },
     "execution_count": 119,
     "metadata": {},
     "output_type": "execute_result"
    }
   ],
   "source": [
    "merch_discount.sort_values(by = ['Merchant_id'])"
   ]
  },
  {
   "cell_type": "code",
   "execution_count": 136,
   "metadata": {},
   "outputs": [
    {
     "data": {
      "text/plain": [
       "Merchant_id\n",
       "2       0.800000\n",
       "3       0.670000\n",
       "4       0.830000\n",
       "5       0.750000\n",
       "8       0.500000\n",
       "          ...   \n",
       "8849    0.950000\n",
       "8850    0.950000\n",
       "8852    0.950000\n",
       "8854    0.950000\n",
       "8856    0.943243\n",
       "Name: Rate, Length: 5599, dtype: float64"
      ]
     },
     "execution_count": 136,
     "metadata": {},
     "output_type": "execute_result"
    }
   ],
   "source": [
    "#avg discounts each merchant offers\n",
    "merch_discount.groupby(['Merchant_id'])['Rate'].mean()"
   ]
  },
  {
   "cell_type": "markdown",
   "metadata": {},
   "source": [
    "#### CountPlot of Discount rates(offline)"
   ]
  },
  {
   "cell_type": "code",
   "execution_count": 137,
   "metadata": {},
   "outputs": [
    {
     "data": {
      "image/png": "[encoded data removed]",
      "text/plain": [
       "<Figure size 1440x864 with 1 Axes>"
      ]
     },
     "metadata": {
      "needs_background": "light"
     },
     "output_type": "display_data"
    }
   ],
   "source": [
    "plt.figure(figsize=(20,12))\n",
    "ax = sns.countplot(merch_discount['Rate'])\n",
    "ax.set_xticklabels(ax.get_xticklabels(),rotation=90)\n",
    "for p in ax.patches:\n",
    "        ax.annotate('{:.0f}'.format(p.get_height()), (p.get_x()+0.1, p.get_height()+50))\n",
    "plt.show()"
   ]
  },
  {
   "cell_type": "code",
   "execution_count": 138,
   "metadata": {},
   "outputs": [
    {
     "data": {
      "text/plain": [
       "(537640, 12)"
      ]
     },
     "execution_count": 138,
     "metadata": {},
     "output_type": "execute_result"
    }
   ],
   "source": [
    "merch_discount[merch_discount['Rate']>0.84].shape"
   ]
  },
  {
   "cell_type": "markdown",
   "metadata": {},
   "source": [
    "### Discount offered and Coupon Redemtion Score"
   ]
  },
  {
   "cell_type": "code",
   "execution_count": 141,
   "metadata": {},
   "outputs": [
    {
     "data": {
      "text/html": [
       "<div>\n",
       "<style scoped>\n",
       "    .dataframe tbody tr th:only-of-type {\n",
       "        vertical-align: middle;\n",
       "    }\n",
       "\n",
       "    .dataframe tbody tr th {\n",
       "        vertical-align: top;\n",
       "    }\n",
       "\n",
       "    .dataframe thead th {\n",
       "        text-align: right;\n",
       "    }\n",
       "</style>\n",
       "<table border=\"1\" class=\"dataframe\">\n",
       "  <thead>\n",
       "    <tr style=\"text-align: right;\">\n",
       "      <th></th>\n",
       "      <th>Total_coupons</th>\n",
       "      <th>CouponsRedeemed</th>\n",
       "      <th>RedemtionRatio</th>\n",
       "    </tr>\n",
       "    <tr>\n",
       "      <th>Rate</th>\n",
       "      <th></th>\n",
       "      <th></th>\n",
       "      <th></th>\n",
       "    </tr>\n",
       "  </thead>\n",
       "  <tbody>\n",
       "    <tr>\n",
       "      <td>0.20</td>\n",
       "      <td>81</td>\n",
       "      <td>6</td>\n",
       "      <td>0.074074</td>\n",
       "    </tr>\n",
       "    <tr>\n",
       "      <td>0.33</td>\n",
       "      <td>24</td>\n",
       "      <td>1</td>\n",
       "      <td>0.041667</td>\n",
       "    </tr>\n",
       "    <tr>\n",
       "      <td>0.40</td>\n",
       "      <td>9</td>\n",
       "      <td>1</td>\n",
       "      <td>0.111111</td>\n",
       "    </tr>\n",
       "    <tr>\n",
       "      <td>0.50</td>\n",
       "      <td>26974</td>\n",
       "      <td>3395</td>\n",
       "      <td>0.125862</td>\n",
       "    </tr>\n",
       "    <tr>\n",
       "      <td>0.60</td>\n",
       "      <td>8258</td>\n",
       "      <td>488</td>\n",
       "      <td>0.059094</td>\n",
       "    </tr>\n",
       "  </tbody>\n",
       "</table>\n",
       "</div>"
      ],
      "text/plain": [
       "      Total_coupons  CouponsRedeemed  RedemtionRatio\n",
       "Rate                                                \n",
       "0.20             81                6        0.074074\n",
       "0.33             24                1        0.041667\n",
       "0.40              9                1        0.111111\n",
       "0.50          26974             3395        0.125862\n",
       "0.60           8258              488        0.059094"
      ]
     },
     "execution_count": 141,
     "metadata": {},
     "output_type": "execute_result"
    }
   ],
   "source": [
    "rate_ratio = merch_discount.groupby(['Rate'])['Coupon_id','Date'].count()\n",
    "rate_ratio['RedemtionRatio'] = rate_ratio['Date']/rate_ratio['Coupon_id']\n",
    "rate_ratio.columns = ['Total_coupons','CouponsRedeemed','RedemtionRatio']\n",
    "rate_ratio.head()"
   ]
  },
  {
   "cell_type": "markdown",
   "metadata": {},
   "source": [
    "#### User and coupon redemption\n",
    "\n",
    "Cases where we have enteries for user getting a coupon and redeeming it"
   ]
  },
  {
   "cell_type": "markdown",
   "metadata": {},
   "source": [
    "#### Online"
   ]
  },
  {
   "cell_type": "code",
   "execution_count": 124,
   "metadata": {},
   "outputs": [
    {
     "data": {
      "text/plain": [
       "(10471, 3)"
      ]
     },
     "execution_count": 124,
     "metadata": {},
     "output_type": "execute_result"
    }
   ],
   "source": [
    "user_getandredeem_on = df_on.groupby(['User_id','Coupon_id'])['Discount_rate','Date'].count()\n",
    "user_getandredeem_on['RedeemFlag'] = (user_getandredeem_on['Date']>0) & (user_getandredeem_on['Date']<user_getandredeem_on['Discount_rate'])\n",
    "user_getandredeem_on[user_getandredeem_on['RedeemFlag']==True].shape"
   ]
  },
  {
   "cell_type": "code",
   "execution_count": 125,
   "metadata": {},
   "outputs": [
    {
     "data": {
      "text/html": [
       "<div>\n",
       "<style scoped>\n",
       "    .dataframe tbody tr th:only-of-type {\n",
       "        vertical-align: middle;\n",
       "    }\n",
       "\n",
       "    .dataframe tbody tr th {\n",
       "        vertical-align: top;\n",
       "    }\n",
       "\n",
       "    .dataframe thead th {\n",
       "        text-align: right;\n",
       "    }\n",
       "</style>\n",
       "<table border=\"1\" class=\"dataframe\">\n",
       "  <thead>\n",
       "    <tr style=\"text-align: right;\">\n",
       "      <th></th>\n",
       "      <th>User_id</th>\n",
       "      <th>Merchant_id</th>\n",
       "      <th>Action</th>\n",
       "      <th>Coupon_id</th>\n",
       "      <th>Discount_rate</th>\n",
       "      <th>Date_received</th>\n",
       "      <th>Date</th>\n",
       "    </tr>\n",
       "    <tr>\n",
       "      <th>Index</th>\n",
       "      <th></th>\n",
       "      <th></th>\n",
       "      <th></th>\n",
       "      <th></th>\n",
       "      <th></th>\n",
       "      <th></th>\n",
       "      <th></th>\n",
       "    </tr>\n",
       "  </thead>\n",
       "  <tbody>\n",
       "    <tr>\n",
       "      <td>7047394</td>\n",
       "      <td>44958</td>\n",
       "      <td>28302</td>\n",
       "      <td>1</td>\n",
       "      <td>100044462</td>\n",
       "      <td>10:5</td>\n",
       "      <td>20160510.0</td>\n",
       "      <td>20160510.0</td>\n",
       "    </tr>\n",
       "    <tr>\n",
       "      <td>7047395</td>\n",
       "      <td>44958</td>\n",
       "      <td>28302</td>\n",
       "      <td>2</td>\n",
       "      <td>100044462</td>\n",
       "      <td>10:5</td>\n",
       "      <td>20160510.0</td>\n",
       "      <td>NaN</td>\n",
       "    </tr>\n",
       "  </tbody>\n",
       "</table>\n",
       "</div>"
      ],
      "text/plain": [
       "         User_id  Merchant_id  Action  Coupon_id Discount_rate  Date_received  \\\n",
       "Index                                                                           \n",
       "7047394    44958        28302       1  100044462          10:5     20160510.0   \n",
       "7047395    44958        28302       2  100044462          10:5     20160510.0   \n",
       "\n",
       "               Date  \n",
       "Index                \n",
       "7047394  20160510.0  \n",
       "7047395         NaN  "
      ]
     },
     "execution_count": 125,
     "metadata": {},
     "output_type": "execute_result"
    }
   ],
   "source": [
    "df_on[(df_on['User_id']==44958) & (df_on['Coupon_id']=='100044462')]"
   ]
  },
  {
   "cell_type": "markdown",
   "metadata": {},
   "source": [
    "Cases where data received is same"
   ]
  },
  {
   "cell_type": "code",
   "execution_count": 126,
   "metadata": {},
   "outputs": [
    {
     "data": {
      "text/plain": [
       "(10421, 3)"
      ]
     },
     "execution_count": 126,
     "metadata": {},
     "output_type": "execute_result"
    }
   ],
   "source": [
    "user_getandredeem_on_same = df_on.groupby(['User_id','Coupon_id','Date_received'])['Discount_rate','Date'].count()\n",
    "user_getandredeem_on_same['RedeemFlag'] = (user_getandredeem_on_same['Date']>0) & (user_getandredeem_on_same['Date']<user_getandredeem_on_same['Discount_rate'])\n",
    "user_getandredeem_on_same[user_getandredeem_on_same['RedeemFlag']==True].shape"
   ]
  },
  {
   "cell_type": "markdown",
   "metadata": {},
   "source": [
    "#### Offline"
   ]
  },
  {
   "cell_type": "code",
   "execution_count": 143,
   "metadata": {},
   "outputs": [
    {
     "data": {
      "text/plain": [
       "(10343, 3)"
      ]
     },
     "execution_count": 143,
     "metadata": {},
     "output_type": "execute_result"
    }
   ],
   "source": [
    "user_getandredeem_of = df_of.groupby(['User_id','Coupon_id'])['Discount_rate','Date'].count()\n",
    "user_getandredeem_of['RedeemFlag'] = (user_getandredeem_of['Date']>0) & (user_getandredeem_of['Date']<user_getandredeem_of['Discount_rate'])\n",
    "user_getandredeem_of[user_getandredeem_of['RedeemFlag']==True].shape"
   ]
  },
  {
   "cell_type": "code",
   "execution_count": 149,
   "metadata": {},
   "outputs": [
    {
     "data": {
      "text/html": [
       "<div>\n",
       "<style scoped>\n",
       "    .dataframe tbody tr th:only-of-type {\n",
       "        vertical-align: middle;\n",
       "    }\n",
       "\n",
       "    .dataframe tbody tr th {\n",
       "        vertical-align: top;\n",
       "    }\n",
       "\n",
       "    .dataframe thead th {\n",
       "        text-align: right;\n",
       "    }\n",
       "</style>\n",
       "<table border=\"1\" class=\"dataframe\">\n",
       "  <thead>\n",
       "    <tr style=\"text-align: right;\">\n",
       "      <th></th>\n",
       "      <th></th>\n",
       "      <th>Discount_rate</th>\n",
       "      <th>Date</th>\n",
       "      <th>RedeemFlag</th>\n",
       "    </tr>\n",
       "    <tr>\n",
       "      <th>User_id</th>\n",
       "      <th>Coupon_id</th>\n",
       "      <th></th>\n",
       "      <th></th>\n",
       "      <th></th>\n",
       "    </tr>\n",
       "  </thead>\n",
       "  <tbody>\n",
       "    <tr>\n",
       "      <td>687</td>\n",
       "      <td>14031.0</td>\n",
       "      <td>2</td>\n",
       "      <td>1</td>\n",
       "      <td>True</td>\n",
       "    </tr>\n",
       "    <tr>\n",
       "      <td>696</td>\n",
       "      <td>3726.0</td>\n",
       "      <td>2</td>\n",
       "      <td>1</td>\n",
       "      <td>True</td>\n",
       "    </tr>\n",
       "    <tr>\n",
       "      <td>947</td>\n",
       "      <td>12414.0</td>\n",
       "      <td>2</td>\n",
       "      <td>1</td>\n",
       "      <td>True</td>\n",
       "    </tr>\n",
       "    <tr>\n",
       "      <td rowspan=\"2\" valign=\"top\">1318</td>\n",
       "      <td>2810.0</td>\n",
       "      <td>2</td>\n",
       "      <td>1</td>\n",
       "      <td>True</td>\n",
       "    </tr>\n",
       "    <tr>\n",
       "      <td>9614.0</td>\n",
       "      <td>2</td>\n",
       "      <td>1</td>\n",
       "      <td>True</td>\n",
       "    </tr>\n",
       "    <tr>\n",
       "      <td>2266</td>\n",
       "      <td>4727.0</td>\n",
       "      <td>6</td>\n",
       "      <td>3</td>\n",
       "      <td>True</td>\n",
       "    </tr>\n",
       "    <tr>\n",
       "      <td rowspan=\"2\" valign=\"top\">5551</td>\n",
       "      <td>2062.0</td>\n",
       "      <td>2</td>\n",
       "      <td>1</td>\n",
       "      <td>True</td>\n",
       "    </tr>\n",
       "    <tr>\n",
       "      <td>6615.0</td>\n",
       "      <td>2</td>\n",
       "      <td>1</td>\n",
       "      <td>True</td>\n",
       "    </tr>\n",
       "    <tr>\n",
       "      <td>5569</td>\n",
       "      <td>5582.0</td>\n",
       "      <td>3</td>\n",
       "      <td>2</td>\n",
       "      <td>True</td>\n",
       "    </tr>\n",
       "    <tr>\n",
       "      <td>8107</td>\n",
       "      <td>1268.0</td>\n",
       "      <td>2</td>\n",
       "      <td>1</td>\n",
       "      <td>True</td>\n",
       "    </tr>\n",
       "  </tbody>\n",
       "</table>\n",
       "</div>"
      ],
      "text/plain": [
       "                   Discount_rate  Date  RedeemFlag\n",
       "User_id Coupon_id                                 \n",
       "687     14031.0                2     1        True\n",
       "696     3726.0                 2     1        True\n",
       "947     12414.0                2     1        True\n",
       "1318    2810.0                 2     1        True\n",
       "        9614.0                 2     1        True\n",
       "2266    4727.0                 6     3        True\n",
       "5551    2062.0                 2     1        True\n",
       "        6615.0                 2     1        True\n",
       "5569    5582.0                 3     2        True\n",
       "8107    1268.0                 2     1        True"
      ]
     },
     "execution_count": 149,
     "metadata": {},
     "output_type": "execute_result"
    }
   ],
   "source": [
    "user_getandredeem_of[user_getandredeem_of['RedeemFlag']==True].head(10)"
   ]
  },
  {
   "cell_type": "code",
   "execution_count": 150,
   "metadata": {},
   "outputs": [
    {
     "data": {
      "text/html": [
       "<div>\n",
       "<style scoped>\n",
       "    .dataframe tbody tr th:only-of-type {\n",
       "        vertical-align: middle;\n",
       "    }\n",
       "\n",
       "    .dataframe tbody tr th {\n",
       "        vertical-align: top;\n",
       "    }\n",
       "\n",
       "    .dataframe thead th {\n",
       "        text-align: right;\n",
       "    }\n",
       "</style>\n",
       "<table border=\"1\" class=\"dataframe\">\n",
       "  <thead>\n",
       "    <tr style=\"text-align: right;\">\n",
       "      <th></th>\n",
       "      <th>User_id</th>\n",
       "      <th>Merchant_id</th>\n",
       "      <th>Coupon_id</th>\n",
       "      <th>Discount_rate</th>\n",
       "      <th>Distance</th>\n",
       "      <th>Date_received</th>\n",
       "      <th>Date</th>\n",
       "    </tr>\n",
       "  </thead>\n",
       "  <tbody>\n",
       "    <tr>\n",
       "      <td>96264</td>\n",
       "      <td>2266</td>\n",
       "      <td>7422</td>\n",
       "      <td>4727.0</td>\n",
       "      <td>0.8</td>\n",
       "      <td>6.0</td>\n",
       "      <td>20160304.0</td>\n",
       "      <td>20160304.0</td>\n",
       "    </tr>\n",
       "    <tr>\n",
       "      <td>96265</td>\n",
       "      <td>2266</td>\n",
       "      <td>7422</td>\n",
       "      <td>4727.0</td>\n",
       "      <td>0.8</td>\n",
       "      <td>6.0</td>\n",
       "      <td>20160528.0</td>\n",
       "      <td>20160528.0</td>\n",
       "    </tr>\n",
       "    <tr>\n",
       "      <td>96267</td>\n",
       "      <td>2266</td>\n",
       "      <td>7422</td>\n",
       "      <td>4727.0</td>\n",
       "      <td>0.8</td>\n",
       "      <td>6.0</td>\n",
       "      <td>20160305.0</td>\n",
       "      <td>NaN</td>\n",
       "    </tr>\n",
       "    <tr>\n",
       "      <td>96268</td>\n",
       "      <td>2266</td>\n",
       "      <td>7422</td>\n",
       "      <td>4727.0</td>\n",
       "      <td>0.8</td>\n",
       "      <td>6.0</td>\n",
       "      <td>20160612.0</td>\n",
       "      <td>NaN</td>\n",
       "    </tr>\n",
       "    <tr>\n",
       "      <td>96269</td>\n",
       "      <td>2266</td>\n",
       "      <td>7422</td>\n",
       "      <td>4727.0</td>\n",
       "      <td>0.8</td>\n",
       "      <td>6.0</td>\n",
       "      <td>20160518.0</td>\n",
       "      <td>NaN</td>\n",
       "    </tr>\n",
       "    <tr>\n",
       "      <td>96270</td>\n",
       "      <td>2266</td>\n",
       "      <td>7422</td>\n",
       "      <td>4727.0</td>\n",
       "      <td>0.8</td>\n",
       "      <td>6.0</td>\n",
       "      <td>20160312.0</td>\n",
       "      <td>20160312.0</td>\n",
       "    </tr>\n",
       "  </tbody>\n",
       "</table>\n",
       "</div>"
      ],
      "text/plain": [
       "       User_id  Merchant_id  Coupon_id Discount_rate  Distance  Date_received  \\\n",
       "96264     2266         7422     4727.0           0.8       6.0     20160304.0   \n",
       "96265     2266         7422     4727.0           0.8       6.0     20160528.0   \n",
       "96267     2266         7422     4727.0           0.8       6.0     20160305.0   \n",
       "96268     2266         7422     4727.0           0.8       6.0     20160612.0   \n",
       "96269     2266         7422     4727.0           0.8       6.0     20160518.0   \n",
       "96270     2266         7422     4727.0           0.8       6.0     20160312.0   \n",
       "\n",
       "             Date  \n",
       "96264  20160304.0  \n",
       "96265  20160528.0  \n",
       "96267         NaN  \n",
       "96268         NaN  \n",
       "96269         NaN  \n",
       "96270  20160312.0  "
      ]
     },
     "execution_count": 150,
     "metadata": {},
     "output_type": "execute_result"
    }
   ],
   "source": [
    "df_of[(df_of['User_id']==2266) & (df_of['Coupon_id']==4727.0)]"
   ]
  },
  {
   "cell_type": "code",
   "execution_count": 151,
   "metadata": {},
   "outputs": [
    {
     "data": {
      "text/plain": [
       "(0, 3)"
      ]
     },
     "execution_count": 151,
     "metadata": {},
     "output_type": "execute_result"
    }
   ],
   "source": [
    "user_getandredeem_of_same= df_of.groupby(['User_id','Coupon_id','Date_received'])['Discount_rate','Date'].count()\n",
    "user_getandredeem_of_same['RedeemFlag'] = (user_getandredeem_of_same['Date']>0) & (user_getandredeem_of_same['Date']<user_getandredeem_of_same['Discount_rate'])\n",
    "user_getandredeem_of_same[user_getandredeem_of_same['RedeemFlag']==True].shape"
   ]
  },
  {
   "cell_type": "markdown",
   "metadata": {},
   "source": [
    "no cases where date received of coupon is same( for get coupon and redeem coupon)"
   ]
  },
  {
   "cell_type": "markdown",
   "metadata": {},
   "source": [
    "#### Date Received and Number of Coupon Released on that day"
   ]
  },
  {
   "cell_type": "code",
   "execution_count": 152,
   "metadata": {},
   "outputs": [
    {
     "data": {
      "image/png": "[encoded data removed]",
      "text/plain": [
       "<Figure size 1440x1080 with 1 Axes>"
      ]
     },
     "metadata": {
      "needs_background": "light"
     },
     "output_type": "display_data"
    }
   ],
   "source": [
    "#offline\n",
    "plt.figure(figsize=(20,15))\n",
    "ax = sns.countplot(df_of['Date_received'])\n",
    "ax.set_xticklabels(ax.get_xticklabels(),rotation=90)\n",
    "for p in ax.patches:\n",
    "        ax.annotate('{:.0f}'.format(p.get_height()), (p.get_x()+0.1, p.get_height()+50))\n",
    "plt.show()"
   ]
  },
  {
   "cell_type": "code",
   "execution_count": null,
   "metadata": {},
   "outputs": [],
   "source": []
  }
 ],
 "metadata": {
  "kernelspec": {
   "display_name": "Python 3",
   "language": "python",
   "name": "python3"
  },
  "language_info": {
   "codemirror_mode": {
    "name": "ipython",
    "version": 3
   },
   "file_extension": ".py",
   "mimetype": "text/x-python",
   "name": "python",
   "nbconvert_exporter": "python",
   "pygments_lexer": "ipython3",
   "version": "3.7.4"
  }
 },
 "nbformat": 4,
 "nbformat_minor": 2
}
