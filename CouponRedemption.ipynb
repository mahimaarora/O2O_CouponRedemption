{
 "cells": [
  {
   "cell_type": "markdown",
   "metadata": {},
   "source": [
    "### Background\n",
    "As smart phone penetration reaches the hundreds of millions mark, O2O (Online to Offline) requires businesses to have a strong presence both offline and online. APPs with O2O capabilities accumulate daily consumer behaviour and location data that require big data and commercial operations management. The competition at hand focuses on coupon redemption rates. Sending coupons is a general O2O marketing tool used to activate existing customers and attract new ones. While customers are happy to receive coupons that they want, they are frustrated when receiving coupons that they do not need. For merchants, sending unwanted coupons may erode brand equity and hinder marketing expense forecasting. Targeted marketing is an important technology to increase the coupon redemption rate, providing relevant discounts to customers and effective marketing tools to businesses. The competition provides participants with abundant O2O data in this field and expects contestants to predict whether the customer will use the coupon within a specified time frame.\n",
    "### Data\n",
    "This competition provides real online and offline user consumption data from January 1, 2016 to June 30, 2016. The contestants are expected to predict the probability of customers redeeming a coupon within 15 days of receiving it.\n",
    "Note: To protect the privacy of users and merchants, data is desensitized and under biased sampling.\n",
    "### Evaluation\n",
    "The results are evaluated based on the average AUC value. That is, the AUC value is calculated for every coupon_id. The average of each AUC value is the evaluation score. More information on AUC value calculation method on wikipedia.\n"
   ]
  },
  {
   "cell_type": "code",
   "execution_count": 1,
   "metadata": {},
   "outputs": [],
   "source": [
    "%matplotlib inline\n",
    "import pandas as pd\n",
    "import numpy as np\n",
    "import matplotlib.pyplot as plt\n",
    "import seaborn as sns\n",
    "import math"
   ]
  },
  {
   "cell_type": "markdown",
   "metadata": {},
   "source": [
    "### Online and Offline Training data"
   ]
  },
  {
   "cell_type": "code",
   "execution_count": 2,
   "metadata": {},
   "outputs": [
    {
     "ename": "FileNotFoundError",
     "evalue": "[Errno 2] File b'ccf_online_stage1_train.csv' does not exist: b'ccf_online_stage1_train.csv'",
     "output_type": "error",
     "traceback": [
      "\u001b[0;31m---------------------------------------------------------------------------\u001b[0m",
      "\u001b[0;31mFileNotFoundError\u001b[0m                         Traceback (most recent call last)",
      "\u001b[0;32m<ipython-input-2-de816b1aed5a>\u001b[0m in \u001b[0;36m<module>\u001b[0;34m\u001b[0m\n\u001b[0;32m----> 1\u001b[0;31m \u001b[0mdf_on\u001b[0m \u001b[0;34m=\u001b[0m \u001b[0mpd\u001b[0m\u001b[0;34m.\u001b[0m\u001b[0mread_csv\u001b[0m\u001b[0;34m(\u001b[0m\u001b[0;34m'ccf_online_stage1_train.csv'\u001b[0m\u001b[0;34m)\u001b[0m\u001b[0;34m\u001b[0m\u001b[0;34m\u001b[0m\u001b[0m\n\u001b[0m\u001b[1;32m      2\u001b[0m \u001b[0mdf_off\u001b[0m \u001b[0;34m=\u001b[0m \u001b[0mpd\u001b[0m\u001b[0;34m.\u001b[0m\u001b[0mread_csv\u001b[0m\u001b[0;34m(\u001b[0m\u001b[0;34m'ccf_offline_stage1_train.csv'\u001b[0m\u001b[0;34m)\u001b[0m\u001b[0;34m\u001b[0m\u001b[0;34m\u001b[0m\u001b[0m\n",
      "\u001b[0;32m~/opt/anaconda3/lib/python3.7/site-packages/pandas/io/parsers.py\u001b[0m in \u001b[0;36mparser_f\u001b[0;34m(filepath_or_buffer, sep, delimiter, header, names, index_col, usecols, squeeze, prefix, mangle_dupe_cols, dtype, engine, converters, true_values, false_values, skipinitialspace, skiprows, skipfooter, nrows, na_values, keep_default_na, na_filter, verbose, skip_blank_lines, parse_dates, infer_datetime_format, keep_date_col, date_parser, dayfirst, cache_dates, iterator, chunksize, compression, thousands, decimal, lineterminator, quotechar, quoting, doublequote, escapechar, comment, encoding, dialect, error_bad_lines, warn_bad_lines, delim_whitespace, low_memory, memory_map, float_precision)\u001b[0m\n\u001b[1;32m    683\u001b[0m         )\n\u001b[1;32m    684\u001b[0m \u001b[0;34m\u001b[0m\u001b[0m\n\u001b[0;32m--> 685\u001b[0;31m         \u001b[0;32mreturn\u001b[0m \u001b[0m_read\u001b[0m\u001b[0;34m(\u001b[0m\u001b[0mfilepath_or_buffer\u001b[0m\u001b[0;34m,\u001b[0m \u001b[0mkwds\u001b[0m\u001b[0;34m)\u001b[0m\u001b[0;34m\u001b[0m\u001b[0;34m\u001b[0m\u001b[0m\n\u001b[0m\u001b[1;32m    686\u001b[0m \u001b[0;34m\u001b[0m\u001b[0m\n\u001b[1;32m    687\u001b[0m     \u001b[0mparser_f\u001b[0m\u001b[0;34m.\u001b[0m\u001b[0m__name__\u001b[0m \u001b[0;34m=\u001b[0m \u001b[0mname\u001b[0m\u001b[0;34m\u001b[0m\u001b[0;34m\u001b[0m\u001b[0m\n",
      "\u001b[0;32m~/opt/anaconda3/lib/python3.7/site-packages/pandas/io/parsers.py\u001b[0m in \u001b[0;36m_read\u001b[0;34m(filepath_or_buffer, kwds)\u001b[0m\n\u001b[1;32m    455\u001b[0m \u001b[0;34m\u001b[0m\u001b[0m\n\u001b[1;32m    456\u001b[0m     \u001b[0;31m# Create the parser.\u001b[0m\u001b[0;34m\u001b[0m\u001b[0;34m\u001b[0m\u001b[0;34m\u001b[0m\u001b[0m\n\u001b[0;32m--> 457\u001b[0;31m     \u001b[0mparser\u001b[0m \u001b[0;34m=\u001b[0m \u001b[0mTextFileReader\u001b[0m\u001b[0;34m(\u001b[0m\u001b[0mfp_or_buf\u001b[0m\u001b[0;34m,\u001b[0m \u001b[0;34m**\u001b[0m\u001b[0mkwds\u001b[0m\u001b[0;34m)\u001b[0m\u001b[0;34m\u001b[0m\u001b[0;34m\u001b[0m\u001b[0m\n\u001b[0m\u001b[1;32m    458\u001b[0m \u001b[0;34m\u001b[0m\u001b[0m\n\u001b[1;32m    459\u001b[0m     \u001b[0;32mif\u001b[0m \u001b[0mchunksize\u001b[0m \u001b[0;32mor\u001b[0m \u001b[0miterator\u001b[0m\u001b[0;34m:\u001b[0m\u001b[0;34m\u001b[0m\u001b[0;34m\u001b[0m\u001b[0m\n",
      "\u001b[0;32m~/opt/anaconda3/lib/python3.7/site-packages/pandas/io/parsers.py\u001b[0m in \u001b[0;36m__init__\u001b[0;34m(self, f, engine, **kwds)\u001b[0m\n\u001b[1;32m    893\u001b[0m             \u001b[0mself\u001b[0m\u001b[0;34m.\u001b[0m\u001b[0moptions\u001b[0m\u001b[0;34m[\u001b[0m\u001b[0;34m\"has_index_names\"\u001b[0m\u001b[0;34m]\u001b[0m \u001b[0;34m=\u001b[0m \u001b[0mkwds\u001b[0m\u001b[0;34m[\u001b[0m\u001b[0;34m\"has_index_names\"\u001b[0m\u001b[0;34m]\u001b[0m\u001b[0;34m\u001b[0m\u001b[0;34m\u001b[0m\u001b[0m\n\u001b[1;32m    894\u001b[0m \u001b[0;34m\u001b[0m\u001b[0m\n\u001b[0;32m--> 895\u001b[0;31m         \u001b[0mself\u001b[0m\u001b[0;34m.\u001b[0m\u001b[0m_make_engine\u001b[0m\u001b[0;34m(\u001b[0m\u001b[0mself\u001b[0m\u001b[0;34m.\u001b[0m\u001b[0mengine\u001b[0m\u001b[0;34m)\u001b[0m\u001b[0;34m\u001b[0m\u001b[0;34m\u001b[0m\u001b[0m\n\u001b[0m\u001b[1;32m    896\u001b[0m \u001b[0;34m\u001b[0m\u001b[0m\n\u001b[1;32m    897\u001b[0m     \u001b[0;32mdef\u001b[0m \u001b[0mclose\u001b[0m\u001b[0;34m(\u001b[0m\u001b[0mself\u001b[0m\u001b[0;34m)\u001b[0m\u001b[0;34m:\u001b[0m\u001b[0;34m\u001b[0m\u001b[0;34m\u001b[0m\u001b[0m\n",
      "\u001b[0;32m~/opt/anaconda3/lib/python3.7/site-packages/pandas/io/parsers.py\u001b[0m in \u001b[0;36m_make_engine\u001b[0;34m(self, engine)\u001b[0m\n\u001b[1;32m   1133\u001b[0m     \u001b[0;32mdef\u001b[0m \u001b[0m_make_engine\u001b[0m\u001b[0;34m(\u001b[0m\u001b[0mself\u001b[0m\u001b[0;34m,\u001b[0m \u001b[0mengine\u001b[0m\u001b[0;34m=\u001b[0m\u001b[0;34m\"c\"\u001b[0m\u001b[0;34m)\u001b[0m\u001b[0;34m:\u001b[0m\u001b[0;34m\u001b[0m\u001b[0;34m\u001b[0m\u001b[0m\n\u001b[1;32m   1134\u001b[0m         \u001b[0;32mif\u001b[0m \u001b[0mengine\u001b[0m \u001b[0;34m==\u001b[0m \u001b[0;34m\"c\"\u001b[0m\u001b[0;34m:\u001b[0m\u001b[0;34m\u001b[0m\u001b[0;34m\u001b[0m\u001b[0m\n\u001b[0;32m-> 1135\u001b[0;31m             \u001b[0mself\u001b[0m\u001b[0;34m.\u001b[0m\u001b[0m_engine\u001b[0m \u001b[0;34m=\u001b[0m \u001b[0mCParserWrapper\u001b[0m\u001b[0;34m(\u001b[0m\u001b[0mself\u001b[0m\u001b[0;34m.\u001b[0m\u001b[0mf\u001b[0m\u001b[0;34m,\u001b[0m \u001b[0;34m**\u001b[0m\u001b[0mself\u001b[0m\u001b[0;34m.\u001b[0m\u001b[0moptions\u001b[0m\u001b[0;34m)\u001b[0m\u001b[0;34m\u001b[0m\u001b[0;34m\u001b[0m\u001b[0m\n\u001b[0m\u001b[1;32m   1136\u001b[0m         \u001b[0;32melse\u001b[0m\u001b[0;34m:\u001b[0m\u001b[0;34m\u001b[0m\u001b[0;34m\u001b[0m\u001b[0m\n\u001b[1;32m   1137\u001b[0m             \u001b[0;32mif\u001b[0m \u001b[0mengine\u001b[0m \u001b[0;34m==\u001b[0m \u001b[0;34m\"python\"\u001b[0m\u001b[0;34m:\u001b[0m\u001b[0;34m\u001b[0m\u001b[0;34m\u001b[0m\u001b[0m\n",
      "\u001b[0;32m~/opt/anaconda3/lib/python3.7/site-packages/pandas/io/parsers.py\u001b[0m in \u001b[0;36m__init__\u001b[0;34m(self, src, **kwds)\u001b[0m\n\u001b[1;32m   1915\u001b[0m         \u001b[0mkwds\u001b[0m\u001b[0;34m[\u001b[0m\u001b[0;34m\"usecols\"\u001b[0m\u001b[0;34m]\u001b[0m \u001b[0;34m=\u001b[0m \u001b[0mself\u001b[0m\u001b[0;34m.\u001b[0m\u001b[0musecols\u001b[0m\u001b[0;34m\u001b[0m\u001b[0;34m\u001b[0m\u001b[0m\n\u001b[1;32m   1916\u001b[0m \u001b[0;34m\u001b[0m\u001b[0m\n\u001b[0;32m-> 1917\u001b[0;31m         \u001b[0mself\u001b[0m\u001b[0;34m.\u001b[0m\u001b[0m_reader\u001b[0m \u001b[0;34m=\u001b[0m \u001b[0mparsers\u001b[0m\u001b[0;34m.\u001b[0m\u001b[0mTextReader\u001b[0m\u001b[0;34m(\u001b[0m\u001b[0msrc\u001b[0m\u001b[0;34m,\u001b[0m \u001b[0;34m**\u001b[0m\u001b[0mkwds\u001b[0m\u001b[0;34m)\u001b[0m\u001b[0;34m\u001b[0m\u001b[0;34m\u001b[0m\u001b[0m\n\u001b[0m\u001b[1;32m   1918\u001b[0m         \u001b[0mself\u001b[0m\u001b[0;34m.\u001b[0m\u001b[0munnamed_cols\u001b[0m \u001b[0;34m=\u001b[0m \u001b[0mself\u001b[0m\u001b[0;34m.\u001b[0m\u001b[0m_reader\u001b[0m\u001b[0;34m.\u001b[0m\u001b[0munnamed_cols\u001b[0m\u001b[0;34m\u001b[0m\u001b[0;34m\u001b[0m\u001b[0m\n\u001b[1;32m   1919\u001b[0m \u001b[0;34m\u001b[0m\u001b[0m\n",
      "\u001b[0;32mpandas/_libs/parsers.pyx\u001b[0m in \u001b[0;36mpandas._libs.parsers.TextReader.__cinit__\u001b[0;34m()\u001b[0m\n",
      "\u001b[0;32mpandas/_libs/parsers.pyx\u001b[0m in \u001b[0;36mpandas._libs.parsers.TextReader._setup_parser_source\u001b[0;34m()\u001b[0m\n",
      "\u001b[0;31mFileNotFoundError\u001b[0m: [Errno 2] File b'ccf_online_stage1_train.csv' does not exist: b'ccf_online_stage1_train.csv'"
     ]
    }
   ],
   "source": [
    "df_on = pd.read_csv('ccf_online_stage1_train.csv')\n",
    "df_off = pd.read_csv('ccf_offline_stage1_train.csv')"
   ]
  },
  {
   "cell_type": "code",
   "execution_count": null,
   "metadata": {},
   "outputs": [],
   "source": [
    "print(\"Online Training Data Sample\\nShape:\"+str(df_on.shape))\n",
    "df_on.head()"
   ]
  },
  {
   "cell_type": "code",
   "execution_count": null,
   "metadata": {},
   "outputs": [],
   "source": [
    "print(\"Offline Training Data Sample\\nShape:\"+str(df_off.shape))\n",
    "df_off.head()"
   ]
  },
  {
   "cell_type": "markdown",
   "metadata": {},
   "source": [
    "### Test Data (Offline)"
   ]
  },
  {
   "cell_type": "code",
   "execution_count": null,
   "metadata": {},
   "outputs": [],
   "source": [
    "df_test = pd.read_csv('ccf_offline_stage1_test_revised.csv')\n",
    "print(\"Testing Data(Offline) Sample\\nShape:\"+str(df_test.shape))\n",
    "df_test.head()"
   ]
  },
  {
   "cell_type": "markdown",
   "metadata": {},
   "source": [
    "#### Converting Date to DateTime format"
   ]
  },
  {
   "cell_type": "code",
   "execution_count": null,
   "metadata": {},
   "outputs": [],
   "source": [
    "#Online Training Data\n",
    "df_on['Date'] = pd.to_datetime(df_on[\"Date\"],format='%Y%m%d')\n",
    "df_on['Date_received'] = pd.to_datetime(df_on[\"Date_received\"],format='%Y%m%d')\n",
    "\n",
    "#Offline Training Data\n",
    "df_off['Date'] = pd.to_datetime(df_off[\"Date\"],format='%Y%m%d')\n",
    "df_off['Date_received'] = pd.to_datetime(df_off[\"Date_received\"],format='%Y%m%d')\n",
    "\n",
    "#Testing Data\n",
    "df_test['Date_received'] = pd.to_datetime(df_test[\"Date_received\"],format='%Y%m%d')"
   ]
  },
  {
   "cell_type": "markdown",
   "metadata": {},
   "source": [
    "### Removing Duplicates from Online and Offline Training Data"
   ]
  },
  {
   "cell_type": "code",
   "execution_count": null,
   "metadata": {},
   "outputs": [],
   "source": [
    "#Removing duplicates and giving frequency counts(Count) to each row\n",
    "\n",
    "#Online\n",
    "x = 'g8h.|$hTdo+jC9^@'    \n",
    "df_on_unique = (df_on.fillna(x).groupby(['User_id', 'Merchant_id', 'Action', 'Coupon_id', 'Discount_rate',\n",
    "       'Date_received', 'Date']).size().reset_index()\n",
    "               .rename(columns={0 : 'Count'}).replace(x,np.NaN))\n",
    "df_on_unique[\"Date_received\"]=pd.to_datetime(df_on_unique[\"Date_received\"])\n",
    "df_on_unique[\"Date\"]=pd.to_datetime(df_on_unique[\"Date\"])\n",
    "\n",
    "print(\"Online Training Data Shape:\"+str(df_on_unique.shape))"
   ]
  },
  {
   "cell_type": "code",
   "execution_count": null,
   "metadata": {},
   "outputs": [],
   "source": [
    "#Offline\n",
    "x = 'g8h.|$hTdo+jC9^@'   #garbage value for nan values \n",
    "df_off_unique = (df_off.fillna(x).groupby(['User_id', 'Merchant_id', 'Coupon_id', 'Discount_rate', 'Distance',\n",
    "       'Date_received', 'Date']).size().reset_index()\n",
    "               .rename(columns={0 : 'Count'}).replace(x,np.NaN))\n",
    "df_off_unique[\"Date_received\"]=pd.to_datetime(df_off_unique[\"Date_received\"])\n",
    "df_off_unique[\"Date\"]=pd.to_datetime(df_off_unique[\"Date\"])\n",
    "\n",
    "print(\"Offline Training Data Shape:\"+str(df_off_unique.shape))"
   ]
  },
  {
   "cell_type": "markdown",
   "metadata": {},
   "source": [
    "### Converting Discount Ratio to Rate"
   ]
  },
  {
   "cell_type": "code",
   "execution_count": null,
   "metadata": {},
   "outputs": [],
   "source": [
    "#Funtion to convert discount ratio to discount rate\n",
    "def convert_discount(discount):\n",
    "    values = []\n",
    "    for i in discount:\n",
    "        if ':' in i:\n",
    "            i = i.split(':')\n",
    "            rate = round((int(i[0]) - int(i[1]))/int(i[0]),3)\n",
    "            values.append([int(i[0]),int(i[1]),rate])\n",
    "        elif '.' in i:\n",
    "            i = float(i)\n",
    "            x = 100*i\n",
    "            values.append([100,int(100-x),i])\n",
    "            \n",
    "    discounts = dict(zip(discount,values))      \n",
    "    return discounts\n",
    "    \n",
    "\n",
    "# convert_discount(list(df_of['Discount_rate']))"
   ]
  },
  {
   "cell_type": "code",
   "execution_count": null,
   "metadata": {},
   "outputs": [],
   "source": [
    "#ONLINE DATA\n",
    "df_on_coupon = df_on_unique[(df_on_unique['Coupon_id'].isna()==False) & (df_on_unique['Coupon_id']!='fixed')]\n",
    "discounts_online = list(df_on_coupon['Discount_rate'].unique())\n",
    "df_on_coupon.loc[:,('Discount')] = df_on_coupon.loc[:,('Discount_rate')] \n",
    "df_on_coupon.loc[:,('Discount_rate')] = df_on_coupon.loc[:,('Discount')].map(convert_discount(discounts_online))\n",
    "df_on_coupon[['Original_price','Discounted_price','Rate']] = pd.DataFrame(df_on_coupon.Discount_rate.values.tolist(), index= df_on_coupon.index)\n",
    "df_on_coupon.head()"
   ]
  },
  {
   "cell_type": "code",
   "execution_count": null,
   "metadata": {},
   "outputs": [],
   "source": [
    "#OFFLINE DATA\n",
    "df_off_coupon = df_off_unique[(df_off_unique['Coupon_id'].isna()==False)].copy()\n",
    "discounts_offline = list(df_off_coupon['Discount_rate'].unique())\n",
    "df_off_coupon.loc[:,('Discount')] = df_off_coupon.loc[:,('Discount_rate')] \n",
    "df_off_coupon['Discount_rate'] = df_off_coupon['Discount'].map(convert_discount(discounts_offline))\n",
    "df_off_coupon[['Original_price','Discounted_price','Rate']] = pd.DataFrame(df_off_coupon.Discount_rate.values.tolist(), index= df_off_coupon.index)\n",
    "df_off_coupon.head()"
   ]
  },
  {
   "cell_type": "code",
   "execution_count": null,
   "metadata": {},
   "outputs": [],
   "source": [
    "#Test Data\n",
    "df_test_coupon = df_test[df_test['Coupon_id'].isna()==False]\n",
    "discounts_test = list(df_test_coupon['Discount_rate'].unique())\n",
    "df_test_coupon.loc[:,('Discount')] = df_test_coupon.loc[:,('Discount_rate')] \n",
    "df_test_coupon['Discount_rate'] = df_test_coupon['Discount'].map(convert_discount(discounts_test))\n",
    "df_test_coupon[['Original_price','Discounted_price','Rate']] = pd.DataFrame(df_test_coupon.Discount_rate.values.tolist(), index= df_test_coupon.index)\n",
    "df_test_coupon.head()"
   ]
  },
  {
   "cell_type": "markdown",
   "metadata": {},
   "source": [
    "#### Filling Nan for Distance (OFFLINE)"
   ]
  },
  {
   "cell_type": "code",
   "execution_count": null,
   "metadata": {},
   "outputs": [],
   "source": [
    "df_off_unique['Distance'].fillna(df_off_unique['Distance'].mean(), inplace=True)\n",
    "df_off_unique['Distance'] = df_off_unique.Distance.astype(int)"
   ]
  },
  {
   "cell_type": "markdown",
   "metadata": {},
   "source": [
    "### Training Data (Online + Offline)"
   ]
  },
  {
   "cell_type": "code",
   "execution_count": null,
   "metadata": {},
   "outputs": [],
   "source": [
    "df_train = df_on_unique.append(df_off_unique, sort=False)\n",
    "df_train = df_train.sort_values(by = ['User_id'] )\n",
    "df_train = df_train.reset_index()\n",
    "del df_train['index']\n",
    "print(\"Training Data(Offline+Online) \\nShape:\"+str(df_train.shape))\n",
    "df_train.head()"
   ]
  },
  {
   "cell_type": "markdown",
   "metadata": {},
   "source": [
    "## User Anlaysis"
   ]
  },
  {
   "cell_type": "markdown",
   "metadata": {},
   "source": [
    "### Distributing users into three categores: \n",
    "1. users getting coupon\n",
    "2. users making purchases without coupon\n",
    "3. users making purchases with coupon"
   ]
  },
  {
   "cell_type": "code",
   "execution_count": null,
   "metadata": {},
   "outputs": [],
   "source": [
    "#Online\n",
    "df_on_get_coupon = df_on_unique[df_on_unique['Action']==2]\n",
    "df_on_no_coupon = df_on_unique[df_on_unique['Coupon_id'].isna()]\n",
    "df_on_redeem_coupon = df_on_unique[(df_on_unique['Date'].isna()==False) & (df_on_unique['Coupon_id'].isna()==False)]\n",
    "print('ONLINE: Shape of Get Coupon'+ str(df_on_get_coupon.shape))\n",
    "print('ONLINE: Shape of No Coupon'+ str(df_on_no_coupon.shape))\n",
    "print('ONLINE: Shape of Redeem Coupon'+ str(df_on_redeem_coupon.shape))\n",
    "\n",
    "#Offline\n",
    "df_off_get_coupon = df_off_unique[(df_off_unique['Date'].isna()) & (df_off_unique['Coupon_id'].isna()==False)]\n",
    "df_off_no_coupon = df_off_unique[df_off_unique['Coupon_id'].isna()]\n",
    "df_off_redeem_coupon = df_off_unique[(df_off_unique['Date'].isna()==False) & (df_off_unique['Coupon_id'].isna()==False)]\n",
    "print('\\nOFFLINE: Shape of Get Coupon'+ str(df_off_get_coupon.shape))\n",
    "print('OFFLINE: Shape of No Coupon'+ str(df_off_no_coupon.shape))\n",
    "print('OFFLINE: Shape of Redeem Coupon'+ str(df_off_redeem_coupon.shape))\n",
    "\n",
    "\n",
    "#Complete Traininig Data\n",
    "df_train_get_coupon = df_train[(df_train['Date'].isna()) & (df_train['Coupon_id'].isna()==False)]\n",
    "df_train_no_coupon = df_train[df_train['Coupon_id'].isna()]\n",
    "df_train_redeem_coupon = df_train[(df_train['Date'].isna()==False) & (df_train['Coupon_id'].isna()==False)]\n",
    "print('\\nONLINE+OFFLINE: Shape of Get Coupon'+ str(df_train_get_coupon.shape))\n",
    "print('ONLINE+OFFLINE: Shape of No Coupon'+ str(df_train_no_coupon.shape))\n",
    "print('ONLINE+OFFLINE: Shape of Redeem Coupon'+ str(df_train_redeem_coupon.shape))\n",
    "df_train_coupon = df_on_coupon.append(df_off_coupon, sort=False)"
   ]
  },
  {
   "cell_type": "markdown",
   "metadata": {},
   "source": [
    "### User : Online, Offline or Common(Online+Offline) Tag\n",
    "        0: Common User\n",
    "        1: Only Offline\n",
    "        2: Only Online\n",
    "      \n",
    "        "
   ]
  },
  {
   "cell_type": "code",
   "execution_count": null,
   "metadata": {},
   "outputs": [],
   "source": [
    "users_on = set(df_on[\"User_id\"].unique())             #number of users in online data\n",
    "users_off = set(df_off[\"User_id\"].unique())           #number of users in offline data\n",
    "users_test = set(df_test[\"User_id\"].unique())         #number of users in test data\n",
    "common_users = set(users_off.intersection(users_on))  #number of users having both online and offline presence\n",
    "online_users = list(users_on - common_users)\n",
    "offline_users = list(users_off - common_users)\n",
    "common_users = list(common_users)\n",
    "print('Count of only Online Users:  '+ str(len(online_users)))\n",
    "print('Count of only Offline Users: '+ str(len(offline_users)))\n",
    "print('Count of Common Users:       '+ str(len(common_users)))"
   ]
  },
  {
   "cell_type": "code",
   "execution_count": null,
   "metadata": {},
   "outputs": [],
   "source": [
    "common_tags = [0 for _ in range(len(common_users))]\n",
    "offline_tags = [1 for _ in range(len(offline_users))]\n",
    "online_tags = [2 for _ in range(len(online_users))]\n",
    "\n",
    "#Common Users DataFrame\n",
    "tag_0 = pd.DataFrame(\n",
    "    {'Users': common_users,\n",
    "     'Tag': common_tags\n",
    "    })\n",
    "\n",
    "#Offline Users DataFrame\n",
    "tag_1 = pd.DataFrame(\n",
    "    {'Users': offline_users,\n",
    "     'Tag': offline_tags\n",
    "    })\n",
    "\n",
    "#Online Users DataFrame\n",
    "tag_2 = pd.DataFrame(\n",
    "    {'Users': online_users,\n",
    "     'Tag': online_tags\n",
    "    })\n",
    "\n",
    "user_tag = tag_0.append(tag_1, sort=False)\n",
    "user_tag = user_tag.append(tag_2, sort=False)\n",
    "user_tag.sample(5)"
   ]
  },
  {
   "cell_type": "markdown",
   "metadata": {},
   "source": [
    "### User Redemption Score "
   ]
  },
  {
   "cell_type": "code",
   "execution_count": null,
   "metadata": {},
   "outputs": [],
   "source": [
    "#Users in training Dataset\n",
    "user_redemption_train = df_train_coupon.groupby(['User_id'])['Coupon_id','Date'].count()\n",
    "user_redemption_train.columns = ['User_Released', 'User_Redeemed']\n",
    "user_redemption_train['User_Ratio'] = round(user_redemption_train['User_Redeemed']/user_redemption_train['User_Released'],2)\n",
    "user_redemption_train[user_redemption_train['User_Ratio']!=0].sample(5)"
   ]
  },
  {
   "cell_type": "code",
   "execution_count": null,
   "metadata": {},
   "outputs": [],
   "source": [
    "plt.figure(figsize=(8,5))\n",
    "sns.distplot(user_redemption_train[user_redemption_train['User_Ratio']!=0]['User_Ratio'],kde=False,bins=26)\n",
    "plt.xlabel('User Redemption Ratio')\n",
    "plt.ylabel('Count of Users')\n",
    "plt.title('User Redemption Score Distribution')\n",
    "plt.show()"
   ]
  },
  {
   "cell_type": "markdown",
   "metadata": {},
   "source": [
    "### Users and their Merchant Preferences"
   ]
  },
  {
   "cell_type": "code",
   "execution_count": null,
   "metadata": {},
   "outputs": [],
   "source": [
    "#OFFLINE\n",
    "visits_offline = pd.DataFrame(df_off_unique.groupby(['User_id','Merchant_id']).size()).reset_index()\n",
    "visits_offline.columns = ['User_id','Merchant_id','Visits']\n",
    "visits_offline.head()"
   ]
  },
  {
   "cell_type": "code",
   "execution_count": null,
   "metadata": {},
   "outputs": [],
   "source": [
    "plt.figure(figsize=(15,10))\n",
    "ax = sns.countplot(visits_offline['Visits'])\n",
    "ax.set_xticklabels(ax.get_xticklabels(),rotation=90)\n",
    "i = 4\n",
    "for p in ax.patches:\n",
    "        ax.annotate('{:.0f}'.format(p.get_height()), (p.get_x()+0.1, p.get_height()+50))\n",
    "        i-=1\n",
    "        if i <0:\n",
    "            break\n",
    "plt.xlabel('Number of User-Merchant Visits')\n",
    "plt.ylabel('Count')\n",
    "plt.title('Plot for frequency of user-merchant visits (OFFLINE)')\n",
    "plt.show()"
   ]
  },
  {
   "cell_type": "code",
   "execution_count": null,
   "metadata": {},
   "outputs": [],
   "source": [
    "#ONLINE\n",
    "visits_online = pd.DataFrame(df_on_unique.groupby(['User_id','Merchant_id']).size()).reset_index()\n",
    "visits_online.columns = ['User_id','Merchant_id','Visits']\n",
    "visits_online.head()"
   ]
  },
  {
   "cell_type": "code",
   "execution_count": null,
   "metadata": {},
   "outputs": [],
   "source": [
    "plt.figure(figsize=(15,10))\n",
    "ax = sns.countplot(visits_online['Visits'])\n",
    "ax.set_xticklabels(ax.get_xticklabels(),rotation=90)\n",
    "i = 3\n",
    "for p in ax.patches:\n",
    "        ax.annotate('{:.0f}'.format(p.get_height()), (p.get_x()+0.1, p.get_height()+50))\n",
    "        i-=1\n",
    "        if i <0:\n",
    "            break\n",
    "plt.xlabel('Number of User-Merchant Visits')\n",
    "plt.ylabel('Count')\n",
    "plt.title('Plot for frequency of user-merchant visits (ONLINE)')\n",
    "plt.show()"
   ]
  },
  {
   "cell_type": "markdown",
   "metadata": {},
   "source": [
    "#### For offline:\n",
    "Around 69% of times the frequency of user-merchant pair is 1.<br>\n",
    "#### For online:\n",
    "Around 79.4% of times the frequency of user-merchant pair is 1.<br>\n",
    "So, users don't prefer any certain set of merchants."
   ]
  },
  {
   "cell_type": "markdown",
   "metadata": {},
   "source": [
    "### Users as Purchasers and Non-Purchasers\n",
    "Purchasers (Number of buys >= 5)<br>\n",
    "Non Purchasers (Number of buys < 5)"
   ]
  },
  {
   "cell_type": "code",
   "execution_count": null,
   "metadata": {},
   "outputs": [],
   "source": [
    "user_purchasers = pd.DataFrame(df_train.groupby(['User_id'])['Date'].count())\n",
    "user_purchasers.columns = ['User_Buys']\n",
    "user_purchasers['User_Buys'].describe()"
   ]
  },
  {
   "cell_type": "code",
   "execution_count": null,
   "metadata": {},
   "outputs": [],
   "source": [
    "user_purchasers['Purchaser'] = [1 if x>=6 else 0 for x in user_purchasers['User_Buys']] \n",
    "user_purchasers.sample(5)"
   ]
  },
  {
   "cell_type": "markdown",
   "metadata": {},
   "source": [
    "### For any user-merchant pair, the distance should remain constant (Offline)"
   ]
  },
  {
   "cell_type": "code",
   "execution_count": null,
   "metadata": {},
   "outputs": [],
   "source": [
    "user_merchant_distance = pd.DataFrame(df_off_unique.groupby(['User_id','Merchant_id'])['Distance'].nunique()).reset_index()\n",
    "user_merchant_distance['Distance'].unique()"
   ]
  },
  {
   "cell_type": "markdown",
   "metadata": {},
   "source": [
    "Unique distance values for a user-merchant pair are 0 (for nan distance value) and 1.<br>\n",
    "This shows for any user-merchant pair, the distance value remains constant."
   ]
  },
  {
   "cell_type": "markdown",
   "metadata": {},
   "source": [
    "### Common Users: Online and Offline visits"
   ]
  },
  {
   "cell_type": "code",
   "execution_count": null,
   "metadata": {},
   "outputs": [],
   "source": [
    "df_train = df_train.merge(user_tag['Tag'],how='outer', left_on='User_id', right_on=user_tag['Users'])"
   ]
  },
  {
   "cell_type": "code",
   "execution_count": null,
   "metadata": {},
   "outputs": [],
   "source": [
    "common_users = df_train[df_train['Tag']==0]\n",
    "common_users_activity = common_users.groupby(['User_id'])['Action','Distance'].count()\n",
    "common_users_activity.columns = ['Online_Activity','Offline_Activity']\n",
    "common_users_activity.sample(2)"
   ]
  },
  {
   "cell_type": "markdown",
   "metadata": {},
   "source": [
    "### User tracking (Online click to Offline buy)"
   ]
  },
  {
   "cell_type": "code",
   "execution_count": null,
   "metadata": {},
   "outputs": [],
   "source": [
    "common_users['Action'].fillna(3, inplace=True)\n",
    "common_users.head()"
   ]
  },
  {
   "cell_type": "code",
   "execution_count": null,
   "metadata": {},
   "outputs": [],
   "source": [
    "common_users.loc[:,('DateTrack')] = common_users.loc[:,('Date')]\n",
    "common_users.DateTrack.fillna(common_users.Date_received, inplace=True)\n",
    "common_users['Action'] = common_users['Action'].astype(str)\n",
    "common_users.head()"
   ]
  },
  {
   "cell_type": "code",
   "execution_count": null,
   "metadata": {},
   "outputs": [],
   "source": [
    "common_users = common_users.sort_values(by=['User_id','DateTrack'])\n",
    "common_users.head()"
   ]
  },
  {
   "cell_type": "code",
   "execution_count": null,
   "metadata": {},
   "outputs": [],
   "source": [
    "common_user_activity = common_users.groupby(['User_id'])['Action'].apply(list).reset_index(name='ActivityList')\n",
    "common_user_activity.head()\n"
   ]
  },
  {
   "cell_type": "code",
   "execution_count": null,
   "metadata": {},
   "outputs": [],
   "source": [
    "common_user_activity.loc[:,('ActivityList')] = common_user_activity.loc[:,('ActivityList')] .apply(lambda x: ''.join(x))\n",
    "common_user_activity.loc[:,('OnlineToOffline')] = [1 if re.search('\\d*0\\d*3\\d*',a) else 0 for a in common_user_activity['ActivityList']]\n",
    "common_user_activity.head()"
   ]
  },
  {
   "cell_type": "code",
   "execution_count": null,
   "metadata": {},
   "outputs": [],
   "source": [
    "common_user_activity[common_user_activity['OnlineToOffline']==1].shape[0]/common_user_activity.shape[0]"
   ]
  },
  {
   "cell_type": "code",
   "execution_count": null,
   "metadata": {},
   "outputs": [],
   "source": [
    "onlineToOffline([0,1,2,3,4,5,6])  "
   ]
  },
  {
   "cell_type": "markdown",
   "metadata": {},
   "source": [
    "## Merchant Anlaysis"
   ]
  },
  {
   "cell_type": "markdown",
   "metadata": {},
   "source": [
    " ### Merchant Redemption Score "
   ]
  },
  {
   "cell_type": "code",
   "execution_count": null,
   "metadata": {},
   "outputs": [],
   "source": [
    "#Merchants in offline Dataset\n",
    "merchant_redemption_offline = df_off_coupon.groupby(['Merchant_id'])['Coupon_id','Date'].count()\n",
    "merchant_redemption_offline.columns = ['Merchant_Released', 'Merchant_Redeemed']\n",
    "merchant_redemption_offline['Merchant_Ratio'] = round(merchant_redemption_offline['Merchant_Redeemed']/merchant_redemption_offline['Merchant_Released'],2)\n",
    "merchant_redemption_offline.sample(5)"
   ]
  },
  {
   "cell_type": "code",
   "execution_count": null,
   "metadata": {},
   "outputs": [],
   "source": [
    "plt.figure(figsize=(8,5))\n",
    "sns.distplot(merchant_redemption_offline['Merchant_Ratio'],kde=False,bins=26)\n",
    "plt.xlabel('Merchant Redemption Ratio')\n",
    "plt.ylabel('Count of Merchants')\n",
    "plt.title('Merchants Redemption Score Distribution (OFFLINE)')\n",
    "plt.show()"
   ]
  },
  {
   "cell_type": "code",
   "execution_count": null,
   "metadata": {},
   "outputs": [],
   "source": [
    "#Merchants in online Dataset\n",
    "merchant_redemption_online = df_on_coupon.groupby(['Merchant_id'])['Coupon_id','Date'].count()\n",
    "merchant_redemption_online.columns = ['Merchant_Released', 'Merchant_Redeemed']\n",
    "merchant_redemption_online['Merchant_Ratio'] = round(merchant_redemption_online['Merchant_Redeemed']/merchant_redemption_online['Merchant_Released'],2)\n",
    "merchant_redemption_online.sample(5)"
   ]
  },
  {
   "cell_type": "code",
   "execution_count": null,
   "metadata": {},
   "outputs": [],
   "source": [
    "plt.figure(figsize=(8,5))\n",
    "sns.distplot(merchant_redemption_online['Merchant_Ratio'],kde=False,bins=26)\n",
    "plt.xlabel('Merchant Redemption Ratio')\n",
    "plt.ylabel('Count of Merchants')\n",
    "plt.title('Merchants Redemption Score Distribution (ONLINE)')\n",
    "\n",
    "plt.show()"
   ]
  },
  {
   "cell_type": "markdown",
   "metadata": {},
   "source": [
    "### Merchant and Average Distance of its customers (OFFLINE)"
   ]
  },
  {
   "cell_type": "code",
   "execution_count": null,
   "metadata": {},
   "outputs": [],
   "source": [
    "merchant_distance = df_off_unique.groupby(['Merchant_id'])['Distance'].agg(['mean','count'])\n",
    "merchant_distance.columns = ['AvgDistance','Count']\n",
    "merchant_distance.head() "
   ]
  },
  {
   "cell_type": "code",
   "execution_count": null,
   "metadata": {},
   "outputs": [],
   "source": [
    "plt.figure(figsize=(8,5))\n",
    "ax = sns.distplot(merchant_distance['AvgDistance'],kde=False,bins=26)\n",
    "plt.xlabel('AvgDistance of Users')\n",
    "plt.ylabel('Count of Merchants')\n",
    "plt.title('Distribution of Average Distance of customers (OFFLINE)')\n",
    "for p in ax.patches:\n",
    "    ax.annotate('{:.0f}'.format(p.get_height()), (p.get_x()+0.1, p.get_height()+50))\n",
    "plt.show()"
   ]
  },
  {
   "cell_type": "markdown",
   "metadata": {},
   "source": [
    "### Merchant and its Popularity  (OFFLINE)\n",
    "(based on number of visits of its customers)<br>\n",
    "If visits > 40:\n",
    "    then Merchant is Popular"
   ]
  },
  {
   "cell_type": "code",
   "execution_count": null,
   "metadata": {},
   "outputs": [],
   "source": [
    "df_off_purchase = df_off_unique[df_off_unique['Date'].isna()==False]\n",
    "merchant_visits_off = pd.DataFrame(df_off_purchase.groupby(['Merchant_id','User_id','Date'])['Distance'].count()).reset_index()\n",
    "\n",
    "merchant_visits_offline = pd.DataFrame(merchant_visits_off.groupby(['Merchant_id'])['Date'].count()).reset_index()\n",
    "\n",
    "merchant_visits_offline = merchant_visits_offline.rename(columns={\"Date\": \"Visits\"})\n",
    "merchant_visits_offline.head()"
   ]
  },
  {
   "cell_type": "code",
   "execution_count": null,
   "metadata": {},
   "outputs": [],
   "source": [
    "merchant_visits_offline['Visits'].describe()"
   ]
  },
  {
   "cell_type": "code",
   "execution_count": null,
   "metadata": {},
   "outputs": [],
   "source": [
    "merchant_visits_offline['Merchant_Popular'] = [1 if x>40 else 0 for x in merchant_visits_offline['Visits']]\n",
    "merchant_visits_offline.sample(5)"
   ]
  },
  {
   "cell_type": "markdown",
   "metadata": {},
   "source": [
    "### Merchants and its Active duration"
   ]
  },
  {
   "cell_type": "code",
   "execution_count": null,
   "metadata": {},
   "outputs": [],
   "source": [
    "merchant_duration = df_off_unique.copy()\n",
    "merchant_duration['DateTrack'] = merchant_duration['Date']\n",
    "merchant_duration.DateTrack.fillna(merchant_duration.Date_received, inplace=True)\n",
    "merchant_duration.head()"
   ]
  },
  {
   "cell_type": "code",
   "execution_count": null,
   "metadata": {},
   "outputs": [],
   "source": [
    "merchant_duration_days = merchant_duration.groupby(['Merchant_id'])['DateTrack'].agg(['min','max'])\n",
    "merchant_duration_days['Duration'] = merchant_duration_days['max'] - merchant_duration_days['min']\n",
    "merchant_duration_days.head()"
   ]
  },
  {
   "cell_type": "code",
   "execution_count": null,
   "metadata": {},
   "outputs": [],
   "source": [
    "merchant_duration_days['Duration'] = merchant_duration_days['Duration'].dt.days.astype('str')\n",
    "merchant_duration_days['Duration'] = pd.to_numeric(merchant_duration_days['Duration'],errors=\"coerce\")\n",
    "merchant_duration_days.head()"
   ]
  },
  {
   "cell_type": "code",
   "execution_count": null,
   "metadata": {},
   "outputs": [],
   "source": [
    "plt.figure(figsize=(8,5))\n",
    "ax = sns.distplot(merchant_duration_days['Duration'],kde=False,bins=26)\n",
    "plt.xlabel('Active Duration of Merchants(days)')\n",
    "plt.ylabel('Count of Merchants')\n",
    "plt.title('Merchant and their Duration time(days)')\n",
    "for p in ax.patches:\n",
    "    ax.annotate('{:.0f}'.format(p.get_height()), (p.get_x()+0.1, p.get_height()+50))"
   ]
  },
  {
   "cell_type": "markdown",
   "metadata": {},
   "source": [
    "### Avg discount each merchant offers"
   ]
  },
  {
   "cell_type": "code",
   "execution_count": null,
   "metadata": {},
   "outputs": [],
   "source": [
    "#avg discounts each merchant offers\n",
    "merchant_discounts_avg = pd.DataFrame(df_off_coupon.groupby(['Merchant_id'])['Rate'].mean())\n",
    "merchant_discounts_avg.columns = ['AvgRate']\n",
    "merchant_discounts_avg = merchant_discounts_avg.reset_index()\n",
    "merchant_discounts_avg.head()"
   ]
  },
  {
   "cell_type": "code",
   "execution_count": null,
   "metadata": {},
   "outputs": [],
   "source": [
    "plt.figure(figsize=(8,5))\n",
    "sns.distplot(merchant_discounts_avg['AvgRate'],kde=False,bins=20)\n",
    "plt.xlabel('Mean Discount Rate')\n",
    "plt.ylabel('Count of Merchants')\n",
    "plt.title('Merchant and Average Discount it offers')"
   ]
  },
  {
   "cell_type": "markdown",
   "metadata": {},
   "source": [
    "## DISCOUNT ANALYSIS"
   ]
  },
  {
   "cell_type": "code",
   "execution_count": null,
   "metadata": {},
   "outputs": [],
   "source": [
    "# Coupons Released and redeemed and Discount Rate(OFFLINE)\n",
    "fig,(ax1,ax2) = plt.subplots(nrows=1,ncols=2,figsize=(20,7))\n",
    "plt.subplot(121)\n",
    "ax1 = sns.countplot(df_off_coupon['Rate'])\n",
    "ax1.set_xticklabels(ax1.get_xticklabels(),rotation=90)\n",
    "for p in ax1.patches:\n",
    "        ax1.annotate('{:.0f}'.format(p.get_height()), (p.get_x()+0.1, p.get_height()+50))\n",
    "\n",
    "plt.xlabel('Discount Rate')\n",
    "plt.ylabel('Count of Coupons released')\n",
    "plt.title('Number of coupons released for each discount rate(OFFLINE)')\n",
    "\n",
    "plt.subplot(122)\n",
    "df_off_redeem_coupon= df_off_coupon[df_off_coupon['Date'].isna()==False]\n",
    "\n",
    "ax2 = sns.countplot(df_off_redeem_coupon['Rate'])\n",
    "ax2.set_xticklabels(ax2.get_xticklabels(),rotation=90)\n",
    "for p in ax2.patches:\n",
    "        ax2.annotate('{:.0f}'.format(p.get_height()), (p.get_x()+0.1, p.get_height()+50))\n",
    "        \n",
    "plt.xlabel('Discount Rate')\n",
    "plt.ylabel('Count of Coupons redeemed')\n",
    "plt.title('Number of coupons redeemed for each discount rate(OFFLINE)')\n",
    "\n",
    "plt.show()"
   ]
  },
  {
   "cell_type": "code",
   "execution_count": null,
   "metadata": {},
   "outputs": [],
   "source": [
    "# Coupons Released and redeemed and Discount Rate(ONLINE)\n",
    "fig,(ax1,ax2) = plt.subplots(nrows=1,ncols=2,figsize=(20,7))\n",
    "plt.subplot(121)\n",
    "ax1 = sns.countplot(df_on_coupon['Rate'])\n",
    "ax1.set_xticklabels(ax1.get_xticklabels(),rotation=90)\n",
    "for p in ax1.patches:\n",
    "        ax1.annotate('{:.0f}'.format(p.get_height()), (p.get_x()+0.1, p.get_height()+50))\n",
    "\n",
    "plt.xlabel('Discount Rate')\n",
    "plt.ylabel('Count of Coupons released')\n",
    "plt.title('Number of coupons released for each discount rate(ONLINE)')\n",
    "\n",
    "plt.subplot(122)\n",
    "df_on_redeem_coupon= df_on_coupon[df_on_coupon['Date'].isna()==False]\n",
    "\n",
    "ax2 = sns.countplot(df_on_redeem_coupon['Rate'])\n",
    "ax2.set_xticklabels(ax2.get_xticklabels(),rotation=90)\n",
    "for p in ax2.patches:\n",
    "        ax2.annotate('{:.0f}'.format(p.get_height()), (p.get_x()+0.1, p.get_height()+50))\n",
    "        \n",
    "plt.xlabel('Discount Rate')\n",
    "plt.ylabel('Count of Coupons redeemed')\n",
    "plt.title('Number of coupons redeemed for each discount rate(ONLINE)')\n",
    "\n",
    "plt.show()"
   ]
  },
  {
   "cell_type": "code",
   "execution_count": null,
   "metadata": {},
   "outputs": [],
   "source": [
    "discount_redemption =  df_train_coupon.groupby(['Rate'])['Coupon_id','Date'].count()\n",
    "discount_redemption.columns = ['Rate_Releases','Rate_Redeemed']\n",
    "discount_redemption['Rate_Ratio'] = discount_redemption['Rate_Redeemed']/discount_redemption['Rate_Releases']\n",
    "discount_redemption.head()"
   ]
  },
  {
   "cell_type": "markdown",
   "metadata": {},
   "source": [
    "## Coupon Analysis"
   ]
  },
  {
   "cell_type": "markdown",
   "metadata": {},
   "source": [
    "### Merchant is constant for a particular Coupon ID"
   ]
  },
  {
   "cell_type": "code",
   "execution_count": null,
   "metadata": {},
   "outputs": [],
   "source": [
    "coupon_merchant = pd.DataFrame(df_train_coupon.groupby(['Coupon_id'])['Merchant_id'].nunique())\n",
    "coupon_merchant.columns = ['NumberOfMerchants']\n",
    "coupon_merchant['NumberOfMerchants'].nunique()"
   ]
  },
  {
   "cell_type": "markdown",
   "metadata": {},
   "source": [
    "### Discount Rate is constant for a particular Coupon ID"
   ]
  },
  {
   "cell_type": "code",
   "execution_count": null,
   "metadata": {},
   "outputs": [],
   "source": [
    "coupon_discount = pd.DataFrame(df_train_coupon.groupby(['Coupon_id'])['Rate'].nunique())\n",
    "coupon_discount.columns = ['NumberOfDiscounts']\n",
    "coupon_discount['NumberOfDiscounts'].nunique()"
   ]
  },
  {
   "cell_type": "markdown",
   "metadata": {},
   "source": [
    "### Coupon Redemption Score"
   ]
  },
  {
   "cell_type": "code",
   "execution_count": null,
   "metadata": {},
   "outputs": [],
   "source": [
    "#Coupon in training Dataset\n",
    "coupon_redemption_offline = df_off_coupon.groupby(['Coupon_id'])['Rate','Date'].count()\n",
    "coupon_redemption_offline.columns = ['Coupon_Released', 'Coupon_Redeemed']\n",
    "coupon_redemption_offline['Coupon_Ratio'] = round(coupon_redemption_offline['Coupon_Redeemed']/coupon_redemption_offline['Coupon_Released'],2)\n",
    "coupon_redemption_offline.sample(5)"
   ]
  },
  {
   "cell_type": "code",
   "execution_count": null,
   "metadata": {},
   "outputs": [],
   "source": [
    "plt.figure(figsize=(8,5))\n",
    "sns.distplot(coupon_redemption_offline['Coupon_Ratio'],kde=False,bins=26)\n",
    "plt.xlabel('Coupon Redemption Ratio')\n",
    "plt.ylabel('Count of Coupon')\n",
    "plt.title('Coupon Redemption Score Distribution (OFFLINE)')\n",
    "plt.show()"
   ]
  },
  {
   "cell_type": "markdown",
   "metadata": {},
   "source": [
    "### Distance Distribution with respect to coupon redemption"
   ]
  },
  {
   "cell_type": "code",
   "execution_count": null,
   "metadata": {},
   "outputs": [],
   "source": [
    "plt.figure(figsize=(9,7))\n",
    "ax = sns.countplot(df_off_redeem_coupon['Distance'])\n",
    "ax.set_xticklabels(ax.get_xticklabels(),rotation=90)\n",
    "for p in ax.patches:\n",
    "        ax.annotate('{:.0f}'.format(p.get_height()), (p.get_x()+0.1, p.get_height()+50))\n",
    "plt.xlabel('Distance between users and merchants')\n",
    "plt.ylabel('Count of Coupon Redeemed for that discount')\n",
    "plt.title('Coupon Redemption and the Distance of User')\n",
    "plt.show()"
   ]
  },
  {
   "cell_type": "markdown",
   "metadata": {},
   "source": [
    "## Date Analysis"
   ]
  },
  {
   "cell_type": "markdown",
   "metadata": {},
   "source": [
    "#### Count of coupons released each day (OFFLINE)"
   ]
  },
  {
   "cell_type": "code",
   "execution_count": null,
   "metadata": {},
   "outputs": [],
   "source": [
    "plt.figure(figsize=(35,20))\n",
    "ax = sns.countplot(df_off_coupon['Date_received'])\n",
    "ax.set_xticklabels(ax.get_xticklabels(),rotation=90)\n",
    "plt.xlabel('Dates : Jan 1, 2016 - Jun 30,2016 (182 days)')\n",
    "plt.ylabel('Count of Coupon Released')\n",
    "plt.title('Count of coupons Released each day')\n",
    "plt.show()"
   ]
  },
  {
   "cell_type": "markdown",
   "metadata": {},
   "source": [
    "#### Count of coupons redeemed each day (OFFLINE)"
   ]
  },
  {
   "cell_type": "code",
   "execution_count": null,
   "metadata": {},
   "outputs": [],
   "source": [
    "plt.figure(figsize=(35,20))\n",
    "ax = sns.countplot(df_off_redeem_coupon['Date'])\n",
    "ax.set_xticklabels(ax.get_xticklabels(),rotation=90)\n",
    "plt.xlabel('Dates : Jan 1, 2016 - Jun 30,2016 (182 days)')\n",
    "plt.ylabel('Count of Coupon Redeemed')\n",
    "plt.title('Count of coupons redeemed each day')\n",
    "plt.show()"
   ]
  },
  {
   "cell_type": "code",
   "execution_count": null,
   "metadata": {},
   "outputs": [],
   "source": [
    "df_off_redeem_coupon"
   ]
  },
  {
   "cell_type": "markdown",
   "metadata": {},
   "source": [
    "#### Count of coupons released each day (ONLINE)"
   ]
  },
  {
   "cell_type": "code",
   "execution_count": null,
   "metadata": {},
   "outputs": [],
   "source": [
    "plt.figure(figsize=(35,20))\n",
    "ax = sns.countplot(df_on_coupon['Date_received'])\n",
    "ax.set_xticklabels(ax.get_xticklabels(),rotation=90)\n",
    "plt.xlabel('Dates : Jan 1, 2016 - Jun 30,2016 (182 days)')\n",
    "plt.ylabel('Count of Coupon Released')\n",
    "plt.title('Count of coupons Released each day')\n",
    "plt.show()"
   ]
  },
  {
   "cell_type": "markdown",
   "metadata": {},
   "source": [
    "#### Count of coupons redeemed each day (ONLINE)"
   ]
  },
  {
   "cell_type": "code",
   "execution_count": null,
   "metadata": {},
   "outputs": [],
   "source": [
    "plt.figure(figsize=(35,20))\n",
    "ax = sns.countplot(df_on_redeem_coupon['Date'])\n",
    "ax.set_xticklabels(ax.get_xticklabels(),rotation=90)\n",
    "plt.xlabel('Dates : Jan 1, 2016 - Jun 30,2016 (182 days)')\n",
    "plt.ylabel('Count of Coupon Redeemed')\n",
    "plt.title('Count of coupons redeemed each day')\n",
    "plt.show()"
   ]
  },
  {
   "cell_type": "markdown",
   "metadata": {},
   "source": [
    "### Weekdays or Weekends for Date Received (Offline)"
   ]
  },
  {
   "cell_type": "code",
   "execution_count": null,
   "metadata": {},
   "outputs": [],
   "source": [
    "#Receive Date\n",
    "df_off_coupon.loc[:,('Weekend')]  = np.where((df_off_coupon.loc[:,('Date_received')] .dt.dayofweek) < 5,0,1)\n",
    "df_off_coupon.loc[:,('DayOfWeek')] = df_off_coupon.loc[:,('Date_received')].dt.dayofweek\n",
    "df_off_coupon.loc[:,('Month')]  = (df_off_coupon.loc[:,('Date_received')]).dt.month\n",
    "\n",
    "#Purchase Date\n",
    "df_off_redeem_coupon.loc[:,('Weekend_p')]  = np.where((df_off_redeem_coupon.loc[:,('Date')] .dt.dayofweek) < 5,0,1)\n",
    "df_off_redeem_coupon.loc[:,('DayOfWeek_p')] = df_off_redeem_coupon.loc[:,('Date')].dt.dayofweek\n",
    "df_off_redeem_coupon.loc[:,('Month_p')]  = (df_off_redeem_coupon.loc[:,('Date')]).dt.month\n",
    "\n",
    "df_off_redeem_coupon.head()\n"
   ]
  },
  {
   "cell_type": "code",
   "execution_count": null,
   "metadata": {},
   "outputs": [],
   "source": [
    "fig,(ax1,ax2) = plt.subplots(nrows=1,ncols=2,figsize=(20,10))\n",
    "plt.subplot(121)\n",
    "# plt.figure(figsize=(7,4))\n",
    "ax1 = sns.countplot(df_off_coupon['Weekend'])\n",
    "ax1.set_xticklabels(['Weekdays','Weekend'],rotation=90)\n",
    "for p in ax1.patches:\n",
    "        ax1.annotate('{:.0f}'.format(p.get_height()), (p.get_x()+0.1, p.get_height()+50))\n",
    "\n",
    "plt.title('Number of Releases and Weekends')\n",
    "\n",
    "plt.subplot(122)\n",
    "# plt.figure(figsize=(7,4))\n",
    "ax2 = sns.countplot(df_off_redeem_coupon['Weekend_p'])\n",
    "ax2.set_xticklabels(['Weekdays','Weekend'],rotation=90)\n",
    "for p in ax2.patches:\n",
    "        ax2.annotate('{:.0f}'.format(p.get_height()), (p.get_x()+0.1, p.get_height()+50))\n",
    "plt.title('Count of Redemption and Weekends')\n",
    "\n",
    "plt.show()"
   ]
  },
  {
   "cell_type": "code",
   "execution_count": null,
   "metadata": {},
   "outputs": [],
   "source": [
    "fig,(ax1,ax2) = plt.subplots(nrows=1,ncols=2,figsize=(20,10))\n",
    "plt.subplot(121)\n",
    "# plt.figure(figsize=(7,4))\n",
    "ax1 = sns.countplot(df_off_coupon['DayOfWeek'])\n",
    "ax1.set_xticklabels(['MON','TUE','WED','THUR','FRI','SAT','SUN'],rotation=90)\n",
    "for p in ax1.patches:\n",
    "        ax1.annotate('{:.0f}'.format(p.get_height()), (p.get_x()+0.1, p.get_height()+50))\n",
    "\n",
    "plt.title('Number of Releases and Days')\n",
    "\n",
    "plt.subplot(122)\n",
    "# plt.figure(figsize=(7,4))\n",
    "ax2 = sns.countplot(df_off_redeem_coupon['DayOfWeek_p'])\n",
    "ax2.set_xticklabels(['MON','TUE','WED','THUR','FRI','SAT','SUN'],rotation=90)\n",
    "for p in ax2.patches:\n",
    "        ax2.annotate('{:.0f}'.format(p.get_height()), (p.get_x()+0.1, p.get_height()+50))\n",
    "plt.title('Count of Redemption and Days')\n",
    "\n",
    "plt.show()"
   ]
  },
  {
   "cell_type": "code",
   "execution_count": null,
   "metadata": {},
   "outputs": [],
   "source": [
    "fig,(ax1,ax2) = plt.subplots(nrows=1,ncols=2,figsize=(20,10))\n",
    "plt.subplot(121)\n",
    "# plt.figure(figsize=(7,4))\n",
    "ax1 = sns.countplot(df_off_coupon['Month'])\n",
    "ax1.set_xticklabels(['JAN','FEB','MAR','APR','MAY','JUN'],rotation=90)\n",
    "for p in ax1.patches:\n",
    "        ax1.annotate('{:.0f}'.format(p.get_height()), (p.get_x()+0.1, p.get_height()+50))\n",
    "\n",
    "plt.title('Number of Releases and Months')\n",
    "\n",
    "plt.subplot(122)\n",
    "# plt.figure(figsize=(7,4))\n",
    "ax2 = sns.countplot(df_off_redeem_coupon['Month_p'])\n",
    "ax2.set_xticklabels(['JAN','FEB','MAR','APR','MAY','JUN'],rotation=90)\n",
    "for p in ax2.patches:\n",
    "        ax2.annotate('{:.0f}'.format(p.get_height()), (p.get_x()+0.1, p.get_height()+50))\n",
    "plt.title('Count of Redemption and Months')\n",
    "\n",
    "plt.show()"
   ]
  },
  {
   "cell_type": "markdown",
   "metadata": {},
   "source": [
    "## Feature Engineering"
   ]
  },
  {
   "cell_type": "code",
   "execution_count": null,
   "metadata": {},
   "outputs": [],
   "source": []
  }
 ],
 "metadata": {
  "kernelspec": {
   "display_name": "Python 3",
   "language": "python",
   "name": "python3"
  },
  "language_info": {
   "codemirror_mode": {
    "name": "ipython",
    "version": 3
   },
   "file_extension": ".py",
   "mimetype": "text/x-python",
   "name": "python",
   "nbconvert_exporter": "python",
   "pygments_lexer": "ipython3",
   "version": "3.7.4"
  }
 },
 "nbformat": 4,
 "nbformat_minor": 2
}
