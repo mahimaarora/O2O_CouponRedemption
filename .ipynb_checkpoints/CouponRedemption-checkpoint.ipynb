{
 "cells": [
  {
   "cell_type": "markdown",
   "metadata": {},
   "source": [
    "### Background\n",
    "As smart phone penetration reaches the hundreds of millions mark, O2O (Online to Offline) requires businesses to have a strong presence both offline and online. APPs with O2O capabilities accumulate daily consumer behaviour and location data that require big data and commercial operations management. The competition at hand focuses on coupon redemption rates. Sending coupons is a general O2O marketing tool used to activate existing customers and attract new ones. While customers are happy to receive coupons that they want, they are frustrated when receiving coupons that they do not need. For merchants, sending unwanted coupons may erode brand equity and hinder marketing expense forecasting. Targeted marketing is an important technology to increase the coupon redemption rate, providing relevant discounts to customers and effective marketing tools to businesses. The competition provides participants with abundant O2O data in this field and expects contestants to predict whether the customer will use the coupon within a specified time frame.\n",
    "### Data\n",
    "This competition provides real online and offline user consumption data from January 1, 2016 to June 30, 2016. The contestants are expected to predict the probability of customers redeeming a coupon within 15 days of receiving it.\n",
    "Note: To protect the privacy of users and merchants, data is desensitized and under biased sampling.\n",
    "### Evaluation\n",
    "The results are evaluated based on the average AUC value. That is, the AUC value is calculated for every coupon_id. The average of each AUC value is the evaluation score. More information on AUC value calculation method on wikipedia.\n"
   ]
  },
  {
   "cell_type": "code",
   "execution_count": 1,
   "metadata": {},
   "outputs": [],
   "source": [
    "%matplotlib inline\n",
    "import pandas as pd\n",
    "import numpy as np\n",
    "import matplotlib.pyplot as plt\n",
    "import seaborn as sns\n",
    "import math"
   ]
  },
  {
   "cell_type": "markdown",
   "metadata": {},
   "source": [
    "### Online and Offline Training data"
   ]
  },
  {
   "cell_type": "code",
   "execution_count": 2,
   "metadata": {},
   "outputs": [],
   "source": [
    "df_on = pd.read_csv('ccf_online_stage1_train.csv')\n",
    "df_off = pd.read_csv('ccf_offline_stage1_train.csv')"
   ]
  },
  {
   "cell_type": "code",
   "execution_count": 3,
   "metadata": {},
   "outputs": [
    {
     "name": "stdout",
     "output_type": "stream",
     "text": [
      "Online Training Data Sample\n",
      "Shape:(11429826, 7)\n"
     ]
    },
    {
     "data": {
      "text/html": [
       "<div>\n",
       "<style scoped>\n",
       "    .dataframe tbody tr th:only-of-type {\n",
       "        vertical-align: middle;\n",
       "    }\n",
       "\n",
       "    .dataframe tbody tr th {\n",
       "        vertical-align: top;\n",
       "    }\n",
       "\n",
       "    .dataframe thead th {\n",
       "        text-align: right;\n",
       "    }\n",
       "</style>\n",
       "<table border=\"1\" class=\"dataframe\">\n",
       "  <thead>\n",
       "    <tr style=\"text-align: right;\">\n",
       "      <th></th>\n",
       "      <th>User_id</th>\n",
       "      <th>Merchant_id</th>\n",
       "      <th>Action</th>\n",
       "      <th>Coupon_id</th>\n",
       "      <th>Discount_rate</th>\n",
       "      <th>Date_received</th>\n",
       "      <th>Date</th>\n",
       "    </tr>\n",
       "  </thead>\n",
       "  <tbody>\n",
       "    <tr>\n",
       "      <td>0</td>\n",
       "      <td>13740231</td>\n",
       "      <td>18907</td>\n",
       "      <td>2</td>\n",
       "      <td>100017492</td>\n",
       "      <td>500:50</td>\n",
       "      <td>20160513.0</td>\n",
       "      <td>NaN</td>\n",
       "    </tr>\n",
       "    <tr>\n",
       "      <td>1</td>\n",
       "      <td>13740231</td>\n",
       "      <td>34805</td>\n",
       "      <td>1</td>\n",
       "      <td>NaN</td>\n",
       "      <td>NaN</td>\n",
       "      <td>NaN</td>\n",
       "      <td>20160321.0</td>\n",
       "    </tr>\n",
       "    <tr>\n",
       "      <td>2</td>\n",
       "      <td>14336199</td>\n",
       "      <td>18907</td>\n",
       "      <td>0</td>\n",
       "      <td>NaN</td>\n",
       "      <td>NaN</td>\n",
       "      <td>NaN</td>\n",
       "      <td>20160618.0</td>\n",
       "    </tr>\n",
       "    <tr>\n",
       "      <td>3</td>\n",
       "      <td>14336199</td>\n",
       "      <td>18907</td>\n",
       "      <td>0</td>\n",
       "      <td>NaN</td>\n",
       "      <td>NaN</td>\n",
       "      <td>NaN</td>\n",
       "      <td>20160618.0</td>\n",
       "    </tr>\n",
       "    <tr>\n",
       "      <td>4</td>\n",
       "      <td>14336199</td>\n",
       "      <td>18907</td>\n",
       "      <td>0</td>\n",
       "      <td>NaN</td>\n",
       "      <td>NaN</td>\n",
       "      <td>NaN</td>\n",
       "      <td>20160618.0</td>\n",
       "    </tr>\n",
       "  </tbody>\n",
       "</table>\n",
       "</div>"
      ],
      "text/plain": [
       "    User_id  Merchant_id  Action  Coupon_id Discount_rate  Date_received  \\\n",
       "0  13740231        18907       2  100017492        500:50     20160513.0   \n",
       "1  13740231        34805       1        NaN           NaN            NaN   \n",
       "2  14336199        18907       0        NaN           NaN            NaN   \n",
       "3  14336199        18907       0        NaN           NaN            NaN   \n",
       "4  14336199        18907       0        NaN           NaN            NaN   \n",
       "\n",
       "         Date  \n",
       "0         NaN  \n",
       "1  20160321.0  \n",
       "2  20160618.0  \n",
       "3  20160618.0  \n",
       "4  20160618.0  "
      ]
     },
     "execution_count": 3,
     "metadata": {},
     "output_type": "execute_result"
    }
   ],
   "source": [
    "print(\"Online Training Data Sample\\nShape:\"+str(df_on.shape))\n",
    "df_on.head()"
   ]
  },
  {
   "cell_type": "code",
   "execution_count": 4,
   "metadata": {},
   "outputs": [
    {
     "name": "stdout",
     "output_type": "stream",
     "text": [
      "Offline Training Data Sample\n",
      "Shape:(1754884, 7)\n"
     ]
    },
    {
     "data": {
      "text/html": [
       "<div>\n",
       "<style scoped>\n",
       "    .dataframe tbody tr th:only-of-type {\n",
       "        vertical-align: middle;\n",
       "    }\n",
       "\n",
       "    .dataframe tbody tr th {\n",
       "        vertical-align: top;\n",
       "    }\n",
       "\n",
       "    .dataframe thead th {\n",
       "        text-align: right;\n",
       "    }\n",
       "</style>\n",
       "<table border=\"1\" class=\"dataframe\">\n",
       "  <thead>\n",
       "    <tr style=\"text-align: right;\">\n",
       "      <th></th>\n",
       "      <th>User_id</th>\n",
       "      <th>Merchant_id</th>\n",
       "      <th>Coupon_id</th>\n",
       "      <th>Discount_rate</th>\n",
       "      <th>Distance</th>\n",
       "      <th>Date_received</th>\n",
       "      <th>Date</th>\n",
       "    </tr>\n",
       "  </thead>\n",
       "  <tbody>\n",
       "    <tr>\n",
       "      <td>0</td>\n",
       "      <td>1439408</td>\n",
       "      <td>2632</td>\n",
       "      <td>NaN</td>\n",
       "      <td>NaN</td>\n",
       "      <td>0.0</td>\n",
       "      <td>NaN</td>\n",
       "      <td>20160217.0</td>\n",
       "    </tr>\n",
       "    <tr>\n",
       "      <td>1</td>\n",
       "      <td>1439408</td>\n",
       "      <td>4663</td>\n",
       "      <td>11002.0</td>\n",
       "      <td>150:20</td>\n",
       "      <td>1.0</td>\n",
       "      <td>20160528.0</td>\n",
       "      <td>NaN</td>\n",
       "    </tr>\n",
       "    <tr>\n",
       "      <td>2</td>\n",
       "      <td>1439408</td>\n",
       "      <td>2632</td>\n",
       "      <td>8591.0</td>\n",
       "      <td>20:1</td>\n",
       "      <td>0.0</td>\n",
       "      <td>20160217.0</td>\n",
       "      <td>NaN</td>\n",
       "    </tr>\n",
       "    <tr>\n",
       "      <td>3</td>\n",
       "      <td>1439408</td>\n",
       "      <td>2632</td>\n",
       "      <td>1078.0</td>\n",
       "      <td>20:1</td>\n",
       "      <td>0.0</td>\n",
       "      <td>20160319.0</td>\n",
       "      <td>NaN</td>\n",
       "    </tr>\n",
       "    <tr>\n",
       "      <td>4</td>\n",
       "      <td>1439408</td>\n",
       "      <td>2632</td>\n",
       "      <td>8591.0</td>\n",
       "      <td>20:1</td>\n",
       "      <td>0.0</td>\n",
       "      <td>20160613.0</td>\n",
       "      <td>NaN</td>\n",
       "    </tr>\n",
       "  </tbody>\n",
       "</table>\n",
       "</div>"
      ],
      "text/plain": [
       "   User_id  Merchant_id  Coupon_id Discount_rate  Distance  Date_received  \\\n",
       "0  1439408         2632        NaN           NaN       0.0            NaN   \n",
       "1  1439408         4663    11002.0        150:20       1.0     20160528.0   \n",
       "2  1439408         2632     8591.0          20:1       0.0     20160217.0   \n",
       "3  1439408         2632     1078.0          20:1       0.0     20160319.0   \n",
       "4  1439408         2632     8591.0          20:1       0.0     20160613.0   \n",
       "\n",
       "         Date  \n",
       "0  20160217.0  \n",
       "1         NaN  \n",
       "2         NaN  \n",
       "3         NaN  \n",
       "4         NaN  "
      ]
     },
     "execution_count": 4,
     "metadata": {},
     "output_type": "execute_result"
    }
   ],
   "source": [
    "print(\"Offline Training Data Sample\\nShape:\"+str(df_off.shape))\n",
    "df_off.head()"
   ]
  },
  {
   "cell_type": "markdown",
   "metadata": {},
   "source": [
    "### Test Data (Offline)"
   ]
  },
  {
   "cell_type": "code",
   "execution_count": 5,
   "metadata": {},
   "outputs": [
    {
     "name": "stdout",
     "output_type": "stream",
     "text": [
      "Testing Data(Offline) Sample\n",
      "Shape:(113640, 6)\n"
     ]
    },
    {
     "data": {
      "text/html": [
       "<div>\n",
       "<style scoped>\n",
       "    .dataframe tbody tr th:only-of-type {\n",
       "        vertical-align: middle;\n",
       "    }\n",
       "\n",
       "    .dataframe tbody tr th {\n",
       "        vertical-align: top;\n",
       "    }\n",
       "\n",
       "    .dataframe thead th {\n",
       "        text-align: right;\n",
       "    }\n",
       "</style>\n",
       "<table border=\"1\" class=\"dataframe\">\n",
       "  <thead>\n",
       "    <tr style=\"text-align: right;\">\n",
       "      <th></th>\n",
       "      <th>User_id</th>\n",
       "      <th>Merchant_id</th>\n",
       "      <th>Coupon_id</th>\n",
       "      <th>Discount_rate</th>\n",
       "      <th>Distance</th>\n",
       "      <th>Date_received</th>\n",
       "    </tr>\n",
       "  </thead>\n",
       "  <tbody>\n",
       "    <tr>\n",
       "      <td>0</td>\n",
       "      <td>4129537</td>\n",
       "      <td>450</td>\n",
       "      <td>9983</td>\n",
       "      <td>30:5</td>\n",
       "      <td>1.0</td>\n",
       "      <td>20160712</td>\n",
       "    </tr>\n",
       "    <tr>\n",
       "      <td>1</td>\n",
       "      <td>6949378</td>\n",
       "      <td>1300</td>\n",
       "      <td>3429</td>\n",
       "      <td>30:5</td>\n",
       "      <td>NaN</td>\n",
       "      <td>20160706</td>\n",
       "    </tr>\n",
       "    <tr>\n",
       "      <td>2</td>\n",
       "      <td>2166529</td>\n",
       "      <td>7113</td>\n",
       "      <td>6928</td>\n",
       "      <td>200:20</td>\n",
       "      <td>5.0</td>\n",
       "      <td>20160727</td>\n",
       "    </tr>\n",
       "    <tr>\n",
       "      <td>3</td>\n",
       "      <td>2166529</td>\n",
       "      <td>7113</td>\n",
       "      <td>1808</td>\n",
       "      <td>100:10</td>\n",
       "      <td>5.0</td>\n",
       "      <td>20160727</td>\n",
       "    </tr>\n",
       "    <tr>\n",
       "      <td>4</td>\n",
       "      <td>6172162</td>\n",
       "      <td>7605</td>\n",
       "      <td>6500</td>\n",
       "      <td>30:1</td>\n",
       "      <td>2.0</td>\n",
       "      <td>20160708</td>\n",
       "    </tr>\n",
       "  </tbody>\n",
       "</table>\n",
       "</div>"
      ],
      "text/plain": [
       "   User_id  Merchant_id  Coupon_id Discount_rate  Distance  Date_received\n",
       "0  4129537          450       9983          30:5       1.0       20160712\n",
       "1  6949378         1300       3429          30:5       NaN       20160706\n",
       "2  2166529         7113       6928        200:20       5.0       20160727\n",
       "3  2166529         7113       1808        100:10       5.0       20160727\n",
       "4  6172162         7605       6500          30:1       2.0       20160708"
      ]
     },
     "execution_count": 5,
     "metadata": {},
     "output_type": "execute_result"
    }
   ],
   "source": [
    "df_test = pd.read_csv('ccf_offline_stage1_test_revised.csv')\n",
    "print(\"Testing Data(Offline) Sample\\nShape:\"+str(df_test.shape))\n",
    "df_test.head()"
   ]
  },
  {
   "cell_type": "markdown",
   "metadata": {},
   "source": [
    "#### Converting Date to DateTime format"
   ]
  },
  {
   "cell_type": "code",
   "execution_count": 6,
   "metadata": {},
   "outputs": [],
   "source": [
    "#Online Training Data\n",
    "df_on['Date'] = pd.to_datetime(df_on[\"Date\"],format='%Y%m%d')\n",
    "df_on['Date_received'] = pd.to_datetime(df_on[\"Date_received\"],format='%Y%m%d')\n",
    "\n",
    "#Offline Training Data\n",
    "df_off['Date'] = pd.to_datetime(df_off[\"Date\"],format='%Y%m%d')\n",
    "df_off['Date_received'] = pd.to_datetime(df_off[\"Date_received\"],format='%Y%m%d')\n",
    "\n",
    "#Testing Data\n",
    "df_test['Date_received'] = pd.to_datetime(df_test[\"Date_received\"],format='%Y%m%d')"
   ]
  },
  {
   "cell_type": "markdown",
   "metadata": {},
   "source": [
    "### Removing Duplicates from Online and Offline Training Data"
   ]
  },
  {
   "cell_type": "code",
   "execution_count": 7,
   "metadata": {},
   "outputs": [
    {
     "name": "stdout",
     "output_type": "stream",
     "text": [
      "Online Training Data Shape:(5822543, 8)\n"
     ]
    }
   ],
   "source": [
    "#Removing duplicates and giving frequency counts(Count) to each row\n",
    "\n",
    "#Online\n",
    "x = 'g8h.|$hTdo+jC9^@'    \n",
    "df_on_unique = (df_on.fillna(x).groupby(['User_id', 'Merchant_id', 'Action', 'Coupon_id', 'Discount_rate',\n",
    "       'Date_received', 'Date']).size().reset_index()\n",
    "               .rename(columns={0 : 'Count'}).replace(x,np.NaN))\n",
    "df_on_unique[\"Date_received\"]=pd.to_datetime(df_on_unique[\"Date_received\"])\n",
    "df_on_unique[\"Date\"]=pd.to_datetime(df_on_unique[\"Date\"])\n",
    "\n",
    "print(\"Online Training Data Shape:\"+str(df_on_unique.shape))"
   ]
  },
  {
   "cell_type": "code",
   "execution_count": 8,
   "metadata": {},
   "outputs": [
    {
     "name": "stdout",
     "output_type": "stream",
     "text": [
      "Offline Training Data Shape:(1716991, 8)\n"
     ]
    }
   ],
   "source": [
    "#Offline\n",
    "x = 'g8h.|$hTdo+jC9^@'   #garbage value for nan values \n",
    "df_off_unique = (df_off.fillna(x).groupby(['User_id', 'Merchant_id', 'Coupon_id', 'Discount_rate', 'Distance',\n",
    "       'Date_received', 'Date']).size().reset_index()\n",
    "               .rename(columns={0 : 'Count'}).replace(x,np.NaN))\n",
    "df_off_unique[\"Date_received\"]=pd.to_datetime(df_off_unique[\"Date_received\"])\n",
    "df_off_unique[\"Date\"]=pd.to_datetime(df_off_unique[\"Date\"])\n",
    "\n",
    "print(\"Offline Training Data Shape:\"+str(df_off_unique.shape))"
   ]
  },
  {
   "cell_type": "markdown",
   "metadata": {},
   "source": [
    "### Converting Discount Ratio to Rate"
   ]
  },
  {
   "cell_type": "code",
   "execution_count": 9,
   "metadata": {},
   "outputs": [],
   "source": [
    "#Funtion to convert discount ratio to discount rate\n",
    "def convert_discount(discount):\n",
    "    values = []\n",
    "    for i in discount:\n",
    "        if ':' in i:\n",
    "            i = i.split(':')\n",
    "            rate = round((int(i[0]) - int(i[1]))/int(i[0]),3)\n",
    "            values.append([int(i[0]),int(i[1]),rate])\n",
    "        elif '.' in i:\n",
    "            i = float(i)\n",
    "            x = 100*i\n",
    "            values.append([100,int(100-x),i])\n",
    "            \n",
    "    discounts = dict(zip(discount,values))      \n",
    "    return discounts\n",
    "    \n",
    "\n",
    "# convert_discount(list(df_of['Discount_rate']))"
   ]
  },
  {
   "cell_type": "code",
   "execution_count": 70,
   "metadata": {},
   "outputs": [
    {
     "data": {
      "text/html": [
       "<div>\n",
       "<style scoped>\n",
       "    .dataframe tbody tr th:only-of-type {\n",
       "        vertical-align: middle;\n",
       "    }\n",
       "\n",
       "    .dataframe tbody tr th {\n",
       "        vertical-align: top;\n",
       "    }\n",
       "\n",
       "    .dataframe thead th {\n",
       "        text-align: right;\n",
       "    }\n",
       "</style>\n",
       "<table border=\"1\" class=\"dataframe\">\n",
       "  <thead>\n",
       "    <tr style=\"text-align: right;\">\n",
       "      <th></th>\n",
       "      <th>User_id</th>\n",
       "      <th>Merchant_id</th>\n",
       "      <th>Action</th>\n",
       "      <th>Coupon_id</th>\n",
       "      <th>Discount_rate</th>\n",
       "      <th>Date_received</th>\n",
       "      <th>Date</th>\n",
       "      <th>Count</th>\n",
       "      <th>Discount</th>\n",
       "      <th>Original_price</th>\n",
       "      <th>Discounted_price</th>\n",
       "      <th>Rate</th>\n",
       "    </tr>\n",
       "  </thead>\n",
       "  <tbody>\n",
       "    <tr>\n",
       "      <td>0</td>\n",
       "      <td>4</td>\n",
       "      <td>25104</td>\n",
       "      <td>2</td>\n",
       "      <td>100145044</td>\n",
       "      <td>[100, 10, 0.9]</td>\n",
       "      <td>2016-03-31</td>\n",
       "      <td>NaT</td>\n",
       "      <td>1</td>\n",
       "      <td>100:10</td>\n",
       "      <td>100</td>\n",
       "      <td>10</td>\n",
       "      <td>0.900</td>\n",
       "    </tr>\n",
       "    <tr>\n",
       "      <td>14</td>\n",
       "      <td>209</td>\n",
       "      <td>27710</td>\n",
       "      <td>1</td>\n",
       "      <td>100081876</td>\n",
       "      <td>[150, 10, 0.933]</td>\n",
       "      <td>2016-05-14</td>\n",
       "      <td>2016-05-14</td>\n",
       "      <td>1</td>\n",
       "      <td>150:10</td>\n",
       "      <td>150</td>\n",
       "      <td>10</td>\n",
       "      <td>0.933</td>\n",
       "    </tr>\n",
       "    <tr>\n",
       "      <td>44</td>\n",
       "      <td>236</td>\n",
       "      <td>53305</td>\n",
       "      <td>2</td>\n",
       "      <td>100075632</td>\n",
       "      <td>[200, 10, 0.95]</td>\n",
       "      <td>2016-02-21</td>\n",
       "      <td>NaT</td>\n",
       "      <td>1</td>\n",
       "      <td>200:10</td>\n",
       "      <td>200</td>\n",
       "      <td>10</td>\n",
       "      <td>0.950</td>\n",
       "    </tr>\n",
       "    <tr>\n",
       "      <td>45</td>\n",
       "      <td>236</td>\n",
       "      <td>53305</td>\n",
       "      <td>2</td>\n",
       "      <td>100181719</td>\n",
       "      <td>[50, 1, 0.98]</td>\n",
       "      <td>2016-02-21</td>\n",
       "      <td>NaT</td>\n",
       "      <td>1</td>\n",
       "      <td>50:1</td>\n",
       "      <td>50</td>\n",
       "      <td>1</td>\n",
       "      <td>0.980</td>\n",
       "    </tr>\n",
       "    <tr>\n",
       "      <td>46</td>\n",
       "      <td>236</td>\n",
       "      <td>53305</td>\n",
       "      <td>2</td>\n",
       "      <td>100214552</td>\n",
       "      <td>[150, 5, 0.967]</td>\n",
       "      <td>2016-02-21</td>\n",
       "      <td>NaT</td>\n",
       "      <td>1</td>\n",
       "      <td>150:5</td>\n",
       "      <td>150</td>\n",
       "      <td>5</td>\n",
       "      <td>0.967</td>\n",
       "    </tr>\n",
       "  </tbody>\n",
       "</table>\n",
       "</div>"
      ],
      "text/plain": [
       "    User_id  Merchant_id  Action  Coupon_id     Discount_rate Date_received  \\\n",
       "0         4        25104       2  100145044    [100, 10, 0.9]    2016-03-31   \n",
       "14      209        27710       1  100081876  [150, 10, 0.933]    2016-05-14   \n",
       "44      236        53305       2  100075632   [200, 10, 0.95]    2016-02-21   \n",
       "45      236        53305       2  100181719     [50, 1, 0.98]    2016-02-21   \n",
       "46      236        53305       2  100214552   [150, 5, 0.967]    2016-02-21   \n",
       "\n",
       "         Date  Count Discount  Original_price  Discounted_price   Rate  \n",
       "0         NaT      1   100:10             100                10  0.900  \n",
       "14 2016-05-14      1   150:10             150                10  0.933  \n",
       "44        NaT      1   200:10             200                10  0.950  \n",
       "45        NaT      1     50:1              50                 1  0.980  \n",
       "46        NaT      1    150:5             150                 5  0.967  "
      ]
     },
     "execution_count": 70,
     "metadata": {},
     "output_type": "execute_result"
    }
   ],
   "source": [
    "#ONLINE DATA\n",
    "df_on_coupon = df_on_unique[(df_on_unique['Coupon_id'].isna()==False) & (df_on_unique['Coupon_id']!='fixed')]\n",
    "discounts_online = list(df_on_coupon['Discount_rate'].unique())\n",
    "df_on_coupon.loc[:,('Discount')] = df_on_coupon.loc[:,('Discount_rate')] \n",
    "df_on_coupon.loc[:,('Discount_rate')] = df_on_coupon.loc[:,('Discount')].map(convert_discount(discounts_online))\n",
    "df_on_coupon[['Original_price','Discounted_price','Rate']] = pd.DataFrame(df_on_coupon.Discount_rate.values.tolist(), index= df_on_coupon.index)\n",
    "df_on_coupon.head()"
   ]
  },
  {
   "cell_type": "code",
   "execution_count": 11,
   "metadata": {},
   "outputs": [
    {
     "data": {
      "text/html": [
       "<div>\n",
       "<style scoped>\n",
       "    .dataframe tbody tr th:only-of-type {\n",
       "        vertical-align: middle;\n",
       "    }\n",
       "\n",
       "    .dataframe tbody tr th {\n",
       "        vertical-align: top;\n",
       "    }\n",
       "\n",
       "    .dataframe thead th {\n",
       "        text-align: right;\n",
       "    }\n",
       "</style>\n",
       "<table border=\"1\" class=\"dataframe\">\n",
       "  <thead>\n",
       "    <tr style=\"text-align: right;\">\n",
       "      <th></th>\n",
       "      <th>User_id</th>\n",
       "      <th>Merchant_id</th>\n",
       "      <th>Coupon_id</th>\n",
       "      <th>Discount_rate</th>\n",
       "      <th>Distance</th>\n",
       "      <th>Date_received</th>\n",
       "      <th>Date</th>\n",
       "      <th>Count</th>\n",
       "      <th>Discount</th>\n",
       "      <th>Original_price</th>\n",
       "      <th>Discounted_price</th>\n",
       "      <th>Rate</th>\n",
       "    </tr>\n",
       "  </thead>\n",
       "  <tbody>\n",
       "    <tr>\n",
       "      <td>0</td>\n",
       "      <td>4</td>\n",
       "      <td>1433</td>\n",
       "      <td>8735.0</td>\n",
       "      <td>[30, 5, 0.833]</td>\n",
       "      <td>10.0</td>\n",
       "      <td>2016-02-14</td>\n",
       "      <td>NaT</td>\n",
       "      <td>1</td>\n",
       "      <td>30:5</td>\n",
       "      <td>30</td>\n",
       "      <td>5</td>\n",
       "      <td>0.833</td>\n",
       "    </tr>\n",
       "    <tr>\n",
       "      <td>1</td>\n",
       "      <td>4</td>\n",
       "      <td>1469</td>\n",
       "      <td>2902.0</td>\n",
       "      <td>[100, 5, 0.95]</td>\n",
       "      <td>10.0</td>\n",
       "      <td>2016-06-07</td>\n",
       "      <td>NaT</td>\n",
       "      <td>1</td>\n",
       "      <td>0.95</td>\n",
       "      <td>100</td>\n",
       "      <td>5</td>\n",
       "      <td>0.950</td>\n",
       "    </tr>\n",
       "    <tr>\n",
       "      <td>2</td>\n",
       "      <td>35</td>\n",
       "      <td>3381</td>\n",
       "      <td>1807.0</td>\n",
       "      <td>[300, 30, 0.9]</td>\n",
       "      <td>0.0</td>\n",
       "      <td>2016-01-30</td>\n",
       "      <td>NaT</td>\n",
       "      <td>1</td>\n",
       "      <td>300:30</td>\n",
       "      <td>300</td>\n",
       "      <td>30</td>\n",
       "      <td>0.900</td>\n",
       "    </tr>\n",
       "    <tr>\n",
       "      <td>3</td>\n",
       "      <td>35</td>\n",
       "      <td>3381</td>\n",
       "      <td>9776.0</td>\n",
       "      <td>[10, 5, 0.5]</td>\n",
       "      <td>0.0</td>\n",
       "      <td>2016-01-29</td>\n",
       "      <td>NaT</td>\n",
       "      <td>1</td>\n",
       "      <td>10:5</td>\n",
       "      <td>10</td>\n",
       "      <td>5</td>\n",
       "      <td>0.500</td>\n",
       "    </tr>\n",
       "    <tr>\n",
       "      <td>4</td>\n",
       "      <td>35</td>\n",
       "      <td>3381</td>\n",
       "      <td>11951.0</td>\n",
       "      <td>[200, 20, 0.9]</td>\n",
       "      <td>0.0</td>\n",
       "      <td>2016-01-29</td>\n",
       "      <td>NaT</td>\n",
       "      <td>1</td>\n",
       "      <td>200:20</td>\n",
       "      <td>200</td>\n",
       "      <td>20</td>\n",
       "      <td>0.900</td>\n",
       "    </tr>\n",
       "  </tbody>\n",
       "</table>\n",
       "</div>"
      ],
      "text/plain": [
       "   User_id  Merchant_id  Coupon_id   Discount_rate  Distance Date_received  \\\n",
       "0        4         1433     8735.0  [30, 5, 0.833]      10.0    2016-02-14   \n",
       "1        4         1469     2902.0  [100, 5, 0.95]      10.0    2016-06-07   \n",
       "2       35         3381     1807.0  [300, 30, 0.9]       0.0    2016-01-30   \n",
       "3       35         3381     9776.0    [10, 5, 0.5]       0.0    2016-01-29   \n",
       "4       35         3381    11951.0  [200, 20, 0.9]       0.0    2016-01-29   \n",
       "\n",
       "  Date  Count Discount  Original_price  Discounted_price   Rate  \n",
       "0  NaT      1     30:5              30                 5  0.833  \n",
       "1  NaT      1     0.95             100                 5  0.950  \n",
       "2  NaT      1   300:30             300                30  0.900  \n",
       "3  NaT      1     10:5              10                 5  0.500  \n",
       "4  NaT      1   200:20             200                20  0.900  "
      ]
     },
     "execution_count": 11,
     "metadata": {},
     "output_type": "execute_result"
    }
   ],
   "source": [
    "#OFFLINE DATA\n",
    "df_off_coupon = df_off_unique[(df_off_unique['Coupon_id'].isna()==False)].copy()\n",
    "discounts_offline = list(df_off_coupon['Discount_rate'].unique())\n",
    "df_off_coupon.loc[:,('Discount')] = df_off_coupon.loc[:,('Discount_rate')] \n",
    "df_off_coupon['Discount_rate'] = df_off_coupon['Discount'].map(convert_discount(discounts_offline))\n",
    "df_off_coupon[['Original_price','Discounted_price','Rate']] = pd.DataFrame(df_off_coupon.Discount_rate.values.tolist(), index= df_off_coupon.index)\n",
    "df_off_coupon.head()"
   ]
  },
  {
   "cell_type": "code",
   "execution_count": 12,
   "metadata": {},
   "outputs": [
    {
     "data": {
      "text/html": [
       "<div>\n",
       "<style scoped>\n",
       "    .dataframe tbody tr th:only-of-type {\n",
       "        vertical-align: middle;\n",
       "    }\n",
       "\n",
       "    .dataframe tbody tr th {\n",
       "        vertical-align: top;\n",
       "    }\n",
       "\n",
       "    .dataframe thead th {\n",
       "        text-align: right;\n",
       "    }\n",
       "</style>\n",
       "<table border=\"1\" class=\"dataframe\">\n",
       "  <thead>\n",
       "    <tr style=\"text-align: right;\">\n",
       "      <th></th>\n",
       "      <th>User_id</th>\n",
       "      <th>Merchant_id</th>\n",
       "      <th>Coupon_id</th>\n",
       "      <th>Discount_rate</th>\n",
       "      <th>Distance</th>\n",
       "      <th>Date_received</th>\n",
       "      <th>Discount</th>\n",
       "      <th>Original_price</th>\n",
       "      <th>Discounted_price</th>\n",
       "      <th>Rate</th>\n",
       "    </tr>\n",
       "  </thead>\n",
       "  <tbody>\n",
       "    <tr>\n",
       "      <td>0</td>\n",
       "      <td>4129537</td>\n",
       "      <td>450</td>\n",
       "      <td>9983</td>\n",
       "      <td>[30, 5, 0.833]</td>\n",
       "      <td>1.0</td>\n",
       "      <td>2016-07-12</td>\n",
       "      <td>30:5</td>\n",
       "      <td>30</td>\n",
       "      <td>5</td>\n",
       "      <td>0.833</td>\n",
       "    </tr>\n",
       "    <tr>\n",
       "      <td>1</td>\n",
       "      <td>6949378</td>\n",
       "      <td>1300</td>\n",
       "      <td>3429</td>\n",
       "      <td>[30, 5, 0.833]</td>\n",
       "      <td>NaN</td>\n",
       "      <td>2016-07-06</td>\n",
       "      <td>30:5</td>\n",
       "      <td>30</td>\n",
       "      <td>5</td>\n",
       "      <td>0.833</td>\n",
       "    </tr>\n",
       "    <tr>\n",
       "      <td>2</td>\n",
       "      <td>2166529</td>\n",
       "      <td>7113</td>\n",
       "      <td>6928</td>\n",
       "      <td>[200, 20, 0.9]</td>\n",
       "      <td>5.0</td>\n",
       "      <td>2016-07-27</td>\n",
       "      <td>200:20</td>\n",
       "      <td>200</td>\n",
       "      <td>20</td>\n",
       "      <td>0.900</td>\n",
       "    </tr>\n",
       "    <tr>\n",
       "      <td>3</td>\n",
       "      <td>2166529</td>\n",
       "      <td>7113</td>\n",
       "      <td>1808</td>\n",
       "      <td>[100, 10, 0.9]</td>\n",
       "      <td>5.0</td>\n",
       "      <td>2016-07-27</td>\n",
       "      <td>100:10</td>\n",
       "      <td>100</td>\n",
       "      <td>10</td>\n",
       "      <td>0.900</td>\n",
       "    </tr>\n",
       "    <tr>\n",
       "      <td>4</td>\n",
       "      <td>6172162</td>\n",
       "      <td>7605</td>\n",
       "      <td>6500</td>\n",
       "      <td>[30, 1, 0.967]</td>\n",
       "      <td>2.0</td>\n",
       "      <td>2016-07-08</td>\n",
       "      <td>30:1</td>\n",
       "      <td>30</td>\n",
       "      <td>1</td>\n",
       "      <td>0.967</td>\n",
       "    </tr>\n",
       "  </tbody>\n",
       "</table>\n",
       "</div>"
      ],
      "text/plain": [
       "   User_id  Merchant_id  Coupon_id   Discount_rate  Distance Date_received  \\\n",
       "0  4129537          450       9983  [30, 5, 0.833]       1.0    2016-07-12   \n",
       "1  6949378         1300       3429  [30, 5, 0.833]       NaN    2016-07-06   \n",
       "2  2166529         7113       6928  [200, 20, 0.9]       5.0    2016-07-27   \n",
       "3  2166529         7113       1808  [100, 10, 0.9]       5.0    2016-07-27   \n",
       "4  6172162         7605       6500  [30, 1, 0.967]       2.0    2016-07-08   \n",
       "\n",
       "  Discount  Original_price  Discounted_price   Rate  \n",
       "0     30:5              30                 5  0.833  \n",
       "1     30:5              30                 5  0.833  \n",
       "2   200:20             200                20  0.900  \n",
       "3   100:10             100                10  0.900  \n",
       "4     30:1              30                 1  0.967  "
      ]
     },
     "execution_count": 12,
     "metadata": {},
     "output_type": "execute_result"
    }
   ],
   "source": [
    "#Test Data\n",
    "df_test_coupon = df_test[df_test['Coupon_id'].isna()==False]\n",
    "discounts_test = list(df_test_coupon['Discount_rate'].unique())\n",
    "df_test_coupon.loc[:,('Discount')] = df_test_coupon.loc[:,('Discount_rate')] \n",
    "df_test_coupon['Discount_rate'] = df_test_coupon['Discount'].map(convert_discount(discounts_test))\n",
    "df_test_coupon[['Original_price','Discounted_price','Rate']] = pd.DataFrame(df_test_coupon.Discount_rate.values.tolist(), index= df_test_coupon.index)\n",
    "df_test_coupon.head()"
   ]
  },
  {
   "cell_type": "markdown",
   "metadata": {},
   "source": [
    "#### Filling Nan for Distance (OFFLINE)"
   ]
  },
  {
   "cell_type": "code",
   "execution_count": 13,
   "metadata": {},
   "outputs": [],
   "source": [
    "df_off_unique['Distance'].fillna(df_off_unique['Distance'].mean(), inplace=True)\n",
    "df_off_unique['Distance'] = df_off_unique.Distance.astype(int)"
   ]
  },
  {
   "cell_type": "markdown",
   "metadata": {},
   "source": [
    "### Training Data (Online + Offline)"
   ]
  },
  {
   "cell_type": "code",
   "execution_count": 14,
   "metadata": {},
   "outputs": [
    {
     "name": "stdout",
     "output_type": "stream",
     "text": [
      "Training Data(Offline+Online) \n",
      "Shape:(7539534, 9)\n"
     ]
    },
    {
     "data": {
      "text/html": [
       "<div>\n",
       "<style scoped>\n",
       "    .dataframe tbody tr th:only-of-type {\n",
       "        vertical-align: middle;\n",
       "    }\n",
       "\n",
       "    .dataframe tbody tr th {\n",
       "        vertical-align: top;\n",
       "    }\n",
       "\n",
       "    .dataframe thead th {\n",
       "        text-align: right;\n",
       "    }\n",
       "</style>\n",
       "<table border=\"1\" class=\"dataframe\">\n",
       "  <thead>\n",
       "    <tr style=\"text-align: right;\">\n",
       "      <th></th>\n",
       "      <th>User_id</th>\n",
       "      <th>Merchant_id</th>\n",
       "      <th>Action</th>\n",
       "      <th>Coupon_id</th>\n",
       "      <th>Discount_rate</th>\n",
       "      <th>Date_received</th>\n",
       "      <th>Date</th>\n",
       "      <th>Count</th>\n",
       "      <th>Distance</th>\n",
       "    </tr>\n",
       "  </thead>\n",
       "  <tbody>\n",
       "    <tr>\n",
       "      <td>0</td>\n",
       "      <td>4</td>\n",
       "      <td>25104</td>\n",
       "      <td>2.0</td>\n",
       "      <td>100145044</td>\n",
       "      <td>100:10</td>\n",
       "      <td>2016-03-31</td>\n",
       "      <td>NaT</td>\n",
       "      <td>1</td>\n",
       "      <td>NaN</td>\n",
       "    </tr>\n",
       "    <tr>\n",
       "      <td>1</td>\n",
       "      <td>4</td>\n",
       "      <td>1433</td>\n",
       "      <td>NaN</td>\n",
       "      <td>8735</td>\n",
       "      <td>30:5</td>\n",
       "      <td>2016-02-14</td>\n",
       "      <td>NaT</td>\n",
       "      <td>1</td>\n",
       "      <td>10.0</td>\n",
       "    </tr>\n",
       "    <tr>\n",
       "      <td>2</td>\n",
       "      <td>4</td>\n",
       "      <td>1469</td>\n",
       "      <td>NaN</td>\n",
       "      <td>2902</td>\n",
       "      <td>0.95</td>\n",
       "      <td>2016-06-07</td>\n",
       "      <td>NaT</td>\n",
       "      <td>1</td>\n",
       "      <td>10.0</td>\n",
       "    </tr>\n",
       "    <tr>\n",
       "      <td>3</td>\n",
       "      <td>4</td>\n",
       "      <td>45612</td>\n",
       "      <td>1.0</td>\n",
       "      <td>NaN</td>\n",
       "      <td>NaN</td>\n",
       "      <td>NaT</td>\n",
       "      <td>2016-03-08</td>\n",
       "      <td>1</td>\n",
       "      <td>NaN</td>\n",
       "    </tr>\n",
       "    <tr>\n",
       "      <td>4</td>\n",
       "      <td>35</td>\n",
       "      <td>3381</td>\n",
       "      <td>NaN</td>\n",
       "      <td>9776</td>\n",
       "      <td>10:5</td>\n",
       "      <td>2016-01-29</td>\n",
       "      <td>NaT</td>\n",
       "      <td>1</td>\n",
       "      <td>0.0</td>\n",
       "    </tr>\n",
       "  </tbody>\n",
       "</table>\n",
       "</div>"
      ],
      "text/plain": [
       "   User_id  Merchant_id  Action  Coupon_id Discount_rate Date_received  \\\n",
       "0        4        25104     2.0  100145044        100:10    2016-03-31   \n",
       "1        4         1433     NaN       8735          30:5    2016-02-14   \n",
       "2        4         1469     NaN       2902          0.95    2016-06-07   \n",
       "3        4        45612     1.0        NaN           NaN           NaT   \n",
       "4       35         3381     NaN       9776          10:5    2016-01-29   \n",
       "\n",
       "        Date  Count  Distance  \n",
       "0        NaT      1       NaN  \n",
       "1        NaT      1      10.0  \n",
       "2        NaT      1      10.0  \n",
       "3 2016-03-08      1       NaN  \n",
       "4        NaT      1       0.0  "
      ]
     },
     "execution_count": 14,
     "metadata": {},
     "output_type": "execute_result"
    }
   ],
   "source": [
    "df_train = df_on_unique.append(df_off_unique, sort=False)\n",
    "df_train = df_train.sort_values(by = ['User_id'] )\n",
    "df_train = df_train.reset_index()\n",
    "del df_train['index']\n",
    "print(\"Training Data(Offline+Online) \\nShape:\"+str(df_train.shape))\n",
    "df_train.head()"
   ]
  },
  {
   "cell_type": "markdown",
   "metadata": {},
   "source": [
    "## User Anlaysis"
   ]
  },
  {
   "cell_type": "markdown",
   "metadata": {},
   "source": [
    "### Distributing users into three categores: \n",
    "1. users getting coupon\n",
    "2. users making purchases without coupon\n",
    "3. users making purchases with coupon"
   ]
  },
  {
   "cell_type": "code",
   "execution_count": 15,
   "metadata": {},
   "outputs": [
    {
     "name": "stdout",
     "output_type": "stream",
     "text": [
      "ONLINE: Shape of Get Coupon(560986, 8)\n",
      "ONLINE: Shape of No Coupon(5063443, 8)\n",
      "ONLINE: Shape of Redeem Coupon(198114, 8)\n",
      "\n",
      "OFFLINE: Shape of Get Coupon(942325, 8)\n",
      "OFFLINE: Shape of No Coupon(701602, 8)\n",
      "OFFLINE: Shape of Redeem Coupon(73064, 8)\n",
      "\n",
      "ONLINE+OFFLINE: Shape of Get Coupon(1503311, 9)\n",
      "ONLINE+OFFLINE: Shape of No Coupon(5765045, 9)\n",
      "ONLINE+OFFLINE: Shape of Redeem Coupon(271178, 9)\n"
     ]
    }
   ],
   "source": [
    "#Online\n",
    "df_on_get_coupon = df_on_unique[df_on_unique['Action']==2]\n",
    "df_on_no_coupon = df_on_unique[df_on_unique['Coupon_id'].isna()]\n",
    "df_on_redeem_coupon = df_on_unique[(df_on_unique['Date'].isna()==False) & (df_on_unique['Coupon_id'].isna()==False)]\n",
    "print('ONLINE: Shape of Get Coupon'+ str(df_on_get_coupon.shape))\n",
    "print('ONLINE: Shape of No Coupon'+ str(df_on_no_coupon.shape))\n",
    "print('ONLINE: Shape of Redeem Coupon'+ str(df_on_redeem_coupon.shape))\n",
    "\n",
    "#Offline\n",
    "df_off_get_coupon = df_off_unique[(df_off_unique['Date'].isna()) & (df_off_unique['Coupon_id'].isna()==False)]\n",
    "df_off_no_coupon = df_off_unique[df_off_unique['Coupon_id'].isna()]\n",
    "df_off_redeem_coupon = df_off_unique[(df_off_unique['Date'].isna()==False) & (df_off_unique['Coupon_id'].isna()==False)]\n",
    "print('\\nOFFLINE: Shape of Get Coupon'+ str(df_off_get_coupon.shape))\n",
    "print('OFFLINE: Shape of No Coupon'+ str(df_off_no_coupon.shape))\n",
    "print('OFFLINE: Shape of Redeem Coupon'+ str(df_off_redeem_coupon.shape))\n",
    "\n",
    "\n",
    "#Complete Traininig Data\n",
    "df_train_get_coupon = df_train[(df_train['Date'].isna()) & (df_train['Coupon_id'].isna()==False)]\n",
    "df_train_no_coupon = df_train[df_train['Coupon_id'].isna()]\n",
    "df_train_redeem_coupon = df_train[(df_train['Date'].isna()==False) & (df_train['Coupon_id'].isna()==False)]\n",
    "print('\\nONLINE+OFFLINE: Shape of Get Coupon'+ str(df_train_get_coupon.shape))\n",
    "print('ONLINE+OFFLINE: Shape of No Coupon'+ str(df_train_no_coupon.shape))\n",
    "print('ONLINE+OFFLINE: Shape of Redeem Coupon'+ str(df_train_redeem_coupon.shape))\n",
    "df_train_coupon = df_on_coupon.append(df_off_coupon, sort=False)"
   ]
  },
  {
   "cell_type": "markdown",
   "metadata": {},
   "source": [
    "### User : Online, Offline or Common(Online+Offline) Tag\n",
    "        0: Common User\n",
    "        1: Only Offline\n",
    "        2: Only Online\n",
    "      \n",
    "        "
   ]
  },
  {
   "cell_type": "code",
   "execution_count": 16,
   "metadata": {},
   "outputs": [
    {
     "name": "stdout",
     "output_type": "stream",
     "text": [
      "Count of only Online Users:  495410\n",
      "Count of only Offline Users: 271990\n",
      "Count of Common Users:       267448\n"
     ]
    }
   ],
   "source": [
    "users_on = set(df_on[\"User_id\"].unique())             #number of users in online data\n",
    "users_off = set(df_off[\"User_id\"].unique())           #number of users in offline data\n",
    "users_test = set(df_test[\"User_id\"].unique())         #number of users in test data\n",
    "common_users = set(users_off.intersection(users_on))  #number of users having both online and offline presence\n",
    "online_users = list(users_on - common_users)\n",
    "offline_users = list(users_off - common_users)\n",
    "common_users = list(common_users)\n",
    "print('Count of only Online Users:  '+ str(len(online_users)))\n",
    "print('Count of only Offline Users: '+ str(len(offline_users)))\n",
    "print('Count of Common Users:       '+ str(len(common_users)))"
   ]
  },
  {
   "cell_type": "code",
   "execution_count": 17,
   "metadata": {},
   "outputs": [
    {
     "data": {
      "text/html": [
       "<div>\n",
       "<style scoped>\n",
       "    .dataframe tbody tr th:only-of-type {\n",
       "        vertical-align: middle;\n",
       "    }\n",
       "\n",
       "    .dataframe tbody tr th {\n",
       "        vertical-align: top;\n",
       "    }\n",
       "\n",
       "    .dataframe thead th {\n",
       "        text-align: right;\n",
       "    }\n",
       "</style>\n",
       "<table border=\"1\" class=\"dataframe\">\n",
       "  <thead>\n",
       "    <tr style=\"text-align: right;\">\n",
       "      <th></th>\n",
       "      <th>Users</th>\n",
       "      <th>Tag</th>\n",
       "    </tr>\n",
       "  </thead>\n",
       "  <tbody>\n",
       "    <tr>\n",
       "      <td>114631</td>\n",
       "      <td>2842136</td>\n",
       "      <td>1</td>\n",
       "    </tr>\n",
       "    <tr>\n",
       "      <td>220733</td>\n",
       "      <td>1473792</td>\n",
       "      <td>1</td>\n",
       "    </tr>\n",
       "    <tr>\n",
       "      <td>298668</td>\n",
       "      <td>12179932</td>\n",
       "      <td>2</td>\n",
       "    </tr>\n",
       "    <tr>\n",
       "      <td>24501</td>\n",
       "      <td>14734200</td>\n",
       "      <td>2</td>\n",
       "    </tr>\n",
       "    <tr>\n",
       "      <td>219730</td>\n",
       "      <td>5141887</td>\n",
       "      <td>1</td>\n",
       "    </tr>\n",
       "  </tbody>\n",
       "</table>\n",
       "</div>"
      ],
      "text/plain": [
       "           Users  Tag\n",
       "114631   2842136    1\n",
       "220733   1473792    1\n",
       "298668  12179932    2\n",
       "24501   14734200    2\n",
       "219730   5141887    1"
      ]
     },
     "execution_count": 17,
     "metadata": {},
     "output_type": "execute_result"
    }
   ],
   "source": [
    "common_tags = [0 for _ in range(len(common_users))]\n",
    "offline_tags = [1 for _ in range(len(offline_users))]\n",
    "online_tags = [2 for _ in range(len(online_users))]\n",
    "\n",
    "#Common Users DataFrame\n",
    "tag_0 = pd.DataFrame(\n",
    "    {'Users': common_users,\n",
    "     'Tag': common_tags\n",
    "    })\n",
    "\n",
    "#Offline Users DataFrame\n",
    "tag_1 = pd.DataFrame(\n",
    "    {'Users': offline_users,\n",
    "     'Tag': offline_tags\n",
    "    })\n",
    "\n",
    "#Online Users DataFrame\n",
    "tag_2 = pd.DataFrame(\n",
    "    {'Users': online_users,\n",
    "     'Tag': online_tags\n",
    "    })\n",
    "\n",
    "user_tag = tag_0.append(tag_1, sort=False)\n",
    "user_tag = user_tag.append(tag_2, sort=False)\n",
    "user_tag.sample(5)"
   ]
  },
  {
   "cell_type": "markdown",
   "metadata": {},
   "source": [
    "### User Redemption Score "
   ]
  },
  {
   "cell_type": "code",
   "execution_count": 18,
   "metadata": {},
   "outputs": [
    {
     "data": {
      "text/html": [
       "<div>\n",
       "<style scoped>\n",
       "    .dataframe tbody tr th:only-of-type {\n",
       "        vertical-align: middle;\n",
       "    }\n",
       "\n",
       "    .dataframe tbody tr th {\n",
       "        vertical-align: top;\n",
       "    }\n",
       "\n",
       "    .dataframe thead th {\n",
       "        text-align: right;\n",
       "    }\n",
       "</style>\n",
       "<table border=\"1\" class=\"dataframe\">\n",
       "  <thead>\n",
       "    <tr style=\"text-align: right;\">\n",
       "      <th></th>\n",
       "      <th>User_Released</th>\n",
       "      <th>User_Redeemed</th>\n",
       "      <th>User_Ratio</th>\n",
       "    </tr>\n",
       "    <tr>\n",
       "      <th>User_id</th>\n",
       "      <th></th>\n",
       "      <th></th>\n",
       "      <th></th>\n",
       "    </tr>\n",
       "  </thead>\n",
       "  <tbody>\n",
       "    <tr>\n",
       "      <td>6695307</td>\n",
       "      <td>6</td>\n",
       "      <td>1</td>\n",
       "      <td>0.17</td>\n",
       "    </tr>\n",
       "    <tr>\n",
       "      <td>205878</td>\n",
       "      <td>16</td>\n",
       "      <td>1</td>\n",
       "      <td>0.06</td>\n",
       "    </tr>\n",
       "    <tr>\n",
       "      <td>3897367</td>\n",
       "      <td>9</td>\n",
       "      <td>1</td>\n",
       "      <td>0.11</td>\n",
       "    </tr>\n",
       "    <tr>\n",
       "      <td>14950499</td>\n",
       "      <td>8</td>\n",
       "      <td>3</td>\n",
       "      <td>0.38</td>\n",
       "    </tr>\n",
       "    <tr>\n",
       "      <td>6664437</td>\n",
       "      <td>9</td>\n",
       "      <td>1</td>\n",
       "      <td>0.11</td>\n",
       "    </tr>\n",
       "  </tbody>\n",
       "</table>\n",
       "</div>"
      ],
      "text/plain": [
       "          User_Released  User_Redeemed  User_Ratio\n",
       "User_id                                           \n",
       "6695307               6              1        0.17\n",
       "205878               16              1        0.06\n",
       "3897367               9              1        0.11\n",
       "14950499              8              3        0.38\n",
       "6664437               9              1        0.11"
      ]
     },
     "execution_count": 18,
     "metadata": {},
     "output_type": "execute_result"
    }
   ],
   "source": [
    "#Users in training Dataset\n",
    "user_redemption_train = df_train_coupon.groupby(['User_id'])['Coupon_id','Date'].count()\n",
    "user_redemption_train.columns = ['User_Released', 'User_Redeemed']\n",
    "user_redemption_train['User_Ratio'] = round(user_redemption_train['User_Redeemed']/user_redemption_train['User_Released'],2)\n",
    "user_redemption_train[user_redemption_train['User_Ratio']!=0].sample(5)"
   ]
  },
  {
   "cell_type": "code",
   "execution_count": 19,
   "metadata": {},
   "outputs": [
    {
     "data": {
      "image/png": "[encoded data removed]",
      "text/plain": [
       "<Figure size 576x360 with 1 Axes>"
      ]
     },
     "metadata": {
      "needs_background": "light"
     },
     "output_type": "display_data"
    }
   ],
   "source": [
    "plt.figure(figsize=(8,5))\n",
    "sns.distplot(user_redemption_train[user_redemption_train['User_Ratio']!=0]['User_Ratio'],kde=False,bins=26)\n",
    "plt.xlabel('User Redemption Ratio')\n",
    "plt.ylabel('Count of Users')\n",
    "plt.title('User Redemption Score Distribution')\n",
    "plt.show()"
   ]
  },
  {
   "cell_type": "markdown",
   "metadata": {},
   "source": [
    "### Users and their Merchant Preferences"
   ]
  },
  {
   "cell_type": "code",
   "execution_count": 20,
   "metadata": {},
   "outputs": [
    {
     "data": {
      "text/html": [
       "<div>\n",
       "<style scoped>\n",
       "    .dataframe tbody tr th:only-of-type {\n",
       "        vertical-align: middle;\n",
       "    }\n",
       "\n",
       "    .dataframe tbody tr th {\n",
       "        vertical-align: top;\n",
       "    }\n",
       "\n",
       "    .dataframe thead th {\n",
       "        text-align: right;\n",
       "    }\n",
       "</style>\n",
       "<table border=\"1\" class=\"dataframe\">\n",
       "  <thead>\n",
       "    <tr style=\"text-align: right;\">\n",
       "      <th></th>\n",
       "      <th>User_id</th>\n",
       "      <th>Merchant_id</th>\n",
       "      <th>Visits</th>\n",
       "    </tr>\n",
       "  </thead>\n",
       "  <tbody>\n",
       "    <tr>\n",
       "      <td>0</td>\n",
       "      <td>4</td>\n",
       "      <td>1433</td>\n",
       "      <td>1</td>\n",
       "    </tr>\n",
       "    <tr>\n",
       "      <td>1</td>\n",
       "      <td>4</td>\n",
       "      <td>1469</td>\n",
       "      <td>1</td>\n",
       "    </tr>\n",
       "    <tr>\n",
       "      <td>2</td>\n",
       "      <td>35</td>\n",
       "      <td>3381</td>\n",
       "      <td>4</td>\n",
       "    </tr>\n",
       "    <tr>\n",
       "      <td>3</td>\n",
       "      <td>36</td>\n",
       "      <td>1041</td>\n",
       "      <td>1</td>\n",
       "    </tr>\n",
       "    <tr>\n",
       "      <td>4</td>\n",
       "      <td>36</td>\n",
       "      <td>5717</td>\n",
       "      <td>1</td>\n",
       "    </tr>\n",
       "  </tbody>\n",
       "</table>\n",
       "</div>"
      ],
      "text/plain": [
       "   User_id  Merchant_id  Visits\n",
       "0        4         1433       1\n",
       "1        4         1469       1\n",
       "2       35         3381       4\n",
       "3       36         1041       1\n",
       "4       36         5717       1"
      ]
     },
     "execution_count": 20,
     "metadata": {},
     "output_type": "execute_result"
    }
   ],
   "source": [
    "#OFFLINE\n",
    "visits_offline = pd.DataFrame(df_off_unique.groupby(['User_id','Merchant_id']).size()).reset_index()\n",
    "visits_offline.columns = ['User_id','Merchant_id','Visits']\n",
    "visits_offline.head()"
   ]
  },
  {
   "cell_type": "code",
   "execution_count": 21,
   "metadata": {},
   "outputs": [
    {
     "data": {
      "image/png": "[encoded data removed]",
      "text/plain": [
       "<Figure size 1080x720 with 1 Axes>"
      ]
     },
     "metadata": {
      "needs_background": "light"
     },
     "output_type": "display_data"
    }
   ],
   "source": [
    "plt.figure(figsize=(15,10))\n",
    "ax = sns.countplot(visits_offline['Visits'])\n",
    "ax.set_xticklabels(ax.get_xticklabels(),rotation=90)\n",
    "i = 4\n",
    "for p in ax.patches:\n",
    "        ax.annotate('{:.0f}'.format(p.get_height()), (p.get_x()+0.1, p.get_height()+50))\n",
    "        i-=1\n",
    "        if i <0:\n",
    "            break\n",
    "plt.xlabel('Number of User-Merchant Visits')\n",
    "plt.ylabel('Count')\n",
    "plt.title('Plot for frequency of user-merchant visits (OFFLINE)')\n",
    "plt.show()"
   ]
  },
  {
   "cell_type": "code",
   "execution_count": 22,
   "metadata": {},
   "outputs": [
    {
     "data": {
      "text/html": [
       "<div>\n",
       "<style scoped>\n",
       "    .dataframe tbody tr th:only-of-type {\n",
       "        vertical-align: middle;\n",
       "    }\n",
       "\n",
       "    .dataframe tbody tr th {\n",
       "        vertical-align: top;\n",
       "    }\n",
       "\n",
       "    .dataframe thead th {\n",
       "        text-align: right;\n",
       "    }\n",
       "</style>\n",
       "<table border=\"1\" class=\"dataframe\">\n",
       "  <thead>\n",
       "    <tr style=\"text-align: right;\">\n",
       "      <th></th>\n",
       "      <th>User_id</th>\n",
       "      <th>Merchant_id</th>\n",
       "      <th>Visits</th>\n",
       "    </tr>\n",
       "  </thead>\n",
       "  <tbody>\n",
       "    <tr>\n",
       "      <td>0</td>\n",
       "      <td>4</td>\n",
       "      <td>25104</td>\n",
       "      <td>1</td>\n",
       "    </tr>\n",
       "    <tr>\n",
       "      <td>1</td>\n",
       "      <td>4</td>\n",
       "      <td>45612</td>\n",
       "      <td>1</td>\n",
       "    </tr>\n",
       "    <tr>\n",
       "      <td>2</td>\n",
       "      <td>36</td>\n",
       "      <td>46701</td>\n",
       "      <td>1</td>\n",
       "    </tr>\n",
       "    <tr>\n",
       "      <td>3</td>\n",
       "      <td>64</td>\n",
       "      <td>11200</td>\n",
       "      <td>1</td>\n",
       "    </tr>\n",
       "    <tr>\n",
       "      <td>4</td>\n",
       "      <td>64</td>\n",
       "      <td>29214</td>\n",
       "      <td>2</td>\n",
       "    </tr>\n",
       "  </tbody>\n",
       "</table>\n",
       "</div>"
      ],
      "text/plain": [
       "   User_id  Merchant_id  Visits\n",
       "0        4        25104       1\n",
       "1        4        45612       1\n",
       "2       36        46701       1\n",
       "3       64        11200       1\n",
       "4       64        29214       2"
      ]
     },
     "execution_count": 22,
     "metadata": {},
     "output_type": "execute_result"
    }
   ],
   "source": [
    "#ONLINE\n",
    "visits_online = pd.DataFrame(df_on_unique.groupby(['User_id','Merchant_id']).size()).reset_index()\n",
    "visits_online.columns = ['User_id','Merchant_id','Visits']\n",
    "visits_online.head()"
   ]
  },
  {
   "cell_type": "code",
   "execution_count": 23,
   "metadata": {},
   "outputs": [
    {
     "data": {
      "image/png": "[encoded data removed]",
      "text/plain": [
       "<Figure size 1080x720 with 1 Axes>"
      ]
     },
     "metadata": {
      "needs_background": "light"
     },
     "output_type": "display_data"
    }
   ],
   "source": [
    "plt.figure(figsize=(15,10))\n",
    "ax = sns.countplot(visits_online['Visits'])\n",
    "ax.set_xticklabels(ax.get_xticklabels(),rotation=90)\n",
    "i = 3\n",
    "for p in ax.patches:\n",
    "        ax.annotate('{:.0f}'.format(p.get_height()), (p.get_x()+0.1, p.get_height()+50))\n",
    "        i-=1\n",
    "        if i <0:\n",
    "            break\n",
    "plt.xlabel('Number of User-Merchant Visits')\n",
    "plt.ylabel('Count')\n",
    "plt.title('Plot for frequency of user-merchant visits (ONLINE)')\n",
    "plt.show()"
   ]
  },
  {
   "cell_type": "markdown",
   "metadata": {},
   "source": [
    "#### For offline:\n",
    "Around 69% of times the frequency of user-merchant pair is 1.<br>\n",
    "#### For online:\n",
    "Around 79.4% of times the frequency of user-merchant pair is 1.<br>\n",
    "So, users don't prefer any certain set of merchants."
   ]
  },
  {
   "cell_type": "markdown",
   "metadata": {},
   "source": [
    "### Users as Purchasers and Non-Purchasers\n",
    "Purchasers (Number of buys >= 5)<br>\n",
    "Non Purchasers (Number of buys < 5)"
   ]
  },
  {
   "cell_type": "code",
   "execution_count": 24,
   "metadata": {},
   "outputs": [
    {
     "data": {
      "text/plain": [
       "count    1.034848e+06\n",
       "mean     5.832956e+00\n",
       "std      1.057880e+01\n",
       "min      0.000000e+00\n",
       "25%      1.000000e+00\n",
       "50%      3.000000e+00\n",
       "75%      7.000000e+00\n",
       "max      2.532000e+03\n",
       "Name: User_Buys, dtype: float64"
      ]
     },
     "execution_count": 24,
     "metadata": {},
     "output_type": "execute_result"
    }
   ],
   "source": [
    "user_purchasers = pd.DataFrame(df_train.groupby(['User_id'])['Date'].count())\n",
    "user_purchasers.columns = ['User_Buys']\n",
    "user_purchasers['User_Buys'].describe()"
   ]
  },
  {
   "cell_type": "code",
   "execution_count": 25,
   "metadata": {},
   "outputs": [
    {
     "data": {
      "text/html": [
       "<div>\n",
       "<style scoped>\n",
       "    .dataframe tbody tr th:only-of-type {\n",
       "        vertical-align: middle;\n",
       "    }\n",
       "\n",
       "    .dataframe tbody tr th {\n",
       "        vertical-align: top;\n",
       "    }\n",
       "\n",
       "    .dataframe thead th {\n",
       "        text-align: right;\n",
       "    }\n",
       "</style>\n",
       "<table border=\"1\" class=\"dataframe\">\n",
       "  <thead>\n",
       "    <tr style=\"text-align: right;\">\n",
       "      <th></th>\n",
       "      <th>User_Buys</th>\n",
       "      <th>Purchaser</th>\n",
       "    </tr>\n",
       "    <tr>\n",
       "      <th>User_id</th>\n",
       "      <th></th>\n",
       "      <th></th>\n",
       "    </tr>\n",
       "  </thead>\n",
       "  <tbody>\n",
       "    <tr>\n",
       "      <td>7345768</td>\n",
       "      <td>2</td>\n",
       "      <td>0</td>\n",
       "    </tr>\n",
       "    <tr>\n",
       "      <td>2723204</td>\n",
       "      <td>4</td>\n",
       "      <td>0</td>\n",
       "    </tr>\n",
       "    <tr>\n",
       "      <td>2785722</td>\n",
       "      <td>5</td>\n",
       "      <td>0</td>\n",
       "    </tr>\n",
       "    <tr>\n",
       "      <td>10860532</td>\n",
       "      <td>2</td>\n",
       "      <td>0</td>\n",
       "    </tr>\n",
       "    <tr>\n",
       "      <td>6707503</td>\n",
       "      <td>13</td>\n",
       "      <td>1</td>\n",
       "    </tr>\n",
       "  </tbody>\n",
       "</table>\n",
       "</div>"
      ],
      "text/plain": [
       "          User_Buys  Purchaser\n",
       "User_id                       \n",
       "7345768           2          0\n",
       "2723204           4          0\n",
       "2785722           5          0\n",
       "10860532          2          0\n",
       "6707503          13          1"
      ]
     },
     "execution_count": 25,
     "metadata": {},
     "output_type": "execute_result"
    }
   ],
   "source": [
    "user_purchasers['Purchaser'] = [1 if x>=6 else 0 for x in user_purchasers['User_Buys']] \n",
    "user_purchasers.sample(5)"
   ]
  },
  {
   "cell_type": "markdown",
   "metadata": {},
   "source": [
    "### For any user-merchant pair, the distance should remain constant (Offline)"
   ]
  },
  {
   "cell_type": "code",
   "execution_count": 26,
   "metadata": {},
   "outputs": [
    {
     "data": {
      "text/plain": [
       "array([1])"
      ]
     },
     "execution_count": 26,
     "metadata": {},
     "output_type": "execute_result"
    }
   ],
   "source": [
    "user_merchant_distance = pd.DataFrame(df_off_unique.groupby(['User_id','Merchant_id'])['Distance'].nunique()).reset_index()\n",
    "user_merchant_distance['Distance'].unique()"
   ]
  },
  {
   "cell_type": "markdown",
   "metadata": {},
   "source": [
    "Unique distance values for a user-merchant pair are 0 (for nan distance value) and 1.<br>\n",
    "This shows for any user-merchant pair, the distance value remains constant."
   ]
  },
  {
   "cell_type": "markdown",
   "metadata": {},
   "source": [
    "### Common Users: Online and Offline visits"
   ]
  },
  {
   "cell_type": "code",
   "execution_count": 27,
   "metadata": {},
   "outputs": [],
   "source": [
    "df_train = df_train.merge(user_tag['Tag'],how='outer', left_on='User_id', right_on=user_tag['Users'])"
   ]
  },
  {
   "cell_type": "code",
   "execution_count": 28,
   "metadata": {},
   "outputs": [
    {
     "data": {
      "text/html": [
       "<div>\n",
       "<style scoped>\n",
       "    .dataframe tbody tr th:only-of-type {\n",
       "        vertical-align: middle;\n",
       "    }\n",
       "\n",
       "    .dataframe tbody tr th {\n",
       "        vertical-align: top;\n",
       "    }\n",
       "\n",
       "    .dataframe thead th {\n",
       "        text-align: right;\n",
       "    }\n",
       "</style>\n",
       "<table border=\"1\" class=\"dataframe\">\n",
       "  <thead>\n",
       "    <tr style=\"text-align: right;\">\n",
       "      <th></th>\n",
       "      <th>Online_Activity</th>\n",
       "      <th>Offline_Activity</th>\n",
       "    </tr>\n",
       "    <tr>\n",
       "      <th>User_id</th>\n",
       "      <th></th>\n",
       "      <th></th>\n",
       "    </tr>\n",
       "  </thead>\n",
       "  <tbody>\n",
       "    <tr>\n",
       "      <td>2339260</td>\n",
       "      <td>8</td>\n",
       "      <td>4</td>\n",
       "    </tr>\n",
       "    <tr>\n",
       "      <td>4850884</td>\n",
       "      <td>4</td>\n",
       "      <td>17</td>\n",
       "    </tr>\n",
       "  </tbody>\n",
       "</table>\n",
       "</div>"
      ],
      "text/plain": [
       "         Online_Activity  Offline_Activity\n",
       "User_id                                   \n",
       "2339260                8                 4\n",
       "4850884                4                17"
      ]
     },
     "execution_count": 28,
     "metadata": {},
     "output_type": "execute_result"
    }
   ],
   "source": [
    "common_users = df_train[df_train['Tag']==0]\n",
    "common_users_activity = common_users.groupby(['User_id'])['Action','Distance'].count()\n",
    "common_users_activity.columns = ['Online_Activity','Offline_Activity']\n",
    "common_users_activity.sample(2)"
   ]
  },
  {
   "cell_type": "markdown",
   "metadata": {},
   "source": [
    "### User tracking (Online click to Offline buy)"
   ]
  },
  {
   "cell_type": "code",
   "execution_count": 62,
   "metadata": {},
   "outputs": [
    {
     "data": {
      "text/html": [
       "<div>\n",
       "<style scoped>\n",
       "    .dataframe tbody tr th:only-of-type {\n",
       "        vertical-align: middle;\n",
       "    }\n",
       "\n",
       "    .dataframe tbody tr th {\n",
       "        vertical-align: top;\n",
       "    }\n",
       "\n",
       "    .dataframe thead th {\n",
       "        text-align: right;\n",
       "    }\n",
       "</style>\n",
       "<table border=\"1\" class=\"dataframe\">\n",
       "  <thead>\n",
       "    <tr style=\"text-align: right;\">\n",
       "      <th></th>\n",
       "      <th>User_id</th>\n",
       "      <th>Merchant_id</th>\n",
       "      <th>Action</th>\n",
       "      <th>Coupon_id</th>\n",
       "      <th>Discount_rate</th>\n",
       "      <th>Date_received</th>\n",
       "      <th>Date</th>\n",
       "      <th>Count</th>\n",
       "      <th>Distance</th>\n",
       "      <th>Tag</th>\n",
       "    </tr>\n",
       "  </thead>\n",
       "  <tbody>\n",
       "    <tr>\n",
       "      <td>0</td>\n",
       "      <td>4</td>\n",
       "      <td>25104</td>\n",
       "      <td>2.0</td>\n",
       "      <td>100145044</td>\n",
       "      <td>100:10</td>\n",
       "      <td>2016-03-31</td>\n",
       "      <td>NaT</td>\n",
       "      <td>1</td>\n",
       "      <td>NaN</td>\n",
       "      <td>0</td>\n",
       "    </tr>\n",
       "    <tr>\n",
       "      <td>1</td>\n",
       "      <td>4</td>\n",
       "      <td>1433</td>\n",
       "      <td>3.0</td>\n",
       "      <td>8735</td>\n",
       "      <td>30:5</td>\n",
       "      <td>2016-02-14</td>\n",
       "      <td>NaT</td>\n",
       "      <td>1</td>\n",
       "      <td>10.0</td>\n",
       "      <td>0</td>\n",
       "    </tr>\n",
       "    <tr>\n",
       "      <td>2</td>\n",
       "      <td>4</td>\n",
       "      <td>1469</td>\n",
       "      <td>3.0</td>\n",
       "      <td>2902</td>\n",
       "      <td>0.95</td>\n",
       "      <td>2016-06-07</td>\n",
       "      <td>NaT</td>\n",
       "      <td>1</td>\n",
       "      <td>10.0</td>\n",
       "      <td>0</td>\n",
       "    </tr>\n",
       "    <tr>\n",
       "      <td>3</td>\n",
       "      <td>4</td>\n",
       "      <td>45612</td>\n",
       "      <td>1.0</td>\n",
       "      <td>NaN</td>\n",
       "      <td>NaN</td>\n",
       "      <td>NaT</td>\n",
       "      <td>2016-03-08</td>\n",
       "      <td>1</td>\n",
       "      <td>NaN</td>\n",
       "      <td>0</td>\n",
       "    </tr>\n",
       "    <tr>\n",
       "      <td>8</td>\n",
       "      <td>36</td>\n",
       "      <td>1041</td>\n",
       "      <td>3.0</td>\n",
       "      <td>13490</td>\n",
       "      <td>30:5</td>\n",
       "      <td>2016-01-25</td>\n",
       "      <td>NaT</td>\n",
       "      <td>1</td>\n",
       "      <td>4.0</td>\n",
       "      <td>0</td>\n",
       "    </tr>\n",
       "  </tbody>\n",
       "</table>\n",
       "</div>"
      ],
      "text/plain": [
       "   User_id  Merchant_id  Action  Coupon_id Discount_rate Date_received  \\\n",
       "0        4        25104     2.0  100145044        100:10    2016-03-31   \n",
       "1        4         1433     3.0       8735          30:5    2016-02-14   \n",
       "2        4         1469     3.0       2902          0.95    2016-06-07   \n",
       "3        4        45612     1.0        NaN           NaN           NaT   \n",
       "8       36         1041     3.0      13490          30:5    2016-01-25   \n",
       "\n",
       "        Date  Count  Distance  Tag  \n",
       "0        NaT      1       NaN    0  \n",
       "1        NaT      1      10.0    0  \n",
       "2        NaT      1      10.0    0  \n",
       "3 2016-03-08      1       NaN    0  \n",
       "8        NaT      1       4.0    0  "
      ]
     },
     "execution_count": 62,
     "metadata": {},
     "output_type": "execute_result"
    }
   ],
   "source": [
    "common_users['Action'].fillna(3, inplace=True)\n",
    "common_users.head()"
   ]
  },
  {
   "cell_type": "code",
   "execution_count": 89,
   "metadata": {},
   "outputs": [
    {
     "data": {
      "text/html": [
       "<div>\n",
       "<style scoped>\n",
       "    .dataframe tbody tr th:only-of-type {\n",
       "        vertical-align: middle;\n",
       "    }\n",
       "\n",
       "    .dataframe tbody tr th {\n",
       "        vertical-align: top;\n",
       "    }\n",
       "\n",
       "    .dataframe thead th {\n",
       "        text-align: right;\n",
       "    }\n",
       "</style>\n",
       "<table border=\"1\" class=\"dataframe\">\n",
       "  <thead>\n",
       "    <tr style=\"text-align: right;\">\n",
       "      <th></th>\n",
       "      <th>User_id</th>\n",
       "      <th>Merchant_id</th>\n",
       "      <th>Action</th>\n",
       "      <th>Coupon_id</th>\n",
       "      <th>Discount_rate</th>\n",
       "      <th>Date_received</th>\n",
       "      <th>Date</th>\n",
       "      <th>Count</th>\n",
       "      <th>Distance</th>\n",
       "      <th>Tag</th>\n",
       "      <th>DateTrack</th>\n",
       "    </tr>\n",
       "  </thead>\n",
       "  <tbody>\n",
       "    <tr>\n",
       "      <td>1</td>\n",
       "      <td>4</td>\n",
       "      <td>1433</td>\n",
       "      <td>3</td>\n",
       "      <td>8735</td>\n",
       "      <td>30:5</td>\n",
       "      <td>2016-02-14</td>\n",
       "      <td>NaT</td>\n",
       "      <td>1</td>\n",
       "      <td>10.0</td>\n",
       "      <td>0</td>\n",
       "      <td>2016-02-14</td>\n",
       "    </tr>\n",
       "    <tr>\n",
       "      <td>3</td>\n",
       "      <td>4</td>\n",
       "      <td>45612</td>\n",
       "      <td>1</td>\n",
       "      <td>NaN</td>\n",
       "      <td>NaN</td>\n",
       "      <td>NaT</td>\n",
       "      <td>2016-03-08</td>\n",
       "      <td>1</td>\n",
       "      <td>NaN</td>\n",
       "      <td>0</td>\n",
       "      <td>2016-03-08</td>\n",
       "    </tr>\n",
       "    <tr>\n",
       "      <td>0</td>\n",
       "      <td>4</td>\n",
       "      <td>25104</td>\n",
       "      <td>2</td>\n",
       "      <td>100145044</td>\n",
       "      <td>100:10</td>\n",
       "      <td>2016-03-31</td>\n",
       "      <td>NaT</td>\n",
       "      <td>1</td>\n",
       "      <td>NaN</td>\n",
       "      <td>0</td>\n",
       "      <td>2016-03-31</td>\n",
       "    </tr>\n",
       "    <tr>\n",
       "      <td>2</td>\n",
       "      <td>4</td>\n",
       "      <td>1469</td>\n",
       "      <td>3</td>\n",
       "      <td>2902</td>\n",
       "      <td>0.95</td>\n",
       "      <td>2016-06-07</td>\n",
       "      <td>NaT</td>\n",
       "      <td>1</td>\n",
       "      <td>10.0</td>\n",
       "      <td>0</td>\n",
       "      <td>2016-06-07</td>\n",
       "    </tr>\n",
       "    <tr>\n",
       "      <td>10</td>\n",
       "      <td>36</td>\n",
       "      <td>46701</td>\n",
       "      <td>0</td>\n",
       "      <td>NaN</td>\n",
       "      <td>NaN</td>\n",
       "      <td>NaT</td>\n",
       "      <td>2016-01-20</td>\n",
       "      <td>1</td>\n",
       "      <td>NaN</td>\n",
       "      <td>0</td>\n",
       "      <td>2016-01-20</td>\n",
       "    </tr>\n",
       "  </tbody>\n",
       "</table>\n",
       "</div>"
      ],
      "text/plain": [
       "    User_id  Merchant_id Action  Coupon_id Discount_rate Date_received  \\\n",
       "1         4         1433      3       8735          30:5    2016-02-14   \n",
       "3         4        45612      1        NaN           NaN           NaT   \n",
       "0         4        25104      2  100145044        100:10    2016-03-31   \n",
       "2         4         1469      3       2902          0.95    2016-06-07   \n",
       "10       36        46701      0        NaN           NaN           NaT   \n",
       "\n",
       "         Date  Count  Distance  Tag  DateTrack  \n",
       "1         NaT      1      10.0    0 2016-02-14  \n",
       "3  2016-03-08      1       NaN    0 2016-03-08  \n",
       "0         NaT      1       NaN    0 2016-03-31  \n",
       "2         NaT      1      10.0    0 2016-06-07  \n",
       "10 2016-01-20      1       NaN    0 2016-01-20  "
      ]
     },
     "execution_count": 89,
     "metadata": {},
     "output_type": "execute_result"
    }
   ],
   "source": [
    "common_users.loc[:,('DateTrack')] = common_users.loc[:,('Date')]\n",
    "common_users.DateTrack.fillna(common_users.Date_received, inplace=True)\n",
    "common_users['Action'] = common_users['Action'].astype(str)\n",
    "common_users.head()"
   ]
  },
  {
   "cell_type": "code",
   "execution_count": 90,
   "metadata": {},
   "outputs": [
    {
     "data": {
      "text/html": [
       "<div>\n",
       "<style scoped>\n",
       "    .dataframe tbody tr th:only-of-type {\n",
       "        vertical-align: middle;\n",
       "    }\n",
       "\n",
       "    .dataframe tbody tr th {\n",
       "        vertical-align: top;\n",
       "    }\n",
       "\n",
       "    .dataframe thead th {\n",
       "        text-align: right;\n",
       "    }\n",
       "</style>\n",
       "<table border=\"1\" class=\"dataframe\">\n",
       "  <thead>\n",
       "    <tr style=\"text-align: right;\">\n",
       "      <th></th>\n",
       "      <th>User_id</th>\n",
       "      <th>Merchant_id</th>\n",
       "      <th>Action</th>\n",
       "      <th>Coupon_id</th>\n",
       "      <th>Discount_rate</th>\n",
       "      <th>Date_received</th>\n",
       "      <th>Date</th>\n",
       "      <th>Count</th>\n",
       "      <th>Distance</th>\n",
       "      <th>Tag</th>\n",
       "      <th>DateTrack</th>\n",
       "    </tr>\n",
       "  </thead>\n",
       "  <tbody>\n",
       "    <tr>\n",
       "      <td>1</td>\n",
       "      <td>4</td>\n",
       "      <td>1433</td>\n",
       "      <td>3</td>\n",
       "      <td>8735</td>\n",
       "      <td>30:5</td>\n",
       "      <td>2016-02-14</td>\n",
       "      <td>NaT</td>\n",
       "      <td>1</td>\n",
       "      <td>10.0</td>\n",
       "      <td>0</td>\n",
       "      <td>2016-02-14</td>\n",
       "    </tr>\n",
       "    <tr>\n",
       "      <td>3</td>\n",
       "      <td>4</td>\n",
       "      <td>45612</td>\n",
       "      <td>1</td>\n",
       "      <td>NaN</td>\n",
       "      <td>NaN</td>\n",
       "      <td>NaT</td>\n",
       "      <td>2016-03-08</td>\n",
       "      <td>1</td>\n",
       "      <td>NaN</td>\n",
       "      <td>0</td>\n",
       "      <td>2016-03-08</td>\n",
       "    </tr>\n",
       "    <tr>\n",
       "      <td>0</td>\n",
       "      <td>4</td>\n",
       "      <td>25104</td>\n",
       "      <td>2</td>\n",
       "      <td>100145044</td>\n",
       "      <td>100:10</td>\n",
       "      <td>2016-03-31</td>\n",
       "      <td>NaT</td>\n",
       "      <td>1</td>\n",
       "      <td>NaN</td>\n",
       "      <td>0</td>\n",
       "      <td>2016-03-31</td>\n",
       "    </tr>\n",
       "    <tr>\n",
       "      <td>2</td>\n",
       "      <td>4</td>\n",
       "      <td>1469</td>\n",
       "      <td>3</td>\n",
       "      <td>2902</td>\n",
       "      <td>0.95</td>\n",
       "      <td>2016-06-07</td>\n",
       "      <td>NaT</td>\n",
       "      <td>1</td>\n",
       "      <td>10.0</td>\n",
       "      <td>0</td>\n",
       "      <td>2016-06-07</td>\n",
       "    </tr>\n",
       "    <tr>\n",
       "      <td>10</td>\n",
       "      <td>36</td>\n",
       "      <td>46701</td>\n",
       "      <td>0</td>\n",
       "      <td>NaN</td>\n",
       "      <td>NaN</td>\n",
       "      <td>NaT</td>\n",
       "      <td>2016-01-20</td>\n",
       "      <td>1</td>\n",
       "      <td>NaN</td>\n",
       "      <td>0</td>\n",
       "      <td>2016-01-20</td>\n",
       "    </tr>\n",
       "  </tbody>\n",
       "</table>\n",
       "</div>"
      ],
      "text/plain": [
       "    User_id  Merchant_id Action  Coupon_id Discount_rate Date_received  \\\n",
       "1         4         1433      3       8735          30:5    2016-02-14   \n",
       "3         4        45612      1        NaN           NaN           NaT   \n",
       "0         4        25104      2  100145044        100:10    2016-03-31   \n",
       "2         4         1469      3       2902          0.95    2016-06-07   \n",
       "10       36        46701      0        NaN           NaN           NaT   \n",
       "\n",
       "         Date  Count  Distance  Tag  DateTrack  \n",
       "1         NaT      1      10.0    0 2016-02-14  \n",
       "3  2016-03-08      1       NaN    0 2016-03-08  \n",
       "0         NaT      1       NaN    0 2016-03-31  \n",
       "2         NaT      1      10.0    0 2016-06-07  \n",
       "10 2016-01-20      1       NaN    0 2016-01-20  "
      ]
     },
     "execution_count": 90,
     "metadata": {},
     "output_type": "execute_result"
    }
   ],
   "source": [
    "common_users = common_users.sort_values(by=['User_id','DateTrack'])\n",
    "common_users.head()"
   ]
  },
  {
   "cell_type": "code",
   "execution_count": 111,
   "metadata": {},
   "outputs": [
    {
     "data": {
      "text/html": [
       "<div>\n",
       "<style scoped>\n",
       "    .dataframe tbody tr th:only-of-type {\n",
       "        vertical-align: middle;\n",
       "    }\n",
       "\n",
       "    .dataframe tbody tr th {\n",
       "        vertical-align: top;\n",
       "    }\n",
       "\n",
       "    .dataframe thead th {\n",
       "        text-align: right;\n",
       "    }\n",
       "</style>\n",
       "<table border=\"1\" class=\"dataframe\">\n",
       "  <thead>\n",
       "    <tr style=\"text-align: right;\">\n",
       "      <th></th>\n",
       "      <th>User_id</th>\n",
       "      <th>ActivityList</th>\n",
       "    </tr>\n",
       "  </thead>\n",
       "  <tbody>\n",
       "    <tr>\n",
       "      <td>0</td>\n",
       "      <td>4</td>\n",
       "      <td>[3, 1, 2, 3]</td>\n",
       "    </tr>\n",
       "    <tr>\n",
       "      <td>1</td>\n",
       "      <td>36</td>\n",
       "      <td>[0, 3, 3]</td>\n",
       "    </tr>\n",
       "    <tr>\n",
       "      <td>2</td>\n",
       "      <td>64</td>\n",
       "      <td>[3, 0, 0, 1]</td>\n",
       "    </tr>\n",
       "    <tr>\n",
       "      <td>3</td>\n",
       "      <td>144</td>\n",
       "      <td>[0, 3]</td>\n",
       "    </tr>\n",
       "    <tr>\n",
       "      <td>4</td>\n",
       "      <td>165</td>\n",
       "      <td>[3, 3, 3, 3, 3, 3, 3, 3, 3, 1, 3, 3, 3, 3, 3, ...</td>\n",
       "    </tr>\n",
       "  </tbody>\n",
       "</table>\n",
       "</div>"
      ],
      "text/plain": [
       "   User_id                                       ActivityList\n",
       "0        4                                       [3, 1, 2, 3]\n",
       "1       36                                          [0, 3, 3]\n",
       "2       64                                       [3, 0, 0, 1]\n",
       "3      144                                             [0, 3]\n",
       "4      165  [3, 3, 3, 3, 3, 3, 3, 3, 3, 1, 3, 3, 3, 3, 3, ..."
      ]
     },
     "execution_count": 111,
     "metadata": {},
     "output_type": "execute_result"
    }
   ],
   "source": [
    "common_user_activity = common_users.groupby(['User_id'])['Action'].apply(list).reset_index(name='ActivityList')\n",
    "common_user_activity.head()\n"
   ]
  },
  {
   "cell_type": "code",
   "execution_count": 122,
   "metadata": {},
   "outputs": [
    {
     "data": {
      "text/html": [
       "<div>\n",
       "<style scoped>\n",
       "    .dataframe tbody tr th:only-of-type {\n",
       "        vertical-align: middle;\n",
       "    }\n",
       "\n",
       "    .dataframe tbody tr th {\n",
       "        vertical-align: top;\n",
       "    }\n",
       "\n",
       "    .dataframe thead th {\n",
       "        text-align: right;\n",
       "    }\n",
       "</style>\n",
       "<table border=\"1\" class=\"dataframe\">\n",
       "  <thead>\n",
       "    <tr style=\"text-align: right;\">\n",
       "      <th></th>\n",
       "      <th>User_id</th>\n",
       "      <th>ActivityList</th>\n",
       "      <th>OnlineToOffline</th>\n",
       "    </tr>\n",
       "  </thead>\n",
       "  <tbody>\n",
       "    <tr>\n",
       "      <td>0</td>\n",
       "      <td>4</td>\n",
       "      <td>3123</td>\n",
       "      <td>0</td>\n",
       "    </tr>\n",
       "    <tr>\n",
       "      <td>1</td>\n",
       "      <td>36</td>\n",
       "      <td>033</td>\n",
       "      <td>1</td>\n",
       "    </tr>\n",
       "    <tr>\n",
       "      <td>2</td>\n",
       "      <td>64</td>\n",
       "      <td>3001</td>\n",
       "      <td>0</td>\n",
       "    </tr>\n",
       "    <tr>\n",
       "      <td>3</td>\n",
       "      <td>144</td>\n",
       "      <td>03</td>\n",
       "      <td>1</td>\n",
       "    </tr>\n",
       "    <tr>\n",
       "      <td>4</td>\n",
       "      <td>165</td>\n",
       "      <td>333333333133333333</td>\n",
       "      <td>0</td>\n",
       "    </tr>\n",
       "  </tbody>\n",
       "</table>\n",
       "</div>"
      ],
      "text/plain": [
       "   User_id        ActivityList  OnlineToOffline\n",
       "0        4                3123                0\n",
       "1       36                 033                1\n",
       "2       64                3001                0\n",
       "3      144                  03                1\n",
       "4      165  333333333133333333                0"
      ]
     },
     "execution_count": 122,
     "metadata": {},
     "output_type": "execute_result"
    }
   ],
   "source": [
    "common_user_activity.loc[:,('ActivityList')] = common_user_activity.loc[:,('ActivityList')] .apply(lambda x: ''.join(x))\n",
    "common_user_activity.loc[:,('OnlineToOffline')] = [1 if re.search('\\d*0\\d*3\\d*',a) else 0 for a in common_user_activity['ActivityList']]\n",
    "common_user_activity.head()"
   ]
  },
  {
   "cell_type": "code",
   "execution_count": 126,
   "metadata": {},
   "outputs": [
    {
     "data": {
      "text/plain": [
       "0.38033935568783467"
      ]
     },
     "execution_count": 126,
     "metadata": {},
     "output_type": "execute_result"
    }
   ],
   "source": [
    "common_user_activity[common_user_activity['OnlineToOffline']==1].shape[0]/common_user_activity.shape[0]"
   ]
  },
  {
   "cell_type": "code",
   "execution_count": null,
   "metadata": {},
   "outputs": [],
   "source": [
    "onlineToOffline([0,1,2,3,4,5,6])  "
   ]
  },
  {
   "cell_type": "markdown",
   "metadata": {},
   "source": [
    "## Merchant Anlaysis"
   ]
  },
  {
   "cell_type": "markdown",
   "metadata": {},
   "source": [
    " ### Merchant Redemption Score "
   ]
  },
  {
   "cell_type": "code",
   "execution_count": 30,
   "metadata": {},
   "outputs": [
    {
     "data": {
      "text/html": [
       "<div>\n",
       "<style scoped>\n",
       "    .dataframe tbody tr th:only-of-type {\n",
       "        vertical-align: middle;\n",
       "    }\n",
       "\n",
       "    .dataframe tbody tr th {\n",
       "        vertical-align: top;\n",
       "    }\n",
       "\n",
       "    .dataframe thead th {\n",
       "        text-align: right;\n",
       "    }\n",
       "</style>\n",
       "<table border=\"1\" class=\"dataframe\">\n",
       "  <thead>\n",
       "    <tr style=\"text-align: right;\">\n",
       "      <th></th>\n",
       "      <th>Merchant_Released</th>\n",
       "      <th>Merchant_Redeemed</th>\n",
       "      <th>Merchant_Ratio</th>\n",
       "    </tr>\n",
       "    <tr>\n",
       "      <th>Merchant_id</th>\n",
       "      <th></th>\n",
       "      <th></th>\n",
       "      <th></th>\n",
       "    </tr>\n",
       "  </thead>\n",
       "  <tbody>\n",
       "    <tr>\n",
       "      <td>7734</td>\n",
       "      <td>8</td>\n",
       "      <td>2</td>\n",
       "      <td>0.25</td>\n",
       "    </tr>\n",
       "    <tr>\n",
       "      <td>7615</td>\n",
       "      <td>4</td>\n",
       "      <td>0</td>\n",
       "      <td>0.00</td>\n",
       "    </tr>\n",
       "    <tr>\n",
       "      <td>5077</td>\n",
       "      <td>24</td>\n",
       "      <td>1</td>\n",
       "      <td>0.04</td>\n",
       "    </tr>\n",
       "    <tr>\n",
       "      <td>4341</td>\n",
       "      <td>3</td>\n",
       "      <td>0</td>\n",
       "      <td>0.00</td>\n",
       "    </tr>\n",
       "    <tr>\n",
       "      <td>7621</td>\n",
       "      <td>4</td>\n",
       "      <td>2</td>\n",
       "      <td>0.50</td>\n",
       "    </tr>\n",
       "  </tbody>\n",
       "</table>\n",
       "</div>"
      ],
      "text/plain": [
       "             Merchant_Released  Merchant_Redeemed  Merchant_Ratio\n",
       "Merchant_id                                                      \n",
       "7734                         8                  2            0.25\n",
       "7615                         4                  0            0.00\n",
       "5077                        24                  1            0.04\n",
       "4341                         3                  0            0.00\n",
       "7621                         4                  2            0.50"
      ]
     },
     "execution_count": 30,
     "metadata": {},
     "output_type": "execute_result"
    }
   ],
   "source": [
    "#Merchants in offline Dataset\n",
    "merchant_redemption_offline = df_off_coupon.groupby(['Merchant_id'])['Coupon_id','Date'].count()\n",
    "merchant_redemption_offline.columns = ['Merchant_Released', 'Merchant_Redeemed']\n",
    "merchant_redemption_offline['Merchant_Ratio'] = round(merchant_redemption_offline['Merchant_Redeemed']/merchant_redemption_offline['Merchant_Released'],2)\n",
    "merchant_redemption_offline.sample(5)"
   ]
  },
  {
   "cell_type": "code",
   "execution_count": 31,
   "metadata": {},
   "outputs": [
    {
     "data": {
      "image/png": "[encoded data removed]",
      "text/plain": [
       "<Figure size 576x360 with 1 Axes>"
      ]
     },
     "metadata": {
      "needs_background": "light"
     },
     "output_type": "display_data"
    }
   ],
   "source": [
    "plt.figure(figsize=(8,5))\n",
    "sns.distplot(merchant_redemption_offline['Merchant_Ratio'],kde=False,bins=26)\n",
    "plt.xlabel('Merchant Redemption Ratio')\n",
    "plt.ylabel('Count of Merchants')\n",
    "plt.title('Merchants Redemption Score Distribution (OFFLINE)')\n",
    "plt.show()"
   ]
  },
  {
   "cell_type": "code",
   "execution_count": 32,
   "metadata": {},
   "outputs": [
    {
     "data": {
      "text/html": [
       "<div>\n",
       "<style scoped>\n",
       "    .dataframe tbody tr th:only-of-type {\n",
       "        vertical-align: middle;\n",
       "    }\n",
       "\n",
       "    .dataframe tbody tr th {\n",
       "        vertical-align: top;\n",
       "    }\n",
       "\n",
       "    .dataframe thead th {\n",
       "        text-align: right;\n",
       "    }\n",
       "</style>\n",
       "<table border=\"1\" class=\"dataframe\">\n",
       "  <thead>\n",
       "    <tr style=\"text-align: right;\">\n",
       "      <th></th>\n",
       "      <th>Merchant_Released</th>\n",
       "      <th>Merchant_Redeemed</th>\n",
       "      <th>Merchant_Ratio</th>\n",
       "    </tr>\n",
       "    <tr>\n",
       "      <th>Merchant_id</th>\n",
       "      <th></th>\n",
       "      <th></th>\n",
       "      <th></th>\n",
       "    </tr>\n",
       "  </thead>\n",
       "  <tbody>\n",
       "    <tr>\n",
       "      <td>24208</td>\n",
       "      <td>78</td>\n",
       "      <td>11</td>\n",
       "      <td>0.14</td>\n",
       "    </tr>\n",
       "    <tr>\n",
       "      <td>33011</td>\n",
       "      <td>236</td>\n",
       "      <td>49</td>\n",
       "      <td>0.21</td>\n",
       "    </tr>\n",
       "    <tr>\n",
       "      <td>26306</td>\n",
       "      <td>1</td>\n",
       "      <td>1</td>\n",
       "      <td>1.00</td>\n",
       "    </tr>\n",
       "    <tr>\n",
       "      <td>51109</td>\n",
       "      <td>722</td>\n",
       "      <td>89</td>\n",
       "      <td>0.12</td>\n",
       "    </tr>\n",
       "    <tr>\n",
       "      <td>29810</td>\n",
       "      <td>402</td>\n",
       "      <td>103</td>\n",
       "      <td>0.26</td>\n",
       "    </tr>\n",
       "  </tbody>\n",
       "</table>\n",
       "</div>"
      ],
      "text/plain": [
       "             Merchant_Released  Merchant_Redeemed  Merchant_Ratio\n",
       "Merchant_id                                                      \n",
       "24208                       78                 11            0.14\n",
       "33011                      236                 49            0.21\n",
       "26306                        1                  1            1.00\n",
       "51109                      722                 89            0.12\n",
       "29810                      402                103            0.26"
      ]
     },
     "execution_count": 32,
     "metadata": {},
     "output_type": "execute_result"
    }
   ],
   "source": [
    "#Merchants in online Dataset\n",
    "merchant_redemption_online = df_on_coupon.groupby(['Merchant_id'])['Coupon_id','Date'].count()\n",
    "merchant_redemption_online.columns = ['Merchant_Released', 'Merchant_Redeemed']\n",
    "merchant_redemption_online['Merchant_Ratio'] = round(merchant_redemption_online['Merchant_Redeemed']/merchant_redemption_online['Merchant_Released'],2)\n",
    "merchant_redemption_online.sample(5)"
   ]
  },
  {
   "cell_type": "code",
   "execution_count": 33,
   "metadata": {},
   "outputs": [
    {
     "data": {
      "image/png": "[encoded data removed]",
      "text/plain": [
       "<Figure size 576x360 with 1 Axes>"
      ]
     },
     "metadata": {
      "needs_background": "light"
     },
     "output_type": "display_data"
    }
   ],
   "source": [
    "plt.figure(figsize=(8,5))\n",
    "sns.distplot(merchant_redemption_online['Merchant_Ratio'],kde=False,bins=26)\n",
    "plt.xlabel('Merchant Redemption Ratio')\n",
    "plt.ylabel('Count of Merchants')\n",
    "plt.title('Merchants Redemption Score Distribution (ONLINE)')\n",
    "\n",
    "plt.show()"
   ]
  },
  {
   "cell_type": "markdown",
   "metadata": {},
   "source": [
    "### Merchant and Average Distance of its customers (OFFLINE)"
   ]
  },
  {
   "cell_type": "code",
   "execution_count": 34,
   "metadata": {},
   "outputs": [
    {
     "data": {
      "text/html": [
       "<div>\n",
       "<style scoped>\n",
       "    .dataframe tbody tr th:only-of-type {\n",
       "        vertical-align: middle;\n",
       "    }\n",
       "\n",
       "    .dataframe tbody tr th {\n",
       "        vertical-align: top;\n",
       "    }\n",
       "\n",
       "    .dataframe thead th {\n",
       "        text-align: right;\n",
       "    }\n",
       "</style>\n",
       "<table border=\"1\" class=\"dataframe\">\n",
       "  <thead>\n",
       "    <tr style=\"text-align: right;\">\n",
       "      <th></th>\n",
       "      <th>AvgDistance</th>\n",
       "      <th>Count</th>\n",
       "    </tr>\n",
       "    <tr>\n",
       "      <th>Merchant_id</th>\n",
       "      <th></th>\n",
       "      <th></th>\n",
       "    </tr>\n",
       "  </thead>\n",
       "  <tbody>\n",
       "    <tr>\n",
       "      <td>1</td>\n",
       "      <td>0.000000</td>\n",
       "      <td>14</td>\n",
       "    </tr>\n",
       "    <tr>\n",
       "      <td>2</td>\n",
       "      <td>6.181818</td>\n",
       "      <td>11</td>\n",
       "    </tr>\n",
       "    <tr>\n",
       "      <td>3</td>\n",
       "      <td>5.000000</td>\n",
       "      <td>18</td>\n",
       "    </tr>\n",
       "    <tr>\n",
       "      <td>4</td>\n",
       "      <td>0.050000</td>\n",
       "      <td>40</td>\n",
       "    </tr>\n",
       "    <tr>\n",
       "      <td>5</td>\n",
       "      <td>1.531646</td>\n",
       "      <td>79</td>\n",
       "    </tr>\n",
       "  </tbody>\n",
       "</table>\n",
       "</div>"
      ],
      "text/plain": [
       "             AvgDistance  Count\n",
       "Merchant_id                    \n",
       "1               0.000000     14\n",
       "2               6.181818     11\n",
       "3               5.000000     18\n",
       "4               0.050000     40\n",
       "5               1.531646     79"
      ]
     },
     "execution_count": 34,
     "metadata": {},
     "output_type": "execute_result"
    }
   ],
   "source": [
    "merchant_distance = df_off_unique.groupby(['Merchant_id'])['Distance'].agg(['mean','count'])\n",
    "merchant_distance.columns = ['AvgDistance','Count']\n",
    "merchant_distance.head() "
   ]
  },
  {
   "cell_type": "code",
   "execution_count": 35,
   "metadata": {},
   "outputs": [
    {
     "data": {
      "image/png": "[encoded data removed]",
      "text/plain": [
       "<Figure size 576x360 with 1 Axes>"
      ]
     },
     "metadata": {
      "needs_background": "light"
     },
     "output_type": "display_data"
    }
   ],
   "source": [
    "plt.figure(figsize=(8,5))\n",
    "ax = sns.distplot(merchant_distance['AvgDistance'],kde=False,bins=26)\n",
    "plt.xlabel('AvgDistance of Users')\n",
    "plt.ylabel('Count of Merchants')\n",
    "plt.title('Distribution of Average Distance of customers (OFFLINE)')\n",
    "for p in ax.patches:\n",
    "    ax.annotate('{:.0f}'.format(p.get_height()), (p.get_x()+0.1, p.get_height()+50))\n",
    "plt.show()"
   ]
  },
  {
   "cell_type": "markdown",
   "metadata": {},
   "source": [
    "### Merchant and its Popularity  (OFFLINE)\n",
    "(based on number of visits of its customers)<br>\n",
    "If visits > 40:\n",
    "    then Merchant is Popular"
   ]
  },
  {
   "cell_type": "code",
   "execution_count": 36,
   "metadata": {},
   "outputs": [
    {
     "data": {
      "text/html": [
       "<div>\n",
       "<style scoped>\n",
       "    .dataframe tbody tr th:only-of-type {\n",
       "        vertical-align: middle;\n",
       "    }\n",
       "\n",
       "    .dataframe tbody tr th {\n",
       "        vertical-align: top;\n",
       "    }\n",
       "\n",
       "    .dataframe thead th {\n",
       "        text-align: right;\n",
       "    }\n",
       "</style>\n",
       "<table border=\"1\" class=\"dataframe\">\n",
       "  <thead>\n",
       "    <tr style=\"text-align: right;\">\n",
       "      <th></th>\n",
       "      <th>Merchant_id</th>\n",
       "      <th>Visits</th>\n",
       "    </tr>\n",
       "  </thead>\n",
       "  <tbody>\n",
       "    <tr>\n",
       "      <td>0</td>\n",
       "      <td>1</td>\n",
       "      <td>14</td>\n",
       "    </tr>\n",
       "    <tr>\n",
       "      <td>1</td>\n",
       "      <td>2</td>\n",
       "      <td>4</td>\n",
       "    </tr>\n",
       "    <tr>\n",
       "      <td>2</td>\n",
       "      <td>3</td>\n",
       "      <td>9</td>\n",
       "    </tr>\n",
       "    <tr>\n",
       "      <td>3</td>\n",
       "      <td>4</td>\n",
       "      <td>38</td>\n",
       "    </tr>\n",
       "    <tr>\n",
       "      <td>4</td>\n",
       "      <td>5</td>\n",
       "      <td>54</td>\n",
       "    </tr>\n",
       "  </tbody>\n",
       "</table>\n",
       "</div>"
      ],
      "text/plain": [
       "   Merchant_id  Visits\n",
       "0            1      14\n",
       "1            2       4\n",
       "2            3       9\n",
       "3            4      38\n",
       "4            5      54"
      ]
     },
     "execution_count": 36,
     "metadata": {},
     "output_type": "execute_result"
    }
   ],
   "source": [
    "df_off_purchase = df_off_unique[df_off_unique['Date'].isna()==False]\n",
    "merchant_visits_off = pd.DataFrame(df_off_purchase.groupby(['Merchant_id','User_id','Date'])['Distance'].count()).reset_index()\n",
    "\n",
    "merchant_visits_offline = pd.DataFrame(merchant_visits_off.groupby(['Merchant_id'])['Date'].count()).reset_index()\n",
    "\n",
    "merchant_visits_offline = merchant_visits_offline.rename(columns={\"Date\": \"Visits\"})\n",
    "merchant_visits_offline.head()"
   ]
  },
  {
   "cell_type": "code",
   "execution_count": 37,
   "metadata": {},
   "outputs": [
    {
     "data": {
      "text/plain": [
       "count     8321.000000\n",
       "mean        92.893042\n",
       "std        828.362388\n",
       "min          1.000000\n",
       "25%          6.000000\n",
       "50%         14.000000\n",
       "75%         38.000000\n",
       "max      35221.000000\n",
       "Name: Visits, dtype: float64"
      ]
     },
     "execution_count": 37,
     "metadata": {},
     "output_type": "execute_result"
    }
   ],
   "source": [
    "merchant_visits_offline['Visits'].describe()"
   ]
  },
  {
   "cell_type": "code",
   "execution_count": 38,
   "metadata": {},
   "outputs": [
    {
     "data": {
      "text/html": [
       "<div>\n",
       "<style scoped>\n",
       "    .dataframe tbody tr th:only-of-type {\n",
       "        vertical-align: middle;\n",
       "    }\n",
       "\n",
       "    .dataframe tbody tr th {\n",
       "        vertical-align: top;\n",
       "    }\n",
       "\n",
       "    .dataframe thead th {\n",
       "        text-align: right;\n",
       "    }\n",
       "</style>\n",
       "<table border=\"1\" class=\"dataframe\">\n",
       "  <thead>\n",
       "    <tr style=\"text-align: right;\">\n",
       "      <th></th>\n",
       "      <th>Merchant_id</th>\n",
       "      <th>Visits</th>\n",
       "      <th>Merchant_Popular</th>\n",
       "    </tr>\n",
       "  </thead>\n",
       "  <tbody>\n",
       "    <tr>\n",
       "      <td>5794</td>\n",
       "      <td>6165</td>\n",
       "      <td>52</td>\n",
       "      <td>1</td>\n",
       "    </tr>\n",
       "    <tr>\n",
       "      <td>8078</td>\n",
       "      <td>8600</td>\n",
       "      <td>141</td>\n",
       "      <td>1</td>\n",
       "    </tr>\n",
       "    <tr>\n",
       "      <td>4259</td>\n",
       "      <td>4533</td>\n",
       "      <td>50</td>\n",
       "      <td>1</td>\n",
       "    </tr>\n",
       "    <tr>\n",
       "      <td>5129</td>\n",
       "      <td>5448</td>\n",
       "      <td>16</td>\n",
       "      <td>0</td>\n",
       "    </tr>\n",
       "    <tr>\n",
       "      <td>2708</td>\n",
       "      <td>2878</td>\n",
       "      <td>2</td>\n",
       "      <td>0</td>\n",
       "    </tr>\n",
       "  </tbody>\n",
       "</table>\n",
       "</div>"
      ],
      "text/plain": [
       "      Merchant_id  Visits  Merchant_Popular\n",
       "5794         6165      52                 1\n",
       "8078         8600     141                 1\n",
       "4259         4533      50                 1\n",
       "5129         5448      16                 0\n",
       "2708         2878       2                 0"
      ]
     },
     "execution_count": 38,
     "metadata": {},
     "output_type": "execute_result"
    }
   ],
   "source": [
    "merchant_visits_offline['Merchant_Popular'] = [1 if x>40 else 0 for x in merchant_visits_offline['Visits']]\n",
    "merchant_visits_offline.sample(5)"
   ]
  },
  {
   "cell_type": "markdown",
   "metadata": {},
   "source": [
    "### Merchants and its Active duration"
   ]
  },
  {
   "cell_type": "code",
   "execution_count": 39,
   "metadata": {},
   "outputs": [
    {
     "data": {
      "text/html": [
       "<div>\n",
       "<style scoped>\n",
       "    .dataframe tbody tr th:only-of-type {\n",
       "        vertical-align: middle;\n",
       "    }\n",
       "\n",
       "    .dataframe tbody tr th {\n",
       "        vertical-align: top;\n",
       "    }\n",
       "\n",
       "    .dataframe thead th {\n",
       "        text-align: right;\n",
       "    }\n",
       "</style>\n",
       "<table border=\"1\" class=\"dataframe\">\n",
       "  <thead>\n",
       "    <tr style=\"text-align: right;\">\n",
       "      <th></th>\n",
       "      <th>User_id</th>\n",
       "      <th>Merchant_id</th>\n",
       "      <th>Coupon_id</th>\n",
       "      <th>Discount_rate</th>\n",
       "      <th>Distance</th>\n",
       "      <th>Date_received</th>\n",
       "      <th>Date</th>\n",
       "      <th>Count</th>\n",
       "      <th>DateTrack</th>\n",
       "    </tr>\n",
       "  </thead>\n",
       "  <tbody>\n",
       "    <tr>\n",
       "      <td>0</td>\n",
       "      <td>4</td>\n",
       "      <td>1433</td>\n",
       "      <td>8735.0</td>\n",
       "      <td>30:5</td>\n",
       "      <td>10</td>\n",
       "      <td>2016-02-14</td>\n",
       "      <td>NaT</td>\n",
       "      <td>1</td>\n",
       "      <td>2016-02-14</td>\n",
       "    </tr>\n",
       "    <tr>\n",
       "      <td>1</td>\n",
       "      <td>4</td>\n",
       "      <td>1469</td>\n",
       "      <td>2902.0</td>\n",
       "      <td>0.95</td>\n",
       "      <td>10</td>\n",
       "      <td>2016-06-07</td>\n",
       "      <td>NaT</td>\n",
       "      <td>1</td>\n",
       "      <td>2016-06-07</td>\n",
       "    </tr>\n",
       "    <tr>\n",
       "      <td>2</td>\n",
       "      <td>35</td>\n",
       "      <td>3381</td>\n",
       "      <td>1807.0</td>\n",
       "      <td>300:30</td>\n",
       "      <td>0</td>\n",
       "      <td>2016-01-30</td>\n",
       "      <td>NaT</td>\n",
       "      <td>1</td>\n",
       "      <td>2016-01-30</td>\n",
       "    </tr>\n",
       "    <tr>\n",
       "      <td>3</td>\n",
       "      <td>35</td>\n",
       "      <td>3381</td>\n",
       "      <td>9776.0</td>\n",
       "      <td>10:5</td>\n",
       "      <td>0</td>\n",
       "      <td>2016-01-29</td>\n",
       "      <td>NaT</td>\n",
       "      <td>1</td>\n",
       "      <td>2016-01-29</td>\n",
       "    </tr>\n",
       "    <tr>\n",
       "      <td>4</td>\n",
       "      <td>35</td>\n",
       "      <td>3381</td>\n",
       "      <td>11951.0</td>\n",
       "      <td>200:20</td>\n",
       "      <td>0</td>\n",
       "      <td>2016-01-29</td>\n",
       "      <td>NaT</td>\n",
       "      <td>1</td>\n",
       "      <td>2016-01-29</td>\n",
       "    </tr>\n",
       "  </tbody>\n",
       "</table>\n",
       "</div>"
      ],
      "text/plain": [
       "   User_id  Merchant_id  Coupon_id Discount_rate  Distance Date_received Date  \\\n",
       "0        4         1433     8735.0          30:5        10    2016-02-14  NaT   \n",
       "1        4         1469     2902.0          0.95        10    2016-06-07  NaT   \n",
       "2       35         3381     1807.0        300:30         0    2016-01-30  NaT   \n",
       "3       35         3381     9776.0          10:5         0    2016-01-29  NaT   \n",
       "4       35         3381    11951.0        200:20         0    2016-01-29  NaT   \n",
       "\n",
       "   Count  DateTrack  \n",
       "0      1 2016-02-14  \n",
       "1      1 2016-06-07  \n",
       "2      1 2016-01-30  \n",
       "3      1 2016-01-29  \n",
       "4      1 2016-01-29  "
      ]
     },
     "execution_count": 39,
     "metadata": {},
     "output_type": "execute_result"
    }
   ],
   "source": [
    "merchant_duration = df_off_unique.copy()\n",
    "merchant_duration['DateTrack'] = merchant_duration['Date']\n",
    "merchant_duration.DateTrack.fillna(merchant_duration.Date_received, inplace=True)\n",
    "merchant_duration.head()"
   ]
  },
  {
   "cell_type": "code",
   "execution_count": 40,
   "metadata": {},
   "outputs": [
    {
     "data": {
      "text/html": [
       "<div>\n",
       "<style scoped>\n",
       "    .dataframe tbody tr th:only-of-type {\n",
       "        vertical-align: middle;\n",
       "    }\n",
       "\n",
       "    .dataframe tbody tr th {\n",
       "        vertical-align: top;\n",
       "    }\n",
       "\n",
       "    .dataframe thead th {\n",
       "        text-align: right;\n",
       "    }\n",
       "</style>\n",
       "<table border=\"1\" class=\"dataframe\">\n",
       "  <thead>\n",
       "    <tr style=\"text-align: right;\">\n",
       "      <th></th>\n",
       "      <th>min</th>\n",
       "      <th>max</th>\n",
       "      <th>Duration</th>\n",
       "    </tr>\n",
       "    <tr>\n",
       "      <th>Merchant_id</th>\n",
       "      <th></th>\n",
       "      <th></th>\n",
       "      <th></th>\n",
       "    </tr>\n",
       "  </thead>\n",
       "  <tbody>\n",
       "    <tr>\n",
       "      <td>1</td>\n",
       "      <td>2016-01-15</td>\n",
       "      <td>2016-06-21</td>\n",
       "      <td>158 days</td>\n",
       "    </tr>\n",
       "    <tr>\n",
       "      <td>2</td>\n",
       "      <td>2016-05-15</td>\n",
       "      <td>2016-06-17</td>\n",
       "      <td>33 days</td>\n",
       "    </tr>\n",
       "    <tr>\n",
       "      <td>3</td>\n",
       "      <td>2016-04-24</td>\n",
       "      <td>2016-06-28</td>\n",
       "      <td>65 days</td>\n",
       "    </tr>\n",
       "    <tr>\n",
       "      <td>4</td>\n",
       "      <td>2016-02-18</td>\n",
       "      <td>2016-06-28</td>\n",
       "      <td>131 days</td>\n",
       "    </tr>\n",
       "    <tr>\n",
       "      <td>5</td>\n",
       "      <td>2016-01-01</td>\n",
       "      <td>2016-06-29</td>\n",
       "      <td>180 days</td>\n",
       "    </tr>\n",
       "  </tbody>\n",
       "</table>\n",
       "</div>"
      ],
      "text/plain": [
       "                   min        max Duration\n",
       "Merchant_id                               \n",
       "1           2016-01-15 2016-06-21 158 days\n",
       "2           2016-05-15 2016-06-17  33 days\n",
       "3           2016-04-24 2016-06-28  65 days\n",
       "4           2016-02-18 2016-06-28 131 days\n",
       "5           2016-01-01 2016-06-29 180 days"
      ]
     },
     "execution_count": 40,
     "metadata": {},
     "output_type": "execute_result"
    }
   ],
   "source": [
    "merchant_duration_days = merchant_duration.groupby(['Merchant_id'])['DateTrack'].agg(['min','max'])\n",
    "merchant_duration_days['Duration'] = merchant_duration_days['max'] - merchant_duration_days['min']\n",
    "merchant_duration_days.head()"
   ]
  },
  {
   "cell_type": "code",
   "execution_count": 41,
   "metadata": {},
   "outputs": [
    {
     "data": {
      "text/html": [
       "<div>\n",
       "<style scoped>\n",
       "    .dataframe tbody tr th:only-of-type {\n",
       "        vertical-align: middle;\n",
       "    }\n",
       "\n",
       "    .dataframe tbody tr th {\n",
       "        vertical-align: top;\n",
       "    }\n",
       "\n",
       "    .dataframe thead th {\n",
       "        text-align: right;\n",
       "    }\n",
       "</style>\n",
       "<table border=\"1\" class=\"dataframe\">\n",
       "  <thead>\n",
       "    <tr style=\"text-align: right;\">\n",
       "      <th></th>\n",
       "      <th>min</th>\n",
       "      <th>max</th>\n",
       "      <th>Duration</th>\n",
       "    </tr>\n",
       "    <tr>\n",
       "      <th>Merchant_id</th>\n",
       "      <th></th>\n",
       "      <th></th>\n",
       "      <th></th>\n",
       "    </tr>\n",
       "  </thead>\n",
       "  <tbody>\n",
       "    <tr>\n",
       "      <td>1</td>\n",
       "      <td>2016-01-15</td>\n",
       "      <td>2016-06-21</td>\n",
       "      <td>158</td>\n",
       "    </tr>\n",
       "    <tr>\n",
       "      <td>2</td>\n",
       "      <td>2016-05-15</td>\n",
       "      <td>2016-06-17</td>\n",
       "      <td>33</td>\n",
       "    </tr>\n",
       "    <tr>\n",
       "      <td>3</td>\n",
       "      <td>2016-04-24</td>\n",
       "      <td>2016-06-28</td>\n",
       "      <td>65</td>\n",
       "    </tr>\n",
       "    <tr>\n",
       "      <td>4</td>\n",
       "      <td>2016-02-18</td>\n",
       "      <td>2016-06-28</td>\n",
       "      <td>131</td>\n",
       "    </tr>\n",
       "    <tr>\n",
       "      <td>5</td>\n",
       "      <td>2016-01-01</td>\n",
       "      <td>2016-06-29</td>\n",
       "      <td>180</td>\n",
       "    </tr>\n",
       "  </tbody>\n",
       "</table>\n",
       "</div>"
      ],
      "text/plain": [
       "                   min        max  Duration\n",
       "Merchant_id                                \n",
       "1           2016-01-15 2016-06-21       158\n",
       "2           2016-05-15 2016-06-17        33\n",
       "3           2016-04-24 2016-06-28        65\n",
       "4           2016-02-18 2016-06-28       131\n",
       "5           2016-01-01 2016-06-29       180"
      ]
     },
     "execution_count": 41,
     "metadata": {},
     "output_type": "execute_result"
    }
   ],
   "source": [
    "merchant_duration_days['Duration'] = merchant_duration_days['Duration'].dt.days.astype('str')\n",
    "merchant_duration_days['Duration'] = pd.to_numeric(merchant_duration_days['Duration'],errors=\"coerce\")\n",
    "merchant_duration_days.head()"
   ]
  },
  {
   "cell_type": "code",
   "execution_count": 42,
   "metadata": {},
   "outputs": [
    {
     "data": {
      "image/png": "[encoded data removed]",
      "text/plain": [
       "<Figure size 576x360 with 1 Axes>"
      ]
     },
     "metadata": {
      "needs_background": "light"
     },
     "output_type": "display_data"
    }
   ],
   "source": [
    "plt.figure(figsize=(8,5))\n",
    "ax = sns.distplot(merchant_duration_days['Duration'],kde=False,bins=26)\n",
    "plt.xlabel('Active Duration of Merchants(days)')\n",
    "plt.ylabel('Count of Merchants')\n",
    "plt.title('Merchant and their Duration time(days)')\n",
    "for p in ax.patches:\n",
    "    ax.annotate('{:.0f}'.format(p.get_height()), (p.get_x()+0.1, p.get_height()+50))"
   ]
  },
  {
   "cell_type": "markdown",
   "metadata": {},
   "source": [
    "### Avg discount each merchant offers"
   ]
  },
  {
   "cell_type": "code",
   "execution_count": 43,
   "metadata": {},
   "outputs": [
    {
     "data": {
      "text/html": [
       "<div>\n",
       "<style scoped>\n",
       "    .dataframe tbody tr th:only-of-type {\n",
       "        vertical-align: middle;\n",
       "    }\n",
       "\n",
       "    .dataframe tbody tr th {\n",
       "        vertical-align: top;\n",
       "    }\n",
       "\n",
       "    .dataframe thead th {\n",
       "        text-align: right;\n",
       "    }\n",
       "</style>\n",
       "<table border=\"1\" class=\"dataframe\">\n",
       "  <thead>\n",
       "    <tr style=\"text-align: right;\">\n",
       "      <th></th>\n",
       "      <th>Merchant_id</th>\n",
       "      <th>AvgRate</th>\n",
       "    </tr>\n",
       "  </thead>\n",
       "  <tbody>\n",
       "    <tr>\n",
       "      <td>0</td>\n",
       "      <td>2</td>\n",
       "      <td>0.800</td>\n",
       "    </tr>\n",
       "    <tr>\n",
       "      <td>1</td>\n",
       "      <td>3</td>\n",
       "      <td>0.667</td>\n",
       "    </tr>\n",
       "    <tr>\n",
       "      <td>2</td>\n",
       "      <td>4</td>\n",
       "      <td>0.833</td>\n",
       "    </tr>\n",
       "    <tr>\n",
       "      <td>3</td>\n",
       "      <td>5</td>\n",
       "      <td>0.750</td>\n",
       "    </tr>\n",
       "    <tr>\n",
       "      <td>4</td>\n",
       "      <td>8</td>\n",
       "      <td>0.500</td>\n",
       "    </tr>\n",
       "  </tbody>\n",
       "</table>\n",
       "</div>"
      ],
      "text/plain": [
       "   Merchant_id  AvgRate\n",
       "0            2    0.800\n",
       "1            3    0.667\n",
       "2            4    0.833\n",
       "3            5    0.750\n",
       "4            8    0.500"
      ]
     },
     "execution_count": 43,
     "metadata": {},
     "output_type": "execute_result"
    }
   ],
   "source": [
    "#avg discounts each merchant offers\n",
    "merchant_discounts_avg = pd.DataFrame(df_off_coupon.groupby(['Merchant_id'])['Rate'].mean())\n",
    "merchant_discounts_avg.columns = ['AvgRate']\n",
    "merchant_discounts_avg = merchant_discounts_avg.reset_index()\n",
    "merchant_discounts_avg.head()"
   ]
  },
  {
   "cell_type": "code",
   "execution_count": 44,
   "metadata": {},
   "outputs": [
    {
     "data": {
      "text/plain": [
       "Text(0.5, 1.0, 'Merchant and Average Discount it offers')"
      ]
     },
     "execution_count": 44,
     "metadata": {},
     "output_type": "execute_result"
    },
    {
     "data": {
      "image/png": "[encoded data removed]",
      "text/plain": [
       "<Figure size 576x360 with 1 Axes>"
      ]
     },
     "metadata": {
      "needs_background": "light"
     },
     "output_type": "display_data"
    }
   ],
   "source": [
    "plt.figure(figsize=(8,5))\n",
    "sns.distplot(merchant_discounts_avg['AvgRate'],kde=False,bins=20)\n",
    "plt.xlabel('Mean Discount Rate')\n",
    "plt.ylabel('Count of Merchants')\n",
    "plt.title('Merchant and Average Discount it offers')"
   ]
  },
  {
   "cell_type": "markdown",
   "metadata": {},
   "source": [
    "## DISCOUNT ANALYSIS"
   ]
  },
  {
   "cell_type": "code",
   "execution_count": 45,
   "metadata": {},
   "outputs": [
    {
     "data": {
      "image/png": "[encoded data removed]",
      "text/plain": [
       "<Figure size 1440x504 with 2 Axes>"
      ]
     },
     "metadata": {
      "needs_background": "light"
     },
     "output_type": "display_data"
    }
   ],
   "source": [
    "# Coupons Released and redeemed and Discount Rate(OFFLINE)\n",
    "fig,(ax1,ax2) = plt.subplots(nrows=1,ncols=2,figsize=(20,7))\n",
    "plt.subplot(121)\n",
    "ax1 = sns.countplot(df_off_coupon['Rate'])\n",
    "ax1.set_xticklabels(ax1.get_xticklabels(),rotation=90)\n",
    "for p in ax1.patches:\n",
    "        ax1.annotate('{:.0f}'.format(p.get_height()), (p.get_x()+0.1, p.get_height()+50))\n",
    "\n",
    "plt.xlabel('Discount Rate')\n",
    "plt.ylabel('Count of Coupons released')\n",
    "plt.title('Number of coupons released for each discount rate(OFFLINE)')\n",
    "\n",
    "plt.subplot(122)\n",
    "df_off_redeem_coupon= df_off_coupon[df_off_coupon['Date'].isna()==False]\n",
    "\n",
    "ax2 = sns.countplot(df_off_redeem_coupon['Rate'])\n",
    "ax2.set_xticklabels(ax2.get_xticklabels(),rotation=90)\n",
    "for p in ax2.patches:\n",
    "        ax2.annotate('{:.0f}'.format(p.get_height()), (p.get_x()+0.1, p.get_height()+50))\n",
    "        \n",
    "plt.xlabel('Discount Rate')\n",
    "plt.ylabel('Count of Coupons redeemed')\n",
    "plt.title('Number of coupons redeemed for each discount rate(OFFLINE)')\n",
    "\n",
    "plt.show()"
   ]
  },
  {
   "cell_type": "code",
   "execution_count": 46,
   "metadata": {},
   "outputs": [
    {
     "data": {
      "image/png": "[encoded data removed]",
      "text/plain": [
       "<Figure size 1440x504 with 2 Axes>"
      ]
     },
     "metadata": {
      "needs_background": "light"
     },
     "output_type": "display_data"
    }
   ],
   "source": [
    "# Coupons Released and redeemed and Discount Rate(ONLINE)\n",
    "fig,(ax1,ax2) = plt.subplots(nrows=1,ncols=2,figsize=(20,7))\n",
    "plt.subplot(121)\n",
    "ax1 = sns.countplot(df_on_coupon['Rate'])\n",
    "ax1.set_xticklabels(ax1.get_xticklabels(),rotation=90)\n",
    "for p in ax1.patches:\n",
    "        ax1.annotate('{:.0f}'.format(p.get_height()), (p.get_x()+0.1, p.get_height()+50))\n",
    "\n",
    "plt.xlabel('Discount Rate')\n",
    "plt.ylabel('Count of Coupons released')\n",
    "plt.title('Number of coupons released for each discount rate(ONLINE)')\n",
    "\n",
    "plt.subplot(122)\n",
    "df_on_redeem_coupon= df_on_coupon[df_on_coupon['Date'].isna()==False]\n",
    "\n",
    "ax2 = sns.countplot(df_on_redeem_coupon['Rate'])\n",
    "ax2.set_xticklabels(ax2.get_xticklabels(),rotation=90)\n",
    "for p in ax2.patches:\n",
    "        ax2.annotate('{:.0f}'.format(p.get_height()), (p.get_x()+0.1, p.get_height()+50))\n",
    "        \n",
    "plt.xlabel('Discount Rate')\n",
    "plt.ylabel('Count of Coupons redeemed')\n",
    "plt.title('Number of coupons redeemed for each discount rate(ONLINE)')\n",
    "\n",
    "plt.show()"
   ]
  },
  {
   "cell_type": "code",
   "execution_count": 47,
   "metadata": {},
   "outputs": [
    {
     "data": {
      "text/html": [
       "<div>\n",
       "<style scoped>\n",
       "    .dataframe tbody tr th:only-of-type {\n",
       "        vertical-align: middle;\n",
       "    }\n",
       "\n",
       "    .dataframe tbody tr th {\n",
       "        vertical-align: top;\n",
       "    }\n",
       "\n",
       "    .dataframe thead th {\n",
       "        text-align: right;\n",
       "    }\n",
       "</style>\n",
       "<table border=\"1\" class=\"dataframe\">\n",
       "  <thead>\n",
       "    <tr style=\"text-align: right;\">\n",
       "      <th></th>\n",
       "      <th>Rate_Releases</th>\n",
       "      <th>Rate_Redeemed</th>\n",
       "      <th>Rate_Ratio</th>\n",
       "    </tr>\n",
       "    <tr>\n",
       "      <th>Rate</th>\n",
       "      <th></th>\n",
       "      <th></th>\n",
       "      <th></th>\n",
       "    </tr>\n",
       "  </thead>\n",
       "  <tbody>\n",
       "    <tr>\n",
       "      <td>0.200</td>\n",
       "      <td>81</td>\n",
       "      <td>6</td>\n",
       "      <td>0.074074</td>\n",
       "    </tr>\n",
       "    <tr>\n",
       "      <td>0.333</td>\n",
       "      <td>45003</td>\n",
       "      <td>3920</td>\n",
       "      <td>0.087105</td>\n",
       "    </tr>\n",
       "    <tr>\n",
       "      <td>0.375</td>\n",
       "      <td>4</td>\n",
       "      <td>4</td>\n",
       "      <td>1.000000</td>\n",
       "    </tr>\n",
       "    <tr>\n",
       "      <td>0.400</td>\n",
       "      <td>11395</td>\n",
       "      <td>2529</td>\n",
       "      <td>0.221939</td>\n",
       "    </tr>\n",
       "    <tr>\n",
       "      <td>0.500</td>\n",
       "      <td>142664</td>\n",
       "      <td>18480</td>\n",
       "      <td>0.129535</td>\n",
       "    </tr>\n",
       "  </tbody>\n",
       "</table>\n",
       "</div>"
      ],
      "text/plain": [
       "       Rate_Releases  Rate_Redeemed  Rate_Ratio\n",
       "Rate                                           \n",
       "0.200             81              6    0.074074\n",
       "0.333          45003           3920    0.087105\n",
       "0.375              4              4    1.000000\n",
       "0.400          11395           2529    0.221939\n",
       "0.500         142664          18480    0.129535"
      ]
     },
     "execution_count": 47,
     "metadata": {},
     "output_type": "execute_result"
    }
   ],
   "source": [
    "discount_redemption =  df_train_coupon.groupby(['Rate'])['Coupon_id','Date'].count()\n",
    "discount_redemption.columns = ['Rate_Releases','Rate_Redeemed']\n",
    "discount_redemption['Rate_Ratio'] = discount_redemption['Rate_Redeemed']/discount_redemption['Rate_Releases']\n",
    "discount_redemption.head()"
   ]
  },
  {
   "cell_type": "markdown",
   "metadata": {},
   "source": [
    "## Coupon Analysis"
   ]
  },
  {
   "cell_type": "markdown",
   "metadata": {},
   "source": [
    "### Merchant is constant for a particular Coupon ID"
   ]
  },
  {
   "cell_type": "code",
   "execution_count": 48,
   "metadata": {},
   "outputs": [
    {
     "data": {
      "text/plain": [
       "1"
      ]
     },
     "execution_count": 48,
     "metadata": {},
     "output_type": "execute_result"
    }
   ],
   "source": [
    "coupon_merchant = pd.DataFrame(df_train_coupon.groupby(['Coupon_id'])['Merchant_id'].nunique())\n",
    "coupon_merchant.columns = ['NumberOfMerchants']\n",
    "coupon_merchant['NumberOfMerchants'].nunique()"
   ]
  },
  {
   "cell_type": "markdown",
   "metadata": {},
   "source": [
    "### Discount Rate is constant for a particular Coupon ID"
   ]
  },
  {
   "cell_type": "code",
   "execution_count": 49,
   "metadata": {},
   "outputs": [
    {
     "data": {
      "text/plain": [
       "1"
      ]
     },
     "execution_count": 49,
     "metadata": {},
     "output_type": "execute_result"
    }
   ],
   "source": [
    "coupon_discount = pd.DataFrame(df_train_coupon.groupby(['Coupon_id'])['Rate'].nunique())\n",
    "coupon_discount.columns = ['NumberOfDiscounts']\n",
    "coupon_discount['NumberOfDiscounts'].nunique()"
   ]
  },
  {
   "cell_type": "markdown",
   "metadata": {},
   "source": [
    "### Coupon Redemption Score"
   ]
  },
  {
   "cell_type": "code",
   "execution_count": 50,
   "metadata": {},
   "outputs": [
    {
     "data": {
      "text/html": [
       "<div>\n",
       "<style scoped>\n",
       "    .dataframe tbody tr th:only-of-type {\n",
       "        vertical-align: middle;\n",
       "    }\n",
       "\n",
       "    .dataframe tbody tr th {\n",
       "        vertical-align: top;\n",
       "    }\n",
       "\n",
       "    .dataframe thead th {\n",
       "        text-align: right;\n",
       "    }\n",
       "</style>\n",
       "<table border=\"1\" class=\"dataframe\">\n",
       "  <thead>\n",
       "    <tr style=\"text-align: right;\">\n",
       "      <th></th>\n",
       "      <th>Coupon_Released</th>\n",
       "      <th>Coupon_Redeemed</th>\n",
       "      <th>Coupon_Ratio</th>\n",
       "    </tr>\n",
       "    <tr>\n",
       "      <th>Coupon_id</th>\n",
       "      <th></th>\n",
       "      <th></th>\n",
       "      <th></th>\n",
       "    </tr>\n",
       "  </thead>\n",
       "  <tbody>\n",
       "    <tr>\n",
       "      <td>5824.0</td>\n",
       "      <td>23</td>\n",
       "      <td>2</td>\n",
       "      <td>0.09</td>\n",
       "    </tr>\n",
       "    <tr>\n",
       "      <td>1413.0</td>\n",
       "      <td>7</td>\n",
       "      <td>0</td>\n",
       "      <td>0.00</td>\n",
       "    </tr>\n",
       "    <tr>\n",
       "      <td>10135.0</td>\n",
       "      <td>6</td>\n",
       "      <td>1</td>\n",
       "      <td>0.17</td>\n",
       "    </tr>\n",
       "    <tr>\n",
       "      <td>7805.0</td>\n",
       "      <td>131</td>\n",
       "      <td>2</td>\n",
       "      <td>0.02</td>\n",
       "    </tr>\n",
       "    <tr>\n",
       "      <td>5862.0</td>\n",
       "      <td>4</td>\n",
       "      <td>0</td>\n",
       "      <td>0.00</td>\n",
       "    </tr>\n",
       "  </tbody>\n",
       "</table>\n",
       "</div>"
      ],
      "text/plain": [
       "           Coupon_Released  Coupon_Redeemed  Coupon_Ratio\n",
       "Coupon_id                                                \n",
       "5824.0                  23                2          0.09\n",
       "1413.0                   7                0          0.00\n",
       "10135.0                  6                1          0.17\n",
       "7805.0                 131                2          0.02\n",
       "5862.0                   4                0          0.00"
      ]
     },
     "execution_count": 50,
     "metadata": {},
     "output_type": "execute_result"
    }
   ],
   "source": [
    "#Coupon in training Dataset\n",
    "coupon_redemption_offline = df_off_coupon.groupby(['Coupon_id'])['Rate','Date'].count()\n",
    "coupon_redemption_offline.columns = ['Coupon_Released', 'Coupon_Redeemed']\n",
    "coupon_redemption_offline['Coupon_Ratio'] = round(coupon_redemption_offline['Coupon_Redeemed']/coupon_redemption_offline['Coupon_Released'],2)\n",
    "coupon_redemption_offline.sample(5)"
   ]
  },
  {
   "cell_type": "code",
   "execution_count": 51,
   "metadata": {},
   "outputs": [
    {
     "data": {
      "image/png": "[encoded data removed]",
      "text/plain": [
       "<Figure size 576x360 with 1 Axes>"
      ]
     },
     "metadata": {
      "needs_background": "light"
     },
     "output_type": "display_data"
    }
   ],
   "source": [
    "plt.figure(figsize=(8,5))\n",
    "sns.distplot(coupon_redemption_offline['Coupon_Ratio'],kde=False,bins=26)\n",
    "plt.xlabel('Coupon Redemption Ratio')\n",
    "plt.ylabel('Count of Coupon')\n",
    "plt.title('Coupon Redemption Score Distribution (OFFLINE)')\n",
    "plt.show()"
   ]
  },
  {
   "cell_type": "markdown",
   "metadata": {},
   "source": [
    "### Distance Distribution with respect to coupon redemption"
   ]
  },
  {
   "cell_type": "code",
   "execution_count": 52,
   "metadata": {},
   "outputs": [
    {
     "data": {
      "image/png": "[encoded data removed]",
      "text/plain": [
       "<Figure size 648x504 with 1 Axes>"
      ]
     },
     "metadata": {
      "needs_background": "light"
     },
     "output_type": "display_data"
    }
   ],
   "source": [
    "plt.figure(figsize=(9,7))\n",
    "ax = sns.countplot(df_off_redeem_coupon['Distance'])\n",
    "ax.set_xticklabels(ax.get_xticklabels(),rotation=90)\n",
    "for p in ax.patches:\n",
    "        ax.annotate('{:.0f}'.format(p.get_height()), (p.get_x()+0.1, p.get_height()+50))\n",
    "plt.xlabel('Distance between users and merchants')\n",
    "plt.ylabel('Count of Coupon Redeemed for that discount')\n",
    "plt.title('Coupon Redemption and the Distance of User')\n",
    "plt.show()"
   ]
  },
  {
   "cell_type": "markdown",
   "metadata": {},
   "source": [
    "## Date Analysis"
   ]
  },
  {
   "cell_type": "markdown",
   "metadata": {},
   "source": [
    "#### Count of coupons released each day (OFFLINE)"
   ]
  },
  {
   "cell_type": "code",
   "execution_count": 53,
   "metadata": {},
   "outputs": [
    {
     "data": {
      "image/png": "[encoded data removed]",
      "text/plain": [
       "<Figure size 2520x1440 with 1 Axes>"
      ]
     },
     "metadata": {
      "needs_background": "light"
     },
     "output_type": "display_data"
    }
   ],
   "source": [
    "plt.figure(figsize=(35,20))\n",
    "ax = sns.countplot(df_off_coupon['Date_received'])\n",
    "ax.set_xticklabels(ax.get_xticklabels(),rotation=90)\n",
    "plt.xlabel('Dates : Jan 1, 2016 - Jun 30,2016 (182 days)')\n",
    "plt.ylabel('Count of Coupon Released')\n",
    "plt.title('Count of coupons Released each day')\n",
    "plt.show()"
   ]
  },
  {
   "cell_type": "markdown",
   "metadata": {},
   "source": [
    "#### Count of coupons redeemed each day (OFFLINE)"
   ]
  },
  {
   "cell_type": "code",
   "execution_count": 54,
   "metadata": {},
   "outputs": [
    {
     "data": {
      "image/png": "[encoded data removed]",
      "text/plain": [
       "<Figure size 2520x1440 with 1 Axes>"
      ]
     },
     "metadata": {
      "needs_background": "light"
     },
     "output_type": "display_data"
    }
   ],
   "source": [
    "plt.figure(figsize=(35,20))\n",
    "ax = sns.countplot(df_off_redeem_coupon['Date'])\n",
    "ax.set_xticklabels(ax.get_xticklabels(),rotation=90)\n",
    "plt.xlabel('Dates : Jan 1, 2016 - Jun 30,2016 (182 days)')\n",
    "plt.ylabel('Count of Coupon Redeemed')\n",
    "plt.title('Count of coupons redeemed each day')\n",
    "plt.show()"
   ]
  },
  {
   "cell_type": "code",
   "execution_count": 55,
   "metadata": {},
   "outputs": [
    {
     "data": {
      "text/html": [
       "<div>\n",
       "<style scoped>\n",
       "    .dataframe tbody tr th:only-of-type {\n",
       "        vertical-align: middle;\n",
       "    }\n",
       "\n",
       "    .dataframe tbody tr th {\n",
       "        vertical-align: top;\n",
       "    }\n",
       "\n",
       "    .dataframe thead th {\n",
       "        text-align: right;\n",
       "    }\n",
       "</style>\n",
       "<table border=\"1\" class=\"dataframe\">\n",
       "  <thead>\n",
       "    <tr style=\"text-align: right;\">\n",
       "      <th></th>\n",
       "      <th>User_id</th>\n",
       "      <th>Merchant_id</th>\n",
       "      <th>Coupon_id</th>\n",
       "      <th>Discount_rate</th>\n",
       "      <th>Distance</th>\n",
       "      <th>Date_received</th>\n",
       "      <th>Date</th>\n",
       "      <th>Count</th>\n",
       "      <th>Discount</th>\n",
       "      <th>Original_price</th>\n",
       "      <th>Discounted_price</th>\n",
       "      <th>Rate</th>\n",
       "    </tr>\n",
       "  </thead>\n",
       "  <tbody>\n",
       "    <tr>\n",
       "      <td>33</td>\n",
       "      <td>184</td>\n",
       "      <td>3381</td>\n",
       "      <td>9776.0</td>\n",
       "      <td>[10, 5, 0.5]</td>\n",
       "      <td>0.0</td>\n",
       "      <td>2016-01-29</td>\n",
       "      <td>2016-02-28</td>\n",
       "      <td>1</td>\n",
       "      <td>10:5</td>\n",
       "      <td>10</td>\n",
       "      <td>5</td>\n",
       "      <td>0.500</td>\n",
       "    </tr>\n",
       "    <tr>\n",
       "      <td>76</td>\n",
       "      <td>417</td>\n",
       "      <td>775</td>\n",
       "      <td>5435.0</td>\n",
       "      <td>[30, 5, 0.833]</td>\n",
       "      <td>0.0</td>\n",
       "      <td>2016-03-29</td>\n",
       "      <td>2016-04-12</td>\n",
       "      <td>1</td>\n",
       "      <td>30:5</td>\n",
       "      <td>30</td>\n",
       "      <td>5</td>\n",
       "      <td>0.833</td>\n",
       "    </tr>\n",
       "    <tr>\n",
       "      <td>150</td>\n",
       "      <td>687</td>\n",
       "      <td>6454</td>\n",
       "      <td>14031.0</td>\n",
       "      <td>[100, 10, 0.9]</td>\n",
       "      <td>NaN</td>\n",
       "      <td>2016-01-28</td>\n",
       "      <td>2016-01-30</td>\n",
       "      <td>1</td>\n",
       "      <td>100:10</td>\n",
       "      <td>100</td>\n",
       "      <td>10</td>\n",
       "      <td>0.900</td>\n",
       "    </tr>\n",
       "    <tr>\n",
       "      <td>153</td>\n",
       "      <td>687</td>\n",
       "      <td>8594</td>\n",
       "      <td>9353.0</td>\n",
       "      <td>[30, 1, 0.967]</td>\n",
       "      <td>NaN</td>\n",
       "      <td>2016-03-28</td>\n",
       "      <td>2016-04-02</td>\n",
       "      <td>1</td>\n",
       "      <td>30:1</td>\n",
       "      <td>30</td>\n",
       "      <td>1</td>\n",
       "      <td>0.967</td>\n",
       "    </tr>\n",
       "    <tr>\n",
       "      <td>158</td>\n",
       "      <td>696</td>\n",
       "      <td>4195</td>\n",
       "      <td>3726.0</td>\n",
       "      <td>[100, 10, 0.9]</td>\n",
       "      <td>0.0</td>\n",
       "      <td>2016-04-11</td>\n",
       "      <td>2016-04-13</td>\n",
       "      <td>1</td>\n",
       "      <td>0.9</td>\n",
       "      <td>100</td>\n",
       "      <td>10</td>\n",
       "      <td>0.900</td>\n",
       "    </tr>\n",
       "    <tr>\n",
       "      <td>...</td>\n",
       "      <td>...</td>\n",
       "      <td>...</td>\n",
       "      <td>...</td>\n",
       "      <td>...</td>\n",
       "      <td>...</td>\n",
       "      <td>...</td>\n",
       "      <td>...</td>\n",
       "      <td>...</td>\n",
       "      <td>...</td>\n",
       "      <td>...</td>\n",
       "      <td>...</td>\n",
       "      <td>...</td>\n",
       "    </tr>\n",
       "    <tr>\n",
       "      <td>1716956</td>\n",
       "      <td>7360845</td>\n",
       "      <td>5341</td>\n",
       "      <td>11539.0</td>\n",
       "      <td>[30, 5, 0.833]</td>\n",
       "      <td>NaN</td>\n",
       "      <td>2016-01-28</td>\n",
       "      <td>2016-02-15</td>\n",
       "      <td>1</td>\n",
       "      <td>30:5</td>\n",
       "      <td>30</td>\n",
       "      <td>5</td>\n",
       "      <td>0.833</td>\n",
       "    </tr>\n",
       "    <tr>\n",
       "      <td>1716959</td>\n",
       "      <td>7360863</td>\n",
       "      <td>5618</td>\n",
       "      <td>6379.0</td>\n",
       "      <td>[100, 10, 0.9]</td>\n",
       "      <td>0.0</td>\n",
       "      <td>2016-01-19</td>\n",
       "      <td>2016-01-27</td>\n",
       "      <td>1</td>\n",
       "      <td>100:10</td>\n",
       "      <td>100</td>\n",
       "      <td>10</td>\n",
       "      <td>0.900</td>\n",
       "    </tr>\n",
       "    <tr>\n",
       "      <td>1716966</td>\n",
       "      <td>7360928</td>\n",
       "      <td>3532</td>\n",
       "      <td>1563.0</td>\n",
       "      <td>[30, 5, 0.833]</td>\n",
       "      <td>0.0</td>\n",
       "      <td>2016-05-22</td>\n",
       "      <td>2016-05-27</td>\n",
       "      <td>1</td>\n",
       "      <td>30:5</td>\n",
       "      <td>30</td>\n",
       "      <td>5</td>\n",
       "      <td>0.833</td>\n",
       "    </tr>\n",
       "    <tr>\n",
       "      <td>1716975</td>\n",
       "      <td>7360941</td>\n",
       "      <td>6485</td>\n",
       "      <td>10323.0</td>\n",
       "      <td>[20, 5, 0.75]</td>\n",
       "      <td>0.0</td>\n",
       "      <td>2016-03-25</td>\n",
       "      <td>2016-03-26</td>\n",
       "      <td>1</td>\n",
       "      <td>20:5</td>\n",
       "      <td>20</td>\n",
       "      <td>5</td>\n",
       "      <td>0.750</td>\n",
       "    </tr>\n",
       "    <tr>\n",
       "      <td>1716976</td>\n",
       "      <td>7360941</td>\n",
       "      <td>6485</td>\n",
       "      <td>10323.0</td>\n",
       "      <td>[20, 5, 0.75]</td>\n",
       "      <td>0.0</td>\n",
       "      <td>2016-03-25</td>\n",
       "      <td>2016-03-27</td>\n",
       "      <td>1</td>\n",
       "      <td>20:5</td>\n",
       "      <td>20</td>\n",
       "      <td>5</td>\n",
       "      <td>0.750</td>\n",
       "    </tr>\n",
       "  </tbody>\n",
       "</table>\n",
       "<p>73064 rows × 12 columns</p>\n",
       "</div>"
      ],
      "text/plain": [
       "         User_id  Merchant_id  Coupon_id   Discount_rate  Distance  \\\n",
       "33           184         3381     9776.0    [10, 5, 0.5]       0.0   \n",
       "76           417          775     5435.0  [30, 5, 0.833]       0.0   \n",
       "150          687         6454    14031.0  [100, 10, 0.9]       NaN   \n",
       "153          687         8594     9353.0  [30, 1, 0.967]       NaN   \n",
       "158          696         4195     3726.0  [100, 10, 0.9]       0.0   \n",
       "...          ...          ...        ...             ...       ...   \n",
       "1716956  7360845         5341    11539.0  [30, 5, 0.833]       NaN   \n",
       "1716959  7360863         5618     6379.0  [100, 10, 0.9]       0.0   \n",
       "1716966  7360928         3532     1563.0  [30, 5, 0.833]       0.0   \n",
       "1716975  7360941         6485    10323.0   [20, 5, 0.75]       0.0   \n",
       "1716976  7360941         6485    10323.0   [20, 5, 0.75]       0.0   \n",
       "\n",
       "        Date_received       Date  Count Discount  Original_price  \\\n",
       "33         2016-01-29 2016-02-28      1     10:5              10   \n",
       "76         2016-03-29 2016-04-12      1     30:5              30   \n",
       "150        2016-01-28 2016-01-30      1   100:10             100   \n",
       "153        2016-03-28 2016-04-02      1     30:1              30   \n",
       "158        2016-04-11 2016-04-13      1      0.9             100   \n",
       "...               ...        ...    ...      ...             ...   \n",
       "1716956    2016-01-28 2016-02-15      1     30:5              30   \n",
       "1716959    2016-01-19 2016-01-27      1   100:10             100   \n",
       "1716966    2016-05-22 2016-05-27      1     30:5              30   \n",
       "1716975    2016-03-25 2016-03-26      1     20:5              20   \n",
       "1716976    2016-03-25 2016-03-27      1     20:5              20   \n",
       "\n",
       "         Discounted_price   Rate  \n",
       "33                      5  0.500  \n",
       "76                      5  0.833  \n",
       "150                    10  0.900  \n",
       "153                     1  0.967  \n",
       "158                    10  0.900  \n",
       "...                   ...    ...  \n",
       "1716956                 5  0.833  \n",
       "1716959                10  0.900  \n",
       "1716966                 5  0.833  \n",
       "1716975                 5  0.750  \n",
       "1716976                 5  0.750  \n",
       "\n",
       "[73064 rows x 12 columns]"
      ]
     },
     "execution_count": 55,
     "metadata": {},
     "output_type": "execute_result"
    }
   ],
   "source": [
    "df_off_redeem_coupon"
   ]
  },
  {
   "cell_type": "markdown",
   "metadata": {},
   "source": [
    "#### Count of coupons released each day (ONLINE)"
   ]
  },
  {
   "cell_type": "code",
   "execution_count": 56,
   "metadata": {},
   "outputs": [
    {
     "data": {
      "image/png": "[encoded data removed]",
      "text/plain": [
       "<Figure size 2520x1440 with 1 Axes>"
      ]
     },
     "metadata": {
      "needs_background": "light"
     },
     "output_type": "display_data"
    }
   ],
   "source": [
    "plt.figure(figsize=(35,20))\n",
    "ax = sns.countplot(df_on_coupon['Date_received'])\n",
    "ax.set_xticklabels(ax.get_xticklabels(),rotation=90)\n",
    "plt.xlabel('Dates : Jan 1, 2016 - Jun 30,2016 (182 days)')\n",
    "plt.ylabel('Count of Coupon Released')\n",
    "plt.title('Count of coupons Released each day')\n",
    "plt.show()"
   ]
  },
  {
   "cell_type": "markdown",
   "metadata": {},
   "source": [
    "#### Count of coupons redeemed each day (ONLINE)"
   ]
  },
  {
   "cell_type": "code",
   "execution_count": 57,
   "metadata": {},
   "outputs": [
    {
     "data": {
      "image/png": "[encoded data removed]",
      "text/plain": [
       "<Figure size 2520x1440 with 1 Axes>"
      ]
     },
     "metadata": {
      "needs_background": "light"
     },
     "output_type": "display_data"
    }
   ],
   "source": [
    "plt.figure(figsize=(35,20))\n",
    "ax = sns.countplot(df_on_redeem_coupon['Date'])\n",
    "ax.set_xticklabels(ax.get_xticklabels(),rotation=90)\n",
    "plt.xlabel('Dates : Jan 1, 2016 - Jun 30,2016 (182 days)')\n",
    "plt.ylabel('Count of Coupon Redeemed')\n",
    "plt.title('Count of coupons redeemed each day')\n",
    "plt.show()"
   ]
  },
  {
   "cell_type": "markdown",
   "metadata": {},
   "source": [
    "### Weekdays or Weekends for Date Received (Offline)"
   ]
  },
  {
   "cell_type": "code",
   "execution_count": 58,
   "metadata": {},
   "outputs": [
    {
     "data": {
      "text/html": [
       "<div>\n",
       "<style scoped>\n",
       "    .dataframe tbody tr th:only-of-type {\n",
       "        vertical-align: middle;\n",
       "    }\n",
       "\n",
       "    .dataframe tbody tr th {\n",
       "        vertical-align: top;\n",
       "    }\n",
       "\n",
       "    .dataframe thead th {\n",
       "        text-align: right;\n",
       "    }\n",
       "</style>\n",
       "<table border=\"1\" class=\"dataframe\">\n",
       "  <thead>\n",
       "    <tr style=\"text-align: right;\">\n",
       "      <th></th>\n",
       "      <th>User_id</th>\n",
       "      <th>Merchant_id</th>\n",
       "      <th>Coupon_id</th>\n",
       "      <th>Discount_rate</th>\n",
       "      <th>Distance</th>\n",
       "      <th>Date_received</th>\n",
       "      <th>Date</th>\n",
       "      <th>Count</th>\n",
       "      <th>Discount</th>\n",
       "      <th>Original_price</th>\n",
       "      <th>Discounted_price</th>\n",
       "      <th>Rate</th>\n",
       "      <th>Weekend_p</th>\n",
       "      <th>DayOfWeek_p</th>\n",
       "      <th>Month_p</th>\n",
       "    </tr>\n",
       "  </thead>\n",
       "  <tbody>\n",
       "    <tr>\n",
       "      <td>33</td>\n",
       "      <td>184</td>\n",
       "      <td>3381</td>\n",
       "      <td>9776.0</td>\n",
       "      <td>[10, 5, 0.5]</td>\n",
       "      <td>0.0</td>\n",
       "      <td>2016-01-29</td>\n",
       "      <td>2016-02-28</td>\n",
       "      <td>1</td>\n",
       "      <td>10:5</td>\n",
       "      <td>10</td>\n",
       "      <td>5</td>\n",
       "      <td>0.500</td>\n",
       "      <td>1</td>\n",
       "      <td>6</td>\n",
       "      <td>2</td>\n",
       "    </tr>\n",
       "    <tr>\n",
       "      <td>76</td>\n",
       "      <td>417</td>\n",
       "      <td>775</td>\n",
       "      <td>5435.0</td>\n",
       "      <td>[30, 5, 0.833]</td>\n",
       "      <td>0.0</td>\n",
       "      <td>2016-03-29</td>\n",
       "      <td>2016-04-12</td>\n",
       "      <td>1</td>\n",
       "      <td>30:5</td>\n",
       "      <td>30</td>\n",
       "      <td>5</td>\n",
       "      <td>0.833</td>\n",
       "      <td>0</td>\n",
       "      <td>1</td>\n",
       "      <td>4</td>\n",
       "    </tr>\n",
       "    <tr>\n",
       "      <td>150</td>\n",
       "      <td>687</td>\n",
       "      <td>6454</td>\n",
       "      <td>14031.0</td>\n",
       "      <td>[100, 10, 0.9]</td>\n",
       "      <td>NaN</td>\n",
       "      <td>2016-01-28</td>\n",
       "      <td>2016-01-30</td>\n",
       "      <td>1</td>\n",
       "      <td>100:10</td>\n",
       "      <td>100</td>\n",
       "      <td>10</td>\n",
       "      <td>0.900</td>\n",
       "      <td>1</td>\n",
       "      <td>5</td>\n",
       "      <td>1</td>\n",
       "    </tr>\n",
       "    <tr>\n",
       "      <td>153</td>\n",
       "      <td>687</td>\n",
       "      <td>8594</td>\n",
       "      <td>9353.0</td>\n",
       "      <td>[30, 1, 0.967]</td>\n",
       "      <td>NaN</td>\n",
       "      <td>2016-03-28</td>\n",
       "      <td>2016-04-02</td>\n",
       "      <td>1</td>\n",
       "      <td>30:1</td>\n",
       "      <td>30</td>\n",
       "      <td>1</td>\n",
       "      <td>0.967</td>\n",
       "      <td>1</td>\n",
       "      <td>5</td>\n",
       "      <td>4</td>\n",
       "    </tr>\n",
       "    <tr>\n",
       "      <td>158</td>\n",
       "      <td>696</td>\n",
       "      <td>4195</td>\n",
       "      <td>3726.0</td>\n",
       "      <td>[100, 10, 0.9]</td>\n",
       "      <td>0.0</td>\n",
       "      <td>2016-04-11</td>\n",
       "      <td>2016-04-13</td>\n",
       "      <td>1</td>\n",
       "      <td>0.9</td>\n",
       "      <td>100</td>\n",
       "      <td>10</td>\n",
       "      <td>0.900</td>\n",
       "      <td>0</td>\n",
       "      <td>2</td>\n",
       "      <td>4</td>\n",
       "    </tr>\n",
       "  </tbody>\n",
       "</table>\n",
       "</div>"
      ],
      "text/plain": [
       "     User_id  Merchant_id  Coupon_id   Discount_rate  Distance Date_received  \\\n",
       "33       184         3381     9776.0    [10, 5, 0.5]       0.0    2016-01-29   \n",
       "76       417          775     5435.0  [30, 5, 0.833]       0.0    2016-03-29   \n",
       "150      687         6454    14031.0  [100, 10, 0.9]       NaN    2016-01-28   \n",
       "153      687         8594     9353.0  [30, 1, 0.967]       NaN    2016-03-28   \n",
       "158      696         4195     3726.0  [100, 10, 0.9]       0.0    2016-04-11   \n",
       "\n",
       "          Date  Count Discount  Original_price  Discounted_price   Rate  \\\n",
       "33  2016-02-28      1     10:5              10                 5  0.500   \n",
       "76  2016-04-12      1     30:5              30                 5  0.833   \n",
       "150 2016-01-30      1   100:10             100                10  0.900   \n",
       "153 2016-04-02      1     30:1              30                 1  0.967   \n",
       "158 2016-04-13      1      0.9             100                10  0.900   \n",
       "\n",
       "     Weekend_p  DayOfWeek_p  Month_p  \n",
       "33           1            6        2  \n",
       "76           0            1        4  \n",
       "150          1            5        1  \n",
       "153          1            5        4  \n",
       "158          0            2        4  "
      ]
     },
     "execution_count": 58,
     "metadata": {},
     "output_type": "execute_result"
    }
   ],
   "source": [
    "#Receive Date\n",
    "df_off_coupon.loc[:,('Weekend')]  = np.where((df_off_coupon.loc[:,('Date_received')] .dt.dayofweek) < 5,0,1)\n",
    "df_off_coupon.loc[:,('DayOfWeek')] = df_off_coupon.loc[:,('Date_received')].dt.dayofweek\n",
    "df_off_coupon.loc[:,('Month')]  = (df_off_coupon.loc[:,('Date_received')]).dt.month\n",
    "\n",
    "#Purchase Date\n",
    "df_off_redeem_coupon.loc[:,('Weekend_p')]  = np.where((df_off_redeem_coupon.loc[:,('Date')] .dt.dayofweek) < 5,0,1)\n",
    "df_off_redeem_coupon.loc[:,('DayOfWeek_p')] = df_off_redeem_coupon.loc[:,('Date')].dt.dayofweek\n",
    "df_off_redeem_coupon.loc[:,('Month_p')]  = (df_off_redeem_coupon.loc[:,('Date')]).dt.month\n",
    "\n",
    "df_off_redeem_coupon.head()\n"
   ]
  },
  {
   "cell_type": "code",
   "execution_count": 59,
   "metadata": {},
   "outputs": [
    {
     "data": {
      "image/png": "[encoded data removed]",
      "text/plain": [
       "<Figure size 1440x720 with 2 Axes>"
      ]
     },
     "metadata": {
      "needs_background": "light"
     },
     "output_type": "display_data"
    }
   ],
   "source": [
    "fig,(ax1,ax2) = plt.subplots(nrows=1,ncols=2,figsize=(20,10))\n",
    "plt.subplot(121)\n",
    "# plt.figure(figsize=(7,4))\n",
    "ax1 = sns.countplot(df_off_coupon['Weekend'])\n",
    "ax1.set_xticklabels(['Weekdays','Weekend'],rotation=90)\n",
    "for p in ax1.patches:\n",
    "        ax1.annotate('{:.0f}'.format(p.get_height()), (p.get_x()+0.1, p.get_height()+50))\n",
    "\n",
    "plt.title('Number of Releases and Weekends')\n",
    "\n",
    "plt.subplot(122)\n",
    "# plt.figure(figsize=(7,4))\n",
    "ax2 = sns.countplot(df_off_redeem_coupon['Weekend_p'])\n",
    "ax2.set_xticklabels(['Weekdays','Weekend'],rotation=90)\n",
    "for p in ax2.patches:\n",
    "        ax2.annotate('{:.0f}'.format(p.get_height()), (p.get_x()+0.1, p.get_height()+50))\n",
    "plt.title('Count of Redemption and Weekends')\n",
    "\n",
    "plt.show()"
   ]
  },
  {
   "cell_type": "code",
   "execution_count": 60,
   "metadata": {},
   "outputs": [
    {
     "data": {
      "image/png": "[encoded data removed]",
      "text/plain": [
       "<Figure size 1440x720 with 2 Axes>"
      ]
     },
     "metadata": {
      "needs_background": "light"
     },
     "output_type": "display_data"
    }
   ],
   "source": [
    "fig,(ax1,ax2) = plt.subplots(nrows=1,ncols=2,figsize=(20,10))\n",
    "plt.subplot(121)\n",
    "# plt.figure(figsize=(7,4))\n",
    "ax1 = sns.countplot(df_off_coupon['DayOfWeek'])\n",
    "ax1.set_xticklabels(['MON','TUE','WED','THUR','FRI','SAT','SUN'],rotation=90)\n",
    "for p in ax1.patches:\n",
    "        ax1.annotate('{:.0f}'.format(p.get_height()), (p.get_x()+0.1, p.get_height()+50))\n",
    "\n",
    "plt.title('Number of Releases and Days')\n",
    "\n",
    "plt.subplot(122)\n",
    "# plt.figure(figsize=(7,4))\n",
    "ax2 = sns.countplot(df_off_redeem_coupon['DayOfWeek_p'])\n",
    "ax2.set_xticklabels(['MON','TUE','WED','THUR','FRI','SAT','SUN'],rotation=90)\n",
    "for p in ax2.patches:\n",
    "        ax2.annotate('{:.0f}'.format(p.get_height()), (p.get_x()+0.1, p.get_height()+50))\n",
    "plt.title('Count of Redemption and Days')\n",
    "\n",
    "plt.show()"
   ]
  },
  {
   "cell_type": "code",
   "execution_count": 61,
   "metadata": {},
   "outputs": [
    {
     "data": {
      "image/png": "[encoded data removed]",
      "text/plain": [
       "<Figure size 1440x720 with 2 Axes>"
      ]
     },
     "metadata": {
      "needs_background": "light"
     },
     "output_type": "display_data"
    }
   ],
   "source": [
    "fig,(ax1,ax2) = plt.subplots(nrows=1,ncols=2,figsize=(20,10))\n",
    "plt.subplot(121)\n",
    "# plt.figure(figsize=(7,4))\n",
    "ax1 = sns.countplot(df_off_coupon['Month'])\n",
    "ax1.set_xticklabels(['JAN','FEB','MAR','APR','MAY','JUN'],rotation=90)\n",
    "for p in ax1.patches:\n",
    "        ax1.annotate('{:.0f}'.format(p.get_height()), (p.get_x()+0.1, p.get_height()+50))\n",
    "\n",
    "plt.title('Number of Releases and Months')\n",
    "\n",
    "plt.subplot(122)\n",
    "# plt.figure(figsize=(7,4))\n",
    "ax2 = sns.countplot(df_off_redeem_coupon['Month_p'])\n",
    "ax2.set_xticklabels(['JAN','FEB','MAR','APR','MAY','JUN'],rotation=90)\n",
    "for p in ax2.patches:\n",
    "        ax2.annotate('{:.0f}'.format(p.get_height()), (p.get_x()+0.1, p.get_height()+50))\n",
    "plt.title('Count of Redemption and Months')\n",
    "\n",
    "plt.show()"
   ]
  },
  {
   "cell_type": "markdown",
   "metadata": {},
   "source": [
    "## Feature Engineering"
   ]
  },
  {
   "cell_type": "code",
   "execution_count": null,
   "metadata": {},
   "outputs": [],
   "source": []
  }
 ],
 "metadata": {
  "kernelspec": {
   "display_name": "Python 3",
   "language": "python",
   "name": "python3"
  },
  "language_info": {
   "codemirror_mode": {
    "name": "ipython",
    "version": 3
   },
   "file_extension": ".py",
   "mimetype": "text/x-python",
   "name": "python",
   "nbconvert_exporter": "python",
   "pygments_lexer": "ipython3",
   "version": "3.7.4"
  }
 },
 "nbformat": 4,
 "nbformat_minor": 2
}
