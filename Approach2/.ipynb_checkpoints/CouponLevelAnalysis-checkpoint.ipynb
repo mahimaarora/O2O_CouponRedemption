{
 "cells": [
  {
   "cell_type": "code",
   "execution_count": 15,
   "metadata": {},
   "outputs": [],
   "source": [
    "%matplotlib inline\n",
    "import pandas as pd\n",
    "import numpy as np\n",
    "import matplotlib.pyplot as plt\n",
    "import seaborn as sns\n",
    "import math\n",
    "import re\n",
    "from datetime import datetime\n",
    "import warnings\n",
    "warnings.filterwarnings(\"ignore\")"
   ]
  },
  {
   "cell_type": "markdown",
   "metadata": {},
   "source": [
    "### Online and Offline Training data"
   ]
  },
  {
   "cell_type": "code",
   "execution_count": 16,
   "metadata": {},
   "outputs": [],
   "source": [
    "df_on = pd.read_csv('DataSets/ccf_online_stage1_train.csv')\n",
    "\n",
    "df_off = pd.read_csv('DataSets/ccf_offline_stage1_train.csv')"
   ]
  },
  {
   "cell_type": "code",
   "execution_count": 17,
   "metadata": {},
   "outputs": [
    {
     "name": "stdout",
     "output_type": "stream",
     "text": [
      "Online Training Data Sample\n",
      "Shape:(11429826, 7)\n"
     ]
    },
    {
     "data": {
      "text/html": [
       "<div>\n",
       "<style scoped>\n",
       "    .dataframe tbody tr th:only-of-type {\n",
       "        vertical-align: middle;\n",
       "    }\n",
       "\n",
       "    .dataframe tbody tr th {\n",
       "        vertical-align: top;\n",
       "    }\n",
       "\n",
       "    .dataframe thead th {\n",
       "        text-align: right;\n",
       "    }\n",
       "</style>\n",
       "<table border=\"1\" class=\"dataframe\">\n",
       "  <thead>\n",
       "    <tr style=\"text-align: right;\">\n",
       "      <th></th>\n",
       "      <th>User_id</th>\n",
       "      <th>Merchant_id</th>\n",
       "      <th>Action</th>\n",
       "      <th>Coupon_id</th>\n",
       "      <th>Discount_rate</th>\n",
       "      <th>Date_received</th>\n",
       "      <th>Date</th>\n",
       "    </tr>\n",
       "  </thead>\n",
       "  <tbody>\n",
       "    <tr>\n",
       "      <td>0</td>\n",
       "      <td>13740231</td>\n",
       "      <td>18907</td>\n",
       "      <td>2</td>\n",
       "      <td>100017492</td>\n",
       "      <td>500:50</td>\n",
       "      <td>20160513.0</td>\n",
       "      <td>NaN</td>\n",
       "    </tr>\n",
       "    <tr>\n",
       "      <td>1</td>\n",
       "      <td>13740231</td>\n",
       "      <td>34805</td>\n",
       "      <td>1</td>\n",
       "      <td>NaN</td>\n",
       "      <td>NaN</td>\n",
       "      <td>NaN</td>\n",
       "      <td>20160321.0</td>\n",
       "    </tr>\n",
       "    <tr>\n",
       "      <td>2</td>\n",
       "      <td>14336199</td>\n",
       "      <td>18907</td>\n",
       "      <td>0</td>\n",
       "      <td>NaN</td>\n",
       "      <td>NaN</td>\n",
       "      <td>NaN</td>\n",
       "      <td>20160618.0</td>\n",
       "    </tr>\n",
       "    <tr>\n",
       "      <td>3</td>\n",
       "      <td>14336199</td>\n",
       "      <td>18907</td>\n",
       "      <td>0</td>\n",
       "      <td>NaN</td>\n",
       "      <td>NaN</td>\n",
       "      <td>NaN</td>\n",
       "      <td>20160618.0</td>\n",
       "    </tr>\n",
       "    <tr>\n",
       "      <td>4</td>\n",
       "      <td>14336199</td>\n",
       "      <td>18907</td>\n",
       "      <td>0</td>\n",
       "      <td>NaN</td>\n",
       "      <td>NaN</td>\n",
       "      <td>NaN</td>\n",
       "      <td>20160618.0</td>\n",
       "    </tr>\n",
       "  </tbody>\n",
       "</table>\n",
       "</div>"
      ],
      "text/plain": [
       "    User_id  Merchant_id  Action  Coupon_id Discount_rate  Date_received  \\\n",
       "0  13740231        18907       2  100017492        500:50     20160513.0   \n",
       "1  13740231        34805       1        NaN           NaN            NaN   \n",
       "2  14336199        18907       0        NaN           NaN            NaN   \n",
       "3  14336199        18907       0        NaN           NaN            NaN   \n",
       "4  14336199        18907       0        NaN           NaN            NaN   \n",
       "\n",
       "         Date  \n",
       "0         NaN  \n",
       "1  20160321.0  \n",
       "2  20160618.0  \n",
       "3  20160618.0  \n",
       "4  20160618.0  "
      ]
     },
     "execution_count": 17,
     "metadata": {},
     "output_type": "execute_result"
    }
   ],
   "source": [
    "print(\"Online Training Data Sample\\nShape:\"+str(df_on.shape))\n",
    "df_on.head()"
   ]
  },
  {
   "cell_type": "code",
   "execution_count": 18,
   "metadata": {},
   "outputs": [
    {
     "name": "stdout",
     "output_type": "stream",
     "text": [
      "Offline Training Data Sample\n",
      "Shape:(1754884, 7)\n"
     ]
    },
    {
     "data": {
      "text/html": [
       "<div>\n",
       "<style scoped>\n",
       "    .dataframe tbody tr th:only-of-type {\n",
       "        vertical-align: middle;\n",
       "    }\n",
       "\n",
       "    .dataframe tbody tr th {\n",
       "        vertical-align: top;\n",
       "    }\n",
       "\n",
       "    .dataframe thead th {\n",
       "        text-align: right;\n",
       "    }\n",
       "</style>\n",
       "<table border=\"1\" class=\"dataframe\">\n",
       "  <thead>\n",
       "    <tr style=\"text-align: right;\">\n",
       "      <th></th>\n",
       "      <th>User_id</th>\n",
       "      <th>Merchant_id</th>\n",
       "      <th>Coupon_id</th>\n",
       "      <th>Discount_rate</th>\n",
       "      <th>Distance</th>\n",
       "      <th>Date_received</th>\n",
       "      <th>Date</th>\n",
       "    </tr>\n",
       "  </thead>\n",
       "  <tbody>\n",
       "    <tr>\n",
       "      <td>0</td>\n",
       "      <td>1439408</td>\n",
       "      <td>2632</td>\n",
       "      <td>NaN</td>\n",
       "      <td>NaN</td>\n",
       "      <td>0.0</td>\n",
       "      <td>NaN</td>\n",
       "      <td>20160217.0</td>\n",
       "    </tr>\n",
       "    <tr>\n",
       "      <td>1</td>\n",
       "      <td>1439408</td>\n",
       "      <td>4663</td>\n",
       "      <td>11002.0</td>\n",
       "      <td>150:20</td>\n",
       "      <td>1.0</td>\n",
       "      <td>20160528.0</td>\n",
       "      <td>NaN</td>\n",
       "    </tr>\n",
       "    <tr>\n",
       "      <td>2</td>\n",
       "      <td>1439408</td>\n",
       "      <td>2632</td>\n",
       "      <td>8591.0</td>\n",
       "      <td>20:1</td>\n",
       "      <td>0.0</td>\n",
       "      <td>20160217.0</td>\n",
       "      <td>NaN</td>\n",
       "    </tr>\n",
       "    <tr>\n",
       "      <td>3</td>\n",
       "      <td>1439408</td>\n",
       "      <td>2632</td>\n",
       "      <td>1078.0</td>\n",
       "      <td>20:1</td>\n",
       "      <td>0.0</td>\n",
       "      <td>20160319.0</td>\n",
       "      <td>NaN</td>\n",
       "    </tr>\n",
       "    <tr>\n",
       "      <td>4</td>\n",
       "      <td>1439408</td>\n",
       "      <td>2632</td>\n",
       "      <td>8591.0</td>\n",
       "      <td>20:1</td>\n",
       "      <td>0.0</td>\n",
       "      <td>20160613.0</td>\n",
       "      <td>NaN</td>\n",
       "    </tr>\n",
       "  </tbody>\n",
       "</table>\n",
       "</div>"
      ],
      "text/plain": [
       "   User_id  Merchant_id  Coupon_id Discount_rate  Distance  Date_received  \\\n",
       "0  1439408         2632        NaN           NaN       0.0            NaN   \n",
       "1  1439408         4663    11002.0        150:20       1.0     20160528.0   \n",
       "2  1439408         2632     8591.0          20:1       0.0     20160217.0   \n",
       "3  1439408         2632     1078.0          20:1       0.0     20160319.0   \n",
       "4  1439408         2632     8591.0          20:1       0.0     20160613.0   \n",
       "\n",
       "         Date  \n",
       "0  20160217.0  \n",
       "1         NaN  \n",
       "2         NaN  \n",
       "3         NaN  \n",
       "4         NaN  "
      ]
     },
     "execution_count": 18,
     "metadata": {},
     "output_type": "execute_result"
    }
   ],
   "source": [
    "print(\"Offline Training Data Sample\\nShape:\"+str(df_off.shape))\n",
    "df_off.head()"
   ]
  },
  {
   "cell_type": "markdown",
   "metadata": {},
   "source": [
    "### TEST DATA (OFFLINE)"
   ]
  },
  {
   "cell_type": "code",
   "execution_count": 19,
   "metadata": {},
   "outputs": [
    {
     "name": "stdout",
     "output_type": "stream",
     "text": [
      "Testing Data(Offline) Sample\n",
      "Shape:(113640, 6)\n"
     ]
    },
    {
     "data": {
      "text/html": [
       "<div>\n",
       "<style scoped>\n",
       "    .dataframe tbody tr th:only-of-type {\n",
       "        vertical-align: middle;\n",
       "    }\n",
       "\n",
       "    .dataframe tbody tr th {\n",
       "        vertical-align: top;\n",
       "    }\n",
       "\n",
       "    .dataframe thead th {\n",
       "        text-align: right;\n",
       "    }\n",
       "</style>\n",
       "<table border=\"1\" class=\"dataframe\">\n",
       "  <thead>\n",
       "    <tr style=\"text-align: right;\">\n",
       "      <th></th>\n",
       "      <th>User_id</th>\n",
       "      <th>Merchant_id</th>\n",
       "      <th>Coupon_id</th>\n",
       "      <th>Discount_rate</th>\n",
       "      <th>Distance</th>\n",
       "      <th>Date_received</th>\n",
       "    </tr>\n",
       "  </thead>\n",
       "  <tbody>\n",
       "    <tr>\n",
       "      <td>0</td>\n",
       "      <td>4129537</td>\n",
       "      <td>450</td>\n",
       "      <td>9983</td>\n",
       "      <td>30:5</td>\n",
       "      <td>1.0</td>\n",
       "      <td>20160712</td>\n",
       "    </tr>\n",
       "    <tr>\n",
       "      <td>1</td>\n",
       "      <td>6949378</td>\n",
       "      <td>1300</td>\n",
       "      <td>3429</td>\n",
       "      <td>30:5</td>\n",
       "      <td>NaN</td>\n",
       "      <td>20160706</td>\n",
       "    </tr>\n",
       "    <tr>\n",
       "      <td>2</td>\n",
       "      <td>2166529</td>\n",
       "      <td>7113</td>\n",
       "      <td>6928</td>\n",
       "      <td>200:20</td>\n",
       "      <td>5.0</td>\n",
       "      <td>20160727</td>\n",
       "    </tr>\n",
       "    <tr>\n",
       "      <td>3</td>\n",
       "      <td>2166529</td>\n",
       "      <td>7113</td>\n",
       "      <td>1808</td>\n",
       "      <td>100:10</td>\n",
       "      <td>5.0</td>\n",
       "      <td>20160727</td>\n",
       "    </tr>\n",
       "    <tr>\n",
       "      <td>4</td>\n",
       "      <td>6172162</td>\n",
       "      <td>7605</td>\n",
       "      <td>6500</td>\n",
       "      <td>30:1</td>\n",
       "      <td>2.0</td>\n",
       "      <td>20160708</td>\n",
       "    </tr>\n",
       "  </tbody>\n",
       "</table>\n",
       "</div>"
      ],
      "text/plain": [
       "   User_id  Merchant_id  Coupon_id Discount_rate  Distance  Date_received\n",
       "0  4129537          450       9983          30:5       1.0       20160712\n",
       "1  6949378         1300       3429          30:5       NaN       20160706\n",
       "2  2166529         7113       6928        200:20       5.0       20160727\n",
       "3  2166529         7113       1808        100:10       5.0       20160727\n",
       "4  6172162         7605       6500          30:1       2.0       20160708"
      ]
     },
     "execution_count": 19,
     "metadata": {},
     "output_type": "execute_result"
    }
   ],
   "source": [
    "df_test = pd.read_csv('DataSets/ccf_offline_stage1_test_revised.csv')\n",
    "print(\"Testing Data(Offline) Sample\\nShape:\"+str(df_test.shape))\n",
    "df_test.head()"
   ]
  },
  {
   "cell_type": "markdown",
   "metadata": {},
   "source": [
    "### Converting Coupon to String type"
   ]
  },
  {
   "cell_type": "code",
   "execution_count": 20,
   "metadata": {},
   "outputs": [
    {
     "name": "stdout",
     "output_type": "stream",
     "text": [
      "Data type of coupon in different datasets\n",
      "Online: object\n",
      "Offline: float64\n",
      "After conversion, data type of coupon in different datasets\n",
      "Online: object\n",
      "Offline: object\n"
     ]
    }
   ],
   "source": [
    "print('Data type of coupon in different datasets\\nOnline: '+str(df_on['Coupon_id'].dtypes)+'\\nOffline: '+\n",
    "      str(df_off['Coupon_id'].dtypes))\n",
    "df_off['Coupon_id'] = [int(i) if i==i else i for i in df_off['Coupon_id']]\n",
    "df_off['Coupon_id'] = df_off['Coupon_id'].apply(lambda x: \"{:.0f}\".\n",
    "                                          format(x) if not pd.isnull(x) else x)\n",
    "\n",
    "print('After conversion, data type of coupon in different datasets\\nOnline: '+str(df_on['Coupon_id'].dtypes)+'\\nOffline: '+\n",
    "      str(df_off['Coupon_id'].dtypes))"
   ]
  },
  {
   "cell_type": "markdown",
   "metadata": {},
   "source": [
    "#### Converting Date to DateTime format"
   ]
  },
  {
   "cell_type": "code",
   "execution_count": 21,
   "metadata": {},
   "outputs": [],
   "source": [
    "#Online Training Data\n",
    "df_on['Date'] = pd.to_datetime(df_on[\"Date\"],format='%Y%m%d')\n",
    "df_on['Date_received'] = pd.to_datetime(df_on[\"Date_received\"],format='%Y%m%d')\n",
    "\n",
    "#Offline Training Data\n",
    "df_off['Date'] = pd.to_datetime(df_off[\"Date\"],format='%Y%m%d')\n",
    "df_off['Date_received'] = pd.to_datetime(df_off[\"Date_received\"],format='%Y%m%d')"
   ]
  },
  {
   "cell_type": "markdown",
   "metadata": {},
   "source": [
    "### Removing Duplicates from Online and Offline Training Data"
   ]
  },
  {
   "cell_type": "code",
   "execution_count": 22,
   "metadata": {},
   "outputs": [
    {
     "name": "stdout",
     "output_type": "stream",
     "text": [
      "Online Training Data Shape:(5822543, 8)\n"
     ]
    }
   ],
   "source": [
    "#Removing duplicates and giving frequency counts(Count) to each row\n",
    "\n",
    "#Online\n",
    "x = 'g8h.|$hTdo+jC9^@'    \n",
    "df_on_unique = (df_on.fillna(x).groupby(['User_id', 'Merchant_id', 'Action', 'Coupon_id', 'Discount_rate',\n",
    "       'Date_received', 'Date']).size().reset_index()\n",
    "               .rename(columns={0 : 'Count'}).replace(x,np.NaN))\n",
    "df_on_unique[\"Date_received\"]=pd.to_datetime(df_on_unique[\"Date_received\"])\n",
    "df_on_unique[\"Date\"]=pd.to_datetime(df_on_unique[\"Date\"])\n",
    "\n",
    "print(\"Online Training Data Shape:\"+str(df_on_unique.shape))"
   ]
  },
  {
   "cell_type": "code",
   "execution_count": 23,
   "metadata": {},
   "outputs": [
    {
     "name": "stdout",
     "output_type": "stream",
     "text": [
      "Offline Training Data Shape:(1716991, 8)\n"
     ]
    }
   ],
   "source": [
    "#Offline\n",
    "x = 'g8h.|$hTdo+jC9^@'   #garbage value for nan values \n",
    "df_off_unique = (df_off.fillna(x).groupby(['User_id', 'Merchant_id', 'Coupon_id', 'Discount_rate', 'Distance',\n",
    "       'Date_received', 'Date']).size().reset_index()\n",
    "               .rename(columns={0 : 'Count'}).replace(x,np.NaN))\n",
    "df_off_unique[\"Date_received\"]=pd.to_datetime(df_off_unique[\"Date_received\"])\n",
    "df_off_unique[\"Date\"]=pd.to_datetime(df_off_unique[\"Date\"])\n",
    "\n",
    "print(\"Offline Training Data Shape:\"+str(df_off_unique.shape))"
   ]
  },
  {
   "cell_type": "markdown",
   "metadata": {},
   "source": [
    "#### Filling Nan for Distance (OFFLINE)"
   ]
  },
  {
   "cell_type": "code",
   "execution_count": 24,
   "metadata": {},
   "outputs": [],
   "source": [
    "df_off_unique['Distance'].fillna(df_off_unique['Distance'].mean(), inplace=True)\n",
    "df_off_unique['Distance'] = df_off_unique.Distance.astype(int)"
   ]
  },
  {
   "cell_type": "markdown",
   "metadata": {},
   "source": [
    "### Converting Discount Ratio to Rate"
   ]
  },
  {
   "cell_type": "code",
   "execution_count": 25,
   "metadata": {},
   "outputs": [],
   "source": [
    "#Funtion to convert discount ratio to discount rate\n",
    "def convert_discount(discount):\n",
    "    values = []\n",
    "    for i in discount:\n",
    "        if ':' in i:\n",
    "            i = i.split(':')\n",
    "            rate = round((int(i[0]) - int(i[1]))/int(i[0]),3)\n",
    "            values.append([int(i[0]),int(i[1]),rate])\n",
    "        elif '.' in i:\n",
    "            i = float(i)\n",
    "            x = 100*i\n",
    "            values.append([100,int(100-x),i])\n",
    "            \n",
    "    discounts = dict(zip(discount,values))      \n",
    "    return discounts\n",
    "    \n",
    "\n",
    "# convert_discount(list(df_of['Discount_rate']))"
   ]
  },
  {
   "cell_type": "code",
   "execution_count": 26,
   "metadata": {},
   "outputs": [
    {
     "data": {
      "text/html": [
       "<div>\n",
       "<style scoped>\n",
       "    .dataframe tbody tr th:only-of-type {\n",
       "        vertical-align: middle;\n",
       "    }\n",
       "\n",
       "    .dataframe tbody tr th {\n",
       "        vertical-align: top;\n",
       "    }\n",
       "\n",
       "    .dataframe thead th {\n",
       "        text-align: right;\n",
       "    }\n",
       "</style>\n",
       "<table border=\"1\" class=\"dataframe\">\n",
       "  <thead>\n",
       "    <tr style=\"text-align: right;\">\n",
       "      <th></th>\n",
       "      <th>User_id</th>\n",
       "      <th>Merchant_id</th>\n",
       "      <th>Action</th>\n",
       "      <th>Coupon_id</th>\n",
       "      <th>Discount_rate</th>\n",
       "      <th>Date_received</th>\n",
       "      <th>Date</th>\n",
       "      <th>Count</th>\n",
       "      <th>Discount</th>\n",
       "      <th>Original_price</th>\n",
       "      <th>Discounted_price</th>\n",
       "      <th>Rate</th>\n",
       "    </tr>\n",
       "  </thead>\n",
       "  <tbody>\n",
       "    <tr>\n",
       "      <td>0</td>\n",
       "      <td>4</td>\n",
       "      <td>25104</td>\n",
       "      <td>2</td>\n",
       "      <td>100145044</td>\n",
       "      <td>[100, 10, 0.9]</td>\n",
       "      <td>2016-03-31</td>\n",
       "      <td>NaT</td>\n",
       "      <td>1</td>\n",
       "      <td>100:10</td>\n",
       "      <td>100</td>\n",
       "      <td>10</td>\n",
       "      <td>0.900</td>\n",
       "    </tr>\n",
       "    <tr>\n",
       "      <td>14</td>\n",
       "      <td>209</td>\n",
       "      <td>27710</td>\n",
       "      <td>1</td>\n",
       "      <td>100081876</td>\n",
       "      <td>[150, 10, 0.933]</td>\n",
       "      <td>2016-05-14</td>\n",
       "      <td>2016-05-14</td>\n",
       "      <td>1</td>\n",
       "      <td>150:10</td>\n",
       "      <td>150</td>\n",
       "      <td>10</td>\n",
       "      <td>0.933</td>\n",
       "    </tr>\n",
       "    <tr>\n",
       "      <td>44</td>\n",
       "      <td>236</td>\n",
       "      <td>53305</td>\n",
       "      <td>2</td>\n",
       "      <td>100075632</td>\n",
       "      <td>[200, 10, 0.95]</td>\n",
       "      <td>2016-02-21</td>\n",
       "      <td>NaT</td>\n",
       "      <td>1</td>\n",
       "      <td>200:10</td>\n",
       "      <td>200</td>\n",
       "      <td>10</td>\n",
       "      <td>0.950</td>\n",
       "    </tr>\n",
       "    <tr>\n",
       "      <td>45</td>\n",
       "      <td>236</td>\n",
       "      <td>53305</td>\n",
       "      <td>2</td>\n",
       "      <td>100181719</td>\n",
       "      <td>[50, 1, 0.98]</td>\n",
       "      <td>2016-02-21</td>\n",
       "      <td>NaT</td>\n",
       "      <td>1</td>\n",
       "      <td>50:1</td>\n",
       "      <td>50</td>\n",
       "      <td>1</td>\n",
       "      <td>0.980</td>\n",
       "    </tr>\n",
       "    <tr>\n",
       "      <td>46</td>\n",
       "      <td>236</td>\n",
       "      <td>53305</td>\n",
       "      <td>2</td>\n",
       "      <td>100214552</td>\n",
       "      <td>[150, 5, 0.967]</td>\n",
       "      <td>2016-02-21</td>\n",
       "      <td>NaT</td>\n",
       "      <td>1</td>\n",
       "      <td>150:5</td>\n",
       "      <td>150</td>\n",
       "      <td>5</td>\n",
       "      <td>0.967</td>\n",
       "    </tr>\n",
       "  </tbody>\n",
       "</table>\n",
       "</div>"
      ],
      "text/plain": [
       "    User_id  Merchant_id  Action  Coupon_id     Discount_rate Date_received  \\\n",
       "0         4        25104       2  100145044    [100, 10, 0.9]    2016-03-31   \n",
       "14      209        27710       1  100081876  [150, 10, 0.933]    2016-05-14   \n",
       "44      236        53305       2  100075632   [200, 10, 0.95]    2016-02-21   \n",
       "45      236        53305       2  100181719     [50, 1, 0.98]    2016-02-21   \n",
       "46      236        53305       2  100214552   [150, 5, 0.967]    2016-02-21   \n",
       "\n",
       "         Date  Count Discount  Original_price  Discounted_price   Rate  \n",
       "0         NaT      1   100:10             100                10  0.900  \n",
       "14 2016-05-14      1   150:10             150                10  0.933  \n",
       "44        NaT      1   200:10             200                10  0.950  \n",
       "45        NaT      1     50:1              50                 1  0.980  \n",
       "46        NaT      1    150:5             150                 5  0.967  "
      ]
     },
     "execution_count": 26,
     "metadata": {},
     "output_type": "execute_result"
    }
   ],
   "source": [
    "#ONLINE DATA\n",
    "df_on_coupon = df_on_unique[(df_on_unique['Coupon_id'].isna()==False) & (df_on_unique['Coupon_id']!='fixed')]\n",
    "discounts_online = list(df_on_coupon['Discount_rate'].unique())\n",
    "df_on_coupon.loc[:,('Discount')] = df_on_coupon.loc[:,('Discount_rate')] \n",
    "df_on_coupon.loc[:,('Discount_rate')] = df_on_coupon[df_on_coupon['Coupon_id']!='fixed'].loc[:,('Discount')].map(convert_discount(discounts_online))\n",
    "df_on_coupon[['Original_price','Discounted_price','Rate']] = pd.DataFrame(df_on_coupon['Discount_rate'].values.tolist(), index= df_on_coupon.index)\n",
    "df_on_coupon.head()"
   ]
  },
  {
   "cell_type": "code",
   "execution_count": 27,
   "metadata": {},
   "outputs": [
    {
     "data": {
      "text/plain": [
       "((759100, 12), (759100, 8))"
      ]
     },
     "execution_count": 27,
     "metadata": {},
     "output_type": "execute_result"
    }
   ],
   "source": [
    "df_on_coupon = df_on_coupon.append(df_on_unique[df_on_unique['Coupon_id']=='fixed'], sort=False)\n",
    "df_on_coupon.shape, df_on_unique[df_on_unique['Coupon_id'].isna()==False].shape"
   ]
  },
  {
   "cell_type": "code",
   "execution_count": 28,
   "metadata": {},
   "outputs": [
    {
     "data": {
      "text/html": [
       "<div>\n",
       "<style scoped>\n",
       "    .dataframe tbody tr th:only-of-type {\n",
       "        vertical-align: middle;\n",
       "    }\n",
       "\n",
       "    .dataframe tbody tr th {\n",
       "        vertical-align: top;\n",
       "    }\n",
       "\n",
       "    .dataframe thead th {\n",
       "        text-align: right;\n",
       "    }\n",
       "</style>\n",
       "<table border=\"1\" class=\"dataframe\">\n",
       "  <thead>\n",
       "    <tr style=\"text-align: right;\">\n",
       "      <th></th>\n",
       "      <th>User_id</th>\n",
       "      <th>Merchant_id</th>\n",
       "      <th>Coupon_id</th>\n",
       "      <th>Discount_rate</th>\n",
       "      <th>Distance</th>\n",
       "      <th>Date_received</th>\n",
       "      <th>Date</th>\n",
       "      <th>Count</th>\n",
       "      <th>Discount</th>\n",
       "      <th>Original_price</th>\n",
       "      <th>Discounted_price</th>\n",
       "      <th>Rate</th>\n",
       "    </tr>\n",
       "  </thead>\n",
       "  <tbody>\n",
       "    <tr>\n",
       "      <td>0</td>\n",
       "      <td>4</td>\n",
       "      <td>1433</td>\n",
       "      <td>8735</td>\n",
       "      <td>[30, 5, 0.833]</td>\n",
       "      <td>10</td>\n",
       "      <td>2016-02-14</td>\n",
       "      <td>NaT</td>\n",
       "      <td>1</td>\n",
       "      <td>30:5</td>\n",
       "      <td>30</td>\n",
       "      <td>5</td>\n",
       "      <td>0.833</td>\n",
       "    </tr>\n",
       "    <tr>\n",
       "      <td>1</td>\n",
       "      <td>4</td>\n",
       "      <td>1469</td>\n",
       "      <td>2902</td>\n",
       "      <td>[100, 5, 0.95]</td>\n",
       "      <td>10</td>\n",
       "      <td>2016-06-07</td>\n",
       "      <td>NaT</td>\n",
       "      <td>1</td>\n",
       "      <td>0.95</td>\n",
       "      <td>100</td>\n",
       "      <td>5</td>\n",
       "      <td>0.950</td>\n",
       "    </tr>\n",
       "    <tr>\n",
       "      <td>2</td>\n",
       "      <td>35</td>\n",
       "      <td>3381</td>\n",
       "      <td>11951</td>\n",
       "      <td>[200, 20, 0.9]</td>\n",
       "      <td>0</td>\n",
       "      <td>2016-01-29</td>\n",
       "      <td>NaT</td>\n",
       "      <td>1</td>\n",
       "      <td>200:20</td>\n",
       "      <td>200</td>\n",
       "      <td>20</td>\n",
       "      <td>0.900</td>\n",
       "    </tr>\n",
       "    <tr>\n",
       "      <td>3</td>\n",
       "      <td>35</td>\n",
       "      <td>3381</td>\n",
       "      <td>11951</td>\n",
       "      <td>[200, 20, 0.9]</td>\n",
       "      <td>0</td>\n",
       "      <td>2016-01-30</td>\n",
       "      <td>NaT</td>\n",
       "      <td>1</td>\n",
       "      <td>200:20</td>\n",
       "      <td>200</td>\n",
       "      <td>20</td>\n",
       "      <td>0.900</td>\n",
       "    </tr>\n",
       "    <tr>\n",
       "      <td>4</td>\n",
       "      <td>35</td>\n",
       "      <td>3381</td>\n",
       "      <td>1807</td>\n",
       "      <td>[300, 30, 0.9]</td>\n",
       "      <td>0</td>\n",
       "      <td>2016-01-30</td>\n",
       "      <td>NaT</td>\n",
       "      <td>1</td>\n",
       "      <td>300:30</td>\n",
       "      <td>300</td>\n",
       "      <td>30</td>\n",
       "      <td>0.900</td>\n",
       "    </tr>\n",
       "  </tbody>\n",
       "</table>\n",
       "</div>"
      ],
      "text/plain": [
       "   User_id  Merchant_id Coupon_id   Discount_rate  Distance Date_received  \\\n",
       "0        4         1433      8735  [30, 5, 0.833]        10    2016-02-14   \n",
       "1        4         1469      2902  [100, 5, 0.95]        10    2016-06-07   \n",
       "2       35         3381     11951  [200, 20, 0.9]         0    2016-01-29   \n",
       "3       35         3381     11951  [200, 20, 0.9]         0    2016-01-30   \n",
       "4       35         3381      1807  [300, 30, 0.9]         0    2016-01-30   \n",
       "\n",
       "  Date  Count Discount  Original_price  Discounted_price   Rate  \n",
       "0  NaT      1     30:5              30                 5  0.833  \n",
       "1  NaT      1     0.95             100                 5  0.950  \n",
       "2  NaT      1   200:20             200                20  0.900  \n",
       "3  NaT      1   200:20             200                20  0.900  \n",
       "4  NaT      1   300:30             300                30  0.900  "
      ]
     },
     "execution_count": 28,
     "metadata": {},
     "output_type": "execute_result"
    }
   ],
   "source": [
    "#OFFLINE DATA\n",
    "df_off_coupon = df_off_unique[(df_off_unique['Coupon_id'].isna()==False)].copy()\n",
    "discounts_offline = list(df_off_coupon['Discount_rate'].unique())\n",
    "df_off_coupon.loc[:,('Discount')] = df_off_coupon.loc[:,('Discount_rate')] \n",
    "df_off_coupon['Discount_rate'] = df_off_coupon['Discount'].map(convert_discount(discounts_offline))\n",
    "df_off_coupon[['Original_price','Discounted_price','Rate']] = pd.DataFrame(df_off_coupon.Discount_rate.values.tolist(), index= df_off_coupon.index)\n",
    "df_off_coupon.head()"
   ]
  },
  {
   "cell_type": "markdown",
   "metadata": {},
   "source": [
    "### Training Data (Online + Offline)"
   ]
  },
  {
   "cell_type": "code",
   "execution_count": 29,
   "metadata": {},
   "outputs": [
    {
     "name": "stdout",
     "output_type": "stream",
     "text": [
      "Training Data(Offline+Online) \n",
      "Shape:(7539534, 9)\n"
     ]
    },
    {
     "data": {
      "text/html": [
       "<div>\n",
       "<style scoped>\n",
       "    .dataframe tbody tr th:only-of-type {\n",
       "        vertical-align: middle;\n",
       "    }\n",
       "\n",
       "    .dataframe tbody tr th {\n",
       "        vertical-align: top;\n",
       "    }\n",
       "\n",
       "    .dataframe thead th {\n",
       "        text-align: right;\n",
       "    }\n",
       "</style>\n",
       "<table border=\"1\" class=\"dataframe\">\n",
       "  <thead>\n",
       "    <tr style=\"text-align: right;\">\n",
       "      <th></th>\n",
       "      <th>User_id</th>\n",
       "      <th>Merchant_id</th>\n",
       "      <th>Action</th>\n",
       "      <th>Coupon_id</th>\n",
       "      <th>Discount_rate</th>\n",
       "      <th>Date_received</th>\n",
       "      <th>Date</th>\n",
       "      <th>Count</th>\n",
       "      <th>Distance</th>\n",
       "    </tr>\n",
       "  </thead>\n",
       "  <tbody>\n",
       "    <tr>\n",
       "      <td>0</td>\n",
       "      <td>4</td>\n",
       "      <td>25104</td>\n",
       "      <td>2.0</td>\n",
       "      <td>100145044</td>\n",
       "      <td>100:10</td>\n",
       "      <td>2016-03-31</td>\n",
       "      <td>NaT</td>\n",
       "      <td>1</td>\n",
       "      <td>NaN</td>\n",
       "    </tr>\n",
       "    <tr>\n",
       "      <td>1</td>\n",
       "      <td>4</td>\n",
       "      <td>1433</td>\n",
       "      <td>NaN</td>\n",
       "      <td>8735</td>\n",
       "      <td>30:5</td>\n",
       "      <td>2016-02-14</td>\n",
       "      <td>NaT</td>\n",
       "      <td>1</td>\n",
       "      <td>10.0</td>\n",
       "    </tr>\n",
       "    <tr>\n",
       "      <td>2</td>\n",
       "      <td>4</td>\n",
       "      <td>1469</td>\n",
       "      <td>NaN</td>\n",
       "      <td>2902</td>\n",
       "      <td>0.95</td>\n",
       "      <td>2016-06-07</td>\n",
       "      <td>NaT</td>\n",
       "      <td>1</td>\n",
       "      <td>10.0</td>\n",
       "    </tr>\n",
       "    <tr>\n",
       "      <td>3</td>\n",
       "      <td>4</td>\n",
       "      <td>45612</td>\n",
       "      <td>1.0</td>\n",
       "      <td>NaN</td>\n",
       "      <td>NaN</td>\n",
       "      <td>NaT</td>\n",
       "      <td>2016-03-08</td>\n",
       "      <td>1</td>\n",
       "      <td>NaN</td>\n",
       "    </tr>\n",
       "    <tr>\n",
       "      <td>4</td>\n",
       "      <td>35</td>\n",
       "      <td>3381</td>\n",
       "      <td>NaN</td>\n",
       "      <td>11951</td>\n",
       "      <td>200:20</td>\n",
       "      <td>2016-01-30</td>\n",
       "      <td>NaT</td>\n",
       "      <td>1</td>\n",
       "      <td>0.0</td>\n",
       "    </tr>\n",
       "  </tbody>\n",
       "</table>\n",
       "</div>"
      ],
      "text/plain": [
       "   User_id  Merchant_id  Action  Coupon_id Discount_rate Date_received  \\\n",
       "0        4        25104     2.0  100145044        100:10    2016-03-31   \n",
       "1        4         1433     NaN       8735          30:5    2016-02-14   \n",
       "2        4         1469     NaN       2902          0.95    2016-06-07   \n",
       "3        4        45612     1.0        NaN           NaN           NaT   \n",
       "4       35         3381     NaN      11951        200:20    2016-01-30   \n",
       "\n",
       "        Date  Count  Distance  \n",
       "0        NaT      1       NaN  \n",
       "1        NaT      1      10.0  \n",
       "2        NaT      1      10.0  \n",
       "3 2016-03-08      1       NaN  \n",
       "4        NaT      1       0.0  "
      ]
     },
     "execution_count": 29,
     "metadata": {},
     "output_type": "execute_result"
    }
   ],
   "source": [
    "df_train = df_on_unique.append(df_off_unique, sort=False)\n",
    "df_train = df_train.sort_values(by = ['User_id'] )\n",
    "df_train = df_train.reset_index()\n",
    "del df_train['index']\n",
    "print(\"Training Data(Offline+Online) \\nShape:\"+str(df_train.shape))\n",
    "df_train.head()"
   ]
  },
  {
   "cell_type": "markdown",
   "metadata": {},
   "source": [
    "### Distributing users into three categores: \n",
    "1. users getting coupon\n",
    "2. users making purchases without coupon\n",
    "3. users making purchases with coupon"
   ]
  },
  {
   "cell_type": "code",
   "execution_count": 30,
   "metadata": {},
   "outputs": [],
   "source": [
    "df_off_redeem_coupon = df_off_unique[(df_off_unique['Date'].isna()==False) & (df_off_unique['Coupon_id'].isna()==False)]\n",
    "df_on_redeem_coupon = df_on_unique[(df_on_unique['Date'].isna()==False) & (df_on_unique['Coupon_id'].isna()==False)]\n",
    "df_train_coupon = df_on_coupon.append(df_off_coupon, sort=False)"
   ]
  },
  {
   "cell_type": "markdown",
   "metadata": {},
   "source": [
    "## Coupon Analysis"
   ]
  },
  {
   "cell_type": "markdown",
   "metadata": {},
   "source": [
    "## Coupon Distribution for Online, Offline and Test Datasets"
   ]
  },
  {
   "cell_type": "code",
   "execution_count": 31,
   "metadata": {},
   "outputs": [
    {
     "data": {
      "text/plain": [
       "(9739, 27748, 2050)"
      ]
     },
     "execution_count": 31,
     "metadata": {},
     "output_type": "execute_result"
    }
   ],
   "source": [
    "coupon_off = set(df_off['Coupon_id'].unique())\n",
    "coupon_on = set(df_on['Coupon_id'].unique())\n",
    "coupon_test = set(df_test['Coupon_id'].unique())\n",
    "len(coupon_off),len(coupon_on),len(coupon_test)"
   ]
  },
  {
   "cell_type": "code",
   "execution_count": 32,
   "metadata": {},
   "outputs": [
    {
     "data": {
      "text/plain": [
       "(0, 0, 0)"
      ]
     },
     "execution_count": 32,
     "metadata": {},
     "output_type": "execute_result"
    }
   ],
   "source": [
    "coupon_on_off = coupon_on.intersection(coupon_off)\n",
    "coupon_on_test = coupon_on.intersection(coupon_test)\n",
    "coupon_test_off = coupon_test.intersection(coupon_off)\n",
    "len(coupon_on_off), len(coupon_on_test), len(coupon_test_off)"
   ]
  },
  {
   "cell_type": "code",
   "execution_count": 33,
   "metadata": {},
   "outputs": [
    {
     "data": {
      "text/plain": [
       "(9739, 2050)"
      ]
     },
     "execution_count": 33,
     "metadata": {},
     "output_type": "execute_result"
    }
   ],
   "source": [
    "coupon_only_off = coupon_off - coupon_test\n",
    "coupon_only_test = coupon_test - coupon_off\n",
    "len(coupon_only_off),len(coupon_only_test)"
   ]
  },
  {
   "cell_type": "markdown",
   "metadata": {},
   "source": [
    "<img src =\"imgs/CouponDistribution.png\" width=\"60%\">"
   ]
  },
  {
   "cell_type": "markdown",
   "metadata": {},
   "source": [
    "### Merchant is constant for a particular Coupon ID"
   ]
  },
  {
   "cell_type": "code",
   "execution_count": 35,
   "metadata": {},
   "outputs": [
    {
     "data": {
      "text/plain": [
       "2"
      ]
     },
     "execution_count": 35,
     "metadata": {},
     "output_type": "execute_result"
    }
   ],
   "source": [
    "coupon_merchant = pd.DataFrame(df_train_coupon.groupby(['Coupon_id'])['Merchant_id'].nunique())\n",
    "coupon_merchant.columns = ['NumberOfMerchants']\n",
    "coupon_merchant['NumberOfMerchants'].nunique()"
   ]
  },
  {
   "cell_type": "markdown",
   "metadata": {},
   "source": [
    "### Discount Rate is constant for a particular Coupon ID"
   ]
  },
  {
   "cell_type": "code",
   "execution_count": 36,
   "metadata": {},
   "outputs": [
    {
     "data": {
      "text/plain": [
       "2"
      ]
     },
     "execution_count": 36,
     "metadata": {},
     "output_type": "execute_result"
    }
   ],
   "source": [
    "coupon_discount = pd.DataFrame(df_train_coupon.groupby(['Coupon_id'])['Rate'].nunique())\n",
    "coupon_discount.columns = ['NumberOfDiscounts']\n",
    "coupon_discount['NumberOfDiscounts'].nunique()"
   ]
  },
  {
   "cell_type": "markdown",
   "metadata": {},
   "source": [
    "### Coupon Redemption Score"
   ]
  },
  {
   "cell_type": "code",
   "execution_count": 37,
   "metadata": {},
   "outputs": [
    {
     "data": {
      "text/html": [
       "<div>\n",
       "<style scoped>\n",
       "    .dataframe tbody tr th:only-of-type {\n",
       "        vertical-align: middle;\n",
       "    }\n",
       "\n",
       "    .dataframe tbody tr th {\n",
       "        vertical-align: top;\n",
       "    }\n",
       "\n",
       "    .dataframe thead th {\n",
       "        text-align: right;\n",
       "    }\n",
       "</style>\n",
       "<table border=\"1\" class=\"dataframe\">\n",
       "  <thead>\n",
       "    <tr style=\"text-align: right;\">\n",
       "      <th></th>\n",
       "      <th>Coupon_id</th>\n",
       "      <th>Coupon_Released</th>\n",
       "      <th>Coupon_Redeemed</th>\n",
       "      <th>Coupon_Ratio</th>\n",
       "    </tr>\n",
       "  </thead>\n",
       "  <tbody>\n",
       "    <tr>\n",
       "      <td>0</td>\n",
       "      <td>1</td>\n",
       "      <td>5</td>\n",
       "      <td>1</td>\n",
       "      <td>0.20</td>\n",
       "    </tr>\n",
       "    <tr>\n",
       "      <td>1</td>\n",
       "      <td>10</td>\n",
       "      <td>32</td>\n",
       "      <td>15</td>\n",
       "      <td>0.47</td>\n",
       "    </tr>\n",
       "    <tr>\n",
       "      <td>2</td>\n",
       "      <td>100</td>\n",
       "      <td>7</td>\n",
       "      <td>1</td>\n",
       "      <td>0.14</td>\n",
       "    </tr>\n",
       "    <tr>\n",
       "      <td>3</td>\n",
       "      <td>1000</td>\n",
       "      <td>38</td>\n",
       "      <td>4</td>\n",
       "      <td>0.11</td>\n",
       "    </tr>\n",
       "    <tr>\n",
       "      <td>4</td>\n",
       "      <td>10000</td>\n",
       "      <td>17</td>\n",
       "      <td>11</td>\n",
       "      <td>0.65</td>\n",
       "    </tr>\n",
       "  </tbody>\n",
       "</table>\n",
       "</div>"
      ],
      "text/plain": [
       "  Coupon_id  Coupon_Released  Coupon_Redeemed  Coupon_Ratio\n",
       "0         1                5                1          0.20\n",
       "1        10               32               15          0.47\n",
       "2       100                7                1          0.14\n",
       "3      1000               38                4          0.11\n",
       "4     10000               17               11          0.65"
      ]
     },
     "execution_count": 37,
     "metadata": {},
     "output_type": "execute_result"
    }
   ],
   "source": [
    "#Coupon in offline Dataset\n",
    "coupon_redemption = pd.DataFrame(df_train_coupon.groupby(['Coupon_id'])['Date_received','Date'].count()).reset_index()\n",
    "coupon_redemption.columns = ['Coupon_id','Coupon_Released', 'Coupon_Redeemed']\n",
    "coupon_redemption['Coupon_Ratio'] = round(coupon_redemption['Coupon_Redeemed']/coupon_redemption['Coupon_Released'],2)\n",
    "coupon_redemption.head()"
   ]
  },
  {
   "cell_type": "code",
   "execution_count": 38,
   "metadata": {},
   "outputs": [
    {
     "data": {
      "image/png": "[encoded data removed]",
      "text/plain": [
       "<Figure size 576x360 with 1 Axes>"
      ]
     },
     "metadata": {
      "needs_background": "light"
     },
     "output_type": "display_data"
    }
   ],
   "source": [
    "plt.figure(figsize=(8,5))\n",
    "sns.distplot(coupon_redemption['Coupon_Ratio'],kde=False,bins=26)\n",
    "plt.xlabel('Coupon Redemption Ratio')\n",
    "plt.ylabel('Count of Coupon')\n",
    "plt.title('Coupon Redemption Score Distribution (OFFLINE)')\n",
    "plt.show()"
   ]
  },
  {
   "cell_type": "markdown",
   "metadata": {},
   "source": [
    "### Distance Distribution with respect to coupon redemption"
   ]
  },
  {
   "cell_type": "code",
   "execution_count": 39,
   "metadata": {},
   "outputs": [
    {
     "data": {
      "image/png": "[encoded data removed]",
      "text/plain": [
       "<Figure size 648x504 with 1 Axes>"
      ]
     },
     "metadata": {
      "needs_background": "light"
     },
     "output_type": "display_data"
    }
   ],
   "source": [
    "plt.figure(figsize=(9,7))\n",
    "ax = sns.countplot(df_off_redeem_coupon['Distance'])\n",
    "ax.set_xticklabels(ax.get_xticklabels(),rotation=90)\n",
    "for p in ax.patches:\n",
    "        ax.annotate('{:.0f}'.format(p.get_height()), (p.get_x()+0.1, p.get_height()+50))\n",
    "plt.xlabel('Distance between users and merchants')\n",
    "plt.ylabel('Count of Coupon Redeemed for that discount')\n",
    "plt.title('Coupon Redemption and the Distance of User')\n",
    "plt.show()"
   ]
  },
  {
   "cell_type": "markdown",
   "metadata": {},
   "source": [
    "### Duration of coupon"
   ]
  },
  {
   "cell_type": "code",
   "execution_count": 40,
   "metadata": {},
   "outputs": [
    {
     "data": {
      "text/html": [
       "<div>\n",
       "<style scoped>\n",
       "    .dataframe tbody tr th:only-of-type {\n",
       "        vertical-align: middle;\n",
       "    }\n",
       "\n",
       "    .dataframe tbody tr th {\n",
       "        vertical-align: top;\n",
       "    }\n",
       "\n",
       "    .dataframe thead th {\n",
       "        text-align: right;\n",
       "    }\n",
       "</style>\n",
       "<table border=\"1\" class=\"dataframe\">\n",
       "  <thead>\n",
       "    <tr style=\"text-align: right;\">\n",
       "      <th></th>\n",
       "      <th>User_id</th>\n",
       "      <th>Merchant_id</th>\n",
       "      <th>Action</th>\n",
       "      <th>Coupon_id</th>\n",
       "      <th>Discount_rate</th>\n",
       "      <th>Date_received</th>\n",
       "      <th>Date</th>\n",
       "      <th>Count</th>\n",
       "      <th>Discount</th>\n",
       "      <th>Original_price</th>\n",
       "      <th>Discounted_price</th>\n",
       "      <th>Rate</th>\n",
       "      <th>Distance</th>\n",
       "      <th>DateTrack</th>\n",
       "    </tr>\n",
       "  </thead>\n",
       "  <tbody>\n",
       "    <tr>\n",
       "      <td>0</td>\n",
       "      <td>4</td>\n",
       "      <td>25104</td>\n",
       "      <td>2.0</td>\n",
       "      <td>100145044</td>\n",
       "      <td>[100, 10, 0.9]</td>\n",
       "      <td>2016-03-31</td>\n",
       "      <td>NaT</td>\n",
       "      <td>1</td>\n",
       "      <td>100:10</td>\n",
       "      <td>100.0</td>\n",
       "      <td>10.0</td>\n",
       "      <td>0.900</td>\n",
       "      <td>NaN</td>\n",
       "      <td>2016-03-31</td>\n",
       "    </tr>\n",
       "    <tr>\n",
       "      <td>14</td>\n",
       "      <td>209</td>\n",
       "      <td>27710</td>\n",
       "      <td>1.0</td>\n",
       "      <td>100081876</td>\n",
       "      <td>[150, 10, 0.933]</td>\n",
       "      <td>2016-05-14</td>\n",
       "      <td>2016-05-14</td>\n",
       "      <td>1</td>\n",
       "      <td>150:10</td>\n",
       "      <td>150.0</td>\n",
       "      <td>10.0</td>\n",
       "      <td>0.933</td>\n",
       "      <td>NaN</td>\n",
       "      <td>2016-05-14</td>\n",
       "    </tr>\n",
       "    <tr>\n",
       "      <td>44</td>\n",
       "      <td>236</td>\n",
       "      <td>53305</td>\n",
       "      <td>2.0</td>\n",
       "      <td>100075632</td>\n",
       "      <td>[200, 10, 0.95]</td>\n",
       "      <td>2016-02-21</td>\n",
       "      <td>NaT</td>\n",
       "      <td>1</td>\n",
       "      <td>200:10</td>\n",
       "      <td>200.0</td>\n",
       "      <td>10.0</td>\n",
       "      <td>0.950</td>\n",
       "      <td>NaN</td>\n",
       "      <td>2016-02-21</td>\n",
       "    </tr>\n",
       "    <tr>\n",
       "      <td>45</td>\n",
       "      <td>236</td>\n",
       "      <td>53305</td>\n",
       "      <td>2.0</td>\n",
       "      <td>100181719</td>\n",
       "      <td>[50, 1, 0.98]</td>\n",
       "      <td>2016-02-21</td>\n",
       "      <td>NaT</td>\n",
       "      <td>1</td>\n",
       "      <td>50:1</td>\n",
       "      <td>50.0</td>\n",
       "      <td>1.0</td>\n",
       "      <td>0.980</td>\n",
       "      <td>NaN</td>\n",
       "      <td>2016-02-21</td>\n",
       "    </tr>\n",
       "    <tr>\n",
       "      <td>46</td>\n",
       "      <td>236</td>\n",
       "      <td>53305</td>\n",
       "      <td>2.0</td>\n",
       "      <td>100214552</td>\n",
       "      <td>[150, 5, 0.967]</td>\n",
       "      <td>2016-02-21</td>\n",
       "      <td>NaT</td>\n",
       "      <td>1</td>\n",
       "      <td>150:5</td>\n",
       "      <td>150.0</td>\n",
       "      <td>5.0</td>\n",
       "      <td>0.967</td>\n",
       "      <td>NaN</td>\n",
       "      <td>2016-02-21</td>\n",
       "    </tr>\n",
       "  </tbody>\n",
       "</table>\n",
       "</div>"
      ],
      "text/plain": [
       "    User_id  Merchant_id  Action  Coupon_id     Discount_rate Date_received  \\\n",
       "0         4        25104     2.0  100145044    [100, 10, 0.9]    2016-03-31   \n",
       "14      209        27710     1.0  100081876  [150, 10, 0.933]    2016-05-14   \n",
       "44      236        53305     2.0  100075632   [200, 10, 0.95]    2016-02-21   \n",
       "45      236        53305     2.0  100181719     [50, 1, 0.98]    2016-02-21   \n",
       "46      236        53305     2.0  100214552   [150, 5, 0.967]    2016-02-21   \n",
       "\n",
       "         Date  Count Discount  Original_price  Discounted_price   Rate  \\\n",
       "0         NaT      1   100:10           100.0              10.0  0.900   \n",
       "14 2016-05-14      1   150:10           150.0              10.0  0.933   \n",
       "44        NaT      1   200:10           200.0              10.0  0.950   \n",
       "45        NaT      1     50:1            50.0               1.0  0.980   \n",
       "46        NaT      1    150:5           150.0               5.0  0.967   \n",
       "\n",
       "    Distance  DateTrack  \n",
       "0        NaN 2016-03-31  \n",
       "14       NaN 2016-05-14  \n",
       "44       NaN 2016-02-21  \n",
       "45       NaN 2016-02-21  \n",
       "46       NaN 2016-02-21  "
      ]
     },
     "execution_count": 40,
     "metadata": {},
     "output_type": "execute_result"
    }
   ],
   "source": [
    "coupon_duration = df_train_coupon.copy()\n",
    "coupon_duration['DateTrack'] = coupon_duration['Date']\n",
    "coupon_duration.DateTrack.fillna(coupon_duration.Date_received, inplace=True)\n",
    "coupon_duration.head()"
   ]
  },
  {
   "cell_type": "code",
   "execution_count": 41,
   "metadata": {},
   "outputs": [
    {
     "data": {
      "text/html": [
       "<div>\n",
       "<style scoped>\n",
       "    .dataframe tbody tr th:only-of-type {\n",
       "        vertical-align: middle;\n",
       "    }\n",
       "\n",
       "    .dataframe tbody tr th {\n",
       "        vertical-align: top;\n",
       "    }\n",
       "\n",
       "    .dataframe thead th {\n",
       "        text-align: right;\n",
       "    }\n",
       "</style>\n",
       "<table border=\"1\" class=\"dataframe\">\n",
       "  <thead>\n",
       "    <tr style=\"text-align: right;\">\n",
       "      <th></th>\n",
       "      <th>Coupon_id</th>\n",
       "      <th>StartDate</th>\n",
       "      <th>EndDate</th>\n",
       "      <th>Duration</th>\n",
       "    </tr>\n",
       "  </thead>\n",
       "  <tbody>\n",
       "    <tr>\n",
       "      <td>0</td>\n",
       "      <td>1</td>\n",
       "      <td>2016-05-13</td>\n",
       "      <td>2016-06-06</td>\n",
       "      <td>24 days</td>\n",
       "    </tr>\n",
       "    <tr>\n",
       "      <td>1</td>\n",
       "      <td>10</td>\n",
       "      <td>2016-05-13</td>\n",
       "      <td>2016-05-31</td>\n",
       "      <td>18 days</td>\n",
       "    </tr>\n",
       "    <tr>\n",
       "      <td>2</td>\n",
       "      <td>100</td>\n",
       "      <td>2016-05-21</td>\n",
       "      <td>2016-06-12</td>\n",
       "      <td>22 days</td>\n",
       "    </tr>\n",
       "    <tr>\n",
       "      <td>3</td>\n",
       "      <td>1000</td>\n",
       "      <td>2016-01-17</td>\n",
       "      <td>2016-02-15</td>\n",
       "      <td>29 days</td>\n",
       "    </tr>\n",
       "    <tr>\n",
       "      <td>4</td>\n",
       "      <td>10000</td>\n",
       "      <td>2016-01-02</td>\n",
       "      <td>2016-02-18</td>\n",
       "      <td>47 days</td>\n",
       "    </tr>\n",
       "  </tbody>\n",
       "</table>\n",
       "</div>"
      ],
      "text/plain": [
       "  Coupon_id  StartDate    EndDate Duration\n",
       "0         1 2016-05-13 2016-06-06  24 days\n",
       "1        10 2016-05-13 2016-05-31  18 days\n",
       "2       100 2016-05-21 2016-06-12  22 days\n",
       "3      1000 2016-01-17 2016-02-15  29 days\n",
       "4     10000 2016-01-02 2016-02-18  47 days"
      ]
     },
     "execution_count": 41,
     "metadata": {},
     "output_type": "execute_result"
    }
   ],
   "source": [
    "coupon_duration_days =pd.DataFrame(coupon_duration.groupby(['Coupon_id'])['DateTrack'].agg(['min','max'])).reset_index()\n",
    "coupon_duration_days.columns = ['Coupon_id','StartDate', 'EndDate']\n",
    "coupon_duration_days['Duration'] = coupon_duration_days['EndDate'] - coupon_duration_days['StartDate']\n",
    "coupon_duration_days.head()"
   ]
  },
  {
   "cell_type": "code",
   "execution_count": 42,
   "metadata": {},
   "outputs": [
    {
     "data": {
      "text/html": [
       "<div>\n",
       "<style scoped>\n",
       "    .dataframe tbody tr th:only-of-type {\n",
       "        vertical-align: middle;\n",
       "    }\n",
       "\n",
       "    .dataframe tbody tr th {\n",
       "        vertical-align: top;\n",
       "    }\n",
       "\n",
       "    .dataframe thead th {\n",
       "        text-align: right;\n",
       "    }\n",
       "</style>\n",
       "<table border=\"1\" class=\"dataframe\">\n",
       "  <thead>\n",
       "    <tr style=\"text-align: right;\">\n",
       "      <th></th>\n",
       "      <th>Coupon_id</th>\n",
       "      <th>StartDate</th>\n",
       "      <th>EndDate</th>\n",
       "      <th>Duration</th>\n",
       "    </tr>\n",
       "  </thead>\n",
       "  <tbody>\n",
       "    <tr>\n",
       "      <td>0</td>\n",
       "      <td>1</td>\n",
       "      <td>2016-05-13</td>\n",
       "      <td>2016-06-06</td>\n",
       "      <td>24</td>\n",
       "    </tr>\n",
       "    <tr>\n",
       "      <td>1</td>\n",
       "      <td>10</td>\n",
       "      <td>2016-05-13</td>\n",
       "      <td>2016-05-31</td>\n",
       "      <td>18</td>\n",
       "    </tr>\n",
       "    <tr>\n",
       "      <td>2</td>\n",
       "      <td>100</td>\n",
       "      <td>2016-05-21</td>\n",
       "      <td>2016-06-12</td>\n",
       "      <td>22</td>\n",
       "    </tr>\n",
       "    <tr>\n",
       "      <td>3</td>\n",
       "      <td>1000</td>\n",
       "      <td>2016-01-17</td>\n",
       "      <td>2016-02-15</td>\n",
       "      <td>29</td>\n",
       "    </tr>\n",
       "    <tr>\n",
       "      <td>4</td>\n",
       "      <td>10000</td>\n",
       "      <td>2016-01-02</td>\n",
       "      <td>2016-02-18</td>\n",
       "      <td>47</td>\n",
       "    </tr>\n",
       "  </tbody>\n",
       "</table>\n",
       "</div>"
      ],
      "text/plain": [
       "  Coupon_id  StartDate    EndDate  Duration\n",
       "0         1 2016-05-13 2016-06-06        24\n",
       "1        10 2016-05-13 2016-05-31        18\n",
       "2       100 2016-05-21 2016-06-12        22\n",
       "3      1000 2016-01-17 2016-02-15        29\n",
       "4     10000 2016-01-02 2016-02-18        47"
      ]
     },
     "execution_count": 42,
     "metadata": {},
     "output_type": "execute_result"
    }
   ],
   "source": [
    "coupon_duration_days['Duration'] = coupon_duration_days['Duration'].dt.days.astype('str')\n",
    "coupon_duration_days['Duration'] = pd.to_numeric(coupon_duration_days['Duration'],errors=\"coerce\")\n",
    "coupon_duration_days.head()"
   ]
  },
  {
   "cell_type": "code",
   "execution_count": 43,
   "metadata": {},
   "outputs": [
    {
     "data": {
      "image/png": "[encoded data removed]",
      "text/plain": [
       "<Figure size 576x360 with 1 Axes>"
      ]
     },
     "metadata": {
      "needs_background": "light"
     },
     "output_type": "display_data"
    }
   ],
   "source": [
    "plt.figure(figsize=(8,5))\n",
    "ax = sns.distplot(coupon_duration_days['Duration'],kde=False,bins=26)\n",
    "plt.xlabel('Active Duration of Coupons(days)')\n",
    "plt.ylabel('Count of Coupons')\n",
    "plt.title('Coupon and their Duration time(days)')\n",
    "for p in ax.patches:\n",
    "    ax.annotate('{:.0f}'.format(p.get_height()), (p.get_x()+0.1, p.get_height()+50))"
   ]
  },
  {
   "cell_type": "code",
   "execution_count": 44,
   "metadata": {},
   "outputs": [
    {
     "data": {
      "text/plain": [
       "count    37485.000000\n",
       "mean        18.912632\n",
       "std         28.007978\n",
       "min          0.000000\n",
       "25%          1.000000\n",
       "50%          8.000000\n",
       "75%         25.000000\n",
       "max        177.000000\n",
       "Name: Duration, dtype: float64"
      ]
     },
     "execution_count": 44,
     "metadata": {},
     "output_type": "execute_result"
    }
   ],
   "source": [
    "coupon_duration_days['Duration'].describe()"
   ]
  },
  {
   "cell_type": "markdown",
   "metadata": {},
   "source": [
    "## Coupon and its redemption list"
   ]
  },
  {
   "cell_type": "code",
   "execution_count": 45,
   "metadata": {},
   "outputs": [
    {
     "data": {
      "text/html": [
       "<div>\n",
       "<style scoped>\n",
       "    .dataframe tbody tr th:only-of-type {\n",
       "        vertical-align: middle;\n",
       "    }\n",
       "\n",
       "    .dataframe tbody tr th {\n",
       "        vertical-align: top;\n",
       "    }\n",
       "\n",
       "    .dataframe thead th {\n",
       "        text-align: right;\n",
       "    }\n",
       "</style>\n",
       "<table border=\"1\" class=\"dataframe\">\n",
       "  <thead>\n",
       "    <tr style=\"text-align: right;\">\n",
       "      <th></th>\n",
       "      <th>User_id</th>\n",
       "      <th>Merchant_id</th>\n",
       "      <th>Action</th>\n",
       "      <th>Coupon_id</th>\n",
       "      <th>Discount_rate</th>\n",
       "      <th>Date_received</th>\n",
       "      <th>Date</th>\n",
       "      <th>Count</th>\n",
       "      <th>Discount</th>\n",
       "      <th>Original_price</th>\n",
       "      <th>Discounted_price</th>\n",
       "      <th>Rate</th>\n",
       "      <th>Distance</th>\n",
       "      <th>First_day</th>\n",
       "      <th>DayNum</th>\n",
       "    </tr>\n",
       "  </thead>\n",
       "  <tbody>\n",
       "    <tr>\n",
       "      <td>14</td>\n",
       "      <td>209</td>\n",
       "      <td>27710</td>\n",
       "      <td>1.0</td>\n",
       "      <td>100081876</td>\n",
       "      <td>[150, 10, 0.933]</td>\n",
       "      <td>2016-05-14</td>\n",
       "      <td>2016-05-14</td>\n",
       "      <td>1</td>\n",
       "      <td>150:10</td>\n",
       "      <td>150.0</td>\n",
       "      <td>10.0</td>\n",
       "      <td>0.933</td>\n",
       "      <td>NaN</td>\n",
       "      <td>2016-01-01</td>\n",
       "      <td>135</td>\n",
       "    </tr>\n",
       "    <tr>\n",
       "      <td>61</td>\n",
       "      <td>387</td>\n",
       "      <td>14305</td>\n",
       "      <td>1.0</td>\n",
       "      <td>100032161</td>\n",
       "      <td>[10, 5, 0.5]</td>\n",
       "      <td>2016-05-16</td>\n",
       "      <td>2016-05-20</td>\n",
       "      <td>1</td>\n",
       "      <td>10:5</td>\n",
       "      <td>10.0</td>\n",
       "      <td>5.0</td>\n",
       "      <td>0.500</td>\n",
       "      <td>NaN</td>\n",
       "      <td>2016-01-01</td>\n",
       "      <td>141</td>\n",
       "    </tr>\n",
       "    <tr>\n",
       "      <td>116</td>\n",
       "      <td>696</td>\n",
       "      <td>26705</td>\n",
       "      <td>1.0</td>\n",
       "      <td>100128459</td>\n",
       "      <td>[30, 20, 0.333]</td>\n",
       "      <td>2016-02-13</td>\n",
       "      <td>2016-02-13</td>\n",
       "      <td>1</td>\n",
       "      <td>30:20</td>\n",
       "      <td>30.0</td>\n",
       "      <td>20.0</td>\n",
       "      <td>0.333</td>\n",
       "      <td>NaN</td>\n",
       "      <td>2016-01-01</td>\n",
       "      <td>44</td>\n",
       "    </tr>\n",
       "    <tr>\n",
       "      <td>196</td>\n",
       "      <td>944</td>\n",
       "      <td>47311</td>\n",
       "      <td>1.0</td>\n",
       "      <td>100225309</td>\n",
       "      <td>[100, 5, 0.95]</td>\n",
       "      <td>2016-05-26</td>\n",
       "      <td>2016-05-26</td>\n",
       "      <td>1</td>\n",
       "      <td>100:5</td>\n",
       "      <td>100.0</td>\n",
       "      <td>5.0</td>\n",
       "      <td>0.950</td>\n",
       "      <td>NaN</td>\n",
       "      <td>2016-01-01</td>\n",
       "      <td>147</td>\n",
       "    </tr>\n",
       "    <tr>\n",
       "      <td>218</td>\n",
       "      <td>1202</td>\n",
       "      <td>18907</td>\n",
       "      <td>1.0</td>\n",
       "      <td>100102905</td>\n",
       "      <td>[300, 30, 0.9]</td>\n",
       "      <td>2016-02-25</td>\n",
       "      <td>2016-02-25</td>\n",
       "      <td>1</td>\n",
       "      <td>300:30</td>\n",
       "      <td>300.0</td>\n",
       "      <td>30.0</td>\n",
       "      <td>0.900</td>\n",
       "      <td>NaN</td>\n",
       "      <td>2016-01-01</td>\n",
       "      <td>56</td>\n",
       "    </tr>\n",
       "  </tbody>\n",
       "</table>\n",
       "</div>"
      ],
      "text/plain": [
       "     User_id  Merchant_id  Action  Coupon_id     Discount_rate Date_received  \\\n",
       "14       209        27710     1.0  100081876  [150, 10, 0.933]    2016-05-14   \n",
       "61       387        14305     1.0  100032161      [10, 5, 0.5]    2016-05-16   \n",
       "116      696        26705     1.0  100128459   [30, 20, 0.333]    2016-02-13   \n",
       "196      944        47311     1.0  100225309    [100, 5, 0.95]    2016-05-26   \n",
       "218     1202        18907     1.0  100102905    [300, 30, 0.9]    2016-02-25   \n",
       "\n",
       "          Date  Count Discount  Original_price  Discounted_price   Rate  \\\n",
       "14  2016-05-14      1   150:10           150.0              10.0  0.933   \n",
       "61  2016-05-20      1     10:5            10.0               5.0  0.500   \n",
       "116 2016-02-13      1    30:20            30.0              20.0  0.333   \n",
       "196 2016-05-26      1    100:5           100.0               5.0  0.950   \n",
       "218 2016-02-25      1   300:30           300.0              30.0  0.900   \n",
       "\n",
       "     Distance  First_day  DayNum  \n",
       "14        NaN 2016-01-01     135  \n",
       "61        NaN 2016-01-01     141  \n",
       "116       NaN 2016-01-01      44  \n",
       "196       NaN 2016-01-01     147  \n",
       "218       NaN 2016-01-01      56  "
      ]
     },
     "execution_count": 45,
     "metadata": {},
     "output_type": "execute_result"
    }
   ],
   "source": [
    "coupon_days = df_train_coupon[df_train_coupon['Date'].isna()==False]\n",
    "coupon_days['First_day'] = pd.to_datetime('20160101',format='%Y%m%d')\n",
    "coupon_days['DayNum'] = coupon_days['Date'] - coupon_days['First_day'] \n",
    "coupon_days['DayNum'] = coupon_days['DayNum'].dt.days.astype('str')\n",
    "coupon_days['DayNum'] = pd.to_numeric(coupon_days['DayNum'],errors=\"coerce\") + 1\n",
    "coupon_days.head()"
   ]
  },
  {
   "cell_type": "code",
   "execution_count": 46,
   "metadata": {},
   "outputs": [],
   "source": [
    "coupon_days = pd.DataFrame(coupon_days.groupby(['Coupon_id'])['DayNum'].apply(list).reset_index(name='RedemptionList'))"
   ]
  },
  {
   "cell_type": "code",
   "execution_count": 47,
   "metadata": {},
   "outputs": [
    {
     "data": {
      "text/html": [
       "<div>\n",
       "<style scoped>\n",
       "    .dataframe tbody tr th:only-of-type {\n",
       "        vertical-align: middle;\n",
       "    }\n",
       "\n",
       "    .dataframe tbody tr th {\n",
       "        vertical-align: top;\n",
       "    }\n",
       "\n",
       "    .dataframe thead th {\n",
       "        text-align: right;\n",
       "    }\n",
       "</style>\n",
       "<table border=\"1\" class=\"dataframe\">\n",
       "  <thead>\n",
       "    <tr style=\"text-align: right;\">\n",
       "      <th></th>\n",
       "      <th>Coupon_id</th>\n",
       "      <th>RedemptionList</th>\n",
       "    </tr>\n",
       "  </thead>\n",
       "  <tbody>\n",
       "    <tr>\n",
       "      <td>0</td>\n",
       "      <td>1</td>\n",
       "      <td>[154]</td>\n",
       "    </tr>\n",
       "    <tr>\n",
       "      <td>1</td>\n",
       "      <td>10</td>\n",
       "      <td>[136, 138, 139, 140, 141, 142, 143, 145, 146, ...</td>\n",
       "    </tr>\n",
       "    <tr>\n",
       "      <td>2</td>\n",
       "      <td>100</td>\n",
       "      <td>[142]</td>\n",
       "    </tr>\n",
       "    <tr>\n",
       "      <td>3</td>\n",
       "      <td>1000</td>\n",
       "      <td>[31, 32, 35, 37]</td>\n",
       "    </tr>\n",
       "    <tr>\n",
       "      <td>4</td>\n",
       "      <td>10000</td>\n",
       "      <td>[8, 12, 15, 16, 17, 25, 26, 27, 28, 31, 49]</td>\n",
       "    </tr>\n",
       "    <tr>\n",
       "      <td>...</td>\n",
       "      <td>...</td>\n",
       "      <td>...</td>\n",
       "    </tr>\n",
       "    <tr>\n",
       "      <td>23840</td>\n",
       "      <td>999</td>\n",
       "      <td>[151, 153, 154, 163]</td>\n",
       "    </tr>\n",
       "    <tr>\n",
       "      <td>23841</td>\n",
       "      <td>9993</td>\n",
       "      <td>[50, 58]</td>\n",
       "    </tr>\n",
       "    <tr>\n",
       "      <td>23842</td>\n",
       "      <td>9996</td>\n",
       "      <td>[144, 147, 149, 151, 153, 155, 159, 160, 161, ...</td>\n",
       "    </tr>\n",
       "    <tr>\n",
       "      <td>23843</td>\n",
       "      <td>9997</td>\n",
       "      <td>[141]</td>\n",
       "    </tr>\n",
       "    <tr>\n",
       "      <td>23844</td>\n",
       "      <td>fixed</td>\n",
       "      <td>[1, 2, 3, 4, 5, 6, 7, 8, 9, 10, 11, 12, 13, 14...</td>\n",
       "    </tr>\n",
       "  </tbody>\n",
       "</table>\n",
       "<p>23845 rows × 2 columns</p>\n",
       "</div>"
      ],
      "text/plain": [
       "      Coupon_id                                     RedemptionList\n",
       "0             1                                              [154]\n",
       "1            10  [136, 138, 139, 140, 141, 142, 143, 145, 146, ...\n",
       "2           100                                              [142]\n",
       "3          1000                                   [31, 32, 35, 37]\n",
       "4         10000        [8, 12, 15, 16, 17, 25, 26, 27, 28, 31, 49]\n",
       "...         ...                                                ...\n",
       "23840       999                               [151, 153, 154, 163]\n",
       "23841      9993                                           [50, 58]\n",
       "23842      9996  [144, 147, 149, 151, 153, 155, 159, 160, 161, ...\n",
       "23843      9997                                              [141]\n",
       "23844     fixed  [1, 2, 3, 4, 5, 6, 7, 8, 9, 10, 11, 12, 13, 14...\n",
       "\n",
       "[23845 rows x 2 columns]"
      ]
     },
     "execution_count": 47,
     "metadata": {},
     "output_type": "execute_result"
    }
   ],
   "source": [
    "coupon_days['RedemptionList'] = coupon_days['RedemptionList'].apply(lambda x : sorted(set(x)))\n",
    "coupon_days"
   ]
  },
  {
   "cell_type": "markdown",
   "metadata": {},
   "source": [
    "## Coupon Level Features"
   ]
  },
  {
   "cell_type": "code",
   "execution_count": 48,
   "metadata": {},
   "outputs": [
    {
     "data": {
      "text/html": [
       "<div>\n",
       "<style scoped>\n",
       "    .dataframe tbody tr th:only-of-type {\n",
       "        vertical-align: middle;\n",
       "    }\n",
       "\n",
       "    .dataframe tbody tr th {\n",
       "        vertical-align: top;\n",
       "    }\n",
       "\n",
       "    .dataframe thead th {\n",
       "        text-align: right;\n",
       "    }\n",
       "</style>\n",
       "<table border=\"1\" class=\"dataframe\">\n",
       "  <thead>\n",
       "    <tr style=\"text-align: right;\">\n",
       "      <th></th>\n",
       "      <th>Coupon_id</th>\n",
       "      <th>Coupon_Released</th>\n",
       "      <th>Coupon_Redeemed</th>\n",
       "      <th>Coupon_Ratio</th>\n",
       "    </tr>\n",
       "  </thead>\n",
       "  <tbody>\n",
       "    <tr>\n",
       "      <td>0</td>\n",
       "      <td>1</td>\n",
       "      <td>5</td>\n",
       "      <td>1</td>\n",
       "      <td>0.20</td>\n",
       "    </tr>\n",
       "    <tr>\n",
       "      <td>1</td>\n",
       "      <td>10</td>\n",
       "      <td>32</td>\n",
       "      <td>15</td>\n",
       "      <td>0.47</td>\n",
       "    </tr>\n",
       "    <tr>\n",
       "      <td>2</td>\n",
       "      <td>100</td>\n",
       "      <td>7</td>\n",
       "      <td>1</td>\n",
       "      <td>0.14</td>\n",
       "    </tr>\n",
       "    <tr>\n",
       "      <td>3</td>\n",
       "      <td>1000</td>\n",
       "      <td>38</td>\n",
       "      <td>4</td>\n",
       "      <td>0.11</td>\n",
       "    </tr>\n",
       "    <tr>\n",
       "      <td>4</td>\n",
       "      <td>10000</td>\n",
       "      <td>17</td>\n",
       "      <td>11</td>\n",
       "      <td>0.65</td>\n",
       "    </tr>\n",
       "    <tr>\n",
       "      <td>...</td>\n",
       "      <td>...</td>\n",
       "      <td>...</td>\n",
       "      <td>...</td>\n",
       "      <td>...</td>\n",
       "    </tr>\n",
       "    <tr>\n",
       "      <td>37480</td>\n",
       "      <td>9995</td>\n",
       "      <td>6</td>\n",
       "      <td>0</td>\n",
       "      <td>0.00</td>\n",
       "    </tr>\n",
       "    <tr>\n",
       "      <td>37481</td>\n",
       "      <td>9996</td>\n",
       "      <td>59</td>\n",
       "      <td>18</td>\n",
       "      <td>0.31</td>\n",
       "    </tr>\n",
       "    <tr>\n",
       "      <td>37482</td>\n",
       "      <td>9997</td>\n",
       "      <td>7</td>\n",
       "      <td>1</td>\n",
       "      <td>0.14</td>\n",
       "    </tr>\n",
       "    <tr>\n",
       "      <td>37483</td>\n",
       "      <td>9999</td>\n",
       "      <td>8</td>\n",
       "      <td>0</td>\n",
       "      <td>0.00</td>\n",
       "    </tr>\n",
       "    <tr>\n",
       "      <td>37484</td>\n",
       "      <td>fixed</td>\n",
       "      <td>117800</td>\n",
       "      <td>117800</td>\n",
       "      <td>1.00</td>\n",
       "    </tr>\n",
       "  </tbody>\n",
       "</table>\n",
       "<p>37485 rows × 4 columns</p>\n",
       "</div>"
      ],
      "text/plain": [
       "      Coupon_id  Coupon_Released  Coupon_Redeemed  Coupon_Ratio\n",
       "0             1                5                1          0.20\n",
       "1            10               32               15          0.47\n",
       "2           100                7                1          0.14\n",
       "3          1000               38                4          0.11\n",
       "4         10000               17               11          0.65\n",
       "...         ...              ...              ...           ...\n",
       "37480      9995                6                0          0.00\n",
       "37481      9996               59               18          0.31\n",
       "37482      9997                7                1          0.14\n",
       "37483      9999                8                0          0.00\n",
       "37484     fixed           117800           117800          1.00\n",
       "\n",
       "[37485 rows x 4 columns]"
      ]
     },
     "execution_count": 48,
     "metadata": {},
     "output_type": "execute_result"
    }
   ],
   "source": [
    "coupon_redemption"
   ]
  },
  {
   "cell_type": "code",
   "execution_count": 49,
   "metadata": {},
   "outputs": [
    {
     "data": {
      "text/html": [
       "<div>\n",
       "<style scoped>\n",
       "    .dataframe tbody tr th:only-of-type {\n",
       "        vertical-align: middle;\n",
       "    }\n",
       "\n",
       "    .dataframe tbody tr th {\n",
       "        vertical-align: top;\n",
       "    }\n",
       "\n",
       "    .dataframe thead th {\n",
       "        text-align: right;\n",
       "    }\n",
       "</style>\n",
       "<table border=\"1\" class=\"dataframe\">\n",
       "  <thead>\n",
       "    <tr style=\"text-align: right;\">\n",
       "      <th></th>\n",
       "      <th>Coupon_id</th>\n",
       "      <th>Coupon_Released</th>\n",
       "      <th>Coupon_Redeemed</th>\n",
       "      <th>Coupon_Ratio</th>\n",
       "      <th>Duration</th>\n",
       "      <th>RedemptionList</th>\n",
       "    </tr>\n",
       "  </thead>\n",
       "  <tbody>\n",
       "    <tr>\n",
       "      <td>0</td>\n",
       "      <td>1</td>\n",
       "      <td>5</td>\n",
       "      <td>1</td>\n",
       "      <td>0.20</td>\n",
       "      <td>24</td>\n",
       "      <td>[154]</td>\n",
       "    </tr>\n",
       "    <tr>\n",
       "      <td>1</td>\n",
       "      <td>10</td>\n",
       "      <td>32</td>\n",
       "      <td>15</td>\n",
       "      <td>0.47</td>\n",
       "      <td>18</td>\n",
       "      <td>[136, 138, 139, 140, 141, 142, 143, 145, 146, ...</td>\n",
       "    </tr>\n",
       "    <tr>\n",
       "      <td>2</td>\n",
       "      <td>100</td>\n",
       "      <td>7</td>\n",
       "      <td>1</td>\n",
       "      <td>0.14</td>\n",
       "      <td>22</td>\n",
       "      <td>[142]</td>\n",
       "    </tr>\n",
       "    <tr>\n",
       "      <td>3</td>\n",
       "      <td>1000</td>\n",
       "      <td>38</td>\n",
       "      <td>4</td>\n",
       "      <td>0.11</td>\n",
       "      <td>29</td>\n",
       "      <td>[31, 32, 35, 37]</td>\n",
       "    </tr>\n",
       "    <tr>\n",
       "      <td>4</td>\n",
       "      <td>10000</td>\n",
       "      <td>17</td>\n",
       "      <td>11</td>\n",
       "      <td>0.65</td>\n",
       "      <td>47</td>\n",
       "      <td>[8, 12, 15, 16, 17, 25, 26, 27, 28, 31, 49]</td>\n",
       "    </tr>\n",
       "    <tr>\n",
       "      <td>...</td>\n",
       "      <td>...</td>\n",
       "      <td>...</td>\n",
       "      <td>...</td>\n",
       "      <td>...</td>\n",
       "      <td>...</td>\n",
       "      <td>...</td>\n",
       "    </tr>\n",
       "    <tr>\n",
       "      <td>37480</td>\n",
       "      <td>9995</td>\n",
       "      <td>6</td>\n",
       "      <td>0</td>\n",
       "      <td>0.00</td>\n",
       "      <td>25</td>\n",
       "      <td>[]</td>\n",
       "    </tr>\n",
       "    <tr>\n",
       "      <td>37481</td>\n",
       "      <td>9996</td>\n",
       "      <td>59</td>\n",
       "      <td>18</td>\n",
       "      <td>0.31</td>\n",
       "      <td>40</td>\n",
       "      <td>[144, 147, 149, 151, 153, 155, 159, 160, 161, ...</td>\n",
       "    </tr>\n",
       "    <tr>\n",
       "      <td>37482</td>\n",
       "      <td>9997</td>\n",
       "      <td>7</td>\n",
       "      <td>1</td>\n",
       "      <td>0.14</td>\n",
       "      <td>27</td>\n",
       "      <td>[141]</td>\n",
       "    </tr>\n",
       "    <tr>\n",
       "      <td>37483</td>\n",
       "      <td>9999</td>\n",
       "      <td>8</td>\n",
       "      <td>0</td>\n",
       "      <td>0.00</td>\n",
       "      <td>31</td>\n",
       "      <td>[]</td>\n",
       "    </tr>\n",
       "    <tr>\n",
       "      <td>37484</td>\n",
       "      <td>fixed</td>\n",
       "      <td>117800</td>\n",
       "      <td>117800</td>\n",
       "      <td>1.00</td>\n",
       "      <td>166</td>\n",
       "      <td>[1, 2, 3, 4, 5, 6, 7, 8, 9, 10, 11, 12, 13, 14...</td>\n",
       "    </tr>\n",
       "  </tbody>\n",
       "</table>\n",
       "<p>37485 rows × 6 columns</p>\n",
       "</div>"
      ],
      "text/plain": [
       "      Coupon_id  Coupon_Released  Coupon_Redeemed  Coupon_Ratio  Duration  \\\n",
       "0             1                5                1          0.20        24   \n",
       "1            10               32               15          0.47        18   \n",
       "2           100                7                1          0.14        22   \n",
       "3          1000               38                4          0.11        29   \n",
       "4         10000               17               11          0.65        47   \n",
       "...         ...              ...              ...           ...       ...   \n",
       "37480      9995                6                0          0.00        25   \n",
       "37481      9996               59               18          0.31        40   \n",
       "37482      9997                7                1          0.14        27   \n",
       "37483      9999                8                0          0.00        31   \n",
       "37484     fixed           117800           117800          1.00       166   \n",
       "\n",
       "                                          RedemptionList  \n",
       "0                                                  [154]  \n",
       "1      [136, 138, 139, 140, 141, 142, 143, 145, 146, ...  \n",
       "2                                                  [142]  \n",
       "3                                       [31, 32, 35, 37]  \n",
       "4            [8, 12, 15, 16, 17, 25, 26, 27, 28, 31, 49]  \n",
       "...                                                  ...  \n",
       "37480                                                 []  \n",
       "37481  [144, 147, 149, 151, 153, 155, 159, 160, 161, ...  \n",
       "37482                                              [141]  \n",
       "37483                                                 []  \n",
       "37484  [1, 2, 3, 4, 5, 6, 7, 8, 9, 10, 11, 12, 13, 14...  \n",
       "\n",
       "[37485 rows x 6 columns]"
      ]
     },
     "execution_count": 49,
     "metadata": {},
     "output_type": "execute_result"
    }
   ],
   "source": [
    "coupon_level_data = coupon_redemption.merge(coupon_duration_days,how='left',on='Coupon_id')\n",
    "coupon_level_data = coupon_level_data.drop(columns=['StartDate','EndDate'])\n",
    "\n",
    "#Coupon Redemtion day list\n",
    "coupon_level_data = pd.merge(coupon_level_data,coupon_days,how='left',on='Coupon_id')\n",
    "for row in coupon_level_data.loc[coupon_level_data.RedemptionList.isnull(), 'RedemptionList'].index:\n",
    "    coupon_level_data.at[row, 'RedemptionList'] = []\n",
    "\n",
    "coupon_level_data"
   ]
  },
  {
   "cell_type": "code",
   "execution_count": 50,
   "metadata": {},
   "outputs": [],
   "source": [
    "coupon_level_data.to_csv('DataSets/DatasetsCreated/coupon_level.csv',index=False)"
   ]
  },
  {
   "cell_type": "code",
   "execution_count": 51,
   "metadata": {},
   "outputs": [
    {
     "data": {
      "text/plain": [
       "Coupon_id          0\n",
       "Coupon_Released    0\n",
       "Coupon_Redeemed    0\n",
       "Coupon_Ratio       0\n",
       "Duration           0\n",
       "RedemptionList     0\n",
       "dtype: int64"
      ]
     },
     "execution_count": 51,
     "metadata": {},
     "output_type": "execute_result"
    }
   ],
   "source": [
    "coupon_level_data.isna().sum()"
   ]
  },
  {
   "cell_type": "code",
   "execution_count": 52,
   "metadata": {},
   "outputs": [
    {
     "data": {
      "text/plain": [
       "(37485, 6)"
      ]
     },
     "execution_count": 52,
     "metadata": {},
     "output_type": "execute_result"
    }
   ],
   "source": [
    "coupon_level_data.shape"
   ]
  },
  {
   "cell_type": "code",
   "execution_count": 53,
   "metadata": {},
   "outputs": [
    {
     "data": {
      "text/plain": [
       "37485"
      ]
     },
     "execution_count": 53,
     "metadata": {},
     "output_type": "execute_result"
    }
   ],
   "source": [
    "df_train['Coupon_id'].nunique()"
   ]
  },
  {
   "cell_type": "code",
   "execution_count": 54,
   "metadata": {},
   "outputs": [
    {
     "data": {
      "text/html": [
       "<div>\n",
       "<style scoped>\n",
       "    .dataframe tbody tr th:only-of-type {\n",
       "        vertical-align: middle;\n",
       "    }\n",
       "\n",
       "    .dataframe tbody tr th {\n",
       "        vertical-align: top;\n",
       "    }\n",
       "\n",
       "    .dataframe thead th {\n",
       "        text-align: right;\n",
       "    }\n",
       "</style>\n",
       "<table border=\"1\" class=\"dataframe\">\n",
       "  <thead>\n",
       "    <tr style=\"text-align: right;\">\n",
       "      <th></th>\n",
       "      <th>Coupon_id</th>\n",
       "      <th>Coupon_Released</th>\n",
       "      <th>Coupon_Redeemed</th>\n",
       "      <th>Coupon_Ratio</th>\n",
       "      <th>Duration</th>\n",
       "      <th>RedemptionList</th>\n",
       "    </tr>\n",
       "  </thead>\n",
       "  <tbody>\n",
       "    <tr>\n",
       "      <td>37484</td>\n",
       "      <td>fixed</td>\n",
       "      <td>117800</td>\n",
       "      <td>117800</td>\n",
       "      <td>1.0</td>\n",
       "      <td>166</td>\n",
       "      <td>[1, 2, 3, 4, 5, 6, 7, 8, 9, 10, 11, 12, 13, 14...</td>\n",
       "    </tr>\n",
       "  </tbody>\n",
       "</table>\n",
       "</div>"
      ],
      "text/plain": [
       "      Coupon_id  Coupon_Released  Coupon_Redeemed  Coupon_Ratio  Duration  \\\n",
       "37484     fixed           117800           117800           1.0       166   \n",
       "\n",
       "                                          RedemptionList  \n",
       "37484  [1, 2, 3, 4, 5, 6, 7, 8, 9, 10, 11, 12, 13, 14...  "
      ]
     },
     "execution_count": 54,
     "metadata": {},
     "output_type": "execute_result"
    }
   ],
   "source": [
    "coupon_level_data[coupon_level_data['Coupon_id']=='fixed']"
   ]
  },
  {
   "cell_type": "code",
   "execution_count": null,
   "metadata": {},
   "outputs": [],
   "source": []
  }
 ],
 "metadata": {
  "kernelspec": {
   "display_name": "Python 3",
   "language": "python",
   "name": "python3"
  },
  "language_info": {
   "codemirror_mode": {
    "name": "ipython",
    "version": 3
   },
   "file_extension": ".py",
   "mimetype": "text/x-python",
   "name": "python",
   "nbconvert_exporter": "python",
   "pygments_lexer": "ipython3",
   "version": "3.7.4"
  }
 },
 "nbformat": 4,
 "nbformat_minor": 2
}
